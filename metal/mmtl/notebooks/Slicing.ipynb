{
 "cells": [
  {
   "cell_type": "code",
   "execution_count": 1,
   "metadata": {
    "scrolled": true
   },
   "outputs": [],
   "source": [
    "%load_ext autoreload\n",
    "%autoreload 2"
   ]
  },
  {
   "cell_type": "code",
   "execution_count": 2,
   "metadata": {},
   "outputs": [],
   "source": [
    "from metal.mmtl.trainer import MultitaskTrainer\n",
    "from metal.mmtl.glue.glue_tasks import create_glue_tasks_payloads\n",
    "from metal.mmtl.metal_model import MetalModel\n",
    "from metal.mmtl.slicing.slice_model import SliceModel"
   ]
  },
  {
   "cell_type": "code",
   "execution_count": 3,
   "metadata": {},
   "outputs": [],
   "source": [
    "SEED = 1"
   ]
  },
  {
   "cell_type": "markdown",
   "metadata": {},
   "source": [
    "### Initialize normal payloads"
   ]
  },
  {
   "cell_type": "code",
   "execution_count": 4,
   "metadata": {},
   "outputs": [],
   "source": [
    "task_kwargs = {\n",
    "    \"dl_kwargs\": {\"batch_size\": 8},\n",
    "    \"freeze_bert\":False,\n",
    "    \"bert_model\": 'bert-base-cased',\n",
    "    \"max_len\": 200,\n",
    "    \"attention\": False\n",
    "}\n",
    "task_names = [\"RTE\"]"
   ]
  },
  {
   "cell_type": "code",
   "execution_count": 5,
   "metadata": {
    "scrolled": false
   },
   "outputs": [
    {
     "name": "stdout",
     "output_type": "stream",
     "text": [
      "Using random seed: 161224\n",
      "Loading RTE Dataset\n"
     ]
    },
    {
     "data": {
      "application/vnd.jupyter.widget-view+json": {
       "model_id": "24fcd26a95dc4f5aa4708e4c8892435e",
       "version_major": 2,
       "version_minor": 0
      },
      "text/plain": [
       "HBox(children=(IntProgress(value=0, max=2490), HTML(value='')))"
      ]
     },
     "metadata": {},
     "output_type": "display_data"
    },
    {
     "name": "stdout",
     "output_type": "stream",
     "text": [
      "\n"
     ]
    },
    {
     "data": {
      "application/vnd.jupyter.widget-view+json": {
       "model_id": "02a5124a50294cab95122d418fde5b28",
       "version_major": 2,
       "version_minor": 0
      },
      "text/plain": [
       "HBox(children=(IntProgress(value=0, max=277), HTML(value='')))"
      ]
     },
     "metadata": {},
     "output_type": "display_data"
    },
    {
     "name": "stdout",
     "output_type": "stream",
     "text": [
      "\n"
     ]
    },
    {
     "data": {
      "application/vnd.jupyter.widget-view+json": {
       "model_id": "fce764efe5f84515a6eb0319af6204eb",
       "version_major": 2,
       "version_minor": 0
      },
      "text/plain": [
       "HBox(children=(IntProgress(value=0, max=3000), HTML(value='')))"
      ]
     },
     "metadata": {},
     "output_type": "display_data"
    },
    {
     "name": "stdout",
     "output_type": "stream",
     "text": [
      "\n",
      "CPU times: user 13.5 s, sys: 1.1 s, total: 14.6 s\n",
      "Wall time: 15.5 s\n"
     ]
    }
   ],
   "source": [
    "%%time\n",
    "\n",
    "# Create tasks and payloads\n",
    "tasks, payloads = create_glue_tasks_payloads(task_names, **task_kwargs)"
   ]
  },
  {
   "cell_type": "code",
   "execution_count": 6,
   "metadata": {
    "scrolled": false
   },
   "outputs": [
    {
     "data": {
      "text/plain": [
       "([ClassificationTask(name=RTE, loss_multiplier=1.00)],\n",
       " [Payload(RTE_train: labels_to_tasks=[{'RTE_gold': 'RTE'}], split=train),\n",
       "  Payload(RTE_valid: labels_to_tasks=[{'RTE_gold': 'RTE'}], split=valid),\n",
       "  Payload(RTE_test: labels_to_tasks=[{'RTE_gold': 'RTE'}], split=test)])"
      ]
     },
     "execution_count": 6,
     "metadata": {},
     "output_type": "execute_result"
    }
   ],
   "source": [
    "tasks, payloads"
   ]
  },
  {
   "cell_type": "markdown",
   "metadata": {},
   "source": [
    "### Initialize slice payloads"
   ]
  },
  {
   "cell_type": "code",
   "execution_count": 7,
   "metadata": {
    "scrolled": false
   },
   "outputs": [
    {
     "name": "stdout",
     "output_type": "stream",
     "text": [
      "Using random seed: 556582\n",
      "Loading RTE Dataset\n"
     ]
    },
    {
     "data": {
      "application/vnd.jupyter.widget-view+json": {
       "model_id": "89d9a32b98cf42b6b3705308e74dd567",
       "version_major": 2,
       "version_minor": 0
      },
      "text/plain": [
       "HBox(children=(IntProgress(value=0, max=2490), HTML(value='')))"
      ]
     },
     "metadata": {},
     "output_type": "display_data"
    },
    {
     "name": "stdout",
     "output_type": "stream",
     "text": [
      "\n"
     ]
    },
    {
     "data": {
      "application/vnd.jupyter.widget-view+json": {
       "model_id": "8a99111ebcdd4f46ab7d3bdbc704904c",
       "version_major": 2,
       "version_minor": 0
      },
      "text/plain": [
       "HBox(children=(IntProgress(value=0, max=277), HTML(value='')))"
      ]
     },
     "metadata": {},
     "output_type": "display_data"
    },
    {
     "name": "stdout",
     "output_type": "stream",
     "text": [
      "\n"
     ]
    },
    {
     "data": {
      "application/vnd.jupyter.widget-view+json": {
       "model_id": "c147c0f557664455b3eed8e7981e2090",
       "version_major": 2,
       "version_minor": 0
      },
      "text/plain": [
       "HBox(children=(IntProgress(value=0, max=3000), HTML(value='')))"
      ]
     },
     "metadata": {},
     "output_type": "display_data"
    },
    {
     "name": "stdout",
     "output_type": "stream",
     "text": [
      "\n",
      "Added label_set with 2490/2490 labels for task RTE_slice:dash_semicolon:ind to payload RTE_train.\n",
      "Added label_set with 1003/2490 labels for task RTE_slice:dash_semicolon:pred to payload RTE_train.\n",
      "Added label_set with 2490/2490 labels for task RTE_slice:more_people:ind to payload RTE_train.\n",
      "Added label_set with 64/2490 labels for task RTE_slice:more_people:pred to payload RTE_train.\n",
      "Added label_set with 2490/2490 labels for task RTE_slice:BASE:ind to payload RTE_train.\n",
      "Added label_set with 2490/2490 labels for task RTE_slice:BASE:pred to payload RTE_train.\n",
      "Added label_set with 277/277 labels for task RTE_slice:dash_semicolon:ind to payload RTE_valid.\n",
      "Added label_set with 116/277 labels for task RTE_slice:dash_semicolon:pred to payload RTE_valid.\n",
      "Added label_set with 277/277 labels for task RTE_slice:more_people:ind to payload RTE_valid.\n",
      "Added label_set with 12/277 labels for task RTE_slice:more_people:pred to payload RTE_valid.\n",
      "Added label_set with 277/277 labels for task RTE_slice:BASE:ind to payload RTE_valid.\n",
      "Added label_set with 277/277 labels for task RTE_slice:BASE:pred to payload RTE_valid.\n",
      "Added label_set with 3000/3000 labels for task RTE_slice:dash_semicolon:ind to payload RTE_test.\n",
      "Added label_set with 1103/3000 labels for task RTE_slice:dash_semicolon:pred to payload RTE_test.\n",
      "Added label_set with 3000/3000 labels for task RTE_slice:more_people:ind to payload RTE_test.\n",
      "Added label_set with 67/3000 labels for task RTE_slice:more_people:pred to payload RTE_test.\n",
      "Added label_set with 3000/3000 labels for task RTE_slice:BASE:ind to payload RTE_test.\n",
      "Added label_set with 3000/3000 labels for task RTE_slice:BASE:pred to payload RTE_test.\n"
     ]
    }
   ],
   "source": [
    "# Create tasks and payloads\n",
    "task_kwargs.update({\"slice_dict\": {\n",
    "    \"RTE\": [\"dash_semicolon\", \"more_people\", \"BASE\"]}\n",
    "})\n",
    "task_kwargs['attention'] = None\n",
    "\n",
    "tasks_slice, payloads_slice = create_glue_tasks_payloads(\n",
    "    task_names, **task_kwargs\n",
    ")"
   ]
  },
  {
   "cell_type": "code",
   "execution_count": 8,
   "metadata": {
    "scrolled": true
   },
   "outputs": [
    {
     "data": {
      "text/plain": [
       "([ClassificationTask(name=RTE, loss_multiplier=1.00),\n",
       "  ClassificationTask(name=RTE_slice:dash_semicolon:ind, loss_multiplier=0.17),\n",
       "  ClassificationTask(name=RTE_slice:dash_semicolon:pred, loss_multiplier=0.17),\n",
       "  ClassificationTask(name=RTE_slice:more_people:ind, loss_multiplier=0.17),\n",
       "  ClassificationTask(name=RTE_slice:more_people:pred, loss_multiplier=0.17),\n",
       "  ClassificationTask(name=RTE_slice:BASE:ind, loss_multiplier=0.17),\n",
       "  ClassificationTask(name=RTE_slice:BASE:pred, loss_multiplier=0.17)],\n",
       " [Payload(RTE_train: labels_to_tasks=[{'RTE_gold': 'RTE', 'RTE_slice:dash_semicolon:ind': 'RTE_slice:dash_semicolon:ind', 'RTE_slice:dash_semicolon:pred': 'RTE_slice:dash_semicolon:pred', 'RTE_slice:more_people:ind': 'RTE_slice:more_people:ind', 'RTE_slice:more_people:pred': 'RTE_slice:more_people:pred', 'RTE_slice:BASE:ind': 'RTE_slice:BASE:ind', 'RTE_slice:BASE:pred': 'RTE_slice:BASE:pred'}], split=train),\n",
       "  Payload(RTE_valid: labels_to_tasks=[{'RTE_gold': 'RTE', 'RTE_slice:dash_semicolon:ind': 'RTE_slice:dash_semicolon:ind', 'RTE_slice:dash_semicolon:pred': 'RTE_slice:dash_semicolon:pred', 'RTE_slice:more_people:ind': 'RTE_slice:more_people:ind', 'RTE_slice:more_people:pred': 'RTE_slice:more_people:pred', 'RTE_slice:BASE:ind': 'RTE_slice:BASE:ind', 'RTE_slice:BASE:pred': 'RTE_slice:BASE:pred'}], split=valid),\n",
       "  Payload(RTE_test: labels_to_tasks=[{'RTE_gold': 'RTE', 'RTE_slice:dash_semicolon:ind': 'RTE_slice:dash_semicolon:ind', 'RTE_slice:dash_semicolon:pred': 'RTE_slice:dash_semicolon:pred', 'RTE_slice:more_people:ind': 'RTE_slice:more_people:ind', 'RTE_slice:more_people:pred': 'RTE_slice:more_people:pred', 'RTE_slice:BASE:ind': 'RTE_slice:BASE:ind', 'RTE_slice:BASE:pred': 'RTE_slice:BASE:pred'}], split=test)])"
      ]
     },
     "execution_count": 8,
     "metadata": {},
     "output_type": "execute_result"
    }
   ],
   "source": [
    "tasks_slice, payloads_slice"
   ]
  },
  {
   "cell_type": "code",
   "execution_count": 9,
   "metadata": {},
   "outputs": [
    {
     "data": {
      "text/plain": [
       "tensor([[2, 1, 1,  ..., 2, 1, 2]])"
      ]
     },
     "execution_count": 9,
     "metadata": {},
     "output_type": "execute_result"
    }
   ],
   "source": [
    "payloads_slice[0].data_loader.dataset.labels['RTE_slice:BASE:pred'].view(1, -1)"
   ]
  },
  {
   "cell_type": "code",
   "execution_count": 10,
   "metadata": {},
   "outputs": [
    {
     "data": {
      "text/plain": [
       "tensor([[1, 1, 1,  ..., 1, 1, 1]], dtype=torch.uint8)"
      ]
     },
     "execution_count": 10,
     "metadata": {},
     "output_type": "execute_result"
    }
   ],
   "source": [
    "payloads_slice[0].data_loader.dataset.labels['RTE_slice:BASE:ind'].view(1, -1)"
   ]
  },
  {
   "cell_type": "code",
   "execution_count": 11,
   "metadata": {},
   "outputs": [
    {
     "data": {
      "text/plain": [
       "tensor([[0, 0, 0,  ..., 0, 1, 0]])"
      ]
     },
     "execution_count": 11,
     "metadata": {},
     "output_type": "execute_result"
    }
   ],
   "source": [
    "payloads_slice[0].data_loader.dataset.labels['RTE_slice:dash_semicolon:pred'].view(1, -1)"
   ]
  },
  {
   "cell_type": "code",
   "execution_count": 12,
   "metadata": {},
   "outputs": [
    {
     "data": {
      "text/plain": [
       "tensor([[2, 2, 2,  ..., 2, 1, 2]], dtype=torch.uint8)"
      ]
     },
     "execution_count": 12,
     "metadata": {},
     "output_type": "execute_result"
    }
   ],
   "source": [
    "payloads_slice[0].data_loader.dataset.labels['RTE_slice:dash_semicolon:ind'].view(1, -1)"
   ]
  },
  {
   "cell_type": "markdown",
   "metadata": {},
   "source": [
    "### Initialize and train baseline model "
   ]
  },
  {
   "cell_type": "code",
   "execution_count": 13,
   "metadata": {},
   "outputs": [],
   "source": [
    "model = MetalModel(tasks, seed=SEED, verbose=False)"
   ]
  },
  {
   "cell_type": "code",
   "execution_count": 14,
   "metadata": {
    "scrolled": false
   },
   "outputs": [
    {
     "name": "stdout",
     "output_type": "stream",
     "text": [
      "Beginning train loop.\n",
      "Expecting a total of approximately 2496 examples and 312 batches per epoch from 1 payload(s) in the train split.\n",
      "Writing config to /dfs/scratch0/vschen/metal-mmtl/logs/2019_04_23/00_47_39/config.json\n"
     ]
    },
    {
     "data": {
      "application/vnd.jupyter.widget-view+json": {
       "model_id": "8e0a45a40af7478aaba83e438d37f696",
       "version_major": 2,
       "version_minor": 0
      },
      "text/plain": [
       "HBox(children=(IntProgress(value=0, max=312), HTML(value='')))"
      ]
     },
     "metadata": {},
     "output_type": "display_data"
    },
    {
     "name": "stdout",
     "output_type": "stream",
     "text": [
      "[0.10 epo]: RTE:[RTE_train/RTE_gold/loss=6.90e-01, RTE_valid/RTE_gold/accuracy=5.45e-01] model:[train/all/loss=6.90e-01, train/all/lr=5.00e-05]\n",
      "Saving model at iteration 0.10 with best (max) score RTE/RTE_valid/RTE_gold/accuracy=0.545\n",
      "[0.21 epo]: RTE:[RTE_train/RTE_gold/loss=7.19e-01, RTE_valid/RTE_gold/accuracy=4.77e-01] model:[train/all/loss=7.19e-01, train/all/lr=5.00e-05]\n",
      "[0.31 epo]: RTE:[RTE_train/RTE_gold/loss=6.91e-01, RTE_valid/RTE_gold/accuracy=5.34e-01] model:[train/all/loss=6.91e-01, train/all/lr=5.00e-05]\n",
      "[0.41 epo]: RTE:[RTE_train/RTE_gold/loss=7.20e-01, RTE_valid/RTE_gold/accuracy=5.49e-01] model:[train/all/loss=7.20e-01, train/all/lr=5.00e-05]\n",
      "Saving model at iteration 0.41 with best (max) score RTE/RTE_valid/RTE_gold/accuracy=0.549\n",
      "[0.51 epo]: RTE:[RTE_train/RTE_gold/loss=6.71e-01, RTE_valid/RTE_gold/accuracy=5.99e-01] model:[train/all/loss=6.71e-01, train/all/lr=5.00e-05]\n",
      "Saving model at iteration 0.51 with best (max) score RTE/RTE_valid/RTE_gold/accuracy=0.599\n",
      "[0.62 epo]: RTE:[RTE_train/RTE_gold/loss=6.69e-01, RTE_valid/RTE_gold/accuracy=5.74e-01] model:[train/all/loss=6.69e-01, train/all/lr=5.00e-05]\n",
      "[0.72 epo]: RTE:[RTE_train/RTE_gold/loss=6.85e-01, RTE_valid/RTE_gold/accuracy=6.03e-01] model:[train/all/loss=6.85e-01, train/all/lr=5.00e-05]\n",
      "Saving model at iteration 0.72 with best (max) score RTE/RTE_valid/RTE_gold/accuracy=0.603\n",
      "[0.82 epo]: RTE:[RTE_train/RTE_gold/loss=6.87e-01, RTE_valid/RTE_gold/accuracy=5.99e-01] model:[train/all/loss=6.87e-01, train/all/lr=5.00e-05]\n",
      "[0.92 epo]: RTE:[RTE_train/RTE_gold/loss=6.47e-01, RTE_valid/RTE_gold/accuracy=6.32e-01] model:[train/all/loss=6.47e-01, train/all/lr=5.00e-05]\n",
      "Saving model at iteration 0.92 with best (max) score RTE/RTE_valid/RTE_gold/accuracy=0.632\n",
      "\n"
     ]
    },
    {
     "data": {
      "application/vnd.jupyter.widget-view+json": {
       "model_id": "74599da20a7046f289d0e8975c435cda",
       "version_major": 2,
       "version_minor": 0
      },
      "text/plain": [
       "HBox(children=(IntProgress(value=0, max=312), HTML(value='')))"
      ]
     },
     "metadata": {},
     "output_type": "display_data"
    },
    {
     "name": "stdout",
     "output_type": "stream",
     "text": [
      "[1.03 epo]: RTE:[RTE_train/RTE_gold/loss=6.25e-01, RTE_valid/RTE_gold/accuracy=6.32e-01] model:[train/all/loss=6.25e-01, train/all/lr=5.00e-05]\n",
      "[1.13 epo]: RTE:[RTE_train/RTE_gold/loss=5.52e-01, RTE_valid/RTE_gold/accuracy=6.53e-01] model:[train/all/loss=5.52e-01, train/all/lr=5.00e-05]\n",
      "Saving model at iteration 1.13 with best (max) score RTE/RTE_valid/RTE_gold/accuracy=0.653\n",
      "[1.23 epo]: RTE:[RTE_train/RTE_gold/loss=5.85e-01, RTE_valid/RTE_gold/accuracy=6.46e-01] model:[train/all/loss=5.85e-01, train/all/lr=5.00e-05]\n",
      "[1.33 epo]: RTE:[RTE_train/RTE_gold/loss=5.68e-01, RTE_valid/RTE_gold/accuracy=6.21e-01] model:[train/all/loss=5.68e-01, train/all/lr=5.00e-05]\n",
      "[1.44 epo]: RTE:[RTE_train/RTE_gold/loss=5.92e-01, RTE_valid/RTE_gold/accuracy=6.61e-01] model:[train/all/loss=5.92e-01, train/all/lr=5.00e-05]\n",
      "Saving model at iteration 1.44 with best (max) score RTE/RTE_valid/RTE_gold/accuracy=0.661\n",
      "[1.54 epo]: RTE:[RTE_train/RTE_gold/loss=5.81e-01, RTE_valid/RTE_gold/accuracy=6.35e-01] model:[train/all/loss=5.81e-01, train/all/lr=5.00e-05]\n",
      "[1.64 epo]: RTE:[RTE_train/RTE_gold/loss=5.59e-01, RTE_valid/RTE_gold/accuracy=6.93e-01] model:[train/all/loss=5.59e-01, train/all/lr=5.00e-05]\n",
      "Saving model at iteration 1.64 with best (max) score RTE/RTE_valid/RTE_gold/accuracy=0.693\n",
      "[1.74 epo]: RTE:[RTE_train/RTE_gold/loss=5.43e-01, RTE_valid/RTE_gold/accuracy=7.04e-01] model:[train/all/loss=5.43e-01, train/all/lr=5.00e-05]\n",
      "Saving model at iteration 1.74 with best (max) score RTE/RTE_valid/RTE_gold/accuracy=0.704\n",
      "[1.85 epo]: RTE:[RTE_train/RTE_gold/loss=5.66e-01, RTE_valid/RTE_gold/accuracy=6.68e-01] model:[train/all/loss=5.66e-01, train/all/lr=5.00e-05]\n",
      "[1.95 epo]: RTE:[RTE_train/RTE_gold/loss=5.68e-01, RTE_valid/RTE_gold/accuracy=6.32e-01] model:[train/all/loss=5.68e-01, train/all/lr=5.00e-05]\n",
      "\n"
     ]
    },
    {
     "data": {
      "application/vnd.jupyter.widget-view+json": {
       "model_id": "2ea84dd6bd7346dfac1a9fa49d5118ef",
       "version_major": 2,
       "version_minor": 0
      },
      "text/plain": [
       "HBox(children=(IntProgress(value=0, max=312), HTML(value='')))"
      ]
     },
     "metadata": {},
     "output_type": "display_data"
    },
    {
     "name": "stdout",
     "output_type": "stream",
     "text": [
      "[2.05 epo]: RTE:[RTE_train/RTE_gold/loss=5.37e-01, RTE_valid/RTE_gold/accuracy=6.61e-01] model:[train/all/loss=5.37e-01, train/all/lr=5.00e-05]\n",
      "[2.15 epo]: RTE:[RTE_train/RTE_gold/loss=3.62e-01, RTE_valid/RTE_gold/accuracy=6.90e-01] model:[train/all/loss=3.62e-01, train/all/lr=5.00e-05]\n",
      "[2.26 epo]: RTE:[RTE_train/RTE_gold/loss=3.26e-01, RTE_valid/RTE_gold/accuracy=6.71e-01] model:[train/all/loss=3.26e-01, train/all/lr=5.00e-05]\n",
      "[2.36 epo]: RTE:[RTE_train/RTE_gold/loss=4.77e-01, RTE_valid/RTE_gold/accuracy=6.68e-01] model:[train/all/loss=4.77e-01, train/all/lr=5.00e-05]\n",
      "[2.46 epo]: RTE:[RTE_train/RTE_gold/loss=4.62e-01, RTE_valid/RTE_gold/accuracy=6.64e-01] model:[train/all/loss=4.62e-01, train/all/lr=5.00e-05]\n",
      "[2.56 epo]: RTE:[RTE_train/RTE_gold/loss=4.29e-01, RTE_valid/RTE_gold/accuracy=6.71e-01] model:[train/all/loss=4.29e-01, train/all/lr=5.00e-05]\n",
      "[2.67 epo]: RTE:[RTE_train/RTE_gold/loss=4.83e-01, RTE_valid/RTE_gold/accuracy=6.86e-01] model:[train/all/loss=4.83e-01, train/all/lr=5.00e-05]\n",
      "[2.77 epo]: RTE:[RTE_train/RTE_gold/loss=3.74e-01, RTE_valid/RTE_gold/accuracy=7.11e-01] model:[train/all/loss=3.74e-01, train/all/lr=5.00e-05]\n",
      "Saving model at iteration 2.77 with best (max) score RTE/RTE_valid/RTE_gold/accuracy=0.711\n",
      "[2.87 epo]: RTE:[RTE_train/RTE_gold/loss=5.30e-01, RTE_valid/RTE_gold/accuracy=6.75e-01] model:[train/all/loss=5.30e-01, train/all/lr=5.00e-05]\n",
      "[2.97 epo]: RTE:[RTE_train/RTE_gold/loss=4.93e-01, RTE_valid/RTE_gold/accuracy=7.08e-01] model:[train/all/loss=4.93e-01, train/all/lr=5.00e-05]\n",
      "\n"
     ]
    },
    {
     "data": {
      "application/vnd.jupyter.widget-view+json": {
       "model_id": "5a3ab5284a9d47f2b273f429d1de339e",
       "version_major": 2,
       "version_minor": 0
      },
      "text/plain": [
       "HBox(children=(IntProgress(value=0, max=312), HTML(value='')))"
      ]
     },
     "metadata": {},
     "output_type": "display_data"
    },
    {
     "name": "stdout",
     "output_type": "stream",
     "text": [
      "[3.08 epo]: RTE:[RTE_train/RTE_gold/loss=2.75e-01, RTE_valid/RTE_gold/accuracy=6.86e-01] model:[train/all/loss=2.75e-01, train/all/lr=5.00e-05]\n",
      "[3.18 epo]: RTE:[RTE_train/RTE_gold/loss=2.67e-01, RTE_valid/RTE_gold/accuracy=6.46e-01] model:[train/all/loss=2.67e-01, train/all/lr=5.00e-05]\n",
      "[3.28 epo]: RTE:[RTE_train/RTE_gold/loss=4.75e-01, RTE_valid/RTE_gold/accuracy=7.15e-01] model:[train/all/loss=4.75e-01, train/all/lr=5.00e-05]\n",
      "Saving model at iteration 3.28 with best (max) score RTE/RTE_valid/RTE_gold/accuracy=0.715\n",
      "[3.38 epo]: RTE:[RTE_train/RTE_gold/loss=2.63e-01, RTE_valid/RTE_gold/accuracy=6.97e-01] model:[train/all/loss=2.63e-01, train/all/lr=5.00e-05]\n",
      "[3.49 epo]: RTE:[RTE_train/RTE_gold/loss=2.71e-01, RTE_valid/RTE_gold/accuracy=6.75e-01] model:[train/all/loss=2.71e-01, train/all/lr=5.00e-05]\n",
      "[3.59 epo]: RTE:[RTE_train/RTE_gold/loss=4.10e-01, RTE_valid/RTE_gold/accuracy=6.61e-01] model:[train/all/loss=4.10e-01, train/all/lr=5.00e-05]\n",
      "[3.69 epo]: RTE:[RTE_train/RTE_gold/loss=3.61e-01, RTE_valid/RTE_gold/accuracy=6.86e-01] model:[train/all/loss=3.61e-01, train/all/lr=5.00e-05]\n",
      "[3.79 epo]: RTE:[RTE_train/RTE_gold/loss=3.62e-01, RTE_valid/RTE_gold/accuracy=6.75e-01] model:[train/all/loss=3.62e-01, train/all/lr=5.00e-05]\n",
      "[3.90 epo]: RTE:[RTE_train/RTE_gold/loss=3.07e-01, RTE_valid/RTE_gold/accuracy=6.21e-01] model:[train/all/loss=3.07e-01, train/all/lr=5.00e-05]\n",
      "[4.0 epo]: RTE:[RTE_train/RTE_gold/loss=4.41e-01, RTE_valid/RTE_gold/accuracy=6.61e-01] model:[train/all/loss=4.41e-01, train/all/lr=5.00e-05]\n",
      "\n"
     ]
    },
    {
     "data": {
      "application/vnd.jupyter.widget-view+json": {
       "model_id": "52a4993e50744d97acbeae1c47f57755",
       "version_major": 2,
       "version_minor": 0
      },
      "text/plain": [
       "HBox(children=(IntProgress(value=0, max=312), HTML(value='')))"
      ]
     },
     "metadata": {},
     "output_type": "display_data"
    },
    {
     "name": "stdout",
     "output_type": "stream",
     "text": [
      "[4.10 epo]: RTE:[RTE_train/RTE_gold/loss=1.91e-01, RTE_valid/RTE_gold/accuracy=6.50e-01] model:[train/all/loss=1.91e-01, train/all/lr=5.00e-05]\n",
      "[4.21 epo]: RTE:[RTE_train/RTE_gold/loss=3.94e-01, RTE_valid/RTE_gold/accuracy=6.71e-01] model:[train/all/loss=3.94e-01, train/all/lr=5.00e-05]\n",
      "[4.31 epo]: RTE:[RTE_train/RTE_gold/loss=2.66e-01, RTE_valid/RTE_gold/accuracy=6.53e-01] model:[train/all/loss=2.66e-01, train/all/lr=5.00e-05]\n",
      "[4.41 epo]: RTE:[RTE_train/RTE_gold/loss=3.93e-01, RTE_valid/RTE_gold/accuracy=6.82e-01] model:[train/all/loss=3.93e-01, train/all/lr=5.00e-05]\n",
      "[4.51 epo]: RTE:[RTE_train/RTE_gold/loss=3.73e-01, RTE_valid/RTE_gold/accuracy=7.11e-01] model:[train/all/loss=3.73e-01, train/all/lr=5.00e-05]\n",
      "[4.62 epo]: RTE:[RTE_train/RTE_gold/loss=2.59e-01, RTE_valid/RTE_gold/accuracy=6.61e-01] model:[train/all/loss=2.59e-01, train/all/lr=5.00e-05]\n",
      "[4.72 epo]: RTE:[RTE_train/RTE_gold/loss=3.73e-01, RTE_valid/RTE_gold/accuracy=6.71e-01] model:[train/all/loss=3.73e-01, train/all/lr=5.00e-05]\n",
      "[4.82 epo]: RTE:[RTE_train/RTE_gold/loss=3.24e-01, RTE_valid/RTE_gold/accuracy=6.43e-01] model:[train/all/loss=3.24e-01, train/all/lr=5.00e-05]\n",
      "[4.92 epo]: RTE:[RTE_train/RTE_gold/loss=4.08e-01, RTE_valid/RTE_gold/accuracy=6.64e-01] model:[train/all/loss=4.08e-01, train/all/lr=5.00e-05]\n",
      "\n"
     ]
    },
    {
     "data": {
      "application/vnd.jupyter.widget-view+json": {
       "model_id": "fcf0042cec854e36b1d3c76f57153f04",
       "version_major": 2,
       "version_minor": 0
      },
      "text/plain": [
       "HBox(children=(IntProgress(value=0, max=312), HTML(value='')))"
      ]
     },
     "metadata": {},
     "output_type": "display_data"
    },
    {
     "name": "stdout",
     "output_type": "stream",
     "text": [
      "[5.03 epo]: RTE:[RTE_train/RTE_gold/loss=2.78e-01, RTE_valid/RTE_gold/accuracy=6.53e-01] model:[train/all/loss=2.78e-01, train/all/lr=5.00e-05]\n",
      "[5.13 epo]: RTE:[RTE_train/RTE_gold/loss=2.29e-01, RTE_valid/RTE_gold/accuracy=6.75e-01] model:[train/all/loss=2.29e-01, train/all/lr=5.00e-05]\n",
      "[5.23 epo]: RTE:[RTE_train/RTE_gold/loss=1.96e-01, RTE_valid/RTE_gold/accuracy=6.93e-01] model:[train/all/loss=1.96e-01, train/all/lr=5.00e-05]\n",
      "[5.33 epo]: RTE:[RTE_train/RTE_gold/loss=3.50e-01, RTE_valid/RTE_gold/accuracy=6.57e-01] model:[train/all/loss=3.50e-01, train/all/lr=5.00e-05]\n",
      "[5.44 epo]: RTE:[RTE_train/RTE_gold/loss=2.82e-01, RTE_valid/RTE_gold/accuracy=6.53e-01] model:[train/all/loss=2.82e-01, train/all/lr=5.00e-05]\n",
      "[5.54 epo]: RTE:[RTE_train/RTE_gold/loss=2.49e-01, RTE_valid/RTE_gold/accuracy=6.53e-01] model:[train/all/loss=2.49e-01, train/all/lr=5.00e-05]\n",
      "[5.64 epo]: RTE:[RTE_train/RTE_gold/loss=3.77e-01, RTE_valid/RTE_gold/accuracy=6.46e-01] model:[train/all/loss=3.77e-01, train/all/lr=5.00e-05]\n",
      "[5.74 epo]: RTE:[RTE_train/RTE_gold/loss=4.12e-01, RTE_valid/RTE_gold/accuracy=6.35e-01] model:[train/all/loss=4.12e-01, train/all/lr=5.00e-05]\n",
      "[5.85 epo]: RTE:[RTE_train/RTE_gold/loss=4.36e-01, RTE_valid/RTE_gold/accuracy=6.32e-01] model:[train/all/loss=4.36e-01, train/all/lr=5.00e-05]\n",
      "[5.95 epo]: RTE:[RTE_train/RTE_gold/loss=2.78e-01, RTE_valid/RTE_gold/accuracy=6.71e-01] model:[train/all/loss=2.78e-01, train/all/lr=5.00e-05]\n",
      "\n"
     ]
    },
    {
     "data": {
      "application/vnd.jupyter.widget-view+json": {
       "model_id": "0a30d642c7ed421ba30dd80c59bb3388",
       "version_major": 2,
       "version_minor": 0
      },
      "text/plain": [
       "HBox(children=(IntProgress(value=0, max=312), HTML(value='')))"
      ]
     },
     "metadata": {},
     "output_type": "display_data"
    },
    {
     "name": "stdout",
     "output_type": "stream",
     "text": [
      "[6.05 epo]: RTE:[RTE_train/RTE_gold/loss=2.95e-01, RTE_valid/RTE_gold/accuracy=6.71e-01] model:[train/all/loss=2.95e-01, train/all/lr=5.00e-05]\n",
      "[6.15 epo]: RTE:[RTE_train/RTE_gold/loss=2.17e-01, RTE_valid/RTE_gold/accuracy=6.28e-01] model:[train/all/loss=2.17e-01, train/all/lr=5.00e-05]\n",
      "[6.26 epo]: RTE:[RTE_train/RTE_gold/loss=2.42e-01, RTE_valid/RTE_gold/accuracy=6.57e-01] model:[train/all/loss=2.42e-01, train/all/lr=5.00e-05]\n",
      "[6.36 epo]: RTE:[RTE_train/RTE_gold/loss=2.94e-01, RTE_valid/RTE_gold/accuracy=6.57e-01] model:[train/all/loss=2.94e-01, train/all/lr=5.00e-05]\n",
      "[6.46 epo]: RTE:[RTE_train/RTE_gold/loss=4.70e-01, RTE_valid/RTE_gold/accuracy=6.57e-01] model:[train/all/loss=4.70e-01, train/all/lr=5.00e-05]\n",
      "[6.56 epo]: RTE:[RTE_train/RTE_gold/loss=3.27e-01, RTE_valid/RTE_gold/accuracy=6.50e-01] model:[train/all/loss=3.27e-01, train/all/lr=5.00e-05]\n",
      "[6.67 epo]: RTE:[RTE_train/RTE_gold/loss=4.15e-01, RTE_valid/RTE_gold/accuracy=6.28e-01] model:[train/all/loss=4.15e-01, train/all/lr=5.00e-05]\n",
      "[6.77 epo]: RTE:[RTE_train/RTE_gold/loss=3.33e-01, RTE_valid/RTE_gold/accuracy=6.39e-01] model:[train/all/loss=3.33e-01, train/all/lr=5.00e-05]\n",
      "[6.87 epo]: RTE:[RTE_train/RTE_gold/loss=3.45e-01, RTE_valid/RTE_gold/accuracy=6.46e-01] model:[train/all/loss=3.45e-01, train/all/lr=5.00e-05]\n",
      "[6.97 epo]: RTE:[RTE_train/RTE_gold/loss=3.59e-01, RTE_valid/RTE_gold/accuracy=6.35e-01] model:[train/all/loss=3.59e-01, train/all/lr=5.00e-05]\n",
      "\n"
     ]
    },
    {
     "data": {
      "application/vnd.jupyter.widget-view+json": {
       "model_id": "60c0fec4e96c4cc5bf2a0f05e060854f",
       "version_major": 2,
       "version_minor": 0
      },
      "text/plain": [
       "HBox(children=(IntProgress(value=0, max=312), HTML(value='')))"
      ]
     },
     "metadata": {},
     "output_type": "display_data"
    },
    {
     "name": "stdout",
     "output_type": "stream",
     "text": [
      "[7.08 epo]: RTE:[RTE_train/RTE_gold/loss=2.71e-01, RTE_valid/RTE_gold/accuracy=6.61e-01] model:[train/all/loss=2.71e-01, train/all/lr=5.00e-05]\n",
      "[7.18 epo]: RTE:[RTE_train/RTE_gold/loss=3.02e-01, RTE_valid/RTE_gold/accuracy=6.46e-01] model:[train/all/loss=3.02e-01, train/all/lr=5.00e-05]\n",
      "[7.28 epo]: RTE:[RTE_train/RTE_gold/loss=3.42e-01, RTE_valid/RTE_gold/accuracy=6.35e-01] model:[train/all/loss=3.42e-01, train/all/lr=5.00e-05]\n",
      "[7.38 epo]: RTE:[RTE_train/RTE_gold/loss=3.53e-01, RTE_valid/RTE_gold/accuracy=6.68e-01] model:[train/all/loss=3.53e-01, train/all/lr=5.00e-05]\n",
      "[7.49 epo]: RTE:[RTE_train/RTE_gold/loss=3.38e-01, RTE_valid/RTE_gold/accuracy=6.61e-01] model:[train/all/loss=3.38e-01, train/all/lr=5.00e-05]\n",
      "[7.59 epo]: RTE:[RTE_train/RTE_gold/loss=2.79e-01, RTE_valid/RTE_gold/accuracy=6.10e-01] model:[train/all/loss=2.79e-01, train/all/lr=5.00e-05]\n",
      "[7.69 epo]: RTE:[RTE_train/RTE_gold/loss=2.69e-01, RTE_valid/RTE_gold/accuracy=6.53e-01] model:[train/all/loss=2.69e-01, train/all/lr=5.00e-05]\n",
      "[7.79 epo]: RTE:[RTE_train/RTE_gold/loss=4.31e-01, RTE_valid/RTE_gold/accuracy=6.28e-01] model:[train/all/loss=4.31e-01, train/all/lr=5.00e-05]\n",
      "[7.90 epo]: RTE:[RTE_train/RTE_gold/loss=3.32e-01, RTE_valid/RTE_gold/accuracy=6.43e-01] model:[train/all/loss=3.32e-01, train/all/lr=5.00e-05]\n",
      "[8.0 epo]: RTE:[RTE_train/RTE_gold/loss=4.34e-01, RTE_valid/RTE_gold/accuracy=6.17e-01] model:[train/all/loss=4.34e-01, train/all/lr=5.00e-05]\n",
      "\n"
     ]
    },
    {
     "data": {
      "application/vnd.jupyter.widget-view+json": {
       "model_id": "b9e72cb7aaaf4055a1785eb56e7c1b82",
       "version_major": 2,
       "version_minor": 0
      },
      "text/plain": [
       "HBox(children=(IntProgress(value=0, max=312), HTML(value='')))"
      ]
     },
     "metadata": {},
     "output_type": "display_data"
    },
    {
     "name": "stdout",
     "output_type": "stream",
     "text": [
      "[8.10 epo]: RTE:[RTE_train/RTE_gold/loss=2.73e-01, RTE_valid/RTE_gold/accuracy=6.35e-01] model:[train/all/loss=2.73e-01, train/all/lr=5.00e-05]\n",
      "[8.21 epo]: RTE:[RTE_train/RTE_gold/loss=2.23e-01, RTE_valid/RTE_gold/accuracy=6.32e-01] model:[train/all/loss=2.23e-01, train/all/lr=5.00e-05]\n",
      "[8.31 epo]: RTE:[RTE_train/RTE_gold/loss=2.74e-01, RTE_valid/RTE_gold/accuracy=6.57e-01] model:[train/all/loss=2.74e-01, train/all/lr=5.00e-05]\n",
      "[8.41 epo]: RTE:[RTE_train/RTE_gold/loss=3.18e-01, RTE_valid/RTE_gold/accuracy=6.39e-01] model:[train/all/loss=3.18e-01, train/all/lr=5.00e-05]\n",
      "[8.51 epo]: RTE:[RTE_train/RTE_gold/loss=2.39e-01, RTE_valid/RTE_gold/accuracy=6.28e-01] model:[train/all/loss=2.39e-01, train/all/lr=5.00e-05]\n",
      "[8.62 epo]: RTE:[RTE_train/RTE_gold/loss=3.12e-01, RTE_valid/RTE_gold/accuracy=6.32e-01] model:[train/all/loss=3.12e-01, train/all/lr=5.00e-05]\n",
      "[8.72 epo]: RTE:[RTE_train/RTE_gold/loss=4.18e-01, RTE_valid/RTE_gold/accuracy=5.96e-01] model:[train/all/loss=4.18e-01, train/all/lr=5.00e-05]\n",
      "[8.82 epo]: RTE:[RTE_train/RTE_gold/loss=3.12e-01, RTE_valid/RTE_gold/accuracy=6.32e-01] model:[train/all/loss=3.12e-01, train/all/lr=5.00e-05]\n",
      "[8.92 epo]: RTE:[RTE_train/RTE_gold/loss=3.93e-01, RTE_valid/RTE_gold/accuracy=6.28e-01] model:[train/all/loss=3.93e-01, train/all/lr=5.00e-05]\n",
      "\n"
     ]
    },
    {
     "data": {
      "application/vnd.jupyter.widget-view+json": {
       "model_id": "bf6a0cfb0a9b436fb81f1aa5ccd7f378",
       "version_major": 2,
       "version_minor": 0
      },
      "text/plain": [
       "HBox(children=(IntProgress(value=0, max=312), HTML(value='')))"
      ]
     },
     "metadata": {},
     "output_type": "display_data"
    },
    {
     "name": "stdout",
     "output_type": "stream",
     "text": [
      "[9.03 epo]: RTE:[RTE_train/RTE_gold/loss=3.91e-01, RTE_valid/RTE_gold/accuracy=6.10e-01] model:[train/all/loss=3.91e-01, train/all/lr=5.00e-05]\n",
      "[9.13 epo]: RTE:[RTE_train/RTE_gold/loss=2.31e-01, RTE_valid/RTE_gold/accuracy=6.21e-01] model:[train/all/loss=2.31e-01, train/all/lr=5.00e-05]\n",
      "[9.23 epo]: RTE:[RTE_train/RTE_gold/loss=2.60e-01, RTE_valid/RTE_gold/accuracy=6.21e-01] model:[train/all/loss=2.60e-01, train/all/lr=5.00e-05]\n",
      "[9.33 epo]: RTE:[RTE_train/RTE_gold/loss=4.91e-01, RTE_valid/RTE_gold/accuracy=6.25e-01] model:[train/all/loss=4.91e-01, train/all/lr=5.00e-05]\n",
      "[9.44 epo]: RTE:[RTE_train/RTE_gold/loss=3.38e-01, RTE_valid/RTE_gold/accuracy=6.39e-01] model:[train/all/loss=3.38e-01, train/all/lr=5.00e-05]\n",
      "[9.54 epo]: RTE:[RTE_train/RTE_gold/loss=2.61e-01, RTE_valid/RTE_gold/accuracy=6.39e-01] model:[train/all/loss=2.61e-01, train/all/lr=5.00e-05]\n",
      "[9.64 epo]: RTE:[RTE_train/RTE_gold/loss=4.03e-01, RTE_valid/RTE_gold/accuracy=5.70e-01] model:[train/all/loss=4.03e-01, train/all/lr=5.00e-05]\n",
      "[9.74 epo]: RTE:[RTE_train/RTE_gold/loss=3.55e-01, RTE_valid/RTE_gold/accuracy=5.96e-01] model:[train/all/loss=3.55e-01, train/all/lr=5.00e-05]\n",
      "[9.85 epo]: RTE:[RTE_train/RTE_gold/loss=3.14e-01, RTE_valid/RTE_gold/accuracy=5.92e-01] model:[train/all/loss=3.14e-01, train/all/lr=5.00e-05]\n",
      "[9.95 epo]: RTE:[RTE_train/RTE_gold/loss=3.66e-01, RTE_valid/RTE_gold/accuracy=6.28e-01] model:[train/all/loss=3.66e-01, train/all/lr=5.00e-05]\n",
      "\n"
     ]
    },
    {
     "data": {
      "application/vnd.jupyter.widget-view+json": {
       "model_id": "c14b82f6a8c440c885065301d71ecafe",
       "version_major": 2,
       "version_minor": 0
      },
      "text/plain": [
       "HBox(children=(IntProgress(value=0, max=312), HTML(value='')))"
      ]
     },
     "metadata": {},
     "output_type": "display_data"
    },
    {
     "name": "stdout",
     "output_type": "stream",
     "text": [
      "[10.05 epo]: RTE:[RTE_train/RTE_gold/loss=4.39e-01, RTE_valid/RTE_gold/accuracy=6.14e-01] model:[train/all/loss=4.39e-01, train/all/lr=5.00e-05]\n",
      "[10.15 epo]: RTE:[RTE_train/RTE_gold/loss=2.41e-01, RTE_valid/RTE_gold/accuracy=6.25e-01] model:[train/all/loss=2.41e-01, train/all/lr=5.00e-05]\n",
      "[10.26 epo]: RTE:[RTE_train/RTE_gold/loss=2.83e-01, RTE_valid/RTE_gold/accuracy=6.25e-01] model:[train/all/loss=2.83e-01, train/all/lr=5.00e-05]\n",
      "[10.36 epo]: RTE:[RTE_train/RTE_gold/loss=2.55e-01, RTE_valid/RTE_gold/accuracy=6.28e-01] model:[train/all/loss=2.55e-01, train/all/lr=5.00e-05]\n",
      "[10.46 epo]: RTE:[RTE_train/RTE_gold/loss=3.65e-01, RTE_valid/RTE_gold/accuracy=5.85e-01] model:[train/all/loss=3.65e-01, train/all/lr=5.00e-05]\n",
      "[10.56 epo]: RTE:[RTE_train/RTE_gold/loss=5.08e-01, RTE_valid/RTE_gold/accuracy=6.28e-01] model:[train/all/loss=5.08e-01, train/all/lr=5.00e-05]\n",
      "[10.67 epo]: RTE:[RTE_train/RTE_gold/loss=3.79e-01, RTE_valid/RTE_gold/accuracy=6.25e-01] model:[train/all/loss=3.79e-01, train/all/lr=5.00e-05]\n",
      "[10.77 epo]: RTE:[RTE_train/RTE_gold/loss=3.96e-01, RTE_valid/RTE_gold/accuracy=6.50e-01] model:[train/all/loss=3.96e-01, train/all/lr=5.00e-05]\n",
      "[10.87 epo]: RTE:[RTE_train/RTE_gold/loss=3.54e-01, RTE_valid/RTE_gold/accuracy=6.43e-01] model:[train/all/loss=3.54e-01, train/all/lr=5.00e-05]\n",
      "[10.97 epo]: RTE:[RTE_train/RTE_gold/loss=3.55e-01, RTE_valid/RTE_gold/accuracy=6.21e-01] model:[train/all/loss=3.55e-01, train/all/lr=5.00e-05]\n",
      "\n"
     ]
    },
    {
     "data": {
      "application/vnd.jupyter.widget-view+json": {
       "model_id": "5ebc7d7e53174d1fb737b62aa6aee3dd",
       "version_major": 2,
       "version_minor": 0
      },
      "text/plain": [
       "HBox(children=(IntProgress(value=0, max=312), HTML(value='')))"
      ]
     },
     "metadata": {},
     "output_type": "display_data"
    },
    {
     "name": "stdout",
     "output_type": "stream",
     "text": [
      "[11.08 epo]: RTE:[RTE_train/RTE_gold/loss=2.95e-01, RTE_valid/RTE_gold/accuracy=6.50e-01] model:[train/all/loss=2.95e-01, train/all/lr=5.00e-05]\n",
      "[11.18 epo]: RTE:[RTE_train/RTE_gold/loss=1.91e-01, RTE_valid/RTE_gold/accuracy=5.88e-01] model:[train/all/loss=1.91e-01, train/all/lr=5.00e-05]\n",
      "[11.28 epo]: RTE:[RTE_train/RTE_gold/loss=4.43e-01, RTE_valid/RTE_gold/accuracy=6.25e-01] model:[train/all/loss=4.43e-01, train/all/lr=5.00e-05]\n",
      "[11.38 epo]: RTE:[RTE_train/RTE_gold/loss=4.84e-01, RTE_valid/RTE_gold/accuracy=5.96e-01] model:[train/all/loss=4.84e-01, train/all/lr=5.00e-05]\n",
      "[11.49 epo]: RTE:[RTE_train/RTE_gold/loss=3.58e-01, RTE_valid/RTE_gold/accuracy=6.14e-01] model:[train/all/loss=3.58e-01, train/all/lr=5.00e-05]\n",
      "[11.59 epo]: RTE:[RTE_train/RTE_gold/loss=3.28e-01, RTE_valid/RTE_gold/accuracy=5.96e-01] model:[train/all/loss=3.28e-01, train/all/lr=5.00e-05]\n",
      "[11.69 epo]: RTE:[RTE_train/RTE_gold/loss=3.80e-01, RTE_valid/RTE_gold/accuracy=6.28e-01] model:[train/all/loss=3.80e-01, train/all/lr=5.00e-05]\n",
      "[11.79 epo]: RTE:[RTE_train/RTE_gold/loss=3.63e-01, RTE_valid/RTE_gold/accuracy=6.14e-01] model:[train/all/loss=3.63e-01, train/all/lr=5.00e-05]\n",
      "[11.90 epo]: RTE:[RTE_train/RTE_gold/loss=4.27e-01, RTE_valid/RTE_gold/accuracy=6.14e-01] model:[train/all/loss=4.27e-01, train/all/lr=5.00e-05]\n",
      "[12.0 epo]: RTE:[RTE_train/RTE_gold/loss=3.85e-01, RTE_valid/RTE_gold/accuracy=6.21e-01] model:[train/all/loss=3.85e-01, train/all/lr=5.00e-05]\n",
      "\n"
     ]
    },
    {
     "data": {
      "application/vnd.jupyter.widget-view+json": {
       "model_id": "77b25fe2189a49de808dbe8148b0d350",
       "version_major": 2,
       "version_minor": 0
      },
      "text/plain": [
       "HBox(children=(IntProgress(value=0, max=312), HTML(value='')))"
      ]
     },
     "metadata": {},
     "output_type": "display_data"
    },
    {
     "name": "stdout",
     "output_type": "stream",
     "text": [
      "[12.10 epo]: RTE:[RTE_train/RTE_gold/loss=2.24e-01, RTE_valid/RTE_gold/accuracy=6.10e-01] model:[train/all/loss=2.24e-01, train/all/lr=5.00e-05]\n",
      "[12.21 epo]: RTE:[RTE_train/RTE_gold/loss=2.28e-01, RTE_valid/RTE_gold/accuracy=6.21e-01] model:[train/all/loss=2.28e-01, train/all/lr=5.00e-05]\n",
      "[12.31 epo]: RTE:[RTE_train/RTE_gold/loss=3.14e-01, RTE_valid/RTE_gold/accuracy=6.17e-01] model:[train/all/loss=3.14e-01, train/all/lr=5.00e-05]\n",
      "[12.41 epo]: RTE:[RTE_train/RTE_gold/loss=3.19e-01, RTE_valid/RTE_gold/accuracy=6.17e-01] model:[train/all/loss=3.19e-01, train/all/lr=5.00e-05]\n",
      "[12.51 epo]: RTE:[RTE_train/RTE_gold/loss=3.24e-01, RTE_valid/RTE_gold/accuracy=6.03e-01] model:[train/all/loss=3.24e-01, train/all/lr=5.00e-05]\n",
      "[12.62 epo]: RTE:[RTE_train/RTE_gold/loss=4.64e-01, RTE_valid/RTE_gold/accuracy=6.17e-01] model:[train/all/loss=4.64e-01, train/all/lr=5.00e-05]\n",
      "[12.72 epo]: RTE:[RTE_train/RTE_gold/loss=3.57e-01, RTE_valid/RTE_gold/accuracy=6.06e-01] model:[train/all/loss=3.57e-01, train/all/lr=5.00e-05]\n",
      "[12.82 epo]: RTE:[RTE_train/RTE_gold/loss=4.00e-01, RTE_valid/RTE_gold/accuracy=6.14e-01] model:[train/all/loss=4.00e-01, train/all/lr=5.00e-05]\n",
      "[12.92 epo]: RTE:[RTE_train/RTE_gold/loss=3.38e-01, RTE_valid/RTE_gold/accuracy=6.28e-01] model:[train/all/loss=3.38e-01, train/all/lr=5.00e-05]\n",
      "\n"
     ]
    },
    {
     "data": {
      "application/vnd.jupyter.widget-view+json": {
       "model_id": "866e40fd636345d0aa060899ef3c1db6",
       "version_major": 2,
       "version_minor": 0
      },
      "text/plain": [
       "HBox(children=(IntProgress(value=0, max=312), HTML(value='')))"
      ]
     },
     "metadata": {},
     "output_type": "display_data"
    },
    {
     "name": "stdout",
     "output_type": "stream",
     "text": [
      "[13.03 epo]: RTE:[RTE_train/RTE_gold/loss=3.91e-01, RTE_valid/RTE_gold/accuracy=6.21e-01] model:[train/all/loss=3.91e-01, train/all/lr=5.00e-05]\n",
      "[13.13 epo]: RTE:[RTE_train/RTE_gold/loss=2.50e-01, RTE_valid/RTE_gold/accuracy=6.25e-01] model:[train/all/loss=2.50e-01, train/all/lr=5.00e-05]\n",
      "[13.23 epo]: RTE:[RTE_train/RTE_gold/loss=3.88e-01, RTE_valid/RTE_gold/accuracy=6.43e-01] model:[train/all/loss=3.88e-01, train/all/lr=5.00e-05]\n",
      "[13.33 epo]: RTE:[RTE_train/RTE_gold/loss=2.65e-01, RTE_valid/RTE_gold/accuracy=6.06e-01] model:[train/all/loss=2.65e-01, train/all/lr=5.00e-05]\n",
      "[13.44 epo]: RTE:[RTE_train/RTE_gold/loss=2.75e-01, RTE_valid/RTE_gold/accuracy=6.28e-01] model:[train/all/loss=2.75e-01, train/all/lr=5.00e-05]\n",
      "[13.54 epo]: RTE:[RTE_train/RTE_gold/loss=5.03e-01, RTE_valid/RTE_gold/accuracy=6.14e-01] model:[train/all/loss=5.03e-01, train/all/lr=5.00e-05]\n",
      "[13.64 epo]: RTE:[RTE_train/RTE_gold/loss=3.53e-01, RTE_valid/RTE_gold/accuracy=6.06e-01] model:[train/all/loss=3.53e-01, train/all/lr=5.00e-05]\n",
      "[13.74 epo]: RTE:[RTE_train/RTE_gold/loss=4.65e-01, RTE_valid/RTE_gold/accuracy=5.70e-01] model:[train/all/loss=4.65e-01, train/all/lr=5.00e-05]\n",
      "[13.85 epo]: RTE:[RTE_train/RTE_gold/loss=3.47e-01, RTE_valid/RTE_gold/accuracy=6.03e-01] model:[train/all/loss=3.47e-01, train/all/lr=5.00e-05]\n",
      "[13.95 epo]: RTE:[RTE_train/RTE_gold/loss=3.63e-01, RTE_valid/RTE_gold/accuracy=6.17e-01] model:[train/all/loss=3.63e-01, train/all/lr=5.00e-05]\n",
      "\n"
     ]
    },
    {
     "data": {
      "application/vnd.jupyter.widget-view+json": {
       "model_id": "d4e1fb80815f4db6b832873a53128a43",
       "version_major": 2,
       "version_minor": 0
      },
      "text/plain": [
       "HBox(children=(IntProgress(value=0, max=312), HTML(value='')))"
      ]
     },
     "metadata": {},
     "output_type": "display_data"
    },
    {
     "name": "stdout",
     "output_type": "stream",
     "text": [
      "[14.05 epo]: RTE:[RTE_train/RTE_gold/loss=3.86e-01, RTE_valid/RTE_gold/accuracy=5.85e-01] model:[train/all/loss=3.86e-01, train/all/lr=5.00e-05]\n",
      "[14.15 epo]: RTE:[RTE_train/RTE_gold/loss=3.37e-01, RTE_valid/RTE_gold/accuracy=6.10e-01] model:[train/all/loss=3.37e-01, train/all/lr=5.00e-05]\n",
      "[14.26 epo]: RTE:[RTE_train/RTE_gold/loss=3.24e-01, RTE_valid/RTE_gold/accuracy=6.25e-01] model:[train/all/loss=3.24e-01, train/all/lr=5.00e-05]\n",
      "[14.36 epo]: RTE:[RTE_train/RTE_gold/loss=2.95e-01, RTE_valid/RTE_gold/accuracy=6.14e-01] model:[train/all/loss=2.95e-01, train/all/lr=5.00e-05]\n",
      "[14.46 epo]: RTE:[RTE_train/RTE_gold/loss=4.23e-01, RTE_valid/RTE_gold/accuracy=5.88e-01] model:[train/all/loss=4.23e-01, train/all/lr=5.00e-05]\n",
      "[14.56 epo]: RTE:[RTE_train/RTE_gold/loss=3.43e-01, RTE_valid/RTE_gold/accuracy=6.35e-01] model:[train/all/loss=3.43e-01, train/all/lr=5.00e-05]\n",
      "[14.67 epo]: RTE:[RTE_train/RTE_gold/loss=2.61e-01, RTE_valid/RTE_gold/accuracy=6.25e-01] model:[train/all/loss=2.61e-01, train/all/lr=5.00e-05]\n",
      "[14.77 epo]: RTE:[RTE_train/RTE_gold/loss=3.44e-01, RTE_valid/RTE_gold/accuracy=5.70e-01] model:[train/all/loss=3.44e-01, train/all/lr=5.00e-05]\n",
      "[14.87 epo]: RTE:[RTE_train/RTE_gold/loss=4.26e-01, RTE_valid/RTE_gold/accuracy=5.88e-01] model:[train/all/loss=4.26e-01, train/all/lr=5.00e-05]\n",
      "[14.97 epo]: RTE:[RTE_train/RTE_gold/loss=5.04e-01, RTE_valid/RTE_gold/accuracy=6.10e-01] model:[train/all/loss=5.04e-01, train/all/lr=5.00e-05]\n",
      "\n"
     ]
    },
    {
     "data": {
      "application/vnd.jupyter.widget-view+json": {
       "model_id": "dc20d66d7d1547eebd5e7f4be7cee7ef",
       "version_major": 2,
       "version_minor": 0
      },
      "text/plain": [
       "HBox(children=(IntProgress(value=0, max=312), HTML(value='')))"
      ]
     },
     "metadata": {},
     "output_type": "display_data"
    },
    {
     "name": "stdout",
     "output_type": "stream",
     "text": [
      "[15.08 epo]: RTE:[RTE_train/RTE_gold/loss=2.61e-01, RTE_valid/RTE_gold/accuracy=6.03e-01] model:[train/all/loss=2.61e-01, train/all/lr=5.00e-05]\n",
      "[15.18 epo]: RTE:[RTE_train/RTE_gold/loss=2.58e-01, RTE_valid/RTE_gold/accuracy=5.34e-01] model:[train/all/loss=2.58e-01, train/all/lr=5.00e-05]\n",
      "[15.28 epo]: RTE:[RTE_train/RTE_gold/loss=3.44e-01, RTE_valid/RTE_gold/accuracy=6.03e-01] model:[train/all/loss=3.44e-01, train/all/lr=5.00e-05]\n",
      "[15.38 epo]: RTE:[RTE_train/RTE_gold/loss=3.90e-01, RTE_valid/RTE_gold/accuracy=6.17e-01] model:[train/all/loss=3.90e-01, train/all/lr=5.00e-05]\n",
      "[15.49 epo]: RTE:[RTE_train/RTE_gold/loss=3.36e-01, RTE_valid/RTE_gold/accuracy=6.06e-01] model:[train/all/loss=3.36e-01, train/all/lr=5.00e-05]\n",
      "[15.59 epo]: RTE:[RTE_train/RTE_gold/loss=5.07e-01, RTE_valid/RTE_gold/accuracy=5.85e-01] model:[train/all/loss=5.07e-01, train/all/lr=5.00e-05]\n",
      "[15.69 epo]: RTE:[RTE_train/RTE_gold/loss=2.77e-01, RTE_valid/RTE_gold/accuracy=6.06e-01] model:[train/all/loss=2.77e-01, train/all/lr=5.00e-05]\n",
      "[15.79 epo]: RTE:[RTE_train/RTE_gold/loss=4.36e-01, RTE_valid/RTE_gold/accuracy=5.81e-01] model:[train/all/loss=4.36e-01, train/all/lr=5.00e-05]\n",
      "[15.90 epo]: RTE:[RTE_train/RTE_gold/loss=3.28e-01, RTE_valid/RTE_gold/accuracy=5.81e-01] model:[train/all/loss=3.28e-01, train/all/lr=5.00e-05]\n",
      "[16.0 epo]: RTE:[RTE_train/RTE_gold/loss=3.53e-01, RTE_valid/RTE_gold/accuracy=6.17e-01] model:[train/all/loss=3.53e-01, train/all/lr=5.00e-05]\n",
      "\n"
     ]
    },
    {
     "data": {
      "application/vnd.jupyter.widget-view+json": {
       "model_id": "d2d5d6ead80c42b1a2674d1e77f242c4",
       "version_major": 2,
       "version_minor": 0
      },
      "text/plain": [
       "HBox(children=(IntProgress(value=0, max=312), HTML(value='')))"
      ]
     },
     "metadata": {},
     "output_type": "display_data"
    },
    {
     "name": "stdout",
     "output_type": "stream",
     "text": [
      "[16.10 epo]: RTE:[RTE_train/RTE_gold/loss=3.11e-01, RTE_valid/RTE_gold/accuracy=5.92e-01] model:[train/all/loss=3.11e-01, train/all/lr=5.00e-05]\n",
      "[16.21 epo]: RTE:[RTE_train/RTE_gold/loss=3.15e-01, RTE_valid/RTE_gold/accuracy=5.81e-01] model:[train/all/loss=3.15e-01, train/all/lr=5.00e-05]\n",
      "[16.31 epo]: RTE:[RTE_train/RTE_gold/loss=3.61e-01, RTE_valid/RTE_gold/accuracy=5.92e-01] model:[train/all/loss=3.61e-01, train/all/lr=5.00e-05]\n",
      "[16.41 epo]: RTE:[RTE_train/RTE_gold/loss=3.16e-01, RTE_valid/RTE_gold/accuracy=5.96e-01] model:[train/all/loss=3.16e-01, train/all/lr=5.00e-05]\n",
      "[16.51 epo]: RTE:[RTE_train/RTE_gold/loss=3.55e-01, RTE_valid/RTE_gold/accuracy=6.17e-01] model:[train/all/loss=3.55e-01, train/all/lr=5.00e-05]\n",
      "[16.62 epo]: RTE:[RTE_train/RTE_gold/loss=3.44e-01, RTE_valid/RTE_gold/accuracy=5.92e-01] model:[train/all/loss=3.44e-01, train/all/lr=5.00e-05]\n",
      "[16.72 epo]: RTE:[RTE_train/RTE_gold/loss=4.05e-01, RTE_valid/RTE_gold/accuracy=5.99e-01] model:[train/all/loss=4.05e-01, train/all/lr=5.00e-05]\n",
      "[16.82 epo]: RTE:[RTE_train/RTE_gold/loss=3.48e-01, RTE_valid/RTE_gold/accuracy=6.03e-01] model:[train/all/loss=3.48e-01, train/all/lr=5.00e-05]\n",
      "[16.92 epo]: RTE:[RTE_train/RTE_gold/loss=4.58e-01, RTE_valid/RTE_gold/accuracy=5.99e-01] model:[train/all/loss=4.58e-01, train/all/lr=5.00e-05]\n",
      "\n"
     ]
    },
    {
     "data": {
      "application/vnd.jupyter.widget-view+json": {
       "model_id": "33144182e8154bc982084988c6b8b4b6",
       "version_major": 2,
       "version_minor": 0
      },
      "text/plain": [
       "HBox(children=(IntProgress(value=0, max=312), HTML(value='')))"
      ]
     },
     "metadata": {},
     "output_type": "display_data"
    },
    {
     "name": "stdout",
     "output_type": "stream",
     "text": [
      "[17.03 epo]: RTE:[RTE_train/RTE_gold/loss=5.01e-01, RTE_valid/RTE_gold/accuracy=6.03e-01] model:[train/all/loss=5.01e-01, train/all/lr=5.00e-05]\n",
      "[17.13 epo]: RTE:[RTE_train/RTE_gold/loss=2.98e-01, RTE_valid/RTE_gold/accuracy=5.67e-01] model:[train/all/loss=2.98e-01, train/all/lr=5.00e-05]\n",
      "[17.23 epo]: RTE:[RTE_train/RTE_gold/loss=3.18e-01, RTE_valid/RTE_gold/accuracy=5.85e-01] model:[train/all/loss=3.18e-01, train/all/lr=5.00e-05]\n",
      "[17.33 epo]: RTE:[RTE_train/RTE_gold/loss=3.62e-01, RTE_valid/RTE_gold/accuracy=5.78e-01] model:[train/all/loss=3.62e-01, train/all/lr=5.00e-05]\n",
      "[17.44 epo]: RTE:[RTE_train/RTE_gold/loss=3.03e-01, RTE_valid/RTE_gold/accuracy=5.92e-01] model:[train/all/loss=3.03e-01, train/all/lr=5.00e-05]\n",
      "[17.54 epo]: RTE:[RTE_train/RTE_gold/loss=3.42e-01, RTE_valid/RTE_gold/accuracy=5.92e-01] model:[train/all/loss=3.42e-01, train/all/lr=5.00e-05]\n",
      "[17.64 epo]: RTE:[RTE_train/RTE_gold/loss=3.47e-01, RTE_valid/RTE_gold/accuracy=5.99e-01] model:[train/all/loss=3.47e-01, train/all/lr=5.00e-05]\n",
      "[17.74 epo]: RTE:[RTE_train/RTE_gold/loss=3.65e-01, RTE_valid/RTE_gold/accuracy=6.14e-01] model:[train/all/loss=3.65e-01, train/all/lr=5.00e-05]\n",
      "[17.85 epo]: RTE:[RTE_train/RTE_gold/loss=4.70e-01, RTE_valid/RTE_gold/accuracy=5.70e-01] model:[train/all/loss=4.70e-01, train/all/lr=5.00e-05]\n",
      "[17.95 epo]: RTE:[RTE_train/RTE_gold/loss=3.96e-01, RTE_valid/RTE_gold/accuracy=5.96e-01] model:[train/all/loss=3.96e-01, train/all/lr=5.00e-05]\n",
      "\n"
     ]
    },
    {
     "data": {
      "application/vnd.jupyter.widget-view+json": {
       "model_id": "f85fdd3a3cea4bd9be9d39cf931d6062",
       "version_major": 2,
       "version_minor": 0
      },
      "text/plain": [
       "HBox(children=(IntProgress(value=0, max=312), HTML(value='')))"
      ]
     },
     "metadata": {},
     "output_type": "display_data"
    },
    {
     "name": "stdout",
     "output_type": "stream",
     "text": [
      "[18.05 epo]: RTE:[RTE_train/RTE_gold/loss=3.56e-01, RTE_valid/RTE_gold/accuracy=6.03e-01] model:[train/all/loss=3.56e-01, train/all/lr=5.00e-05]\n",
      "[18.15 epo]: RTE:[RTE_train/RTE_gold/loss=2.71e-01, RTE_valid/RTE_gold/accuracy=5.88e-01] model:[train/all/loss=2.71e-01, train/all/lr=5.00e-05]\n",
      "[18.26 epo]: RTE:[RTE_train/RTE_gold/loss=2.76e-01, RTE_valid/RTE_gold/accuracy=5.96e-01] model:[train/all/loss=2.76e-01, train/all/lr=5.00e-05]\n",
      "[18.36 epo]: RTE:[RTE_train/RTE_gold/loss=4.25e-01, RTE_valid/RTE_gold/accuracy=5.99e-01] model:[train/all/loss=4.25e-01, train/all/lr=5.00e-05]\n",
      "[18.46 epo]: RTE:[RTE_train/RTE_gold/loss=4.24e-01, RTE_valid/RTE_gold/accuracy=5.81e-01] model:[train/all/loss=4.24e-01, train/all/lr=5.00e-05]\n",
      "[18.56 epo]: RTE:[RTE_train/RTE_gold/loss=3.57e-01, RTE_valid/RTE_gold/accuracy=5.70e-01] model:[train/all/loss=3.57e-01, train/all/lr=5.00e-05]\n",
      "[18.67 epo]: RTE:[RTE_train/RTE_gold/loss=3.48e-01, RTE_valid/RTE_gold/accuracy=5.88e-01] model:[train/all/loss=3.48e-01, train/all/lr=5.00e-05]\n",
      "[18.77 epo]: RTE:[RTE_train/RTE_gold/loss=4.94e-01, RTE_valid/RTE_gold/accuracy=6.06e-01] model:[train/all/loss=4.94e-01, train/all/lr=5.00e-05]\n",
      "[18.87 epo]: RTE:[RTE_train/RTE_gold/loss=3.46e-01, RTE_valid/RTE_gold/accuracy=5.92e-01] model:[train/all/loss=3.46e-01, train/all/lr=5.00e-05]\n",
      "[18.97 epo]: RTE:[RTE_train/RTE_gold/loss=4.31e-01, RTE_valid/RTE_gold/accuracy=5.99e-01] model:[train/all/loss=4.31e-01, train/all/lr=5.00e-05]\n",
      "\n"
     ]
    },
    {
     "data": {
      "application/vnd.jupyter.widget-view+json": {
       "model_id": "68799496d0fc44369aff5a594679a5b0",
       "version_major": 2,
       "version_minor": 0
      },
      "text/plain": [
       "HBox(children=(IntProgress(value=0, max=312), HTML(value='')))"
      ]
     },
     "metadata": {},
     "output_type": "display_data"
    },
    {
     "name": "stdout",
     "output_type": "stream",
     "text": [
      "[19.08 epo]: RTE:[RTE_train/RTE_gold/loss=3.01e-01, RTE_valid/RTE_gold/accuracy=6.06e-01] model:[train/all/loss=3.01e-01, train/all/lr=5.00e-05]\n",
      "[19.18 epo]: RTE:[RTE_train/RTE_gold/loss=3.71e-01, RTE_valid/RTE_gold/accuracy=5.78e-01] model:[train/all/loss=3.71e-01, train/all/lr=5.00e-05]\n",
      "[19.28 epo]: RTE:[RTE_train/RTE_gold/loss=4.21e-01, RTE_valid/RTE_gold/accuracy=5.56e-01] model:[train/all/loss=4.21e-01, train/all/lr=5.00e-05]\n",
      "[19.38 epo]: RTE:[RTE_train/RTE_gold/loss=3.45e-01, RTE_valid/RTE_gold/accuracy=5.74e-01] model:[train/all/loss=3.45e-01, train/all/lr=5.00e-05]\n",
      "[19.49 epo]: RTE:[RTE_train/RTE_gold/loss=3.42e-01, RTE_valid/RTE_gold/accuracy=5.92e-01] model:[train/all/loss=3.42e-01, train/all/lr=5.00e-05]\n",
      "[19.59 epo]: RTE:[RTE_train/RTE_gold/loss=3.09e-01, RTE_valid/RTE_gold/accuracy=5.38e-01] model:[train/all/loss=3.09e-01, train/all/lr=5.00e-05]\n",
      "[19.69 epo]: RTE:[RTE_train/RTE_gold/loss=3.35e-01, RTE_valid/RTE_gold/accuracy=5.96e-01] model:[train/all/loss=3.35e-01, train/all/lr=5.00e-05]\n",
      "[19.79 epo]: RTE:[RTE_train/RTE_gold/loss=3.54e-01, RTE_valid/RTE_gold/accuracy=5.49e-01] model:[train/all/loss=3.54e-01, train/all/lr=5.00e-05]\n",
      "[19.90 epo]: RTE:[RTE_train/RTE_gold/loss=4.54e-01, RTE_valid/RTE_gold/accuracy=5.67e-01] model:[train/all/loss=4.54e-01, train/all/lr=5.00e-05]\n",
      "[20.0 epo]: RTE:[RTE_train/RTE_gold/loss=4.55e-01, RTE_valid/RTE_gold/accuracy=5.92e-01] model:[train/all/loss=4.55e-01, train/all/lr=5.00e-05]\n",
      "\n"
     ]
    },
    {
     "data": {
      "application/vnd.jupyter.widget-view+json": {
       "model_id": "913505847b3a49218d76a9feac0ec1fe",
       "version_major": 2,
       "version_minor": 0
      },
      "text/plain": [
       "HBox(children=(IntProgress(value=0, max=312), HTML(value='')))"
      ]
     },
     "metadata": {},
     "output_type": "display_data"
    },
    {
     "name": "stdout",
     "output_type": "stream",
     "text": [
      "[20.10 epo]: RTE:[RTE_train/RTE_gold/loss=3.70e-01, RTE_valid/RTE_gold/accuracy=5.96e-01] model:[train/all/loss=3.70e-01, train/all/lr=5.00e-05]\n",
      "[20.21 epo]: RTE:[RTE_train/RTE_gold/loss=4.28e-01, RTE_valid/RTE_gold/accuracy=5.56e-01] model:[train/all/loss=4.28e-01, train/all/lr=5.00e-05]\n",
      "[20.31 epo]: RTE:[RTE_train/RTE_gold/loss=3.82e-01, RTE_valid/RTE_gold/accuracy=5.60e-01] model:[train/all/loss=3.82e-01, train/all/lr=5.00e-05]\n",
      "[20.41 epo]: RTE:[RTE_train/RTE_gold/loss=3.89e-01, RTE_valid/RTE_gold/accuracy=5.70e-01] model:[train/all/loss=3.89e-01, train/all/lr=5.00e-05]\n",
      "[20.51 epo]: RTE:[RTE_train/RTE_gold/loss=4.21e-01, RTE_valid/RTE_gold/accuracy=5.56e-01] model:[train/all/loss=4.21e-01, train/all/lr=5.00e-05]\n",
      "[20.62 epo]: RTE:[RTE_train/RTE_gold/loss=4.50e-01, RTE_valid/RTE_gold/accuracy=5.60e-01] model:[train/all/loss=4.50e-01, train/all/lr=5.00e-05]\n",
      "[20.72 epo]: RTE:[RTE_train/RTE_gold/loss=3.89e-01, RTE_valid/RTE_gold/accuracy=5.74e-01] model:[train/all/loss=3.89e-01, train/all/lr=5.00e-05]\n",
      "[20.82 epo]: RTE:[RTE_train/RTE_gold/loss=4.32e-01, RTE_valid/RTE_gold/accuracy=5.81e-01] model:[train/all/loss=4.32e-01, train/all/lr=5.00e-05]\n",
      "[20.92 epo]: RTE:[RTE_train/RTE_gold/loss=3.94e-01, RTE_valid/RTE_gold/accuracy=5.85e-01] model:[train/all/loss=3.94e-01, train/all/lr=5.00e-05]\n",
      "\n"
     ]
    },
    {
     "data": {
      "application/vnd.jupyter.widget-view+json": {
       "model_id": "24ae37b6285146a6b3efa0e703067037",
       "version_major": 2,
       "version_minor": 0
      },
      "text/plain": [
       "HBox(children=(IntProgress(value=0, max=312), HTML(value='')))"
      ]
     },
     "metadata": {},
     "output_type": "display_data"
    },
    {
     "name": "stdout",
     "output_type": "stream",
     "text": [
      "[21.03 epo]: RTE:[RTE_train/RTE_gold/loss=4.55e-01, RTE_valid/RTE_gold/accuracy=5.67e-01] model:[train/all/loss=4.55e-01, train/all/lr=5.00e-05]\n",
      "[21.13 epo]: RTE:[RTE_train/RTE_gold/loss=4.65e-01, RTE_valid/RTE_gold/accuracy=5.63e-01] model:[train/all/loss=4.65e-01, train/all/lr=5.00e-05]\n",
      "[21.23 epo]: RTE:[RTE_train/RTE_gold/loss=4.07e-01, RTE_valid/RTE_gold/accuracy=5.63e-01] model:[train/all/loss=4.07e-01, train/all/lr=5.00e-05]\n",
      "[21.33 epo]: RTE:[RTE_train/RTE_gold/loss=3.64e-01, RTE_valid/RTE_gold/accuracy=5.81e-01] model:[train/all/loss=3.64e-01, train/all/lr=5.00e-05]\n",
      "[21.44 epo]: RTE:[RTE_train/RTE_gold/loss=4.60e-01, RTE_valid/RTE_gold/accuracy=5.88e-01] model:[train/all/loss=4.60e-01, train/all/lr=5.00e-05]\n",
      "[21.54 epo]: RTE:[RTE_train/RTE_gold/loss=4.19e-01, RTE_valid/RTE_gold/accuracy=5.92e-01] model:[train/all/loss=4.19e-01, train/all/lr=5.00e-05]\n",
      "[21.64 epo]: RTE:[RTE_train/RTE_gold/loss=3.99e-01, RTE_valid/RTE_gold/accuracy=5.96e-01] model:[train/all/loss=3.99e-01, train/all/lr=5.00e-05]\n",
      "[21.74 epo]: RTE:[RTE_train/RTE_gold/loss=3.41e-01, RTE_valid/RTE_gold/accuracy=5.74e-01] model:[train/all/loss=3.41e-01, train/all/lr=5.00e-05]\n",
      "[21.85 epo]: RTE:[RTE_train/RTE_gold/loss=4.05e-01, RTE_valid/RTE_gold/accuracy=5.96e-01] model:[train/all/loss=4.05e-01, train/all/lr=5.00e-05]\n",
      "[21.95 epo]: RTE:[RTE_train/RTE_gold/loss=4.92e-01, RTE_valid/RTE_gold/accuracy=5.85e-01] model:[train/all/loss=4.92e-01, train/all/lr=5.00e-05]\n",
      "\n"
     ]
    },
    {
     "data": {
      "application/vnd.jupyter.widget-view+json": {
       "model_id": "04c4d802adf848518369820d7e10f0ca",
       "version_major": 2,
       "version_minor": 0
      },
      "text/plain": [
       "HBox(children=(IntProgress(value=0, max=312), HTML(value='')))"
      ]
     },
     "metadata": {},
     "output_type": "display_data"
    },
    {
     "name": "stdout",
     "output_type": "stream",
     "text": [
      "[22.05 epo]: RTE:[RTE_train/RTE_gold/loss=4.01e-01, RTE_valid/RTE_gold/accuracy=5.74e-01] model:[train/all/loss=4.01e-01, train/all/lr=5.00e-05]\n",
      "[22.15 epo]: RTE:[RTE_train/RTE_gold/loss=3.86e-01, RTE_valid/RTE_gold/accuracy=5.67e-01] model:[train/all/loss=3.86e-01, train/all/lr=5.00e-05]\n",
      "[22.26 epo]: RTE:[RTE_train/RTE_gold/loss=4.27e-01, RTE_valid/RTE_gold/accuracy=6.10e-01] model:[train/all/loss=4.27e-01, train/all/lr=5.00e-05]\n",
      "[22.36 epo]: RTE:[RTE_train/RTE_gold/loss=3.65e-01, RTE_valid/RTE_gold/accuracy=5.85e-01] model:[train/all/loss=3.65e-01, train/all/lr=5.00e-05]\n",
      "[22.46 epo]: RTE:[RTE_train/RTE_gold/loss=4.51e-01, RTE_valid/RTE_gold/accuracy=5.74e-01] model:[train/all/loss=4.51e-01, train/all/lr=5.00e-05]\n",
      "[22.56 epo]: RTE:[RTE_train/RTE_gold/loss=3.75e-01, RTE_valid/RTE_gold/accuracy=5.49e-01] model:[train/all/loss=3.75e-01, train/all/lr=5.00e-05]\n",
      "[22.67 epo]: RTE:[RTE_train/RTE_gold/loss=4.65e-01, RTE_valid/RTE_gold/accuracy=5.85e-01] model:[train/all/loss=4.65e-01, train/all/lr=5.00e-05]\n",
      "[22.77 epo]: RTE:[RTE_train/RTE_gold/loss=4.95e-01, RTE_valid/RTE_gold/accuracy=5.42e-01] model:[train/all/loss=4.95e-01, train/all/lr=5.00e-05]\n",
      "[22.87 epo]: RTE:[RTE_train/RTE_gold/loss=4.86e-01, RTE_valid/RTE_gold/accuracy=5.49e-01] model:[train/all/loss=4.86e-01, train/all/lr=5.00e-05]\n",
      "[22.97 epo]: RTE:[RTE_train/RTE_gold/loss=4.81e-01, RTE_valid/RTE_gold/accuracy=5.45e-01] model:[train/all/loss=4.81e-01, train/all/lr=5.00e-05]\n",
      "\n"
     ]
    },
    {
     "data": {
      "application/vnd.jupyter.widget-view+json": {
       "model_id": "2fb6cfaa9a7a4bba8a9f18bc2daf45e1",
       "version_major": 2,
       "version_minor": 0
      },
      "text/plain": [
       "HBox(children=(IntProgress(value=0, max=312), HTML(value='')))"
      ]
     },
     "metadata": {},
     "output_type": "display_data"
    },
    {
     "name": "stdout",
     "output_type": "stream",
     "text": [
      "[23.08 epo]: RTE:[RTE_train/RTE_gold/loss=4.09e-01, RTE_valid/RTE_gold/accuracy=5.99e-01] model:[train/all/loss=4.09e-01, train/all/lr=5.00e-05]\n",
      "[23.18 epo]: RTE:[RTE_train/RTE_gold/loss=3.42e-01, RTE_valid/RTE_gold/accuracy=6.21e-01] model:[train/all/loss=3.42e-01, train/all/lr=5.00e-05]\n",
      "[23.28 epo]: RTE:[RTE_train/RTE_gold/loss=3.98e-01, RTE_valid/RTE_gold/accuracy=5.99e-01] model:[train/all/loss=3.98e-01, train/all/lr=5.00e-05]\n",
      "[23.38 epo]: RTE:[RTE_train/RTE_gold/loss=4.09e-01, RTE_valid/RTE_gold/accuracy=5.85e-01] model:[train/all/loss=4.09e-01, train/all/lr=5.00e-05]\n",
      "[23.49 epo]: RTE:[RTE_train/RTE_gold/loss=4.14e-01, RTE_valid/RTE_gold/accuracy=5.78e-01] model:[train/all/loss=4.14e-01, train/all/lr=5.00e-05]\n",
      "[23.59 epo]: RTE:[RTE_train/RTE_gold/loss=4.65e-01, RTE_valid/RTE_gold/accuracy=5.88e-01] model:[train/all/loss=4.65e-01, train/all/lr=5.00e-05]\n",
      "[23.69 epo]: RTE:[RTE_train/RTE_gold/loss=4.16e-01, RTE_valid/RTE_gold/accuracy=5.49e-01] model:[train/all/loss=4.16e-01, train/all/lr=5.00e-05]\n",
      "[23.79 epo]: RTE:[RTE_train/RTE_gold/loss=4.56e-01, RTE_valid/RTE_gold/accuracy=5.81e-01] model:[train/all/loss=4.56e-01, train/all/lr=5.00e-05]\n",
      "[23.90 epo]: RTE:[RTE_train/RTE_gold/loss=4.89e-01, RTE_valid/RTE_gold/accuracy=5.67e-01] model:[train/all/loss=4.89e-01, train/all/lr=5.00e-05]\n",
      "[24.0 epo]: RTE:[RTE_train/RTE_gold/loss=4.70e-01, RTE_valid/RTE_gold/accuracy=5.63e-01] model:[train/all/loss=4.70e-01, train/all/lr=5.00e-05]\n",
      "\n"
     ]
    },
    {
     "data": {
      "application/vnd.jupyter.widget-view+json": {
       "model_id": "dc11dea7d1c5431bb85239d65ac7e76c",
       "version_major": 2,
       "version_minor": 0
      },
      "text/plain": [
       "HBox(children=(IntProgress(value=0, max=312), HTML(value='')))"
      ]
     },
     "metadata": {},
     "output_type": "display_data"
    },
    {
     "name": "stdout",
     "output_type": "stream",
     "text": [
      "[24.10 epo]: RTE:[RTE_train/RTE_gold/loss=3.99e-01, RTE_valid/RTE_gold/accuracy=5.85e-01] model:[train/all/loss=3.99e-01, train/all/lr=5.00e-05]\n",
      "[24.21 epo]: RTE:[RTE_train/RTE_gold/loss=4.46e-01, RTE_valid/RTE_gold/accuracy=5.78e-01] model:[train/all/loss=4.46e-01, train/all/lr=5.00e-05]\n",
      "[24.31 epo]: RTE:[RTE_train/RTE_gold/loss=4.03e-01, RTE_valid/RTE_gold/accuracy=5.92e-01] model:[train/all/loss=4.03e-01, train/all/lr=5.00e-05]\n",
      "[24.41 epo]: RTE:[RTE_train/RTE_gold/loss=3.54e-01, RTE_valid/RTE_gold/accuracy=5.81e-01] model:[train/all/loss=3.54e-01, train/all/lr=5.00e-05]\n",
      "[24.51 epo]: RTE:[RTE_train/RTE_gold/loss=4.13e-01, RTE_valid/RTE_gold/accuracy=5.49e-01] model:[train/all/loss=4.13e-01, train/all/lr=5.00e-05]\n",
      "[24.62 epo]: RTE:[RTE_train/RTE_gold/loss=4.08e-01, RTE_valid/RTE_gold/accuracy=5.49e-01] model:[train/all/loss=4.08e-01, train/all/lr=5.00e-05]\n",
      "[24.72 epo]: RTE:[RTE_train/RTE_gold/loss=4.58e-01, RTE_valid/RTE_gold/accuracy=5.63e-01] model:[train/all/loss=4.58e-01, train/all/lr=5.00e-05]\n",
      "[24.82 epo]: RTE:[RTE_train/RTE_gold/loss=4.48e-01, RTE_valid/RTE_gold/accuracy=5.85e-01] model:[train/all/loss=4.48e-01, train/all/lr=5.00e-05]\n",
      "[24.92 epo]: RTE:[RTE_train/RTE_gold/loss=4.54e-01, RTE_valid/RTE_gold/accuracy=5.56e-01] model:[train/all/loss=4.54e-01, train/all/lr=5.00e-05]\n",
      "\n"
     ]
    },
    {
     "data": {
      "application/vnd.jupyter.widget-view+json": {
       "model_id": "358ce8e6da074e0f8e53c0467f9656da",
       "version_major": 2,
       "version_minor": 0
      },
      "text/plain": [
       "HBox(children=(IntProgress(value=0, max=312), HTML(value='')))"
      ]
     },
     "metadata": {},
     "output_type": "display_data"
    },
    {
     "name": "stdout",
     "output_type": "stream",
     "text": [
      "[25.03 epo]: RTE:[RTE_train/RTE_gold/loss=4.62e-01, RTE_valid/RTE_gold/accuracy=5.74e-01] model:[train/all/loss=4.62e-01, train/all/lr=5.00e-05]\n",
      "[25.13 epo]: RTE:[RTE_train/RTE_gold/loss=4.11e-01, RTE_valid/RTE_gold/accuracy=5.81e-01] model:[train/all/loss=4.11e-01, train/all/lr=5.00e-05]\n",
      "[25.23 epo]: RTE:[RTE_train/RTE_gold/loss=4.02e-01, RTE_valid/RTE_gold/accuracy=5.63e-01] model:[train/all/loss=4.02e-01, train/all/lr=5.00e-05]\n",
      "[25.33 epo]: RTE:[RTE_train/RTE_gold/loss=5.06e-01, RTE_valid/RTE_gold/accuracy=5.92e-01] model:[train/all/loss=5.06e-01, train/all/lr=5.00e-05]\n",
      "[25.44 epo]: RTE:[RTE_train/RTE_gold/loss=4.69e-01, RTE_valid/RTE_gold/accuracy=5.60e-01] model:[train/all/loss=4.69e-01, train/all/lr=5.00e-05]\n",
      "[25.54 epo]: RTE:[RTE_train/RTE_gold/loss=4.10e-01, RTE_valid/RTE_gold/accuracy=6.10e-01] model:[train/all/loss=4.10e-01, train/all/lr=5.00e-05]\n",
      "[25.64 epo]: RTE:[RTE_train/RTE_gold/loss=4.74e-01, RTE_valid/RTE_gold/accuracy=5.56e-01] model:[train/all/loss=4.74e-01, train/all/lr=5.00e-05]\n",
      "[25.74 epo]: RTE:[RTE_train/RTE_gold/loss=4.91e-01, RTE_valid/RTE_gold/accuracy=5.99e-01] model:[train/all/loss=4.91e-01, train/all/lr=5.00e-05]\n",
      "[25.85 epo]: RTE:[RTE_train/RTE_gold/loss=4.95e-01, RTE_valid/RTE_gold/accuracy=5.56e-01] model:[train/all/loss=4.95e-01, train/all/lr=5.00e-05]\n",
      "[25.95 epo]: RTE:[RTE_train/RTE_gold/loss=4.85e-01, RTE_valid/RTE_gold/accuracy=5.42e-01] model:[train/all/loss=4.85e-01, train/all/lr=5.00e-05]\n",
      "\n"
     ]
    },
    {
     "data": {
      "application/vnd.jupyter.widget-view+json": {
       "model_id": "8e604b57f9dd4cc3a2cbe5609d789741",
       "version_major": 2,
       "version_minor": 0
      },
      "text/plain": [
       "HBox(children=(IntProgress(value=0, max=312), HTML(value='')))"
      ]
     },
     "metadata": {},
     "output_type": "display_data"
    },
    {
     "name": "stdout",
     "output_type": "stream",
     "text": [
      "[26.05 epo]: RTE:[RTE_train/RTE_gold/loss=3.40e-01, RTE_valid/RTE_gold/accuracy=5.16e-01] model:[train/all/loss=3.40e-01, train/all/lr=5.00e-05]\n",
      "[26.15 epo]: RTE:[RTE_train/RTE_gold/loss=4.87e-01, RTE_valid/RTE_gold/accuracy=5.63e-01] model:[train/all/loss=4.87e-01, train/all/lr=5.00e-05]\n",
      "[26.26 epo]: RTE:[RTE_train/RTE_gold/loss=4.18e-01, RTE_valid/RTE_gold/accuracy=5.52e-01] model:[train/all/loss=4.18e-01, train/all/lr=5.00e-05]\n",
      "[26.36 epo]: RTE:[RTE_train/RTE_gold/loss=4.44e-01, RTE_valid/RTE_gold/accuracy=5.63e-01] model:[train/all/loss=4.44e-01, train/all/lr=5.00e-05]\n",
      "[26.46 epo]: RTE:[RTE_train/RTE_gold/loss=4.17e-01, RTE_valid/RTE_gold/accuracy=5.81e-01] model:[train/all/loss=4.17e-01, train/all/lr=5.00e-05]\n",
      "[26.56 epo]: RTE:[RTE_train/RTE_gold/loss=5.04e-01, RTE_valid/RTE_gold/accuracy=5.23e-01] model:[train/all/loss=5.04e-01, train/all/lr=5.00e-05]\n",
      "[26.67 epo]: RTE:[RTE_train/RTE_gold/loss=4.31e-01, RTE_valid/RTE_gold/accuracy=5.63e-01] model:[train/all/loss=4.31e-01, train/all/lr=5.00e-05]\n",
      "[26.77 epo]: RTE:[RTE_train/RTE_gold/loss=4.54e-01, RTE_valid/RTE_gold/accuracy=5.67e-01] model:[train/all/loss=4.54e-01, train/all/lr=5.00e-05]\n",
      "[26.87 epo]: RTE:[RTE_train/RTE_gold/loss=4.73e-01, RTE_valid/RTE_gold/accuracy=5.34e-01] model:[train/all/loss=4.73e-01, train/all/lr=5.00e-05]\n",
      "[26.97 epo]: RTE:[RTE_train/RTE_gold/loss=4.94e-01, RTE_valid/RTE_gold/accuracy=5.34e-01] model:[train/all/loss=4.94e-01, train/all/lr=5.00e-05]\n",
      "\n"
     ]
    },
    {
     "data": {
      "application/vnd.jupyter.widget-view+json": {
       "model_id": "4c05730d7f3b4dc18a263d46cb77d9a0",
       "version_major": 2,
       "version_minor": 0
      },
      "text/plain": [
       "HBox(children=(IntProgress(value=0, max=312), HTML(value='')))"
      ]
     },
     "metadata": {},
     "output_type": "display_data"
    },
    {
     "name": "stdout",
     "output_type": "stream",
     "text": [
      "[27.08 epo]: RTE:[RTE_train/RTE_gold/loss=4.82e-01, RTE_valid/RTE_gold/accuracy=5.70e-01] model:[train/all/loss=4.82e-01, train/all/lr=5.00e-05]\n",
      "[27.18 epo]: RTE:[RTE_train/RTE_gold/loss=4.55e-01, RTE_valid/RTE_gold/accuracy=5.45e-01] model:[train/all/loss=4.55e-01, train/all/lr=5.00e-05]\n",
      "[27.28 epo]: RTE:[RTE_train/RTE_gold/loss=5.24e-01, RTE_valid/RTE_gold/accuracy=5.45e-01] model:[train/all/loss=5.24e-01, train/all/lr=5.00e-05]\n",
      "[27.38 epo]: RTE:[RTE_train/RTE_gold/loss=4.75e-01, RTE_valid/RTE_gold/accuracy=5.52e-01] model:[train/all/loss=4.75e-01, train/all/lr=5.00e-05]\n",
      "[27.49 epo]: RTE:[RTE_train/RTE_gold/loss=4.02e-01, RTE_valid/RTE_gold/accuracy=5.60e-01] model:[train/all/loss=4.02e-01, train/all/lr=5.00e-05]\n",
      "[27.59 epo]: RTE:[RTE_train/RTE_gold/loss=4.22e-01, RTE_valid/RTE_gold/accuracy=5.67e-01] model:[train/all/loss=4.22e-01, train/all/lr=5.00e-05]\n",
      "[27.69 epo]: RTE:[RTE_train/RTE_gold/loss=4.24e-01, RTE_valid/RTE_gold/accuracy=5.70e-01] model:[train/all/loss=4.24e-01, train/all/lr=5.00e-05]\n",
      "[27.79 epo]: RTE:[RTE_train/RTE_gold/loss=5.63e-01, RTE_valid/RTE_gold/accuracy=5.70e-01] model:[train/all/loss=5.63e-01, train/all/lr=5.00e-05]\n",
      "[27.90 epo]: RTE:[RTE_train/RTE_gold/loss=5.53e-01, RTE_valid/RTE_gold/accuracy=5.56e-01] model:[train/all/loss=5.53e-01, train/all/lr=5.00e-05]\n",
      "[28.0 epo]: RTE:[RTE_train/RTE_gold/loss=4.56e-01, RTE_valid/RTE_gold/accuracy=5.38e-01] model:[train/all/loss=4.56e-01, train/all/lr=5.00e-05]\n",
      "\n"
     ]
    },
    {
     "data": {
      "application/vnd.jupyter.widget-view+json": {
       "model_id": "cb2dcf0d8aad4d08a8816e5d410197d0",
       "version_major": 2,
       "version_minor": 0
      },
      "text/plain": [
       "HBox(children=(IntProgress(value=0, max=312), HTML(value='')))"
      ]
     },
     "metadata": {},
     "output_type": "display_data"
    },
    {
     "name": "stdout",
     "output_type": "stream",
     "text": [
      "[28.10 epo]: RTE:[RTE_train/RTE_gold/loss=4.07e-01, RTE_valid/RTE_gold/accuracy=5.45e-01] model:[train/all/loss=4.07e-01, train/all/lr=5.00e-05]\n",
      "[28.21 epo]: RTE:[RTE_train/RTE_gold/loss=4.33e-01, RTE_valid/RTE_gold/accuracy=5.74e-01] model:[train/all/loss=4.33e-01, train/all/lr=5.00e-05]\n",
      "[28.31 epo]: RTE:[RTE_train/RTE_gold/loss=4.10e-01, RTE_valid/RTE_gold/accuracy=5.13e-01] model:[train/all/loss=4.10e-01, train/all/lr=5.00e-05]\n",
      "[28.41 epo]: RTE:[RTE_train/RTE_gold/loss=4.30e-01, RTE_valid/RTE_gold/accuracy=5.20e-01] model:[train/all/loss=4.30e-01, train/all/lr=5.00e-05]\n",
      "[28.51 epo]: RTE:[RTE_train/RTE_gold/loss=4.95e-01, RTE_valid/RTE_gold/accuracy=5.38e-01] model:[train/all/loss=4.95e-01, train/all/lr=5.00e-05]\n",
      "[28.62 epo]: RTE:[RTE_train/RTE_gold/loss=4.86e-01, RTE_valid/RTE_gold/accuracy=5.67e-01] model:[train/all/loss=4.86e-01, train/all/lr=5.00e-05]\n",
      "[28.72 epo]: RTE:[RTE_train/RTE_gold/loss=4.44e-01, RTE_valid/RTE_gold/accuracy=5.56e-01] model:[train/all/loss=4.44e-01, train/all/lr=5.00e-05]\n",
      "[28.82 epo]: RTE:[RTE_train/RTE_gold/loss=5.28e-01, RTE_valid/RTE_gold/accuracy=5.67e-01] model:[train/all/loss=5.28e-01, train/all/lr=5.00e-05]\n",
      "[28.92 epo]: RTE:[RTE_train/RTE_gold/loss=5.50e-01, RTE_valid/RTE_gold/accuracy=5.56e-01] model:[train/all/loss=5.50e-01, train/all/lr=5.00e-05]\n",
      "\n"
     ]
    },
    {
     "data": {
      "application/vnd.jupyter.widget-view+json": {
       "model_id": "031af88cc5674ed0aa072ec2d45b254b",
       "version_major": 2,
       "version_minor": 0
      },
      "text/plain": [
       "HBox(children=(IntProgress(value=0, max=312), HTML(value='')))"
      ]
     },
     "metadata": {},
     "output_type": "display_data"
    },
    {
     "name": "stdout",
     "output_type": "stream",
     "text": [
      "[29.03 epo]: RTE:[RTE_train/RTE_gold/loss=4.97e-01, RTE_valid/RTE_gold/accuracy=5.31e-01] model:[train/all/loss=4.97e-01, train/all/lr=5.00e-05]\n",
      "[29.13 epo]: RTE:[RTE_train/RTE_gold/loss=5.02e-01, RTE_valid/RTE_gold/accuracy=5.56e-01] model:[train/all/loss=5.02e-01, train/all/lr=5.00e-05]\n",
      "[29.23 epo]: RTE:[RTE_train/RTE_gold/loss=4.73e-01, RTE_valid/RTE_gold/accuracy=5.60e-01] model:[train/all/loss=4.73e-01, train/all/lr=5.00e-05]\n",
      "[29.33 epo]: RTE:[RTE_train/RTE_gold/loss=3.80e-01, RTE_valid/RTE_gold/accuracy=5.38e-01] model:[train/all/loss=3.80e-01, train/all/lr=5.00e-05]\n",
      "[29.44 epo]: RTE:[RTE_train/RTE_gold/loss=4.14e-01, RTE_valid/RTE_gold/accuracy=5.27e-01] model:[train/all/loss=4.14e-01, train/all/lr=5.00e-05]\n",
      "[29.54 epo]: RTE:[RTE_train/RTE_gold/loss=4.40e-01, RTE_valid/RTE_gold/accuracy=5.63e-01] model:[train/all/loss=4.40e-01, train/all/lr=5.00e-05]\n",
      "[29.64 epo]: RTE:[RTE_train/RTE_gold/loss=4.67e-01, RTE_valid/RTE_gold/accuracy=5.45e-01] model:[train/all/loss=4.67e-01, train/all/lr=5.00e-05]\n",
      "[29.74 epo]: RTE:[RTE_train/RTE_gold/loss=5.75e-01, RTE_valid/RTE_gold/accuracy=5.60e-01] model:[train/all/loss=5.75e-01, train/all/lr=5.00e-05]\n",
      "[29.85 epo]: RTE:[RTE_train/RTE_gold/loss=5.34e-01, RTE_valid/RTE_gold/accuracy=5.23e-01] model:[train/all/loss=5.34e-01, train/all/lr=5.00e-05]\n",
      "[29.95 epo]: RTE:[RTE_train/RTE_gold/loss=5.08e-01, RTE_valid/RTE_gold/accuracy=5.52e-01] model:[train/all/loss=5.08e-01, train/all/lr=5.00e-05]\n",
      "\n",
      "[30.00 epo]: RTE:[RTE_train/RTE_gold/loss=5.23e-01, RTE_valid/RTE_gold/accuracy=5.27e-01] model:[train/all/loss=5.23e-01, train/all/lr=5.00e-05]\n",
      "Restoring best model from iteration 3.28 with score 0.715\n",
      "Finished training\n",
      "{'RTE/RTE_test/RTE_gold/accuracy': 0.0,\n",
      " 'RTE/RTE_train/RTE_gold/accuracy': 0.9285140562248996,\n",
      " 'RTE/RTE_valid/RTE_gold/accuracy': 0.7148014440433214}\n",
      "Writing metrics to /dfs/scratch0/vschen/metal-mmtl/logs/2019_04_23/00_47_39/metrics.json\n",
      "Writing log to /dfs/scratch0/vschen/metal-mmtl/logs/2019_04_23/00_47_39/log.json\n",
      "Full model saved at /dfs/scratch0/vschen/metal-mmtl/logs/2019_04_23/00_47_39/model.pkl\n",
      "CPU times: user 39min 30s, sys: 3min 3s, total: 42min 34s\n",
      "Wall time: 43min 5s\n"
     ]
    }
   ],
   "source": [
    "%%time\n",
    "trainer = MultitaskTrainer(seed=SEED)\n",
    "trainer.train_model(\n",
    "    model,\n",
    "    payloads,\n",
    "    checkpoint_metric=\"RTE/RTE_valid/RTE_gold/accuracy\",\n",
    "    checkpoint_metric_mode=\"max\",\n",
    "    checkoint_best=True,\n",
    "    writer=\"tensorboard\",\n",
    "    optimizer=\"adamax\",\n",
    "    lr=5e-5,\n",
    "    l2=1e-3,\n",
    "    log_every=0.1, \n",
    "    score_every=0.1,\n",
    "    n_epochs=30,\n",
    "    progress_bar=True,\n",
    "    checkpoint_best=True,\n",
    "    checkpoint_cleanup=False,\n",
    ")"
   ]
  },
  {
   "cell_type": "markdown",
   "metadata": {},
   "source": [
    "### Evaluate baseline slices"
   ]
  },
  {
   "cell_type": "code",
   "execution_count": 15,
   "metadata": {
    "scrolled": true
   },
   "outputs": [
    {
     "name": "stdout",
     "output_type": "stream",
     "text": [
      "labelset 'RTE_slice:dash_semicolon:ind' -> task 'RTE' (originally, RTE_slice:dash_semicolon:ind).\n",
      "labelset 'RTE_slice:dash_semicolon:pred' -> task 'RTE' (originally, RTE_slice:dash_semicolon:pred).\n",
      "labelset 'RTE_slice:more_people:ind' -> task 'RTE' (originally, RTE_slice:more_people:ind).\n",
      "labelset 'RTE_slice:more_people:pred' -> task 'RTE' (originally, RTE_slice:more_people:pred).\n",
      "labelset 'RTE_slice:BASE:ind' -> task 'RTE' (originally, RTE_slice:BASE:ind).\n",
      "labelset 'RTE_slice:BASE:pred' -> task 'RTE' (originally, RTE_slice:BASE:pred).\n"
     ]
    }
   ],
   "source": [
    "import copy\n",
    "eval_payload = copy.deepcopy(payloads_slice[1])\n",
    "\n",
    "# NOTE: we need to retarget slices to the original RTE head\n",
    "for label_name in ['RTE_slice:dash_semicolon', 'RTE_slice:more_people', 'RTE_slice:BASE']:\n",
    "    for slice_head_type in ['ind', 'pred']:\n",
    "        eval_payload.retarget_labelset(f'{label_name}:{slice_head_type}', 'RTE')"
   ]
  },
  {
   "cell_type": "code",
   "execution_count": 16,
   "metadata": {
    "scrolled": true
   },
   "outputs": [
    {
     "data": {
      "text/plain": [
       "Payload(RTE_valid: labels_to_tasks=[{'RTE_gold': 'RTE', 'RTE_slice:dash_semicolon:ind': 'RTE', 'RTE_slice:dash_semicolon:pred': 'RTE', 'RTE_slice:more_people:ind': 'RTE', 'RTE_slice:more_people:pred': 'RTE', 'RTE_slice:BASE:ind': 'RTE', 'RTE_slice:BASE:pred': 'RTE'}], split=valid)"
      ]
     },
     "execution_count": 16,
     "metadata": {},
     "output_type": "execute_result"
    }
   ],
   "source": [
    "eval_payload"
   ]
  },
  {
   "cell_type": "code",
   "execution_count": 17,
   "metadata": {},
   "outputs": [
    {
     "data": {
      "text/plain": [
       "{'RTE/RTE_valid/RTE_gold/accuracy': 0.7148014440433214,\n",
       " 'RTE/RTE_valid/RTE_slice:dash_semicolon:ind/accuracy': 0.48375451263537905,\n",
       " 'RTE/RTE_valid/RTE_slice:dash_semicolon:pred/accuracy': 0.6206896551724138,\n",
       " 'RTE/RTE_valid/RTE_slice:more_people:ind/accuracy': 0.4187725631768953,\n",
       " 'RTE/RTE_valid/RTE_slice:more_people:pred/accuracy': 0.6666666666666666,\n",
       " 'RTE/RTE_valid/RTE_slice:BASE:ind/accuracy': 0.5740072202166066,\n",
       " 'RTE/RTE_valid/RTE_slice:BASE:pred/accuracy': 0.7148014440433214}"
      ]
     },
     "execution_count": 17,
     "metadata": {},
     "output_type": "execute_result"
    }
   ],
   "source": [
    "model.score(eval_payload)"
   ]
  },
  {
   "cell_type": "markdown",
   "metadata": {},
   "source": [
    "### Initialize and train slice model"
   ]
  },
  {
   "cell_type": "code",
   "execution_count": 18,
   "metadata": {
    "scrolled": false
   },
   "outputs": [
    {
     "name": "stdout",
     "output_type": "stream",
     "text": [
      "Modifying RTE out_features from 2 -> 1\n",
      "Modifying RTE_slice:dash_semicolon:ind out_features from 2 -> 1\n",
      "Modifying RTE_slice:dash_semicolon:pred out_features from 2 -> 1\n",
      "Modifying RTE_slice:more_people:ind out_features from 2 -> 1\n",
      "Modifying RTE_slice:more_people:pred out_features from 2 -> 1\n",
      "Modifying RTE_slice:BASE:ind out_features from 2 -> 1\n",
      "Modifying RTE_slice:BASE:pred out_features from 2 -> 1\n"
     ]
    },
    {
     "data": {
      "text/plain": [
       "[BinaryClassificationTask(name=RTE, loss_multiplier=1.00, slice_head_type=None),\n",
       " BinaryClassificationTask(name=RTE_slice:dash_semicolon:ind, loss_multiplier=0.17, slice_head_type=ind),\n",
       " BinaryClassificationTask(name=RTE_slice:dash_semicolon:pred, loss_multiplier=0.17, slice_head_type=pred),\n",
       " BinaryClassificationTask(name=RTE_slice:more_people:ind, loss_multiplier=0.17, slice_head_type=ind),\n",
       " BinaryClassificationTask(name=RTE_slice:more_people:pred, loss_multiplier=0.17, slice_head_type=pred),\n",
       " BinaryClassificationTask(name=RTE_slice:BASE:ind, loss_multiplier=0.17, slice_head_type=ind),\n",
       " BinaryClassificationTask(name=RTE_slice:BASE:pred, loss_multiplier=0.17, slice_head_type=pred)]"
      ]
     },
     "execution_count": 18,
     "metadata": {},
     "output_type": "execute_result"
    }
   ],
   "source": [
    "from metal.mmtl.slicing.tasks import convert_to_slicing_tasks\n",
    "slicing_tasks = convert_to_slicing_tasks(tasks_slice)\n",
    "slicing_tasks"
   ]
  },
  {
   "cell_type": "code",
   "execution_count": 19,
   "metadata": {},
   "outputs": [],
   "source": [
    "slice_model = SliceModel(slicing_tasks, seed=SEED, verbose=False)"
   ]
  },
  {
   "cell_type": "code",
   "execution_count": 20,
   "metadata": {
    "scrolled": true
   },
   "outputs": [
    {
     "name": "stdout",
     "output_type": "stream",
     "text": [
      "Beginning train loop.\n",
      "Expecting a total of approximately 2496 examples and 312 batches per epoch from 1 payload(s) in the train split.\n",
      "Writing config to /dfs/scratch0/vschen/metal-mmtl/logs/2019_04_23/01_30_48/config.json\n"
     ]
    },
    {
     "data": {
      "application/vnd.jupyter.widget-view+json": {
       "model_id": "0097f852c03e429e8ddba0a2000206f7",
       "version_major": 2,
       "version_minor": 0
      },
      "text/plain": [
       "HBox(children=(IntProgress(value=0, max=312), HTML(value='')))"
      ]
     },
     "metadata": {},
     "output_type": "display_data"
    },
    {
     "name": "stdout",
     "output_type": "stream",
     "text": [
      "[0.10 epo]: RTE:[RTE_train/RTE_gold/loss=6.94e-01, RTE_valid/RTE_gold/accuracy=4.73e-01] RTE_slice:dash_semicolon:ind:[RTE_train/RTE_slice:dash_semicolon:ind/loss=1.13e-01, RTE_valid/RTE_slice:dash_semicolon:ind/accuracy=5.74e-01] RTE_slice:dash_semicolon:pred:[RTE_train/RTE_slice:dash_semicolon:pred/loss=1.17e-01, RTE_valid/RTE_slice:dash_semicolon:pred/accuracy=6.12e-01] RTE_slice:more_people:ind:[RTE_train/RTE_slice:more_people:ind/loss=8.44e-02, RTE_valid/RTE_slice:more_people:ind/accuracy=9.57e-01] RTE_slice:more_people:pred:[RTE_train/RTE_slice:more_people:pred/loss=1.31e-01, RTE_valid/RTE_slice:more_people:pred/accuracy=6.67e-01] RTE_slice:BASE:ind:[RTE_train/RTE_slice:BASE:ind/loss=1.09e-01, RTE_valid/RTE_slice:BASE:ind/accuracy=1.00e+00] RTE_slice:BASE:pred:[RTE_train/RTE_slice:BASE:pred/loss=1.23e-01, RTE_valid/RTE_slice:BASE:pred/accuracy=5.34e-01] model:[train/all/loss=2.16e-01, train/all/lr=5.00e-05]\n",
      "Saving model at iteration 0.10 with best (max) score RTE/RTE_valid/RTE_gold/accuracy=0.473\n",
      "[0.21 epo]: RTE:[RTE_train/RTE_gold/loss=6.92e-01, RTE_valid/RTE_gold/accuracy=4.73e-01] RTE_slice:dash_semicolon:ind:[RTE_train/RTE_slice:dash_semicolon:ind/loss=1.15e-01, RTE_valid/RTE_slice:dash_semicolon:ind/accuracy=6.14e-01] RTE_slice:dash_semicolon:pred:[RTE_train/RTE_slice:dash_semicolon:pred/loss=1.18e-01, RTE_valid/RTE_slice:dash_semicolon:pred/accuracy=6.38e-01] RTE_slice:more_people:ind:[RTE_train/RTE_slice:more_people:ind/loss=4.35e-02, RTE_valid/RTE_slice:more_people:ind/accuracy=9.57e-01] RTE_slice:more_people:pred:[RTE_train/RTE_slice:more_people:pred/loss=1.22e-01, RTE_valid/RTE_slice:more_people:pred/accuracy=4.17e-01] RTE_slice:BASE:ind:[RTE_train/RTE_slice:BASE:ind/loss=3.08e-02, RTE_valid/RTE_slice:BASE:ind/accuracy=1.00e+00] RTE_slice:BASE:pred:[RTE_train/RTE_slice:BASE:pred/loss=1.19e-01, RTE_valid/RTE_slice:BASE:pred/accuracy=5.38e-01] model:[train/all/loss=1.93e-01, train/all/lr=5.00e-05]\n",
      "[0.31 epo]: RTE:[RTE_train/RTE_gold/loss=6.95e-01, RTE_valid/RTE_gold/accuracy=4.73e-01] RTE_slice:dash_semicolon:ind:[RTE_train/RTE_slice:dash_semicolon:ind/loss=1.12e-01, RTE_valid/RTE_slice:dash_semicolon:ind/accuracy=5.85e-01] RTE_slice:dash_semicolon:pred:[RTE_train/RTE_slice:dash_semicolon:pred/loss=1.17e-01, RTE_valid/RTE_slice:dash_semicolon:pred/accuracy=6.03e-01] RTE_slice:more_people:ind:[RTE_train/RTE_slice:more_people:ind/loss=2.17e-02, RTE_valid/RTE_slice:more_people:ind/accuracy=9.57e-01] RTE_slice:BASE:ind:[RTE_train/RTE_slice:BASE:ind/loss=1.09e-02, RTE_valid/RTE_slice:BASE:ind/accuracy=1.00e+00] RTE_slice:BASE:pred:[RTE_train/RTE_slice:BASE:pred/loss=1.13e-01, RTE_valid/RTE_slice:BASE:pred/accuracy=5.31e-01] RTE_slice:more_people:pred:[RTE_train/RTE_slice:more_people:pred/loss=1.18e-01, RTE_valid/RTE_slice:more_people:pred/accuracy=4.17e-01] model:[train/all/loss=1.85e-01, train/all/lr=5.00e-05]\n",
      "[0.41 epo]: RTE:[RTE_train/RTE_gold/loss=6.94e-01, RTE_valid/RTE_gold/accuracy=4.73e-01] RTE_slice:dash_semicolon:ind:[RTE_train/RTE_slice:dash_semicolon:ind/loss=1.10e-01, RTE_valid/RTE_slice:dash_semicolon:ind/accuracy=6.35e-01] RTE_slice:dash_semicolon:pred:[RTE_train/RTE_slice:dash_semicolon:pred/loss=1.13e-01, RTE_valid/RTE_slice:dash_semicolon:pred/accuracy=5.52e-01] RTE_slice:more_people:ind:[RTE_train/RTE_slice:more_people:ind/loss=2.39e-02, RTE_valid/RTE_slice:more_people:ind/accuracy=9.57e-01] RTE_slice:more_people:pred:[RTE_train/RTE_slice:more_people:pred/loss=9.68e-02, RTE_valid/RTE_slice:more_people:pred/accuracy=4.17e-01] RTE_slice:BASE:ind:[RTE_train/RTE_slice:BASE:ind/loss=8.25e-03, RTE_valid/RTE_slice:BASE:ind/accuracy=1.00e+00] RTE_slice:BASE:pred:[RTE_train/RTE_slice:BASE:pred/loss=1.16e-01, RTE_valid/RTE_slice:BASE:pred/accuracy=5.74e-01] model:[train/all/loss=1.84e-01, train/all/lr=5.00e-05]\n",
      "[0.51 epo]: RTE:[RTE_train/RTE_gold/loss=6.93e-01, RTE_valid/RTE_gold/accuracy=4.73e-01] RTE_slice:dash_semicolon:ind:[RTE_train/RTE_slice:dash_semicolon:ind/loss=1.09e-01, RTE_valid/RTE_slice:dash_semicolon:ind/accuracy=6.10e-01] RTE_slice:dash_semicolon:pred:[RTE_train/RTE_slice:dash_semicolon:pred/loss=1.15e-01, RTE_valid/RTE_slice:dash_semicolon:pred/accuracy=5.52e-01] RTE_slice:more_people:ind:[RTE_train/RTE_slice:more_people:ind/loss=2.27e-02, RTE_valid/RTE_slice:more_people:ind/accuracy=9.57e-01] RTE_slice:BASE:ind:[RTE_train/RTE_slice:BASE:ind/loss=5.85e-03, RTE_valid/RTE_slice:BASE:ind/accuracy=1.00e+00] RTE_slice:BASE:pred:[RTE_train/RTE_slice:BASE:pred/loss=1.14e-01, RTE_valid/RTE_slice:BASE:pred/accuracy=5.67e-01] RTE_slice:more_people:pred:[RTE_train/RTE_slice:more_people:pred/loss=1.16e-01, RTE_valid/RTE_slice:more_people:pred/accuracy=4.17e-01] model:[train/all/loss=1.83e-01, train/all/lr=5.00e-05]\n",
      "[0.62 epo]: RTE:[RTE_train/RTE_gold/loss=6.93e-01, RTE_valid/RTE_gold/accuracy=4.73e-01] RTE_slice:dash_semicolon:ind:[RTE_train/RTE_slice:dash_semicolon:ind/loss=1.08e-01, RTE_valid/RTE_slice:dash_semicolon:ind/accuracy=5.88e-01] RTE_slice:dash_semicolon:pred:[RTE_train/RTE_slice:dash_semicolon:pred/loss=1.16e-01, RTE_valid/RTE_slice:dash_semicolon:pred/accuracy=5.60e-01] RTE_slice:more_people:ind:[RTE_train/RTE_slice:more_people:ind/loss=1.60e-02, RTE_valid/RTE_slice:more_people:ind/accuracy=9.57e-01] RTE_slice:BASE:ind:[RTE_train/RTE_slice:BASE:ind/loss=4.40e-03, RTE_valid/RTE_slice:BASE:ind/accuracy=1.00e+00] RTE_slice:BASE:pred:[RTE_train/RTE_slice:BASE:pred/loss=1.13e-01, RTE_valid/RTE_slice:BASE:pred/accuracy=5.88e-01] RTE_slice:more_people:pred:[RTE_train/RTE_slice:more_people:pred/loss=1.39e-01, RTE_valid/RTE_slice:more_people:pred/accuracy=4.17e-01] model:[train/all/loss=1.82e-01, train/all/lr=5.00e-05]\n",
      "[0.72 epo]: RTE:[RTE_train/RTE_gold/loss=6.93e-01, RTE_valid/RTE_gold/accuracy=4.73e-01] RTE_slice:dash_semicolon:ind:[RTE_train/RTE_slice:dash_semicolon:ind/loss=1.09e-01, RTE_valid/RTE_slice:dash_semicolon:ind/accuracy=6.10e-01] RTE_slice:dash_semicolon:pred:[RTE_train/RTE_slice:dash_semicolon:pred/loss=1.14e-01, RTE_valid/RTE_slice:dash_semicolon:pred/accuracy=5.69e-01] RTE_slice:more_people:ind:[RTE_train/RTE_slice:more_people:ind/loss=2.31e-02, RTE_valid/RTE_slice:more_people:ind/accuracy=9.57e-01] RTE_slice:BASE:ind:[RTE_train/RTE_slice:BASE:ind/loss=4.06e-03, RTE_valid/RTE_slice:BASE:ind/accuracy=1.00e+00] RTE_slice:BASE:pred:[RTE_train/RTE_slice:BASE:pred/loss=1.14e-01, RTE_valid/RTE_slice:BASE:pred/accuracy=5.92e-01] RTE_slice:more_people:pred:[RTE_train/RTE_slice:more_people:pred/loss=1.08e-01, RTE_valid/RTE_slice:more_people:pred/accuracy=4.17e-01] model:[train/all/loss=1.83e-01, train/all/lr=5.00e-05]\n",
      "[0.82 epo]: RTE:[RTE_train/RTE_gold/loss=6.94e-01, RTE_valid/RTE_gold/accuracy=4.73e-01] RTE_slice:dash_semicolon:ind:[RTE_train/RTE_slice:dash_semicolon:ind/loss=1.06e-01, RTE_valid/RTE_slice:dash_semicolon:ind/accuracy=6.35e-01] RTE_slice:dash_semicolon:pred:[RTE_train/RTE_slice:dash_semicolon:pred/loss=1.19e-01, RTE_valid/RTE_slice:dash_semicolon:pred/accuracy=5.78e-01] RTE_slice:more_people:ind:[RTE_train/RTE_slice:more_people:ind/loss=1.14e-02, RTE_valid/RTE_slice:more_people:ind/accuracy=9.57e-01] RTE_slice:BASE:ind:[RTE_train/RTE_slice:BASE:ind/loss=3.55e-03, RTE_valid/RTE_slice:BASE:ind/accuracy=1.00e+00] RTE_slice:BASE:pred:[RTE_train/RTE_slice:BASE:pred/loss=1.14e-01, RTE_valid/RTE_slice:BASE:pred/accuracy=6.53e-01] RTE_slice:more_people:pred:[RTE_train/RTE_slice:more_people:pred/loss=1.08e-01, RTE_valid/RTE_slice:more_people:pred/accuracy=4.17e-01] model:[train/all/loss=1.80e-01, train/all/lr=5.00e-05]\n",
      "[0.92 epo]: RTE:[RTE_train/RTE_gold/loss=6.92e-01, RTE_valid/RTE_gold/accuracy=4.73e-01] RTE_slice:dash_semicolon:ind:[RTE_train/RTE_slice:dash_semicolon:ind/loss=9.97e-02, RTE_valid/RTE_slice:dash_semicolon:ind/accuracy=6.79e-01] RTE_slice:dash_semicolon:pred:[RTE_train/RTE_slice:dash_semicolon:pred/loss=1.16e-01, RTE_valid/RTE_slice:dash_semicolon:pred/accuracy=5.60e-01] RTE_slice:more_people:ind:[RTE_train/RTE_slice:more_people:ind/loss=1.16e-02, RTE_valid/RTE_slice:more_people:ind/accuracy=9.57e-01] RTE_slice:BASE:ind:[RTE_train/RTE_slice:BASE:ind/loss=3.39e-03, RTE_valid/RTE_slice:BASE:ind/accuracy=1.00e+00] RTE_slice:BASE:pred:[RTE_train/RTE_slice:BASE:pred/loss=1.11e-01, RTE_valid/RTE_slice:BASE:pred/accuracy=6.50e-01] RTE_slice:more_people:pred:[RTE_train/RTE_slice:more_people:pred/loss=1.31e-01, RTE_valid/RTE_slice:more_people:pred/accuracy=4.17e-01] model:[train/all/loss=1.79e-01, train/all/lr=5.00e-05]\n"
     ]
    },
    {
     "name": "stdout",
     "output_type": "stream",
     "text": [
      "\n"
     ]
    },
    {
     "data": {
      "application/vnd.jupyter.widget-view+json": {
       "model_id": "3643645676674d5eb7cd56b3f0ed673f",
       "version_major": 2,
       "version_minor": 0
      },
      "text/plain": [
       "HBox(children=(IntProgress(value=0, max=312), HTML(value='')))"
      ]
     },
     "metadata": {},
     "output_type": "display_data"
    },
    {
     "name": "stdout",
     "output_type": "stream",
     "text": [
      "[1.03 epo]: RTE:[RTE_train/RTE_gold/loss=6.93e-01, RTE_valid/RTE_gold/accuracy=4.73e-01] RTE_slice:dash_semicolon:ind:[RTE_train/RTE_slice:dash_semicolon:ind/loss=8.61e-02, RTE_valid/RTE_slice:dash_semicolon:ind/accuracy=8.84e-01] RTE_slice:dash_semicolon:pred:[RTE_train/RTE_slice:dash_semicolon:pred/loss=1.11e-01, RTE_valid/RTE_slice:dash_semicolon:pred/accuracy=5.78e-01] RTE_slice:more_people:ind:[RTE_train/RTE_slice:more_people:ind/loss=2.17e-02, RTE_valid/RTE_slice:more_people:ind/accuracy=9.57e-01] RTE_slice:BASE:ind:[RTE_train/RTE_slice:BASE:ind/loss=4.40e-03, RTE_valid/RTE_slice:BASE:ind/accuracy=1.00e+00] RTE_slice:BASE:pred:[RTE_train/RTE_slice:BASE:pred/loss=1.10e-01, RTE_valid/RTE_slice:BASE:pred/accuracy=6.46e-01] RTE_slice:more_people:pred:[RTE_train/RTE_slice:more_people:pred/loss=1.22e-01, RTE_valid/RTE_slice:more_people:pred/accuracy=4.17e-01] model:[train/all/loss=1.77e-01, train/all/lr=5.00e-05]\n",
      "[1.13 epo]: RTE:[RTE_train/RTE_gold/loss=6.93e-01, RTE_valid/RTE_gold/accuracy=4.73e-01] RTE_slice:dash_semicolon:ind:[RTE_train/RTE_slice:dash_semicolon:ind/loss=6.20e-02, RTE_valid/RTE_slice:dash_semicolon:ind/accuracy=9.28e-01] RTE_slice:dash_semicolon:pred:[RTE_train/RTE_slice:dash_semicolon:pred/loss=1.06e-01, RTE_valid/RTE_slice:dash_semicolon:pred/accuracy=5.60e-01] RTE_slice:more_people:ind:[RTE_train/RTE_slice:more_people:ind/loss=1.34e-02, RTE_valid/RTE_slice:more_people:ind/accuracy=9.57e-01] RTE_slice:BASE:ind:[RTE_train/RTE_slice:BASE:ind/loss=5.23e-03, RTE_valid/RTE_slice:BASE:ind/accuracy=1.00e+00] RTE_slice:BASE:pred:[RTE_train/RTE_slice:BASE:pred/loss=1.08e-01, RTE_valid/RTE_slice:BASE:pred/accuracy=6.32e-01] RTE_slice:more_people:pred:[RTE_train/RTE_slice:more_people:pred/loss=9.59e-02, RTE_valid/RTE_slice:more_people:pred/accuracy=4.17e-01] model:[train/all/loss=1.71e-01, train/all/lr=5.00e-05]\n",
      "[1.23 epo]: RTE:[RTE_train/RTE_gold/loss=6.92e-01, RTE_valid/RTE_gold/accuracy=4.73e-01] RTE_slice:dash_semicolon:ind:[RTE_train/RTE_slice:dash_semicolon:ind/loss=4.49e-02, RTE_valid/RTE_slice:dash_semicolon:ind/accuracy=9.78e-01] RTE_slice:dash_semicolon:pred:[RTE_train/RTE_slice:dash_semicolon:pred/loss=9.96e-02, RTE_valid/RTE_slice:dash_semicolon:pred/accuracy=5.78e-01] RTE_slice:more_people:ind:[RTE_train/RTE_slice:more_people:ind/loss=2.25e-02, RTE_valid/RTE_slice:more_people:ind/accuracy=9.57e-01] RTE_slice:BASE:ind:[RTE_train/RTE_slice:BASE:ind/loss=5.93e-03, RTE_valid/RTE_slice:BASE:ind/accuracy=1.00e+00] RTE_slice:BASE:pred:[RTE_train/RTE_slice:BASE:pred/loss=1.06e-01, RTE_valid/RTE_slice:BASE:pred/accuracy=6.21e-01] RTE_slice:more_people:pred:[RTE_train/RTE_slice:more_people:pred/loss=1.06e-01, RTE_valid/RTE_slice:more_people:pred/accuracy=4.17e-01] model:[train/all/loss=1.69e-01, train/all/lr=5.00e-05]\n",
      "[1.33 epo]: RTE:[RTE_train/RTE_gold/loss=6.93e-01, RTE_valid/RTE_gold/accuracy=4.73e-01] RTE_slice:dash_semicolon:ind:[RTE_train/RTE_slice:dash_semicolon:ind/loss=3.14e-02, RTE_valid/RTE_slice:dash_semicolon:ind/accuracy=9.82e-01] RTE_slice:dash_semicolon:pred:[RTE_train/RTE_slice:dash_semicolon:pred/loss=1.08e-01, RTE_valid/RTE_slice:dash_semicolon:pred/accuracy=5.69e-01] RTE_slice:more_people:ind:[RTE_train/RTE_slice:more_people:ind/loss=2.84e-02, RTE_valid/RTE_slice:more_people:ind/accuracy=9.57e-01] RTE_slice:BASE:ind:[RTE_train/RTE_slice:BASE:ind/loss=8.05e-03, RTE_valid/RTE_slice:BASE:ind/accuracy=1.00e+00] RTE_slice:BASE:pred:[RTE_train/RTE_slice:BASE:pred/loss=1.11e-01, RTE_valid/RTE_slice:BASE:pred/accuracy=6.17e-01] RTE_slice:more_people:pred:[RTE_train/RTE_slice:more_people:pred/loss=7.66e-02, RTE_valid/RTE_slice:more_people:pred/accuracy=4.17e-01] model:[train/all/loss=1.69e-01, train/all/lr=5.00e-05]\n",
      "[1.44 epo]: RTE:[RTE_train/RTE_gold/loss=6.92e-01, RTE_valid/RTE_gold/accuracy=4.73e-01] RTE_slice:dash_semicolon:ind:[RTE_train/RTE_slice:dash_semicolon:ind/loss=2.73e-02, RTE_valid/RTE_slice:dash_semicolon:ind/accuracy=9.82e-01] RTE_slice:dash_semicolon:pred:[RTE_train/RTE_slice:dash_semicolon:pred/loss=1.11e-01, RTE_valid/RTE_slice:dash_semicolon:pred/accuracy=5.43e-01] RTE_slice:more_people:ind:[RTE_train/RTE_slice:more_people:ind/loss=2.36e-02, RTE_valid/RTE_slice:more_people:ind/accuracy=9.57e-01] RTE_slice:BASE:ind:[RTE_train/RTE_slice:BASE:ind/loss=4.89e-03, RTE_valid/RTE_slice:BASE:ind/accuracy=1.00e+00] RTE_slice:BASE:pred:[RTE_train/RTE_slice:BASE:pred/loss=1.09e-01, RTE_valid/RTE_slice:BASE:pred/accuracy=6.46e-01] RTE_slice:more_people:pred:[RTE_train/RTE_slice:more_people:pred/loss=1.42e-01, RTE_valid/RTE_slice:more_people:pred/accuracy=4.17e-01] model:[train/all/loss=1.66e-01, train/all/lr=5.00e-05]\n",
      "[1.54 epo]: RTE:[RTE_train/RTE_gold/loss=6.93e-01, RTE_valid/RTE_gold/accuracy=4.73e-01] RTE_slice:dash_semicolon:ind:[RTE_train/RTE_slice:dash_semicolon:ind/loss=2.35e-02, RTE_valid/RTE_slice:dash_semicolon:ind/accuracy=9.82e-01] RTE_slice:dash_semicolon:pred:[RTE_train/RTE_slice:dash_semicolon:pred/loss=1.14e-01, RTE_valid/RTE_slice:dash_semicolon:pred/accuracy=5.60e-01] RTE_slice:more_people:ind:[RTE_train/RTE_slice:more_people:ind/loss=1.37e-02, RTE_valid/RTE_slice:more_people:ind/accuracy=9.57e-01] RTE_slice:BASE:ind:[RTE_train/RTE_slice:BASE:ind/loss=5.28e-03, RTE_valid/RTE_slice:BASE:ind/accuracy=1.00e+00] RTE_slice:BASE:pred:[RTE_train/RTE_slice:BASE:pred/loss=1.11e-01, RTE_valid/RTE_slice:BASE:pred/accuracy=6.21e-01] RTE_slice:more_people:pred:[RTE_train/RTE_slice:more_people:pred/loss=9.82e-02, RTE_valid/RTE_slice:more_people:pred/accuracy=4.17e-01] model:[train/all/loss=1.65e-01, train/all/lr=5.00e-05]\n",
      "[1.64 epo]: RTE:[RTE_train/RTE_gold/loss=6.92e-01, RTE_valid/RTE_gold/accuracy=4.73e-01] RTE_slice:dash_semicolon:ind:[RTE_train/RTE_slice:dash_semicolon:ind/loss=1.93e-02, RTE_valid/RTE_slice:dash_semicolon:ind/accuracy=9.82e-01] RTE_slice:dash_semicolon:pred:[RTE_train/RTE_slice:dash_semicolon:pred/loss=1.05e-01, RTE_valid/RTE_slice:dash_semicolon:pred/accuracy=5.78e-01] RTE_slice:more_people:ind:[RTE_train/RTE_slice:more_people:ind/loss=1.06e-02, RTE_valid/RTE_slice:more_people:ind/accuracy=9.57e-01] RTE_slice:BASE:ind:[RTE_train/RTE_slice:BASE:ind/loss=4.79e-03, RTE_valid/RTE_slice:BASE:ind/accuracy=1.00e+00] RTE_slice:BASE:pred:[RTE_train/RTE_slice:BASE:pred/loss=1.07e-01, RTE_valid/RTE_slice:BASE:pred/accuracy=6.39e-01] RTE_slice:more_people:pred:[RTE_train/RTE_slice:more_people:pred/loss=1.76e-01, RTE_valid/RTE_slice:more_people:pred/accuracy=3.33e-01] model:[train/all/loss=1.62e-01, train/all/lr=5.00e-05]\n",
      "[1.74 epo]: RTE:[RTE_train/RTE_gold/loss=6.92e-01, RTE_valid/RTE_gold/accuracy=4.73e-01] RTE_slice:dash_semicolon:ind:[RTE_train/RTE_slice:dash_semicolon:ind/loss=1.77e-02, RTE_valid/RTE_slice:dash_semicolon:ind/accuracy=9.78e-01] RTE_slice:dash_semicolon:pred:[RTE_train/RTE_slice:dash_semicolon:pred/loss=1.04e-01, RTE_valid/RTE_slice:dash_semicolon:pred/accuracy=5.95e-01] RTE_slice:more_people:ind:[RTE_train/RTE_slice:more_people:ind/loss=2.03e-02, RTE_valid/RTE_slice:more_people:ind/accuracy=9.57e-01] RTE_slice:BASE:ind:[RTE_train/RTE_slice:BASE:ind/loss=4.07e-03, RTE_valid/RTE_slice:BASE:ind/accuracy=1.00e+00] RTE_slice:BASE:pred:[RTE_train/RTE_slice:BASE:pred/loss=1.05e-01, RTE_valid/RTE_slice:BASE:pred/accuracy=6.50e-01] RTE_slice:more_people:pred:[RTE_train/RTE_slice:more_people:pred/loss=9.65e-02, RTE_valid/RTE_slice:more_people:pred/accuracy=3.33e-01] model:[train/all/loss=1.63e-01, train/all/lr=5.00e-05]\n",
      "[1.85 epo]: RTE:[RTE_train/RTE_gold/loss=6.92e-01, RTE_valid/RTE_gold/accuracy=4.73e-01] RTE_slice:dash_semicolon:ind:[RTE_train/RTE_slice:dash_semicolon:ind/loss=1.75e-02, RTE_valid/RTE_slice:dash_semicolon:ind/accuracy=9.78e-01] RTE_slice:dash_semicolon:pred:[RTE_train/RTE_slice:dash_semicolon:pred/loss=1.09e-01, RTE_valid/RTE_slice:dash_semicolon:pred/accuracy=5.78e-01] RTE_slice:more_people:ind:[RTE_train/RTE_slice:more_people:ind/loss=3.10e-02, RTE_valid/RTE_slice:more_people:ind/accuracy=9.57e-01] RTE_slice:BASE:ind:[RTE_train/RTE_slice:BASE:ind/loss=5.10e-03, RTE_valid/RTE_slice:BASE:ind/accuracy=1.00e+00] RTE_slice:BASE:pred:[RTE_train/RTE_slice:BASE:pred/loss=1.08e-01, RTE_valid/RTE_slice:BASE:pred/accuracy=6.10e-01] RTE_slice:more_people:pred:[RTE_train/RTE_slice:more_people:pred/loss=1.06e-01, RTE_valid/RTE_slice:more_people:pred/accuracy=4.17e-01] model:[train/all/loss=1.66e-01, train/all/lr=5.00e-05]\n"
     ]
    },
    {
     "name": "stdout",
     "output_type": "stream",
     "text": [
      "[1.95 epo]: RTE:[RTE_train/RTE_gold/loss=6.93e-01, RTE_valid/RTE_gold/accuracy=4.73e-01] RTE_slice:dash_semicolon:ind:[RTE_train/RTE_slice:dash_semicolon:ind/loss=1.40e-02, RTE_valid/RTE_slice:dash_semicolon:ind/accuracy=9.82e-01] RTE_slice:dash_semicolon:pred:[RTE_train/RTE_slice:dash_semicolon:pred/loss=1.09e-01, RTE_valid/RTE_slice:dash_semicolon:pred/accuracy=5.52e-01] RTE_slice:more_people:ind:[RTE_train/RTE_slice:more_people:ind/loss=2.12e-02, RTE_valid/RTE_slice:more_people:ind/accuracy=9.57e-01] RTE_slice:BASE:ind:[RTE_train/RTE_slice:BASE:ind/loss=3.99e-03, RTE_valid/RTE_slice:BASE:ind/accuracy=1.00e+00] RTE_slice:BASE:pred:[RTE_train/RTE_slice:BASE:pred/loss=1.09e-01, RTE_valid/RTE_slice:BASE:pred/accuracy=5.81e-01] RTE_slice:more_people:pred:[RTE_train/RTE_slice:more_people:pred/loss=1.07e-01, RTE_valid/RTE_slice:more_people:pred/accuracy=4.17e-01] model:[train/all/loss=1.64e-01, train/all/lr=5.00e-05]\n",
      "\n"
     ]
    },
    {
     "data": {
      "application/vnd.jupyter.widget-view+json": {
       "model_id": "f208e7601cb94f65905d8ce900c9d18d",
       "version_major": 2,
       "version_minor": 0
      },
      "text/plain": [
       "HBox(children=(IntProgress(value=0, max=312), HTML(value='')))"
      ]
     },
     "metadata": {},
     "output_type": "display_data"
    },
    {
     "name": "stdout",
     "output_type": "stream",
     "text": [
      "[2.05 epo]: RTE:[RTE_train/RTE_gold/loss=6.92e-01, RTE_valid/RTE_gold/accuracy=4.73e-01] RTE_slice:dash_semicolon:ind:[RTE_train/RTE_slice:dash_semicolon:ind/loss=1.45e-02, RTE_valid/RTE_slice:dash_semicolon:ind/accuracy=9.82e-01] RTE_slice:dash_semicolon:pred:[RTE_train/RTE_slice:dash_semicolon:pred/loss=1.04e-01, RTE_valid/RTE_slice:dash_semicolon:pred/accuracy=5.86e-01] RTE_slice:more_people:ind:[RTE_train/RTE_slice:more_people:ind/loss=1.55e-02, RTE_valid/RTE_slice:more_people:ind/accuracy=9.57e-01] RTE_slice:BASE:ind:[RTE_train/RTE_slice:BASE:ind/loss=3.33e-03, RTE_valid/RTE_slice:BASE:ind/accuracy=1.00e+00] RTE_slice:BASE:pred:[RTE_train/RTE_slice:BASE:pred/loss=1.14e-01, RTE_valid/RTE_slice:BASE:pred/accuracy=6.46e-01] RTE_slice:more_people:pred:[RTE_train/RTE_slice:more_people:pred/loss=1.02e-01, RTE_valid/RTE_slice:more_people:pred/accuracy=4.17e-01] model:[train/all/loss=1.64e-01, train/all/lr=5.00e-05]\n",
      "[2.15 epo]: RTE:[RTE_train/RTE_gold/loss=6.91e-01, RTE_valid/RTE_gold/accuracy=4.77e-01] RTE_slice:dash_semicolon:ind:[RTE_train/RTE_slice:dash_semicolon:ind/loss=1.82e-02, RTE_valid/RTE_slice:dash_semicolon:ind/accuracy=9.82e-01] RTE_slice:dash_semicolon:pred:[RTE_train/RTE_slice:dash_semicolon:pred/loss=8.16e-02, RTE_valid/RTE_slice:dash_semicolon:pred/accuracy=5.60e-01] RTE_slice:more_people:ind:[RTE_train/RTE_slice:more_people:ind/loss=2.09e-02, RTE_valid/RTE_slice:more_people:ind/accuracy=9.57e-01] RTE_slice:BASE:ind:[RTE_train/RTE_slice:BASE:ind/loss=3.36e-03, RTE_valid/RTE_slice:BASE:ind/accuracy=1.00e+00] RTE_slice:BASE:pred:[RTE_train/RTE_slice:BASE:pred/loss=9.48e-02, RTE_valid/RTE_slice:BASE:pred/accuracy=6.32e-01] RTE_slice:more_people:pred:[RTE_train/RTE_slice:more_people:pred/loss=8.85e-02, RTE_valid/RTE_slice:more_people:pred/accuracy=4.17e-01] model:[train/all/loss=1.59e-01, train/all/lr=5.00e-05]\n",
      "Saving model at iteration 2.15 with best (max) score RTE/RTE_valid/RTE_gold/accuracy=0.477\n",
      "[2.26 epo]: RTE:[RTE_train/RTE_gold/loss=6.91e-01, RTE_valid/RTE_gold/accuracy=4.73e-01] RTE_slice:dash_semicolon:ind:[RTE_train/RTE_slice:dash_semicolon:ind/loss=1.03e-02, RTE_valid/RTE_slice:dash_semicolon:ind/accuracy=9.82e-01] RTE_slice:dash_semicolon:pred:[RTE_train/RTE_slice:dash_semicolon:pred/loss=1.01e-01, RTE_valid/RTE_slice:dash_semicolon:pred/accuracy=5.69e-01] RTE_slice:more_people:ind:[RTE_train/RTE_slice:more_people:ind/loss=1.63e-02, RTE_valid/RTE_slice:more_people:ind/accuracy=9.57e-01] RTE_slice:BASE:ind:[RTE_train/RTE_slice:BASE:ind/loss=3.35e-03, RTE_valid/RTE_slice:BASE:ind/accuracy=1.00e+00] RTE_slice:BASE:pred:[RTE_train/RTE_slice:BASE:pred/loss=1.02e-01, RTE_valid/RTE_slice:BASE:pred/accuracy=5.96e-01] RTE_slice:more_people:pred:[RTE_train/RTE_slice:more_people:pred/loss=9.09e-02, RTE_valid/RTE_slice:more_people:pred/accuracy=3.33e-01] model:[train/all/loss=1.59e-01, train/all/lr=5.00e-05]\n",
      "[2.36 epo]: RTE:[RTE_train/RTE_gold/loss=6.91e-01, RTE_valid/RTE_gold/accuracy=4.84e-01] RTE_slice:dash_semicolon:ind:[RTE_train/RTE_slice:dash_semicolon:ind/loss=1.64e-02, RTE_valid/RTE_slice:dash_semicolon:ind/accuracy=9.78e-01] RTE_slice:dash_semicolon:pred:[RTE_train/RTE_slice:dash_semicolon:pred/loss=1.02e-01, RTE_valid/RTE_slice:dash_semicolon:pred/accuracy=5.95e-01] RTE_slice:more_people:ind:[RTE_train/RTE_slice:more_people:ind/loss=1.07e-02, RTE_valid/RTE_slice:more_people:ind/accuracy=9.57e-01] RTE_slice:BASE:ind:[RTE_train/RTE_slice:BASE:ind/loss=2.99e-03, RTE_valid/RTE_slice:BASE:ind/accuracy=1.00e+00] RTE_slice:BASE:pred:[RTE_train/RTE_slice:BASE:pred/loss=1.05e-01, RTE_valid/RTE_slice:BASE:pred/accuracy=6.53e-01] RTE_slice:more_people:pred:[RTE_train/RTE_slice:more_people:pred/loss=1.86e-01, RTE_valid/RTE_slice:more_people:pred/accuracy=3.33e-01] model:[train/all/loss=1.61e-01, train/all/lr=5.00e-05]\n",
      "Saving model at iteration 2.36 with best (max) score RTE/RTE_valid/RTE_gold/accuracy=0.484\n",
      "[2.46 epo]: RTE:[RTE_train/RTE_gold/loss=6.91e-01, RTE_valid/RTE_gold/accuracy=5.23e-01] RTE_slice:dash_semicolon:ind:[RTE_train/RTE_slice:dash_semicolon:ind/loss=1.13e-02, RTE_valid/RTE_slice:dash_semicolon:ind/accuracy=9.82e-01] RTE_slice:dash_semicolon:pred:[RTE_train/RTE_slice:dash_semicolon:pred/loss=9.81e-02, RTE_valid/RTE_slice:dash_semicolon:pred/accuracy=5.52e-01] RTE_slice:more_people:ind:[RTE_train/RTE_slice:more_people:ind/loss=2.81e-02, RTE_valid/RTE_slice:more_people:ind/accuracy=9.57e-01] RTE_slice:BASE:ind:[RTE_train/RTE_slice:BASE:ind/loss=3.61e-03, RTE_valid/RTE_slice:BASE:ind/accuracy=1.00e+00] RTE_slice:BASE:pred:[RTE_train/RTE_slice:BASE:pred/loss=1.01e-01, RTE_valid/RTE_slice:BASE:pred/accuracy=6.10e-01] RTE_slice:more_people:pred:[RTE_train/RTE_slice:more_people:pred/loss=1.02e-01, RTE_valid/RTE_slice:more_people:pred/accuracy=4.17e-01] model:[train/all/loss=1.61e-01, train/all/lr=5.00e-05]\n",
      "Saving model at iteration 2.46 with best (max) score RTE/RTE_valid/RTE_gold/accuracy=0.523\n",
      "[2.56 epo]: RTE:[RTE_train/RTE_gold/loss=6.89e-01, RTE_valid/RTE_gold/accuracy=4.73e-01] RTE_slice:dash_semicolon:ind:[RTE_train/RTE_slice:dash_semicolon:ind/loss=1.59e-02, RTE_valid/RTE_slice:dash_semicolon:ind/accuracy=9.82e-01] RTE_slice:dash_semicolon:pred:[RTE_train/RTE_slice:dash_semicolon:pred/loss=8.58e-02, RTE_valid/RTE_slice:dash_semicolon:pred/accuracy=5.78e-01] RTE_slice:more_people:ind:[RTE_train/RTE_slice:more_people:ind/loss=2.34e-02, RTE_valid/RTE_slice:more_people:ind/accuracy=9.57e-01] RTE_slice:more_people:pred:[RTE_train/RTE_slice:more_people:pred/loss=1.20e-01, RTE_valid/RTE_slice:more_people:pred/accuracy=3.33e-01] RTE_slice:BASE:ind:[RTE_train/RTE_slice:BASE:ind/loss=3.39e-03, RTE_valid/RTE_slice:BASE:ind/accuracy=1.00e+00] RTE_slice:BASE:pred:[RTE_train/RTE_slice:BASE:pred/loss=1.03e-01, RTE_valid/RTE_slice:BASE:pred/accuracy=6.21e-01] model:[train/all/loss=1.61e-01, train/all/lr=5.00e-05]\n",
      "[2.67 epo]: RTE:[RTE_train/RTE_gold/loss=6.93e-01, RTE_valid/RTE_gold/accuracy=4.73e-01] RTE_slice:dash_semicolon:ind:[RTE_train/RTE_slice:dash_semicolon:ind/loss=1.07e-02, RTE_valid/RTE_slice:dash_semicolon:ind/accuracy=9.82e-01] RTE_slice:dash_semicolon:pred:[RTE_train/RTE_slice:dash_semicolon:pred/loss=1.19e-01, RTE_valid/RTE_slice:dash_semicolon:pred/accuracy=5.86e-01] RTE_slice:more_people:ind:[RTE_train/RTE_slice:more_people:ind/loss=1.62e-02, RTE_valid/RTE_slice:more_people:ind/accuracy=9.57e-01] RTE_slice:BASE:ind:[RTE_train/RTE_slice:BASE:ind/loss=3.12e-03, RTE_valid/RTE_slice:BASE:ind/accuracy=1.00e+00] RTE_slice:BASE:pred:[RTE_train/RTE_slice:BASE:pred/loss=1.10e-01, RTE_valid/RTE_slice:BASE:pred/accuracy=6.28e-01] RTE_slice:more_people:pred:[RTE_train/RTE_slice:more_people:pred/loss=1.13e-01, RTE_valid/RTE_slice:more_people:pred/accuracy=3.33e-01] model:[train/all/loss=1.63e-01, train/all/lr=5.00e-05]\n",
      "[2.77 epo]: RTE:[RTE_train/RTE_gold/loss=6.91e-01, RTE_valid/RTE_gold/accuracy=5.85e-01] RTE_slice:dash_semicolon:ind:[RTE_train/RTE_slice:dash_semicolon:ind/loss=1.85e-02, RTE_valid/RTE_slice:dash_semicolon:ind/accuracy=9.82e-01] RTE_slice:dash_semicolon:pred:[RTE_train/RTE_slice:dash_semicolon:pred/loss=1.04e-01, RTE_valid/RTE_slice:dash_semicolon:pred/accuracy=5.60e-01] RTE_slice:more_people:ind:[RTE_train/RTE_slice:more_people:ind/loss=1.55e-02, RTE_valid/RTE_slice:more_people:ind/accuracy=9.57e-01] RTE_slice:BASE:ind:[RTE_train/RTE_slice:BASE:ind/loss=2.96e-03, RTE_valid/RTE_slice:BASE:ind/accuracy=1.00e+00] RTE_slice:BASE:pred:[RTE_train/RTE_slice:BASE:pred/loss=1.02e-01, RTE_valid/RTE_slice:BASE:pred/accuracy=6.10e-01] RTE_slice:more_people:pred:[RTE_train/RTE_slice:more_people:pred/loss=9.60e-02, RTE_valid/RTE_slice:more_people:pred/accuracy=3.33e-01] model:[train/all/loss=1.61e-01, train/all/lr=5.00e-05]\n",
      "Saving model at iteration 2.77 with best (max) score RTE/RTE_valid/RTE_gold/accuracy=0.585\n",
      "[2.87 epo]: RTE:[RTE_train/RTE_gold/loss=6.90e-01, RTE_valid/RTE_gold/accuracy=5.88e-01] RTE_slice:dash_semicolon:ind:[RTE_train/RTE_slice:dash_semicolon:ind/loss=1.29e-02, RTE_valid/RTE_slice:dash_semicolon:ind/accuracy=9.82e-01] RTE_slice:dash_semicolon:pred:[RTE_train/RTE_slice:dash_semicolon:pred/loss=9.94e-02, RTE_valid/RTE_slice:dash_semicolon:pred/accuracy=5.60e-01] RTE_slice:more_people:ind:[RTE_train/RTE_slice:more_people:ind/loss=2.01e-02, RTE_valid/RTE_slice:more_people:ind/accuracy=9.57e-01] RTE_slice:BASE:ind:[RTE_train/RTE_slice:BASE:ind/loss=2.35e-03, RTE_valid/RTE_slice:BASE:ind/accuracy=1.00e+00] RTE_slice:BASE:pred:[RTE_train/RTE_slice:BASE:pred/loss=1.01e-01, RTE_valid/RTE_slice:BASE:pred/accuracy=6.06e-01] RTE_slice:more_people:pred:[RTE_train/RTE_slice:more_people:pred/loss=1.34e-01, RTE_valid/RTE_slice:more_people:pred/accuracy=4.17e-01] model:[train/all/loss=1.60e-01, train/all/lr=5.00e-05]\n",
      "Saving model at iteration 2.87 with best (max) score RTE/RTE_valid/RTE_gold/accuracy=0.588\n"
     ]
    },
    {
     "name": "stdout",
     "output_type": "stream",
     "text": [
      "[2.97 epo]: RTE:[RTE_train/RTE_gold/loss=6.89e-01, RTE_valid/RTE_gold/accuracy=5.09e-01] RTE_slice:dash_semicolon:ind:[RTE_train/RTE_slice:dash_semicolon:ind/loss=1.40e-02, RTE_valid/RTE_slice:dash_semicolon:ind/accuracy=9.82e-01] RTE_slice:dash_semicolon:pred:[RTE_train/RTE_slice:dash_semicolon:pred/loss=8.95e-02, RTE_valid/RTE_slice:dash_semicolon:pred/accuracy=5.52e-01] RTE_slice:more_people:ind:[RTE_train/RTE_slice:more_people:ind/loss=2.16e-02, RTE_valid/RTE_slice:more_people:ind/accuracy=9.57e-01] RTE_slice:BASE:ind:[RTE_train/RTE_slice:BASE:ind/loss=2.92e-03, RTE_valid/RTE_slice:BASE:ind/accuracy=1.00e+00] RTE_slice:BASE:pred:[RTE_train/RTE_slice:BASE:pred/loss=1.02e-01, RTE_valid/RTE_slice:BASE:pred/accuracy=6.46e-01] RTE_slice:more_people:pred:[RTE_train/RTE_slice:more_people:pred/loss=7.23e-02, RTE_valid/RTE_slice:more_people:pred/accuracy=3.33e-01] model:[train/all/loss=1.60e-01, train/all/lr=5.00e-05]\n",
      "\n"
     ]
    },
    {
     "data": {
      "application/vnd.jupyter.widget-view+json": {
       "model_id": "843e3fa5a1404706bbb695e12ba0d543",
       "version_major": 2,
       "version_minor": 0
      },
      "text/plain": [
       "HBox(children=(IntProgress(value=0, max=312), HTML(value='')))"
      ]
     },
     "metadata": {},
     "output_type": "display_data"
    },
    {
     "name": "stdout",
     "output_type": "stream",
     "text": [
      "[3.08 epo]: RTE:[RTE_train/RTE_gold/loss=6.88e-01, RTE_valid/RTE_gold/accuracy=6.03e-01] RTE_slice:dash_semicolon:ind:[RTE_train/RTE_slice:dash_semicolon:ind/loss=1.39e-02, RTE_valid/RTE_slice:dash_semicolon:ind/accuracy=9.82e-01] RTE_slice:dash_semicolon:pred:[RTE_train/RTE_slice:dash_semicolon:pred/loss=7.94e-02, RTE_valid/RTE_slice:dash_semicolon:pred/accuracy=5.95e-01] RTE_slice:more_people:ind:[RTE_train/RTE_slice:more_people:ind/loss=2.11e-02, RTE_valid/RTE_slice:more_people:ind/accuracy=9.57e-01] RTE_slice:BASE:ind:[RTE_train/RTE_slice:BASE:ind/loss=2.11e-03, RTE_valid/RTE_slice:BASE:ind/accuracy=1.00e+00] RTE_slice:BASE:pred:[RTE_train/RTE_slice:BASE:pred/loss=9.05e-02, RTE_valid/RTE_slice:BASE:pred/accuracy=6.46e-01] RTE_slice:more_people:pred:[RTE_train/RTE_slice:more_people:pred/loss=1.15e-01, RTE_valid/RTE_slice:more_people:pred/accuracy=4.17e-01] model:[train/all/loss=1.56e-01, train/all/lr=5.00e-05]\n",
      "Saving model at iteration 3.08 with best (max) score RTE/RTE_valid/RTE_gold/accuracy=0.603\n",
      "[3.18 epo]: RTE:[RTE_train/RTE_gold/loss=6.86e-01, RTE_valid/RTE_gold/accuracy=6.21e-01] RTE_slice:dash_semicolon:ind:[RTE_train/RTE_slice:dash_semicolon:ind/loss=1.83e-02, RTE_valid/RTE_slice:dash_semicolon:ind/accuracy=9.82e-01] RTE_slice:dash_semicolon:pred:[RTE_train/RTE_slice:dash_semicolon:pred/loss=7.65e-02, RTE_valid/RTE_slice:dash_semicolon:pred/accuracy=5.60e-01] RTE_slice:more_people:ind:[RTE_train/RTE_slice:more_people:ind/loss=1.18e-02, RTE_valid/RTE_slice:more_people:ind/accuracy=9.57e-01] RTE_slice:BASE:ind:[RTE_train/RTE_slice:BASE:ind/loss=2.55e-03, RTE_valid/RTE_slice:BASE:ind/accuracy=1.00e+00] RTE_slice:BASE:pred:[RTE_train/RTE_slice:BASE:pred/loss=8.68e-02, RTE_valid/RTE_slice:BASE:pred/accuracy=6.35e-01] RTE_slice:more_people:pred:[RTE_train/RTE_slice:more_people:pred/loss=4.31e-02, RTE_valid/RTE_slice:more_people:pred/accuracy=4.17e-01] model:[train/all/loss=1.55e-01, train/all/lr=5.00e-05]\n",
      "Saving model at iteration 3.18 with best (max) score RTE/RTE_valid/RTE_gold/accuracy=0.621\n",
      "[3.28 epo]: RTE:[RTE_train/RTE_gold/loss=6.89e-01, RTE_valid/RTE_gold/accuracy=6.50e-01] RTE_slice:dash_semicolon:ind:[RTE_train/RTE_slice:dash_semicolon:ind/loss=8.35e-03, RTE_valid/RTE_slice:dash_semicolon:ind/accuracy=9.82e-01] RTE_slice:dash_semicolon:pred:[RTE_train/RTE_slice:dash_semicolon:pred/loss=7.48e-02, RTE_valid/RTE_slice:dash_semicolon:pred/accuracy=5.60e-01] RTE_slice:more_people:ind:[RTE_train/RTE_slice:more_people:ind/loss=2.41e-02, RTE_valid/RTE_slice:more_people:ind/accuracy=9.57e-01] RTE_slice:BASE:ind:[RTE_train/RTE_slice:BASE:ind/loss=2.70e-03, RTE_valid/RTE_slice:BASE:ind/accuracy=1.00e+00] RTE_slice:BASE:pred:[RTE_train/RTE_slice:BASE:pred/loss=9.33e-02, RTE_valid/RTE_slice:BASE:pred/accuracy=6.50e-01] RTE_slice:more_people:pred:[RTE_train/RTE_slice:more_people:pred/loss=9.89e-02, RTE_valid/RTE_slice:more_people:pred/accuracy=3.33e-01] model:[train/all/loss=1.56e-01, train/all/lr=5.00e-05]\n",
      "Saving model at iteration 3.28 with best (max) score RTE/RTE_valid/RTE_gold/accuracy=0.650\n",
      "[3.38 epo]: RTE:[RTE_train/RTE_gold/loss=6.87e-01, RTE_valid/RTE_gold/accuracy=6.46e-01] RTE_slice:dash_semicolon:ind:[RTE_train/RTE_slice:dash_semicolon:ind/loss=1.29e-02, RTE_valid/RTE_slice:dash_semicolon:ind/accuracy=9.82e-01] RTE_slice:dash_semicolon:pred:[RTE_train/RTE_slice:dash_semicolon:pred/loss=7.68e-02, RTE_valid/RTE_slice:dash_semicolon:pred/accuracy=5.69e-01] RTE_slice:more_people:ind:[RTE_train/RTE_slice:more_people:ind/loss=9.59e-03, RTE_valid/RTE_slice:more_people:ind/accuracy=9.57e-01] RTE_slice:BASE:ind:[RTE_train/RTE_slice:BASE:ind/loss=2.96e-03, RTE_valid/RTE_slice:BASE:ind/accuracy=1.00e+00] RTE_slice:BASE:pred:[RTE_train/RTE_slice:BASE:pred/loss=9.00e-02, RTE_valid/RTE_slice:BASE:pred/accuracy=6.21e-01] RTE_slice:more_people:pred:[RTE_train/RTE_slice:more_people:pred/loss=9.71e-02, RTE_valid/RTE_slice:more_people:pred/accuracy=3.33e-01] model:[train/all/loss=1.54e-01, train/all/lr=5.00e-05]\n",
      "[3.49 epo]: RTE:[RTE_train/RTE_gold/loss=6.85e-01, RTE_valid/RTE_gold/accuracy=6.43e-01] RTE_slice:dash_semicolon:ind:[RTE_train/RTE_slice:dash_semicolon:ind/loss=1.67e-02, RTE_valid/RTE_slice:dash_semicolon:ind/accuracy=9.82e-01] RTE_slice:dash_semicolon:pred:[RTE_train/RTE_slice:dash_semicolon:pred/loss=9.40e-02, RTE_valid/RTE_slice:dash_semicolon:pred/accuracy=5.69e-01] RTE_slice:more_people:ind:[RTE_train/RTE_slice:more_people:ind/loss=2.03e-02, RTE_valid/RTE_slice:more_people:ind/accuracy=9.57e-01] RTE_slice:BASE:ind:[RTE_train/RTE_slice:BASE:ind/loss=2.67e-03, RTE_valid/RTE_slice:BASE:ind/accuracy=1.00e+00] RTE_slice:BASE:pred:[RTE_train/RTE_slice:BASE:pred/loss=9.32e-02, RTE_valid/RTE_slice:BASE:pred/accuracy=6.28e-01] RTE_slice:more_people:pred:[RTE_train/RTE_slice:more_people:pred/loss=5.52e-02, RTE_valid/RTE_slice:more_people:pred/accuracy=3.33e-01] model:[train/all/loss=1.58e-01, train/all/lr=5.00e-05]\n",
      "[3.59 epo]: RTE:[RTE_train/RTE_gold/loss=6.88e-01, RTE_valid/RTE_gold/accuracy=5.16e-01] RTE_slice:dash_semicolon:ind:[RTE_train/RTE_slice:dash_semicolon:ind/loss=8.30e-03, RTE_valid/RTE_slice:dash_semicolon:ind/accuracy=9.82e-01] RTE_slice:dash_semicolon:pred:[RTE_train/RTE_slice:dash_semicolon:pred/loss=8.83e-02, RTE_valid/RTE_slice:dash_semicolon:pred/accuracy=5.60e-01] RTE_slice:more_people:ind:[RTE_train/RTE_slice:more_people:ind/loss=3.59e-02, RTE_valid/RTE_slice:more_people:ind/accuracy=9.57e-01] RTE_slice:more_people:pred:[RTE_train/RTE_slice:more_people:pred/loss=1.19e-01, RTE_valid/RTE_slice:more_people:pred/accuracy=3.33e-01] RTE_slice:BASE:ind:[RTE_train/RTE_slice:BASE:ind/loss=3.64e-03, RTE_valid/RTE_slice:BASE:ind/accuracy=1.00e+00] RTE_slice:BASE:pred:[RTE_train/RTE_slice:BASE:pred/loss=1.02e-01, RTE_valid/RTE_slice:BASE:pred/accuracy=6.50e-01] model:[train/all/loss=1.61e-01, train/all/lr=5.00e-05]\n",
      "[3.69 epo]: RTE:[RTE_train/RTE_gold/loss=6.86e-01, RTE_valid/RTE_gold/accuracy=6.28e-01] RTE_slice:dash_semicolon:ind:[RTE_train/RTE_slice:dash_semicolon:ind/loss=9.81e-03, RTE_valid/RTE_slice:dash_semicolon:ind/accuracy=9.82e-01] RTE_slice:dash_semicolon:pred:[RTE_train/RTE_slice:dash_semicolon:pred/loss=8.43e-02, RTE_valid/RTE_slice:dash_semicolon:pred/accuracy=5.69e-01] RTE_slice:more_people:ind:[RTE_train/RTE_slice:more_people:ind/loss=2.12e-02, RTE_valid/RTE_slice:more_people:ind/accuracy=9.57e-01] RTE_slice:BASE:ind:[RTE_train/RTE_slice:BASE:ind/loss=3.06e-03, RTE_valid/RTE_slice:BASE:ind/accuracy=1.00e+00] RTE_slice:BASE:pred:[RTE_train/RTE_slice:BASE:pred/loss=9.27e-02, RTE_valid/RTE_slice:BASE:pred/accuracy=6.14e-01] RTE_slice:more_people:pred:[RTE_train/RTE_slice:more_people:pred/loss=8.41e-02, RTE_valid/RTE_slice:more_people:pred/accuracy=3.33e-01] model:[train/all/loss=1.56e-01, train/all/lr=5.00e-05]\n",
      "[3.79 epo]: RTE:[RTE_train/RTE_gold/loss=6.85e-01, RTE_valid/RTE_gold/accuracy=6.28e-01] RTE_slice:dash_semicolon:ind:[RTE_train/RTE_slice:dash_semicolon:ind/loss=1.52e-02, RTE_valid/RTE_slice:dash_semicolon:ind/accuracy=9.82e-01] RTE_slice:dash_semicolon:pred:[RTE_train/RTE_slice:dash_semicolon:pred/loss=6.34e-02, RTE_valid/RTE_slice:dash_semicolon:pred/accuracy=5.60e-01] RTE_slice:more_people:ind:[RTE_train/RTE_slice:more_people:ind/loss=1.04e-02, RTE_valid/RTE_slice:more_people:ind/accuracy=9.57e-01] RTE_slice:BASE:ind:[RTE_train/RTE_slice:BASE:ind/loss=1.99e-03, RTE_valid/RTE_slice:BASE:ind/accuracy=1.00e+00] RTE_slice:BASE:pred:[RTE_train/RTE_slice:BASE:pred/loss=9.07e-02, RTE_valid/RTE_slice:BASE:pred/accuracy=6.17e-01] RTE_slice:more_people:pred:[RTE_train/RTE_slice:more_people:pred/loss=8.55e-02, RTE_valid/RTE_slice:more_people:pred/accuracy=2.50e-01] model:[train/all/loss=1.53e-01, train/all/lr=5.00e-05]\n",
      "[3.90 epo]: RTE:[RTE_train/RTE_gold/loss=6.85e-01, RTE_valid/RTE_gold/accuracy=5.38e-01] RTE_slice:dash_semicolon:ind:[RTE_train/RTE_slice:dash_semicolon:ind/loss=1.07e-02, RTE_valid/RTE_slice:dash_semicolon:ind/accuracy=9.82e-01] RTE_slice:dash_semicolon:pred:[RTE_train/RTE_slice:dash_semicolon:pred/loss=8.70e-02, RTE_valid/RTE_slice:dash_semicolon:pred/accuracy=5.00e-01] RTE_slice:more_people:ind:[RTE_train/RTE_slice:more_people:ind/loss=2.14e-02, RTE_valid/RTE_slice:more_people:ind/accuracy=9.57e-01] RTE_slice:BASE:ind:[RTE_train/RTE_slice:BASE:ind/loss=2.24e-03, RTE_valid/RTE_slice:BASE:ind/accuracy=1.00e+00] RTE_slice:BASE:pred:[RTE_train/RTE_slice:BASE:pred/loss=9.27e-02, RTE_valid/RTE_slice:BASE:pred/accuracy=5.60e-01] RTE_slice:more_people:pred:[RTE_train/RTE_slice:more_people:pred/loss=1.18e-01, RTE_valid/RTE_slice:more_people:pred/accuracy=5.83e-01] model:[train/all/loss=1.57e-01, train/all/lr=5.00e-05]\n"
     ]
    },
    {
     "name": "stdout",
     "output_type": "stream",
     "text": [
      "[4.0 epo]: RTE:[RTE_train/RTE_gold/loss=6.88e-01, RTE_valid/RTE_gold/accuracy=4.95e-01] RTE_slice:dash_semicolon:ind:[RTE_train/RTE_slice:dash_semicolon:ind/loss=8.89e-03, RTE_valid/RTE_slice:dash_semicolon:ind/accuracy=9.82e-01] RTE_slice:dash_semicolon:pred:[RTE_train/RTE_slice:dash_semicolon:pred/loss=1.09e-01, RTE_valid/RTE_slice:dash_semicolon:pred/accuracy=5.43e-01] RTE_slice:more_people:ind:[RTE_train/RTE_slice:more_people:ind/loss=1.17e-02, RTE_valid/RTE_slice:more_people:ind/accuracy=9.57e-01] RTE_slice:more_people:pred:[RTE_train/RTE_slice:more_people:pred/loss=5.65e-02, RTE_valid/RTE_slice:more_people:pred/accuracy=3.33e-01] RTE_slice:BASE:ind:[RTE_train/RTE_slice:BASE:ind/loss=2.44e-03, RTE_valid/RTE_slice:BASE:ind/accuracy=1.00e+00] RTE_slice:BASE:pred:[RTE_train/RTE_slice:BASE:pred/loss=1.12e-01, RTE_valid/RTE_slice:BASE:pred/accuracy=5.60e-01] model:[train/all/loss=1.60e-01, train/all/lr=5.00e-05]\n",
      "\n"
     ]
    },
    {
     "data": {
      "application/vnd.jupyter.widget-view+json": {
       "model_id": "45c926689cec45838f4cf06f099122c7",
       "version_major": 2,
       "version_minor": 0
      },
      "text/plain": [
       "HBox(children=(IntProgress(value=0, max=312), HTML(value='')))"
      ]
     },
     "metadata": {},
     "output_type": "display_data"
    },
    {
     "name": "stdout",
     "output_type": "stream",
     "text": [
      "[4.10 epo]: RTE:[RTE_train/RTE_gold/loss=6.85e-01, RTE_valid/RTE_gold/accuracy=6.25e-01] RTE_slice:dash_semicolon:ind:[RTE_train/RTE_slice:dash_semicolon:ind/loss=1.02e-02, RTE_valid/RTE_slice:dash_semicolon:ind/accuracy=9.82e-01] RTE_slice:dash_semicolon:pred:[RTE_train/RTE_slice:dash_semicolon:pred/loss=8.23e-02, RTE_valid/RTE_slice:dash_semicolon:pred/accuracy=5.52e-01] RTE_slice:more_people:ind:[RTE_train/RTE_slice:more_people:ind/loss=1.76e-02, RTE_valid/RTE_slice:more_people:ind/accuracy=9.57e-01] RTE_slice:BASE:ind:[RTE_train/RTE_slice:BASE:ind/loss=1.50e-03, RTE_valid/RTE_slice:BASE:ind/accuracy=1.00e+00] RTE_slice:BASE:pred:[RTE_train/RTE_slice:BASE:pred/loss=9.06e-02, RTE_valid/RTE_slice:BASE:pred/accuracy=6.10e-01] RTE_slice:more_people:pred:[RTE_train/RTE_slice:more_people:pred/loss=1.14e-01, RTE_valid/RTE_slice:more_people:pred/accuracy=2.50e-01] model:[train/all/loss=1.55e-01, train/all/lr=5.00e-05]\n",
      "[4.21 epo]: RTE:[RTE_train/RTE_gold/loss=6.83e-01, RTE_valid/RTE_gold/accuracy=6.35e-01] RTE_slice:dash_semicolon:ind:[RTE_train/RTE_slice:dash_semicolon:ind/loss=1.52e-02, RTE_valid/RTE_slice:dash_semicolon:ind/accuracy=9.82e-01] RTE_slice:dash_semicolon:pred:[RTE_train/RTE_slice:dash_semicolon:pred/loss=7.53e-02, RTE_valid/RTE_slice:dash_semicolon:pred/accuracy=5.43e-01] RTE_slice:more_people:ind:[RTE_train/RTE_slice:more_people:ind/loss=7.69e-03, RTE_valid/RTE_slice:more_people:ind/accuracy=9.57e-01] RTE_slice:BASE:ind:[RTE_train/RTE_slice:BASE:ind/loss=1.72e-03, RTE_valid/RTE_slice:BASE:ind/accuracy=1.00e+00] RTE_slice:BASE:pred:[RTE_train/RTE_slice:BASE:pred/loss=8.76e-02, RTE_valid/RTE_slice:BASE:pred/accuracy=6.25e-01] RTE_slice:more_people:pred:[RTE_train/RTE_slice:more_people:pred/loss=2.05e-01, RTE_valid/RTE_slice:more_people:pred/accuracy=3.33e-01] model:[train/all/loss=1.52e-01, train/all/lr=5.00e-05]\n",
      "[4.31 epo]: RTE:[RTE_train/RTE_gold/loss=6.82e-01, RTE_valid/RTE_gold/accuracy=5.52e-01] RTE_slice:dash_semicolon:ind:[RTE_train/RTE_slice:dash_semicolon:ind/loss=1.05e-02, RTE_valid/RTE_slice:dash_semicolon:ind/accuracy=9.82e-01] RTE_slice:dash_semicolon:pred:[RTE_train/RTE_slice:dash_semicolon:pred/loss=6.85e-02, RTE_valid/RTE_slice:dash_semicolon:pred/accuracy=5.60e-01] RTE_slice:more_people:ind:[RTE_train/RTE_slice:more_people:ind/loss=1.76e-02, RTE_valid/RTE_slice:more_people:ind/accuracy=9.57e-01] RTE_slice:BASE:ind:[RTE_train/RTE_slice:BASE:ind/loss=1.78e-03, RTE_valid/RTE_slice:BASE:ind/accuracy=1.00e+00] RTE_slice:BASE:pred:[RTE_train/RTE_slice:BASE:pred/loss=8.99e-02, RTE_valid/RTE_slice:BASE:pred/accuracy=5.99e-01] RTE_slice:more_people:pred:[RTE_train/RTE_slice:more_people:pred/loss=6.85e-02, RTE_valid/RTE_slice:more_people:pred/accuracy=4.17e-01] model:[train/all/loss=1.53e-01, train/all/lr=5.00e-05]\n",
      "[4.41 epo]: RTE:[RTE_train/RTE_gold/loss=6.85e-01, RTE_valid/RTE_gold/accuracy=6.17e-01] RTE_slice:dash_semicolon:ind:[RTE_train/RTE_slice:dash_semicolon:ind/loss=7.56e-03, RTE_valid/RTE_slice:dash_semicolon:ind/accuracy=9.82e-01] RTE_slice:dash_semicolon:pred:[RTE_train/RTE_slice:dash_semicolon:pred/loss=9.12e-02, RTE_valid/RTE_slice:dash_semicolon:pred/accuracy=5.60e-01] RTE_slice:more_people:ind:[RTE_train/RTE_slice:more_people:ind/loss=2.14e-02, RTE_valid/RTE_slice:more_people:ind/accuracy=9.57e-01] RTE_slice:BASE:ind:[RTE_train/RTE_slice:BASE:ind/loss=1.47e-03, RTE_valid/RTE_slice:BASE:ind/accuracy=1.00e+00] RTE_slice:BASE:pred:[RTE_train/RTE_slice:BASE:pred/loss=9.58e-02, RTE_valid/RTE_slice:BASE:pred/accuracy=6.28e-01] RTE_slice:more_people:pred:[RTE_train/RTE_slice:more_people:pred/loss=8.65e-02, RTE_valid/RTE_slice:more_people:pred/accuracy=3.33e-01] model:[train/all/loss=1.57e-01, train/all/lr=5.00e-05]\n",
      "[4.51 epo]: RTE:[RTE_train/RTE_gold/loss=6.83e-01, RTE_valid/RTE_gold/accuracy=6.25e-01] RTE_slice:dash_semicolon:ind:[RTE_train/RTE_slice:dash_semicolon:ind/loss=8.57e-03, RTE_valid/RTE_slice:dash_semicolon:ind/accuracy=1.00e+00] RTE_slice:dash_semicolon:pred:[RTE_train/RTE_slice:dash_semicolon:pred/loss=8.05e-02, RTE_valid/RTE_slice:dash_semicolon:pred/accuracy=5.69e-01] RTE_slice:more_people:ind:[RTE_train/RTE_slice:more_people:ind/loss=2.03e-02, RTE_valid/RTE_slice:more_people:ind/accuracy=9.57e-01] RTE_slice:more_people:pred:[RTE_train/RTE_slice:more_people:pred/loss=6.80e-02, RTE_valid/RTE_slice:more_people:pred/accuracy=3.33e-01] RTE_slice:BASE:ind:[RTE_train/RTE_slice:BASE:ind/loss=2.26e-03, RTE_valid/RTE_slice:BASE:ind/accuracy=1.00e+00] RTE_slice:BASE:pred:[RTE_train/RTE_slice:BASE:pred/loss=9.07e-02, RTE_valid/RTE_slice:BASE:pred/accuracy=6.03e-01] model:[train/all/loss=1.54e-01, train/all/lr=5.00e-05]\n",
      "[4.62 epo]: RTE:[RTE_train/RTE_gold/loss=6.84e-01, RTE_valid/RTE_gold/accuracy=6.39e-01] RTE_slice:dash_semicolon:ind:[RTE_train/RTE_slice:dash_semicolon:ind/loss=6.34e-03, RTE_valid/RTE_slice:dash_semicolon:ind/accuracy=1.00e+00] RTE_slice:dash_semicolon:pred:[RTE_train/RTE_slice:dash_semicolon:pred/loss=9.06e-02, RTE_valid/RTE_slice:dash_semicolon:pred/accuracy=5.52e-01] RTE_slice:more_people:ind:[RTE_train/RTE_slice:more_people:ind/loss=2.08e-02, RTE_valid/RTE_slice:more_people:ind/accuracy=9.57e-01] RTE_slice:BASE:ind:[RTE_train/RTE_slice:BASE:ind/loss=2.83e-03, RTE_valid/RTE_slice:BASE:ind/accuracy=1.00e+00] RTE_slice:BASE:pred:[RTE_train/RTE_slice:BASE:pred/loss=9.74e-02, RTE_valid/RTE_slice:BASE:pred/accuracy=6.21e-01] RTE_slice:more_people:pred:[RTE_train/RTE_slice:more_people:pred/loss=7.23e-02, RTE_valid/RTE_slice:more_people:pred/accuracy=3.33e-01] model:[train/all/loss=1.56e-01, train/all/lr=5.00e-05]\n",
      "[4.72 epo]: RTE:[RTE_train/RTE_gold/loss=6.80e-01, RTE_valid/RTE_gold/accuracy=6.28e-01] RTE_slice:dash_semicolon:ind:[RTE_train/RTE_slice:dash_semicolon:ind/loss=8.28e-03, RTE_valid/RTE_slice:dash_semicolon:ind/accuracy=1.00e+00] RTE_slice:dash_semicolon:pred:[RTE_train/RTE_slice:dash_semicolon:pred/loss=6.17e-02, RTE_valid/RTE_slice:dash_semicolon:pred/accuracy=5.52e-01] RTE_slice:more_people:ind:[RTE_train/RTE_slice:more_people:ind/loss=2.37e-02, RTE_valid/RTE_slice:more_people:ind/accuracy=9.57e-01] RTE_slice:BASE:ind:[RTE_train/RTE_slice:BASE:ind/loss=2.19e-03, RTE_valid/RTE_slice:BASE:ind/accuracy=1.00e+00] RTE_slice:BASE:pred:[RTE_train/RTE_slice:BASE:pred/loss=8.84e-02, RTE_valid/RTE_slice:BASE:pred/accuracy=6.32e-01] RTE_slice:more_people:pred:[RTE_train/RTE_slice:more_people:pred/loss=9.44e-02, RTE_valid/RTE_slice:more_people:pred/accuracy=2.50e-01] model:[train/all/loss=1.53e-01, train/all/lr=5.00e-05]\n",
      "[4.82 epo]: RTE:[RTE_train/RTE_gold/loss=6.80e-01, RTE_valid/RTE_gold/accuracy=6.10e-01] RTE_slice:dash_semicolon:ind:[RTE_train/RTE_slice:dash_semicolon:ind/loss=6.18e-03, RTE_valid/RTE_slice:dash_semicolon:ind/accuracy=1.00e+00] RTE_slice:dash_semicolon:pred:[RTE_train/RTE_slice:dash_semicolon:pred/loss=6.01e-02, RTE_valid/RTE_slice:dash_semicolon:pred/accuracy=5.86e-01] RTE_slice:more_people:ind:[RTE_train/RTE_slice:more_people:ind/loss=1.46e-02, RTE_valid/RTE_slice:more_people:ind/accuracy=9.57e-01] RTE_slice:BASE:ind:[RTE_train/RTE_slice:BASE:ind/loss=1.56e-03, RTE_valid/RTE_slice:BASE:ind/accuracy=1.00e+00] RTE_slice:BASE:pred:[RTE_train/RTE_slice:BASE:pred/loss=8.84e-02, RTE_valid/RTE_slice:BASE:pred/accuracy=6.06e-01] RTE_slice:more_people:pred:[RTE_train/RTE_slice:more_people:pred/loss=6.84e-02, RTE_valid/RTE_slice:more_people:pred/accuracy=5.00e-01] model:[train/all/loss=1.51e-01, train/all/lr=5.00e-05]\n",
      "[4.92 epo]: RTE:[RTE_train/RTE_gold/loss=6.79e-01, RTE_valid/RTE_gold/accuracy=6.28e-01] RTE_slice:dash_semicolon:ind:[RTE_train/RTE_slice:dash_semicolon:ind/loss=5.92e-03, RTE_valid/RTE_slice:dash_semicolon:ind/accuracy=1.00e+00] RTE_slice:dash_semicolon:pred:[RTE_train/RTE_slice:dash_semicolon:pred/loss=6.38e-02, RTE_valid/RTE_slice:dash_semicolon:pred/accuracy=5.60e-01] RTE_slice:more_people:ind:[RTE_train/RTE_slice:more_people:ind/loss=2.99e-02, RTE_valid/RTE_slice:more_people:ind/accuracy=9.57e-01] RTE_slice:BASE:ind:[RTE_train/RTE_slice:BASE:ind/loss=1.58e-03, RTE_valid/RTE_slice:BASE:ind/accuracy=1.00e+00] RTE_slice:BASE:pred:[RTE_train/RTE_slice:BASE:pred/loss=8.88e-02, RTE_valid/RTE_slice:BASE:pred/accuracy=6.28e-01] RTE_slice:more_people:pred:[RTE_train/RTE_slice:more_people:pred/loss=7.49e-02, RTE_valid/RTE_slice:more_people:pred/accuracy=2.50e-01] model:[train/all/loss=1.54e-01, train/all/lr=5.00e-05]\n"
     ]
    },
    {
     "name": "stdout",
     "output_type": "stream",
     "text": [
      "\n"
     ]
    },
    {
     "data": {
      "application/vnd.jupyter.widget-view+json": {
       "model_id": "1d6dc1979a9f4d1babe4dfe65385b130",
       "version_major": 2,
       "version_minor": 0
      },
      "text/plain": [
       "HBox(children=(IntProgress(value=0, max=312), HTML(value='')))"
      ]
     },
     "metadata": {},
     "output_type": "display_data"
    },
    {
     "name": "stdout",
     "output_type": "stream",
     "text": [
      "[5.03 epo]: RTE:[RTE_train/RTE_gold/loss=6.78e-01, RTE_valid/RTE_gold/accuracy=6.35e-01] RTE_slice:dash_semicolon:ind:[RTE_train/RTE_slice:dash_semicolon:ind/loss=6.25e-03, RTE_valid/RTE_slice:dash_semicolon:ind/accuracy=1.00e+00] RTE_slice:dash_semicolon:pred:[RTE_train/RTE_slice:dash_semicolon:pred/loss=5.40e-02, RTE_valid/RTE_slice:dash_semicolon:pred/accuracy=5.78e-01] RTE_slice:more_people:ind:[RTE_train/RTE_slice:more_people:ind/loss=1.42e-02, RTE_valid/RTE_slice:more_people:ind/accuracy=9.57e-01] RTE_slice:BASE:ind:[RTE_train/RTE_slice:BASE:ind/loss=1.53e-03, RTE_valid/RTE_slice:BASE:ind/accuracy=1.00e+00] RTE_slice:BASE:pred:[RTE_train/RTE_slice:BASE:pred/loss=8.36e-02, RTE_valid/RTE_slice:BASE:pred/accuracy=6.46e-01] RTE_slice:more_people:pred:[RTE_train/RTE_slice:more_people:pred/loss=1.02e-01, RTE_valid/RTE_slice:more_people:pred/accuracy=4.17e-01] model:[train/all/loss=1.49e-01, train/all/lr=5.00e-05]\n",
      "[5.13 epo]: RTE:[RTE_train/RTE_gold/loss=6.75e-01, RTE_valid/RTE_gold/accuracy=6.14e-01] RTE_slice:dash_semicolon:ind:[RTE_train/RTE_slice:dash_semicolon:ind/loss=6.80e-03, RTE_valid/RTE_slice:dash_semicolon:ind/accuracy=1.00e+00] RTE_slice:dash_semicolon:pred:[RTE_train/RTE_slice:dash_semicolon:pred/loss=6.68e-02, RTE_valid/RTE_slice:dash_semicolon:pred/accuracy=5.78e-01] RTE_slice:more_people:ind:[RTE_train/RTE_slice:more_people:ind/loss=1.11e-02, RTE_valid/RTE_slice:more_people:ind/accuracy=9.57e-01] RTE_slice:BASE:ind:[RTE_train/RTE_slice:BASE:ind/loss=1.65e-03, RTE_valid/RTE_slice:BASE:ind/accuracy=1.00e+00] RTE_slice:BASE:pred:[RTE_train/RTE_slice:BASE:pred/loss=7.96e-02, RTE_valid/RTE_slice:BASE:pred/accuracy=6.25e-01] RTE_slice:more_people:pred:[RTE_train/RTE_slice:more_people:pred/loss=5.95e-02, RTE_valid/RTE_slice:more_people:pred/accuracy=2.50e-01] model:[train/all/loss=1.48e-01, train/all/lr=5.00e-05]\n",
      "[5.23 epo]: RTE:[RTE_train/RTE_gold/loss=6.72e-01, RTE_valid/RTE_gold/accuracy=6.17e-01] RTE_slice:dash_semicolon:ind:[RTE_train/RTE_slice:dash_semicolon:ind/loss=7.16e-03, RTE_valid/RTE_slice:dash_semicolon:ind/accuracy=1.00e+00] RTE_slice:dash_semicolon:pred:[RTE_train/RTE_slice:dash_semicolon:pred/loss=4.73e-02, RTE_valid/RTE_slice:dash_semicolon:pred/accuracy=5.34e-01] RTE_slice:more_people:ind:[RTE_train/RTE_slice:more_people:ind/loss=2.01e-02, RTE_valid/RTE_slice:more_people:ind/accuracy=9.57e-01] RTE_slice:BASE:ind:[RTE_train/RTE_slice:BASE:ind/loss=1.90e-03, RTE_valid/RTE_slice:BASE:ind/accuracy=1.00e+00] RTE_slice:BASE:pred:[RTE_train/RTE_slice:BASE:pred/loss=7.76e-02, RTE_valid/RTE_slice:BASE:pred/accuracy=6.17e-01] RTE_slice:more_people:pred:[RTE_train/RTE_slice:more_people:pred/loss=8.59e-02, RTE_valid/RTE_slice:more_people:pred/accuracy=2.50e-01] model:[train/all/loss=1.47e-01, train/all/lr=5.00e-05]\n",
      "[5.33 epo]: RTE:[RTE_train/RTE_gold/loss=6.74e-01, RTE_valid/RTE_gold/accuracy=6.35e-01] RTE_slice:dash_semicolon:ind:[RTE_train/RTE_slice:dash_semicolon:ind/loss=6.53e-03, RTE_valid/RTE_slice:dash_semicolon:ind/accuracy=1.00e+00] RTE_slice:dash_semicolon:pred:[RTE_train/RTE_slice:dash_semicolon:pred/loss=7.44e-02, RTE_valid/RTE_slice:dash_semicolon:pred/accuracy=5.60e-01] RTE_slice:more_people:ind:[RTE_train/RTE_slice:more_people:ind/loss=2.14e-02, RTE_valid/RTE_slice:more_people:ind/accuracy=9.57e-01] RTE_slice:more_people:pred:[RTE_train/RTE_slice:more_people:pred/loss=7.16e-02, RTE_valid/RTE_slice:more_people:pred/accuracy=6.67e-01] RTE_slice:BASE:ind:[RTE_train/RTE_slice:BASE:ind/loss=2.44e-03, RTE_valid/RTE_slice:BASE:ind/accuracy=1.00e+00] RTE_slice:BASE:pred:[RTE_train/RTE_slice:BASE:pred/loss=8.19e-02, RTE_valid/RTE_slice:BASE:pred/accuracy=6.28e-01] model:[train/all/loss=1.51e-01, train/all/lr=5.00e-05]\n",
      "[5.44 epo]: RTE:[RTE_train/RTE_gold/loss=6.74e-01, RTE_valid/RTE_gold/accuracy=6.68e-01] RTE_slice:dash_semicolon:ind:[RTE_train/RTE_slice:dash_semicolon:ind/loss=6.67e-03, RTE_valid/RTE_slice:dash_semicolon:ind/accuracy=1.00e+00] RTE_slice:dash_semicolon:pred:[RTE_train/RTE_slice:dash_semicolon:pred/loss=7.12e-02, RTE_valid/RTE_slice:dash_semicolon:pred/accuracy=6.12e-01] RTE_slice:more_people:ind:[RTE_train/RTE_slice:more_people:ind/loss=1.97e-02, RTE_valid/RTE_slice:more_people:ind/accuracy=9.57e-01] RTE_slice:BASE:ind:[RTE_train/RTE_slice:BASE:ind/loss=1.88e-03, RTE_valid/RTE_slice:BASE:ind/accuracy=1.00e+00] RTE_slice:BASE:pred:[RTE_train/RTE_slice:BASE:pred/loss=8.68e-02, RTE_valid/RTE_slice:BASE:pred/accuracy=6.46e-01] RTE_slice:more_people:pred:[RTE_train/RTE_slice:more_people:pred/loss=7.12e-02, RTE_valid/RTE_slice:more_people:pred/accuracy=7.50e-01] model:[train/all/loss=1.52e-01, train/all/lr=5.00e-05]\n",
      "Saving model at iteration 5.44 with best (max) score RTE/RTE_valid/RTE_gold/accuracy=0.668\n",
      "[5.54 epo]: RTE:[RTE_train/RTE_gold/loss=6.76e-01, RTE_valid/RTE_gold/accuracy=6.35e-01] RTE_slice:dash_semicolon:ind:[RTE_train/RTE_slice:dash_semicolon:ind/loss=5.48e-03, RTE_valid/RTE_slice:dash_semicolon:ind/accuracy=9.96e-01] RTE_slice:dash_semicolon:pred:[RTE_train/RTE_slice:dash_semicolon:pred/loss=5.53e-02, RTE_valid/RTE_slice:dash_semicolon:pred/accuracy=5.78e-01] RTE_slice:more_people:ind:[RTE_train/RTE_slice:more_people:ind/loss=2.29e-02, RTE_valid/RTE_slice:more_people:ind/accuracy=9.57e-01] RTE_slice:more_people:pred:[RTE_train/RTE_slice:more_people:pred/loss=1.00e-01, RTE_valid/RTE_slice:more_people:pred/accuracy=7.50e-01] RTE_slice:BASE:ind:[RTE_train/RTE_slice:BASE:ind/loss=1.17e-03, RTE_valid/RTE_slice:BASE:ind/accuracy=1.00e+00] RTE_slice:BASE:pred:[RTE_train/RTE_slice:BASE:pred/loss=8.77e-02, RTE_valid/RTE_slice:BASE:pred/accuracy=6.32e-01] model:[train/all/loss=1.50e-01, train/all/lr=5.00e-05]\n",
      "[5.64 epo]: RTE:[RTE_train/RTE_gold/loss=6.75e-01, RTE_valid/RTE_gold/accuracy=6.28e-01] RTE_slice:dash_semicolon:ind:[RTE_train/RTE_slice:dash_semicolon:ind/loss=5.42e-03, RTE_valid/RTE_slice:dash_semicolon:ind/accuracy=1.00e+00] RTE_slice:dash_semicolon:pred:[RTE_train/RTE_slice:dash_semicolon:pred/loss=7.43e-02, RTE_valid/RTE_slice:dash_semicolon:pred/accuracy=5.43e-01] RTE_slice:more_people:ind:[RTE_train/RTE_slice:more_people:ind/loss=2.37e-02, RTE_valid/RTE_slice:more_people:ind/accuracy=9.57e-01] RTE_slice:BASE:ind:[RTE_train/RTE_slice:BASE:ind/loss=1.58e-03, RTE_valid/RTE_slice:BASE:ind/accuracy=1.00e+00] RTE_slice:BASE:pred:[RTE_train/RTE_slice:BASE:pred/loss=8.80e-02, RTE_valid/RTE_slice:BASE:pred/accuracy=6.21e-01] RTE_slice:more_people:pred:[RTE_train/RTE_slice:more_people:pred/loss=9.33e-02, RTE_valid/RTE_slice:more_people:pred/accuracy=3.33e-01] model:[train/all/loss=1.52e-01, train/all/lr=5.00e-05]\n",
      "[5.74 epo]: RTE:[RTE_train/RTE_gold/loss=6.77e-01, RTE_valid/RTE_gold/accuracy=6.57e-01] RTE_slice:dash_semicolon:ind:[RTE_train/RTE_slice:dash_semicolon:ind/loss=3.85e-03, RTE_valid/RTE_slice:dash_semicolon:ind/accuracy=1.00e+00] RTE_slice:dash_semicolon:pred:[RTE_train/RTE_slice:dash_semicolon:pred/loss=8.10e-02, RTE_valid/RTE_slice:dash_semicolon:pred/accuracy=5.78e-01] RTE_slice:more_people:ind:[RTE_train/RTE_slice:more_people:ind/loss=1.41e-02, RTE_valid/RTE_slice:more_people:ind/accuracy=9.57e-01] RTE_slice:more_people:pred:[RTE_train/RTE_slice:more_people:pred/loss=7.95e-02, RTE_valid/RTE_slice:more_people:pred/accuracy=2.50e-01] RTE_slice:BASE:ind:[RTE_train/RTE_slice:BASE:ind/loss=1.39e-03, RTE_valid/RTE_slice:BASE:ind/accuracy=1.00e+00] RTE_slice:BASE:pred:[RTE_train/RTE_slice:BASE:pred/loss=9.32e-02, RTE_valid/RTE_slice:BASE:pred/accuracy=6.43e-01] model:[train/all/loss=1.52e-01, train/all/lr=5.00e-05]\n",
      "[5.85 epo]: RTE:[RTE_train/RTE_gold/loss=6.72e-01, RTE_valid/RTE_gold/accuracy=6.35e-01] RTE_slice:dash_semicolon:ind:[RTE_train/RTE_slice:dash_semicolon:ind/loss=5.90e-03, RTE_valid/RTE_slice:dash_semicolon:ind/accuracy=1.00e+00] RTE_slice:dash_semicolon:pred:[RTE_train/RTE_slice:dash_semicolon:pred/loss=6.98e-02, RTE_valid/RTE_slice:dash_semicolon:pred/accuracy=5.69e-01] RTE_slice:more_people:ind:[RTE_train/RTE_slice:more_people:ind/loss=2.31e-02, RTE_valid/RTE_slice:more_people:ind/accuracy=9.57e-01] RTE_slice:more_people:pred:[RTE_train/RTE_slice:more_people:pred/loss=9.50e-02, RTE_valid/RTE_slice:more_people:pred/accuracy=3.33e-01] RTE_slice:BASE:ind:[RTE_train/RTE_slice:BASE:ind/loss=1.68e-03, RTE_valid/RTE_slice:BASE:ind/accuracy=1.00e+00] RTE_slice:BASE:pred:[RTE_train/RTE_slice:BASE:pred/loss=8.53e-02, RTE_valid/RTE_slice:BASE:pred/accuracy=6.21e-01] model:[train/all/loss=1.51e-01, train/all/lr=5.00e-05]\n"
     ]
    },
    {
     "name": "stdout",
     "output_type": "stream",
     "text": [
      "[5.95 epo]: RTE:[RTE_train/RTE_gold/loss=6.68e-01, RTE_valid/RTE_gold/accuracy=6.46e-01] RTE_slice:dash_semicolon:ind:[RTE_train/RTE_slice:dash_semicolon:ind/loss=5.92e-03, RTE_valid/RTE_slice:dash_semicolon:ind/accuracy=1.00e+00] RTE_slice:dash_semicolon:pred:[RTE_train/RTE_slice:dash_semicolon:pred/loss=6.42e-02, RTE_valid/RTE_slice:dash_semicolon:pred/accuracy=5.69e-01] RTE_slice:more_people:ind:[RTE_train/RTE_slice:more_people:ind/loss=1.57e-02, RTE_valid/RTE_slice:more_people:ind/accuracy=9.57e-01] RTE_slice:BASE:ind:[RTE_train/RTE_slice:BASE:ind/loss=1.23e-03, RTE_valid/RTE_slice:BASE:ind/accuracy=1.00e+00] RTE_slice:BASE:pred:[RTE_train/RTE_slice:BASE:pred/loss=7.55e-02, RTE_valid/RTE_slice:BASE:pred/accuracy=6.39e-01] RTE_slice:more_people:pred:[RTE_train/RTE_slice:more_people:pred/loss=6.46e-02, RTE_valid/RTE_slice:more_people:pred/accuracy=5.83e-01] model:[train/all/loss=1.46e-01, train/all/lr=5.00e-05]\n",
      "\n"
     ]
    },
    {
     "data": {
      "application/vnd.jupyter.widget-view+json": {
       "model_id": "f96869c2623b4fa8bb16dfe26e97ec0a",
       "version_major": 2,
       "version_minor": 0
      },
      "text/plain": [
       "HBox(children=(IntProgress(value=0, max=312), HTML(value='')))"
      ]
     },
     "metadata": {},
     "output_type": "display_data"
    },
    {
     "name": "stdout",
     "output_type": "stream",
     "text": [
      "[6.05 epo]: RTE:[RTE_train/RTE_gold/loss=6.63e-01, RTE_valid/RTE_gold/accuracy=6.46e-01] RTE_slice:dash_semicolon:ind:[RTE_train/RTE_slice:dash_semicolon:ind/loss=6.92e-03, RTE_valid/RTE_slice:dash_semicolon:ind/accuracy=1.00e+00] RTE_slice:dash_semicolon:pred:[RTE_train/RTE_slice:dash_semicolon:pred/loss=4.64e-02, RTE_valid/RTE_slice:dash_semicolon:pred/accuracy=6.03e-01] RTE_slice:more_people:ind:[RTE_train/RTE_slice:more_people:ind/loss=1.49e-02, RTE_valid/RTE_slice:more_people:ind/accuracy=9.57e-01] RTE_slice:BASE:ind:[RTE_train/RTE_slice:BASE:ind/loss=1.50e-03, RTE_valid/RTE_slice:BASE:ind/accuracy=1.00e+00] RTE_slice:BASE:pred:[RTE_train/RTE_slice:BASE:pred/loss=7.08e-02, RTE_valid/RTE_slice:BASE:pred/accuracy=6.50e-01] RTE_slice:more_people:pred:[RTE_train/RTE_slice:more_people:pred/loss=5.17e-02, RTE_valid/RTE_slice:more_people:pred/accuracy=4.17e-01] model:[train/all/loss=1.44e-01, train/all/lr=5.00e-05]\n",
      "[6.15 epo]: RTE:[RTE_train/RTE_gold/loss=6.66e-01, RTE_valid/RTE_gold/accuracy=6.17e-01] RTE_slice:dash_semicolon:ind:[RTE_train/RTE_slice:dash_semicolon:ind/loss=5.92e-03, RTE_valid/RTE_slice:dash_semicolon:ind/accuracy=1.00e+00] RTE_slice:dash_semicolon:pred:[RTE_train/RTE_slice:dash_semicolon:pred/loss=7.53e-02, RTE_valid/RTE_slice:dash_semicolon:pred/accuracy=5.43e-01] RTE_slice:more_people:ind:[RTE_train/RTE_slice:more_people:ind/loss=1.49e-02, RTE_valid/RTE_slice:more_people:ind/accuracy=9.57e-01] RTE_slice:BASE:ind:[RTE_train/RTE_slice:BASE:ind/loss=1.22e-03, RTE_valid/RTE_slice:BASE:ind/accuracy=1.00e+00] RTE_slice:BASE:pred:[RTE_train/RTE_slice:BASE:pred/loss=7.72e-02, RTE_valid/RTE_slice:BASE:pred/accuracy=6.14e-01] RTE_slice:more_people:pred:[RTE_train/RTE_slice:more_people:pred/loss=3.54e-02, RTE_valid/RTE_slice:more_people:pred/accuracy=3.33e-01] model:[train/all/loss=1.48e-01, train/all/lr=5.00e-05]\n",
      "[6.26 epo]: RTE:[RTE_train/RTE_gold/loss=6.67e-01, RTE_valid/RTE_gold/accuracy=6.39e-01] RTE_slice:dash_semicolon:ind:[RTE_train/RTE_slice:dash_semicolon:ind/loss=5.93e-03, RTE_valid/RTE_slice:dash_semicolon:ind/accuracy=1.00e+00] RTE_slice:dash_semicolon:pred:[RTE_train/RTE_slice:dash_semicolon:pred/loss=8.54e-02, RTE_valid/RTE_slice:dash_semicolon:pred/accuracy=5.78e-01] RTE_slice:more_people:ind:[RTE_train/RTE_slice:more_people:ind/loss=1.70e-02, RTE_valid/RTE_slice:more_people:ind/accuracy=9.57e-01] RTE_slice:more_people:pred:[RTE_train/RTE_slice:more_people:pred/loss=3.83e-02, RTE_valid/RTE_slice:more_people:pred/accuracy=5.00e-01] RTE_slice:BASE:ind:[RTE_train/RTE_slice:BASE:ind/loss=1.07e-03, RTE_valid/RTE_slice:BASE:ind/accuracy=1.00e+00] RTE_slice:BASE:pred:[RTE_train/RTE_slice:BASE:pred/loss=8.63e-02, RTE_valid/RTE_slice:BASE:pred/accuracy=6.35e-01] model:[train/all/loss=1.49e-01, train/all/lr=5.00e-05]\n",
      "[6.36 epo]: RTE:[RTE_train/RTE_gold/loss=6.60e-01, RTE_valid/RTE_gold/accuracy=6.28e-01] RTE_slice:dash_semicolon:ind:[RTE_train/RTE_slice:dash_semicolon:ind/loss=7.62e-03, RTE_valid/RTE_slice:dash_semicolon:ind/accuracy=1.00e+00] RTE_slice:dash_semicolon:pred:[RTE_train/RTE_slice:dash_semicolon:pred/loss=4.88e-02, RTE_valid/RTE_slice:dash_semicolon:pred/accuracy=5.60e-01] RTE_slice:more_people:ind:[RTE_train/RTE_slice:more_people:ind/loss=1.91e-02, RTE_valid/RTE_slice:more_people:ind/accuracy=9.57e-01] RTE_slice:BASE:ind:[RTE_train/RTE_slice:BASE:ind/loss=1.48e-03, RTE_valid/RTE_slice:BASE:ind/accuracy=1.00e+00] RTE_slice:BASE:pred:[RTE_train/RTE_slice:BASE:pred/loss=7.24e-02, RTE_valid/RTE_slice:BASE:pred/accuracy=6.25e-01] RTE_slice:more_people:pred:[RTE_train/RTE_slice:more_people:pred/loss=7.01e-02, RTE_valid/RTE_slice:more_people:pred/accuracy=4.17e-01] model:[train/all/loss=1.44e-01, train/all/lr=5.00e-05]\n",
      "[6.46 epo]: RTE:[RTE_train/RTE_gold/loss=6.64e-01, RTE_valid/RTE_gold/accuracy=6.39e-01] RTE_slice:dash_semicolon:ind:[RTE_train/RTE_slice:dash_semicolon:ind/loss=5.47e-03, RTE_valid/RTE_slice:dash_semicolon:ind/accuracy=1.00e+00] RTE_slice:more_people:ind:[RTE_train/RTE_slice:more_people:ind/loss=2.07e-02, RTE_valid/RTE_slice:more_people:ind/accuracy=9.57e-01] RTE_slice:BASE:ind:[RTE_train/RTE_slice:BASE:ind/loss=2.19e-03, RTE_valid/RTE_slice:BASE:ind/accuracy=1.00e+00] RTE_slice:BASE:pred:[RTE_train/RTE_slice:BASE:pred/loss=8.10e-02, RTE_valid/RTE_slice:BASE:pred/accuracy=6.21e-01] RTE_slice:dash_semicolon:pred:[RTE_train/RTE_slice:dash_semicolon:pred/loss=7.15e-02, RTE_valid/RTE_slice:dash_semicolon:pred/accuracy=5.52e-01] RTE_slice:more_people:pred:[RTE_train/RTE_slice:more_people:pred/loss=5.37e-02, RTE_valid/RTE_slice:more_people:pred/accuracy=4.17e-01] model:[train/all/loss=1.49e-01, train/all/lr=5.00e-05]\n",
      "[6.56 epo]: RTE:[RTE_train/RTE_gold/loss=6.58e-01, RTE_valid/RTE_gold/accuracy=6.39e-01] RTE_slice:dash_semicolon:ind:[RTE_train/RTE_slice:dash_semicolon:ind/loss=6.51e-03, RTE_valid/RTE_slice:dash_semicolon:ind/accuracy=1.00e+00] RTE_slice:dash_semicolon:pred:[RTE_train/RTE_slice:dash_semicolon:pred/loss=5.42e-02, RTE_valid/RTE_slice:dash_semicolon:pred/accuracy=5.95e-01] RTE_slice:more_people:ind:[RTE_train/RTE_slice:more_people:ind/loss=1.27e-02, RTE_valid/RTE_slice:more_people:ind/accuracy=9.57e-01] RTE_slice:BASE:ind:[RTE_train/RTE_slice:BASE:ind/loss=1.34e-03, RTE_valid/RTE_slice:BASE:ind/accuracy=1.00e+00] RTE_slice:BASE:pred:[RTE_train/RTE_slice:BASE:pred/loss=6.92e-02, RTE_valid/RTE_slice:BASE:pred/accuracy=6.43e-01] RTE_slice:more_people:pred:[RTE_train/RTE_slice:more_people:pred/loss=2.51e-02, RTE_valid/RTE_slice:more_people:pred/accuracy=5.00e-01] model:[train/all/loss=1.42e-01, train/all/lr=5.00e-05]\n",
      "[6.67 epo]: RTE:[RTE_train/RTE_gold/loss=6.73e-01, RTE_valid/RTE_gold/accuracy=6.06e-01] RTE_slice:dash_semicolon:ind:[RTE_train/RTE_slice:dash_semicolon:ind/loss=5.88e-03, RTE_valid/RTE_slice:dash_semicolon:ind/accuracy=1.00e+00] RTE_slice:dash_semicolon:pred:[RTE_train/RTE_slice:dash_semicolon:pred/loss=7.94e-02, RTE_valid/RTE_slice:dash_semicolon:pred/accuracy=5.69e-01] RTE_slice:more_people:ind:[RTE_train/RTE_slice:more_people:ind/loss=2.23e-02, RTE_valid/RTE_slice:more_people:ind/accuracy=9.57e-01] RTE_slice:BASE:ind:[RTE_train/RTE_slice:BASE:ind/loss=1.09e-03, RTE_valid/RTE_slice:BASE:ind/accuracy=1.00e+00] RTE_slice:BASE:pred:[RTE_train/RTE_slice:BASE:pred/loss=1.09e-01, RTE_valid/RTE_slice:BASE:pred/accuracy=6.21e-01] RTE_slice:more_people:pred:[RTE_train/RTE_slice:more_people:pred/loss=2.94e-02, RTE_valid/RTE_slice:more_people:pred/accuracy=4.17e-01] model:[train/all/loss=1.55e-01, train/all/lr=5.00e-05]\n",
      "[6.77 epo]: RTE:[RTE_train/RTE_gold/loss=6.67e-01, RTE_valid/RTE_gold/accuracy=6.46e-01] RTE_slice:dash_semicolon:ind:[RTE_train/RTE_slice:dash_semicolon:ind/loss=4.86e-03, RTE_valid/RTE_slice:dash_semicolon:ind/accuracy=1.00e+00] RTE_slice:dash_semicolon:pred:[RTE_train/RTE_slice:dash_semicolon:pred/loss=7.33e-02, RTE_valid/RTE_slice:dash_semicolon:pred/accuracy=5.69e-01] RTE_slice:more_people:ind:[RTE_train/RTE_slice:more_people:ind/loss=1.70e-02, RTE_valid/RTE_slice:more_people:ind/accuracy=9.57e-01] RTE_slice:BASE:ind:[RTE_train/RTE_slice:BASE:ind/loss=1.20e-03, RTE_valid/RTE_slice:BASE:ind/accuracy=1.00e+00] RTE_slice:BASE:pred:[RTE_train/RTE_slice:BASE:pred/loss=8.83e-02, RTE_valid/RTE_slice:BASE:pred/accuracy=6.50e-01] RTE_slice:more_people:pred:[RTE_train/RTE_slice:more_people:pred/loss=5.09e-02, RTE_valid/RTE_slice:more_people:pred/accuracy=4.17e-01] model:[train/all/loss=1.49e-01, train/all/lr=5.00e-05]\n",
      "[6.87 epo]: RTE:[RTE_train/RTE_gold/loss=6.55e-01, RTE_valid/RTE_gold/accuracy=6.14e-01] RTE_slice:dash_semicolon:ind:[RTE_train/RTE_slice:dash_semicolon:ind/loss=7.27e-03, RTE_valid/RTE_slice:dash_semicolon:ind/accuracy=1.00e+00] RTE_slice:dash_semicolon:pred:[RTE_train/RTE_slice:dash_semicolon:pred/loss=5.60e-02, RTE_valid/RTE_slice:dash_semicolon:pred/accuracy=5.17e-01] RTE_slice:more_people:ind:[RTE_train/RTE_slice:more_people:ind/loss=2.20e-02, RTE_valid/RTE_slice:more_people:ind/accuracy=9.57e-01] RTE_slice:BASE:ind:[RTE_train/RTE_slice:BASE:ind/loss=1.23e-03, RTE_valid/RTE_slice:BASE:ind/accuracy=1.00e+00] RTE_slice:BASE:pred:[RTE_train/RTE_slice:BASE:pred/loss=6.91e-02, RTE_valid/RTE_slice:BASE:pred/accuracy=6.10e-01] RTE_slice:more_people:pred:[RTE_train/RTE_slice:more_people:pred/loss=7.55e-02, RTE_valid/RTE_slice:more_people:pred/accuracy=4.17e-01] model:[train/all/loss=1.44e-01, train/all/lr=5.00e-05]\n"
     ]
    },
    {
     "name": "stdout",
     "output_type": "stream",
     "text": [
      "[6.97 epo]: RTE:[RTE_train/RTE_gold/loss=6.59e-01, RTE_valid/RTE_gold/accuracy=6.25e-01] RTE_slice:dash_semicolon:ind:[RTE_train/RTE_slice:dash_semicolon:ind/loss=5.59e-03, RTE_valid/RTE_slice:dash_semicolon:ind/accuracy=1.00e+00] RTE_slice:dash_semicolon:pred:[RTE_train/RTE_slice:dash_semicolon:pred/loss=7.06e-02, RTE_valid/RTE_slice:dash_semicolon:pred/accuracy=5.43e-01] RTE_slice:more_people:ind:[RTE_train/RTE_slice:more_people:ind/loss=1.69e-02, RTE_valid/RTE_slice:more_people:ind/accuracy=9.57e-01] RTE_slice:BASE:ind:[RTE_train/RTE_slice:BASE:ind/loss=1.18e-03, RTE_valid/RTE_slice:BASE:ind/accuracy=1.00e+00] RTE_slice:BASE:pred:[RTE_train/RTE_slice:BASE:pred/loss=7.91e-02, RTE_valid/RTE_slice:BASE:pred/accuracy=6.17e-01] RTE_slice:more_people:pred:[RTE_train/RTE_slice:more_people:pred/loss=3.35e-02, RTE_valid/RTE_slice:more_people:pred/accuracy=2.50e-01] model:[train/all/loss=1.44e-01, train/all/lr=5.00e-05]\n",
      "\n"
     ]
    },
    {
     "data": {
      "application/vnd.jupyter.widget-view+json": {
       "model_id": "6b46f517cf464fe69736a58622d9dcb2",
       "version_major": 2,
       "version_minor": 0
      },
      "text/plain": [
       "HBox(children=(IntProgress(value=0, max=312), HTML(value='')))"
      ]
     },
     "metadata": {},
     "output_type": "display_data"
    },
    {
     "name": "stdout",
     "output_type": "stream",
     "text": [
      "[7.08 epo]: RTE:[RTE_train/RTE_gold/loss=6.55e-01, RTE_valid/RTE_gold/accuracy=6.28e-01] RTE_slice:dash_semicolon:ind:[RTE_train/RTE_slice:dash_semicolon:ind/loss=4.86e-03, RTE_valid/RTE_slice:dash_semicolon:ind/accuracy=9.96e-01] RTE_slice:dash_semicolon:pred:[RTE_train/RTE_slice:dash_semicolon:pred/loss=5.99e-02, RTE_valid/RTE_slice:dash_semicolon:pred/accuracy=5.69e-01] RTE_slice:more_people:ind:[RTE_train/RTE_slice:more_people:ind/loss=2.04e-02, RTE_valid/RTE_slice:more_people:ind/accuracy=9.57e-01] RTE_slice:BASE:ind:[RTE_train/RTE_slice:BASE:ind/loss=1.10e-03, RTE_valid/RTE_slice:BASE:ind/accuracy=1.00e+00] RTE_slice:BASE:pred:[RTE_train/RTE_slice:BASE:pred/loss=7.22e-02, RTE_valid/RTE_slice:BASE:pred/accuracy=6.35e-01] RTE_slice:more_people:pred:[RTE_train/RTE_slice:more_people:pred/loss=5.89e-02, RTE_valid/RTE_slice:more_people:pred/accuracy=3.33e-01] model:[train/all/loss=1.44e-01, train/all/lr=5.00e-05]\n",
      "[7.18 epo]: RTE:[RTE_train/RTE_gold/loss=6.55e-01, RTE_valid/RTE_gold/accuracy=6.25e-01] RTE_slice:dash_semicolon:ind:[RTE_train/RTE_slice:dash_semicolon:ind/loss=6.05e-03, RTE_valid/RTE_slice:dash_semicolon:ind/accuracy=1.00e+00] RTE_slice:dash_semicolon:pred:[RTE_train/RTE_slice:dash_semicolon:pred/loss=5.31e-02, RTE_valid/RTE_slice:dash_semicolon:pred/accuracy=5.43e-01] RTE_slice:more_people:ind:[RTE_train/RTE_slice:more_people:ind/loss=2.08e-02, RTE_valid/RTE_slice:more_people:ind/accuracy=9.57e-01] RTE_slice:BASE:ind:[RTE_train/RTE_slice:BASE:ind/loss=1.27e-03, RTE_valid/RTE_slice:BASE:ind/accuracy=1.00e+00] RTE_slice:BASE:pred:[RTE_train/RTE_slice:BASE:pred/loss=7.88e-02, RTE_valid/RTE_slice:BASE:pred/accuracy=6.25e-01] RTE_slice:more_people:pred:[RTE_train/RTE_slice:more_people:pred/loss=1.13e-01, RTE_valid/RTE_slice:more_people:pred/accuracy=4.17e-01] model:[train/all/loss=1.45e-01, train/all/lr=5.00e-05]\n",
      "[7.28 epo]: RTE:[RTE_train/RTE_gold/loss=6.54e-01, RTE_valid/RTE_gold/accuracy=6.06e-01] RTE_slice:dash_semicolon:ind:[RTE_train/RTE_slice:dash_semicolon:ind/loss=6.33e-03, RTE_valid/RTE_slice:dash_semicolon:ind/accuracy=1.00e+00] RTE_slice:dash_semicolon:pred:[RTE_train/RTE_slice:dash_semicolon:pred/loss=5.26e-02, RTE_valid/RTE_slice:dash_semicolon:pred/accuracy=5.17e-01] RTE_slice:more_people:ind:[RTE_train/RTE_slice:more_people:ind/loss=1.88e-02, RTE_valid/RTE_slice:more_people:ind/accuracy=9.57e-01] RTE_slice:more_people:pred:[RTE_train/RTE_slice:more_people:pred/loss=2.42e-02, RTE_valid/RTE_slice:more_people:pred/accuracy=3.33e-01] RTE_slice:BASE:ind:[RTE_train/RTE_slice:BASE:ind/loss=1.54e-03, RTE_valid/RTE_slice:BASE:ind/accuracy=1.00e+00] RTE_slice:BASE:pred:[RTE_train/RTE_slice:BASE:pred/loss=7.59e-02, RTE_valid/RTE_slice:BASE:pred/accuracy=6.03e-01] model:[train/all/loss=1.43e-01, train/all/lr=5.00e-05]\n",
      "[7.38 epo]: RTE:[RTE_train/RTE_gold/loss=6.53e-01, RTE_valid/RTE_gold/accuracy=6.28e-01] RTE_slice:dash_semicolon:ind:[RTE_train/RTE_slice:dash_semicolon:ind/loss=6.32e-03, RTE_valid/RTE_slice:dash_semicolon:ind/accuracy=1.00e+00] RTE_slice:dash_semicolon:pred:[RTE_train/RTE_slice:dash_semicolon:pred/loss=8.04e-02, RTE_valid/RTE_slice:dash_semicolon:pred/accuracy=5.52e-01] RTE_slice:more_people:ind:[RTE_train/RTE_slice:more_people:ind/loss=2.32e-02, RTE_valid/RTE_slice:more_people:ind/accuracy=9.57e-01] RTE_slice:BASE:ind:[RTE_train/RTE_slice:BASE:ind/loss=9.91e-04, RTE_valid/RTE_slice:BASE:ind/accuracy=1.00e+00] RTE_slice:BASE:pred:[RTE_train/RTE_slice:BASE:pred/loss=7.71e-02, RTE_valid/RTE_slice:BASE:pred/accuracy=6.28e-01] RTE_slice:more_people:pred:[RTE_train/RTE_slice:more_people:pred/loss=2.20e-02, RTE_valid/RTE_slice:more_people:pred/accuracy=4.17e-01] model:[train/all/loss=1.46e-01, train/all/lr=5.00e-05]\n",
      "[7.49 epo]: RTE:[RTE_train/RTE_gold/loss=6.51e-01, RTE_valid/RTE_gold/accuracy=6.06e-01] RTE_slice:dash_semicolon:ind:[RTE_train/RTE_slice:dash_semicolon:ind/loss=7.63e-03, RTE_valid/RTE_slice:dash_semicolon:ind/accuracy=1.00e+00] RTE_slice:dash_semicolon:pred:[RTE_train/RTE_slice:dash_semicolon:pred/loss=4.05e-02, RTE_valid/RTE_slice:dash_semicolon:pred/accuracy=5.52e-01] RTE_slice:more_people:ind:[RTE_train/RTE_slice:more_people:ind/loss=1.96e-02, RTE_valid/RTE_slice:more_people:ind/accuracy=9.57e-01] RTE_slice:BASE:ind:[RTE_train/RTE_slice:BASE:ind/loss=1.06e-03, RTE_valid/RTE_slice:BASE:ind/accuracy=1.00e+00] RTE_slice:BASE:pred:[RTE_train/RTE_slice:BASE:pred/loss=6.99e-02, RTE_valid/RTE_slice:BASE:pred/accuracy=6.14e-01] RTE_slice:more_people:pred:[RTE_train/RTE_slice:more_people:pred/loss=2.11e-02, RTE_valid/RTE_slice:more_people:pred/accuracy=3.33e-01] model:[train/all/loss=1.40e-01, train/all/lr=5.00e-05]\n",
      "[7.59 epo]: RTE:[RTE_train/RTE_gold/loss=6.47e-01, RTE_valid/RTE_gold/accuracy=6.06e-01] RTE_slice:dash_semicolon:ind:[RTE_train/RTE_slice:dash_semicolon:ind/loss=6.79e-03, RTE_valid/RTE_slice:dash_semicolon:ind/accuracy=1.00e+00] RTE_slice:dash_semicolon:pred:[RTE_train/RTE_slice:dash_semicolon:pred/loss=5.36e-02, RTE_valid/RTE_slice:dash_semicolon:pred/accuracy=5.60e-01] RTE_slice:more_people:ind:[RTE_train/RTE_slice:more_people:ind/loss=1.58e-02, RTE_valid/RTE_slice:more_people:ind/accuracy=9.57e-01] RTE_slice:BASE:ind:[RTE_train/RTE_slice:BASE:ind/loss=1.34e-03, RTE_valid/RTE_slice:BASE:ind/accuracy=1.00e+00] RTE_slice:BASE:pred:[RTE_train/RTE_slice:BASE:pred/loss=6.80e-02, RTE_valid/RTE_slice:BASE:pred/accuracy=6.10e-01] RTE_slice:more_people:pred:[RTE_train/RTE_slice:more_people:pred/loss=1.81e-02, RTE_valid/RTE_slice:more_people:pred/accuracy=4.17e-01] model:[train/all/loss=1.40e-01, train/all/lr=5.00e-05]\n",
      "[7.69 epo]: RTE:[RTE_train/RTE_gold/loss=6.48e-01, RTE_valid/RTE_gold/accuracy=6.10e-01] RTE_slice:dash_semicolon:ind:[RTE_train/RTE_slice:dash_semicolon:ind/loss=1.05e-02, RTE_valid/RTE_slice:dash_semicolon:ind/accuracy=1.00e+00] RTE_slice:dash_semicolon:pred:[RTE_train/RTE_slice:dash_semicolon:pred/loss=5.02e-02, RTE_valid/RTE_slice:dash_semicolon:pred/accuracy=5.52e-01] RTE_slice:more_people:ind:[RTE_train/RTE_slice:more_people:ind/loss=9.88e-03, RTE_valid/RTE_slice:more_people:ind/accuracy=9.57e-01] RTE_slice:BASE:ind:[RTE_train/RTE_slice:BASE:ind/loss=1.01e-03, RTE_valid/RTE_slice:BASE:ind/accuracy=1.00e+00] RTE_slice:BASE:pred:[RTE_train/RTE_slice:BASE:pred/loss=7.45e-02, RTE_valid/RTE_slice:BASE:pred/accuracy=6.10e-01] RTE_slice:more_people:pred:[RTE_train/RTE_slice:more_people:pred/loss=1.52e-02, RTE_valid/RTE_slice:more_people:pred/accuracy=3.33e-01] model:[train/all/loss=1.42e-01, train/all/lr=5.00e-05]\n",
      "[7.79 epo]: RTE:[RTE_train/RTE_gold/loss=6.42e-01, RTE_valid/RTE_gold/accuracy=6.21e-01] RTE_slice:dash_semicolon:ind:[RTE_train/RTE_slice:dash_semicolon:ind/loss=7.83e-03, RTE_valid/RTE_slice:dash_semicolon:ind/accuracy=1.00e+00] RTE_slice:dash_semicolon:pred:[RTE_train/RTE_slice:dash_semicolon:pred/loss=5.25e-02, RTE_valid/RTE_slice:dash_semicolon:pred/accuracy=5.43e-01] RTE_slice:more_people:ind:[RTE_train/RTE_slice:more_people:ind/loss=2.48e-02, RTE_valid/RTE_slice:more_people:ind/accuracy=9.57e-01] RTE_slice:BASE:ind:[RTE_train/RTE_slice:BASE:ind/loss=1.25e-03, RTE_valid/RTE_slice:BASE:ind/accuracy=1.00e+00] RTE_slice:BASE:pred:[RTE_train/RTE_slice:BASE:pred/loss=7.04e-02, RTE_valid/RTE_slice:BASE:pred/accuracy=6.21e-01] RTE_slice:more_people:pred:[RTE_train/RTE_slice:more_people:pred/loss=2.69e-02, RTE_valid/RTE_slice:more_people:pred/accuracy=4.17e-01] model:[train/all/loss=1.41e-01, train/all/lr=5.00e-05]\n",
      "[7.90 epo]: RTE:[RTE_train/RTE_gold/loss=6.43e-01, RTE_valid/RTE_gold/accuracy=6.06e-01] RTE_slice:dash_semicolon:ind:[RTE_train/RTE_slice:dash_semicolon:ind/loss=8.54e-03, RTE_valid/RTE_slice:dash_semicolon:ind/accuracy=9.96e-01] RTE_slice:dash_semicolon:pred:[RTE_train/RTE_slice:dash_semicolon:pred/loss=6.40e-02, RTE_valid/RTE_slice:dash_semicolon:pred/accuracy=5.52e-01] RTE_slice:more_people:ind:[RTE_train/RTE_slice:more_people:ind/loss=1.46e-02, RTE_valid/RTE_slice:more_people:ind/accuracy=9.57e-01] RTE_slice:BASE:ind:[RTE_train/RTE_slice:BASE:ind/loss=1.14e-03, RTE_valid/RTE_slice:BASE:ind/accuracy=1.00e+00] RTE_slice:BASE:pred:[RTE_train/RTE_slice:BASE:pred/loss=7.80e-02, RTE_valid/RTE_slice:BASE:pred/accuracy=6.03e-01] RTE_slice:more_people:pred:[RTE_train/RTE_slice:more_people:pred/loss=1.61e-02, RTE_valid/RTE_slice:more_people:pred/accuracy=2.50e-01] model:[train/all/loss=1.43e-01, train/all/lr=5.00e-05]\n"
     ]
    },
    {
     "name": "stdout",
     "output_type": "stream",
     "text": [
      "[8.0 epo]: RTE:[RTE_train/RTE_gold/loss=6.57e-01, RTE_valid/RTE_gold/accuracy=6.39e-01] RTE_slice:dash_semicolon:ind:[RTE_train/RTE_slice:dash_semicolon:ind/loss=6.50e-03, RTE_valid/RTE_slice:dash_semicolon:ind/accuracy=1.00e+00] RTE_slice:dash_semicolon:pred:[RTE_train/RTE_slice:dash_semicolon:pred/loss=8.79e-02, RTE_valid/RTE_slice:dash_semicolon:pred/accuracy=5.43e-01] RTE_slice:more_people:ind:[RTE_train/RTE_slice:more_people:ind/loss=1.94e-02, RTE_valid/RTE_slice:more_people:ind/accuracy=9.57e-01] RTE_slice:BASE:ind:[RTE_train/RTE_slice:BASE:ind/loss=6.02e-04, RTE_valid/RTE_slice:BASE:ind/accuracy=1.00e+00] RTE_slice:BASE:pred:[RTE_train/RTE_slice:BASE:pred/loss=9.34e-02, RTE_valid/RTE_slice:BASE:pred/accuracy=6.35e-01] RTE_slice:more_people:pred:[RTE_train/RTE_slice:more_people:pred/loss=1.03e-01, RTE_valid/RTE_slice:more_people:pred/accuracy=4.17e-01] model:[train/all/loss=1.50e-01, train/all/lr=5.00e-05]\n",
      "\n"
     ]
    },
    {
     "data": {
      "application/vnd.jupyter.widget-view+json": {
       "model_id": "48a16293b28a40009aacd8716c868add",
       "version_major": 2,
       "version_minor": 0
      },
      "text/plain": [
       "HBox(children=(IntProgress(value=0, max=312), HTML(value='')))"
      ]
     },
     "metadata": {},
     "output_type": "display_data"
    },
    {
     "name": "stdout",
     "output_type": "stream",
     "text": [
      "[8.10 epo]: RTE:[RTE_train/RTE_gold/loss=6.37e-01, RTE_valid/RTE_gold/accuracy=6.39e-01] RTE_slice:dash_semicolon:ind:[RTE_train/RTE_slice:dash_semicolon:ind/loss=6.86e-03, RTE_valid/RTE_slice:dash_semicolon:ind/accuracy=1.00e+00] RTE_slice:dash_semicolon:pred:[RTE_train/RTE_slice:dash_semicolon:pred/loss=4.47e-02, RTE_valid/RTE_slice:dash_semicolon:pred/accuracy=5.60e-01] RTE_slice:more_people:ind:[RTE_train/RTE_slice:more_people:ind/loss=1.33e-02, RTE_valid/RTE_slice:more_people:ind/accuracy=9.57e-01] RTE_slice:BASE:ind:[RTE_train/RTE_slice:BASE:ind/loss=1.04e-03, RTE_valid/RTE_slice:BASE:ind/accuracy=1.00e+00] RTE_slice:BASE:pred:[RTE_train/RTE_slice:BASE:pred/loss=6.30e-02, RTE_valid/RTE_slice:BASE:pred/accuracy=6.46e-01] RTE_slice:more_people:pred:[RTE_train/RTE_slice:more_people:pred/loss=6.69e-02, RTE_valid/RTE_slice:more_people:pred/accuracy=3.33e-01] model:[train/all/loss=1.37e-01, train/all/lr=5.00e-05]\n",
      "[8.21 epo]: RTE:[RTE_train/RTE_gold/loss=6.38e-01, RTE_valid/RTE_gold/accuracy=6.46e-01] RTE_slice:dash_semicolon:ind:[RTE_train/RTE_slice:dash_semicolon:ind/loss=6.93e-03, RTE_valid/RTE_slice:dash_semicolon:ind/accuracy=1.00e+00] RTE_slice:dash_semicolon:pred:[RTE_train/RTE_slice:dash_semicolon:pred/loss=4.33e-02, RTE_valid/RTE_slice:dash_semicolon:pred/accuracy=5.86e-01] RTE_slice:more_people:ind:[RTE_train/RTE_slice:more_people:ind/loss=2.21e-02, RTE_valid/RTE_slice:more_people:ind/accuracy=9.57e-01] RTE_slice:BASE:ind:[RTE_train/RTE_slice:BASE:ind/loss=9.74e-04, RTE_valid/RTE_slice:BASE:ind/accuracy=1.00e+00] RTE_slice:BASE:pred:[RTE_train/RTE_slice:BASE:pred/loss=6.72e-02, RTE_valid/RTE_slice:BASE:pred/accuracy=6.46e-01] RTE_slice:more_people:pred:[RTE_train/RTE_slice:more_people:pred/loss=7.38e-02, RTE_valid/RTE_slice:more_people:pred/accuracy=5.00e-01] model:[train/all/loss=1.39e-01, train/all/lr=5.00e-05]\n",
      "[8.31 epo]: RTE:[RTE_train/RTE_gold/loss=6.37e-01, RTE_valid/RTE_gold/accuracy=6.53e-01] RTE_slice:dash_semicolon:ind:[RTE_train/RTE_slice:dash_semicolon:ind/loss=5.46e-03, RTE_valid/RTE_slice:dash_semicolon:ind/accuracy=1.00e+00] RTE_slice:dash_semicolon:pred:[RTE_train/RTE_slice:dash_semicolon:pred/loss=5.64e-02, RTE_valid/RTE_slice:dash_semicolon:pred/accuracy=5.78e-01] RTE_slice:more_people:ind:[RTE_train/RTE_slice:more_people:ind/loss=2.28e-02, RTE_valid/RTE_slice:more_people:ind/accuracy=9.57e-01] RTE_slice:more_people:pred:[RTE_train/RTE_slice:more_people:pred/loss=4.00e-02, RTE_valid/RTE_slice:more_people:pred/accuracy=4.17e-01] RTE_slice:BASE:ind:[RTE_train/RTE_slice:BASE:ind/loss=1.12e-03, RTE_valid/RTE_slice:BASE:ind/accuracy=1.00e+00] RTE_slice:BASE:pred:[RTE_train/RTE_slice:BASE:pred/loss=6.59e-02, RTE_valid/RTE_slice:BASE:pred/accuracy=6.53e-01] model:[train/all/loss=1.39e-01, train/all/lr=5.00e-05]\n",
      "[8.41 epo]: RTE:[RTE_train/RTE_gold/loss=6.32e-01, RTE_valid/RTE_gold/accuracy=6.28e-01] RTE_slice:dash_semicolon:ind:[RTE_train/RTE_slice:dash_semicolon:ind/loss=6.39e-03, RTE_valid/RTE_slice:dash_semicolon:ind/accuracy=1.00e+00] RTE_slice:dash_semicolon:pred:[RTE_train/RTE_slice:dash_semicolon:pred/loss=4.32e-02, RTE_valid/RTE_slice:dash_semicolon:pred/accuracy=5.52e-01] RTE_slice:more_people:ind:[RTE_train/RTE_slice:more_people:ind/loss=2.58e-02, RTE_valid/RTE_slice:more_people:ind/accuracy=9.57e-01] RTE_slice:more_people:pred:[RTE_train/RTE_slice:more_people:pred/loss=1.97e-02, RTE_valid/RTE_slice:more_people:pred/accuracy=5.83e-01] RTE_slice:BASE:ind:[RTE_train/RTE_slice:BASE:ind/loss=8.54e-04, RTE_valid/RTE_slice:BASE:ind/accuracy=1.00e+00] RTE_slice:BASE:pred:[RTE_train/RTE_slice:BASE:pred/loss=6.23e-02, RTE_valid/RTE_slice:BASE:pred/accuracy=6.25e-01] model:[train/all/loss=1.36e-01, train/all/lr=5.00e-05]\n",
      "[8.51 epo]: RTE:[RTE_train/RTE_gold/loss=6.28e-01, RTE_valid/RTE_gold/accuracy=6.10e-01] RTE_slice:dash_semicolon:ind:[RTE_train/RTE_slice:dash_semicolon:ind/loss=7.00e-03, RTE_valid/RTE_slice:dash_semicolon:ind/accuracy=1.00e+00] RTE_slice:dash_semicolon:pred:[RTE_train/RTE_slice:dash_semicolon:pred/loss=4.66e-02, RTE_valid/RTE_slice:dash_semicolon:pred/accuracy=5.52e-01] RTE_slice:more_people:ind:[RTE_train/RTE_slice:more_people:ind/loss=1.91e-02, RTE_valid/RTE_slice:more_people:ind/accuracy=9.57e-01] RTE_slice:BASE:ind:[RTE_train/RTE_slice:BASE:ind/loss=9.95e-04, RTE_valid/RTE_slice:BASE:ind/accuracy=1.00e+00] RTE_slice:BASE:pred:[RTE_train/RTE_slice:BASE:pred/loss=6.01e-02, RTE_valid/RTE_slice:BASE:pred/accuracy=6.14e-01] RTE_slice:more_people:pred:[RTE_train/RTE_slice:more_people:pred/loss=6.50e-02, RTE_valid/RTE_slice:more_people:pred/accuracy=3.33e-01] model:[train/all/loss=1.35e-01, train/all/lr=5.00e-05]\n",
      "[8.62 epo]: RTE:[RTE_train/RTE_gold/loss=6.40e-01, RTE_valid/RTE_gold/accuracy=6.03e-01] RTE_slice:dash_semicolon:ind:[RTE_train/RTE_slice:dash_semicolon:ind/loss=5.96e-03, RTE_valid/RTE_slice:dash_semicolon:ind/accuracy=1.00e+00] RTE_slice:dash_semicolon:pred:[RTE_train/RTE_slice:dash_semicolon:pred/loss=4.08e-02, RTE_valid/RTE_slice:dash_semicolon:pred/accuracy=5.17e-01] RTE_slice:more_people:ind:[RTE_train/RTE_slice:more_people:ind/loss=1.49e-02, RTE_valid/RTE_slice:more_people:ind/accuracy=9.57e-01] RTE_slice:BASE:ind:[RTE_train/RTE_slice:BASE:ind/loss=9.02e-04, RTE_valid/RTE_slice:BASE:ind/accuracy=1.00e+00] RTE_slice:BASE:pred:[RTE_train/RTE_slice:BASE:pred/loss=7.72e-02, RTE_valid/RTE_slice:BASE:pred/accuracy=5.96e-01] RTE_slice:more_people:pred:[RTE_train/RTE_slice:more_people:pred/loss=1.42e-02, RTE_valid/RTE_slice:more_people:pred/accuracy=5.00e-01] model:[train/all/loss=1.40e-01, train/all/lr=5.00e-05]\n",
      "[8.72 epo]: RTE:[RTE_train/RTE_gold/loss=6.39e-01, RTE_valid/RTE_gold/accuracy=6.32e-01] RTE_slice:dash_semicolon:ind:[RTE_train/RTE_slice:dash_semicolon:ind/loss=4.68e-03, RTE_valid/RTE_slice:dash_semicolon:ind/accuracy=1.00e+00] RTE_slice:dash_semicolon:pred:[RTE_train/RTE_slice:dash_semicolon:pred/loss=7.01e-02, RTE_valid/RTE_slice:dash_semicolon:pred/accuracy=5.69e-01] RTE_slice:more_people:ind:[RTE_train/RTE_slice:more_people:ind/loss=1.22e-02, RTE_valid/RTE_slice:more_people:ind/accuracy=9.57e-01] RTE_slice:BASE:ind:[RTE_train/RTE_slice:BASE:ind/loss=8.44e-04, RTE_valid/RTE_slice:BASE:ind/accuracy=1.00e+00] RTE_slice:BASE:pred:[RTE_train/RTE_slice:BASE:pred/loss=8.00e-02, RTE_valid/RTE_slice:BASE:pred/accuracy=6.32e-01] RTE_slice:more_people:pred:[RTE_train/RTE_slice:more_people:pred/loss=1.33e-02, RTE_valid/RTE_slice:more_people:pred/accuracy=5.83e-01] model:[train/all/loss=1.42e-01, train/all/lr=5.00e-05]\n",
      "[8.82 epo]: RTE:[RTE_train/RTE_gold/loss=6.39e-01, RTE_valid/RTE_gold/accuracy=6.32e-01] RTE_slice:dash_semicolon:ind:[RTE_train/RTE_slice:dash_semicolon:ind/loss=5.03e-03, RTE_valid/RTE_slice:dash_semicolon:ind/accuracy=1.00e+00] RTE_slice:dash_semicolon:pred:[RTE_train/RTE_slice:dash_semicolon:pred/loss=8.00e-02, RTE_valid/RTE_slice:dash_semicolon:pred/accuracy=5.60e-01] RTE_slice:more_people:ind:[RTE_train/RTE_slice:more_people:ind/loss=1.36e-02, RTE_valid/RTE_slice:more_people:ind/accuracy=9.57e-01] RTE_slice:BASE:ind:[RTE_train/RTE_slice:BASE:ind/loss=6.94e-04, RTE_valid/RTE_slice:BASE:ind/accuracy=1.00e+00] RTE_slice:BASE:pred:[RTE_train/RTE_slice:BASE:pred/loss=7.87e-02, RTE_valid/RTE_slice:BASE:pred/accuracy=6.32e-01] RTE_slice:more_people:pred:[RTE_train/RTE_slice:more_people:pred/loss=3.11e-02, RTE_valid/RTE_slice:more_people:pred/accuracy=5.00e-01] model:[train/all/loss=1.42e-01, train/all/lr=5.00e-05]\n",
      "[8.92 epo]: RTE:[RTE_train/RTE_gold/loss=6.48e-01, RTE_valid/RTE_gold/accuracy=6.10e-01] RTE_slice:dash_semicolon:ind:[RTE_train/RTE_slice:dash_semicolon:ind/loss=4.80e-03, RTE_valid/RTE_slice:dash_semicolon:ind/accuracy=1.00e+00] RTE_slice:dash_semicolon:pred:[RTE_train/RTE_slice:dash_semicolon:pred/loss=8.83e-02, RTE_valid/RTE_slice:dash_semicolon:pred/accuracy=5.52e-01] RTE_slice:more_people:ind:[RTE_train/RTE_slice:more_people:ind/loss=2.96e-02, RTE_valid/RTE_slice:more_people:ind/accuracy=9.57e-01] RTE_slice:BASE:ind:[RTE_train/RTE_slice:BASE:ind/loss=6.61e-04, RTE_valid/RTE_slice:BASE:ind/accuracy=1.00e+00] RTE_slice:BASE:pred:[RTE_train/RTE_slice:BASE:pred/loss=8.96e-02, RTE_valid/RTE_slice:BASE:pred/accuracy=6.10e-01] RTE_slice:more_people:pred:[RTE_train/RTE_slice:more_people:pred/loss=1.09e-01, RTE_valid/RTE_slice:more_people:pred/accuracy=2.50e-01] model:[train/all/loss=1.49e-01, train/all/lr=5.00e-05]\n"
     ]
    },
    {
     "name": "stdout",
     "output_type": "stream",
     "text": [
      "\n"
     ]
    },
    {
     "data": {
      "application/vnd.jupyter.widget-view+json": {
       "model_id": "0ba2ffb36b3442769378e535c2be4344",
       "version_major": 2,
       "version_minor": 0
      },
      "text/plain": [
       "HBox(children=(IntProgress(value=0, max=312), HTML(value='')))"
      ]
     },
     "metadata": {},
     "output_type": "display_data"
    },
    {
     "name": "stdout",
     "output_type": "stream",
     "text": [
      "[9.03 epo]: RTE:[RTE_train/RTE_gold/loss=6.37e-01, RTE_valid/RTE_gold/accuracy=6.28e-01] RTE_slice:dash_semicolon:ind:[RTE_train/RTE_slice:dash_semicolon:ind/loss=4.62e-03, RTE_valid/RTE_slice:dash_semicolon:ind/accuracy=1.00e+00] RTE_slice:dash_semicolon:pred:[RTE_train/RTE_slice:dash_semicolon:pred/loss=6.39e-02, RTE_valid/RTE_slice:dash_semicolon:pred/accuracy=5.60e-01] RTE_slice:more_people:ind:[RTE_train/RTE_slice:more_people:ind/loss=1.60e-02, RTE_valid/RTE_slice:more_people:ind/accuracy=9.57e-01] RTE_slice:BASE:ind:[RTE_train/RTE_slice:BASE:ind/loss=8.18e-04, RTE_valid/RTE_slice:BASE:ind/accuracy=1.00e+00] RTE_slice:BASE:pred:[RTE_train/RTE_slice:BASE:pred/loss=7.48e-02, RTE_valid/RTE_slice:BASE:pred/accuracy=6.28e-01] RTE_slice:more_people:pred:[RTE_train/RTE_slice:more_people:pred/loss=1.83e-02, RTE_valid/RTE_slice:more_people:pred/accuracy=5.83e-01] model:[train/all/loss=1.41e-01, train/all/lr=5.00e-05]\n",
      "[9.13 epo]: RTE:[RTE_train/RTE_gold/loss=6.23e-01, RTE_valid/RTE_gold/accuracy=6.10e-01] RTE_slice:dash_semicolon:ind:[RTE_train/RTE_slice:dash_semicolon:ind/loss=5.49e-03, RTE_valid/RTE_slice:dash_semicolon:ind/accuracy=1.00e+00] RTE_slice:dash_semicolon:pred:[RTE_train/RTE_slice:dash_semicolon:pred/loss=3.85e-02, RTE_valid/RTE_slice:dash_semicolon:pred/accuracy=5.26e-01] RTE_slice:more_people:ind:[RTE_train/RTE_slice:more_people:ind/loss=1.72e-02, RTE_valid/RTE_slice:more_people:ind/accuracy=9.57e-01] RTE_slice:more_people:pred:[RTE_train/RTE_slice:more_people:pred/loss=1.50e-02, RTE_valid/RTE_slice:more_people:pred/accuracy=5.83e-01] RTE_slice:BASE:ind:[RTE_train/RTE_slice:BASE:ind/loss=1.13e-03, RTE_valid/RTE_slice:BASE:ind/accuracy=1.00e+00] RTE_slice:BASE:pred:[RTE_train/RTE_slice:BASE:pred/loss=5.97e-02, RTE_valid/RTE_slice:BASE:pred/accuracy=6.14e-01] model:[train/all/loss=1.33e-01, train/all/lr=5.00e-05]\n",
      "[9.23 epo]: RTE:[RTE_train/RTE_gold/loss=6.33e-01, RTE_valid/RTE_gold/accuracy=6.28e-01] RTE_slice:dash_semicolon:ind:[RTE_train/RTE_slice:dash_semicolon:ind/loss=6.99e-03, RTE_valid/RTE_slice:dash_semicolon:ind/accuracy=1.00e+00] RTE_slice:dash_semicolon:pred:[RTE_train/RTE_slice:dash_semicolon:pred/loss=6.65e-02, RTE_valid/RTE_slice:dash_semicolon:pred/accuracy=5.60e-01] RTE_slice:more_people:ind:[RTE_train/RTE_slice:more_people:ind/loss=2.64e-02, RTE_valid/RTE_slice:more_people:ind/accuracy=9.57e-01] RTE_slice:BASE:ind:[RTE_train/RTE_slice:BASE:ind/loss=1.72e-03, RTE_valid/RTE_slice:BASE:ind/accuracy=1.00e+00] RTE_slice:BASE:pred:[RTE_train/RTE_slice:BASE:pred/loss=8.05e-02, RTE_valid/RTE_slice:BASE:pred/accuracy=6.28e-01] RTE_slice:more_people:pred:[RTE_train/RTE_slice:more_people:pred/loss=5.75e-02, RTE_valid/RTE_slice:more_people:pred/accuracy=5.83e-01] model:[train/all/loss=1.44e-01, train/all/lr=5.00e-05]\n",
      "[9.33 epo]: RTE:[RTE_train/RTE_gold/loss=6.25e-01, RTE_valid/RTE_gold/accuracy=6.39e-01] RTE_slice:dash_semicolon:ind:[RTE_train/RTE_slice:dash_semicolon:ind/loss=6.82e-03, RTE_valid/RTE_slice:dash_semicolon:ind/accuracy=1.00e+00] RTE_slice:dash_semicolon:pred:[RTE_train/RTE_slice:dash_semicolon:pred/loss=4.76e-02, RTE_valid/RTE_slice:dash_semicolon:pred/accuracy=5.78e-01] RTE_slice:more_people:ind:[RTE_train/RTE_slice:more_people:ind/loss=1.64e-02, RTE_valid/RTE_slice:more_people:ind/accuracy=9.57e-01] RTE_slice:more_people:pred:[RTE_train/RTE_slice:more_people:pred/loss=1.19e-02, RTE_valid/RTE_slice:more_people:pred/accuracy=6.67e-01] RTE_slice:BASE:ind:[RTE_train/RTE_slice:BASE:ind/loss=1.14e-03, RTE_valid/RTE_slice:BASE:ind/accuracy=1.00e+00] RTE_slice:BASE:pred:[RTE_train/RTE_slice:BASE:pred/loss=6.28e-02, RTE_valid/RTE_slice:BASE:pred/accuracy=6.32e-01] model:[train/all/loss=1.34e-01, train/all/lr=5.00e-05]\n",
      "[9.44 epo]: RTE:[RTE_train/RTE_gold/loss=6.23e-01, RTE_valid/RTE_gold/accuracy=6.32e-01] RTE_slice:dash_semicolon:ind:[RTE_train/RTE_slice:dash_semicolon:ind/loss=6.51e-03, RTE_valid/RTE_slice:dash_semicolon:ind/accuracy=1.00e+00] RTE_slice:dash_semicolon:pred:[RTE_train/RTE_slice:dash_semicolon:pred/loss=8.05e-02, RTE_valid/RTE_slice:dash_semicolon:pred/accuracy=5.52e-01] RTE_slice:more_people:ind:[RTE_train/RTE_slice:more_people:ind/loss=1.71e-02, RTE_valid/RTE_slice:more_people:ind/accuracy=9.57e-01] RTE_slice:BASE:ind:[RTE_train/RTE_slice:BASE:ind/loss=8.22e-04, RTE_valid/RTE_slice:BASE:ind/accuracy=1.00e+00] RTE_slice:BASE:pred:[RTE_train/RTE_slice:BASE:pred/loss=6.65e-02, RTE_valid/RTE_slice:BASE:pred/accuracy=6.17e-01] RTE_slice:more_people:pred:[RTE_train/RTE_slice:more_people:pred/loss=1.89e-02, RTE_valid/RTE_slice:more_people:pred/accuracy=5.00e-01] model:[train/all/loss=1.37e-01, train/all/lr=5.00e-05]\n",
      "[9.54 epo]: RTE:[RTE_train/RTE_gold/loss=6.16e-01, RTE_valid/RTE_gold/accuracy=5.99e-01] RTE_slice:dash_semicolon:ind:[RTE_train/RTE_slice:dash_semicolon:ind/loss=6.43e-03, RTE_valid/RTE_slice:dash_semicolon:ind/accuracy=1.00e+00] RTE_slice:dash_semicolon:pred:[RTE_train/RTE_slice:dash_semicolon:pred/loss=3.26e-02, RTE_valid/RTE_slice:dash_semicolon:pred/accuracy=5.26e-01] RTE_slice:more_people:ind:[RTE_train/RTE_slice:more_people:ind/loss=1.54e-02, RTE_valid/RTE_slice:more_people:ind/accuracy=9.57e-01] RTE_slice:BASE:ind:[RTE_train/RTE_slice:BASE:ind/loss=9.75e-04, RTE_valid/RTE_slice:BASE:ind/accuracy=1.00e+00] RTE_slice:BASE:pred:[RTE_train/RTE_slice:BASE:pred/loss=5.70e-02, RTE_valid/RTE_slice:BASE:pred/accuracy=6.03e-01] RTE_slice:more_people:pred:[RTE_train/RTE_slice:more_people:pred/loss=1.48e-02, RTE_valid/RTE_slice:more_people:pred/accuracy=3.33e-01] model:[train/all/loss=1.30e-01, train/all/lr=5.00e-05]\n",
      "[9.64 epo]: RTE:[RTE_train/RTE_gold/loss=6.30e-01, RTE_valid/RTE_gold/accuracy=6.10e-01] RTE_slice:dash_semicolon:ind:[RTE_train/RTE_slice:dash_semicolon:ind/loss=5.25e-03, RTE_valid/RTE_slice:dash_semicolon:ind/accuracy=1.00e+00] RTE_slice:dash_semicolon:pred:[RTE_train/RTE_slice:dash_semicolon:pred/loss=9.18e-02, RTE_valid/RTE_slice:dash_semicolon:pred/accuracy=5.52e-01] RTE_slice:more_people:ind:[RTE_train/RTE_slice:more_people:ind/loss=2.00e-02, RTE_valid/RTE_slice:more_people:ind/accuracy=9.57e-01] RTE_slice:BASE:ind:[RTE_train/RTE_slice:BASE:ind/loss=6.51e-04, RTE_valid/RTE_slice:BASE:ind/accuracy=1.00e+00] RTE_slice:BASE:pred:[RTE_train/RTE_slice:BASE:pred/loss=8.05e-02, RTE_valid/RTE_slice:BASE:pred/accuracy=6.10e-01] RTE_slice:more_people:pred:[RTE_train/RTE_slice:more_people:pred/loss=8.89e-02, RTE_valid/RTE_slice:more_people:pred/accuracy=3.33e-01] model:[train/all/loss=1.43e-01, train/all/lr=5.00e-05]\n",
      "[9.74 epo]: RTE:[RTE_train/RTE_gold/loss=6.15e-01, RTE_valid/RTE_gold/accuracy=6.25e-01] RTE_slice:dash_semicolon:ind:[RTE_train/RTE_slice:dash_semicolon:ind/loss=6.18e-03, RTE_valid/RTE_slice:dash_semicolon:ind/accuracy=1.00e+00] RTE_slice:dash_semicolon:pred:[RTE_train/RTE_slice:dash_semicolon:pred/loss=5.47e-02, RTE_valid/RTE_slice:dash_semicolon:pred/accuracy=5.52e-01] RTE_slice:more_people:ind:[RTE_train/RTE_slice:more_people:ind/loss=2.04e-02, RTE_valid/RTE_slice:more_people:ind/accuracy=9.57e-01] RTE_slice:BASE:ind:[RTE_train/RTE_slice:BASE:ind/loss=8.62e-04, RTE_valid/RTE_slice:BASE:ind/accuracy=1.00e+00] RTE_slice:BASE:pred:[RTE_train/RTE_slice:BASE:pred/loss=6.27e-02, RTE_valid/RTE_slice:BASE:pred/accuracy=6.25e-01] RTE_slice:more_people:pred:[RTE_train/RTE_slice:more_people:pred/loss=7.15e-02, RTE_valid/RTE_slice:more_people:pred/accuracy=3.33e-01] model:[train/all/loss=1.34e-01, train/all/lr=5.00e-05]\n",
      "[9.85 epo]: RTE:[RTE_train/RTE_gold/loss=6.30e-01, RTE_valid/RTE_gold/accuracy=6.46e-01] RTE_slice:dash_semicolon:ind:[RTE_train/RTE_slice:dash_semicolon:ind/loss=5.60e-03, RTE_valid/RTE_slice:dash_semicolon:ind/accuracy=1.00e+00] RTE_slice:dash_semicolon:pred:[RTE_train/RTE_slice:dash_semicolon:pred/loss=5.68e-02, RTE_valid/RTE_slice:dash_semicolon:pred/accuracy=5.69e-01] RTE_slice:more_people:ind:[RTE_train/RTE_slice:more_people:ind/loss=1.19e-02, RTE_valid/RTE_slice:more_people:ind/accuracy=9.57e-01] RTE_slice:BASE:ind:[RTE_train/RTE_slice:BASE:ind/loss=1.60e-03, RTE_valid/RTE_slice:BASE:ind/accuracy=1.00e+00] RTE_slice:BASE:pred:[RTE_train/RTE_slice:BASE:pred/loss=8.22e-02, RTE_valid/RTE_slice:BASE:pred/accuracy=6.46e-01] RTE_slice:more_people:pred:[RTE_train/RTE_slice:more_people:pred/loss=1.72e-02, RTE_valid/RTE_slice:more_people:pred/accuracy=5.83e-01] model:[train/all/loss=1.39e-01, train/all/lr=5.00e-05]\n"
     ]
    },
    {
     "name": "stdout",
     "output_type": "stream",
     "text": [
      "[9.95 epo]: RTE:[RTE_train/RTE_gold/loss=6.22e-01, RTE_valid/RTE_gold/accuracy=6.32e-01] RTE_slice:dash_semicolon:ind:[RTE_train/RTE_slice:dash_semicolon:ind/loss=6.25e-03, RTE_valid/RTE_slice:dash_semicolon:ind/accuracy=1.00e+00] RTE_slice:dash_semicolon:pred:[RTE_train/RTE_slice:dash_semicolon:pred/loss=5.20e-02, RTE_valid/RTE_slice:dash_semicolon:pred/accuracy=5.34e-01] RTE_slice:more_people:ind:[RTE_train/RTE_slice:more_people:ind/loss=1.61e-02, RTE_valid/RTE_slice:more_people:ind/accuracy=9.57e-01] RTE_slice:BASE:ind:[RTE_train/RTE_slice:BASE:ind/loss=6.84e-04, RTE_valid/RTE_slice:BASE:ind/accuracy=1.00e+00] RTE_slice:BASE:pred:[RTE_train/RTE_slice:BASE:pred/loss=7.19e-02, RTE_valid/RTE_slice:BASE:pred/accuracy=6.32e-01] RTE_slice:more_people:pred:[RTE_train/RTE_slice:more_people:pred/loss=1.19e-02, RTE_valid/RTE_slice:more_people:pred/accuracy=6.67e-01] model:[train/all/loss=1.36e-01, train/all/lr=5.00e-05]\n",
      "\n"
     ]
    },
    {
     "data": {
      "application/vnd.jupyter.widget-view+json": {
       "model_id": "d9123e1a7b7b4e43b5dfe8505838e96d",
       "version_major": 2,
       "version_minor": 0
      },
      "text/plain": [
       "HBox(children=(IntProgress(value=0, max=312), HTML(value='')))"
      ]
     },
     "metadata": {},
     "output_type": "display_data"
    },
    {
     "name": "stdout",
     "output_type": "stream",
     "text": [
      "[10.05 epo]: RTE:[RTE_train/RTE_gold/loss=6.28e-01, RTE_valid/RTE_gold/accuracy=6.03e-01] RTE_slice:dash_semicolon:ind:[RTE_train/RTE_slice:dash_semicolon:ind/loss=6.52e-03, RTE_valid/RTE_slice:dash_semicolon:ind/accuracy=1.00e+00] RTE_slice:dash_semicolon:pred:[RTE_train/RTE_slice:dash_semicolon:pred/loss=6.61e-02, RTE_valid/RTE_slice:dash_semicolon:pred/accuracy=5.26e-01] RTE_slice:more_people:ind:[RTE_train/RTE_slice:more_people:ind/loss=1.84e-02, RTE_valid/RTE_slice:more_people:ind/accuracy=9.57e-01] RTE_slice:BASE:ind:[RTE_train/RTE_slice:BASE:ind/loss=9.91e-04, RTE_valid/RTE_slice:BASE:ind/accuracy=1.00e+00] RTE_slice:BASE:pred:[RTE_train/RTE_slice:BASE:pred/loss=8.26e-02, RTE_valid/RTE_slice:BASE:pred/accuracy=6.03e-01] RTE_slice:more_people:pred:[RTE_train/RTE_slice:more_people:pred/loss=1.29e-02, RTE_valid/RTE_slice:more_people:pred/accuracy=6.67e-01] model:[train/all/loss=1.41e-01, train/all/lr=5.00e-05]\n",
      "[10.15 epo]: RTE:[RTE_train/RTE_gold/loss=6.06e-01, RTE_valid/RTE_gold/accuracy=6.06e-01] RTE_slice:dash_semicolon:ind:[RTE_train/RTE_slice:dash_semicolon:ind/loss=6.19e-03, RTE_valid/RTE_slice:dash_semicolon:ind/accuracy=1.00e+00] RTE_slice:dash_semicolon:pred:[RTE_train/RTE_slice:dash_semicolon:pred/loss=4.46e-02, RTE_valid/RTE_slice:dash_semicolon:pred/accuracy=5.17e-01] RTE_slice:more_people:ind:[RTE_train/RTE_slice:more_people:ind/loss=1.70e-02, RTE_valid/RTE_slice:more_people:ind/accuracy=9.57e-01] RTE_slice:BASE:ind:[RTE_train/RTE_slice:BASE:ind/loss=8.36e-04, RTE_valid/RTE_slice:BASE:ind/accuracy=1.00e+00] RTE_slice:BASE:pred:[RTE_train/RTE_slice:BASE:pred/loss=5.40e-02, RTE_valid/RTE_slice:BASE:pred/accuracy=6.06e-01] RTE_slice:more_people:pred:[RTE_train/RTE_slice:more_people:pred/loss=3.02e-02, RTE_valid/RTE_slice:more_people:pred/accuracy=4.17e-01] model:[train/all/loss=1.30e-01, train/all/lr=5.00e-05]\n",
      "[10.26 epo]: RTE:[RTE_train/RTE_gold/loss=5.99e-01, RTE_valid/RTE_gold/accuracy=6.25e-01] RTE_slice:dash_semicolon:ind:[RTE_train/RTE_slice:dash_semicolon:ind/loss=7.35e-03, RTE_valid/RTE_slice:dash_semicolon:ind/accuracy=1.00e+00] RTE_slice:dash_semicolon:pred:[RTE_train/RTE_slice:dash_semicolon:pred/loss=3.34e-02, RTE_valid/RTE_slice:dash_semicolon:pred/accuracy=5.43e-01] RTE_slice:more_people:ind:[RTE_train/RTE_slice:more_people:ind/loss=2.55e-02, RTE_valid/RTE_slice:more_people:ind/accuracy=9.57e-01] RTE_slice:BASE:ind:[RTE_train/RTE_slice:BASE:ind/loss=1.28e-03, RTE_valid/RTE_slice:BASE:ind/accuracy=1.00e+00] RTE_slice:BASE:pred:[RTE_train/RTE_slice:BASE:pred/loss=5.32e-02, RTE_valid/RTE_slice:BASE:pred/accuracy=6.25e-01] RTE_slice:more_people:pred:[RTE_train/RTE_slice:more_people:pred/loss=1.28e-02, RTE_valid/RTE_slice:more_people:pred/accuracy=5.00e-01] model:[train/all/loss=1.28e-01, train/all/lr=5.00e-05]\n",
      "[10.36 epo]: RTE:[RTE_train/RTE_gold/loss=6.12e-01, RTE_valid/RTE_gold/accuracy=6.39e-01] RTE_slice:dash_semicolon:ind:[RTE_train/RTE_slice:dash_semicolon:ind/loss=5.83e-03, RTE_valid/RTE_slice:dash_semicolon:ind/accuracy=1.00e+00] RTE_slice:dash_semicolon:pred:[RTE_train/RTE_slice:dash_semicolon:pred/loss=3.80e-02, RTE_valid/RTE_slice:dash_semicolon:pred/accuracy=5.69e-01] RTE_slice:more_people:ind:[RTE_train/RTE_slice:more_people:ind/loss=2.86e-02, RTE_valid/RTE_slice:more_people:ind/accuracy=9.57e-01] RTE_slice:more_people:pred:[RTE_train/RTE_slice:more_people:pred/loss=5.96e-02, RTE_valid/RTE_slice:more_people:pred/accuracy=6.67e-01] RTE_slice:BASE:ind:[RTE_train/RTE_slice:BASE:ind/loss=1.32e-03, RTE_valid/RTE_slice:BASE:ind/accuracy=1.00e+00] RTE_slice:BASE:pred:[RTE_train/RTE_slice:BASE:pred/loss=6.80e-02, RTE_valid/RTE_slice:BASE:pred/accuracy=6.39e-01] model:[train/all/loss=1.35e-01, train/all/lr=5.00e-05]\n",
      "[10.46 epo]: RTE:[RTE_train/RTE_gold/loss=6.02e-01, RTE_valid/RTE_gold/accuracy=6.28e-01] RTE_slice:dash_semicolon:ind:[RTE_train/RTE_slice:dash_semicolon:ind/loss=7.83e-03, RTE_valid/RTE_slice:dash_semicolon:ind/accuracy=1.00e+00] RTE_slice:dash_semicolon:pred:[RTE_train/RTE_slice:dash_semicolon:pred/loss=3.48e-02, RTE_valid/RTE_slice:dash_semicolon:pred/accuracy=5.43e-01] RTE_slice:more_people:ind:[RTE_train/RTE_slice:more_people:ind/loss=2.42e-02, RTE_valid/RTE_slice:more_people:ind/accuracy=9.57e-01] RTE_slice:BASE:ind:[RTE_train/RTE_slice:BASE:ind/loss=1.10e-03, RTE_valid/RTE_slice:BASE:ind/accuracy=1.00e+00] RTE_slice:BASE:pred:[RTE_train/RTE_slice:BASE:pred/loss=6.27e-02, RTE_valid/RTE_slice:BASE:pred/accuracy=6.28e-01] RTE_slice:more_people:pred:[RTE_train/RTE_slice:more_people:pred/loss=2.54e-02, RTE_valid/RTE_slice:more_people:pred/accuracy=6.67e-01] model:[train/all/loss=1.31e-01, train/all/lr=5.00e-05]\n",
      "[10.56 epo]: RTE:[RTE_train/RTE_gold/loss=6.04e-01, RTE_valid/RTE_gold/accuracy=5.67e-01] RTE_slice:dash_semicolon:ind:[RTE_train/RTE_slice:dash_semicolon:ind/loss=5.88e-03, RTE_valid/RTE_slice:dash_semicolon:ind/accuracy=1.00e+00] RTE_slice:dash_semicolon:pred:[RTE_train/RTE_slice:dash_semicolon:pred/loss=8.32e-02, RTE_valid/RTE_slice:dash_semicolon:pred/accuracy=5.09e-01] RTE_slice:more_people:ind:[RTE_train/RTE_slice:more_people:ind/loss=1.11e-02, RTE_valid/RTE_slice:more_people:ind/accuracy=9.57e-01] RTE_slice:BASE:ind:[RTE_train/RTE_slice:BASE:ind/loss=8.84e-04, RTE_valid/RTE_slice:BASE:ind/accuracy=1.00e+00] RTE_slice:BASE:pred:[RTE_train/RTE_slice:BASE:pred/loss=7.05e-02, RTE_valid/RTE_slice:BASE:pred/accuracy=5.63e-01] RTE_slice:more_people:pred:[RTE_train/RTE_slice:more_people:pred/loss=1.55e-02, RTE_valid/RTE_slice:more_people:pred/accuracy=5.00e-01] model:[train/all/loss=1.35e-01, train/all/lr=5.00e-05]\n",
      "[10.67 epo]: RTE:[RTE_train/RTE_gold/loss=6.24e-01, RTE_valid/RTE_gold/accuracy=6.10e-01] RTE_slice:dash_semicolon:ind:[RTE_train/RTE_slice:dash_semicolon:ind/loss=5.25e-03, RTE_valid/RTE_slice:dash_semicolon:ind/accuracy=1.00e+00] RTE_slice:dash_semicolon:pred:[RTE_train/RTE_slice:dash_semicolon:pred/loss=7.15e-02, RTE_valid/RTE_slice:dash_semicolon:pred/accuracy=5.60e-01] RTE_slice:more_people:ind:[RTE_train/RTE_slice:more_people:ind/loss=1.68e-02, RTE_valid/RTE_slice:more_people:ind/accuracy=9.57e-01] RTE_slice:more_people:pred:[RTE_train/RTE_slice:more_people:pred/loss=7.11e-02, RTE_valid/RTE_slice:more_people:pred/accuracy=5.83e-01] RTE_slice:BASE:ind:[RTE_train/RTE_slice:BASE:ind/loss=7.47e-04, RTE_valid/RTE_slice:BASE:ind/accuracy=1.00e+00] RTE_slice:BASE:pred:[RTE_train/RTE_slice:BASE:pred/loss=8.97e-02, RTE_valid/RTE_slice:BASE:pred/accuracy=6.14e-01] model:[train/all/loss=1.41e-01, train/all/lr=5.00e-05]\n",
      "[10.77 epo]: RTE:[RTE_train/RTE_gold/loss=6.17e-01, RTE_valid/RTE_gold/accuracy=6.50e-01] RTE_slice:dash_semicolon:ind:[RTE_train/RTE_slice:dash_semicolon:ind/loss=4.53e-03, RTE_valid/RTE_slice:dash_semicolon:ind/accuracy=1.00e+00] RTE_slice:dash_semicolon:pred:[RTE_train/RTE_slice:dash_semicolon:pred/loss=6.73e-02, RTE_valid/RTE_slice:dash_semicolon:pred/accuracy=5.86e-01] RTE_slice:more_people:ind:[RTE_train/RTE_slice:more_people:ind/loss=1.44e-02, RTE_valid/RTE_slice:more_people:ind/accuracy=9.57e-01] RTE_slice:BASE:ind:[RTE_train/RTE_slice:BASE:ind/loss=6.34e-04, RTE_valid/RTE_slice:BASE:ind/accuracy=1.00e+00] RTE_slice:BASE:pred:[RTE_train/RTE_slice:BASE:pred/loss=7.97e-02, RTE_valid/RTE_slice:BASE:pred/accuracy=6.39e-01] RTE_slice:more_people:pred:[RTE_train/RTE_slice:more_people:pred/loss=1.05e-02, RTE_valid/RTE_slice:more_people:pred/accuracy=6.67e-01] model:[train/all/loss=1.37e-01, train/all/lr=5.00e-05]\n",
      "[10.87 epo]: RTE:[RTE_train/RTE_gold/loss=6.16e-01, RTE_valid/RTE_gold/accuracy=6.35e-01] RTE_slice:dash_semicolon:ind:[RTE_train/RTE_slice:dash_semicolon:ind/loss=4.43e-03, RTE_valid/RTE_slice:dash_semicolon:ind/accuracy=1.00e+00] RTE_slice:dash_semicolon:pred:[RTE_train/RTE_slice:dash_semicolon:pred/loss=5.36e-02, RTE_valid/RTE_slice:dash_semicolon:pred/accuracy=5.60e-01] RTE_slice:more_people:ind:[RTE_train/RTE_slice:more_people:ind/loss=1.34e-02, RTE_valid/RTE_slice:more_people:ind/accuracy=9.57e-01] RTE_slice:BASE:ind:[RTE_train/RTE_slice:BASE:ind/loss=6.45e-04, RTE_valid/RTE_slice:BASE:ind/accuracy=1.00e+00] RTE_slice:BASE:pred:[RTE_train/RTE_slice:BASE:pred/loss=7.43e-02, RTE_valid/RTE_slice:BASE:pred/accuracy=6.39e-01] RTE_slice:more_people:pred:[RTE_train/RTE_slice:more_people:pred/loss=1.25e-02, RTE_valid/RTE_slice:more_people:pred/accuracy=7.50e-01] model:[train/all/loss=1.35e-01, train/all/lr=5.00e-05]\n"
     ]
    },
    {
     "name": "stdout",
     "output_type": "stream",
     "text": [
      "[10.97 epo]: RTE:[RTE_train/RTE_gold/loss=6.06e-01, RTE_valid/RTE_gold/accuracy=6.10e-01] RTE_slice:dash_semicolon:ind:[RTE_train/RTE_slice:dash_semicolon:ind/loss=5.36e-03, RTE_valid/RTE_slice:dash_semicolon:ind/accuracy=1.00e+00] RTE_slice:dash_semicolon:pred:[RTE_train/RTE_slice:dash_semicolon:pred/loss=6.27e-02, RTE_valid/RTE_slice:dash_semicolon:pred/accuracy=5.69e-01] RTE_slice:more_people:ind:[RTE_train/RTE_slice:more_people:ind/loss=1.69e-02, RTE_valid/RTE_slice:more_people:ind/accuracy=9.57e-01] RTE_slice:BASE:ind:[RTE_train/RTE_slice:BASE:ind/loss=6.23e-04, RTE_valid/RTE_slice:BASE:ind/accuracy=1.00e+00] RTE_slice:BASE:pred:[RTE_train/RTE_slice:BASE:pred/loss=6.97e-02, RTE_valid/RTE_slice:BASE:pred/accuracy=6.10e-01] RTE_slice:more_people:pred:[RTE_train/RTE_slice:more_people:pred/loss=1.29e-01, RTE_valid/RTE_slice:more_people:pred/accuracy=4.17e-01] model:[train/all/loss=1.34e-01, train/all/lr=5.00e-05]\n",
      "\n"
     ]
    },
    {
     "data": {
      "application/vnd.jupyter.widget-view+json": {
       "model_id": "02d967dfd68f4a53a28ba89713591429",
       "version_major": 2,
       "version_minor": 0
      },
      "text/plain": [
       "HBox(children=(IntProgress(value=0, max=312), HTML(value='')))"
      ]
     },
     "metadata": {},
     "output_type": "display_data"
    },
    {
     "name": "stdout",
     "output_type": "stream",
     "text": [
      "[11.08 epo]: RTE:[RTE_train/RTE_gold/loss=6.03e-01, RTE_valid/RTE_gold/accuracy=6.17e-01] RTE_slice:dash_semicolon:ind:[RTE_train/RTE_slice:dash_semicolon:ind/loss=6.90e-03, RTE_valid/RTE_slice:dash_semicolon:ind/accuracy=1.00e+00] RTE_slice:dash_semicolon:pred:[RTE_train/RTE_slice:dash_semicolon:pred/loss=6.91e-02, RTE_valid/RTE_slice:dash_semicolon:pred/accuracy=5.60e-01] RTE_slice:more_people:ind:[RTE_train/RTE_slice:more_people:ind/loss=2.08e-02, RTE_valid/RTE_slice:more_people:ind/accuracy=9.57e-01] RTE_slice:BASE:ind:[RTE_train/RTE_slice:BASE:ind/loss=8.07e-04, RTE_valid/RTE_slice:BASE:ind/accuracy=1.00e+00] RTE_slice:BASE:pred:[RTE_train/RTE_slice:BASE:pred/loss=7.24e-02, RTE_valid/RTE_slice:BASE:pred/accuracy=6.17e-01] RTE_slice:more_people:pred:[RTE_train/RTE_slice:more_people:pred/loss=1.12e-02, RTE_valid/RTE_slice:more_people:pred/accuracy=5.00e-01] model:[train/all/loss=1.34e-01, train/all/lr=5.00e-05]\n",
      "[11.18 epo]: RTE:[RTE_train/RTE_gold/loss=5.88e-01, RTE_valid/RTE_gold/accuracy=6.14e-01] RTE_slice:dash_semicolon:ind:[RTE_train/RTE_slice:dash_semicolon:ind/loss=5.18e-03, RTE_valid/RTE_slice:dash_semicolon:ind/accuracy=1.00e+00] RTE_slice:dash_semicolon:pred:[RTE_train/RTE_slice:dash_semicolon:pred/loss=4.00e-02, RTE_valid/RTE_slice:dash_semicolon:pred/accuracy=5.26e-01] RTE_slice:more_people:ind:[RTE_train/RTE_slice:more_people:ind/loss=1.23e-02, RTE_valid/RTE_slice:more_people:ind/accuracy=9.57e-01] RTE_slice:BASE:ind:[RTE_train/RTE_slice:BASE:ind/loss=8.39e-04, RTE_valid/RTE_slice:BASE:ind/accuracy=1.00e+00] RTE_slice:BASE:pred:[RTE_train/RTE_slice:BASE:pred/loss=5.20e-02, RTE_valid/RTE_slice:BASE:pred/accuracy=6.21e-01] RTE_slice:more_people:pred:[RTE_train/RTE_slice:more_people:pred/loss=2.45e-02, RTE_valid/RTE_slice:more_people:pred/accuracy=5.00e-01] model:[train/all/loss=1.25e-01, train/all/lr=5.00e-05]\n",
      "[11.28 epo]: RTE:[RTE_train/RTE_gold/loss=6.10e-01, RTE_valid/RTE_gold/accuracy=6.10e-01] RTE_slice:dash_semicolon:ind:[RTE_train/RTE_slice:dash_semicolon:ind/loss=5.39e-03, RTE_valid/RTE_slice:dash_semicolon:ind/accuracy=1.00e+00] RTE_slice:dash_semicolon:pred:[RTE_train/RTE_slice:dash_semicolon:pred/loss=5.96e-02, RTE_valid/RTE_slice:dash_semicolon:pred/accuracy=5.52e-01] RTE_slice:more_people:ind:[RTE_train/RTE_slice:more_people:ind/loss=2.31e-02, RTE_valid/RTE_slice:more_people:ind/accuracy=9.57e-01] RTE_slice:BASE:ind:[RTE_train/RTE_slice:BASE:ind/loss=6.39e-04, RTE_valid/RTE_slice:BASE:ind/accuracy=1.00e+00] RTE_slice:BASE:pred:[RTE_train/RTE_slice:BASE:pred/loss=7.57e-02, RTE_valid/RTE_slice:BASE:pred/accuracy=6.10e-01] RTE_slice:more_people:pred:[RTE_train/RTE_slice:more_people:pred/loss=1.26e-02, RTE_valid/RTE_slice:more_people:pred/accuracy=4.17e-01] model:[train/all/loss=1.36e-01, train/all/lr=5.00e-05]\n",
      "[11.38 epo]: RTE:[RTE_train/RTE_gold/loss=6.19e-01, RTE_valid/RTE_gold/accuracy=6.06e-01] RTE_slice:dash_semicolon:ind:[RTE_train/RTE_slice:dash_semicolon:ind/loss=6.37e-03, RTE_valid/RTE_slice:dash_semicolon:ind/accuracy=1.00e+00] RTE_slice:dash_semicolon:pred:[RTE_train/RTE_slice:dash_semicolon:pred/loss=6.80e-02, RTE_valid/RTE_slice:dash_semicolon:pred/accuracy=5.17e-01] RTE_slice:more_people:ind:[RTE_train/RTE_slice:more_people:ind/loss=2.10e-02, RTE_valid/RTE_slice:more_people:ind/accuracy=9.57e-01] RTE_slice:BASE:ind:[RTE_train/RTE_slice:BASE:ind/loss=9.62e-04, RTE_valid/RTE_slice:BASE:ind/accuracy=1.00e+00] RTE_slice:BASE:pred:[RTE_train/RTE_slice:BASE:pred/loss=8.34e-02, RTE_valid/RTE_slice:BASE:pred/accuracy=6.06e-01] RTE_slice:more_people:pred:[RTE_train/RTE_slice:more_people:pred/loss=3.71e-02, RTE_valid/RTE_slice:more_people:pred/accuracy=2.50e-01] model:[train/all/loss=1.39e-01, train/all/lr=5.00e-05]\n",
      "[11.49 epo]: RTE:[RTE_train/RTE_gold/loss=5.95e-01, RTE_valid/RTE_gold/accuracy=6.21e-01] RTE_slice:dash_semicolon:ind:[RTE_train/RTE_slice:dash_semicolon:ind/loss=5.47e-03, RTE_valid/RTE_slice:dash_semicolon:ind/accuracy=1.00e+00] RTE_slice:dash_semicolon:pred:[RTE_train/RTE_slice:dash_semicolon:pred/loss=3.54e-02, RTE_valid/RTE_slice:dash_semicolon:pred/accuracy=5.34e-01] RTE_slice:more_people:ind:[RTE_train/RTE_slice:more_people:ind/loss=2.02e-02, RTE_valid/RTE_slice:more_people:ind/accuracy=9.57e-01] RTE_slice:more_people:pred:[RTE_train/RTE_slice:more_people:pred/loss=1.12e-02, RTE_valid/RTE_slice:more_people:pred/accuracy=5.00e-01] RTE_slice:BASE:ind:[RTE_train/RTE_slice:BASE:ind/loss=8.71e-04, RTE_valid/RTE_slice:BASE:ind/accuracy=1.00e+00] RTE_slice:BASE:pred:[RTE_train/RTE_slice:BASE:pred/loss=6.12e-02, RTE_valid/RTE_slice:BASE:pred/accuracy=6.25e-01] model:[train/all/loss=1.29e-01, train/all/lr=5.00e-05]\n",
      "[11.59 epo]: RTE:[RTE_train/RTE_gold/loss=5.85e-01, RTE_valid/RTE_gold/accuracy=5.96e-01] RTE_slice:dash_semicolon:ind:[RTE_train/RTE_slice:dash_semicolon:ind/loss=7.64e-03, RTE_valid/RTE_slice:dash_semicolon:ind/accuracy=1.00e+00] RTE_slice:dash_semicolon:pred:[RTE_train/RTE_slice:dash_semicolon:pred/loss=5.30e-02, RTE_valid/RTE_slice:dash_semicolon:pred/accuracy=4.91e-01] RTE_slice:more_people:ind:[RTE_train/RTE_slice:more_people:ind/loss=2.24e-02, RTE_valid/RTE_slice:more_people:ind/accuracy=9.57e-01] RTE_slice:BASE:ind:[RTE_train/RTE_slice:BASE:ind/loss=9.39e-04, RTE_valid/RTE_slice:BASE:ind/accuracy=1.00e+00] RTE_slice:BASE:pred:[RTE_train/RTE_slice:BASE:pred/loss=5.87e-02, RTE_valid/RTE_slice:BASE:pred/accuracy=6.03e-01] RTE_slice:more_people:pred:[RTE_train/RTE_slice:more_people:pred/loss=7.14e-02, RTE_valid/RTE_slice:more_people:pred/accuracy=5.00e-01] model:[train/all/loss=1.29e-01, train/all/lr=5.00e-05]\n",
      "[11.69 epo]: RTE:[RTE_train/RTE_gold/loss=5.90e-01, RTE_valid/RTE_gold/accuracy=6.03e-01] RTE_slice:dash_semicolon:ind:[RTE_train/RTE_slice:dash_semicolon:ind/loss=6.06e-03, RTE_valid/RTE_slice:dash_semicolon:ind/accuracy=1.00e+00] RTE_slice:dash_semicolon:pred:[RTE_train/RTE_slice:dash_semicolon:pred/loss=4.74e-02, RTE_valid/RTE_slice:dash_semicolon:pred/accuracy=5.43e-01] RTE_slice:more_people:ind:[RTE_train/RTE_slice:more_people:ind/loss=1.53e-02, RTE_valid/RTE_slice:more_people:ind/accuracy=9.57e-01] RTE_slice:BASE:ind:[RTE_train/RTE_slice:BASE:ind/loss=9.17e-04, RTE_valid/RTE_slice:BASE:ind/accuracy=1.00e+00] RTE_slice:BASE:pred:[RTE_train/RTE_slice:BASE:pred/loss=6.35e-02, RTE_valid/RTE_slice:BASE:pred/accuracy=6.03e-01] RTE_slice:more_people:pred:[RTE_train/RTE_slice:more_people:pred/loss=9.78e-03, RTE_valid/RTE_slice:more_people:pred/accuracy=4.17e-01] model:[train/all/loss=1.28e-01, train/all/lr=5.00e-05]\n",
      "[11.79 epo]: RTE:[RTE_train/RTE_gold/loss=5.82e-01, RTE_valid/RTE_gold/accuracy=6.14e-01] RTE_slice:dash_semicolon:ind:[RTE_train/RTE_slice:dash_semicolon:ind/loss=7.36e-03, RTE_valid/RTE_slice:dash_semicolon:ind/accuracy=1.00e+00] RTE_slice:dash_semicolon:pred:[RTE_train/RTE_slice:dash_semicolon:pred/loss=3.34e-02, RTE_valid/RTE_slice:dash_semicolon:pred/accuracy=5.43e-01] RTE_slice:more_people:ind:[RTE_train/RTE_slice:more_people:ind/loss=1.23e-02, RTE_valid/RTE_slice:more_people:ind/accuracy=9.57e-01] RTE_slice:BASE:ind:[RTE_train/RTE_slice:BASE:ind/loss=7.69e-04, RTE_valid/RTE_slice:BASE:ind/accuracy=1.00e+00] RTE_slice:BASE:pred:[RTE_train/RTE_slice:BASE:pred/loss=5.51e-02, RTE_valid/RTE_slice:BASE:pred/accuracy=6.14e-01] RTE_slice:more_people:pred:[RTE_train/RTE_slice:more_people:pred/loss=1.60e-02, RTE_valid/RTE_slice:more_people:pred/accuracy=4.17e-01] model:[train/all/loss=1.24e-01, train/all/lr=5.00e-05]\n",
      "[11.90 epo]: RTE:[RTE_train/RTE_gold/loss=5.90e-01, RTE_valid/RTE_gold/accuracy=6.21e-01] RTE_slice:dash_semicolon:ind:[RTE_train/RTE_slice:dash_semicolon:ind/loss=5.90e-03, RTE_valid/RTE_slice:dash_semicolon:ind/accuracy=1.00e+00] RTE_slice:dash_semicolon:pred:[RTE_train/RTE_slice:dash_semicolon:pred/loss=5.32e-02, RTE_valid/RTE_slice:dash_semicolon:pred/accuracy=5.26e-01] RTE_slice:more_people:ind:[RTE_train/RTE_slice:more_people:ind/loss=1.67e-02, RTE_valid/RTE_slice:more_people:ind/accuracy=9.57e-01] RTE_slice:BASE:ind:[RTE_train/RTE_slice:BASE:ind/loss=8.09e-04, RTE_valid/RTE_slice:BASE:ind/accuracy=1.00e+00] RTE_slice:BASE:pred:[RTE_train/RTE_slice:BASE:pred/loss=6.72e-02, RTE_valid/RTE_slice:BASE:pred/accuracy=6.21e-01] RTE_slice:more_people:pred:[RTE_train/RTE_slice:more_people:pred/loss=5.30e-02, RTE_valid/RTE_slice:more_people:pred/accuracy=5.00e-01] model:[train/all/loss=1.30e-01, train/all/lr=5.00e-05]\n"
     ]
    },
    {
     "name": "stdout",
     "output_type": "stream",
     "text": [
      "[12.0 epo]: RTE:[RTE_train/RTE_gold/loss=5.94e-01, RTE_valid/RTE_gold/accuracy=6.14e-01] RTE_slice:dash_semicolon:ind:[RTE_train/RTE_slice:dash_semicolon:ind/loss=6.35e-03, RTE_valid/RTE_slice:dash_semicolon:ind/accuracy=1.00e+00] RTE_slice:dash_semicolon:pred:[RTE_train/RTE_slice:dash_semicolon:pred/loss=7.48e-02, RTE_valid/RTE_slice:dash_semicolon:pred/accuracy=5.26e-01] RTE_slice:more_people:ind:[RTE_train/RTE_slice:more_people:ind/loss=2.50e-02, RTE_valid/RTE_slice:more_people:ind/accuracy=9.57e-01] RTE_slice:BASE:ind:[RTE_train/RTE_slice:BASE:ind/loss=7.59e-04, RTE_valid/RTE_slice:BASE:ind/accuracy=1.00e+00] RTE_slice:BASE:pred:[RTE_train/RTE_slice:BASE:pred/loss=7.29e-02, RTE_valid/RTE_slice:BASE:pred/accuracy=6.17e-01] RTE_slice:more_people:pred:[RTE_train/RTE_slice:more_people:pred/loss=1.09e-02, RTE_valid/RTE_slice:more_people:pred/accuracy=4.17e-01] model:[train/all/loss=1.34e-01, train/all/lr=5.00e-05]\n",
      "\n"
     ]
    },
    {
     "data": {
      "application/vnd.jupyter.widget-view+json": {
       "model_id": "66e53ce1e129409398d7049c31f7fbdf",
       "version_major": 2,
       "version_minor": 0
      },
      "text/plain": [
       "HBox(children=(IntProgress(value=0, max=312), HTML(value='')))"
      ]
     },
     "metadata": {},
     "output_type": "display_data"
    },
    {
     "name": "stdout",
     "output_type": "stream",
     "text": [
      "[12.10 epo]: RTE:[RTE_train/RTE_gold/loss=5.72e-01, RTE_valid/RTE_gold/accuracy=6.35e-01] RTE_slice:dash_semicolon:ind:[RTE_train/RTE_slice:dash_semicolon:ind/loss=7.70e-03, RTE_valid/RTE_slice:dash_semicolon:ind/accuracy=1.00e+00] RTE_slice:dash_semicolon:pred:[RTE_train/RTE_slice:dash_semicolon:pred/loss=3.80e-02, RTE_valid/RTE_slice:dash_semicolon:pred/accuracy=5.52e-01] RTE_slice:more_people:ind:[RTE_train/RTE_slice:more_people:ind/loss=1.97e-02, RTE_valid/RTE_slice:more_people:ind/accuracy=9.57e-01] RTE_slice:BASE:ind:[RTE_train/RTE_slice:BASE:ind/loss=7.69e-04, RTE_valid/RTE_slice:BASE:ind/accuracy=1.00e+00] RTE_slice:BASE:pred:[RTE_train/RTE_slice:BASE:pred/loss=5.16e-02, RTE_valid/RTE_slice:BASE:pred/accuracy=6.35e-01] RTE_slice:more_people:pred:[RTE_train/RTE_slice:more_people:pred/loss=1.00e-02, RTE_valid/RTE_slice:more_people:pred/accuracy=5.00e-01] model:[train/all/loss=1.23e-01, train/all/lr=5.00e-05]\n",
      "[12.21 epo]: RTE:[RTE_train/RTE_gold/loss=5.76e-01, RTE_valid/RTE_gold/accuracy=6.35e-01] RTE_slice:dash_semicolon:ind:[RTE_train/RTE_slice:dash_semicolon:ind/loss=6.21e-03, RTE_valid/RTE_slice:dash_semicolon:ind/accuracy=1.00e+00] RTE_slice:dash_semicolon:pred:[RTE_train/RTE_slice:dash_semicolon:pred/loss=3.95e-02, RTE_valid/RTE_slice:dash_semicolon:pred/accuracy=5.43e-01] RTE_slice:more_people:ind:[RTE_train/RTE_slice:more_people:ind/loss=1.78e-02, RTE_valid/RTE_slice:more_people:ind/accuracy=9.57e-01] RTE_slice:BASE:ind:[RTE_train/RTE_slice:BASE:ind/loss=1.04e-03, RTE_valid/RTE_slice:BASE:ind/accuracy=1.00e+00] RTE_slice:BASE:pred:[RTE_train/RTE_slice:BASE:pred/loss=5.80e-02, RTE_valid/RTE_slice:BASE:pred/accuracy=6.32e-01] RTE_slice:more_people:pred:[RTE_train/RTE_slice:more_people:pred/loss=1.13e-02, RTE_valid/RTE_slice:more_people:pred/accuracy=4.17e-01] model:[train/all/loss=1.24e-01, train/all/lr=5.00e-05]\n",
      "[12.31 epo]: RTE:[RTE_train/RTE_gold/loss=5.71e-01, RTE_valid/RTE_gold/accuracy=6.10e-01] RTE_slice:dash_semicolon:ind:[RTE_train/RTE_slice:dash_semicolon:ind/loss=7.97e-03, RTE_valid/RTE_slice:dash_semicolon:ind/accuracy=1.00e+00] RTE_slice:dash_semicolon:pred:[RTE_train/RTE_slice:dash_semicolon:pred/loss=6.40e-02, RTE_valid/RTE_slice:dash_semicolon:pred/accuracy=5.34e-01] RTE_slice:more_people:ind:[RTE_train/RTE_slice:more_people:ind/loss=1.00e-02, RTE_valid/RTE_slice:more_people:ind/accuracy=9.57e-01] RTE_slice:BASE:ind:[RTE_train/RTE_slice:BASE:ind/loss=9.69e-04, RTE_valid/RTE_slice:BASE:ind/accuracy=1.00e+00] RTE_slice:BASE:pred:[RTE_train/RTE_slice:BASE:pred/loss=5.82e-02, RTE_valid/RTE_slice:BASE:pred/accuracy=6.14e-01] RTE_slice:more_people:pred:[RTE_train/RTE_slice:more_people:pred/loss=8.72e-03, RTE_valid/RTE_slice:more_people:pred/accuracy=3.33e-01] model:[train/all/loss=1.24e-01, train/all/lr=5.00e-05]\n",
      "[12.41 epo]: RTE:[RTE_train/RTE_gold/loss=5.74e-01, RTE_valid/RTE_gold/accuracy=5.99e-01] RTE_slice:dash_semicolon:ind:[RTE_train/RTE_slice:dash_semicolon:ind/loss=6.74e-03, RTE_valid/RTE_slice:dash_semicolon:ind/accuracy=1.00e+00] RTE_slice:dash_semicolon:pred:[RTE_train/RTE_slice:dash_semicolon:pred/loss=6.00e-02, RTE_valid/RTE_slice:dash_semicolon:pred/accuracy=5.60e-01] RTE_slice:more_people:ind:[RTE_train/RTE_slice:more_people:ind/loss=1.97e-02, RTE_valid/RTE_slice:more_people:ind/accuracy=9.57e-01] RTE_slice:BASE:ind:[RTE_train/RTE_slice:BASE:ind/loss=1.05e-03, RTE_valid/RTE_slice:BASE:ind/accuracy=1.00e+00] RTE_slice:BASE:pred:[RTE_train/RTE_slice:BASE:pred/loss=6.35e-02, RTE_valid/RTE_slice:BASE:pred/accuracy=5.96e-01] RTE_slice:more_people:pred:[RTE_train/RTE_slice:more_people:pred/loss=1.17e-01, RTE_valid/RTE_slice:more_people:pred/accuracy=4.17e-01] model:[train/all/loss=1.28e-01, train/all/lr=5.00e-05]\n",
      "[12.51 epo]: RTE:[RTE_train/RTE_gold/loss=5.73e-01, RTE_valid/RTE_gold/accuracy=6.14e-01] RTE_slice:dash_semicolon:ind:[RTE_train/RTE_slice:dash_semicolon:ind/loss=8.68e-03, RTE_valid/RTE_slice:dash_semicolon:ind/accuracy=1.00e+00] RTE_slice:dash_semicolon:pred:[RTE_train/RTE_slice:dash_semicolon:pred/loss=4.47e-02, RTE_valid/RTE_slice:dash_semicolon:pred/accuracy=5.95e-01] RTE_slice:more_people:ind:[RTE_train/RTE_slice:more_people:ind/loss=2.63e-02, RTE_valid/RTE_slice:more_people:ind/accuracy=9.57e-01] RTE_slice:BASE:ind:[RTE_train/RTE_slice:BASE:ind/loss=8.16e-04, RTE_valid/RTE_slice:BASE:ind/accuracy=1.00e+00] RTE_slice:BASE:pred:[RTE_train/RTE_slice:BASE:pred/loss=6.18e-02, RTE_valid/RTE_slice:BASE:pred/accuracy=6.14e-01] RTE_slice:more_people:pred:[RTE_train/RTE_slice:more_people:pred/loss=2.01e-02, RTE_valid/RTE_slice:more_people:pred/accuracy=3.33e-01] model:[train/all/loss=1.26e-01, train/all/lr=5.00e-05]\n",
      "[12.62 epo]: RTE:[RTE_train/RTE_gold/loss=5.67e-01, RTE_valid/RTE_gold/accuracy=6.25e-01] RTE_slice:dash_semicolon:ind:[RTE_train/RTE_slice:dash_semicolon:ind/loss=6.75e-03, RTE_valid/RTE_slice:dash_semicolon:ind/accuracy=1.00e+00] RTE_slice:dash_semicolon:pred:[RTE_train/RTE_slice:dash_semicolon:pred/loss=4.12e-02, RTE_valid/RTE_slice:dash_semicolon:pred/accuracy=5.95e-01] RTE_slice:more_people:ind:[RTE_train/RTE_slice:more_people:ind/loss=2.46e-02, RTE_valid/RTE_slice:more_people:ind/accuracy=9.57e-01] RTE_slice:more_people:pred:[RTE_train/RTE_slice:more_people:pred/loss=4.55e-02, RTE_valid/RTE_slice:more_people:pred/accuracy=5.83e-01] RTE_slice:BASE:ind:[RTE_train/RTE_slice:BASE:ind/loss=7.96e-04, RTE_valid/RTE_slice:BASE:ind/accuracy=1.00e+00] RTE_slice:BASE:pred:[RTE_train/RTE_slice:BASE:pred/loss=5.34e-02, RTE_valid/RTE_slice:BASE:pred/accuracy=6.28e-01] model:[train/all/loss=1.24e-01, train/all/lr=5.00e-05]\n",
      "[12.72 epo]: RTE:[RTE_train/RTE_gold/loss=5.93e-01, RTE_valid/RTE_gold/accuracy=5.78e-01] RTE_slice:dash_semicolon:ind:[RTE_train/RTE_slice:dash_semicolon:ind/loss=5.92e-03, RTE_valid/RTE_slice:dash_semicolon:ind/accuracy=1.00e+00] RTE_slice:dash_semicolon:pred:[RTE_train/RTE_slice:dash_semicolon:pred/loss=6.51e-02, RTE_valid/RTE_slice:dash_semicolon:pred/accuracy=5.34e-01] RTE_slice:more_people:ind:[RTE_train/RTE_slice:more_people:ind/loss=1.45e-02, RTE_valid/RTE_slice:more_people:ind/accuracy=9.57e-01] RTE_slice:BASE:ind:[RTE_train/RTE_slice:BASE:ind/loss=7.08e-04, RTE_valid/RTE_slice:BASE:ind/accuracy=1.00e+00] RTE_slice:BASE:pred:[RTE_train/RTE_slice:BASE:pred/loss=8.04e-02, RTE_valid/RTE_slice:BASE:pred/accuracy=5.63e-01] RTE_slice:more_people:pred:[RTE_train/RTE_slice:more_people:pred/loss=1.41e-02, RTE_valid/RTE_slice:more_people:pred/accuracy=5.83e-01] model:[train/all/loss=1.33e-01, train/all/lr=5.00e-05]\n",
      "[12.82 epo]: RTE:[RTE_train/RTE_gold/loss=5.86e-01, RTE_valid/RTE_gold/accuracy=6.17e-01] RTE_slice:dash_semicolon:ind:[RTE_train/RTE_slice:dash_semicolon:ind/loss=5.28e-03, RTE_valid/RTE_slice:dash_semicolon:ind/accuracy=1.00e+00] RTE_slice:dash_semicolon:pred:[RTE_train/RTE_slice:dash_semicolon:pred/loss=5.76e-02, RTE_valid/RTE_slice:dash_semicolon:pred/accuracy=5.60e-01] RTE_slice:more_people:ind:[RTE_train/RTE_slice:more_people:ind/loss=2.47e-02, RTE_valid/RTE_slice:more_people:ind/accuracy=9.57e-01] RTE_slice:BASE:ind:[RTE_train/RTE_slice:BASE:ind/loss=9.52e-04, RTE_valid/RTE_slice:BASE:ind/accuracy=1.00e+00] RTE_slice:BASE:pred:[RTE_train/RTE_slice:BASE:pred/loss=7.34e-02, RTE_valid/RTE_slice:BASE:pred/accuracy=6.28e-01] RTE_slice:more_people:pred:[RTE_train/RTE_slice:more_people:pred/loss=5.52e-02, RTE_valid/RTE_slice:more_people:pred/accuracy=5.83e-01] model:[train/all/loss=1.31e-01, train/all/lr=5.00e-05]\n",
      "[12.92 epo]: RTE:[RTE_train/RTE_gold/loss=5.85e-01, RTE_valid/RTE_gold/accuracy=6.06e-01] RTE_slice:dash_semicolon:ind:[RTE_train/RTE_slice:dash_semicolon:ind/loss=6.02e-03, RTE_valid/RTE_slice:dash_semicolon:ind/accuracy=1.00e+00] RTE_slice:dash_semicolon:pred:[RTE_train/RTE_slice:dash_semicolon:pred/loss=5.90e-02, RTE_valid/RTE_slice:dash_semicolon:pred/accuracy=5.17e-01] RTE_slice:more_people:ind:[RTE_train/RTE_slice:more_people:ind/loss=1.74e-02, RTE_valid/RTE_slice:more_people:ind/accuracy=9.57e-01] RTE_slice:BASE:ind:[RTE_train/RTE_slice:BASE:ind/loss=8.78e-04, RTE_valid/RTE_slice:BASE:ind/accuracy=1.00e+00] RTE_slice:BASE:pred:[RTE_train/RTE_slice:BASE:pred/loss=7.44e-02, RTE_valid/RTE_slice:BASE:pred/accuracy=6.03e-01] RTE_slice:more_people:pred:[RTE_train/RTE_slice:more_people:pred/loss=7.46e-03, RTE_valid/RTE_slice:more_people:pred/accuracy=5.00e-01] model:[train/all/loss=1.30e-01, train/all/lr=5.00e-05]\n"
     ]
    },
    {
     "name": "stdout",
     "output_type": "stream",
     "text": [
      "\n"
     ]
    },
    {
     "data": {
      "application/vnd.jupyter.widget-view+json": {
       "model_id": "62ba7613be004510a3c8103da3a8c84f",
       "version_major": 2,
       "version_minor": 0
      },
      "text/plain": [
       "HBox(children=(IntProgress(value=0, max=312), HTML(value='')))"
      ]
     },
     "metadata": {},
     "output_type": "display_data"
    },
    {
     "name": "stdout",
     "output_type": "stream",
     "text": [
      "[13.03 epo]: RTE:[RTE_train/RTE_gold/loss=5.51e-01, RTE_valid/RTE_gold/accuracy=6.17e-01] RTE_slice:dash_semicolon:ind:[RTE_train/RTE_slice:dash_semicolon:ind/loss=7.78e-03, RTE_valid/RTE_slice:dash_semicolon:ind/accuracy=1.00e+00] RTE_slice:dash_semicolon:pred:[RTE_train/RTE_slice:dash_semicolon:pred/loss=4.58e-02, RTE_valid/RTE_slice:dash_semicolon:pred/accuracy=5.52e-01] RTE_slice:more_people:ind:[RTE_train/RTE_slice:more_people:ind/loss=1.60e-02, RTE_valid/RTE_slice:more_people:ind/accuracy=9.57e-01] RTE_slice:BASE:ind:[RTE_train/RTE_slice:BASE:ind/loss=8.98e-04, RTE_valid/RTE_slice:BASE:ind/accuracy=1.00e+00] RTE_slice:BASE:pred:[RTE_train/RTE_slice:BASE:pred/loss=4.76e-02, RTE_valid/RTE_slice:BASE:pred/accuracy=6.21e-01] RTE_slice:more_people:pred:[RTE_train/RTE_slice:more_people:pred/loss=7.30e-03, RTE_valid/RTE_slice:more_people:pred/accuracy=5.00e-01] model:[train/all/loss=1.18e-01, train/all/lr=5.00e-05]\n",
      "[13.13 epo]: RTE:[RTE_train/RTE_gold/loss=5.75e-01, RTE_valid/RTE_gold/accuracy=5.70e-01] RTE_slice:dash_semicolon:ind:[RTE_train/RTE_slice:dash_semicolon:ind/loss=7.23e-03, RTE_valid/RTE_slice:dash_semicolon:ind/accuracy=1.00e+00] RTE_slice:dash_semicolon:pred:[RTE_train/RTE_slice:dash_semicolon:pred/loss=6.03e-02, RTE_valid/RTE_slice:dash_semicolon:pred/accuracy=5.17e-01] RTE_slice:more_people:ind:[RTE_train/RTE_slice:more_people:ind/loss=1.49e-02, RTE_valid/RTE_slice:more_people:ind/accuracy=9.57e-01] RTE_slice:BASE:ind:[RTE_train/RTE_slice:BASE:ind/loss=7.81e-04, RTE_valid/RTE_slice:BASE:ind/accuracy=1.00e+00] RTE_slice:BASE:pred:[RTE_train/RTE_slice:BASE:pred/loss=7.53e-02, RTE_valid/RTE_slice:BASE:pred/accuracy=5.67e-01] RTE_slice:more_people:pred:[RTE_train/RTE_slice:more_people:pred/loss=5.16e-02, RTE_valid/RTE_slice:more_people:pred/accuracy=5.83e-01] model:[train/all/loss=1.30e-01, train/all/lr=5.00e-05]\n",
      "[13.23 epo]: RTE:[RTE_train/RTE_gold/loss=5.69e-01, RTE_valid/RTE_gold/accuracy=6.10e-01] RTE_slice:dash_semicolon:ind:[RTE_train/RTE_slice:dash_semicolon:ind/loss=5.18e-03, RTE_valid/RTE_slice:dash_semicolon:ind/accuracy=1.00e+00] RTE_slice:dash_semicolon:pred:[RTE_train/RTE_slice:dash_semicolon:pred/loss=7.25e-02, RTE_valid/RTE_slice:dash_semicolon:pred/accuracy=5.43e-01] RTE_slice:more_people:ind:[RTE_train/RTE_slice:more_people:ind/loss=2.38e-02, RTE_valid/RTE_slice:more_people:ind/accuracy=9.57e-01] RTE_slice:more_people:pred:[RTE_train/RTE_slice:more_people:pred/loss=1.19e-01, RTE_valid/RTE_slice:more_people:pred/accuracy=5.83e-01] RTE_slice:BASE:ind:[RTE_train/RTE_slice:BASE:ind/loss=7.08e-04, RTE_valid/RTE_slice:BASE:ind/accuracy=1.00e+00] RTE_slice:BASE:pred:[RTE_train/RTE_slice:BASE:pred/loss=6.97e-02, RTE_valid/RTE_slice:BASE:pred/accuracy=6.10e-01] model:[train/all/loss=1.29e-01, train/all/lr=5.00e-05]\n",
      "[13.33 epo]: RTE:[RTE_train/RTE_gold/loss=5.51e-01, RTE_valid/RTE_gold/accuracy=5.78e-01] RTE_slice:dash_semicolon:ind:[RTE_train/RTE_slice:dash_semicolon:ind/loss=7.71e-03, RTE_valid/RTE_slice:dash_semicolon:ind/accuracy=1.00e+00] RTE_slice:dash_semicolon:pred:[RTE_train/RTE_slice:dash_semicolon:pred/loss=2.34e-02, RTE_valid/RTE_slice:dash_semicolon:pred/accuracy=5.26e-01] RTE_slice:more_people:ind:[RTE_train/RTE_slice:more_people:ind/loss=1.62e-02, RTE_valid/RTE_slice:more_people:ind/accuracy=9.57e-01] RTE_slice:more_people:pred:[RTE_train/RTE_slice:more_people:pred/loss=1.07e-02, RTE_valid/RTE_slice:more_people:pred/accuracy=5.00e-01] RTE_slice:BASE:ind:[RTE_train/RTE_slice:BASE:ind/loss=9.38e-04, RTE_valid/RTE_slice:BASE:ind/accuracy=1.00e+00] RTE_slice:BASE:pred:[RTE_train/RTE_slice:BASE:pred/loss=5.54e-02, RTE_valid/RTE_slice:BASE:pred/accuracy=5.74e-01] model:[train/all/loss=1.18e-01, train/all/lr=5.00e-05]\n",
      "[13.44 epo]: RTE:[RTE_train/RTE_gold/loss=5.49e-01, RTE_valid/RTE_gold/accuracy=5.92e-01] RTE_slice:dash_semicolon:ind:[RTE_train/RTE_slice:dash_semicolon:ind/loss=1.01e-02, RTE_valid/RTE_slice:dash_semicolon:ind/accuracy=1.00e+00] RTE_slice:dash_semicolon:pred:[RTE_train/RTE_slice:dash_semicolon:pred/loss=4.33e-02, RTE_valid/RTE_slice:dash_semicolon:pred/accuracy=5.43e-01] RTE_slice:more_people:ind:[RTE_train/RTE_slice:more_people:ind/loss=1.55e-02, RTE_valid/RTE_slice:more_people:ind/accuracy=9.57e-01] RTE_slice:more_people:pred:[RTE_train/RTE_slice:more_people:pred/loss=8.21e-03, RTE_valid/RTE_slice:more_people:pred/accuracy=7.50e-01] RTE_slice:BASE:ind:[RTE_train/RTE_slice:BASE:ind/loss=8.52e-04, RTE_valid/RTE_slice:BASE:ind/accuracy=1.00e+00] RTE_slice:BASE:pred:[RTE_train/RTE_slice:BASE:pred/loss=5.75e-02, RTE_valid/RTE_slice:BASE:pred/accuracy=5.96e-01] model:[train/all/loss=1.20e-01, train/all/lr=5.00e-05]\n",
      "[13.54 epo]: RTE:[RTE_train/RTE_gold/loss=5.64e-01, RTE_valid/RTE_gold/accuracy=6.14e-01] RTE_slice:dash_semicolon:ind:[RTE_train/RTE_slice:dash_semicolon:ind/loss=8.36e-03, RTE_valid/RTE_slice:dash_semicolon:ind/accuracy=1.00e+00] RTE_slice:dash_semicolon:pred:[RTE_train/RTE_slice:dash_semicolon:pred/loss=6.84e-02, RTE_valid/RTE_slice:dash_semicolon:pred/accuracy=5.52e-01] RTE_slice:more_people:ind:[RTE_train/RTE_slice:more_people:ind/loss=2.11e-02, RTE_valid/RTE_slice:more_people:ind/accuracy=9.57e-01] RTE_slice:more_people:pred:[RTE_train/RTE_slice:more_people:pred/loss=7.82e-03, RTE_valid/RTE_slice:more_people:pred/accuracy=5.83e-01] RTE_slice:BASE:ind:[RTE_train/RTE_slice:BASE:ind/loss=9.37e-04, RTE_valid/RTE_slice:BASE:ind/accuracy=1.00e+00] RTE_slice:BASE:pred:[RTE_train/RTE_slice:BASE:pred/loss=7.64e-02, RTE_valid/RTE_slice:BASE:pred/accuracy=6.14e-01] model:[train/all/loss=1.28e-01, train/all/lr=5.00e-05]\n",
      "[13.64 epo]: RTE:[RTE_train/RTE_gold/loss=5.51e-01, RTE_valid/RTE_gold/accuracy=6.10e-01] RTE_slice:dash_semicolon:ind:[RTE_train/RTE_slice:dash_semicolon:ind/loss=7.68e-03, RTE_valid/RTE_slice:dash_semicolon:ind/accuracy=1.00e+00] RTE_slice:dash_semicolon:pred:[RTE_train/RTE_slice:dash_semicolon:pred/loss=5.25e-02, RTE_valid/RTE_slice:dash_semicolon:pred/accuracy=4.91e-01] RTE_slice:more_people:ind:[RTE_train/RTE_slice:more_people:ind/loss=2.50e-02, RTE_valid/RTE_slice:more_people:ind/accuracy=9.57e-01] RTE_slice:more_people:pred:[RTE_train/RTE_slice:more_people:pred/loss=2.10e-02, RTE_valid/RTE_slice:more_people:pred/accuracy=5.83e-01] RTE_slice:BASE:ind:[RTE_train/RTE_slice:BASE:ind/loss=1.17e-03, RTE_valid/RTE_slice:BASE:ind/accuracy=1.00e+00] RTE_slice:BASE:pred:[RTE_train/RTE_slice:BASE:pred/loss=6.51e-02, RTE_valid/RTE_slice:BASE:pred/accuracy=6.06e-01] model:[train/all/loss=1.23e-01, train/all/lr=5.00e-05]\n",
      "[13.74 epo]: RTE:[RTE_train/RTE_gold/loss=5.54e-01, RTE_valid/RTE_gold/accuracy=6.28e-01] RTE_slice:dash_semicolon:ind:[RTE_train/RTE_slice:dash_semicolon:ind/loss=6.70e-03, RTE_valid/RTE_slice:dash_semicolon:ind/accuracy=1.00e+00] RTE_slice:dash_semicolon:pred:[RTE_train/RTE_slice:dash_semicolon:pred/loss=4.85e-02, RTE_valid/RTE_slice:dash_semicolon:pred/accuracy=5.43e-01] RTE_slice:more_people:ind:[RTE_train/RTE_slice:more_people:ind/loss=1.85e-02, RTE_valid/RTE_slice:more_people:ind/accuracy=9.57e-01] RTE_slice:BASE:ind:[RTE_train/RTE_slice:BASE:ind/loss=7.93e-04, RTE_valid/RTE_slice:BASE:ind/accuracy=1.00e+00] RTE_slice:BASE:pred:[RTE_train/RTE_slice:BASE:pred/loss=6.84e-02, RTE_valid/RTE_slice:BASE:pred/accuracy=6.21e-01] RTE_slice:more_people:pred:[RTE_train/RTE_slice:more_people:pred/loss=8.24e-02, RTE_valid/RTE_slice:more_people:pred/accuracy=5.00e-01] model:[train/all/loss=1.23e-01, train/all/lr=5.00e-05]\n",
      "[13.85 epo]: RTE:[RTE_train/RTE_gold/loss=5.33e-01, RTE_valid/RTE_gold/accuracy=6.10e-01] RTE_slice:dash_semicolon:ind:[RTE_train/RTE_slice:dash_semicolon:ind/loss=6.74e-03, RTE_valid/RTE_slice:dash_semicolon:ind/accuracy=1.00e+00] RTE_slice:dash_semicolon:pred:[RTE_train/RTE_slice:dash_semicolon:pred/loss=4.11e-02, RTE_valid/RTE_slice:dash_semicolon:pred/accuracy=5.34e-01] RTE_slice:more_people:ind:[RTE_train/RTE_slice:more_people:ind/loss=2.84e-02, RTE_valid/RTE_slice:more_people:ind/accuracy=9.57e-01] RTE_slice:BASE:ind:[RTE_train/RTE_slice:BASE:ind/loss=1.06e-03, RTE_valid/RTE_slice:BASE:ind/accuracy=1.00e+00] RTE_slice:BASE:pred:[RTE_train/RTE_slice:BASE:pred/loss=5.03e-02, RTE_valid/RTE_slice:BASE:pred/accuracy=6.10e-01] RTE_slice:more_people:pred:[RTE_train/RTE_slice:more_people:pred/loss=6.51e-03, RTE_valid/RTE_slice:more_people:pred/accuracy=3.33e-01] model:[train/all/loss=1.17e-01, train/all/lr=5.00e-05]\n"
     ]
    },
    {
     "name": "stdout",
     "output_type": "stream",
     "text": [
      "[13.95 epo]: RTE:[RTE_train/RTE_gold/loss=5.85e-01, RTE_valid/RTE_gold/accuracy=6.14e-01] RTE_slice:dash_semicolon:ind:[RTE_train/RTE_slice:dash_semicolon:ind/loss=6.37e-03, RTE_valid/RTE_slice:dash_semicolon:ind/accuracy=1.00e+00] RTE_slice:dash_semicolon:pred:[RTE_train/RTE_slice:dash_semicolon:pred/loss=1.08e-01, RTE_valid/RTE_slice:dash_semicolon:pred/accuracy=5.43e-01] RTE_slice:more_people:ind:[RTE_train/RTE_slice:more_people:ind/loss=1.10e-02, RTE_valid/RTE_slice:more_people:ind/accuracy=9.57e-01] RTE_slice:BASE:ind:[RTE_train/RTE_slice:BASE:ind/loss=1.32e-03, RTE_valid/RTE_slice:BASE:ind/accuracy=1.00e+00] RTE_slice:BASE:pred:[RTE_train/RTE_slice:BASE:pred/loss=9.80e-02, RTE_valid/RTE_slice:BASE:pred/accuracy=6.14e-01] RTE_slice:more_people:pred:[RTE_train/RTE_slice:more_people:pred/loss=1.24e-02, RTE_valid/RTE_slice:more_people:pred/accuracy=3.33e-01] model:[train/all/loss=1.38e-01, train/all/lr=5.00e-05]\n",
      "\n"
     ]
    },
    {
     "data": {
      "application/vnd.jupyter.widget-view+json": {
       "model_id": "6a59c7bed676470693595cb80b3d9bbd",
       "version_major": 2,
       "version_minor": 0
      },
      "text/plain": [
       "HBox(children=(IntProgress(value=0, max=312), HTML(value='')))"
      ]
     },
     "metadata": {},
     "output_type": "display_data"
    },
    {
     "name": "stdout",
     "output_type": "stream",
     "text": [
      "[14.05 epo]: RTE:[RTE_train/RTE_gold/loss=5.82e-01, RTE_valid/RTE_gold/accuracy=5.78e-01] RTE_slice:dash_semicolon:ind:[RTE_train/RTE_slice:dash_semicolon:ind/loss=4.57e-03, RTE_valid/RTE_slice:dash_semicolon:ind/accuracy=1.00e+00] RTE_slice:dash_semicolon:pred:[RTE_train/RTE_slice:dash_semicolon:pred/loss=7.89e-02, RTE_valid/RTE_slice:dash_semicolon:pred/accuracy=5.43e-01] RTE_slice:more_people:ind:[RTE_train/RTE_slice:more_people:ind/loss=2.66e-02, RTE_valid/RTE_slice:more_people:ind/accuracy=9.57e-01] RTE_slice:more_people:pred:[RTE_train/RTE_slice:more_people:pred/loss=6.33e-02, RTE_valid/RTE_slice:more_people:pred/accuracy=4.17e-01] RTE_slice:BASE:ind:[RTE_train/RTE_slice:BASE:ind/loss=7.38e-04, RTE_valid/RTE_slice:BASE:ind/accuracy=1.00e+00] RTE_slice:BASE:pred:[RTE_train/RTE_slice:BASE:pred/loss=9.06e-02, RTE_valid/RTE_slice:BASE:pred/accuracy=5.85e-01] model:[train/all/loss=1.36e-01, train/all/lr=5.00e-05]\n",
      "[14.15 epo]: RTE:[RTE_train/RTE_gold/loss=5.42e-01, RTE_valid/RTE_gold/accuracy=6.06e-01] RTE_slice:dash_semicolon:ind:[RTE_train/RTE_slice:dash_semicolon:ind/loss=6.47e-03, RTE_valid/RTE_slice:dash_semicolon:ind/accuracy=1.00e+00] RTE_slice:dash_semicolon:pred:[RTE_train/RTE_slice:dash_semicolon:pred/loss=7.17e-02, RTE_valid/RTE_slice:dash_semicolon:pred/accuracy=5.60e-01] RTE_slice:more_people:ind:[RTE_train/RTE_slice:more_people:ind/loss=2.51e-02, RTE_valid/RTE_slice:more_people:ind/accuracy=9.57e-01] RTE_slice:BASE:ind:[RTE_train/RTE_slice:BASE:ind/loss=7.56e-04, RTE_valid/RTE_slice:BASE:ind/accuracy=1.00e+00] RTE_slice:BASE:pred:[RTE_train/RTE_slice:BASE:pred/loss=5.96e-02, RTE_valid/RTE_slice:BASE:pred/accuracy=6.03e-01] RTE_slice:more_people:pred:[RTE_train/RTE_slice:more_people:pred/loss=9.47e-03, RTE_valid/RTE_slice:more_people:pred/accuracy=3.33e-01] model:[train/all/loss=1.22e-01, train/all/lr=5.00e-05]\n",
      "[14.26 epo]: RTE:[RTE_train/RTE_gold/loss=5.39e-01, RTE_valid/RTE_gold/accuracy=5.99e-01] RTE_slice:dash_semicolon:ind:[RTE_train/RTE_slice:dash_semicolon:ind/loss=8.72e-03, RTE_valid/RTE_slice:dash_semicolon:ind/accuracy=1.00e+00] RTE_slice:dash_semicolon:pred:[RTE_train/RTE_slice:dash_semicolon:pred/loss=5.19e-02, RTE_valid/RTE_slice:dash_semicolon:pred/accuracy=5.52e-01] RTE_slice:more_people:ind:[RTE_train/RTE_slice:more_people:ind/loss=1.66e-02, RTE_valid/RTE_slice:more_people:ind/accuracy=9.57e-01] RTE_slice:more_people:pred:[RTE_train/RTE_slice:more_people:pred/loss=6.68e-03, RTE_valid/RTE_slice:more_people:pred/accuracy=5.00e-01] RTE_slice:BASE:ind:[RTE_train/RTE_slice:BASE:ind/loss=1.06e-03, RTE_valid/RTE_slice:BASE:ind/accuracy=1.00e+00] RTE_slice:BASE:pred:[RTE_train/RTE_slice:BASE:pred/loss=5.94e-02, RTE_valid/RTE_slice:BASE:pred/accuracy=5.92e-01] model:[train/all/loss=1.20e-01, train/all/lr=5.00e-05]\n",
      "[14.36 epo]: RTE:[RTE_train/RTE_gold/loss=5.30e-01, RTE_valid/RTE_gold/accuracy=5.74e-01] RTE_slice:dash_semicolon:ind:[RTE_train/RTE_slice:dash_semicolon:ind/loss=6.72e-03, RTE_valid/RTE_slice:dash_semicolon:ind/accuracy=1.00e+00] RTE_slice:dash_semicolon:pred:[RTE_train/RTE_slice:dash_semicolon:pred/loss=3.04e-02, RTE_valid/RTE_slice:dash_semicolon:pred/accuracy=5.26e-01] RTE_slice:more_people:ind:[RTE_train/RTE_slice:more_people:ind/loss=8.39e-03, RTE_valid/RTE_slice:more_people:ind/accuracy=9.57e-01] RTE_slice:BASE:ind:[RTE_train/RTE_slice:BASE:ind/loss=8.80e-04, RTE_valid/RTE_slice:BASE:ind/accuracy=1.00e+00] RTE_slice:BASE:pred:[RTE_train/RTE_slice:BASE:pred/loss=5.16e-02, RTE_valid/RTE_slice:BASE:pred/accuracy=5.81e-01] RTE_slice:more_people:pred:[RTE_train/RTE_slice:more_people:pred/loss=7.21e-03, RTE_valid/RTE_slice:more_people:pred/accuracy=2.50e-01] model:[train/all/loss=1.13e-01, train/all/lr=5.00e-05]\n",
      "[14.46 epo]: RTE:[RTE_train/RTE_gold/loss=5.35e-01, RTE_valid/RTE_gold/accuracy=5.96e-01] RTE_slice:dash_semicolon:ind:[RTE_train/RTE_slice:dash_semicolon:ind/loss=6.87e-03, RTE_valid/RTE_slice:dash_semicolon:ind/accuracy=1.00e+00] RTE_slice:dash_semicolon:pred:[RTE_train/RTE_slice:dash_semicolon:pred/loss=5.01e-02, RTE_valid/RTE_slice:dash_semicolon:pred/accuracy=5.34e-01] RTE_slice:more_people:ind:[RTE_train/RTE_slice:more_people:ind/loss=2.23e-02, RTE_valid/RTE_slice:more_people:ind/accuracy=9.57e-01] RTE_slice:BASE:ind:[RTE_train/RTE_slice:BASE:ind/loss=9.65e-04, RTE_valid/RTE_slice:BASE:ind/accuracy=1.00e+00] RTE_slice:BASE:pred:[RTE_train/RTE_slice:BASE:pred/loss=5.89e-02, RTE_valid/RTE_slice:BASE:pred/accuracy=5.96e-01] RTE_slice:more_people:pred:[RTE_train/RTE_slice:more_people:pred/loss=7.74e-02, RTE_valid/RTE_slice:more_people:pred/accuracy=5.00e-01] model:[train/all/loss=1.19e-01, train/all/lr=5.00e-05]\n",
      "[14.56 epo]: RTE:[RTE_train/RTE_gold/loss=5.39e-01, RTE_valid/RTE_gold/accuracy=5.70e-01] RTE_slice:dash_semicolon:ind:[RTE_train/RTE_slice:dash_semicolon:ind/loss=7.51e-03, RTE_valid/RTE_slice:dash_semicolon:ind/accuracy=1.00e+00] RTE_slice:dash_semicolon:pred:[RTE_train/RTE_slice:dash_semicolon:pred/loss=5.95e-02, RTE_valid/RTE_slice:dash_semicolon:pred/accuracy=5.09e-01] RTE_slice:more_people:ind:[RTE_train/RTE_slice:more_people:ind/loss=2.32e-02, RTE_valid/RTE_slice:more_people:ind/accuracy=9.57e-01] RTE_slice:more_people:pred:[RTE_train/RTE_slice:more_people:pred/loss=6.26e-02, RTE_valid/RTE_slice:more_people:pred/accuracy=5.00e-01] RTE_slice:BASE:ind:[RTE_train/RTE_slice:BASE:ind/loss=7.62e-04, RTE_valid/RTE_slice:BASE:ind/accuracy=1.00e+00] RTE_slice:BASE:pred:[RTE_train/RTE_slice:BASE:pred/loss=6.52e-02, RTE_valid/RTE_slice:BASE:pred/accuracy=5.67e-01] model:[train/all/loss=1.21e-01, train/all/lr=5.00e-05]\n",
      "[14.67 epo]: RTE:[RTE_train/RTE_gold/loss=5.51e-01, RTE_valid/RTE_gold/accuracy=5.81e-01] RTE_slice:dash_semicolon:ind:[RTE_train/RTE_slice:dash_semicolon:ind/loss=7.23e-03, RTE_valid/RTE_slice:dash_semicolon:ind/accuracy=1.00e+00] RTE_slice:dash_semicolon:pred:[RTE_train/RTE_slice:dash_semicolon:pred/loss=5.21e-02, RTE_valid/RTE_slice:dash_semicolon:pred/accuracy=5.00e-01] RTE_slice:more_people:ind:[RTE_train/RTE_slice:more_people:ind/loss=1.84e-02, RTE_valid/RTE_slice:more_people:ind/accuracy=9.57e-01] RTE_slice:BASE:ind:[RTE_train/RTE_slice:BASE:ind/loss=6.24e-04, RTE_valid/RTE_slice:BASE:ind/accuracy=1.00e+00] RTE_slice:BASE:pred:[RTE_train/RTE_slice:BASE:pred/loss=7.35e-02, RTE_valid/RTE_slice:BASE:pred/accuracy=5.88e-01] RTE_slice:more_people:pred:[RTE_train/RTE_slice:more_people:pred/loss=6.71e-03, RTE_valid/RTE_slice:more_people:pred/accuracy=2.50e-01] model:[train/all/loss=1.24e-01, train/all/lr=5.00e-05]\n",
      "[14.77 epo]: RTE:[RTE_train/RTE_gold/loss=5.53e-01, RTE_valid/RTE_gold/accuracy=5.88e-01] RTE_slice:dash_semicolon:ind:[RTE_train/RTE_slice:dash_semicolon:ind/loss=8.66e-03, RTE_valid/RTE_slice:dash_semicolon:ind/accuracy=1.00e+00] RTE_slice:dash_semicolon:pred:[RTE_train/RTE_slice:dash_semicolon:pred/loss=4.95e-02, RTE_valid/RTE_slice:dash_semicolon:pred/accuracy=5.00e-01] RTE_slice:more_people:ind:[RTE_train/RTE_slice:more_people:ind/loss=1.36e-02, RTE_valid/RTE_slice:more_people:ind/accuracy=9.57e-01] RTE_slice:BASE:ind:[RTE_train/RTE_slice:BASE:ind/loss=6.33e-04, RTE_valid/RTE_slice:BASE:ind/accuracy=1.00e+00] RTE_slice:BASE:pred:[RTE_train/RTE_slice:BASE:pred/loss=7.16e-02, RTE_valid/RTE_slice:BASE:pred/accuracy=5.85e-01] RTE_slice:more_people:pred:[RTE_train/RTE_slice:more_people:pred/loss=6.89e-03, RTE_valid/RTE_slice:more_people:pred/accuracy=2.50e-01] model:[train/all/loss=1.24e-01, train/all/lr=5.00e-05]\n",
      "[14.87 epo]: RTE:[RTE_train/RTE_gold/loss=5.46e-01, RTE_valid/RTE_gold/accuracy=5.85e-01] RTE_slice:dash_semicolon:ind:[RTE_train/RTE_slice:dash_semicolon:ind/loss=7.26e-03, RTE_valid/RTE_slice:dash_semicolon:ind/accuracy=1.00e+00] RTE_slice:dash_semicolon:pred:[RTE_train/RTE_slice:dash_semicolon:pred/loss=5.70e-02, RTE_valid/RTE_slice:dash_semicolon:pred/accuracy=5.09e-01] RTE_slice:more_people:ind:[RTE_train/RTE_slice:more_people:ind/loss=3.32e-02, RTE_valid/RTE_slice:more_people:ind/accuracy=9.57e-01] RTE_slice:more_people:pred:[RTE_train/RTE_slice:more_people:pred/loss=9.68e-03, RTE_valid/RTE_slice:more_people:pred/accuracy=2.50e-01] RTE_slice:BASE:ind:[RTE_train/RTE_slice:BASE:ind/loss=7.29e-04, RTE_valid/RTE_slice:BASE:ind/accuracy=1.00e+00] RTE_slice:BASE:pred:[RTE_train/RTE_slice:BASE:pred/loss=7.19e-02, RTE_valid/RTE_slice:BASE:pred/accuracy=5.85e-01] model:[train/all/loss=1.25e-01, train/all/lr=5.00e-05]\n"
     ]
    },
    {
     "name": "stdout",
     "output_type": "stream",
     "text": [
      "[14.97 epo]: RTE:[RTE_train/RTE_gold/loss=5.45e-01, RTE_valid/RTE_gold/accuracy=5.63e-01] RTE_slice:dash_semicolon:ind:[RTE_train/RTE_slice:dash_semicolon:ind/loss=6.77e-03, RTE_valid/RTE_slice:dash_semicolon:ind/accuracy=1.00e+00] RTE_slice:dash_semicolon:pred:[RTE_train/RTE_slice:dash_semicolon:pred/loss=5.30e-02, RTE_valid/RTE_slice:dash_semicolon:pred/accuracy=5.00e-01] RTE_slice:more_people:ind:[RTE_train/RTE_slice:more_people:ind/loss=8.03e-03, RTE_valid/RTE_slice:more_people:ind/accuracy=9.57e-01] RTE_slice:BASE:ind:[RTE_train/RTE_slice:BASE:ind/loss=6.91e-04, RTE_valid/RTE_slice:BASE:ind/accuracy=1.00e+00] RTE_slice:BASE:pred:[RTE_train/RTE_slice:BASE:pred/loss=6.62e-02, RTE_valid/RTE_slice:BASE:pred/accuracy=5.60e-01] RTE_slice:more_people:pred:[RTE_train/RTE_slice:more_people:pred/loss=8.60e-03, RTE_valid/RTE_slice:more_people:pred/accuracy=3.33e-01] model:[train/all/loss=1.20e-01, train/all/lr=5.00e-05]\n",
      "\n"
     ]
    },
    {
     "data": {
      "application/vnd.jupyter.widget-view+json": {
       "model_id": "aecd0c37757a4dde989f0e3334f23314",
       "version_major": 2,
       "version_minor": 0
      },
      "text/plain": [
       "HBox(children=(IntProgress(value=0, max=312), HTML(value='')))"
      ]
     },
     "metadata": {},
     "output_type": "display_data"
    },
    {
     "name": "stdout",
     "output_type": "stream",
     "text": [
      "[15.08 epo]: RTE:[RTE_train/RTE_gold/loss=5.14e-01, RTE_valid/RTE_gold/accuracy=5.78e-01] RTE_slice:dash_semicolon:ind:[RTE_train/RTE_slice:dash_semicolon:ind/loss=7.78e-03, RTE_valid/RTE_slice:dash_semicolon:ind/accuracy=1.00e+00] RTE_slice:dash_semicolon:pred:[RTE_train/RTE_slice:dash_semicolon:pred/loss=4.49e-02, RTE_valid/RTE_slice:dash_semicolon:pred/accuracy=5.00e-01] RTE_slice:more_people:ind:[RTE_train/RTE_slice:more_people:ind/loss=1.61e-02, RTE_valid/RTE_slice:more_people:ind/accuracy=9.57e-01] RTE_slice:BASE:ind:[RTE_train/RTE_slice:BASE:ind/loss=7.30e-04, RTE_valid/RTE_slice:BASE:ind/accuracy=1.00e+00] RTE_slice:BASE:pred:[RTE_train/RTE_slice:BASE:pred/loss=4.54e-02, RTE_valid/RTE_slice:BASE:pred/accuracy=5.81e-01] RTE_slice:more_people:pred:[RTE_train/RTE_slice:more_people:pred/loss=8.70e-03, RTE_valid/RTE_slice:more_people:pred/accuracy=3.33e-01] model:[train/all/loss=1.11e-01, train/all/lr=5.00e-05]\n",
      "[15.18 epo]: RTE:[RTE_train/RTE_gold/loss=5.30e-01, RTE_valid/RTE_gold/accuracy=5.88e-01] RTE_slice:dash_semicolon:ind:[RTE_train/RTE_slice:dash_semicolon:ind/loss=7.37e-03, RTE_valid/RTE_slice:dash_semicolon:ind/accuracy=1.00e+00] RTE_slice:dash_semicolon:pred:[RTE_train/RTE_slice:dash_semicolon:pred/loss=5.81e-02, RTE_valid/RTE_slice:dash_semicolon:pred/accuracy=5.34e-01] RTE_slice:more_people:ind:[RTE_train/RTE_slice:more_people:ind/loss=1.51e-02, RTE_valid/RTE_slice:more_people:ind/accuracy=9.57e-01] RTE_slice:BASE:ind:[RTE_train/RTE_slice:BASE:ind/loss=7.80e-04, RTE_valid/RTE_slice:BASE:ind/accuracy=1.00e+00] RTE_slice:BASE:pred:[RTE_train/RTE_slice:BASE:pred/loss=6.04e-02, RTE_valid/RTE_slice:BASE:pred/accuracy=5.92e-01] RTE_slice:more_people:pred:[RTE_train/RTE_slice:more_people:pred/loss=7.96e-03, RTE_valid/RTE_slice:more_people:pred/accuracy=5.00e-01] model:[train/all/loss=1.18e-01, train/all/lr=5.00e-05]\n",
      "[15.28 epo]: RTE:[RTE_train/RTE_gold/loss=5.23e-01, RTE_valid/RTE_gold/accuracy=5.78e-01] RTE_slice:dash_semicolon:ind:[RTE_train/RTE_slice:dash_semicolon:ind/loss=7.76e-03, RTE_valid/RTE_slice:dash_semicolon:ind/accuracy=1.00e+00] RTE_slice:dash_semicolon:pred:[RTE_train/RTE_slice:dash_semicolon:pred/loss=4.55e-02, RTE_valid/RTE_slice:dash_semicolon:pred/accuracy=5.09e-01] RTE_slice:more_people:ind:[RTE_train/RTE_slice:more_people:ind/loss=1.21e-02, RTE_valid/RTE_slice:more_people:ind/accuracy=9.57e-01] RTE_slice:BASE:ind:[RTE_train/RTE_slice:BASE:ind/loss=8.33e-04, RTE_valid/RTE_slice:BASE:ind/accuracy=1.00e+00] RTE_slice:BASE:pred:[RTE_train/RTE_slice:BASE:pred/loss=5.63e-02, RTE_valid/RTE_slice:BASE:pred/accuracy=5.78e-01] RTE_slice:more_people:pred:[RTE_train/RTE_slice:more_people:pred/loss=3.41e-02, RTE_valid/RTE_slice:more_people:pred/accuracy=4.17e-01] model:[train/all/loss=1.15e-01, train/all/lr=5.00e-05]\n",
      "[15.38 epo]: RTE:[RTE_train/RTE_gold/loss=5.19e-01, RTE_valid/RTE_gold/accuracy=5.78e-01] RTE_slice:dash_semicolon:ind:[RTE_train/RTE_slice:dash_semicolon:ind/loss=6.17e-03, RTE_valid/RTE_slice:dash_semicolon:ind/accuracy=1.00e+00] RTE_slice:dash_semicolon:pred:[RTE_train/RTE_slice:dash_semicolon:pred/loss=4.52e-02, RTE_valid/RTE_slice:dash_semicolon:pred/accuracy=5.17e-01] RTE_slice:more_people:ind:[RTE_train/RTE_slice:more_people:ind/loss=1.34e-02, RTE_valid/RTE_slice:more_people:ind/accuracy=9.57e-01] RTE_slice:BASE:ind:[RTE_train/RTE_slice:BASE:ind/loss=8.49e-04, RTE_valid/RTE_slice:BASE:ind/accuracy=1.00e+00] RTE_slice:BASE:pred:[RTE_train/RTE_slice:BASE:pred/loss=5.73e-02, RTE_valid/RTE_slice:BASE:pred/accuracy=5.78e-01] RTE_slice:more_people:pred:[RTE_train/RTE_slice:more_people:pred/loss=5.14e-03, RTE_valid/RTE_slice:more_people:pred/accuracy=4.17e-01] model:[train/all/loss=1.14e-01, train/all/lr=5.00e-05]\n",
      "[15.49 epo]: RTE:[RTE_train/RTE_gold/loss=5.41e-01, RTE_valid/RTE_gold/accuracy=6.14e-01] RTE_slice:dash_semicolon:ind:[RTE_train/RTE_slice:dash_semicolon:ind/loss=8.55e-03, RTE_valid/RTE_slice:dash_semicolon:ind/accuracy=1.00e+00] RTE_slice:dash_semicolon:pred:[RTE_train/RTE_slice:dash_semicolon:pred/loss=7.16e-02, RTE_valid/RTE_slice:dash_semicolon:pred/accuracy=5.52e-01] RTE_slice:more_people:ind:[RTE_train/RTE_slice:more_people:ind/loss=3.39e-02, RTE_valid/RTE_slice:more_people:ind/accuracy=9.57e-01] RTE_slice:BASE:ind:[RTE_train/RTE_slice:BASE:ind/loss=7.17e-04, RTE_valid/RTE_slice:BASE:ind/accuracy=1.00e+00] RTE_slice:BASE:pred:[RTE_train/RTE_slice:BASE:pred/loss=7.77e-02, RTE_valid/RTE_slice:BASE:pred/accuracy=6.17e-01] RTE_slice:more_people:pred:[RTE_train/RTE_slice:more_people:pred/loss=4.85e-02, RTE_valid/RTE_slice:more_people:pred/accuracy=2.50e-01] model:[train/all/loss=1.27e-01, train/all/lr=5.00e-05]\n",
      "[15.59 epo]: RTE:[RTE_train/RTE_gold/loss=5.47e-01, RTE_valid/RTE_gold/accuracy=6.21e-01] RTE_slice:dash_semicolon:ind:[RTE_train/RTE_slice:dash_semicolon:ind/loss=6.12e-03, RTE_valid/RTE_slice:dash_semicolon:ind/accuracy=1.00e+00] RTE_slice:dash_semicolon:pred:[RTE_train/RTE_slice:dash_semicolon:pred/loss=7.16e-02, RTE_valid/RTE_slice:dash_semicolon:pred/accuracy=5.60e-01] RTE_slice:more_people:ind:[RTE_train/RTE_slice:more_people:ind/loss=1.65e-02, RTE_valid/RTE_slice:more_people:ind/accuracy=9.57e-01] RTE_slice:BASE:ind:[RTE_train/RTE_slice:BASE:ind/loss=6.82e-04, RTE_valid/RTE_slice:BASE:ind/accuracy=1.00e+00] RTE_slice:BASE:pred:[RTE_train/RTE_slice:BASE:pred/loss=7.66e-02, RTE_valid/RTE_slice:BASE:pred/accuracy=6.17e-01] RTE_slice:more_people:pred:[RTE_train/RTE_slice:more_people:pred/loss=6.42e-03, RTE_valid/RTE_slice:more_people:pred/accuracy=4.17e-01] model:[train/all/loss=1.24e-01, train/all/lr=5.00e-05]\n",
      "[15.69 epo]: RTE:[RTE_train/RTE_gold/loss=5.11e-01, RTE_valid/RTE_gold/accuracy=6.17e-01] RTE_slice:dash_semicolon:ind:[RTE_train/RTE_slice:dash_semicolon:ind/loss=6.87e-03, RTE_valid/RTE_slice:dash_semicolon:ind/accuracy=1.00e+00] RTE_slice:dash_semicolon:pred:[RTE_train/RTE_slice:dash_semicolon:pred/loss=4.43e-02, RTE_valid/RTE_slice:dash_semicolon:pred/accuracy=5.78e-01] RTE_slice:more_people:ind:[RTE_train/RTE_slice:more_people:ind/loss=2.37e-02, RTE_valid/RTE_slice:more_people:ind/accuracy=9.57e-01] RTE_slice:BASE:ind:[RTE_train/RTE_slice:BASE:ind/loss=1.11e-03, RTE_valid/RTE_slice:BASE:ind/accuracy=1.00e+00] RTE_slice:BASE:pred:[RTE_train/RTE_slice:BASE:pred/loss=5.55e-02, RTE_valid/RTE_slice:BASE:pred/accuracy=6.17e-01] RTE_slice:more_people:pred:[RTE_train/RTE_slice:more_people:pred/loss=6.13e-03, RTE_valid/RTE_slice:more_people:pred/accuracy=4.17e-01] model:[train/all/loss=1.13e-01, train/all/lr=5.00e-05]\n",
      "[15.79 epo]: RTE:[RTE_train/RTE_gold/loss=5.47e-01, RTE_valid/RTE_gold/accuracy=6.17e-01] RTE_slice:dash_semicolon:ind:[RTE_train/RTE_slice:dash_semicolon:ind/loss=6.65e-03, RTE_valid/RTE_slice:dash_semicolon:ind/accuracy=1.00e+00] RTE_slice:dash_semicolon:pred:[RTE_train/RTE_slice:dash_semicolon:pred/loss=6.37e-02, RTE_valid/RTE_slice:dash_semicolon:pred/accuracy=5.60e-01] RTE_slice:more_people:ind:[RTE_train/RTE_slice:more_people:ind/loss=1.73e-02, RTE_valid/RTE_slice:more_people:ind/accuracy=9.57e-01] RTE_slice:BASE:ind:[RTE_train/RTE_slice:BASE:ind/loss=9.53e-04, RTE_valid/RTE_slice:BASE:ind/accuracy=1.00e+00] RTE_slice:BASE:pred:[RTE_train/RTE_slice:BASE:pred/loss=8.14e-02, RTE_valid/RTE_slice:BASE:pred/accuracy=6.14e-01] RTE_slice:more_people:pred:[RTE_train/RTE_slice:more_people:pred/loss=6.37e-03, RTE_valid/RTE_slice:more_people:pred/accuracy=5.00e-01] model:[train/all/loss=1.25e-01, train/all/lr=5.00e-05]\n",
      "[15.90 epo]: RTE:[RTE_train/RTE_gold/loss=5.22e-01, RTE_valid/RTE_gold/accuracy=5.92e-01] RTE_slice:dash_semicolon:ind:[RTE_train/RTE_slice:dash_semicolon:ind/loss=8.00e-03, RTE_valid/RTE_slice:dash_semicolon:ind/accuracy=1.00e+00] RTE_slice:dash_semicolon:pred:[RTE_train/RTE_slice:dash_semicolon:pred/loss=5.24e-02, RTE_valid/RTE_slice:dash_semicolon:pred/accuracy=5.34e-01] RTE_slice:more_people:ind:[RTE_train/RTE_slice:more_people:ind/loss=1.84e-02, RTE_valid/RTE_slice:more_people:ind/accuracy=9.57e-01] RTE_slice:BASE:ind:[RTE_train/RTE_slice:BASE:ind/loss=7.26e-04, RTE_valid/RTE_slice:BASE:ind/accuracy=1.00e+00] RTE_slice:BASE:pred:[RTE_train/RTE_slice:BASE:pred/loss=6.06e-02, RTE_valid/RTE_slice:BASE:pred/accuracy=5.92e-01] RTE_slice:more_people:pred:[RTE_train/RTE_slice:more_people:pred/loss=8.97e-03, RTE_valid/RTE_slice:more_people:pred/accuracy=4.17e-01] model:[train/all/loss=1.16e-01, train/all/lr=5.00e-05]\n"
     ]
    },
    {
     "name": "stdout",
     "output_type": "stream",
     "text": [
      "[16.0 epo]: RTE:[RTE_train/RTE_gold/loss=5.53e-01, RTE_valid/RTE_gold/accuracy=5.96e-01] RTE_slice:dash_semicolon:ind:[RTE_train/RTE_slice:dash_semicolon:ind/loss=4.67e-03, RTE_valid/RTE_slice:dash_semicolon:ind/accuracy=1.00e+00] RTE_slice:dash_semicolon:pred:[RTE_train/RTE_slice:dash_semicolon:pred/loss=6.42e-02, RTE_valid/RTE_slice:dash_semicolon:pred/accuracy=5.26e-01] RTE_slice:more_people:ind:[RTE_train/RTE_slice:more_people:ind/loss=2.01e-02, RTE_valid/RTE_slice:more_people:ind/accuracy=9.57e-01] RTE_slice:BASE:ind:[RTE_train/RTE_slice:BASE:ind/loss=6.60e-04, RTE_valid/RTE_slice:BASE:ind/accuracy=1.00e+00] RTE_slice:BASE:pred:[RTE_train/RTE_slice:BASE:pred/loss=7.96e-02, RTE_valid/RTE_slice:BASE:pred/accuracy=5.85e-01] RTE_slice:more_people:pred:[RTE_train/RTE_slice:more_people:pred/loss=6.20e-02, RTE_valid/RTE_slice:more_people:pred/accuracy=5.00e-01] model:[train/all/loss=1.27e-01, train/all/lr=5.00e-05]\n",
      "\n"
     ]
    },
    {
     "data": {
      "application/vnd.jupyter.widget-view+json": {
       "model_id": "af86a558c4ef4c6a943e204ab92fbc33",
       "version_major": 2,
       "version_minor": 0
      },
      "text/plain": [
       "HBox(children=(IntProgress(value=0, max=312), HTML(value='')))"
      ]
     },
     "metadata": {},
     "output_type": "display_data"
    },
    {
     "name": "stdout",
     "output_type": "stream",
     "text": [
      "[16.10 epo]: RTE:[RTE_train/RTE_gold/loss=5.19e-01, RTE_valid/RTE_gold/accuracy=6.21e-01] RTE_slice:dash_semicolon:ind:[RTE_train/RTE_slice:dash_semicolon:ind/loss=6.48e-03, RTE_valid/RTE_slice:dash_semicolon:ind/accuracy=1.00e+00] RTE_slice:dash_semicolon:pred:[RTE_train/RTE_slice:dash_semicolon:pred/loss=4.16e-02, RTE_valid/RTE_slice:dash_semicolon:pred/accuracy=5.60e-01] RTE_slice:more_people:ind:[RTE_train/RTE_slice:more_people:ind/loss=1.80e-02, RTE_valid/RTE_slice:more_people:ind/accuracy=9.57e-01] RTE_slice:BASE:ind:[RTE_train/RTE_slice:BASE:ind/loss=7.90e-04, RTE_valid/RTE_slice:BASE:ind/accuracy=1.00e+00] RTE_slice:BASE:pred:[RTE_train/RTE_slice:BASE:pred/loss=6.12e-02, RTE_valid/RTE_slice:BASE:pred/accuracy=6.21e-01] RTE_slice:more_people:pred:[RTE_train/RTE_slice:more_people:pred/loss=7.40e-03, RTE_valid/RTE_slice:more_people:pred/accuracy=4.17e-01] model:[train/all/loss=1.15e-01, train/all/lr=5.00e-05]\n",
      "[16.21 epo]: RTE:[RTE_train/RTE_gold/loss=4.96e-01, RTE_valid/RTE_gold/accuracy=6.14e-01] RTE_slice:dash_semicolon:ind:[RTE_train/RTE_slice:dash_semicolon:ind/loss=7.02e-03, RTE_valid/RTE_slice:dash_semicolon:ind/accuracy=1.00e+00] RTE_slice:dash_semicolon:pred:[RTE_train/RTE_slice:dash_semicolon:pred/loss=4.20e-02, RTE_valid/RTE_slice:dash_semicolon:pred/accuracy=5.43e-01] RTE_slice:more_people:ind:[RTE_train/RTE_slice:more_people:ind/loss=1.33e-02, RTE_valid/RTE_slice:more_people:ind/accuracy=9.57e-01] RTE_slice:BASE:ind:[RTE_train/RTE_slice:BASE:ind/loss=7.56e-04, RTE_valid/RTE_slice:BASE:ind/accuracy=1.00e+00] RTE_slice:BASE:pred:[RTE_train/RTE_slice:BASE:pred/loss=4.70e-02, RTE_valid/RTE_slice:BASE:pred/accuracy=6.14e-01] RTE_slice:more_people:pred:[RTE_train/RTE_slice:more_people:pred/loss=1.15e-01, RTE_valid/RTE_slice:more_people:pred/accuracy=5.00e-01] model:[train/all/loss=1.08e-01, train/all/lr=5.00e-05]\n",
      "[16.31 epo]: RTE:[RTE_train/RTE_gold/loss=5.13e-01, RTE_valid/RTE_gold/accuracy=6.03e-01] RTE_slice:dash_semicolon:ind:[RTE_train/RTE_slice:dash_semicolon:ind/loss=9.98e-03, RTE_valid/RTE_slice:dash_semicolon:ind/accuracy=1.00e+00] RTE_slice:dash_semicolon:pred:[RTE_train/RTE_slice:dash_semicolon:pred/loss=4.59e-02, RTE_valid/RTE_slice:dash_semicolon:pred/accuracy=5.43e-01] RTE_slice:more_people:ind:[RTE_train/RTE_slice:more_people:ind/loss=8.63e-03, RTE_valid/RTE_slice:more_people:ind/accuracy=9.57e-01] RTE_slice:BASE:ind:[RTE_train/RTE_slice:BASE:ind/loss=5.94e-04, RTE_valid/RTE_slice:BASE:ind/accuracy=1.00e+00] RTE_slice:BASE:pred:[RTE_train/RTE_slice:BASE:pred/loss=6.00e-02, RTE_valid/RTE_slice:BASE:pred/accuracy=6.06e-01] RTE_slice:more_people:pred:[RTE_train/RTE_slice:more_people:pred/loss=4.54e-03, RTE_valid/RTE_slice:more_people:pred/accuracy=5.00e-01] model:[train/all/loss=1.12e-01, train/all/lr=5.00e-05]\n",
      "[16.41 epo]: RTE:[RTE_train/RTE_gold/loss=5.14e-01, RTE_valid/RTE_gold/accuracy=5.78e-01] RTE_slice:dash_semicolon:ind:[RTE_train/RTE_slice:dash_semicolon:ind/loss=6.57e-03, RTE_valid/RTE_slice:dash_semicolon:ind/accuracy=1.00e+00] RTE_slice:dash_semicolon:pred:[RTE_train/RTE_slice:dash_semicolon:pred/loss=4.43e-02, RTE_valid/RTE_slice:dash_semicolon:pred/accuracy=5.26e-01] RTE_slice:more_people:ind:[RTE_train/RTE_slice:more_people:ind/loss=1.63e-02, RTE_valid/RTE_slice:more_people:ind/accuracy=9.57e-01] RTE_slice:BASE:ind:[RTE_train/RTE_slice:BASE:ind/loss=6.74e-04, RTE_valid/RTE_slice:BASE:ind/accuracy=1.00e+00] RTE_slice:BASE:pred:[RTE_train/RTE_slice:BASE:pred/loss=6.16e-02, RTE_valid/RTE_slice:BASE:pred/accuracy=5.81e-01] RTE_slice:more_people:pred:[RTE_train/RTE_slice:more_people:pred/loss=7.82e-03, RTE_valid/RTE_slice:more_people:pred/accuracy=5.00e-01] model:[train/all/loss=1.14e-01, train/all/lr=5.00e-05]\n",
      "[16.51 epo]: RTE:[RTE_train/RTE_gold/loss=5.15e-01, RTE_valid/RTE_gold/accuracy=5.99e-01] RTE_slice:dash_semicolon:ind:[RTE_train/RTE_slice:dash_semicolon:ind/loss=5.72e-03, RTE_valid/RTE_slice:dash_semicolon:ind/accuracy=1.00e+00] RTE_slice:dash_semicolon:pred:[RTE_train/RTE_slice:dash_semicolon:pred/loss=4.29e-02, RTE_valid/RTE_slice:dash_semicolon:pred/accuracy=5.26e-01] RTE_slice:more_people:ind:[RTE_train/RTE_slice:more_people:ind/loss=2.36e-02, RTE_valid/RTE_slice:more_people:ind/accuracy=9.57e-01] RTE_slice:BASE:ind:[RTE_train/RTE_slice:BASE:ind/loss=6.81e-04, RTE_valid/RTE_slice:BASE:ind/accuracy=1.00e+00] RTE_slice:BASE:pred:[RTE_train/RTE_slice:BASE:pred/loss=6.27e-02, RTE_valid/RTE_slice:BASE:pred/accuracy=6.03e-01] RTE_slice:more_people:pred:[RTE_train/RTE_slice:more_people:pred/loss=5.37e-02, RTE_valid/RTE_slice:more_people:pred/accuracy=5.00e-01] model:[train/all/loss=1.15e-01, train/all/lr=5.00e-05]\n",
      "[16.62 epo]: RTE:[RTE_train/RTE_gold/loss=5.01e-01, RTE_valid/RTE_gold/accuracy=5.85e-01] RTE_slice:dash_semicolon:ind:[RTE_train/RTE_slice:dash_semicolon:ind/loss=1.09e-02, RTE_valid/RTE_slice:dash_semicolon:ind/accuracy=1.00e+00] RTE_slice:dash_semicolon:pred:[RTE_train/RTE_slice:dash_semicolon:pred/loss=7.47e-02, RTE_valid/RTE_slice:dash_semicolon:pred/accuracy=5.09e-01] RTE_slice:more_people:ind:[RTE_train/RTE_slice:more_people:ind/loss=1.17e-02, RTE_valid/RTE_slice:more_people:ind/accuracy=9.57e-01] RTE_slice:BASE:ind:[RTE_train/RTE_slice:BASE:ind/loss=8.15e-04, RTE_valid/RTE_slice:BASE:ind/accuracy=1.00e+00] RTE_slice:BASE:pred:[RTE_train/RTE_slice:BASE:pred/loss=5.72e-02, RTE_valid/RTE_slice:BASE:pred/accuracy=5.92e-01] RTE_slice:more_people:pred:[RTE_train/RTE_slice:more_people:pred/loss=5.80e-03, RTE_valid/RTE_slice:more_people:pred/accuracy=5.83e-01] model:[train/all/loss=1.13e-01, train/all/lr=5.00e-05]\n",
      "[16.72 epo]: RTE:[RTE_train/RTE_gold/loss=5.15e-01, RTE_valid/RTE_gold/accuracy=5.96e-01] RTE_slice:dash_semicolon:ind:[RTE_train/RTE_slice:dash_semicolon:ind/loss=9.17e-03, RTE_valid/RTE_slice:dash_semicolon:ind/accuracy=1.00e+00] RTE_slice:dash_semicolon:pred:[RTE_train/RTE_slice:dash_semicolon:pred/loss=5.11e-02, RTE_valid/RTE_slice:dash_semicolon:pred/accuracy=5.17e-01] RTE_slice:more_people:ind:[RTE_train/RTE_slice:more_people:ind/loss=3.31e-02, RTE_valid/RTE_slice:more_people:ind/accuracy=9.57e-01] RTE_slice:BASE:ind:[RTE_train/RTE_slice:BASE:ind/loss=5.63e-04, RTE_valid/RTE_slice:BASE:ind/accuracy=1.00e+00] RTE_slice:BASE:pred:[RTE_train/RTE_slice:BASE:pred/loss=6.04e-02, RTE_valid/RTE_slice:BASE:pred/accuracy=5.92e-01] RTE_slice:more_people:pred:[RTE_train/RTE_slice:more_people:pred/loss=3.50e-02, RTE_valid/RTE_slice:more_people:pred/accuracy=5.00e-01] model:[train/all/loss=1.17e-01, train/all/lr=5.00e-05]\n",
      "[16.82 epo]: RTE:[RTE_train/RTE_gold/loss=5.15e-01, RTE_valid/RTE_gold/accuracy=5.96e-01] RTE_slice:dash_semicolon:ind:[RTE_train/RTE_slice:dash_semicolon:ind/loss=6.85e-03, RTE_valid/RTE_slice:dash_semicolon:ind/accuracy=1.00e+00] RTE_slice:dash_semicolon:pred:[RTE_train/RTE_slice:dash_semicolon:pred/loss=4.72e-02, RTE_valid/RTE_slice:dash_semicolon:pred/accuracy=5.00e-01] RTE_slice:more_people:ind:[RTE_train/RTE_slice:more_people:ind/loss=2.63e-02, RTE_valid/RTE_slice:more_people:ind/accuracy=9.57e-01] RTE_slice:BASE:ind:[RTE_train/RTE_slice:BASE:ind/loss=8.79e-04, RTE_valid/RTE_slice:BASE:ind/accuracy=1.00e+00] RTE_slice:BASE:pred:[RTE_train/RTE_slice:BASE:pred/loss=6.05e-02, RTE_valid/RTE_slice:BASE:pred/accuracy=6.06e-01] RTE_slice:more_people:pred:[RTE_train/RTE_slice:more_people:pred/loss=7.84e-03, RTE_valid/RTE_slice:more_people:pred/accuracy=5.00e-01] model:[train/all/loss=1.15e-01, train/all/lr=5.00e-05]\n",
      "[16.92 epo]: RTE:[RTE_train/RTE_gold/loss=5.24e-01, RTE_valid/RTE_gold/accuracy=6.14e-01] RTE_slice:dash_semicolon:ind:[RTE_train/RTE_slice:dash_semicolon:ind/loss=6.95e-03, RTE_valid/RTE_slice:dash_semicolon:ind/accuracy=1.00e+00] RTE_slice:dash_semicolon:pred:[RTE_train/RTE_slice:dash_semicolon:pred/loss=6.12e-02, RTE_valid/RTE_slice:dash_semicolon:pred/accuracy=5.43e-01] RTE_slice:more_people:ind:[RTE_train/RTE_slice:more_people:ind/loss=1.75e-02, RTE_valid/RTE_slice:more_people:ind/accuracy=9.57e-01] RTE_slice:BASE:ind:[RTE_train/RTE_slice:BASE:ind/loss=9.14e-04, RTE_valid/RTE_slice:BASE:ind/accuracy=1.00e+00] RTE_slice:BASE:pred:[RTE_train/RTE_slice:BASE:pred/loss=7.44e-02, RTE_valid/RTE_slice:BASE:pred/accuracy=6.14e-01] RTE_slice:more_people:pred:[RTE_train/RTE_slice:more_people:pred/loss=7.35e-03, RTE_valid/RTE_slice:more_people:pred/accuracy=5.00e-01] model:[train/all/loss=1.19e-01, train/all/lr=5.00e-05]\n"
     ]
    },
    {
     "name": "stdout",
     "output_type": "stream",
     "text": [
      "\n"
     ]
    },
    {
     "data": {
      "application/vnd.jupyter.widget-view+json": {
       "model_id": "27529f862fc545c1a2c459c0d27c2545",
       "version_major": 2,
       "version_minor": 0
      },
      "text/plain": [
       "HBox(children=(IntProgress(value=0, max=312), HTML(value='')))"
      ]
     },
     "metadata": {},
     "output_type": "display_data"
    },
    {
     "name": "stdout",
     "output_type": "stream",
     "text": [
      "[17.03 epo]: RTE:[RTE_train/RTE_gold/loss=5.29e-01, RTE_valid/RTE_gold/accuracy=5.99e-01] RTE_slice:dash_semicolon:ind:[RTE_train/RTE_slice:dash_semicolon:ind/loss=5.74e-03, RTE_valid/RTE_slice:dash_semicolon:ind/accuracy=1.00e+00] RTE_slice:dash_semicolon:pred:[RTE_train/RTE_slice:dash_semicolon:pred/loss=5.97e-02, RTE_valid/RTE_slice:dash_semicolon:pred/accuracy=5.17e-01] RTE_slice:more_people:ind:[RTE_train/RTE_slice:more_people:ind/loss=1.93e-02, RTE_valid/RTE_slice:more_people:ind/accuracy=9.57e-01] RTE_slice:BASE:ind:[RTE_train/RTE_slice:BASE:ind/loss=8.44e-04, RTE_valid/RTE_slice:BASE:ind/accuracy=1.00e+00] RTE_slice:BASE:pred:[RTE_train/RTE_slice:BASE:pred/loss=7.45e-02, RTE_valid/RTE_slice:BASE:pred/accuracy=5.99e-01] RTE_slice:more_people:pred:[RTE_train/RTE_slice:more_people:pred/loss=5.32e-03, RTE_valid/RTE_slice:more_people:pred/accuracy=5.00e-01] model:[train/all/loss=1.21e-01, train/all/lr=5.00e-05]\n",
      "[17.13 epo]: RTE:[RTE_train/RTE_gold/loss=5.09e-01, RTE_valid/RTE_gold/accuracy=5.92e-01] RTE_slice:dash_semicolon:ind:[RTE_train/RTE_slice:dash_semicolon:ind/loss=8.69e-03, RTE_valid/RTE_slice:dash_semicolon:ind/accuracy=1.00e+00] RTE_slice:dash_semicolon:pred:[RTE_train/RTE_slice:dash_semicolon:pred/loss=5.17e-02, RTE_valid/RTE_slice:dash_semicolon:pred/accuracy=5.34e-01] RTE_slice:more_people:ind:[RTE_train/RTE_slice:more_people:ind/loss=1.95e-02, RTE_valid/RTE_slice:more_people:ind/accuracy=9.57e-01] RTE_slice:more_people:pred:[RTE_train/RTE_slice:more_people:pred/loss=5.78e-03, RTE_valid/RTE_slice:more_people:pred/accuracy=5.00e-01] RTE_slice:BASE:ind:[RTE_train/RTE_slice:BASE:ind/loss=9.38e-04, RTE_valid/RTE_slice:BASE:ind/accuracy=1.00e+00] RTE_slice:BASE:pred:[RTE_train/RTE_slice:BASE:pred/loss=6.20e-02, RTE_valid/RTE_slice:BASE:pred/accuracy=5.92e-01] model:[train/all/loss=1.14e-01, train/all/lr=5.00e-05]\n",
      "[17.23 epo]: RTE:[RTE_train/RTE_gold/loss=5.15e-01, RTE_valid/RTE_gold/accuracy=5.99e-01] RTE_slice:dash_semicolon:ind:[RTE_train/RTE_slice:dash_semicolon:ind/loss=7.31e-03, RTE_valid/RTE_slice:dash_semicolon:ind/accuracy=1.00e+00] RTE_slice:dash_semicolon:pred:[RTE_train/RTE_slice:dash_semicolon:pred/loss=6.04e-02, RTE_valid/RTE_slice:dash_semicolon:pred/accuracy=5.17e-01] RTE_slice:more_people:ind:[RTE_train/RTE_slice:more_people:ind/loss=1.23e-02, RTE_valid/RTE_slice:more_people:ind/accuracy=9.57e-01] RTE_slice:BASE:ind:[RTE_train/RTE_slice:BASE:ind/loss=7.96e-04, RTE_valid/RTE_slice:BASE:ind/accuracy=1.00e+00] RTE_slice:BASE:pred:[RTE_train/RTE_slice:BASE:pred/loss=6.85e-02, RTE_valid/RTE_slice:BASE:pred/accuracy=5.99e-01] RTE_slice:more_people:pred:[RTE_train/RTE_slice:more_people:pred/loss=1.31e-01, RTE_valid/RTE_slice:more_people:pred/accuracy=5.83e-01] model:[train/all/loss=1.16e-01, train/all/lr=5.00e-05]\n",
      "[17.33 epo]: RTE:[RTE_train/RTE_gold/loss=5.23e-01, RTE_valid/RTE_gold/accuracy=5.88e-01] RTE_slice:dash_semicolon:ind:[RTE_train/RTE_slice:dash_semicolon:ind/loss=7.42e-03, RTE_valid/RTE_slice:dash_semicolon:ind/accuracy=1.00e+00] RTE_slice:dash_semicolon:pred:[RTE_train/RTE_slice:dash_semicolon:pred/loss=6.67e-02, RTE_valid/RTE_slice:dash_semicolon:pred/accuracy=5.17e-01] RTE_slice:more_people:ind:[RTE_train/RTE_slice:more_people:ind/loss=1.74e-02, RTE_valid/RTE_slice:more_people:ind/accuracy=9.57e-01] RTE_slice:BASE:ind:[RTE_train/RTE_slice:BASE:ind/loss=6.27e-04, RTE_valid/RTE_slice:BASE:ind/accuracy=1.00e+00] RTE_slice:BASE:pred:[RTE_train/RTE_slice:BASE:pred/loss=7.29e-02, RTE_valid/RTE_slice:BASE:pred/accuracy=5.92e-01] RTE_slice:more_people:pred:[RTE_train/RTE_slice:more_people:pred/loss=6.71e-03, RTE_valid/RTE_slice:more_people:pred/accuracy=4.17e-01] model:[train/all/loss=1.19e-01, train/all/lr=5.00e-05]\n",
      "[17.44 epo]: RTE:[RTE_train/RTE_gold/loss=5.10e-01, RTE_valid/RTE_gold/accuracy=6.21e-01] RTE_slice:dash_semicolon:ind:[RTE_train/RTE_slice:dash_semicolon:ind/loss=6.58e-03, RTE_valid/RTE_slice:dash_semicolon:ind/accuracy=1.00e+00] RTE_slice:dash_semicolon:pred:[RTE_train/RTE_slice:dash_semicolon:pred/loss=6.12e-02, RTE_valid/RTE_slice:dash_semicolon:pred/accuracy=5.43e-01] RTE_slice:more_people:ind:[RTE_train/RTE_slice:more_people:ind/loss=1.46e-02, RTE_valid/RTE_slice:more_people:ind/accuracy=9.57e-01] RTE_slice:BASE:ind:[RTE_train/RTE_slice:BASE:ind/loss=8.23e-04, RTE_valid/RTE_slice:BASE:ind/accuracy=1.00e+00] RTE_slice:BASE:pred:[RTE_train/RTE_slice:BASE:pred/loss=6.21e-02, RTE_valid/RTE_slice:BASE:pred/accuracy=6.25e-01] RTE_slice:more_people:pred:[RTE_train/RTE_slice:more_people:pred/loss=5.16e-03, RTE_valid/RTE_slice:more_people:pred/accuracy=4.17e-01] model:[train/all/loss=1.14e-01, train/all/lr=5.00e-05]\n",
      "[17.54 epo]: RTE:[RTE_train/RTE_gold/loss=4.98e-01, RTE_valid/RTE_gold/accuracy=6.14e-01] RTE_slice:dash_semicolon:ind:[RTE_train/RTE_slice:dash_semicolon:ind/loss=6.92e-03, RTE_valid/RTE_slice:dash_semicolon:ind/accuracy=1.00e+00] RTE_slice:dash_semicolon:pred:[RTE_train/RTE_slice:dash_semicolon:pred/loss=6.07e-02, RTE_valid/RTE_slice:dash_semicolon:pred/accuracy=5.43e-01] RTE_slice:more_people:ind:[RTE_train/RTE_slice:more_people:ind/loss=2.37e-02, RTE_valid/RTE_slice:more_people:ind/accuracy=9.57e-01] RTE_slice:BASE:ind:[RTE_train/RTE_slice:BASE:ind/loss=1.69e-03, RTE_valid/RTE_slice:BASE:ind/accuracy=1.00e+00] RTE_slice:BASE:pred:[RTE_train/RTE_slice:BASE:pred/loss=5.72e-02, RTE_valid/RTE_slice:BASE:pred/accuracy=6.14e-01] RTE_slice:more_people:pred:[RTE_train/RTE_slice:more_people:pred/loss=3.03e-02, RTE_valid/RTE_slice:more_people:pred/accuracy=5.83e-01] model:[train/all/loss=1.12e-01, train/all/lr=5.00e-05]\n",
      "[17.64 epo]: RTE:[RTE_train/RTE_gold/loss=5.01e-01, RTE_valid/RTE_gold/accuracy=6.21e-01] RTE_slice:dash_semicolon:ind:[RTE_train/RTE_slice:dash_semicolon:ind/loss=9.04e-03, RTE_valid/RTE_slice:dash_semicolon:ind/accuracy=1.00e+00] RTE_slice:dash_semicolon:pred:[RTE_train/RTE_slice:dash_semicolon:pred/loss=6.12e-02, RTE_valid/RTE_slice:dash_semicolon:pred/accuracy=5.69e-01] RTE_slice:more_people:ind:[RTE_train/RTE_slice:more_people:ind/loss=1.85e-02, RTE_valid/RTE_slice:more_people:ind/accuracy=9.57e-01] RTE_slice:BASE:ind:[RTE_train/RTE_slice:BASE:ind/loss=7.50e-04, RTE_valid/RTE_slice:BASE:ind/accuracy=1.00e+00] RTE_slice:BASE:pred:[RTE_train/RTE_slice:BASE:pred/loss=6.42e-02, RTE_valid/RTE_slice:BASE:pred/accuracy=6.25e-01] RTE_slice:more_people:pred:[RTE_train/RTE_slice:more_people:pred/loss=1.05e-02, RTE_valid/RTE_slice:more_people:pred/accuracy=3.33e-01] model:[train/all/loss=1.14e-01, train/all/lr=5.00e-05]\n",
      "[17.74 epo]: RTE:[RTE_train/RTE_gold/loss=5.03e-01, RTE_valid/RTE_gold/accuracy=6.21e-01] RTE_slice:dash_semicolon:ind:[RTE_train/RTE_slice:dash_semicolon:ind/loss=7.87e-03, RTE_valid/RTE_slice:dash_semicolon:ind/accuracy=9.96e-01] RTE_slice:more_people:ind:[RTE_train/RTE_slice:more_people:ind/loss=1.96e-02, RTE_valid/RTE_slice:more_people:ind/accuracy=9.57e-01] RTE_slice:BASE:ind:[RTE_train/RTE_slice:BASE:ind/loss=7.98e-04, RTE_valid/RTE_slice:BASE:ind/accuracy=1.00e+00] RTE_slice:BASE:pred:[RTE_train/RTE_slice:BASE:pred/loss=5.88e-02, RTE_valid/RTE_slice:BASE:pred/accuracy=6.17e-01] RTE_slice:dash_semicolon:pred:[RTE_train/RTE_slice:dash_semicolon:pred/loss=4.32e-02, RTE_valid/RTE_slice:dash_semicolon:pred/accuracy=5.60e-01] RTE_slice:more_people:pred:[RTE_train/RTE_slice:more_people:pred/loss=6.01e-03, RTE_valid/RTE_slice:more_people:pred/accuracy=2.50e-01] model:[train/all/loss=1.12e-01, train/all/lr=5.00e-05]\n",
      "[17.85 epo]: RTE:[RTE_train/RTE_gold/loss=5.04e-01, RTE_valid/RTE_gold/accuracy=5.92e-01] RTE_slice:dash_semicolon:ind:[RTE_train/RTE_slice:dash_semicolon:ind/loss=7.92e-03, RTE_valid/RTE_slice:dash_semicolon:ind/accuracy=9.96e-01] RTE_slice:dash_semicolon:pred:[RTE_train/RTE_slice:dash_semicolon:pred/loss=4.80e-02, RTE_valid/RTE_slice:dash_semicolon:pred/accuracy=5.26e-01] RTE_slice:more_people:ind:[RTE_train/RTE_slice:more_people:ind/loss=3.01e-02, RTE_valid/RTE_slice:more_people:ind/accuracy=9.57e-01] RTE_slice:more_people:pred:[RTE_train/RTE_slice:more_people:pred/loss=4.84e-02, RTE_valid/RTE_slice:more_people:pred/accuracy=2.50e-01] RTE_slice:BASE:ind:[RTE_train/RTE_slice:BASE:ind/loss=1.01e-03, RTE_valid/RTE_slice:BASE:ind/accuracy=1.00e+00] RTE_slice:BASE:pred:[RTE_train/RTE_slice:BASE:pred/loss=6.66e-02, RTE_valid/RTE_slice:BASE:pred/accuracy=5.88e-01] model:[train/all/loss=1.16e-01, train/all/lr=5.00e-05]\n"
     ]
    },
    {
     "name": "stdout",
     "output_type": "stream",
     "text": [
      "[17.95 epo]: RTE:[RTE_train/RTE_gold/loss=4.91e-01, RTE_valid/RTE_gold/accuracy=5.81e-01] RTE_slice:dash_semicolon:ind:[RTE_train/RTE_slice:dash_semicolon:ind/loss=7.87e-03, RTE_valid/RTE_slice:dash_semicolon:ind/accuracy=1.00e+00] RTE_slice:dash_semicolon:pred:[RTE_train/RTE_slice:dash_semicolon:pred/loss=3.61e-02, RTE_valid/RTE_slice:dash_semicolon:pred/accuracy=5.09e-01] RTE_slice:more_people:ind:[RTE_train/RTE_slice:more_people:ind/loss=1.90e-02, RTE_valid/RTE_slice:more_people:ind/accuracy=9.57e-01] RTE_slice:BASE:ind:[RTE_train/RTE_slice:BASE:ind/loss=7.98e-04, RTE_valid/RTE_slice:BASE:ind/accuracy=1.00e+00] RTE_slice:BASE:pred:[RTE_train/RTE_slice:BASE:pred/loss=5.24e-02, RTE_valid/RTE_slice:BASE:pred/accuracy=5.81e-01] RTE_slice:more_people:pred:[RTE_train/RTE_slice:more_people:pred/loss=8.51e-03, RTE_valid/RTE_slice:more_people:pred/accuracy=3.33e-01] model:[train/all/loss=1.08e-01, train/all/lr=5.00e-05]\n",
      "\n"
     ]
    },
    {
     "data": {
      "application/vnd.jupyter.widget-view+json": {
       "model_id": "7c082ebd20b04892a034ac3d2f670acc",
       "version_major": 2,
       "version_minor": 0
      },
      "text/plain": [
       "HBox(children=(IntProgress(value=0, max=312), HTML(value='')))"
      ]
     },
     "metadata": {},
     "output_type": "display_data"
    },
    {
     "name": "stdout",
     "output_type": "stream",
     "text": [
      "[18.05 epo]: RTE:[RTE_train/RTE_gold/loss=4.73e-01, RTE_valid/RTE_gold/accuracy=6.10e-01] RTE_slice:dash_semicolon:ind:[RTE_train/RTE_slice:dash_semicolon:ind/loss=9.04e-03, RTE_valid/RTE_slice:dash_semicolon:ind/accuracy=1.00e+00] RTE_slice:more_people:ind:[RTE_train/RTE_slice:more_people:ind/loss=1.63e-02, RTE_valid/RTE_slice:more_people:ind/accuracy=9.57e-01] RTE_slice:BASE:ind:[RTE_train/RTE_slice:BASE:ind/loss=8.43e-04, RTE_valid/RTE_slice:BASE:ind/accuracy=1.00e+00] RTE_slice:BASE:pred:[RTE_train/RTE_slice:BASE:pred/loss=4.95e-02, RTE_valid/RTE_slice:BASE:pred/accuracy=6.10e-01] RTE_slice:dash_semicolon:pred:[RTE_train/RTE_slice:dash_semicolon:pred/loss=4.12e-02, RTE_valid/RTE_slice:dash_semicolon:pred/accuracy=5.34e-01] RTE_slice:more_people:pred:[RTE_train/RTE_slice:more_people:pred/loss=4.60e-03, RTE_valid/RTE_slice:more_people:pred/accuracy=4.17e-01] model:[train/all/loss=1.05e-01, train/all/lr=5.00e-05]\n",
      "[18.15 epo]: RTE:[RTE_train/RTE_gold/loss=4.73e-01, RTE_valid/RTE_gold/accuracy=6.14e-01] RTE_slice:dash_semicolon:ind:[RTE_train/RTE_slice:dash_semicolon:ind/loss=1.04e-02, RTE_valid/RTE_slice:dash_semicolon:ind/accuracy=1.00e+00] RTE_slice:dash_semicolon:pred:[RTE_train/RTE_slice:dash_semicolon:pred/loss=5.71e-02, RTE_valid/RTE_slice:dash_semicolon:pred/accuracy=5.43e-01] RTE_slice:more_people:ind:[RTE_train/RTE_slice:more_people:ind/loss=1.27e-02, RTE_valid/RTE_slice:more_people:ind/accuracy=9.57e-01] RTE_slice:BASE:ind:[RTE_train/RTE_slice:BASE:ind/loss=8.07e-04, RTE_valid/RTE_slice:BASE:ind/accuracy=1.00e+00] RTE_slice:BASE:pred:[RTE_train/RTE_slice:BASE:pred/loss=5.22e-02, RTE_valid/RTE_slice:BASE:pred/accuracy=6.06e-01] RTE_slice:more_people:pred:[RTE_train/RTE_slice:more_people:pred/loss=5.55e-03, RTE_valid/RTE_slice:more_people:pred/accuracy=4.17e-01] model:[train/all/loss=1.05e-01, train/all/lr=5.00e-05]\n",
      "[18.26 epo]: RTE:[RTE_train/RTE_gold/loss=4.60e-01, RTE_valid/RTE_gold/accuracy=6.17e-01] RTE_slice:dash_semicolon:ind:[RTE_train/RTE_slice:dash_semicolon:ind/loss=7.91e-03, RTE_valid/RTE_slice:dash_semicolon:ind/accuracy=1.00e+00] RTE_slice:dash_semicolon:pred:[RTE_train/RTE_slice:dash_semicolon:pred/loss=4.69e-02, RTE_valid/RTE_slice:dash_semicolon:pred/accuracy=5.60e-01] RTE_slice:more_people:ind:[RTE_train/RTE_slice:more_people:ind/loss=2.16e-02, RTE_valid/RTE_slice:more_people:ind/accuracy=9.57e-01] RTE_slice:BASE:ind:[RTE_train/RTE_slice:BASE:ind/loss=8.36e-04, RTE_valid/RTE_slice:BASE:ind/accuracy=1.00e+00] RTE_slice:BASE:pred:[RTE_train/RTE_slice:BASE:pred/loss=4.29e-02, RTE_valid/RTE_slice:BASE:pred/accuracy=6.17e-01] RTE_slice:more_people:pred:[RTE_train/RTE_slice:more_people:pred/loss=7.61e-03, RTE_valid/RTE_slice:more_people:pred/accuracy=3.33e-01] model:[train/all/loss=1.02e-01, train/all/lr=5.00e-05]\n",
      "[18.36 epo]: RTE:[RTE_train/RTE_gold/loss=4.88e-01, RTE_valid/RTE_gold/accuracy=6.32e-01] RTE_slice:dash_semicolon:ind:[RTE_train/RTE_slice:dash_semicolon:ind/loss=1.04e-02, RTE_valid/RTE_slice:dash_semicolon:ind/accuracy=1.00e+00] RTE_slice:more_people:ind:[RTE_train/RTE_slice:more_people:ind/loss=1.72e-02, RTE_valid/RTE_slice:more_people:ind/accuracy=9.57e-01] RTE_slice:BASE:ind:[RTE_train/RTE_slice:BASE:ind/loss=9.11e-04, RTE_valid/RTE_slice:BASE:ind/accuracy=1.00e+00] RTE_slice:BASE:pred:[RTE_train/RTE_slice:BASE:pred/loss=6.93e-02, RTE_valid/RTE_slice:BASE:pred/accuracy=6.35e-01] RTE_slice:dash_semicolon:pred:[RTE_train/RTE_slice:dash_semicolon:pred/loss=7.12e-02, RTE_valid/RTE_slice:dash_semicolon:pred/accuracy=5.78e-01] RTE_slice:more_people:pred:[RTE_train/RTE_slice:more_people:pred/loss=1.04e-01, RTE_valid/RTE_slice:more_people:pred/accuracy=6.67e-01] model:[train/all/loss=1.14e-01, train/all/lr=5.00e-05]\n",
      "[18.46 epo]: RTE:[RTE_train/RTE_gold/loss=4.77e-01, RTE_valid/RTE_gold/accuracy=5.99e-01] RTE_slice:dash_semicolon:ind:[RTE_train/RTE_slice:dash_semicolon:ind/loss=6.86e-03, RTE_valid/RTE_slice:dash_semicolon:ind/accuracy=1.00e+00] RTE_slice:dash_semicolon:pred:[RTE_train/RTE_slice:dash_semicolon:pred/loss=3.77e-02, RTE_valid/RTE_slice:dash_semicolon:pred/accuracy=5.26e-01] RTE_slice:more_people:ind:[RTE_train/RTE_slice:more_people:ind/loss=2.61e-02, RTE_valid/RTE_slice:more_people:ind/accuracy=9.57e-01] RTE_slice:BASE:ind:[RTE_train/RTE_slice:BASE:ind/loss=6.67e-04, RTE_valid/RTE_slice:BASE:ind/accuracy=1.00e+00] RTE_slice:BASE:pred:[RTE_train/RTE_slice:BASE:pred/loss=5.76e-02, RTE_valid/RTE_slice:BASE:pred/accuracy=5.99e-01] RTE_slice:more_people:pred:[RTE_train/RTE_slice:more_people:pred/loss=6.55e-03, RTE_valid/RTE_slice:more_people:pred/accuracy=7.50e-01] model:[train/all/loss=1.07e-01, train/all/lr=5.00e-05]\n",
      "[18.56 epo]: RTE:[RTE_train/RTE_gold/loss=4.81e-01, RTE_valid/RTE_gold/accuracy=6.06e-01] RTE_slice:dash_semicolon:ind:[RTE_train/RTE_slice:dash_semicolon:ind/loss=1.05e-02, RTE_valid/RTE_slice:dash_semicolon:ind/accuracy=1.00e+00] RTE_slice:dash_semicolon:pred:[RTE_train/RTE_slice:dash_semicolon:pred/loss=5.56e-02, RTE_valid/RTE_slice:dash_semicolon:pred/accuracy=5.34e-01] RTE_slice:more_people:ind:[RTE_train/RTE_slice:more_people:ind/loss=2.39e-02, RTE_valid/RTE_slice:more_people:ind/accuracy=9.57e-01] RTE_slice:BASE:ind:[RTE_train/RTE_slice:BASE:ind/loss=1.26e-03, RTE_valid/RTE_slice:BASE:ind/accuracy=1.00e+00] RTE_slice:BASE:pred:[RTE_train/RTE_slice:BASE:pred/loss=6.12e-02, RTE_valid/RTE_slice:BASE:pred/accuracy=6.06e-01] RTE_slice:more_people:pred:[RTE_train/RTE_slice:more_people:pred/loss=6.96e-03, RTE_valid/RTE_slice:more_people:pred/accuracy=6.67e-01] model:[train/all/loss=1.10e-01, train/all/lr=5.00e-05]\n",
      "[18.67 epo]: RTE:[RTE_train/RTE_gold/loss=4.89e-01, RTE_valid/RTE_gold/accuracy=5.85e-01] RTE_slice:dash_semicolon:ind:[RTE_train/RTE_slice:dash_semicolon:ind/loss=8.09e-03, RTE_valid/RTE_slice:dash_semicolon:ind/accuracy=1.00e+00] RTE_slice:dash_semicolon:pred:[RTE_train/RTE_slice:dash_semicolon:pred/loss=5.27e-02, RTE_valid/RTE_slice:dash_semicolon:pred/accuracy=4.91e-01] RTE_slice:more_people:ind:[RTE_train/RTE_slice:more_people:ind/loss=2.10e-02, RTE_valid/RTE_slice:more_people:ind/accuracy=9.57e-01] RTE_slice:more_people:pred:[RTE_train/RTE_slice:more_people:pred/loss=6.57e-02, RTE_valid/RTE_slice:more_people:pred/accuracy=4.17e-01] RTE_slice:BASE:ind:[RTE_train/RTE_slice:BASE:ind/loss=7.22e-04, RTE_valid/RTE_slice:BASE:ind/accuracy=1.00e+00] RTE_slice:BASE:pred:[RTE_train/RTE_slice:BASE:pred/loss=6.30e-02, RTE_valid/RTE_slice:BASE:pred/accuracy=5.78e-01] model:[train/all/loss=1.11e-01, train/all/lr=5.00e-05]\n",
      "[18.77 epo]: RTE:[RTE_train/RTE_gold/loss=5.08e-01, RTE_valid/RTE_gold/accuracy=6.32e-01] RTE_slice:dash_semicolon:ind:[RTE_train/RTE_slice:dash_semicolon:ind/loss=1.14e-02, RTE_valid/RTE_slice:dash_semicolon:ind/accuracy=1.00e+00] RTE_slice:dash_semicolon:pred:[RTE_train/RTE_slice:dash_semicolon:pred/loss=5.83e-02, RTE_valid/RTE_slice:dash_semicolon:pred/accuracy=5.52e-01] RTE_slice:more_people:ind:[RTE_train/RTE_slice:more_people:ind/loss=1.46e-02, RTE_valid/RTE_slice:more_people:ind/accuracy=9.57e-01] RTE_slice:BASE:ind:[RTE_train/RTE_slice:BASE:ind/loss=9.84e-04, RTE_valid/RTE_slice:BASE:ind/accuracy=1.00e+00] RTE_slice:BASE:pred:[RTE_train/RTE_slice:BASE:pred/loss=7.52e-02, RTE_valid/RTE_slice:BASE:pred/accuracy=6.25e-01] RTE_slice:more_people:pred:[RTE_train/RTE_slice:more_people:pred/loss=5.75e-03, RTE_valid/RTE_slice:more_people:pred/accuracy=3.33e-01] model:[train/all/loss=1.17e-01, train/all/lr=5.00e-05]\n",
      "[18.87 epo]: RTE:[RTE_train/RTE_gold/loss=4.89e-01, RTE_valid/RTE_gold/accuracy=6.10e-01] RTE_slice:dash_semicolon:ind:[RTE_train/RTE_slice:dash_semicolon:ind/loss=8.62e-03, RTE_valid/RTE_slice:dash_semicolon:ind/accuracy=1.00e+00] RTE_slice:dash_semicolon:pred:[RTE_train/RTE_slice:dash_semicolon:pred/loss=4.06e-02, RTE_valid/RTE_slice:dash_semicolon:pred/accuracy=5.52e-01] RTE_slice:more_people:ind:[RTE_train/RTE_slice:more_people:ind/loss=1.24e-02, RTE_valid/RTE_slice:more_people:ind/accuracy=9.57e-01] RTE_slice:BASE:ind:[RTE_train/RTE_slice:BASE:ind/loss=8.40e-04, RTE_valid/RTE_slice:BASE:ind/accuracy=1.00e+00] RTE_slice:BASE:pred:[RTE_train/RTE_slice:BASE:pred/loss=6.34e-02, RTE_valid/RTE_slice:BASE:pred/accuracy=6.10e-01] RTE_slice:more_people:pred:[RTE_train/RTE_slice:more_people:pred/loss=8.45e-03, RTE_valid/RTE_slice:more_people:pred/accuracy=5.00e-01] model:[train/all/loss=1.09e-01, train/all/lr=5.00e-05]\n"
     ]
    },
    {
     "name": "stdout",
     "output_type": "stream",
     "text": [
      "[18.97 epo]: RTE:[RTE_train/RTE_gold/loss=5.21e-01, RTE_valid/RTE_gold/accuracy=5.92e-01] RTE_slice:dash_semicolon:ind:[RTE_train/RTE_slice:dash_semicolon:ind/loss=7.26e-03, RTE_valid/RTE_slice:dash_semicolon:ind/accuracy=1.00e+00] RTE_slice:dash_semicolon:pred:[RTE_train/RTE_slice:dash_semicolon:pred/loss=7.88e-02, RTE_valid/RTE_slice:dash_semicolon:pred/accuracy=5.69e-01] RTE_slice:more_people:ind:[RTE_train/RTE_slice:more_people:ind/loss=2.75e-02, RTE_valid/RTE_slice:more_people:ind/accuracy=9.57e-01] RTE_slice:BASE:ind:[RTE_train/RTE_slice:BASE:ind/loss=7.13e-04, RTE_valid/RTE_slice:BASE:ind/accuracy=1.00e+00] RTE_slice:BASE:pred:[RTE_train/RTE_slice:BASE:pred/loss=9.03e-02, RTE_valid/RTE_slice:BASE:pred/accuracy=5.92e-01] RTE_slice:more_people:pred:[RTE_train/RTE_slice:more_people:pred/loss=1.98e-02, RTE_valid/RTE_slice:more_people:pred/accuracy=4.17e-01] model:[train/all/loss=1.25e-01, train/all/lr=5.00e-05]\n",
      "\n"
     ]
    },
    {
     "data": {
      "application/vnd.jupyter.widget-view+json": {
       "model_id": "70756137317048958eb46b974ea79f9c",
       "version_major": 2,
       "version_minor": 0
      },
      "text/plain": [
       "HBox(children=(IntProgress(value=0, max=312), HTML(value='')))"
      ]
     },
     "metadata": {},
     "output_type": "display_data"
    },
    {
     "name": "stdout",
     "output_type": "stream",
     "text": [
      "[19.08 epo]: RTE:[RTE_train/RTE_gold/loss=4.82e-01, RTE_valid/RTE_gold/accuracy=6.21e-01] RTE_slice:dash_semicolon:ind:[RTE_train/RTE_slice:dash_semicolon:ind/loss=7.05e-03, RTE_valid/RTE_slice:dash_semicolon:ind/accuracy=1.00e+00] RTE_slice:dash_semicolon:pred:[RTE_train/RTE_slice:dash_semicolon:pred/loss=4.14e-02, RTE_valid/RTE_slice:dash_semicolon:pred/accuracy=5.60e-01] RTE_slice:more_people:ind:[RTE_train/RTE_slice:more_people:ind/loss=1.13e-02, RTE_valid/RTE_slice:more_people:ind/accuracy=9.57e-01] RTE_slice:more_people:pred:[RTE_train/RTE_slice:more_people:pred/loss=1.16e-02, RTE_valid/RTE_slice:more_people:pred/accuracy=5.83e-01] RTE_slice:BASE:ind:[RTE_train/RTE_slice:BASE:ind/loss=8.25e-04, RTE_valid/RTE_slice:BASE:ind/accuracy=1.00e+00] RTE_slice:BASE:pred:[RTE_train/RTE_slice:BASE:pred/loss=5.61e-02, RTE_valid/RTE_slice:BASE:pred/accuracy=6.10e-01] model:[train/all/loss=1.07e-01, train/all/lr=5.00e-05]\n",
      "[19.18 epo]: RTE:[RTE_train/RTE_gold/loss=4.79e-01, RTE_valid/RTE_gold/accuracy=6.28e-01] RTE_slice:dash_semicolon:ind:[RTE_train/RTE_slice:dash_semicolon:ind/loss=6.44e-03, RTE_valid/RTE_slice:dash_semicolon:ind/accuracy=9.96e-01] RTE_slice:dash_semicolon:pred:[RTE_train/RTE_slice:dash_semicolon:pred/loss=4.78e-02, RTE_valid/RTE_slice:dash_semicolon:pred/accuracy=5.86e-01] RTE_slice:more_people:ind:[RTE_train/RTE_slice:more_people:ind/loss=1.78e-02, RTE_valid/RTE_slice:more_people:ind/accuracy=9.57e-01] RTE_slice:BASE:ind:[RTE_train/RTE_slice:BASE:ind/loss=9.32e-04, RTE_valid/RTE_slice:BASE:ind/accuracy=1.00e+00] RTE_slice:BASE:pred:[RTE_train/RTE_slice:BASE:pred/loss=6.01e-02, RTE_valid/RTE_slice:BASE:pred/accuracy=6.35e-01] RTE_slice:more_people:pred:[RTE_train/RTE_slice:more_people:pred/loss=9.05e-02, RTE_valid/RTE_slice:more_people:pred/accuracy=5.00e-01] model:[train/all/loss=1.08e-01, train/all/lr=5.00e-05]\n",
      "[19.28 epo]: RTE:[RTE_train/RTE_gold/loss=4.83e-01, RTE_valid/RTE_gold/accuracy=5.74e-01] RTE_slice:dash_semicolon:ind:[RTE_train/RTE_slice:dash_semicolon:ind/loss=1.05e-02, RTE_valid/RTE_slice:dash_semicolon:ind/accuracy=1.00e+00] RTE_slice:dash_semicolon:pred:[RTE_train/RTE_slice:dash_semicolon:pred/loss=5.99e-02, RTE_valid/RTE_slice:dash_semicolon:pred/accuracy=5.17e-01] RTE_slice:more_people:ind:[RTE_train/RTE_slice:more_people:ind/loss=2.42e-02, RTE_valid/RTE_slice:more_people:ind/accuracy=9.57e-01] RTE_slice:more_people:pred:[RTE_train/RTE_slice:more_people:pred/loss=6.04e-03, RTE_valid/RTE_slice:more_people:pred/accuracy=3.33e-01] RTE_slice:BASE:ind:[RTE_train/RTE_slice:BASE:ind/loss=1.09e-03, RTE_valid/RTE_slice:BASE:ind/accuracy=1.00e+00] RTE_slice:BASE:pred:[RTE_train/RTE_slice:BASE:pred/loss=6.49e-02, RTE_valid/RTE_slice:BASE:pred/accuracy=5.78e-01] model:[train/all/loss=1.12e-01, train/all/lr=5.00e-05]\n",
      "[19.38 epo]: RTE:[RTE_train/RTE_gold/loss=4.85e-01, RTE_valid/RTE_gold/accuracy=6.03e-01] RTE_slice:dash_semicolon:ind:[RTE_train/RTE_slice:dash_semicolon:ind/loss=9.02e-03, RTE_valid/RTE_slice:dash_semicolon:ind/accuracy=1.00e+00] RTE_slice:dash_semicolon:pred:[RTE_train/RTE_slice:dash_semicolon:pred/loss=3.20e-02, RTE_valid/RTE_slice:dash_semicolon:pred/accuracy=5.52e-01] RTE_slice:more_people:ind:[RTE_train/RTE_slice:more_people:ind/loss=2.09e-02, RTE_valid/RTE_slice:more_people:ind/accuracy=9.57e-01] RTE_slice:BASE:ind:[RTE_train/RTE_slice:BASE:ind/loss=9.94e-04, RTE_valid/RTE_slice:BASE:ind/accuracy=1.00e+00] RTE_slice:BASE:pred:[RTE_train/RTE_slice:BASE:pred/loss=5.82e-02, RTE_valid/RTE_slice:BASE:pred/accuracy=6.06e-01] RTE_slice:more_people:pred:[RTE_train/RTE_slice:more_people:pred/loss=5.41e-03, RTE_valid/RTE_slice:more_people:pred/accuracy=3.33e-01] model:[train/all/loss=1.08e-01, train/all/lr=5.00e-05]\n",
      "[19.49 epo]: RTE:[RTE_train/RTE_gold/loss=4.66e-01, RTE_valid/RTE_gold/accuracy=6.03e-01] RTE_slice:dash_semicolon:ind:[RTE_train/RTE_slice:dash_semicolon:ind/loss=1.01e-02, RTE_valid/RTE_slice:dash_semicolon:ind/accuracy=1.00e+00] RTE_slice:dash_semicolon:pred:[RTE_train/RTE_slice:dash_semicolon:pred/loss=4.44e-02, RTE_valid/RTE_slice:dash_semicolon:pred/accuracy=5.43e-01] RTE_slice:more_people:ind:[RTE_train/RTE_slice:more_people:ind/loss=8.82e-03, RTE_valid/RTE_slice:more_people:ind/accuracy=9.57e-01] RTE_slice:BASE:ind:[RTE_train/RTE_slice:BASE:ind/loss=8.63e-04, RTE_valid/RTE_slice:BASE:ind/accuracy=1.00e+00] RTE_slice:BASE:pred:[RTE_train/RTE_slice:BASE:pred/loss=5.27e-02, RTE_valid/RTE_slice:BASE:pred/accuracy=6.03e-01] RTE_slice:more_people:pred:[RTE_train/RTE_slice:more_people:pred/loss=4.28e-03, RTE_valid/RTE_slice:more_people:pred/accuracy=4.17e-01] model:[train/all/loss=1.03e-01, train/all/lr=5.00e-05]\n",
      "[19.59 epo]: RTE:[RTE_train/RTE_gold/loss=4.41e-01, RTE_valid/RTE_gold/accuracy=6.03e-01] RTE_slice:dash_semicolon:ind:[RTE_train/RTE_slice:dash_semicolon:ind/loss=1.06e-02, RTE_valid/RTE_slice:dash_semicolon:ind/accuracy=1.00e+00] RTE_slice:dash_semicolon:pred:[RTE_train/RTE_slice:dash_semicolon:pred/loss=4.57e-02, RTE_valid/RTE_slice:dash_semicolon:pred/accuracy=5.26e-01] RTE_slice:more_people:ind:[RTE_train/RTE_slice:more_people:ind/loss=1.77e-02, RTE_valid/RTE_slice:more_people:ind/accuracy=9.57e-01] RTE_slice:BASE:ind:[RTE_train/RTE_slice:BASE:ind/loss=6.86e-04, RTE_valid/RTE_slice:BASE:ind/accuracy=1.00e+00] RTE_slice:BASE:pred:[RTE_train/RTE_slice:BASE:pred/loss=4.04e-02, RTE_valid/RTE_slice:BASE:pred/accuracy=6.06e-01] RTE_slice:more_people:pred:[RTE_train/RTE_slice:more_people:pred/loss=6.18e-03, RTE_valid/RTE_slice:more_people:pred/accuracy=3.33e-01] model:[train/all/loss=9.75e-02, train/all/lr=5.00e-05]\n",
      "[19.69 epo]: RTE:[RTE_train/RTE_gold/loss=4.84e-01, RTE_valid/RTE_gold/accuracy=6.06e-01] RTE_slice:dash_semicolon:ind:[RTE_train/RTE_slice:dash_semicolon:ind/loss=9.67e-03, RTE_valid/RTE_slice:dash_semicolon:ind/accuracy=1.00e+00] RTE_slice:dash_semicolon:pred:[RTE_train/RTE_slice:dash_semicolon:pred/loss=4.42e-02, RTE_valid/RTE_slice:dash_semicolon:pred/accuracy=5.43e-01] RTE_slice:more_people:ind:[RTE_train/RTE_slice:more_people:ind/loss=1.88e-02, RTE_valid/RTE_slice:more_people:ind/accuracy=9.57e-01] RTE_slice:BASE:ind:[RTE_train/RTE_slice:BASE:ind/loss=7.89e-04, RTE_valid/RTE_slice:BASE:ind/accuracy=1.00e+00] RTE_slice:BASE:pred:[RTE_train/RTE_slice:BASE:pred/loss=6.76e-02, RTE_valid/RTE_slice:BASE:pred/accuracy=6.06e-01] RTE_slice:more_people:pred:[RTE_train/RTE_slice:more_people:pred/loss=4.35e-03, RTE_valid/RTE_slice:more_people:pred/accuracy=4.17e-01] model:[train/all/loss=1.10e-01, train/all/lr=5.00e-05]\n",
      "[19.79 epo]: RTE:[RTE_train/RTE_gold/loss=5.06e-01, RTE_valid/RTE_gold/accuracy=6.03e-01] RTE_slice:dash_semicolon:ind:[RTE_train/RTE_slice:dash_semicolon:ind/loss=1.31e-02, RTE_valid/RTE_slice:dash_semicolon:ind/accuracy=1.00e+00] RTE_slice:dash_semicolon:pred:[RTE_train/RTE_slice:dash_semicolon:pred/loss=5.85e-02, RTE_valid/RTE_slice:dash_semicolon:pred/accuracy=5.34e-01] RTE_slice:more_people:ind:[RTE_train/RTE_slice:more_people:ind/loss=2.08e-02, RTE_valid/RTE_slice:more_people:ind/accuracy=9.57e-01] RTE_slice:BASE:ind:[RTE_train/RTE_slice:BASE:ind/loss=8.70e-04, RTE_valid/RTE_slice:BASE:ind/accuracy=1.00e+00] RTE_slice:BASE:pred:[RTE_train/RTE_slice:BASE:pred/loss=8.31e-02, RTE_valid/RTE_slice:BASE:pred/accuracy=5.99e-01] RTE_slice:more_people:pred:[RTE_train/RTE_slice:more_people:pred/loss=1.43e-02, RTE_valid/RTE_slice:more_people:pred/accuracy=2.50e-01] model:[train/all/loss=1.19e-01, train/all/lr=5.00e-05]\n",
      "[19.90 epo]: RTE:[RTE_train/RTE_gold/loss=4.80e-01, RTE_valid/RTE_gold/accuracy=6.17e-01] RTE_slice:dash_semicolon:ind:[RTE_train/RTE_slice:dash_semicolon:ind/loss=8.78e-03, RTE_valid/RTE_slice:dash_semicolon:ind/accuracy=1.00e+00] RTE_slice:dash_semicolon:pred:[RTE_train/RTE_slice:dash_semicolon:pred/loss=5.87e-02, RTE_valid/RTE_slice:dash_semicolon:pred/accuracy=5.60e-01] RTE_slice:more_people:ind:[RTE_train/RTE_slice:more_people:ind/loss=2.58e-02, RTE_valid/RTE_slice:more_people:ind/accuracy=9.57e-01] RTE_slice:BASE:ind:[RTE_train/RTE_slice:BASE:ind/loss=7.95e-04, RTE_valid/RTE_slice:BASE:ind/accuracy=1.00e+00] RTE_slice:BASE:pred:[RTE_train/RTE_slice:BASE:pred/loss=6.55e-02, RTE_valid/RTE_slice:BASE:pred/accuracy=6.17e-01] RTE_slice:more_people:pred:[RTE_train/RTE_slice:more_people:pred/loss=6.31e-03, RTE_valid/RTE_slice:more_people:pred/accuracy=4.17e-01] model:[train/all/loss=1.11e-01, train/all/lr=5.00e-05]\n"
     ]
    },
    {
     "name": "stdout",
     "output_type": "stream",
     "text": [
      "[20.0 epo]: RTE:[RTE_train/RTE_gold/loss=4.40e-01, RTE_valid/RTE_gold/accuracy=6.21e-01] RTE_slice:dash_semicolon:ind:[RTE_train/RTE_slice:dash_semicolon:ind/loss=7.08e-03, RTE_valid/RTE_slice:dash_semicolon:ind/accuracy=9.96e-01] RTE_slice:dash_semicolon:pred:[RTE_train/RTE_slice:dash_semicolon:pred/loss=3.64e-02, RTE_valid/RTE_slice:dash_semicolon:pred/accuracy=5.52e-01] RTE_slice:more_people:ind:[RTE_train/RTE_slice:more_people:ind/loss=2.45e-02, RTE_valid/RTE_slice:more_people:ind/accuracy=9.57e-01] RTE_slice:more_people:pred:[RTE_train/RTE_slice:more_people:pred/loss=5.47e-02, RTE_valid/RTE_slice:more_people:pred/accuracy=4.17e-01] RTE_slice:BASE:ind:[RTE_train/RTE_slice:BASE:ind/loss=9.59e-04, RTE_valid/RTE_slice:BASE:ind/accuracy=1.00e+00] RTE_slice:BASE:pred:[RTE_train/RTE_slice:BASE:pred/loss=4.36e-02, RTE_valid/RTE_slice:BASE:pred/accuracy=6.21e-01] model:[train/all/loss=9.81e-02, train/all/lr=5.00e-05]\n",
      "\n"
     ]
    },
    {
     "data": {
      "application/vnd.jupyter.widget-view+json": {
       "model_id": "48fee9e67b844cf685a0666b7645bea9",
       "version_major": 2,
       "version_minor": 0
      },
      "text/plain": [
       "HBox(children=(IntProgress(value=0, max=312), HTML(value='')))"
      ]
     },
     "metadata": {},
     "output_type": "display_data"
    },
    {
     "name": "stdout",
     "output_type": "stream",
     "text": [
      "[20.10 epo]: RTE:[RTE_train/RTE_gold/loss=4.60e-01, RTE_valid/RTE_gold/accuracy=6.28e-01] RTE_slice:dash_semicolon:ind:[RTE_train/RTE_slice:dash_semicolon:ind/loss=8.80e-03, RTE_valid/RTE_slice:dash_semicolon:ind/accuracy=1.00e+00] RTE_slice:dash_semicolon:pred:[RTE_train/RTE_slice:dash_semicolon:pred/loss=4.40e-02, RTE_valid/RTE_slice:dash_semicolon:pred/accuracy=5.78e-01] RTE_slice:more_people:ind:[RTE_train/RTE_slice:more_people:ind/loss=1.61e-02, RTE_valid/RTE_slice:more_people:ind/accuracy=9.57e-01] RTE_slice:BASE:ind:[RTE_train/RTE_slice:BASE:ind/loss=8.51e-04, RTE_valid/RTE_slice:BASE:ind/accuracy=1.00e+00] RTE_slice:BASE:pred:[RTE_train/RTE_slice:BASE:pred/loss=5.45e-02, RTE_valid/RTE_slice:BASE:pred/accuracy=6.25e-01] RTE_slice:more_people:pred:[RTE_train/RTE_slice:more_people:pred/loss=5.53e-03, RTE_valid/RTE_slice:more_people:pred/accuracy=2.50e-01] model:[train/all/loss=1.03e-01, train/all/lr=5.00e-05]\n",
      "[20.21 epo]: RTE:[RTE_train/RTE_gold/loss=4.42e-01, RTE_valid/RTE_gold/accuracy=6.21e-01] RTE_slice:dash_semicolon:ind:[RTE_train/RTE_slice:dash_semicolon:ind/loss=8.44e-03, RTE_valid/RTE_slice:dash_semicolon:ind/accuracy=9.96e-01] RTE_slice:dash_semicolon:pred:[RTE_train/RTE_slice:dash_semicolon:pred/loss=4.31e-02, RTE_valid/RTE_slice:dash_semicolon:pred/accuracy=5.60e-01] RTE_slice:more_people:ind:[RTE_train/RTE_slice:more_people:ind/loss=1.86e-02, RTE_valid/RTE_slice:more_people:ind/accuracy=9.57e-01] RTE_slice:BASE:ind:[RTE_train/RTE_slice:BASE:ind/loss=6.71e-04, RTE_valid/RTE_slice:BASE:ind/accuracy=1.00e+00] RTE_slice:BASE:pred:[RTE_train/RTE_slice:BASE:pred/loss=4.66e-02, RTE_valid/RTE_slice:BASE:pred/accuracy=6.17e-01] RTE_slice:more_people:pred:[RTE_train/RTE_slice:more_people:pred/loss=1.41e-01, RTE_valid/RTE_slice:more_people:pred/accuracy=3.33e-01] model:[train/all/loss=9.84e-02, train/all/lr=5.00e-05]\n",
      "[20.31 epo]: RTE:[RTE_train/RTE_gold/loss=4.51e-01, RTE_valid/RTE_gold/accuracy=5.85e-01] RTE_slice:dash_semicolon:ind:[RTE_train/RTE_slice:dash_semicolon:ind/loss=1.05e-02, RTE_valid/RTE_slice:dash_semicolon:ind/accuracy=9.96e-01] RTE_slice:dash_semicolon:pred:[RTE_train/RTE_slice:dash_semicolon:pred/loss=5.05e-02, RTE_valid/RTE_slice:dash_semicolon:pred/accuracy=5.09e-01] RTE_slice:more_people:ind:[RTE_train/RTE_slice:more_people:ind/loss=2.71e-02, RTE_valid/RTE_slice:more_people:ind/accuracy=9.57e-01] RTE_slice:BASE:ind:[RTE_train/RTE_slice:BASE:ind/loss=8.56e-04, RTE_valid/RTE_slice:BASE:ind/accuracy=1.00e+00] RTE_slice:BASE:pred:[RTE_train/RTE_slice:BASE:pred/loss=5.96e-02, RTE_valid/RTE_slice:BASE:pred/accuracy=5.85e-01] RTE_slice:more_people:pred:[RTE_train/RTE_slice:more_people:pred/loss=3.97e-02, RTE_valid/RTE_slice:more_people:pred/accuracy=1.67e-01] model:[train/all/loss=1.05e-01, train/all/lr=5.00e-05]\n",
      "[20.41 epo]: RTE:[RTE_train/RTE_gold/loss=4.77e-01, RTE_valid/RTE_gold/accuracy=5.56e-01] RTE_slice:dash_semicolon:ind:[RTE_train/RTE_slice:dash_semicolon:ind/loss=1.23e-02, RTE_valid/RTE_slice:dash_semicolon:ind/accuracy=1.00e+00] RTE_slice:dash_semicolon:pred:[RTE_train/RTE_slice:dash_semicolon:pred/loss=7.97e-02, RTE_valid/RTE_slice:dash_semicolon:pred/accuracy=5.17e-01] RTE_slice:more_people:ind:[RTE_train/RTE_slice:more_people:ind/loss=2.49e-02, RTE_valid/RTE_slice:more_people:ind/accuracy=9.57e-01] RTE_slice:BASE:ind:[RTE_train/RTE_slice:BASE:ind/loss=8.84e-04, RTE_valid/RTE_slice:BASE:ind/accuracy=1.00e+00] RTE_slice:BASE:pred:[RTE_train/RTE_slice:BASE:pred/loss=7.34e-02, RTE_valid/RTE_slice:BASE:pred/accuracy=5.56e-01] RTE_slice:more_people:pred:[RTE_train/RTE_slice:more_people:pred/loss=1.71e-02, RTE_valid/RTE_slice:more_people:pred/accuracy=4.17e-01] model:[train/all/loss=1.14e-01, train/all/lr=5.00e-05]\n",
      "[20.51 epo]: RTE:[RTE_train/RTE_gold/loss=4.67e-01, RTE_valid/RTE_gold/accuracy=6.06e-01] RTE_slice:dash_semicolon:ind:[RTE_train/RTE_slice:dash_semicolon:ind/loss=8.46e-03, RTE_valid/RTE_slice:dash_semicolon:ind/accuracy=9.96e-01] RTE_slice:more_people:ind:[RTE_train/RTE_slice:more_people:ind/loss=1.91e-02, RTE_valid/RTE_slice:more_people:ind/accuracy=9.57e-01] RTE_slice:BASE:ind:[RTE_train/RTE_slice:BASE:ind/loss=8.12e-04, RTE_valid/RTE_slice:BASE:ind/accuracy=1.00e+00] RTE_slice:BASE:pred:[RTE_train/RTE_slice:BASE:pred/loss=6.47e-02, RTE_valid/RTE_slice:BASE:pred/accuracy=6.10e-01] RTE_slice:dash_semicolon:pred:[RTE_train/RTE_slice:dash_semicolon:pred/loss=4.85e-02, RTE_valid/RTE_slice:dash_semicolon:pred/accuracy=5.52e-01] RTE_slice:more_people:pred:[RTE_train/RTE_slice:more_people:pred/loss=1.05e-02, RTE_valid/RTE_slice:more_people:pred/accuracy=3.33e-01] model:[train/all/loss=1.07e-01, train/all/lr=5.00e-05]\n",
      "[20.62 epo]: RTE:[RTE_train/RTE_gold/loss=4.47e-01, RTE_valid/RTE_gold/accuracy=6.28e-01] RTE_slice:dash_semicolon:ind:[RTE_train/RTE_slice:dash_semicolon:ind/loss=8.87e-03, RTE_valid/RTE_slice:dash_semicolon:ind/accuracy=1.00e+00] RTE_slice:dash_semicolon:pred:[RTE_train/RTE_slice:dash_semicolon:pred/loss=7.64e-02, RTE_valid/RTE_slice:dash_semicolon:pred/accuracy=5.95e-01] RTE_slice:more_people:ind:[RTE_train/RTE_slice:more_people:ind/loss=1.11e-02, RTE_valid/RTE_slice:more_people:ind/accuracy=9.57e-01] RTE_slice:BASE:ind:[RTE_train/RTE_slice:BASE:ind/loss=6.01e-04, RTE_valid/RTE_slice:BASE:ind/accuracy=1.00e+00] RTE_slice:BASE:pred:[RTE_train/RTE_slice:BASE:pred/loss=5.37e-02, RTE_valid/RTE_slice:BASE:pred/accuracy=6.25e-01] RTE_slice:more_people:pred:[RTE_train/RTE_slice:more_people:pred/loss=5.66e-03, RTE_valid/RTE_slice:more_people:pred/accuracy=3.33e-01] model:[train/all/loss=1.02e-01, train/all/lr=5.00e-05]\n",
      "[20.72 epo]: RTE:[RTE_train/RTE_gold/loss=4.73e-01, RTE_valid/RTE_gold/accuracy=6.32e-01] RTE_slice:dash_semicolon:ind:[RTE_train/RTE_slice:dash_semicolon:ind/loss=8.35e-03, RTE_valid/RTE_slice:dash_semicolon:ind/accuracy=1.00e+00] RTE_slice:dash_semicolon:pred:[RTE_train/RTE_slice:dash_semicolon:pred/loss=6.77e-02, RTE_valid/RTE_slice:dash_semicolon:pred/accuracy=5.69e-01] RTE_slice:more_people:ind:[RTE_train/RTE_slice:more_people:ind/loss=1.83e-02, RTE_valid/RTE_slice:more_people:ind/accuracy=9.57e-01] RTE_slice:BASE:ind:[RTE_train/RTE_slice:BASE:ind/loss=7.25e-04, RTE_valid/RTE_slice:BASE:ind/accuracy=1.00e+00] RTE_slice:BASE:pred:[RTE_train/RTE_slice:BASE:pred/loss=7.27e-02, RTE_valid/RTE_slice:BASE:pred/accuracy=6.28e-01] RTE_slice:more_people:pred:[RTE_train/RTE_slice:more_people:pred/loss=5.86e-03, RTE_valid/RTE_slice:more_people:pred/accuracy=3.33e-01] model:[train/all/loss=1.11e-01, train/all/lr=5.00e-05]\n",
      "[20.82 epo]: RTE:[RTE_train/RTE_gold/loss=4.47e-01, RTE_valid/RTE_gold/accuracy=6.25e-01] RTE_slice:dash_semicolon:ind:[RTE_train/RTE_slice:dash_semicolon:ind/loss=1.39e-02, RTE_valid/RTE_slice:dash_semicolon:ind/accuracy=1.00e+00] RTE_slice:dash_semicolon:pred:[RTE_train/RTE_slice:dash_semicolon:pred/loss=4.98e-02, RTE_valid/RTE_slice:dash_semicolon:pred/accuracy=5.69e-01] RTE_slice:more_people:ind:[RTE_train/RTE_slice:more_people:ind/loss=2.00e-02, RTE_valid/RTE_slice:more_people:ind/accuracy=9.57e-01] RTE_slice:BASE:ind:[RTE_train/RTE_slice:BASE:ind/loss=9.20e-04, RTE_valid/RTE_slice:BASE:ind/accuracy=1.00e+00] RTE_slice:BASE:pred:[RTE_train/RTE_slice:BASE:pred/loss=5.62e-02, RTE_valid/RTE_slice:BASE:pred/accuracy=6.25e-01] RTE_slice:more_people:pred:[RTE_train/RTE_slice:more_people:pred/loss=7.07e-03, RTE_valid/RTE_slice:more_people:pred/accuracy=3.33e-01] model:[train/all/loss=1.03e-01, train/all/lr=5.00e-05]\n",
      "[20.92 epo]: RTE:[RTE_train/RTE_gold/loss=4.64e-01, RTE_valid/RTE_gold/accuracy=6.10e-01] RTE_slice:dash_semicolon:ind:[RTE_train/RTE_slice:dash_semicolon:ind/loss=1.04e-02, RTE_valid/RTE_slice:dash_semicolon:ind/accuracy=1.00e+00] RTE_slice:dash_semicolon:pred:[RTE_train/RTE_slice:dash_semicolon:pred/loss=5.54e-02, RTE_valid/RTE_slice:dash_semicolon:pred/accuracy=5.86e-01] RTE_slice:more_people:ind:[RTE_train/RTE_slice:more_people:ind/loss=2.37e-02, RTE_valid/RTE_slice:more_people:ind/accuracy=9.57e-01] RTE_slice:more_people:pred:[RTE_train/RTE_slice:more_people:pred/loss=4.44e-03, RTE_valid/RTE_slice:more_people:pred/accuracy=4.17e-01] RTE_slice:BASE:ind:[RTE_train/RTE_slice:BASE:ind/loss=8.22e-04, RTE_valid/RTE_slice:BASE:ind/accuracy=1.00e+00] RTE_slice:BASE:pred:[RTE_train/RTE_slice:BASE:pred/loss=6.41e-02, RTE_valid/RTE_slice:BASE:pred/accuracy=6.10e-01] model:[train/all/loss=1.08e-01, train/all/lr=5.00e-05]\n"
     ]
    },
    {
     "name": "stdout",
     "output_type": "stream",
     "text": [
      "\n"
     ]
    },
    {
     "data": {
      "application/vnd.jupyter.widget-view+json": {
       "model_id": "b4bb948a7d2e44c0a98dc8f3fa43ae46",
       "version_major": 2,
       "version_minor": 0
      },
      "text/plain": [
       "HBox(children=(IntProgress(value=0, max=312), HTML(value='')))"
      ]
     },
     "metadata": {},
     "output_type": "display_data"
    },
    {
     "name": "stdout",
     "output_type": "stream",
     "text": [
      "[21.03 epo]: RTE:[RTE_train/RTE_gold/loss=4.54e-01, RTE_valid/RTE_gold/accuracy=6.25e-01] RTE_slice:dash_semicolon:ind:[RTE_train/RTE_slice:dash_semicolon:ind/loss=7.30e-03, RTE_valid/RTE_slice:dash_semicolon:ind/accuracy=9.96e-01] RTE_slice:dash_semicolon:pred:[RTE_train/RTE_slice:dash_semicolon:pred/loss=5.45e-02, RTE_valid/RTE_slice:dash_semicolon:pred/accuracy=5.78e-01] RTE_slice:more_people:ind:[RTE_train/RTE_slice:more_people:ind/loss=2.41e-02, RTE_valid/RTE_slice:more_people:ind/accuracy=9.57e-01] RTE_slice:more_people:pred:[RTE_train/RTE_slice:more_people:pred/loss=3.50e-02, RTE_valid/RTE_slice:more_people:pred/accuracy=5.00e-01] RTE_slice:BASE:ind:[RTE_train/RTE_slice:BASE:ind/loss=8.32e-04, RTE_valid/RTE_slice:BASE:ind/accuracy=1.00e+00] RTE_slice:BASE:pred:[RTE_train/RTE_slice:BASE:pred/loss=6.19e-02, RTE_valid/RTE_slice:BASE:pred/accuracy=6.14e-01] model:[train/all/loss=1.05e-01, train/all/lr=5.00e-05]\n",
      "[21.13 epo]: RTE:[RTE_train/RTE_gold/loss=4.78e-01, RTE_valid/RTE_gold/accuracy=6.32e-01] RTE_slice:dash_semicolon:ind:[RTE_train/RTE_slice:dash_semicolon:ind/loss=1.01e-02, RTE_valid/RTE_slice:dash_semicolon:ind/accuracy=1.00e+00] RTE_slice:dash_semicolon:pred:[RTE_train/RTE_slice:dash_semicolon:pred/loss=4.55e-02, RTE_valid/RTE_slice:dash_semicolon:pred/accuracy=5.69e-01] RTE_slice:more_people:ind:[RTE_train/RTE_slice:more_people:ind/loss=2.42e-02, RTE_valid/RTE_slice:more_people:ind/accuracy=9.57e-01] RTE_slice:more_people:pred:[RTE_train/RTE_slice:more_people:pred/loss=1.56e-02, RTE_valid/RTE_slice:more_people:pred/accuracy=4.17e-01] RTE_slice:BASE:ind:[RTE_train/RTE_slice:BASE:ind/loss=6.22e-04, RTE_valid/RTE_slice:BASE:ind/accuracy=1.00e+00] RTE_slice:BASE:pred:[RTE_train/RTE_slice:BASE:pred/loss=6.88e-02, RTE_valid/RTE_slice:BASE:pred/accuracy=6.39e-01] model:[train/all/loss=1.10e-01, train/all/lr=5.00e-05]\n",
      "[21.23 epo]: RTE:[RTE_train/RTE_gold/loss=4.24e-01, RTE_valid/RTE_gold/accuracy=6.21e-01] RTE_slice:dash_semicolon:ind:[RTE_train/RTE_slice:dash_semicolon:ind/loss=8.07e-03, RTE_valid/RTE_slice:dash_semicolon:ind/accuracy=1.00e+00] RTE_slice:dash_semicolon:pred:[RTE_train/RTE_slice:dash_semicolon:pred/loss=4.56e-02, RTE_valid/RTE_slice:dash_semicolon:pred/accuracy=5.43e-01] RTE_slice:more_people:ind:[RTE_train/RTE_slice:more_people:ind/loss=1.84e-02, RTE_valid/RTE_slice:more_people:ind/accuracy=9.57e-01] RTE_slice:BASE:ind:[RTE_train/RTE_slice:BASE:ind/loss=7.86e-04, RTE_valid/RTE_slice:BASE:ind/accuracy=1.00e+00] RTE_slice:BASE:pred:[RTE_train/RTE_slice:BASE:pred/loss=4.48e-02, RTE_valid/RTE_slice:BASE:pred/accuracy=6.21e-01] RTE_slice:more_people:pred:[RTE_train/RTE_slice:more_people:pred/loss=9.15e-02, RTE_valid/RTE_slice:more_people:pred/accuracy=4.17e-01] model:[train/all/loss=9.49e-02, train/all/lr=5.00e-05]\n",
      "[21.33 epo]: RTE:[RTE_train/RTE_gold/loss=4.08e-01, RTE_valid/RTE_gold/accuracy=6.35e-01] RTE_slice:dash_semicolon:ind:[RTE_train/RTE_slice:dash_semicolon:ind/loss=1.34e-02, RTE_valid/RTE_slice:dash_semicolon:ind/accuracy=1.00e+00] RTE_slice:dash_semicolon:pred:[RTE_train/RTE_slice:dash_semicolon:pred/loss=2.47e-02, RTE_valid/RTE_slice:dash_semicolon:pred/accuracy=5.86e-01] RTE_slice:more_people:ind:[RTE_train/RTE_slice:more_people:ind/loss=2.26e-02, RTE_valid/RTE_slice:more_people:ind/accuracy=9.57e-01] RTE_slice:BASE:ind:[RTE_train/RTE_slice:BASE:ind/loss=1.05e-03, RTE_valid/RTE_slice:BASE:ind/accuracy=1.00e+00] RTE_slice:BASE:pred:[RTE_train/RTE_slice:BASE:pred/loss=3.67e-02, RTE_valid/RTE_slice:BASE:pred/accuracy=6.35e-01] RTE_slice:more_people:pred:[RTE_train/RTE_slice:more_people:pred/loss=5.32e-03, RTE_valid/RTE_slice:more_people:pred/accuracy=4.17e-01] model:[train/all/loss=9.04e-02, train/all/lr=5.00e-05]\n",
      "[21.44 epo]: RTE:[RTE_train/RTE_gold/loss=4.38e-01, RTE_valid/RTE_gold/accuracy=6.06e-01] RTE_slice:dash_semicolon:ind:[RTE_train/RTE_slice:dash_semicolon:ind/loss=8.74e-03, RTE_valid/RTE_slice:dash_semicolon:ind/accuracy=1.00e+00] RTE_slice:dash_semicolon:pred:[RTE_train/RTE_slice:dash_semicolon:pred/loss=2.96e-02, RTE_valid/RTE_slice:dash_semicolon:pred/accuracy=5.34e-01] RTE_slice:more_people:ind:[RTE_train/RTE_slice:more_people:ind/loss=1.57e-02, RTE_valid/RTE_slice:more_people:ind/accuracy=9.57e-01] RTE_slice:BASE:ind:[RTE_train/RTE_slice:BASE:ind/loss=8.17e-04, RTE_valid/RTE_slice:BASE:ind/accuracy=1.00e+00] RTE_slice:BASE:pred:[RTE_train/RTE_slice:BASE:pred/loss=5.74e-02, RTE_valid/RTE_slice:BASE:pred/accuracy=6.03e-01] RTE_slice:more_people:pred:[RTE_train/RTE_slice:more_people:pred/loss=1.79e-02, RTE_valid/RTE_slice:more_people:pred/accuracy=4.17e-01] model:[train/all/loss=9.85e-02, train/all/lr=5.00e-05]\n",
      "[21.54 epo]: RTE:[RTE_train/RTE_gold/loss=4.42e-01, RTE_valid/RTE_gold/accuracy=6.25e-01] RTE_slice:dash_semicolon:ind:[RTE_train/RTE_slice:dash_semicolon:ind/loss=8.88e-03, RTE_valid/RTE_slice:dash_semicolon:ind/accuracy=1.00e+00] RTE_slice:dash_semicolon:pred:[RTE_train/RTE_slice:dash_semicolon:pred/loss=6.48e-02, RTE_valid/RTE_slice:dash_semicolon:pred/accuracy=5.69e-01] RTE_slice:more_people:ind:[RTE_train/RTE_slice:more_people:ind/loss=1.96e-02, RTE_valid/RTE_slice:more_people:ind/accuracy=9.57e-01] RTE_slice:more_people:pred:[RTE_train/RTE_slice:more_people:pred/loss=5.42e-03, RTE_valid/RTE_slice:more_people:pred/accuracy=4.17e-01] RTE_slice:BASE:ind:[RTE_train/RTE_slice:BASE:ind/loss=7.71e-04, RTE_valid/RTE_slice:BASE:ind/accuracy=1.00e+00] RTE_slice:BASE:pred:[RTE_train/RTE_slice:BASE:pred/loss=6.13e-02, RTE_valid/RTE_slice:BASE:pred/accuracy=6.17e-01] model:[train/all/loss=1.03e-01, train/all/lr=5.00e-05]\n",
      "[21.64 epo]: RTE:[RTE_train/RTE_gold/loss=4.49e-01, RTE_valid/RTE_gold/accuracy=6.32e-01] RTE_slice:dash_semicolon:ind:[RTE_train/RTE_slice:dash_semicolon:ind/loss=8.74e-03, RTE_valid/RTE_slice:dash_semicolon:ind/accuracy=1.00e+00] RTE_slice:dash_semicolon:pred:[RTE_train/RTE_slice:dash_semicolon:pred/loss=4.95e-02, RTE_valid/RTE_slice:dash_semicolon:pred/accuracy=6.03e-01] RTE_slice:more_people:ind:[RTE_train/RTE_slice:more_people:ind/loss=2.00e-02, RTE_valid/RTE_slice:more_people:ind/accuracy=9.57e-01] RTE_slice:BASE:ind:[RTE_train/RTE_slice:BASE:ind/loss=6.28e-04, RTE_valid/RTE_slice:BASE:ind/accuracy=1.00e+00] RTE_slice:BASE:pred:[RTE_train/RTE_slice:BASE:pred/loss=6.54e-02, RTE_valid/RTE_slice:BASE:pred/accuracy=6.25e-01] RTE_slice:more_people:pred:[RTE_train/RTE_slice:more_people:pred/loss=5.90e-03, RTE_valid/RTE_slice:more_people:pred/accuracy=3.33e-01] model:[train/all/loss=1.04e-01, train/all/lr=5.00e-05]\n",
      "[21.74 epo]: RTE:[RTE_train/RTE_gold/loss=4.44e-01, RTE_valid/RTE_gold/accuracy=6.28e-01] RTE_slice:dash_semicolon:ind:[RTE_train/RTE_slice:dash_semicolon:ind/loss=9.28e-03, RTE_valid/RTE_slice:dash_semicolon:ind/accuracy=1.00e+00] RTE_slice:dash_semicolon:pred:[RTE_train/RTE_slice:dash_semicolon:pred/loss=5.20e-02, RTE_valid/RTE_slice:dash_semicolon:pred/accuracy=5.95e-01] RTE_slice:more_people:ind:[RTE_train/RTE_slice:more_people:ind/loss=1.90e-02, RTE_valid/RTE_slice:more_people:ind/accuracy=9.57e-01] RTE_slice:BASE:ind:[RTE_train/RTE_slice:BASE:ind/loss=5.37e-04, RTE_valid/RTE_slice:BASE:ind/accuracy=1.00e+00] RTE_slice:BASE:pred:[RTE_train/RTE_slice:BASE:pred/loss=5.97e-02, RTE_valid/RTE_slice:BASE:pred/accuracy=6.28e-01] RTE_slice:more_people:pred:[RTE_train/RTE_slice:more_people:pred/loss=3.70e-03, RTE_valid/RTE_slice:more_people:pred/accuracy=3.33e-01] model:[train/all/loss=1.02e-01, train/all/lr=5.00e-05]\n",
      "[21.85 epo]: RTE:[RTE_train/RTE_gold/loss=4.28e-01, RTE_valid/RTE_gold/accuracy=5.85e-01] RTE_slice:dash_semicolon:ind:[RTE_train/RTE_slice:dash_semicolon:ind/loss=8.72e-03, RTE_valid/RTE_slice:dash_semicolon:ind/accuracy=1.00e+00] RTE_slice:dash_semicolon:pred:[RTE_train/RTE_slice:dash_semicolon:pred/loss=3.24e-02, RTE_valid/RTE_slice:dash_semicolon:pred/accuracy=5.69e-01] RTE_slice:more_people:ind:[RTE_train/RTE_slice:more_people:ind/loss=1.20e-02, RTE_valid/RTE_slice:more_people:ind/accuracy=9.57e-01] RTE_slice:BASE:ind:[RTE_train/RTE_slice:BASE:ind/loss=7.82e-04, RTE_valid/RTE_slice:BASE:ind/accuracy=1.00e+00] RTE_slice:BASE:pred:[RTE_train/RTE_slice:BASE:pred/loss=4.84e-02, RTE_valid/RTE_slice:BASE:pred/accuracy=5.85e-01] RTE_slice:more_people:pred:[RTE_train/RTE_slice:more_people:pred/loss=5.91e-03, RTE_valid/RTE_slice:more_people:pred/accuracy=4.17e-01] model:[train/all/loss=9.38e-02, train/all/lr=5.00e-05]\n"
     ]
    },
    {
     "name": "stdout",
     "output_type": "stream",
     "text": [
      "[21.95 epo]: RTE:[RTE_train/RTE_gold/loss=4.65e-01, RTE_valid/RTE_gold/accuracy=6.35e-01] RTE_slice:dash_semicolon:ind:[RTE_train/RTE_slice:dash_semicolon:ind/loss=9.28e-03, RTE_valid/RTE_slice:dash_semicolon:ind/accuracy=1.00e+00] RTE_slice:dash_semicolon:pred:[RTE_train/RTE_slice:dash_semicolon:pred/loss=7.78e-02, RTE_valid/RTE_slice:dash_semicolon:pred/accuracy=5.95e-01] RTE_slice:more_people:ind:[RTE_train/RTE_slice:more_people:ind/loss=2.24e-02, RTE_valid/RTE_slice:more_people:ind/accuracy=9.57e-01] RTE_slice:BASE:ind:[RTE_train/RTE_slice:BASE:ind/loss=9.23e-04, RTE_valid/RTE_slice:BASE:ind/accuracy=1.00e+00] RTE_slice:BASE:pred:[RTE_train/RTE_slice:BASE:pred/loss=7.72e-02, RTE_valid/RTE_slice:BASE:pred/accuracy=6.32e-01] RTE_slice:more_people:pred:[RTE_train/RTE_slice:more_people:pred/loss=9.91e-03, RTE_valid/RTE_slice:more_people:pred/accuracy=2.50e-01] model:[train/all/loss=1.12e-01, train/all/lr=5.00e-05]\n",
      "\n"
     ]
    },
    {
     "data": {
      "application/vnd.jupyter.widget-view+json": {
       "model_id": "7d7b55a5f35a48c4a4e279e7b7043363",
       "version_major": 2,
       "version_minor": 0
      },
      "text/plain": [
       "HBox(children=(IntProgress(value=0, max=312), HTML(value='')))"
      ]
     },
     "metadata": {},
     "output_type": "display_data"
    },
    {
     "name": "stdout",
     "output_type": "stream",
     "text": [
      "[22.05 epo]: RTE:[RTE_train/RTE_gold/loss=4.87e-01, RTE_valid/RTE_gold/accuracy=6.32e-01] RTE_slice:dash_semicolon:ind:[RTE_train/RTE_slice:dash_semicolon:ind/loss=7.29e-03, RTE_valid/RTE_slice:dash_semicolon:ind/accuracy=1.00e+00] RTE_slice:dash_semicolon:pred:[RTE_train/RTE_slice:dash_semicolon:pred/loss=8.80e-02, RTE_valid/RTE_slice:dash_semicolon:pred/accuracy=5.78e-01] RTE_slice:more_people:ind:[RTE_train/RTE_slice:more_people:ind/loss=1.52e-02, RTE_valid/RTE_slice:more_people:ind/accuracy=9.57e-01] RTE_slice:BASE:ind:[RTE_train/RTE_slice:BASE:ind/loss=5.34e-04, RTE_valid/RTE_slice:BASE:ind/accuracy=1.00e+00] RTE_slice:BASE:pred:[RTE_train/RTE_slice:BASE:pred/loss=7.97e-02, RTE_valid/RTE_slice:BASE:pred/accuracy=6.28e-01] RTE_slice:more_people:pred:[RTE_train/RTE_slice:more_people:pred/loss=8.24e-02, RTE_valid/RTE_slice:more_people:pred/accuracy=2.50e-01] model:[train/all/loss=1.15e-01, train/all/lr=5.00e-05]\n",
      "[22.15 epo]: RTE:[RTE_train/RTE_gold/loss=4.01e-01, RTE_valid/RTE_gold/accuracy=6.14e-01] RTE_slice:dash_semicolon:ind:[RTE_train/RTE_slice:dash_semicolon:ind/loss=1.38e-02, RTE_valid/RTE_slice:dash_semicolon:ind/accuracy=1.00e+00] RTE_slice:dash_semicolon:pred:[RTE_train/RTE_slice:dash_semicolon:pred/loss=3.38e-02, RTE_valid/RTE_slice:dash_semicolon:pred/accuracy=5.43e-01] RTE_slice:more_people:ind:[RTE_train/RTE_slice:more_people:ind/loss=2.16e-02, RTE_valid/RTE_slice:more_people:ind/accuracy=9.57e-01] RTE_slice:BASE:ind:[RTE_train/RTE_slice:BASE:ind/loss=8.28e-04, RTE_valid/RTE_slice:BASE:ind/accuracy=1.00e+00] RTE_slice:BASE:pred:[RTE_train/RTE_slice:BASE:pred/loss=3.98e-02, RTE_valid/RTE_slice:BASE:pred/accuracy=6.10e-01] RTE_slice:more_people:pred:[RTE_train/RTE_slice:more_people:pred/loss=5.42e-03, RTE_valid/RTE_slice:more_people:pred/accuracy=2.50e-01] model:[train/all/loss=9.00e-02, train/all/lr=5.00e-05]\n",
      "[22.26 epo]: RTE:[RTE_train/RTE_gold/loss=4.40e-01, RTE_valid/RTE_gold/accuracy=6.17e-01] RTE_slice:dash_semicolon:ind:[RTE_train/RTE_slice:dash_semicolon:ind/loss=9.31e-03, RTE_valid/RTE_slice:dash_semicolon:ind/accuracy=9.96e-01] RTE_slice:dash_semicolon:pred:[RTE_train/RTE_slice:dash_semicolon:pred/loss=6.52e-02, RTE_valid/RTE_slice:dash_semicolon:pred/accuracy=5.69e-01] RTE_slice:more_people:ind:[RTE_train/RTE_slice:more_people:ind/loss=2.64e-02, RTE_valid/RTE_slice:more_people:ind/accuracy=9.57e-01] RTE_slice:BASE:ind:[RTE_train/RTE_slice:BASE:ind/loss=1.12e-03, RTE_valid/RTE_slice:BASE:ind/accuracy=1.00e+00] RTE_slice:BASE:pred:[RTE_train/RTE_slice:BASE:pred/loss=6.58e-02, RTE_valid/RTE_slice:BASE:pred/accuracy=6.17e-01] RTE_slice:more_people:pred:[RTE_train/RTE_slice:more_people:pred/loss=7.05e-02, RTE_valid/RTE_slice:more_people:pred/accuracy=1.67e-01] model:[train/all/loss=1.05e-01, train/all/lr=5.00e-05]\n",
      "[22.36 epo]: RTE:[RTE_train/RTE_gold/loss=4.30e-01, RTE_valid/RTE_gold/accuracy=6.25e-01] RTE_slice:dash_semicolon:ind:[RTE_train/RTE_slice:dash_semicolon:ind/loss=9.46e-03, RTE_valid/RTE_slice:dash_semicolon:ind/accuracy=9.93e-01] RTE_slice:dash_semicolon:pred:[RTE_train/RTE_slice:dash_semicolon:pred/loss=6.58e-02, RTE_valid/RTE_slice:dash_semicolon:pred/accuracy=5.86e-01] RTE_slice:more_people:ind:[RTE_train/RTE_slice:more_people:ind/loss=7.31e-03, RTE_valid/RTE_slice:more_people:ind/accuracy=9.57e-01] RTE_slice:BASE:ind:[RTE_train/RTE_slice:BASE:ind/loss=5.78e-04, RTE_valid/RTE_slice:BASE:ind/accuracy=1.00e+00] RTE_slice:BASE:pred:[RTE_train/RTE_slice:BASE:pred/loss=5.55e-02, RTE_valid/RTE_slice:BASE:pred/accuracy=6.21e-01] RTE_slice:more_people:pred:[RTE_train/RTE_slice:more_people:pred/loss=6.88e-03, RTE_valid/RTE_slice:more_people:pred/accuracy=2.50e-01] model:[train/all/loss=9.80e-02, train/all/lr=5.00e-05]\n",
      "[22.46 epo]: RTE:[RTE_train/RTE_gold/loss=4.55e-01, RTE_valid/RTE_gold/accuracy=5.96e-01] RTE_slice:dash_semicolon:ind:[RTE_train/RTE_slice:dash_semicolon:ind/loss=1.38e-02, RTE_valid/RTE_slice:dash_semicolon:ind/accuracy=9.96e-01] RTE_slice:dash_semicolon:pred:[RTE_train/RTE_slice:dash_semicolon:pred/loss=3.22e-02, RTE_valid/RTE_slice:dash_semicolon:pred/accuracy=5.34e-01] RTE_slice:more_people:ind:[RTE_train/RTE_slice:more_people:ind/loss=1.82e-02, RTE_valid/RTE_slice:more_people:ind/accuracy=9.57e-01] RTE_slice:BASE:ind:[RTE_train/RTE_slice:BASE:ind/loss=5.75e-04, RTE_valid/RTE_slice:BASE:ind/accuracy=1.00e+00] RTE_slice:BASE:pred:[RTE_train/RTE_slice:BASE:pred/loss=7.01e-02, RTE_valid/RTE_slice:BASE:pred/accuracy=5.96e-01] RTE_slice:more_people:pred:[RTE_train/RTE_slice:more_people:pred/loss=5.92e-03, RTE_valid/RTE_slice:more_people:pred/accuracy=4.17e-01] model:[train/all/loss=1.05e-01, train/all/lr=5.00e-05]\n",
      "[22.56 epo]: RTE:[RTE_train/RTE_gold/loss=4.36e-01, RTE_valid/RTE_gold/accuracy=6.32e-01] RTE_slice:dash_semicolon:ind:[RTE_train/RTE_slice:dash_semicolon:ind/loss=1.31e-02, RTE_valid/RTE_slice:dash_semicolon:ind/accuracy=1.00e+00] RTE_slice:dash_semicolon:pred:[RTE_train/RTE_slice:dash_semicolon:pred/loss=5.82e-02, RTE_valid/RTE_slice:dash_semicolon:pred/accuracy=6.03e-01] RTE_slice:more_people:ind:[RTE_train/RTE_slice:more_people:ind/loss=1.42e-02, RTE_valid/RTE_slice:more_people:ind/accuracy=9.57e-01] RTE_slice:BASE:ind:[RTE_train/RTE_slice:BASE:ind/loss=8.20e-04, RTE_valid/RTE_slice:BASE:ind/accuracy=1.00e+00] RTE_slice:BASE:pred:[RTE_train/RTE_slice:BASE:pred/loss=5.91e-02, RTE_valid/RTE_slice:BASE:pred/accuracy=6.32e-01] RTE_slice:more_people:pred:[RTE_train/RTE_slice:more_people:pred/loss=7.23e-03, RTE_valid/RTE_slice:more_people:pred/accuracy=4.17e-01] model:[train/all/loss=1.01e-01, train/all/lr=5.00e-05]\n",
      "[22.67 epo]: RTE:[RTE_train/RTE_gold/loss=4.72e-01, RTE_valid/RTE_gold/accuracy=5.85e-01] RTE_slice:dash_semicolon:ind:[RTE_train/RTE_slice:dash_semicolon:ind/loss=1.15e-02, RTE_valid/RTE_slice:dash_semicolon:ind/accuracy=1.00e+00] RTE_slice:dash_semicolon:pred:[RTE_train/RTE_slice:dash_semicolon:pred/loss=6.27e-02, RTE_valid/RTE_slice:dash_semicolon:pred/accuracy=5.43e-01] RTE_slice:more_people:ind:[RTE_train/RTE_slice:more_people:ind/loss=2.39e-02, RTE_valid/RTE_slice:more_people:ind/accuracy=9.57e-01] RTE_slice:BASE:ind:[RTE_train/RTE_slice:BASE:ind/loss=1.23e-03, RTE_valid/RTE_slice:BASE:ind/accuracy=1.00e+00] RTE_slice:BASE:pred:[RTE_train/RTE_slice:BASE:pred/loss=7.91e-02, RTE_valid/RTE_slice:BASE:pred/accuracy=5.92e-01] RTE_slice:more_people:pred:[RTE_train/RTE_slice:more_people:pred/loss=2.33e-02, RTE_valid/RTE_slice:more_people:pred/accuracy=5.00e-01] model:[train/all/loss=1.13e-01, train/all/lr=5.00e-05]\n",
      "[22.77 epo]: RTE:[RTE_train/RTE_gold/loss=4.51e-01, RTE_valid/RTE_gold/accuracy=6.10e-01] RTE_slice:dash_semicolon:ind:[RTE_train/RTE_slice:dash_semicolon:ind/loss=8.03e-03, RTE_valid/RTE_slice:dash_semicolon:ind/accuracy=9.96e-01] RTE_slice:dash_semicolon:pred:[RTE_train/RTE_slice:dash_semicolon:pred/loss=6.70e-02, RTE_valid/RTE_slice:dash_semicolon:pred/accuracy=5.60e-01] RTE_slice:more_people:ind:[RTE_train/RTE_slice:more_people:ind/loss=2.68e-02, RTE_valid/RTE_slice:more_people:ind/accuracy=9.57e-01] RTE_slice:more_people:pred:[RTE_train/RTE_slice:more_people:pred/loss=1.23e-01, RTE_valid/RTE_slice:more_people:pred/accuracy=4.17e-01] RTE_slice:BASE:ind:[RTE_train/RTE_slice:BASE:ind/loss=9.80e-04, RTE_valid/RTE_slice:BASE:ind/accuracy=1.00e+00] RTE_slice:BASE:pred:[RTE_train/RTE_slice:BASE:pred/loss=6.41e-02, RTE_valid/RTE_slice:BASE:pred/accuracy=6.14e-01] model:[train/all/loss=1.07e-01, train/all/lr=5.00e-05]\n",
      "[22.87 epo]: RTE:[RTE_train/RTE_gold/loss=4.85e-01, RTE_valid/RTE_gold/accuracy=6.39e-01] RTE_slice:dash_semicolon:ind:[RTE_train/RTE_slice:dash_semicolon:ind/loss=1.24e-02, RTE_valid/RTE_slice:dash_semicolon:ind/accuracy=1.00e+00] RTE_slice:dash_semicolon:pred:[RTE_train/RTE_slice:dash_semicolon:pred/loss=5.80e-02, RTE_valid/RTE_slice:dash_semicolon:pred/accuracy=5.95e-01] RTE_slice:more_people:ind:[RTE_train/RTE_slice:more_people:ind/loss=2.43e-02, RTE_valid/RTE_slice:more_people:ind/accuracy=9.57e-01] RTE_slice:BASE:ind:[RTE_train/RTE_slice:BASE:ind/loss=6.48e-04, RTE_valid/RTE_slice:BASE:ind/accuracy=1.00e+00] RTE_slice:BASE:pred:[RTE_train/RTE_slice:BASE:pred/loss=8.17e-02, RTE_valid/RTE_slice:BASE:pred/accuracy=6.39e-01] RTE_slice:more_people:pred:[RTE_train/RTE_slice:more_people:pred/loss=7.43e-02, RTE_valid/RTE_slice:more_people:pred/accuracy=4.17e-01] model:[train/all/loss=1.16e-01, train/all/lr=5.00e-05]\n"
     ]
    },
    {
     "name": "stdout",
     "output_type": "stream",
     "text": [
      "[22.97 epo]: RTE:[RTE_train/RTE_gold/loss=4.57e-01, RTE_valid/RTE_gold/accuracy=6.14e-01] RTE_slice:dash_semicolon:ind:[RTE_train/RTE_slice:dash_semicolon:ind/loss=7.87e-03, RTE_valid/RTE_slice:dash_semicolon:ind/accuracy=9.96e-01] RTE_slice:dash_semicolon:pred:[RTE_train/RTE_slice:dash_semicolon:pred/loss=4.24e-02, RTE_valid/RTE_slice:dash_semicolon:pred/accuracy=6.03e-01] RTE_slice:more_people:ind:[RTE_train/RTE_slice:more_people:ind/loss=2.16e-02, RTE_valid/RTE_slice:more_people:ind/accuracy=9.57e-01] RTE_slice:BASE:ind:[RTE_train/RTE_slice:BASE:ind/loss=7.84e-04, RTE_valid/RTE_slice:BASE:ind/accuracy=1.00e+00] RTE_slice:BASE:pred:[RTE_train/RTE_slice:BASE:pred/loss=6.61e-02, RTE_valid/RTE_slice:BASE:pred/accuracy=6.17e-01] RTE_slice:more_people:pred:[RTE_train/RTE_slice:more_people:pred/loss=7.39e-03, RTE_valid/RTE_slice:more_people:pred/accuracy=5.00e-01] model:[train/all/loss=1.05e-01, train/all/lr=5.00e-05]\n",
      "\n"
     ]
    },
    {
     "data": {
      "application/vnd.jupyter.widget-view+json": {
       "model_id": "6b50bd843ec5432c803290335f0beea8",
       "version_major": 2,
       "version_minor": 0
      },
      "text/plain": [
       "HBox(children=(IntProgress(value=0, max=312), HTML(value='')))"
      ]
     },
     "metadata": {},
     "output_type": "display_data"
    },
    {
     "name": "stdout",
     "output_type": "stream",
     "text": [
      "[23.08 epo]: RTE:[RTE_train/RTE_gold/loss=4.40e-01, RTE_valid/RTE_gold/accuracy=6.39e-01] RTE_slice:dash_semicolon:ind:[RTE_train/RTE_slice:dash_semicolon:ind/loss=9.05e-03, RTE_valid/RTE_slice:dash_semicolon:ind/accuracy=1.00e+00] RTE_slice:dash_semicolon:pred:[RTE_train/RTE_slice:dash_semicolon:pred/loss=4.55e-02, RTE_valid/RTE_slice:dash_semicolon:pred/accuracy=5.95e-01] RTE_slice:more_people:ind:[RTE_train/RTE_slice:more_people:ind/loss=2.28e-02, RTE_valid/RTE_slice:more_people:ind/accuracy=9.57e-01] RTE_slice:BASE:ind:[RTE_train/RTE_slice:BASE:ind/loss=9.41e-04, RTE_valid/RTE_slice:BASE:ind/accuracy=1.00e+00] RTE_slice:BASE:pred:[RTE_train/RTE_slice:BASE:pred/loss=5.85e-02, RTE_valid/RTE_slice:BASE:pred/accuracy=6.35e-01] RTE_slice:more_people:pred:[RTE_train/RTE_slice:more_people:pred/loss=1.03e-02, RTE_valid/RTE_slice:more_people:pred/accuracy=4.17e-01] model:[train/all/loss=1.01e-01, train/all/lr=5.00e-05]\n",
      "[23.18 epo]: RTE:[RTE_train/RTE_gold/loss=4.20e-01, RTE_valid/RTE_gold/accuracy=6.53e-01] RTE_slice:dash_semicolon:ind:[RTE_train/RTE_slice:dash_semicolon:ind/loss=1.31e-02, RTE_valid/RTE_slice:dash_semicolon:ind/accuracy=9.96e-01] RTE_slice:dash_semicolon:pred:[RTE_train/RTE_slice:dash_semicolon:pred/loss=5.50e-02, RTE_valid/RTE_slice:dash_semicolon:pred/accuracy=6.03e-01] RTE_slice:more_people:ind:[RTE_train/RTE_slice:more_people:ind/loss=2.20e-02, RTE_valid/RTE_slice:more_people:ind/accuracy=9.57e-01] RTE_slice:BASE:ind:[RTE_train/RTE_slice:BASE:ind/loss=8.41e-04, RTE_valid/RTE_slice:BASE:ind/accuracy=1.00e+00] RTE_slice:BASE:pred:[RTE_train/RTE_slice:BASE:pred/loss=5.41e-02, RTE_valid/RTE_slice:BASE:pred/accuracy=6.50e-01] RTE_slice:more_people:pred:[RTE_train/RTE_slice:more_people:pred/loss=8.71e-03, RTE_valid/RTE_slice:more_people:pred/accuracy=3.33e-01] model:[train/all/loss=9.75e-02, train/all/lr=5.00e-05]\n",
      "[23.28 epo]: RTE:[RTE_train/RTE_gold/loss=4.28e-01, RTE_valid/RTE_gold/accuracy=6.21e-01] RTE_slice:dash_semicolon:ind:[RTE_train/RTE_slice:dash_semicolon:ind/loss=1.05e-02, RTE_valid/RTE_slice:dash_semicolon:ind/accuracy=1.00e+00] RTE_slice:dash_semicolon:pred:[RTE_train/RTE_slice:dash_semicolon:pred/loss=5.42e-02, RTE_valid/RTE_slice:dash_semicolon:pred/accuracy=5.86e-01] RTE_slice:more_people:ind:[RTE_train/RTE_slice:more_people:ind/loss=2.03e-02, RTE_valid/RTE_slice:more_people:ind/accuracy=9.57e-01] RTE_slice:BASE:ind:[RTE_train/RTE_slice:BASE:ind/loss=5.74e-04, RTE_valid/RTE_slice:BASE:ind/accuracy=1.00e+00] RTE_slice:BASE:pred:[RTE_train/RTE_slice:BASE:pred/loss=5.80e-02, RTE_valid/RTE_slice:BASE:pred/accuracy=6.21e-01] RTE_slice:more_people:pred:[RTE_train/RTE_slice:more_people:pred/loss=1.40e-02, RTE_valid/RTE_slice:more_people:pred/accuracy=3.33e-01] model:[train/all/loss=9.95e-02, train/all/lr=5.00e-05]\n",
      "[23.38 epo]: RTE:[RTE_train/RTE_gold/loss=4.33e-01, RTE_valid/RTE_gold/accuracy=6.25e-01] RTE_slice:dash_semicolon:ind:[RTE_train/RTE_slice:dash_semicolon:ind/loss=1.68e-02, RTE_valid/RTE_slice:dash_semicolon:ind/accuracy=9.96e-01] RTE_slice:dash_semicolon:pred:[RTE_train/RTE_slice:dash_semicolon:pred/loss=2.92e-02, RTE_valid/RTE_slice:dash_semicolon:pred/accuracy=5.95e-01] RTE_slice:more_people:ind:[RTE_train/RTE_slice:more_people:ind/loss=2.26e-02, RTE_valid/RTE_slice:more_people:ind/accuracy=9.57e-01] RTE_slice:BASE:ind:[RTE_train/RTE_slice:BASE:ind/loss=7.79e-04, RTE_valid/RTE_slice:BASE:ind/accuracy=1.00e+00] RTE_slice:BASE:pred:[RTE_train/RTE_slice:BASE:pred/loss=5.74e-02, RTE_valid/RTE_slice:BASE:pred/accuracy=6.25e-01] RTE_slice:more_people:pred:[RTE_train/RTE_slice:more_people:pred/loss=7.25e-02, RTE_valid/RTE_slice:more_people:pred/accuracy=2.50e-01] model:[train/all/loss=1.01e-01, train/all/lr=5.00e-05]\n",
      "[23.49 epo]: RTE:[RTE_train/RTE_gold/loss=4.69e-01, RTE_valid/RTE_gold/accuracy=6.03e-01] RTE_slice:dash_semicolon:ind:[RTE_train/RTE_slice:dash_semicolon:ind/loss=1.16e-02, RTE_valid/RTE_slice:dash_semicolon:ind/accuracy=9.96e-01] RTE_slice:dash_semicolon:pred:[RTE_train/RTE_slice:dash_semicolon:pred/loss=8.54e-02, RTE_valid/RTE_slice:dash_semicolon:pred/accuracy=5.69e-01] RTE_slice:more_people:ind:[RTE_train/RTE_slice:more_people:ind/loss=1.43e-02, RTE_valid/RTE_slice:more_people:ind/accuracy=9.57e-01] RTE_slice:BASE:ind:[RTE_train/RTE_slice:BASE:ind/loss=8.31e-04, RTE_valid/RTE_slice:BASE:ind/accuracy=1.00e+00] RTE_slice:BASE:pred:[RTE_train/RTE_slice:BASE:pred/loss=8.09e-02, RTE_valid/RTE_slice:BASE:pred/accuracy=6.10e-01] RTE_slice:more_people:pred:[RTE_train/RTE_slice:more_people:pred/loss=4.29e-03, RTE_valid/RTE_slice:more_people:pred/accuracy=3.33e-01] model:[train/all/loss=1.13e-01, train/all/lr=5.00e-05]\n",
      "[23.59 epo]: RTE:[RTE_train/RTE_gold/loss=4.69e-01, RTE_valid/RTE_gold/accuracy=6.28e-01] RTE_slice:dash_semicolon:ind:[RTE_train/RTE_slice:dash_semicolon:ind/loss=1.08e-02, RTE_valid/RTE_slice:dash_semicolon:ind/accuracy=9.96e-01] RTE_slice:dash_semicolon:pred:[RTE_train/RTE_slice:dash_semicolon:pred/loss=7.83e-02, RTE_valid/RTE_slice:dash_semicolon:pred/accuracy=5.95e-01] RTE_slice:more_people:ind:[RTE_train/RTE_slice:more_people:ind/loss=2.18e-02, RTE_valid/RTE_slice:more_people:ind/accuracy=9.57e-01] RTE_slice:BASE:ind:[RTE_train/RTE_slice:BASE:ind/loss=6.59e-04, RTE_valid/RTE_slice:BASE:ind/accuracy=1.00e+00] RTE_slice:BASE:pred:[RTE_train/RTE_slice:BASE:pred/loss=7.74e-02, RTE_valid/RTE_slice:BASE:pred/accuracy=6.28e-01] RTE_slice:more_people:pred:[RTE_train/RTE_slice:more_people:pred/loss=6.73e-03, RTE_valid/RTE_slice:more_people:pred/accuracy=2.50e-01] model:[train/all/loss=1.12e-01, train/all/lr=5.00e-05]\n",
      "[23.69 epo]: RTE:[RTE_train/RTE_gold/loss=4.37e-01, RTE_valid/RTE_gold/accuracy=6.35e-01] RTE_slice:dash_semicolon:ind:[RTE_train/RTE_slice:dash_semicolon:ind/loss=1.01e-02, RTE_valid/RTE_slice:dash_semicolon:ind/accuracy=1.00e+00] RTE_slice:dash_semicolon:pred:[RTE_train/RTE_slice:dash_semicolon:pred/loss=4.47e-02, RTE_valid/RTE_slice:dash_semicolon:pred/accuracy=6.12e-01] RTE_slice:more_people:ind:[RTE_train/RTE_slice:more_people:ind/loss=1.85e-02, RTE_valid/RTE_slice:more_people:ind/accuracy=9.57e-01] RTE_slice:BASE:ind:[RTE_train/RTE_slice:BASE:ind/loss=6.17e-04, RTE_valid/RTE_slice:BASE:ind/accuracy=1.00e+00] RTE_slice:BASE:pred:[RTE_train/RTE_slice:BASE:pred/loss=5.96e-02, RTE_valid/RTE_slice:BASE:pred/accuracy=6.39e-01] RTE_slice:more_people:pred:[RTE_train/RTE_slice:more_people:pred/loss=1.49e-02, RTE_valid/RTE_slice:more_people:pred/accuracy=5.83e-01] model:[train/all/loss=9.99e-02, train/all/lr=5.00e-05]\n",
      "[23.79 epo]: RTE:[RTE_train/RTE_gold/loss=4.73e-01, RTE_valid/RTE_gold/accuracy=6.14e-01] RTE_slice:dash_semicolon:ind:[RTE_train/RTE_slice:dash_semicolon:ind/loss=9.23e-03, RTE_valid/RTE_slice:dash_semicolon:ind/accuracy=1.00e+00] RTE_slice:dash_semicolon:pred:[RTE_train/RTE_slice:dash_semicolon:pred/loss=5.30e-02, RTE_valid/RTE_slice:dash_semicolon:pred/accuracy=5.95e-01] RTE_slice:more_people:ind:[RTE_train/RTE_slice:more_people:ind/loss=1.50e-02, RTE_valid/RTE_slice:more_people:ind/accuracy=9.57e-01] RTE_slice:BASE:ind:[RTE_train/RTE_slice:BASE:ind/loss=6.02e-04, RTE_valid/RTE_slice:BASE:ind/accuracy=1.00e+00] RTE_slice:BASE:pred:[RTE_train/RTE_slice:BASE:pred/loss=7.51e-02, RTE_valid/RTE_slice:BASE:pred/accuracy=6.14e-01] RTE_slice:more_people:pred:[RTE_train/RTE_slice:more_people:pred/loss=3.82e-03, RTE_valid/RTE_slice:more_people:pred/accuracy=5.00e-01] model:[train/all/loss=1.09e-01, train/all/lr=5.00e-05]\n",
      "[23.90 epo]: RTE:[RTE_train/RTE_gold/loss=4.44e-01, RTE_valid/RTE_gold/accuracy=5.60e-01] RTE_slice:dash_semicolon:ind:[RTE_train/RTE_slice:dash_semicolon:ind/loss=8.71e-03, RTE_valid/RTE_slice:dash_semicolon:ind/accuracy=1.00e+00] RTE_slice:dash_semicolon:pred:[RTE_train/RTE_slice:dash_semicolon:pred/loss=6.02e-02, RTE_valid/RTE_slice:dash_semicolon:pred/accuracy=5.26e-01] RTE_slice:more_people:ind:[RTE_train/RTE_slice:more_people:ind/loss=1.85e-02, RTE_valid/RTE_slice:more_people:ind/accuracy=9.57e-01] RTE_slice:BASE:ind:[RTE_train/RTE_slice:BASE:ind/loss=8.31e-04, RTE_valid/RTE_slice:BASE:ind/accuracy=1.00e+00] RTE_slice:BASE:pred:[RTE_train/RTE_slice:BASE:pred/loss=6.51e-02, RTE_valid/RTE_slice:BASE:pred/accuracy=5.60e-01] RTE_slice:more_people:pred:[RTE_train/RTE_slice:more_people:pred/loss=2.10e-02, RTE_valid/RTE_slice:more_people:pred/accuracy=4.17e-01] model:[train/all/loss=1.04e-01, train/all/lr=5.00e-05]\n"
     ]
    },
    {
     "name": "stdout",
     "output_type": "stream",
     "text": [
      "[24.0 epo]: RTE:[RTE_train/RTE_gold/loss=4.24e-01, RTE_valid/RTE_gold/accuracy=5.99e-01] RTE_slice:dash_semicolon:ind:[RTE_train/RTE_slice:dash_semicolon:ind/loss=9.17e-03, RTE_valid/RTE_slice:dash_semicolon:ind/accuracy=9.96e-01] RTE_slice:dash_semicolon:pred:[RTE_train/RTE_slice:dash_semicolon:pred/loss=4.84e-02, RTE_valid/RTE_slice:dash_semicolon:pred/accuracy=5.69e-01] RTE_slice:more_people:ind:[RTE_train/RTE_slice:more_people:ind/loss=2.40e-02, RTE_valid/RTE_slice:more_people:ind/accuracy=9.57e-01] RTE_slice:BASE:ind:[RTE_train/RTE_slice:BASE:ind/loss=9.44e-04, RTE_valid/RTE_slice:BASE:ind/accuracy=1.00e+00] RTE_slice:BASE:pred:[RTE_train/RTE_slice:BASE:pred/loss=5.73e-02, RTE_valid/RTE_slice:BASE:pred/accuracy=6.06e-01] RTE_slice:more_people:pred:[RTE_train/RTE_slice:more_people:pred/loss=9.59e-02, RTE_valid/RTE_slice:more_people:pred/accuracy=4.17e-01] model:[train/all/loss=9.91e-02, train/all/lr=5.00e-05]\n",
      "\n"
     ]
    },
    {
     "data": {
      "application/vnd.jupyter.widget-view+json": {
       "model_id": "d4532b6fbd754fb1854712fd177eaf92",
       "version_major": 2,
       "version_minor": 0
      },
      "text/plain": [
       "HBox(children=(IntProgress(value=0, max=312), HTML(value='')))"
      ]
     },
     "metadata": {},
     "output_type": "display_data"
    },
    {
     "name": "stdout",
     "output_type": "stream",
     "text": [
      "[24.10 epo]: RTE:[RTE_train/RTE_gold/loss=4.45e-01, RTE_valid/RTE_gold/accuracy=6.06e-01] RTE_slice:dash_semicolon:ind:[RTE_train/RTE_slice:dash_semicolon:ind/loss=1.57e-02, RTE_valid/RTE_slice:dash_semicolon:ind/accuracy=9.96e-01] RTE_slice:dash_semicolon:pred:[RTE_train/RTE_slice:dash_semicolon:pred/loss=6.46e-02, RTE_valid/RTE_slice:dash_semicolon:pred/accuracy=5.95e-01] RTE_slice:more_people:ind:[RTE_train/RTE_slice:more_people:ind/loss=1.74e-02, RTE_valid/RTE_slice:more_people:ind/accuracy=9.57e-01] RTE_slice:BASE:ind:[RTE_train/RTE_slice:BASE:ind/loss=7.37e-04, RTE_valid/RTE_slice:BASE:ind/accuracy=1.00e+00] RTE_slice:BASE:pred:[RTE_train/RTE_slice:BASE:pred/loss=7.01e-02, RTE_valid/RTE_slice:BASE:pred/accuracy=6.03e-01] RTE_slice:more_people:pred:[RTE_train/RTE_slice:more_people:pred/loss=8.27e-03, RTE_valid/RTE_slice:more_people:pred/accuracy=5.00e-01] model:[train/all/loss=1.06e-01, train/all/lr=5.00e-05]\n",
      "[24.21 epo]: RTE:[RTE_train/RTE_gold/loss=4.33e-01, RTE_valid/RTE_gold/accuracy=6.28e-01] RTE_slice:dash_semicolon:ind:[RTE_train/RTE_slice:dash_semicolon:ind/loss=9.76e-03, RTE_valid/RTE_slice:dash_semicolon:ind/accuracy=9.96e-01] RTE_slice:dash_semicolon:pred:[RTE_train/RTE_slice:dash_semicolon:pred/loss=6.10e-02, RTE_valid/RTE_slice:dash_semicolon:pred/accuracy=6.03e-01] RTE_slice:more_people:ind:[RTE_train/RTE_slice:more_people:ind/loss=1.17e-02, RTE_valid/RTE_slice:more_people:ind/accuracy=9.57e-01] RTE_slice:BASE:ind:[RTE_train/RTE_slice:BASE:ind/loss=5.91e-04, RTE_valid/RTE_slice:BASE:ind/accuracy=1.00e+00] RTE_slice:BASE:pred:[RTE_train/RTE_slice:BASE:pred/loss=6.15e-02, RTE_valid/RTE_slice:BASE:pred/accuracy=6.25e-01] RTE_slice:more_people:pred:[RTE_train/RTE_slice:more_people:pred/loss=7.19e-03, RTE_valid/RTE_slice:more_people:pred/accuracy=3.33e-01] model:[train/all/loss=1.00e-01, train/all/lr=5.00e-05]\n",
      "[24.31 epo]: RTE:[RTE_train/RTE_gold/loss=3.95e-01, RTE_valid/RTE_gold/accuracy=6.21e-01] RTE_slice:dash_semicolon:ind:[RTE_train/RTE_slice:dash_semicolon:ind/loss=1.38e-02, RTE_valid/RTE_slice:dash_semicolon:ind/accuracy=9.96e-01] RTE_slice:dash_semicolon:pred:[RTE_train/RTE_slice:dash_semicolon:pred/loss=3.71e-02, RTE_valid/RTE_slice:dash_semicolon:pred/accuracy=6.03e-01] RTE_slice:more_people:ind:[RTE_train/RTE_slice:more_people:ind/loss=2.33e-02, RTE_valid/RTE_slice:more_people:ind/accuracy=9.57e-01] RTE_slice:BASE:ind:[RTE_train/RTE_slice:BASE:ind/loss=6.84e-04, RTE_valid/RTE_slice:BASE:ind/accuracy=1.00e+00] RTE_slice:BASE:pred:[RTE_train/RTE_slice:BASE:pred/loss=4.60e-02, RTE_valid/RTE_slice:BASE:pred/accuracy=6.21e-01] RTE_slice:more_people:pred:[RTE_train/RTE_slice:more_people:pred/loss=5.44e-02, RTE_valid/RTE_slice:more_people:pred/accuracy=5.00e-01] model:[train/all/loss=9.11e-02, train/all/lr=5.00e-05]\n",
      "[24.41 epo]: RTE:[RTE_train/RTE_gold/loss=4.39e-01, RTE_valid/RTE_gold/accuracy=6.06e-01] RTE_slice:dash_semicolon:ind:[RTE_train/RTE_slice:dash_semicolon:ind/loss=8.75e-03, RTE_valid/RTE_slice:dash_semicolon:ind/accuracy=1.00e+00] RTE_slice:dash_semicolon:pred:[RTE_train/RTE_slice:dash_semicolon:pred/loss=6.73e-02, RTE_valid/RTE_slice:dash_semicolon:pred/accuracy=5.86e-01] RTE_slice:more_people:ind:[RTE_train/RTE_slice:more_people:ind/loss=2.21e-02, RTE_valid/RTE_slice:more_people:ind/accuracy=9.57e-01] RTE_slice:BASE:ind:[RTE_train/RTE_slice:BASE:ind/loss=9.39e-04, RTE_valid/RTE_slice:BASE:ind/accuracy=1.00e+00] RTE_slice:BASE:pred:[RTE_train/RTE_slice:BASE:pred/loss=6.29e-02, RTE_valid/RTE_slice:BASE:pred/accuracy=6.03e-01] RTE_slice:more_people:pred:[RTE_train/RTE_slice:more_people:pred/loss=2.25e-02, RTE_valid/RTE_slice:more_people:pred/accuracy=8.33e-02] model:[train/all/loss=1.03e-01, train/all/lr=5.00e-05]\n",
      "[24.51 epo]: RTE:[RTE_train/RTE_gold/loss=4.11e-01, RTE_valid/RTE_gold/accuracy=5.96e-01] RTE_slice:dash_semicolon:ind:[RTE_train/RTE_slice:dash_semicolon:ind/loss=1.15e-02, RTE_valid/RTE_slice:dash_semicolon:ind/accuracy=1.00e+00] RTE_slice:dash_semicolon:pred:[RTE_train/RTE_slice:dash_semicolon:pred/loss=4.59e-02, RTE_valid/RTE_slice:dash_semicolon:pred/accuracy=5.34e-01] RTE_slice:more_people:ind:[RTE_train/RTE_slice:more_people:ind/loss=1.91e-02, RTE_valid/RTE_slice:more_people:ind/accuracy=9.57e-01] RTE_slice:BASE:ind:[RTE_train/RTE_slice:BASE:ind/loss=8.27e-04, RTE_valid/RTE_slice:BASE:ind/accuracy=1.00e+00] RTE_slice:BASE:pred:[RTE_train/RTE_slice:BASE:pred/loss=5.58e-02, RTE_valid/RTE_slice:BASE:pred/accuracy=5.92e-01] RTE_slice:more_people:pred:[RTE_train/RTE_slice:more_people:pred/loss=8.18e-03, RTE_valid/RTE_slice:more_people:pred/accuracy=1.67e-01] model:[train/all/loss=9.49e-02, train/all/lr=5.00e-05]\n",
      "[24.62 epo]: RTE:[RTE_train/RTE_gold/loss=4.43e-01, RTE_valid/RTE_gold/accuracy=6.03e-01] RTE_slice:dash_semicolon:ind:[RTE_train/RTE_slice:dash_semicolon:ind/loss=1.01e-02, RTE_valid/RTE_slice:dash_semicolon:ind/accuracy=1.00e+00] RTE_slice:dash_semicolon:pred:[RTE_train/RTE_slice:dash_semicolon:pred/loss=6.41e-02, RTE_valid/RTE_slice:dash_semicolon:pred/accuracy=5.69e-01] RTE_slice:more_people:ind:[RTE_train/RTE_slice:more_people:ind/loss=2.19e-02, RTE_valid/RTE_slice:more_people:ind/accuracy=9.57e-01] RTE_slice:BASE:ind:[RTE_train/RTE_slice:BASE:ind/loss=8.07e-04, RTE_valid/RTE_slice:BASE:ind/accuracy=1.00e+00] RTE_slice:BASE:pred:[RTE_train/RTE_slice:BASE:pred/loss=6.53e-02, RTE_valid/RTE_slice:BASE:pred/accuracy=6.10e-01] RTE_slice:more_people:pred:[RTE_train/RTE_slice:more_people:pred/loss=4.29e-03, RTE_valid/RTE_slice:more_people:pred/accuracy=2.50e-01] model:[train/all/loss=1.04e-01, train/all/lr=5.00e-05]\n",
      "[24.72 epo]: RTE:[RTE_train/RTE_gold/loss=4.67e-01, RTE_valid/RTE_gold/accuracy=6.14e-01] RTE_slice:dash_semicolon:ind:[RTE_train/RTE_slice:dash_semicolon:ind/loss=1.08e-02, RTE_valid/RTE_slice:dash_semicolon:ind/accuracy=1.00e+00] RTE_slice:dash_semicolon:pred:[RTE_train/RTE_slice:dash_semicolon:pred/loss=5.93e-02, RTE_valid/RTE_slice:dash_semicolon:pred/accuracy=5.60e-01] RTE_slice:more_people:ind:[RTE_train/RTE_slice:more_people:ind/loss=2.82e-02, RTE_valid/RTE_slice:more_people:ind/accuracy=9.57e-01] RTE_slice:BASE:ind:[RTE_train/RTE_slice:BASE:ind/loss=1.10e-03, RTE_valid/RTE_slice:BASE:ind/accuracy=1.00e+00] RTE_slice:BASE:pred:[RTE_train/RTE_slice:BASE:pred/loss=7.44e-02, RTE_valid/RTE_slice:BASE:pred/accuracy=6.10e-01] RTE_slice:more_people:pred:[RTE_train/RTE_slice:more_people:pred/loss=5.78e-02, RTE_valid/RTE_slice:more_people:pred/accuracy=1.67e-01] model:[train/all/loss=1.11e-01, train/all/lr=5.00e-05]\n",
      "[24.82 epo]: RTE:[RTE_train/RTE_gold/loss=4.53e-01, RTE_valid/RTE_gold/accuracy=6.03e-01] RTE_slice:dash_semicolon:ind:[RTE_train/RTE_slice:dash_semicolon:ind/loss=6.91e-03, RTE_valid/RTE_slice:dash_semicolon:ind/accuracy=1.00e+00] RTE_slice:dash_semicolon:pred:[RTE_train/RTE_slice:dash_semicolon:pred/loss=5.27e-02, RTE_valid/RTE_slice:dash_semicolon:pred/accuracy=5.69e-01] RTE_slice:more_people:ind:[RTE_train/RTE_slice:more_people:ind/loss=1.65e-02, RTE_valid/RTE_slice:more_people:ind/accuracy=9.57e-01] RTE_slice:BASE:ind:[RTE_train/RTE_slice:BASE:ind/loss=9.33e-04, RTE_valid/RTE_slice:BASE:ind/accuracy=1.00e+00] RTE_slice:BASE:pred:[RTE_train/RTE_slice:BASE:pred/loss=6.66e-02, RTE_valid/RTE_slice:BASE:pred/accuracy=5.99e-01] RTE_slice:more_people:pred:[RTE_train/RTE_slice:more_people:pred/loss=5.17e-03, RTE_valid/RTE_slice:more_people:pred/accuracy=8.33e-02] model:[train/all/loss=1.04e-01, train/all/lr=5.00e-05]\n",
      "[24.92 epo]: RTE:[RTE_train/RTE_gold/loss=4.69e-01, RTE_valid/RTE_gold/accuracy=5.85e-01] RTE_slice:dash_semicolon:ind:[RTE_train/RTE_slice:dash_semicolon:ind/loss=1.17e-02, RTE_valid/RTE_slice:dash_semicolon:ind/accuracy=1.00e+00] RTE_slice:dash_semicolon:pred:[RTE_train/RTE_slice:dash_semicolon:pred/loss=5.24e-02, RTE_valid/RTE_slice:dash_semicolon:pred/accuracy=5.86e-01] RTE_slice:more_people:ind:[RTE_train/RTE_slice:more_people:ind/loss=1.96e-02, RTE_valid/RTE_slice:more_people:ind/accuracy=9.57e-01] RTE_slice:BASE:ind:[RTE_train/RTE_slice:BASE:ind/loss=8.34e-04, RTE_valid/RTE_slice:BASE:ind/accuracy=1.00e+00] RTE_slice:BASE:pred:[RTE_train/RTE_slice:BASE:pred/loss=6.81e-02, RTE_valid/RTE_slice:BASE:pred/accuracy=5.88e-01] RTE_slice:more_people:pred:[RTE_train/RTE_slice:more_people:pred/loss=1.89e-02, RTE_valid/RTE_slice:more_people:pred/accuracy=3.33e-01] model:[train/all/loss=1.09e-01, train/all/lr=5.00e-05]\n"
     ]
    },
    {
     "name": "stdout",
     "output_type": "stream",
     "text": [
      "\n"
     ]
    },
    {
     "data": {
      "application/vnd.jupyter.widget-view+json": {
       "model_id": "02bd2974aaa54ddba3259805ba00ac50",
       "version_major": 2,
       "version_minor": 0
      },
      "text/plain": [
       "HBox(children=(IntProgress(value=0, max=312), HTML(value='')))"
      ]
     },
     "metadata": {},
     "output_type": "display_data"
    },
    {
     "name": "stdout",
     "output_type": "stream",
     "text": [
      "[25.03 epo]: RTE:[RTE_train/RTE_gold/loss=4.16e-01, RTE_valid/RTE_gold/accuracy=5.88e-01] RTE_slice:dash_semicolon:ind:[RTE_train/RTE_slice:dash_semicolon:ind/loss=1.19e-02, RTE_valid/RTE_slice:dash_semicolon:ind/accuracy=1.00e+00] RTE_slice:dash_semicolon:pred:[RTE_train/RTE_slice:dash_semicolon:pred/loss=3.74e-02, RTE_valid/RTE_slice:dash_semicolon:pred/accuracy=5.52e-01] RTE_slice:more_people:ind:[RTE_train/RTE_slice:more_people:ind/loss=1.80e-02, RTE_valid/RTE_slice:more_people:ind/accuracy=9.57e-01] RTE_slice:BASE:ind:[RTE_train/RTE_slice:BASE:ind/loss=9.86e-04, RTE_valid/RTE_slice:BASE:ind/accuracy=1.00e+00] RTE_slice:BASE:pred:[RTE_train/RTE_slice:BASE:pred/loss=5.35e-02, RTE_valid/RTE_slice:BASE:pred/accuracy=5.88e-01] RTE_slice:more_people:pred:[RTE_train/RTE_slice:more_people:pred/loss=4.93e-03, RTE_valid/RTE_slice:more_people:pred/accuracy=1.67e-01] model:[train/all/loss=9.50e-02, train/all/lr=5.00e-05]\n",
      "[25.13 epo]: RTE:[RTE_train/RTE_gold/loss=4.57e-01, RTE_valid/RTE_gold/accuracy=6.10e-01] RTE_slice:dash_semicolon:ind:[RTE_train/RTE_slice:dash_semicolon:ind/loss=1.83e-02, RTE_valid/RTE_slice:dash_semicolon:ind/accuracy=9.96e-01] RTE_slice:dash_semicolon:pred:[RTE_train/RTE_slice:dash_semicolon:pred/loss=8.43e-02, RTE_valid/RTE_slice:dash_semicolon:pred/accuracy=5.95e-01] RTE_slice:more_people:ind:[RTE_train/RTE_slice:more_people:ind/loss=2.44e-02, RTE_valid/RTE_slice:more_people:ind/accuracy=9.57e-01] RTE_slice:BASE:ind:[RTE_train/RTE_slice:BASE:ind/loss=1.03e-03, RTE_valid/RTE_slice:BASE:ind/accuracy=1.00e+00] RTE_slice:BASE:pred:[RTE_train/RTE_slice:BASE:pred/loss=7.23e-02, RTE_valid/RTE_slice:BASE:pred/accuracy=6.10e-01] RTE_slice:more_people:pred:[RTE_train/RTE_slice:more_people:pred/loss=6.96e-03, RTE_valid/RTE_slice:more_people:pred/accuracy=4.17e-01] model:[train/all/loss=1.12e-01, train/all/lr=5.00e-05]\n",
      "[25.23 epo]: RTE:[RTE_train/RTE_gold/loss=4.26e-01, RTE_valid/RTE_gold/accuracy=6.06e-01] RTE_slice:dash_semicolon:ind:[RTE_train/RTE_slice:dash_semicolon:ind/loss=1.43e-02, RTE_valid/RTE_slice:dash_semicolon:ind/accuracy=9.96e-01] RTE_slice:dash_semicolon:pred:[RTE_train/RTE_slice:dash_semicolon:pred/loss=3.70e-02, RTE_valid/RTE_slice:dash_semicolon:pred/accuracy=5.69e-01] RTE_slice:more_people:ind:[RTE_train/RTE_slice:more_people:ind/loss=2.01e-02, RTE_valid/RTE_slice:more_people:ind/accuracy=9.57e-01] RTE_slice:BASE:ind:[RTE_train/RTE_slice:BASE:ind/loss=1.07e-03, RTE_valid/RTE_slice:BASE:ind/accuracy=1.00e+00] RTE_slice:BASE:pred:[RTE_train/RTE_slice:BASE:pred/loss=5.64e-02, RTE_valid/RTE_slice:BASE:pred/accuracy=6.14e-01] RTE_slice:more_people:pred:[RTE_train/RTE_slice:more_people:pred/loss=6.67e-03, RTE_valid/RTE_slice:more_people:pred/accuracy=4.17e-01] model:[train/all/loss=9.80e-02, train/all/lr=5.00e-05]\n",
      "[25.33 epo]: RTE:[RTE_train/RTE_gold/loss=4.64e-01, RTE_valid/RTE_gold/accuracy=6.43e-01] RTE_slice:dash_semicolon:ind:[RTE_train/RTE_slice:dash_semicolon:ind/loss=1.36e-02, RTE_valid/RTE_slice:dash_semicolon:ind/accuracy=9.96e-01] RTE_slice:dash_semicolon:pred:[RTE_train/RTE_slice:dash_semicolon:pred/loss=4.58e-02, RTE_valid/RTE_slice:dash_semicolon:pred/accuracy=6.21e-01] RTE_slice:more_people:ind:[RTE_train/RTE_slice:more_people:ind/loss=2.70e-02, RTE_valid/RTE_slice:more_people:ind/accuracy=9.57e-01] RTE_slice:BASE:ind:[RTE_train/RTE_slice:BASE:ind/loss=7.81e-04, RTE_valid/RTE_slice:BASE:ind/accuracy=1.00e+00] RTE_slice:BASE:pred:[RTE_train/RTE_slice:BASE:pred/loss=7.45e-02, RTE_valid/RTE_slice:BASE:pred/accuracy=6.32e-01] RTE_slice:more_people:pred:[RTE_train/RTE_slice:more_people:pred/loss=4.00e-03, RTE_valid/RTE_slice:more_people:pred/accuracy=2.50e-01] model:[train/all/loss=1.10e-01, train/all/lr=5.00e-05]\n",
      "[25.44 epo]: RTE:[RTE_train/RTE_gold/loss=4.08e-01, RTE_valid/RTE_gold/accuracy=6.21e-01] RTE_slice:dash_semicolon:ind:[RTE_train/RTE_slice:dash_semicolon:ind/loss=1.08e-02, RTE_valid/RTE_slice:dash_semicolon:ind/accuracy=1.00e+00] RTE_slice:dash_semicolon:pred:[RTE_train/RTE_slice:dash_semicolon:pred/loss=3.82e-02, RTE_valid/RTE_slice:dash_semicolon:pred/accuracy=6.12e-01] RTE_slice:more_people:ind:[RTE_train/RTE_slice:more_people:ind/loss=1.73e-02, RTE_valid/RTE_slice:more_people:ind/accuracy=9.57e-01] RTE_slice:BASE:ind:[RTE_train/RTE_slice:BASE:ind/loss=1.27e-03, RTE_valid/RTE_slice:BASE:ind/accuracy=1.00e+00] RTE_slice:BASE:pred:[RTE_train/RTE_slice:BASE:pred/loss=4.98e-02, RTE_valid/RTE_slice:BASE:pred/accuracy=6.28e-01] RTE_slice:more_people:pred:[RTE_train/RTE_slice:more_people:pred/loss=4.40e-03, RTE_valid/RTE_slice:more_people:pred/accuracy=2.50e-01] model:[train/all/loss=9.30e-02, train/all/lr=5.00e-05]\n",
      "[25.54 epo]: RTE:[RTE_train/RTE_gold/loss=4.03e-01, RTE_valid/RTE_gold/accuracy=6.21e-01] RTE_slice:dash_semicolon:ind:[RTE_train/RTE_slice:dash_semicolon:ind/loss=1.80e-02, RTE_valid/RTE_slice:dash_semicolon:ind/accuracy=1.00e+00] RTE_slice:dash_semicolon:pred:[RTE_train/RTE_slice:dash_semicolon:pred/loss=4.18e-02, RTE_valid/RTE_slice:dash_semicolon:pred/accuracy=5.78e-01] RTE_slice:more_people:ind:[RTE_train/RTE_slice:more_people:ind/loss=2.67e-02, RTE_valid/RTE_slice:more_people:ind/accuracy=9.57e-01] RTE_slice:BASE:ind:[RTE_train/RTE_slice:BASE:ind/loss=1.23e-03, RTE_valid/RTE_slice:BASE:ind/accuracy=1.00e+00] RTE_slice:BASE:pred:[RTE_train/RTE_slice:BASE:pred/loss=4.70e-02, RTE_valid/RTE_slice:BASE:pred/accuracy=6.25e-01] RTE_slice:more_people:pred:[RTE_train/RTE_slice:more_people:pred/loss=1.42e-02, RTE_valid/RTE_slice:more_people:pred/accuracy=2.50e-01] model:[train/all/loss=9.42e-02, train/all/lr=5.00e-05]\n",
      "[25.64 epo]: RTE:[RTE_train/RTE_gold/loss=4.34e-01, RTE_valid/RTE_gold/accuracy=6.21e-01] RTE_slice:dash_semicolon:ind:[RTE_train/RTE_slice:dash_semicolon:ind/loss=2.04e-02, RTE_valid/RTE_slice:dash_semicolon:ind/accuracy=1.00e+00] RTE_slice:dash_semicolon:pred:[RTE_train/RTE_slice:dash_semicolon:pred/loss=5.84e-02, RTE_valid/RTE_slice:dash_semicolon:pred/accuracy=5.86e-01] RTE_slice:more_people:ind:[RTE_train/RTE_slice:more_people:ind/loss=2.13e-02, RTE_valid/RTE_slice:more_people:ind/accuracy=9.57e-01] RTE_slice:more_people:pred:[RTE_train/RTE_slice:more_people:pred/loss=1.40e-02, RTE_valid/RTE_slice:more_people:pred/accuracy=4.17e-01] RTE_slice:BASE:ind:[RTE_train/RTE_slice:BASE:ind/loss=9.08e-04, RTE_valid/RTE_slice:BASE:ind/accuracy=1.00e+00] RTE_slice:BASE:pred:[RTE_train/RTE_slice:BASE:pred/loss=6.30e-02, RTE_valid/RTE_slice:BASE:pred/accuracy=6.17e-01] model:[train/all/loss=1.04e-01, train/all/lr=5.00e-05]\n",
      "[25.74 epo]: RTE:[RTE_train/RTE_gold/loss=4.33e-01, RTE_valid/RTE_gold/accuracy=5.92e-01] RTE_slice:dash_semicolon:ind:[RTE_train/RTE_slice:dash_semicolon:ind/loss=1.11e-02, RTE_valid/RTE_slice:dash_semicolon:ind/accuracy=9.96e-01] RTE_slice:dash_semicolon:pred:[RTE_train/RTE_slice:dash_semicolon:pred/loss=8.24e-02, RTE_valid/RTE_slice:dash_semicolon:pred/accuracy=5.78e-01] RTE_slice:more_people:ind:[RTE_train/RTE_slice:more_people:ind/loss=1.08e-02, RTE_valid/RTE_slice:more_people:ind/accuracy=9.57e-01] RTE_slice:BASE:ind:[RTE_train/RTE_slice:BASE:ind/loss=6.93e-04, RTE_valid/RTE_slice:BASE:ind/accuracy=1.00e+00] RTE_slice:BASE:pred:[RTE_train/RTE_slice:BASE:pred/loss=6.35e-02, RTE_valid/RTE_slice:BASE:pred/accuracy=5.92e-01] RTE_slice:more_people:pred:[RTE_train/RTE_slice:more_people:pred/loss=5.97e-03, RTE_valid/RTE_slice:more_people:pred/accuracy=4.17e-01] model:[train/all/loss=1.02e-01, train/all/lr=5.00e-05]\n",
      "[25.85 epo]: RTE:[RTE_train/RTE_gold/loss=4.17e-01, RTE_valid/RTE_gold/accuracy=6.06e-01] RTE_slice:dash_semicolon:ind:[RTE_train/RTE_slice:dash_semicolon:ind/loss=1.27e-02, RTE_valid/RTE_slice:dash_semicolon:ind/accuracy=1.00e+00] RTE_slice:dash_semicolon:pred:[RTE_train/RTE_slice:dash_semicolon:pred/loss=4.04e-02, RTE_valid/RTE_slice:dash_semicolon:pred/accuracy=5.95e-01] RTE_slice:more_people:ind:[RTE_train/RTE_slice:more_people:ind/loss=1.63e-02, RTE_valid/RTE_slice:more_people:ind/accuracy=9.57e-01] RTE_slice:more_people:pred:[RTE_train/RTE_slice:more_people:pred/loss=9.02e-03, RTE_valid/RTE_slice:more_people:pred/accuracy=4.17e-01] RTE_slice:BASE:ind:[RTE_train/RTE_slice:BASE:ind/loss=6.87e-04, RTE_valid/RTE_slice:BASE:ind/accuracy=1.00e+00] RTE_slice:BASE:pred:[RTE_train/RTE_slice:BASE:pred/loss=5.18e-02, RTE_valid/RTE_slice:BASE:pred/accuracy=6.10e-01] model:[train/all/loss=9.51e-02, train/all/lr=5.00e-05]\n"
     ]
    },
    {
     "name": "stdout",
     "output_type": "stream",
     "text": [
      "[25.95 epo]: RTE:[RTE_train/RTE_gold/loss=4.49e-01, RTE_valid/RTE_gold/accuracy=5.88e-01] RTE_slice:dash_semicolon:ind:[RTE_train/RTE_slice:dash_semicolon:ind/loss=1.68e-02, RTE_valid/RTE_slice:dash_semicolon:ind/accuracy=9.96e-01] RTE_slice:dash_semicolon:pred:[RTE_train/RTE_slice:dash_semicolon:pred/loss=4.45e-02, RTE_valid/RTE_slice:dash_semicolon:pred/accuracy=5.86e-01] RTE_slice:more_people:ind:[RTE_train/RTE_slice:more_people:ind/loss=1.72e-02, RTE_valid/RTE_slice:more_people:ind/accuracy=9.57e-01] RTE_slice:more_people:pred:[RTE_train/RTE_slice:more_people:pred/loss=1.60e-02, RTE_valid/RTE_slice:more_people:pred/accuracy=4.17e-01] RTE_slice:BASE:ind:[RTE_train/RTE_slice:BASE:ind/loss=9.33e-04, RTE_valid/RTE_slice:BASE:ind/accuracy=1.00e+00] RTE_slice:BASE:pred:[RTE_train/RTE_slice:BASE:pred/loss=6.76e-02, RTE_valid/RTE_slice:BASE:pred/accuracy=5.92e-01] model:[train/all/loss=1.05e-01, train/all/lr=5.00e-05]\n",
      "\n"
     ]
    },
    {
     "data": {
      "application/vnd.jupyter.widget-view+json": {
       "model_id": "b2bb892d7eb64992ba6c6d975cc33220",
       "version_major": 2,
       "version_minor": 0
      },
      "text/plain": [
       "HBox(children=(IntProgress(value=0, max=312), HTML(value='')))"
      ]
     },
     "metadata": {},
     "output_type": "display_data"
    },
    {
     "name": "stdout",
     "output_type": "stream",
     "text": [
      "[26.05 epo]: RTE:[RTE_train/RTE_gold/loss=4.21e-01, RTE_valid/RTE_gold/accuracy=5.74e-01] RTE_slice:dash_semicolon:ind:[RTE_train/RTE_slice:dash_semicolon:ind/loss=2.18e-02, RTE_valid/RTE_slice:dash_semicolon:ind/accuracy=1.00e+00] RTE_slice:dash_semicolon:pred:[RTE_train/RTE_slice:dash_semicolon:pred/loss=3.99e-02, RTE_valid/RTE_slice:dash_semicolon:pred/accuracy=5.43e-01] RTE_slice:more_people:ind:[RTE_train/RTE_slice:more_people:ind/loss=2.51e-02, RTE_valid/RTE_slice:more_people:ind/accuracy=9.57e-01] RTE_slice:BASE:ind:[RTE_train/RTE_slice:BASE:ind/loss=8.26e-04, RTE_valid/RTE_slice:BASE:ind/accuracy=1.00e+00] RTE_slice:BASE:pred:[RTE_train/RTE_slice:BASE:pred/loss=5.65e-02, RTE_valid/RTE_slice:BASE:pred/accuracy=5.74e-01] RTE_slice:more_people:pred:[RTE_train/RTE_slice:more_people:pred/loss=8.42e-03, RTE_valid/RTE_slice:more_people:pred/accuracy=4.17e-01] model:[train/all/loss=9.96e-02, train/all/lr=5.00e-05]\n",
      "[26.15 epo]: RTE:[RTE_train/RTE_gold/loss=4.34e-01, RTE_valid/RTE_gold/accuracy=5.74e-01] RTE_slice:dash_semicolon:ind:[RTE_train/RTE_slice:dash_semicolon:ind/loss=1.43e-02, RTE_valid/RTE_slice:dash_semicolon:ind/accuracy=1.00e+00] RTE_slice:dash_semicolon:pred:[RTE_train/RTE_slice:dash_semicolon:pred/loss=5.84e-02, RTE_valid/RTE_slice:dash_semicolon:pred/accuracy=5.60e-01] RTE_slice:more_people:ind:[RTE_train/RTE_slice:more_people:ind/loss=1.76e-02, RTE_valid/RTE_slice:more_people:ind/accuracy=9.57e-01] RTE_slice:BASE:ind:[RTE_train/RTE_slice:BASE:ind/loss=1.23e-03, RTE_valid/RTE_slice:BASE:ind/accuracy=1.00e+00] RTE_slice:BASE:pred:[RTE_train/RTE_slice:BASE:pred/loss=6.18e-02, RTE_valid/RTE_slice:BASE:pred/accuracy=5.81e-01] RTE_slice:more_people:pred:[RTE_train/RTE_slice:more_people:pred/loss=4.22e-03, RTE_valid/RTE_slice:more_people:pred/accuracy=3.33e-01] model:[train/all/loss=1.02e-01, train/all/lr=5.00e-05]\n",
      "[26.26 epo]: RTE:[RTE_train/RTE_gold/loss=4.35e-01, RTE_valid/RTE_gold/accuracy=5.85e-01] RTE_slice:dash_semicolon:ind:[RTE_train/RTE_slice:dash_semicolon:ind/loss=1.51e-02, RTE_valid/RTE_slice:dash_semicolon:ind/accuracy=9.96e-01] RTE_slice:dash_semicolon:pred:[RTE_train/RTE_slice:dash_semicolon:pred/loss=5.49e-02, RTE_valid/RTE_slice:dash_semicolon:pred/accuracy=5.34e-01] RTE_slice:more_people:ind:[RTE_train/RTE_slice:more_people:ind/loss=2.16e-02, RTE_valid/RTE_slice:more_people:ind/accuracy=9.57e-01] RTE_slice:BASE:ind:[RTE_train/RTE_slice:BASE:ind/loss=1.14e-03, RTE_valid/RTE_slice:BASE:ind/accuracy=1.00e+00] RTE_slice:BASE:pred:[RTE_train/RTE_slice:BASE:pred/loss=6.33e-02, RTE_valid/RTE_slice:BASE:pred/accuracy=5.88e-01] RTE_slice:more_people:pred:[RTE_train/RTE_slice:more_people:pred/loss=5.79e-03, RTE_valid/RTE_slice:more_people:pred/accuracy=3.33e-01] model:[train/all/loss=1.03e-01, train/all/lr=5.00e-05]\n",
      "[26.36 epo]: RTE:[RTE_train/RTE_gold/loss=4.08e-01, RTE_valid/RTE_gold/accuracy=6.06e-01] RTE_slice:dash_semicolon:ind:[RTE_train/RTE_slice:dash_semicolon:ind/loss=1.72e-02, RTE_valid/RTE_slice:dash_semicolon:ind/accuracy=9.96e-01] RTE_slice:dash_semicolon:pred:[RTE_train/RTE_slice:dash_semicolon:pred/loss=3.74e-02, RTE_valid/RTE_slice:dash_semicolon:pred/accuracy=5.60e-01] RTE_slice:more_people:ind:[RTE_train/RTE_slice:more_people:ind/loss=2.13e-02, RTE_valid/RTE_slice:more_people:ind/accuracy=9.57e-01] RTE_slice:BASE:ind:[RTE_train/RTE_slice:BASE:ind/loss=1.14e-03, RTE_valid/RTE_slice:BASE:ind/accuracy=1.00e+00] RTE_slice:BASE:pred:[RTE_train/RTE_slice:BASE:pred/loss=5.05e-02, RTE_valid/RTE_slice:BASE:pred/accuracy=6.06e-01] RTE_slice:more_people:pred:[RTE_train/RTE_slice:more_people:pred/loss=1.88e-02, RTE_valid/RTE_slice:more_people:pred/accuracy=1.67e-01] model:[train/all/loss=9.43e-02, train/all/lr=5.00e-05]\n",
      "[26.46 epo]: RTE:[RTE_train/RTE_gold/loss=4.26e-01, RTE_valid/RTE_gold/accuracy=5.67e-01] RTE_slice:dash_semicolon:ind:[RTE_train/RTE_slice:dash_semicolon:ind/loss=1.42e-02, RTE_valid/RTE_slice:dash_semicolon:ind/accuracy=9.82e-01] RTE_slice:dash_semicolon:pred:[RTE_train/RTE_slice:dash_semicolon:pred/loss=7.72e-02, RTE_valid/RTE_slice:dash_semicolon:pred/accuracy=5.09e-01] RTE_slice:more_people:ind:[RTE_train/RTE_slice:more_people:ind/loss=1.75e-02, RTE_valid/RTE_slice:more_people:ind/accuracy=9.57e-01] RTE_slice:BASE:ind:[RTE_train/RTE_slice:BASE:ind/loss=1.04e-03, RTE_valid/RTE_slice:BASE:ind/accuracy=1.00e+00] RTE_slice:BASE:pred:[RTE_train/RTE_slice:BASE:pred/loss=6.36e-02, RTE_valid/RTE_slice:BASE:pred/accuracy=5.63e-01] RTE_slice:more_people:pred:[RTE_train/RTE_slice:more_people:pred/loss=1.29e-01, RTE_valid/RTE_slice:more_people:pred/accuracy=8.33e-02] model:[train/all/loss=1.02e-01, train/all/lr=5.00e-05]\n",
      "[26.56 epo]: RTE:[RTE_train/RTE_gold/loss=4.40e-01, RTE_valid/RTE_gold/accuracy=6.14e-01] RTE_slice:dash_semicolon:ind:[RTE_train/RTE_slice:dash_semicolon:ind/loss=2.04e-02, RTE_valid/RTE_slice:dash_semicolon:ind/accuracy=1.00e+00] RTE_slice:dash_semicolon:pred:[RTE_train/RTE_slice:dash_semicolon:pred/loss=7.22e-02, RTE_valid/RTE_slice:dash_semicolon:pred/accuracy=5.78e-01] RTE_slice:more_people:ind:[RTE_train/RTE_slice:more_people:ind/loss=2.52e-02, RTE_valid/RTE_slice:more_people:ind/accuracy=9.57e-01] RTE_slice:BASE:ind:[RTE_train/RTE_slice:BASE:ind/loss=9.57e-04, RTE_valid/RTE_slice:BASE:ind/accuracy=1.00e+00] RTE_slice:BASE:pred:[RTE_train/RTE_slice:BASE:pred/loss=6.84e-02, RTE_valid/RTE_slice:BASE:pred/accuracy=6.14e-01] RTE_slice:more_people:pred:[RTE_train/RTE_slice:more_people:pred/loss=1.39e-02, RTE_valid/RTE_slice:more_people:pred/accuracy=3.33e-01] model:[train/all/loss=1.08e-01, train/all/lr=5.00e-05]\n",
      "[26.67 epo]: RTE:[RTE_train/RTE_gold/loss=4.57e-01, RTE_valid/RTE_gold/accuracy=5.99e-01] RTE_slice:dash_semicolon:ind:[RTE_train/RTE_slice:dash_semicolon:ind/loss=1.06e-02, RTE_valid/RTE_slice:dash_semicolon:ind/accuracy=1.00e+00] RTE_slice:dash_semicolon:pred:[RTE_train/RTE_slice:dash_semicolon:pred/loss=1.04e-01, RTE_valid/RTE_slice:dash_semicolon:pred/accuracy=5.78e-01] RTE_slice:more_people:ind:[RTE_train/RTE_slice:more_people:ind/loss=1.22e-02, RTE_valid/RTE_slice:more_people:ind/accuracy=9.57e-01] RTE_slice:BASE:ind:[RTE_train/RTE_slice:BASE:ind/loss=8.56e-04, RTE_valid/RTE_slice:BASE:ind/accuracy=1.00e+00] RTE_slice:BASE:pred:[RTE_train/RTE_slice:BASE:pred/loss=7.22e-02, RTE_valid/RTE_slice:BASE:pred/accuracy=6.03e-01] RTE_slice:more_people:pred:[RTE_train/RTE_slice:more_people:pred/loss=6.17e-03, RTE_valid/RTE_slice:more_people:pred/accuracy=3.33e-01] model:[train/all/loss=1.10e-01, train/all/lr=5.00e-05]\n",
      "[26.77 epo]: RTE:[RTE_train/RTE_gold/loss=4.26e-01, RTE_valid/RTE_gold/accuracy=6.03e-01] RTE_slice:dash_semicolon:ind:[RTE_train/RTE_slice:dash_semicolon:ind/loss=1.01e-02, RTE_valid/RTE_slice:dash_semicolon:ind/accuracy=1.00e+00] RTE_slice:dash_semicolon:pred:[RTE_train/RTE_slice:dash_semicolon:pred/loss=5.18e-02, RTE_valid/RTE_slice:dash_semicolon:pred/accuracy=5.69e-01] RTE_slice:more_people:ind:[RTE_train/RTE_slice:more_people:ind/loss=2.21e-02, RTE_valid/RTE_slice:more_people:ind/accuracy=9.57e-01] RTE_slice:more_people:pred:[RTE_train/RTE_slice:more_people:pred/loss=6.86e-03, RTE_valid/RTE_slice:more_people:pred/accuracy=5.00e-01] RTE_slice:BASE:ind:[RTE_train/RTE_slice:BASE:ind/loss=1.04e-03, RTE_valid/RTE_slice:BASE:ind/accuracy=1.00e+00] RTE_slice:BASE:pred:[RTE_train/RTE_slice:BASE:pred/loss=5.98e-02, RTE_valid/RTE_slice:BASE:pred/accuracy=6.10e-01] model:[train/all/loss=9.97e-02, train/all/lr=5.00e-05]\n",
      "[26.87 epo]: RTE:[RTE_train/RTE_gold/loss=4.34e-01, RTE_valid/RTE_gold/accuracy=5.81e-01] RTE_slice:dash_semicolon:ind:[RTE_train/RTE_slice:dash_semicolon:ind/loss=1.62e-02, RTE_valid/RTE_slice:dash_semicolon:ind/accuracy=9.82e-01] RTE_slice:dash_semicolon:pred:[RTE_train/RTE_slice:dash_semicolon:pred/loss=7.85e-02, RTE_valid/RTE_slice:dash_semicolon:pred/accuracy=5.60e-01] RTE_slice:more_people:ind:[RTE_train/RTE_slice:more_people:ind/loss=2.79e-02, RTE_valid/RTE_slice:more_people:ind/accuracy=9.57e-01] RTE_slice:more_people:pred:[RTE_train/RTE_slice:more_people:pred/loss=1.48e-02, RTE_valid/RTE_slice:more_people:pred/accuracy=3.33e-01] RTE_slice:BASE:ind:[RTE_train/RTE_slice:BASE:ind/loss=8.24e-04, RTE_valid/RTE_slice:BASE:ind/accuracy=1.00e+00] RTE_slice:BASE:pred:[RTE_train/RTE_slice:BASE:pred/loss=6.27e-02, RTE_valid/RTE_slice:BASE:pred/accuracy=5.81e-01] model:[train/all/loss=1.05e-01, train/all/lr=5.00e-05]\n"
     ]
    },
    {
     "name": "stdout",
     "output_type": "stream",
     "text": [
      "[26.97 epo]: RTE:[RTE_train/RTE_gold/loss=4.42e-01, RTE_valid/RTE_gold/accuracy=5.96e-01] RTE_slice:dash_semicolon:ind:[RTE_train/RTE_slice:dash_semicolon:ind/loss=1.37e-02, RTE_valid/RTE_slice:dash_semicolon:ind/accuracy=9.96e-01] RTE_slice:dash_semicolon:pred:[RTE_train/RTE_slice:dash_semicolon:pred/loss=4.45e-02, RTE_valid/RTE_slice:dash_semicolon:pred/accuracy=5.43e-01] RTE_slice:more_people:ind:[RTE_train/RTE_slice:more_people:ind/loss=1.46e-02, RTE_valid/RTE_slice:more_people:ind/accuracy=9.57e-01] RTE_slice:BASE:ind:[RTE_train/RTE_slice:BASE:ind/loss=1.12e-03, RTE_valid/RTE_slice:BASE:ind/accuracy=1.00e+00] RTE_slice:BASE:pred:[RTE_train/RTE_slice:BASE:pred/loss=7.00e-02, RTE_valid/RTE_slice:BASE:pred/accuracy=5.92e-01] RTE_slice:more_people:pred:[RTE_train/RTE_slice:more_people:pred/loss=4.04e-03, RTE_valid/RTE_slice:more_people:pred/accuracy=5.00e-01] model:[train/all/loss=1.03e-01, train/all/lr=5.00e-05]\n",
      "\n"
     ]
    },
    {
     "data": {
      "application/vnd.jupyter.widget-view+json": {
       "model_id": "6dd4dee9c6574f219d519b0108aa26dc",
       "version_major": 2,
       "version_minor": 0
      },
      "text/plain": [
       "HBox(children=(IntProgress(value=0, max=312), HTML(value='')))"
      ]
     },
     "metadata": {},
     "output_type": "display_data"
    },
    {
     "name": "stdout",
     "output_type": "stream",
     "text": [
      "[27.08 epo]: RTE:[RTE_train/RTE_gold/loss=4.18e-01, RTE_valid/RTE_gold/accuracy=5.96e-01] RTE_slice:dash_semicolon:ind:[RTE_train/RTE_slice:dash_semicolon:ind/loss=1.03e-02, RTE_valid/RTE_slice:dash_semicolon:ind/accuracy=9.93e-01] RTE_slice:dash_semicolon:pred:[RTE_train/RTE_slice:dash_semicolon:pred/loss=3.24e-02, RTE_valid/RTE_slice:dash_semicolon:pred/accuracy=5.43e-01] RTE_slice:more_people:ind:[RTE_train/RTE_slice:more_people:ind/loss=1.11e-02, RTE_valid/RTE_slice:more_people:ind/accuracy=9.57e-01] RTE_slice:more_people:pred:[RTE_train/RTE_slice:more_people:pred/loss=1.44e-02, RTE_valid/RTE_slice:more_people:pred/accuracy=2.50e-01] RTE_slice:BASE:ind:[RTE_train/RTE_slice:BASE:ind/loss=1.05e-03, RTE_valid/RTE_slice:BASE:ind/accuracy=1.00e+00] RTE_slice:BASE:pred:[RTE_train/RTE_slice:BASE:pred/loss=5.75e-02, RTE_valid/RTE_slice:BASE:pred/accuracy=5.96e-01] model:[train/all/loss=9.50e-02, train/all/lr=5.00e-05]\n",
      "[27.18 epo]: RTE:[RTE_train/RTE_gold/loss=4.37e-01, RTE_valid/RTE_gold/accuracy=5.78e-01] RTE_slice:dash_semicolon:ind:[RTE_train/RTE_slice:dash_semicolon:ind/loss=1.77e-02, RTE_valid/RTE_slice:dash_semicolon:ind/accuracy=1.00e+00] RTE_slice:dash_semicolon:pred:[RTE_train/RTE_slice:dash_semicolon:pred/loss=4.41e-02, RTE_valid/RTE_slice:dash_semicolon:pred/accuracy=5.52e-01] RTE_slice:more_people:ind:[RTE_train/RTE_slice:more_people:ind/loss=2.02e-02, RTE_valid/RTE_slice:more_people:ind/accuracy=9.57e-01] RTE_slice:BASE:ind:[RTE_train/RTE_slice:BASE:ind/loss=8.86e-04, RTE_valid/RTE_slice:BASE:ind/accuracy=1.00e+00] RTE_slice:BASE:pred:[RTE_train/RTE_slice:BASE:pred/loss=6.75e-02, RTE_valid/RTE_slice:BASE:pred/accuracy=5.78e-01] RTE_slice:more_people:pred:[RTE_train/RTE_slice:more_people:pred/loss=3.41e-03, RTE_valid/RTE_slice:more_people:pred/accuracy=3.33e-01] model:[train/all/loss=1.03e-01, train/all/lr=5.00e-05]\n",
      "[27.28 epo]: RTE:[RTE_train/RTE_gold/loss=4.40e-01, RTE_valid/RTE_gold/accuracy=5.99e-01] RTE_slice:dash_semicolon:ind:[RTE_train/RTE_slice:dash_semicolon:ind/loss=1.13e-02, RTE_valid/RTE_slice:dash_semicolon:ind/accuracy=1.00e+00] RTE_slice:dash_semicolon:pred:[RTE_train/RTE_slice:dash_semicolon:pred/loss=6.39e-02, RTE_valid/RTE_slice:dash_semicolon:pred/accuracy=5.60e-01] RTE_slice:more_people:ind:[RTE_train/RTE_slice:more_people:ind/loss=1.85e-02, RTE_valid/RTE_slice:more_people:ind/accuracy=9.57e-01] RTE_slice:BASE:ind:[RTE_train/RTE_slice:BASE:ind/loss=9.92e-04, RTE_valid/RTE_slice:BASE:ind/accuracy=1.00e+00] RTE_slice:BASE:pred:[RTE_train/RTE_slice:BASE:pred/loss=6.79e-02, RTE_valid/RTE_slice:BASE:pred/accuracy=5.92e-01] RTE_slice:more_people:pred:[RTE_train/RTE_slice:more_people:pred/loss=8.91e-02, RTE_valid/RTE_slice:more_people:pred/accuracy=5.00e-01] model:[train/all/loss=1.05e-01, train/all/lr=5.00e-05]\n",
      "[27.38 epo]: RTE:[RTE_train/RTE_gold/loss=4.24e-01, RTE_valid/RTE_gold/accuracy=5.81e-01] RTE_slice:dash_semicolon:ind:[RTE_train/RTE_slice:dash_semicolon:ind/loss=1.53e-02, RTE_valid/RTE_slice:dash_semicolon:ind/accuracy=1.00e+00] RTE_slice:dash_semicolon:pred:[RTE_train/RTE_slice:dash_semicolon:pred/loss=5.12e-02, RTE_valid/RTE_slice:dash_semicolon:pred/accuracy=5.34e-01] RTE_slice:more_people:ind:[RTE_train/RTE_slice:more_people:ind/loss=2.36e-02, RTE_valid/RTE_slice:more_people:ind/accuracy=9.57e-01] RTE_slice:BASE:ind:[RTE_train/RTE_slice:BASE:ind/loss=7.34e-04, RTE_valid/RTE_slice:BASE:ind/accuracy=1.00e+00] RTE_slice:BASE:pred:[RTE_train/RTE_slice:BASE:pred/loss=5.53e-02, RTE_valid/RTE_slice:BASE:pred/accuracy=5.81e-01] RTE_slice:more_people:pred:[RTE_train/RTE_slice:more_people:pred/loss=6.70e-02, RTE_valid/RTE_slice:more_people:pred/accuracy=3.33e-01] model:[train/all/loss=9.94e-02, train/all/lr=5.00e-05]\n",
      "[27.49 epo]: RTE:[RTE_train/RTE_gold/loss=4.26e-01, RTE_valid/RTE_gold/accuracy=5.81e-01] RTE_slice:dash_semicolon:ind:[RTE_train/RTE_slice:dash_semicolon:ind/loss=1.47e-02, RTE_valid/RTE_slice:dash_semicolon:ind/accuracy=9.96e-01] RTE_slice:dash_semicolon:pred:[RTE_train/RTE_slice:dash_semicolon:pred/loss=4.71e-02, RTE_valid/RTE_slice:dash_semicolon:pred/accuracy=5.78e-01] RTE_slice:more_people:ind:[RTE_train/RTE_slice:more_people:ind/loss=1.88e-02, RTE_valid/RTE_slice:more_people:ind/accuracy=9.57e-01] RTE_slice:more_people:pred:[RTE_train/RTE_slice:more_people:pred/loss=1.03e-01, RTE_valid/RTE_slice:more_people:pred/accuracy=1.67e-01] RTE_slice:BASE:ind:[RTE_train/RTE_slice:BASE:ind/loss=9.30e-04, RTE_valid/RTE_slice:BASE:ind/accuracy=1.00e+00] RTE_slice:BASE:pred:[RTE_train/RTE_slice:BASE:pred/loss=5.82e-02, RTE_valid/RTE_slice:BASE:pred/accuracy=5.85e-01] model:[train/all/loss=9.98e-02, train/all/lr=5.00e-05]\n",
      "[27.59 epo]: RTE:[RTE_train/RTE_gold/loss=4.09e-01, RTE_valid/RTE_gold/accuracy=6.17e-01] RTE_slice:dash_semicolon:ind:[RTE_train/RTE_slice:dash_semicolon:ind/loss=1.42e-02, RTE_valid/RTE_slice:dash_semicolon:ind/accuracy=9.96e-01] RTE_slice:dash_semicolon:pred:[RTE_train/RTE_slice:dash_semicolon:pred/loss=4.21e-02, RTE_valid/RTE_slice:dash_semicolon:pred/accuracy=6.12e-01] RTE_slice:more_people:ind:[RTE_train/RTE_slice:more_people:ind/loss=1.91e-02, RTE_valid/RTE_slice:more_people:ind/accuracy=9.57e-01] RTE_slice:BASE:ind:[RTE_train/RTE_slice:BASE:ind/loss=8.74e-04, RTE_valid/RTE_slice:BASE:ind/accuracy=1.00e+00] RTE_slice:BASE:pred:[RTE_train/RTE_slice:BASE:pred/loss=5.37e-02, RTE_valid/RTE_slice:BASE:pred/accuracy=6.17e-01] RTE_slice:more_people:pred:[RTE_train/RTE_slice:more_people:pred/loss=3.92e-03, RTE_valid/RTE_slice:more_people:pred/accuracy=1.67e-01] model:[train/all/loss=9.45e-02, train/all/lr=5.00e-05]\n",
      "[27.69 epo]: RTE:[RTE_train/RTE_gold/loss=4.41e-01, RTE_valid/RTE_gold/accuracy=6.35e-01] RTE_slice:dash_semicolon:ind:[RTE_train/RTE_slice:dash_semicolon:ind/loss=1.58e-02, RTE_valid/RTE_slice:dash_semicolon:ind/accuracy=9.96e-01] RTE_slice:dash_semicolon:pred:[RTE_train/RTE_slice:dash_semicolon:pred/loss=5.22e-02, RTE_valid/RTE_slice:dash_semicolon:pred/accuracy=5.86e-01] RTE_slice:more_people:ind:[RTE_train/RTE_slice:more_people:ind/loss=2.22e-02, RTE_valid/RTE_slice:more_people:ind/accuracy=9.57e-01] RTE_slice:BASE:ind:[RTE_train/RTE_slice:BASE:ind/loss=7.41e-04, RTE_valid/RTE_slice:BASE:ind/accuracy=1.00e+00] RTE_slice:BASE:pred:[RTE_train/RTE_slice:BASE:pred/loss=7.14e-02, RTE_valid/RTE_slice:BASE:pred/accuracy=6.39e-01] RTE_slice:more_people:pred:[RTE_train/RTE_slice:more_people:pred/loss=5.40e-03, RTE_valid/RTE_slice:more_people:pred/accuracy=2.50e-01] model:[train/all/loss=1.06e-01, train/all/lr=5.00e-05]\n",
      "[27.79 epo]: RTE:[RTE_train/RTE_gold/loss=4.80e-01, RTE_valid/RTE_gold/accuracy=6.46e-01] RTE_slice:dash_semicolon:ind:[RTE_train/RTE_slice:dash_semicolon:ind/loss=1.31e-02, RTE_valid/RTE_slice:dash_semicolon:ind/accuracy=9.96e-01] RTE_slice:dash_semicolon:pred:[RTE_train/RTE_slice:dash_semicolon:pred/loss=9.62e-02, RTE_valid/RTE_slice:dash_semicolon:pred/accuracy=6.03e-01] RTE_slice:more_people:ind:[RTE_train/RTE_slice:more_people:ind/loss=2.89e-02, RTE_valid/RTE_slice:more_people:ind/accuracy=9.57e-01] RTE_slice:BASE:ind:[RTE_train/RTE_slice:BASE:ind/loss=6.17e-04, RTE_valid/RTE_slice:BASE:ind/accuracy=1.00e+00] RTE_slice:BASE:pred:[RTE_train/RTE_slice:BASE:pred/loss=8.62e-02, RTE_valid/RTE_slice:BASE:pred/accuracy=6.43e-01] RTE_slice:more_people:pred:[RTE_train/RTE_slice:more_people:pred/loss=9.14e-02, RTE_valid/RTE_slice:more_people:pred/accuracy=2.50e-01] model:[train/all/loss=1.20e-01, train/all/lr=5.00e-05]\n",
      "[27.90 epo]: RTE:[RTE_train/RTE_gold/loss=4.48e-01, RTE_valid/RTE_gold/accuracy=6.17e-01] RTE_slice:dash_semicolon:ind:[RTE_train/RTE_slice:dash_semicolon:ind/loss=1.23e-02, RTE_valid/RTE_slice:dash_semicolon:ind/accuracy=9.93e-01] RTE_slice:dash_semicolon:pred:[RTE_train/RTE_slice:dash_semicolon:pred/loss=6.02e-02, RTE_valid/RTE_slice:dash_semicolon:pred/accuracy=6.12e-01] RTE_slice:more_people:ind:[RTE_train/RTE_slice:more_people:ind/loss=2.24e-02, RTE_valid/RTE_slice:more_people:ind/accuracy=9.57e-01] RTE_slice:more_people:pred:[RTE_train/RTE_slice:more_people:pred/loss=8.93e-03, RTE_valid/RTE_slice:more_people:pred/accuracy=3.33e-01] RTE_slice:BASE:ind:[RTE_train/RTE_slice:BASE:ind/loss=7.18e-04, RTE_valid/RTE_slice:BASE:ind/accuracy=1.00e+00] RTE_slice:BASE:pred:[RTE_train/RTE_slice:BASE:pred/loss=6.56e-02, RTE_valid/RTE_slice:BASE:pred/accuracy=6.10e-01] model:[train/all/loss=1.06e-01, train/all/lr=5.00e-05]\n"
     ]
    },
    {
     "name": "stdout",
     "output_type": "stream",
     "text": [
      "[28.0 epo]: RTE:[RTE_train/RTE_gold/loss=3.88e-01, RTE_valid/RTE_gold/accuracy=6.32e-01] RTE_slice:dash_semicolon:ind:[RTE_train/RTE_slice:dash_semicolon:ind/loss=1.34e-02, RTE_valid/RTE_slice:dash_semicolon:ind/accuracy=9.96e-01] RTE_slice:dash_semicolon:pred:[RTE_train/RTE_slice:dash_semicolon:pred/loss=4.60e-02, RTE_valid/RTE_slice:dash_semicolon:pred/accuracy=6.21e-01] RTE_slice:more_people:ind:[RTE_train/RTE_slice:more_people:ind/loss=1.83e-02, RTE_valid/RTE_slice:more_people:ind/accuracy=9.57e-01] RTE_slice:BASE:ind:[RTE_train/RTE_slice:BASE:ind/loss=9.90e-04, RTE_valid/RTE_slice:BASE:ind/accuracy=1.00e+00] RTE_slice:BASE:pred:[RTE_train/RTE_slice:BASE:pred/loss=4.68e-02, RTE_valid/RTE_slice:BASE:pred/accuracy=6.32e-01] RTE_slice:more_people:pred:[RTE_train/RTE_slice:more_people:pred/loss=1.27e-01, RTE_valid/RTE_slice:more_people:pred/accuracy=5.00e-01] model:[train/all/loss=8.99e-02, train/all/lr=5.00e-05]\n",
      "\n"
     ]
    },
    {
     "data": {
      "application/vnd.jupyter.widget-view+json": {
       "model_id": "4d2b5a0e80314896b6f77ff56bb25009",
       "version_major": 2,
       "version_minor": 0
      },
      "text/plain": [
       "HBox(children=(IntProgress(value=0, max=312), HTML(value='')))"
      ]
     },
     "metadata": {},
     "output_type": "display_data"
    },
    {
     "name": "stdout",
     "output_type": "stream",
     "text": [
      "[28.10 epo]: RTE:[RTE_train/RTE_gold/loss=4.15e-01, RTE_valid/RTE_gold/accuracy=6.06e-01] RTE_slice:dash_semicolon:ind:[RTE_train/RTE_slice:dash_semicolon:ind/loss=1.99e-02, RTE_valid/RTE_slice:dash_semicolon:ind/accuracy=9.96e-01] RTE_slice:dash_semicolon:pred:[RTE_train/RTE_slice:dash_semicolon:pred/loss=4.58e-02, RTE_valid/RTE_slice:dash_semicolon:pred/accuracy=6.12e-01] RTE_slice:more_people:ind:[RTE_train/RTE_slice:more_people:ind/loss=1.82e-02, RTE_valid/RTE_slice:more_people:ind/accuracy=9.57e-01] RTE_slice:BASE:ind:[RTE_train/RTE_slice:BASE:ind/loss=1.07e-03, RTE_valid/RTE_slice:BASE:ind/accuracy=1.00e+00] RTE_slice:BASE:pred:[RTE_train/RTE_slice:BASE:pred/loss=6.08e-02, RTE_valid/RTE_slice:BASE:pred/accuracy=6.06e-01] RTE_slice:more_people:pred:[RTE_train/RTE_slice:more_people:pred/loss=3.78e-03, RTE_valid/RTE_slice:more_people:pred/accuracy=2.50e-01] model:[train/all/loss=9.82e-02, train/all/lr=5.00e-05]\n",
      "[28.21 epo]: RTE:[RTE_train/RTE_gold/loss=4.52e-01, RTE_valid/RTE_gold/accuracy=6.10e-01] RTE_slice:dash_semicolon:ind:[RTE_train/RTE_slice:dash_semicolon:ind/loss=1.59e-02, RTE_valid/RTE_slice:dash_semicolon:ind/accuracy=9.96e-01] RTE_slice:dash_semicolon:pred:[RTE_train/RTE_slice:dash_semicolon:pred/loss=4.24e-02, RTE_valid/RTE_slice:dash_semicolon:pred/accuracy=5.69e-01] RTE_slice:more_people:ind:[RTE_train/RTE_slice:more_people:ind/loss=1.87e-02, RTE_valid/RTE_slice:more_people:ind/accuracy=9.57e-01] RTE_slice:BASE:ind:[RTE_train/RTE_slice:BASE:ind/loss=7.09e-04, RTE_valid/RTE_slice:BASE:ind/accuracy=1.00e+00] RTE_slice:BASE:pred:[RTE_train/RTE_slice:BASE:pred/loss=7.21e-02, RTE_valid/RTE_slice:BASE:pred/accuracy=6.10e-01] RTE_slice:more_people:pred:[RTE_train/RTE_slice:more_people:pred/loss=9.76e-03, RTE_valid/RTE_slice:more_people:pred/accuracy=4.17e-01] model:[train/all/loss=1.07e-01, train/all/lr=5.00e-05]\n",
      "[28.31 epo]: RTE:[RTE_train/RTE_gold/loss=4.23e-01, RTE_valid/RTE_gold/accuracy=5.96e-01] RTE_slice:dash_semicolon:ind:[RTE_train/RTE_slice:dash_semicolon:ind/loss=1.50e-02, RTE_valid/RTE_slice:dash_semicolon:ind/accuracy=9.96e-01] RTE_slice:dash_semicolon:pred:[RTE_train/RTE_slice:dash_semicolon:pred/loss=5.52e-02, RTE_valid/RTE_slice:dash_semicolon:pred/accuracy=5.69e-01] RTE_slice:more_people:ind:[RTE_train/RTE_slice:more_people:ind/loss=1.87e-02, RTE_valid/RTE_slice:more_people:ind/accuracy=9.57e-01] RTE_slice:BASE:ind:[RTE_train/RTE_slice:BASE:ind/loss=9.55e-04, RTE_valid/RTE_slice:BASE:ind/accuracy=1.00e+00] RTE_slice:BASE:pred:[RTE_train/RTE_slice:BASE:pred/loss=6.09e-02, RTE_valid/RTE_slice:BASE:pred/accuracy=5.88e-01] RTE_slice:more_people:pred:[RTE_train/RTE_slice:more_people:pred/loss=6.60e-03, RTE_valid/RTE_slice:more_people:pred/accuracy=4.17e-01] model:[train/all/loss=9.95e-02, train/all/lr=5.00e-05]\n",
      "[28.41 epo]: RTE:[RTE_train/RTE_gold/loss=3.96e-01, RTE_valid/RTE_gold/accuracy=6.14e-01] RTE_slice:dash_semicolon:ind:[RTE_train/RTE_slice:dash_semicolon:ind/loss=1.41e-02, RTE_valid/RTE_slice:dash_semicolon:ind/accuracy=9.96e-01] RTE_slice:dash_semicolon:pred:[RTE_train/RTE_slice:dash_semicolon:pred/loss=6.27e-02, RTE_valid/RTE_slice:dash_semicolon:pred/accuracy=5.69e-01] RTE_slice:more_people:ind:[RTE_train/RTE_slice:more_people:ind/loss=2.12e-02, RTE_valid/RTE_slice:more_people:ind/accuracy=9.57e-01] RTE_slice:BASE:ind:[RTE_train/RTE_slice:BASE:ind/loss=1.08e-03, RTE_valid/RTE_slice:BASE:ind/accuracy=1.00e+00] RTE_slice:BASE:pred:[RTE_train/RTE_slice:BASE:pred/loss=5.29e-02, RTE_valid/RTE_slice:BASE:pred/accuracy=6.14e-01] RTE_slice:more_people:pred:[RTE_train/RTE_slice:more_people:pred/loss=7.51e-03, RTE_valid/RTE_slice:more_people:pred/accuracy=2.50e-01] model:[train/all/loss=9.42e-02, train/all/lr=5.00e-05]\n",
      "[28.51 epo]: RTE:[RTE_train/RTE_gold/loss=4.32e-01, RTE_valid/RTE_gold/accuracy=5.85e-01] RTE_slice:dash_semicolon:ind:[RTE_train/RTE_slice:dash_semicolon:ind/loss=1.10e-02, RTE_valid/RTE_slice:dash_semicolon:ind/accuracy=9.96e-01] RTE_slice:dash_semicolon:pred:[RTE_train/RTE_slice:dash_semicolon:pred/loss=6.02e-02, RTE_valid/RTE_slice:dash_semicolon:pred/accuracy=5.52e-01] RTE_slice:more_people:ind:[RTE_train/RTE_slice:more_people:ind/loss=1.67e-02, RTE_valid/RTE_slice:more_people:ind/accuracy=9.57e-01] RTE_slice:more_people:pred:[RTE_train/RTE_slice:more_people:pred/loss=1.16e-01, RTE_valid/RTE_slice:more_people:pred/accuracy=4.17e-01] RTE_slice:BASE:ind:[RTE_train/RTE_slice:BASE:ind/loss=1.10e-03, RTE_valid/RTE_slice:BASE:ind/accuracy=1.00e+00] RTE_slice:BASE:pred:[RTE_train/RTE_slice:BASE:pred/loss=7.01e-02, RTE_valid/RTE_slice:BASE:pred/accuracy=5.88e-01] model:[train/all/loss=1.03e-01, train/all/lr=5.00e-05]\n",
      "[28.62 epo]: RTE:[RTE_train/RTE_gold/loss=4.30e-01, RTE_valid/RTE_gold/accuracy=5.99e-01] RTE_slice:dash_semicolon:ind:[RTE_train/RTE_slice:dash_semicolon:ind/loss=1.79e-02, RTE_valid/RTE_slice:dash_semicolon:ind/accuracy=9.96e-01] RTE_slice:dash_semicolon:pred:[RTE_train/RTE_slice:dash_semicolon:pred/loss=4.97e-02, RTE_valid/RTE_slice:dash_semicolon:pred/accuracy=5.95e-01] RTE_slice:more_people:ind:[RTE_train/RTE_slice:more_people:ind/loss=1.32e-02, RTE_valid/RTE_slice:more_people:ind/accuracy=9.57e-01] RTE_slice:more_people:pred:[RTE_train/RTE_slice:more_people:pred/loss=4.53e-03, RTE_valid/RTE_slice:more_people:pred/accuracy=2.50e-01] RTE_slice:BASE:ind:[RTE_train/RTE_slice:BASE:ind/loss=7.58e-04, RTE_valid/RTE_slice:BASE:ind/accuracy=1.00e+00] RTE_slice:BASE:pred:[RTE_train/RTE_slice:BASE:pred/loss=6.32e-02, RTE_valid/RTE_slice:BASE:pred/accuracy=5.96e-01] model:[train/all/loss=1.00e-01, train/all/lr=5.00e-05]\n",
      "[28.72 epo]: RTE:[RTE_train/RTE_gold/loss=4.34e-01, RTE_valid/RTE_gold/accuracy=6.10e-01] RTE_slice:dash_semicolon:ind:[RTE_train/RTE_slice:dash_semicolon:ind/loss=1.50e-02, RTE_valid/RTE_slice:dash_semicolon:ind/accuracy=9.93e-01] RTE_slice:dash_semicolon:pred:[RTE_train/RTE_slice:dash_semicolon:pred/loss=4.97e-02, RTE_valid/RTE_slice:dash_semicolon:pred/accuracy=5.78e-01] RTE_slice:more_people:ind:[RTE_train/RTE_slice:more_people:ind/loss=2.55e-02, RTE_valid/RTE_slice:more_people:ind/accuracy=9.57e-01] RTE_slice:BASE:ind:[RTE_train/RTE_slice:BASE:ind/loss=8.86e-04, RTE_valid/RTE_slice:BASE:ind/accuracy=1.00e+00] RTE_slice:BASE:pred:[RTE_train/RTE_slice:BASE:pred/loss=6.33e-02, RTE_valid/RTE_slice:BASE:pred/accuracy=6.03e-01] RTE_slice:more_people:pred:[RTE_train/RTE_slice:more_people:pred/loss=7.11e-02, RTE_valid/RTE_slice:more_people:pred/accuracy=3.33e-01] model:[train/all/loss=1.03e-01, train/all/lr=5.00e-05]\n",
      "[28.82 epo]: RTE:[RTE_train/RTE_gold/loss=4.14e-01, RTE_valid/RTE_gold/accuracy=5.99e-01] RTE_slice:dash_semicolon:ind:[RTE_train/RTE_slice:dash_semicolon:ind/loss=1.05e-02, RTE_valid/RTE_slice:dash_semicolon:ind/accuracy=9.96e-01] RTE_slice:dash_semicolon:pred:[RTE_train/RTE_slice:dash_semicolon:pred/loss=5.63e-02, RTE_valid/RTE_slice:dash_semicolon:pred/accuracy=5.69e-01] RTE_slice:more_people:ind:[RTE_train/RTE_slice:more_people:ind/loss=2.64e-02, RTE_valid/RTE_slice:more_people:ind/accuracy=9.57e-01] RTE_slice:BASE:ind:[RTE_train/RTE_slice:BASE:ind/loss=8.12e-04, RTE_valid/RTE_slice:BASE:ind/accuracy=1.00e+00] RTE_slice:BASE:pred:[RTE_train/RTE_slice:BASE:pred/loss=5.61e-02, RTE_valid/RTE_slice:BASE:pred/accuracy=5.92e-01] RTE_slice:more_people:pred:[RTE_train/RTE_slice:more_people:pred/loss=4.61e-02, RTE_valid/RTE_slice:more_people:pred/accuracy=4.17e-01] model:[train/all/loss=9.76e-02, train/all/lr=5.00e-05]\n",
      "[28.92 epo]: RTE:[RTE_train/RTE_gold/loss=4.74e-01, RTE_valid/RTE_gold/accuracy=5.92e-01] RTE_slice:dash_semicolon:ind:[RTE_train/RTE_slice:dash_semicolon:ind/loss=1.86e-02, RTE_valid/RTE_slice:dash_semicolon:ind/accuracy=9.96e-01] RTE_slice:dash_semicolon:pred:[RTE_train/RTE_slice:dash_semicolon:pred/loss=7.62e-02, RTE_valid/RTE_slice:dash_semicolon:pred/accuracy=5.52e-01] RTE_slice:more_people:ind:[RTE_train/RTE_slice:more_people:ind/loss=1.81e-02, RTE_valid/RTE_slice:more_people:ind/accuracy=9.57e-01] RTE_slice:BASE:ind:[RTE_train/RTE_slice:BASE:ind/loss=1.31e-03, RTE_valid/RTE_slice:BASE:ind/accuracy=1.00e+00] RTE_slice:BASE:pred:[RTE_train/RTE_slice:BASE:pred/loss=8.42e-02, RTE_valid/RTE_slice:BASE:pred/accuracy=5.88e-01] RTE_slice:more_people:pred:[RTE_train/RTE_slice:more_people:pred/loss=8.44e-03, RTE_valid/RTE_slice:more_people:pred/accuracy=2.50e-01] model:[train/all/loss=1.16e-01, train/all/lr=5.00e-05]\n"
     ]
    },
    {
     "name": "stdout",
     "output_type": "stream",
     "text": [
      "\n"
     ]
    },
    {
     "data": {
      "application/vnd.jupyter.widget-view+json": {
       "model_id": "9030bab3e0ae47978b19896ddb8bebd4",
       "version_major": 2,
       "version_minor": 0
      },
      "text/plain": [
       "HBox(children=(IntProgress(value=0, max=312), HTML(value='')))"
      ]
     },
     "metadata": {},
     "output_type": "display_data"
    },
    {
     "name": "stdout",
     "output_type": "stream",
     "text": [
      "[29.03 epo]: RTE:[RTE_train/RTE_gold/loss=3.93e-01, RTE_valid/RTE_gold/accuracy=5.96e-01] RTE_slice:dash_semicolon:ind:[RTE_train/RTE_slice:dash_semicolon:ind/loss=1.66e-02, RTE_valid/RTE_slice:dash_semicolon:ind/accuracy=9.96e-01] RTE_slice:dash_semicolon:pred:[RTE_train/RTE_slice:dash_semicolon:pred/loss=5.70e-02, RTE_valid/RTE_slice:dash_semicolon:pred/accuracy=5.60e-01] RTE_slice:more_people:ind:[RTE_train/RTE_slice:more_people:ind/loss=2.63e-02, RTE_valid/RTE_slice:more_people:ind/accuracy=9.57e-01] RTE_slice:BASE:ind:[RTE_train/RTE_slice:BASE:ind/loss=1.08e-03, RTE_valid/RTE_slice:BASE:ind/accuracy=1.00e+00] RTE_slice:BASE:pred:[RTE_train/RTE_slice:BASE:pred/loss=5.02e-02, RTE_valid/RTE_slice:BASE:pred/accuracy=5.99e-01] RTE_slice:more_people:pred:[RTE_train/RTE_slice:more_people:pred/loss=7.22e-02, RTE_valid/RTE_slice:more_people:pred/accuracy=2.50e-01] model:[train/all/loss=9.44e-02, train/all/lr=5.00e-05]\n",
      "[29.13 epo]: RTE:[RTE_train/RTE_gold/loss=3.86e-01, RTE_valid/RTE_gold/accuracy=5.78e-01] RTE_slice:dash_semicolon:ind:[RTE_train/RTE_slice:dash_semicolon:ind/loss=1.63e-02, RTE_valid/RTE_slice:dash_semicolon:ind/accuracy=9.96e-01] RTE_slice:dash_semicolon:pred:[RTE_train/RTE_slice:dash_semicolon:pred/loss=3.90e-02, RTE_valid/RTE_slice:dash_semicolon:pred/accuracy=5.52e-01] RTE_slice:more_people:ind:[RTE_train/RTE_slice:more_people:ind/loss=2.19e-02, RTE_valid/RTE_slice:more_people:ind/accuracy=9.57e-01] RTE_slice:BASE:ind:[RTE_train/RTE_slice:BASE:ind/loss=1.21e-03, RTE_valid/RTE_slice:BASE:ind/accuracy=1.00e+00] RTE_slice:BASE:pred:[RTE_train/RTE_slice:BASE:pred/loss=5.10e-02, RTE_valid/RTE_slice:BASE:pred/accuracy=5.67e-01] RTE_slice:more_people:pred:[RTE_train/RTE_slice:more_people:pred/loss=3.90e-02, RTE_valid/RTE_slice:more_people:pred/accuracy=1.67e-01] model:[train/all/loss=9.11e-02, train/all/lr=5.00e-05]\n",
      "[29.23 epo]: RTE:[RTE_train/RTE_gold/loss=3.85e-01, RTE_valid/RTE_gold/accuracy=5.96e-01] RTE_slice:dash_semicolon:ind:[RTE_train/RTE_slice:dash_semicolon:ind/loss=2.23e-02, RTE_valid/RTE_slice:dash_semicolon:ind/accuracy=9.96e-01] RTE_slice:dash_semicolon:pred:[RTE_train/RTE_slice:dash_semicolon:pred/loss=3.51e-02, RTE_valid/RTE_slice:dash_semicolon:pred/accuracy=5.69e-01] RTE_slice:more_people:ind:[RTE_train/RTE_slice:more_people:ind/loss=2.63e-02, RTE_valid/RTE_slice:more_people:ind/accuracy=9.57e-01] RTE_slice:BASE:ind:[RTE_train/RTE_slice:BASE:ind/loss=1.43e-03, RTE_valid/RTE_slice:BASE:ind/accuracy=1.00e+00] RTE_slice:BASE:pred:[RTE_train/RTE_slice:BASE:pred/loss=4.95e-02, RTE_valid/RTE_slice:BASE:pred/accuracy=5.85e-01] RTE_slice:more_people:pred:[RTE_train/RTE_slice:more_people:pred/loss=1.13e-02, RTE_valid/RTE_slice:more_people:pred/accuracy=3.33e-01] model:[train/all/loss=9.19e-02, train/all/lr=5.00e-05]\n",
      "[29.33 epo]: RTE:[RTE_train/RTE_gold/loss=3.76e-01, RTE_valid/RTE_gold/accuracy=5.56e-01] RTE_slice:dash_semicolon:ind:[RTE_train/RTE_slice:dash_semicolon:ind/loss=1.53e-02, RTE_valid/RTE_slice:dash_semicolon:ind/accuracy=1.00e+00] RTE_slice:dash_semicolon:pred:[RTE_train/RTE_slice:dash_semicolon:pred/loss=5.06e-02, RTE_valid/RTE_slice:dash_semicolon:pred/accuracy=5.17e-01] RTE_slice:more_people:ind:[RTE_train/RTE_slice:more_people:ind/loss=3.71e-02, RTE_valid/RTE_slice:more_people:ind/accuracy=9.57e-01] RTE_slice:BASE:ind:[RTE_train/RTE_slice:BASE:ind/loss=1.26e-03, RTE_valid/RTE_slice:BASE:ind/accuracy=1.00e+00] RTE_slice:BASE:pred:[RTE_train/RTE_slice:BASE:pred/loss=4.66e-02, RTE_valid/RTE_slice:BASE:pred/accuracy=5.56e-01] RTE_slice:more_people:pred:[RTE_train/RTE_slice:more_people:pred/loss=3.84e-02, RTE_valid/RTE_slice:more_people:pred/accuracy=3.33e-01] model:[train/all/loss=9.10e-02, train/all/lr=5.00e-05]\n",
      "[29.44 epo]: RTE:[RTE_train/RTE_gold/loss=3.85e-01, RTE_valid/RTE_gold/accuracy=5.63e-01] RTE_slice:dash_semicolon:ind:[RTE_train/RTE_slice:dash_semicolon:ind/loss=1.59e-02, RTE_valid/RTE_slice:dash_semicolon:ind/accuracy=9.96e-01] RTE_slice:dash_semicolon:pred:[RTE_train/RTE_slice:dash_semicolon:pred/loss=4.03e-02, RTE_valid/RTE_slice:dash_semicolon:pred/accuracy=5.17e-01] RTE_slice:more_people:ind:[RTE_train/RTE_slice:more_people:ind/loss=1.72e-02, RTE_valid/RTE_slice:more_people:ind/accuracy=9.57e-01] RTE_slice:BASE:ind:[RTE_train/RTE_slice:BASE:ind/loss=1.45e-03, RTE_valid/RTE_slice:BASE:ind/accuracy=1.00e+00] RTE_slice:BASE:pred:[RTE_train/RTE_slice:BASE:pred/loss=5.00e-02, RTE_valid/RTE_slice:BASE:pred/accuracy=5.52e-01] RTE_slice:more_people:pred:[RTE_train/RTE_slice:more_people:pred/loss=1.21e-01, RTE_valid/RTE_slice:more_people:pred/accuracy=3.33e-01] model:[train/all/loss=9.01e-02, train/all/lr=5.00e-05]\n",
      "[29.54 epo]: RTE:[RTE_train/RTE_gold/loss=4.09e-01, RTE_valid/RTE_gold/accuracy=5.96e-01] RTE_slice:dash_semicolon:ind:[RTE_train/RTE_slice:dash_semicolon:ind/loss=1.51e-02, RTE_valid/RTE_slice:dash_semicolon:ind/accuracy=9.96e-01] RTE_slice:dash_semicolon:pred:[RTE_train/RTE_slice:dash_semicolon:pred/loss=8.08e-02, RTE_valid/RTE_slice:dash_semicolon:pred/accuracy=5.43e-01] RTE_slice:more_people:ind:[RTE_train/RTE_slice:more_people:ind/loss=2.76e-02, RTE_valid/RTE_slice:more_people:ind/accuracy=9.57e-01] RTE_slice:BASE:ind:[RTE_train/RTE_slice:BASE:ind/loss=1.51e-03, RTE_valid/RTE_slice:BASE:ind/accuracy=1.00e+00] RTE_slice:BASE:pred:[RTE_train/RTE_slice:BASE:pred/loss=6.04e-02, RTE_valid/RTE_slice:BASE:pred/accuracy=5.99e-01] RTE_slice:more_people:pred:[RTE_train/RTE_slice:more_people:pred/loss=7.81e-02, RTE_valid/RTE_slice:more_people:pred/accuracy=3.33e-01] model:[train/all/loss=1.01e-01, train/all/lr=5.00e-05]\n",
      "[29.64 epo]: RTE:[RTE_train/RTE_gold/loss=3.82e-01, RTE_valid/RTE_gold/accuracy=5.78e-01] RTE_slice:dash_semicolon:ind:[RTE_train/RTE_slice:dash_semicolon:ind/loss=1.55e-02, RTE_valid/RTE_slice:dash_semicolon:ind/accuracy=9.96e-01] RTE_slice:dash_semicolon:pred:[RTE_train/RTE_slice:dash_semicolon:pred/loss=5.90e-02, RTE_valid/RTE_slice:dash_semicolon:pred/accuracy=5.52e-01] RTE_slice:more_people:ind:[RTE_train/RTE_slice:more_people:ind/loss=1.95e-02, RTE_valid/RTE_slice:more_people:ind/accuracy=9.57e-01] RTE_slice:more_people:pred:[RTE_train/RTE_slice:more_people:pred/loss=1.68e-02, RTE_valid/RTE_slice:more_people:pred/accuracy=2.50e-01] RTE_slice:BASE:ind:[RTE_train/RTE_slice:BASE:ind/loss=1.14e-03, RTE_valid/RTE_slice:BASE:ind/accuracy=1.00e+00] RTE_slice:BASE:pred:[RTE_train/RTE_slice:BASE:pred/loss=5.26e-02, RTE_valid/RTE_slice:BASE:pred/accuracy=5.88e-01] model:[train/all/loss=9.14e-02, train/all/lr=5.00e-05]\n",
      "[29.74 epo]: RTE:[RTE_train/RTE_gold/loss=4.01e-01, RTE_valid/RTE_gold/accuracy=5.56e-01] RTE_slice:dash_semicolon:ind:[RTE_train/RTE_slice:dash_semicolon:ind/loss=1.73e-02, RTE_valid/RTE_slice:dash_semicolon:ind/accuracy=9.96e-01] RTE_slice:dash_semicolon:pred:[RTE_train/RTE_slice:dash_semicolon:pred/loss=3.31e-02, RTE_valid/RTE_slice:dash_semicolon:pred/accuracy=5.00e-01] RTE_slice:more_people:ind:[RTE_train/RTE_slice:more_people:ind/loss=1.28e-02, RTE_valid/RTE_slice:more_people:ind/accuracy=9.57e-01] RTE_slice:BASE:ind:[RTE_train/RTE_slice:BASE:ind/loss=1.13e-03, RTE_valid/RTE_slice:BASE:ind/accuracy=1.00e+00] RTE_slice:BASE:pred:[RTE_train/RTE_slice:BASE:pred/loss=5.71e-02, RTE_valid/RTE_slice:BASE:pred/accuracy=5.60e-01] RTE_slice:more_people:pred:[RTE_train/RTE_slice:more_people:pred/loss=2.90e-01, RTE_valid/RTE_slice:more_people:pred/accuracy=1.67e-01] model:[train/all/loss=9.34e-02, train/all/lr=5.00e-05]\n",
      "[29.85 epo]: RTE:[RTE_train/RTE_gold/loss=4.29e-01, RTE_valid/RTE_gold/accuracy=5.74e-01] RTE_slice:dash_semicolon:ind:[RTE_train/RTE_slice:dash_semicolon:ind/loss=1.43e-02, RTE_valid/RTE_slice:dash_semicolon:ind/accuracy=9.96e-01] RTE_slice:dash_semicolon:pred:[RTE_train/RTE_slice:dash_semicolon:pred/loss=5.22e-02, RTE_valid/RTE_slice:dash_semicolon:pred/accuracy=5.43e-01] RTE_slice:more_people:ind:[RTE_train/RTE_slice:more_people:ind/loss=1.42e-02, RTE_valid/RTE_slice:more_people:ind/accuracy=9.57e-01] RTE_slice:BASE:ind:[RTE_train/RTE_slice:BASE:ind/loss=8.41e-04, RTE_valid/RTE_slice:BASE:ind/accuracy=1.00e+00] RTE_slice:BASE:pred:[RTE_train/RTE_slice:BASE:pred/loss=6.26e-02, RTE_valid/RTE_slice:BASE:pred/accuracy=5.78e-01] RTE_slice:more_people:pred:[RTE_train/RTE_slice:more_people:pred/loss=7.85e-02, RTE_valid/RTE_slice:more_people:pred/accuracy=2.50e-01] model:[train/all/loss=1.00e-01, train/all/lr=5.00e-05]\n"
     ]
    },
    {
     "name": "stdout",
     "output_type": "stream",
     "text": [
      "[29.95 epo]: RTE:[RTE_train/RTE_gold/loss=4.41e-01, RTE_valid/RTE_gold/accuracy=5.88e-01] RTE_slice:dash_semicolon:ind:[RTE_train/RTE_slice:dash_semicolon:ind/loss=1.58e-02, RTE_valid/RTE_slice:dash_semicolon:ind/accuracy=9.96e-01] RTE_slice:dash_semicolon:pred:[RTE_train/RTE_slice:dash_semicolon:pred/loss=5.33e-02, RTE_valid/RTE_slice:dash_semicolon:pred/accuracy=5.60e-01] RTE_slice:more_people:ind:[RTE_train/RTE_slice:more_people:ind/loss=2.02e-02, RTE_valid/RTE_slice:more_people:ind/accuracy=9.57e-01] RTE_slice:BASE:ind:[RTE_train/RTE_slice:BASE:ind/loss=8.58e-04, RTE_valid/RTE_slice:BASE:ind/accuracy=1.00e+00] RTE_slice:BASE:pred:[RTE_train/RTE_slice:BASE:pred/loss=7.52e-02, RTE_valid/RTE_slice:BASE:pred/accuracy=5.88e-01] RTE_slice:more_people:pred:[RTE_train/RTE_slice:more_people:pred/loss=1.79e-02, RTE_valid/RTE_slice:more_people:pred/accuracy=3.33e-01] model:[train/all/loss=1.05e-01, train/all/lr=5.00e-05]\n",
      "\n",
      "[30.00 epo]: RTE:[RTE_train/RTE_gold/loss=5.07e-01, RTE_valid/RTE_gold/accuracy=5.74e-01] RTE_slice:dash_semicolon:ind:[RTE_train/RTE_slice:dash_semicolon:ind/loss=1.25e-02, RTE_valid/RTE_slice:dash_semicolon:ind/accuracy=9.96e-01] RTE_slice:dash_semicolon:pred:[RTE_train/RTE_slice:dash_semicolon:pred/loss=9.98e-02, RTE_valid/RTE_slice:dash_semicolon:pred/accuracy=5.43e-01] RTE_slice:more_people:ind:[RTE_train/RTE_slice:more_people:ind/loss=1.08e-02, RTE_valid/RTE_slice:more_people:ind/accuracy=9.57e-01] RTE_slice:BASE:ind:[RTE_train/RTE_slice:BASE:ind/loss=1.12e-03, RTE_valid/RTE_slice:BASE:ind/accuracy=1.00e+00] RTE_slice:BASE:pred:[RTE_train/RTE_slice:BASE:pred/loss=9.79e-02, RTE_valid/RTE_slice:BASE:pred/accuracy=5.74e-01] RTE_slice:more_people:pred:[RTE_train/RTE_slice:more_people:pred/loss=2.40e-03, RTE_valid/RTE_slice:more_people:pred/accuracy=1.67e-01] model:[train/all/loss=1.24e-01, train/all/lr=5.00e-05]\n",
      "Restoring best model from iteration 5.44 with score 0.668\n",
      "Finished training\n",
      "{'RTE/RTE_test/RTE_gold/accuracy': 0.0,\n",
      " 'RTE/RTE_train/RTE_gold/accuracy': 0.8301204819277108,\n",
      " 'RTE/RTE_valid/RTE_gold/accuracy': 0.6678700361010831,\n",
      " 'RTE_slice:BASE:ind/RTE_test/RTE_slice:BASE:ind/accuracy': 1.0,\n",
      " 'RTE_slice:BASE:ind/RTE_train/RTE_slice:BASE:ind/accuracy': 1.0,\n",
      " 'RTE_slice:BASE:ind/RTE_valid/RTE_slice:BASE:ind/accuracy': 1.0,\n",
      " 'RTE_slice:BASE:pred/RTE_test/RTE_slice:BASE:pred/accuracy': 0.0,\n",
      " 'RTE_slice:BASE:pred/RTE_train/RTE_slice:BASE:pred/accuracy': 0.8265060240963855,\n",
      " 'RTE_slice:BASE:pred/RTE_valid/RTE_slice:BASE:pred/accuracy': 0.6462093862815884,\n",
      " 'RTE_slice:dash_semicolon:ind/RTE_test/RTE_slice:dash_semicolon:ind/accuracy': 1.0,\n",
      " 'RTE_slice:dash_semicolon:ind/RTE_train/RTE_slice:dash_semicolon:ind/accuracy': 1.0,\n",
      " 'RTE_slice:dash_semicolon:ind/RTE_valid/RTE_slice:dash_semicolon:ind/accuracy': 1.0,\n",
      " 'RTE_slice:dash_semicolon:pred/RTE_test/RTE_slice:dash_semicolon:pred/accuracy': 0.0,\n",
      " 'RTE_slice:dash_semicolon:pred/RTE_train/RTE_slice:dash_semicolon:pred/accuracy': 0.8973080757726819,\n",
      " 'RTE_slice:dash_semicolon:pred/RTE_valid/RTE_slice:dash_semicolon:pred/accuracy': 0.6120689655172413,\n",
      " 'RTE_slice:more_people:ind/RTE_test/RTE_slice:more_people:ind/accuracy': 0.9776666666666667,\n",
      " 'RTE_slice:more_people:ind/RTE_train/RTE_slice:more_people:ind/accuracy': 0.97429718875502,\n",
      " 'RTE_slice:more_people:ind/RTE_valid/RTE_slice:more_people:ind/accuracy': 0.9566787003610109,\n",
      " 'RTE_slice:more_people:pred/RTE_test/RTE_slice:more_people:pred/accuracy': 0.0,\n",
      " 'RTE_slice:more_people:pred/RTE_train/RTE_slice:more_people:pred/accuracy': 0.90625,\n",
      " 'RTE_slice:more_people:pred/RTE_valid/RTE_slice:more_people:pred/accuracy': 0.75}\n",
      "Writing metrics to /dfs/scratch0/vschen/metal-mmtl/logs/2019_04_23/01_30_48/metrics.json\n",
      "Writing log to /dfs/scratch0/vschen/metal-mmtl/logs/2019_04_23/01_30_48/log.json\n",
      "Full model saved at /dfs/scratch0/vschen/metal-mmtl/logs/2019_04_23/01_30_48/model.pkl\n",
      "CPU times: user 43min 4s, sys: 3min 30s, total: 46min 35s\n",
      "Wall time: 47min 1s\n"
     ]
    }
   ],
   "source": [
    "%%time\n",
    "trainer = MultitaskTrainer(seed=SEED)\n",
    "trainer.train_model(\n",
    "    slice_model,\n",
    "    payloads_slice,\n",
    "    task_metrics=[\n",
    "        \"RTE/RTE_train/RTE_gold/loss\", \n",
    "        \"RTE/RTE_train/RTE_slice:BASE:ind/loss\",\n",
    "        \"RTE/RTE_train/RTE_slice:dash_semicolon:ind/loss\", \n",
    "        \"RTE/RTE_train/RTE_slice:more_people:ind/loss\",\n",
    "        \"RTE/RTE_train/RTE_slice:BASE:pred/loss\",\n",
    "        \"RTE/RTE_train/RTE_slice:dash_semicolon:pred/loss\", \n",
    "        \"RTE/RTE_train/RTE_slice:more_people:pred/loss\",\n",
    "        \n",
    "        \"RTE/RTE_valid/RTE_gold/accuracy\",\n",
    "        \"RTE/RTE_valid/RTE_slice:BASE:ind/accuracy\", \n",
    "        \"RTE/RTE_valid/RTE_slice:dash_semicolon:ind/accuracy\", \n",
    "        \"RTE/RTE_valid/RTE_slice:more_people:ind/accuracy\",\n",
    "        \"RTE/RTE_valid/RTE_slice:BASE:pred/accuracy\", \n",
    "        \"RTE/RTE_valid/RTE_slice:dash_semicolon:pred/accuracy\", \n",
    "        \"RTE/RTE_valid/RTE_slice:more_people:pred/accuracy\",\n",
    "    ],\n",
    "    checkpoint_metric=\"RTE/RTE_valid/RTE_gold/accuracy\",\n",
    "    checkpoint_metric_mode=\"max\",\n",
    "    checkoint_best=True,\n",
    "    writer=\"tensorboard\",\n",
    "    optimizer=\"adamax\",\n",
    "    lr=5e-5,\n",
    "#     lr=1e-5,\n",
    "#     l2=1e-3,\n",
    "    l2=1e-3,\n",
    "    log_every=0.1, \n",
    "    score_every=0.1,\n",
    "    n_epochs=30,\n",
    "    progress_bar=True,\n",
    "    checkpoint_best=True,\n",
    "    checkpoint_cleanup=False\n",
    ")"
   ]
  },
  {
   "cell_type": "markdown",
   "metadata": {},
   "source": [
    "#### Did we improve?"
   ]
  },
  {
   "cell_type": "code",
   "execution_count": 21,
   "metadata": {},
   "outputs": [
    {
     "name": "stdout",
     "output_type": "stream",
     "text": [
      "CPU times: user 1.54 s, sys: 284 ms, total: 1.82 s\n",
      "Wall time: 1.77 s\n"
     ]
    },
    {
     "data": {
      "text/plain": [
       "{'RTE/RTE_valid/RTE_gold/accuracy': 0.6678700361010831,\n",
       " 'RTE_slice:dash_semicolon:ind/RTE_valid/RTE_slice:dash_semicolon:ind/accuracy': 1.0,\n",
       " 'RTE_slice:dash_semicolon:pred/RTE_valid/RTE_slice:dash_semicolon:pred/accuracy': 0.6120689655172413,\n",
       " 'RTE_slice:more_people:ind/RTE_valid/RTE_slice:more_people:ind/accuracy': 0.9566787003610109,\n",
       " 'RTE_slice:more_people:pred/RTE_valid/RTE_slice:more_people:pred/accuracy': 0.75,\n",
       " 'RTE_slice:BASE:ind/RTE_valid/RTE_slice:BASE:ind/accuracy': 1.0,\n",
       " 'RTE_slice:BASE:pred/RTE_valid/RTE_slice:BASE:pred/accuracy': 0.6462093862815884}"
      ]
     },
     "execution_count": 21,
     "metadata": {},
     "output_type": "execute_result"
    }
   ],
   "source": [
    "%%time\n",
    "slice_model.score(payloads_slice[1])"
   ]
  },
  {
   "cell_type": "code",
   "execution_count": 22,
   "metadata": {
    "scrolled": true
   },
   "outputs": [
    {
     "data": {
      "text/plain": [
       "{'RTE/RTE_valid/RTE_gold/accuracy': 0.6678700361010831,\n",
       " 'RTE/RTE_valid/RTE_slice:dash_semicolon:ind/accuracy': 0.4368231046931408,\n",
       " 'RTE/RTE_valid/RTE_slice:dash_semicolon:pred/accuracy': 0.6120689655172413,\n",
       " 'RTE/RTE_valid/RTE_slice:more_people:ind/accuracy': 0.37906137184115524,\n",
       " 'RTE/RTE_valid/RTE_slice:more_people:pred/accuracy': 0.6666666666666666,\n",
       " 'RTE/RTE_valid/RTE_slice:BASE:ind/accuracy': 0.5992779783393501,\n",
       " 'RTE/RTE_valid/RTE_slice:BASE:pred/accuracy': 0.6678700361010831}"
      ]
     },
     "execution_count": 22,
     "metadata": {},
     "output_type": "execute_result"
    }
   ],
   "source": [
    "slice_model.score(eval_payload)"
   ]
  }
 ],
 "metadata": {
  "kernelspec": {
   "display_name": "Python 3",
   "language": "python",
   "name": "python3"
  },
  "language_info": {
   "codemirror_mode": {
    "name": "ipython",
    "version": 3
   },
   "file_extension": ".py",
   "mimetype": "text/x-python",
   "name": "python",
   "nbconvert_exporter": "python",
   "pygments_lexer": "ipython3",
   "version": "3.6.7"
  }
 },
 "nbformat": 4,
 "nbformat_minor": 2
}
