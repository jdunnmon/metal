{
 "cells": [
  {
   "cell_type": "code",
   "execution_count": 1,
   "metadata": {
    "scrolled": true
   },
   "outputs": [],
   "source": [
    "%load_ext autoreload\n",
    "%autoreload 2"
   ]
  },
  {
   "cell_type": "code",
   "execution_count": 2,
   "metadata": {},
   "outputs": [],
   "source": [
    "from metal.mmtl.trainer import MultitaskTrainer\n",
    "from metal.mmtl.glue.glue_tasks import create_glue_tasks_payloads\n",
    "from metal.mmtl.metal_model import MetalModel\n",
    "from metal.mmtl.slicing.slice_model import SliceModel"
   ]
  },
  {
   "cell_type": "code",
   "execution_count": 3,
   "metadata": {},
   "outputs": [],
   "source": [
    "SEED = 1"
   ]
  },
  {
   "cell_type": "markdown",
   "metadata": {},
   "source": [
    "### Initialize normal payloads (to load the base model) "
   ]
  },
  {
   "cell_type": "code",
   "execution_count": 4,
   "metadata": {},
   "outputs": [],
   "source": [
    "task_kwargs = {\n",
    "    \"dl_kwargs\": {\"batch_size\": 8},\n",
    "    \"freeze_bert\":False,\n",
    "    \"bert_model\": 'bert-base-uncased',\n",
    "    \"max_len\": 128,\n",
    "    \"attention\": False,\n",
    "    \"dropout\": 0.1,\n",
    "}\n",
    "task_names = [\"RTE\"]"
   ]
  },
  {
   "cell_type": "code",
   "execution_count": 5,
   "metadata": {
    "scrolled": true
   },
   "outputs": [
    {
     "name": "stdout",
     "output_type": "stream",
     "text": [
      "Using random seed: 275349\n",
      "Loading RTE Dataset\n"
     ]
    },
    {
     "data": {
      "application/vnd.jupyter.widget-view+json": {
       "model_id": "56634b5586494012bd9e4eeb201ea3c4",
       "version_major": 2,
       "version_minor": 0
      },
      "text/plain": [
       "HBox(children=(IntProgress(value=0, max=2490), HTML(value='')))"
      ]
     },
     "metadata": {},
     "output_type": "display_data"
    },
    {
     "name": "stdout",
     "output_type": "stream",
     "text": [
      "\n"
     ]
    },
    {
     "data": {
      "application/vnd.jupyter.widget-view+json": {
       "model_id": "773fed185d614b5ba41f95e7c721dea4",
       "version_major": 2,
       "version_minor": 0
      },
      "text/plain": [
       "HBox(children=(IntProgress(value=0, max=277), HTML(value='')))"
      ]
     },
     "metadata": {},
     "output_type": "display_data"
    },
    {
     "name": "stdout",
     "output_type": "stream",
     "text": [
      "\n"
     ]
    },
    {
     "data": {
      "application/vnd.jupyter.widget-view+json": {
       "model_id": "116db79b4c6b4b82959e1c6906c63385",
       "version_major": 2,
       "version_minor": 0
      },
      "text/plain": [
       "HBox(children=(IntProgress(value=0, max=3000), HTML(value='')))"
      ]
     },
     "metadata": {},
     "output_type": "display_data"
    },
    {
     "name": "stdout",
     "output_type": "stream",
     "text": [
      "\n",
      "CPU times: user 14.2 s, sys: 1.1 s, total: 15.3 s\n",
      "Wall time: 16.2 s\n"
     ]
    }
   ],
   "source": [
    "%%time\n",
    "\n",
    "tasks, payloads = create_glue_tasks_payloads(task_names, **task_kwargs)"
   ]
  },
  {
   "cell_type": "code",
   "execution_count": 6,
   "metadata": {
    "scrolled": false
   },
   "outputs": [
    {
     "data": {
      "text/plain": [
       "([ClassificationTask(name=RTE, loss_multiplier=1.00)],\n",
       " [Payload(RTE_train: labels_to_tasks=[{'RTE_gold': 'RTE'}], split=train),\n",
       "  Payload(RTE_valid: labels_to_tasks=[{'RTE_gold': 'RTE'}], split=valid),\n",
       "  Payload(RTE_test: labels_to_tasks=[{'RTE_gold': 'RTE'}], split=test)])"
      ]
     },
     "execution_count": 6,
     "metadata": {},
     "output_type": "execute_result"
    }
   ],
   "source": [
    "tasks, payloads"
   ]
  },
  {
   "cell_type": "markdown",
   "metadata": {},
   "source": [
    "### Load existing baseline model"
   ]
  },
  {
   "cell_type": "code",
   "execution_count": 7,
   "metadata": {},
   "outputs": [],
   "source": [
    "model = MetalModel(tasks, seed=SEED, verbose=False)"
   ]
  },
  {
   "cell_type": "code",
   "execution_count": 8,
   "metadata": {},
   "outputs": [],
   "source": [
    "from metal.mmtl.glue.glue_tasks import create_glue_tasks_payloads\n",
    "from metal.mmtl.metal_model import MetalModel\n",
    "\n",
    "SEED = 321\n",
    "baseline = MetalModel(tasks, seed=SEED, verbose=False)\n",
    "\n",
    "import os\n",
    "import torch\n",
    "model_dir = '/dfs/scratch0/vschen/metal-mmtl/logs/2019_04_30/17_57_08'\n",
    "model_path = os.path.join(model_dir, 'best_model.pth')\n",
    "baseline.load_weights(model_path)"
   ]
  },
  {
   "cell_type": "markdown",
   "metadata": {},
   "source": [
    "#### Valdiate baseline performance"
   ]
  },
  {
   "cell_type": "code",
   "execution_count": 9,
   "metadata": {},
   "outputs": [
    {
     "data": {
      "text/plain": [
       "{'RTE/RTE_train/RTE_gold/accuracy': 0.9943775100401606}"
      ]
     },
     "execution_count": 9,
     "metadata": {},
     "output_type": "execute_result"
    }
   ],
   "source": [
    "baseline.score(payloads[0])"
   ]
  },
  {
   "cell_type": "code",
   "execution_count": 10,
   "metadata": {},
   "outputs": [
    {
     "data": {
      "text/plain": [
       "{'RTE/RTE_valid/RTE_gold/accuracy': 0.740072202166065}"
      ]
     },
     "execution_count": 10,
     "metadata": {},
     "output_type": "execute_result"
    }
   ],
   "source": [
    "baseline.score(payloads[1])"
   ]
  },
  {
   "cell_type": "markdown",
   "metadata": {},
   "source": [
    "### Visualize some slices"
   ]
  },
  {
   "cell_type": "code",
   "execution_count": 11,
   "metadata": {},
   "outputs": [],
   "source": [
    "import random\n",
    "from collections import defaultdict\n",
    "import spacy\n",
    "nlp = spacy.load(\"en_core_web_sm\")"
   ]
  },
  {
   "cell_type": "code",
   "execution_count": 12,
   "metadata": {},
   "outputs": [],
   "source": [
    "from pprint import pprint"
   ]
  },
  {
   "cell_type": "code",
   "execution_count": 13,
   "metadata": {
    "scrolled": true
   },
   "outputs": [
    {
     "name": "stdout",
     "output_type": "stream",
     "text": [
      "{'common_negation': 421,\n",
      " 'has_but': 243,\n",
      " 'has_coordinating_conjunction_hypothesis': 1220,\n",
      " 'has_multiple_articles': 823,\n",
      " 'has_possessive_preposition': 715,\n",
      " 'has_temporal_preposition': 414,\n",
      " 'has_wh_words': 745,\n",
      " 'is_comparative': 300,\n",
      " 'is_quantification': 868,\n",
      " 'is_quantification_hypothesis': 145,\n",
      " 'long_hypothesis': 186,\n",
      " 'long_premise': 238,\n",
      " 'short_hypothesis': 223,\n",
      " 'short_premise': 233}\n"
     ]
    }
   ],
   "source": [
    "# Set to True to walk through slice examples via pdb\n",
    "VISUALIZE_EXAMPLES = False\n",
    "\n",
    "from metal.mmtl.glue.glue_slices import *\n",
    "rte_slices = [\n",
    "    \"has_temporal_preposition\",\n",
    "    \"has_possessive_preposition\",\n",
    "    \"is_comparative\",\n",
    "    \"is_quantification\",\n",
    "    \"is_quantification_hypothesis\",\n",
    "    \"has_multiple_articles\",\n",
    "    \"has_wh_words\",\n",
    "    \"short_hypothesis\",\n",
    "    \"long_hypothesis\",\n",
    "    \"short_premise\",\n",
    "    \"long_premise\",\n",
    "    \"has_coordinating_conjunction_hypothesis\",\n",
    "    \"has_but\",\n",
    "    \"common_negation\"\n",
    "]\n",
    "\n",
    "ds = payloads[2].data_loader.dataset\n",
    "rand_idx = list(range(len(ds)))\n",
    "random.shuffle(rand_idx)\n",
    "\n",
    "counter = defaultdict(int)\n",
    "for idx in rand_idx:\n",
    "    for slice_name in rte_slices:\n",
    "        slice_fn = globals()[slice_name]\n",
    "        sentence = ds.sentences[idx]\n",
    "        in_slice = slice_fn(ds, idx)\n",
    "        if in_slice:\n",
    "            counter[slice_name] += 1\n",
    "            \n",
    "            if VISUALIZE_EXAMPLES:\n",
    "                print(sentence, \"->\", in_slice)\n",
    "                import pdb; pdb.set_trace()\n",
    "                \n",
    "pprint(dict(counter))"
   ]
  },
  {
   "cell_type": "markdown",
   "metadata": {},
   "source": [
    "### Initialize slice payloads"
   ]
  },
  {
   "cell_type": "code",
   "execution_count": 14,
   "metadata": {
    "scrolled": false
   },
   "outputs": [
    {
     "name": "stdout",
     "output_type": "stream",
     "text": [
      "Using random seed: 55356\n",
      "Loading RTE Dataset\n"
     ]
    },
    {
     "data": {
      "application/vnd.jupyter.widget-view+json": {
       "model_id": "3809bf093afe42a3a3178eb47d27b0f4",
       "version_major": 2,
       "version_minor": 0
      },
      "text/plain": [
       "HBox(children=(IntProgress(value=0, max=2490), HTML(value='')))"
      ]
     },
     "metadata": {},
     "output_type": "display_data"
    },
    {
     "name": "stdout",
     "output_type": "stream",
     "text": [
      "\n"
     ]
    },
    {
     "data": {
      "application/vnd.jupyter.widget-view+json": {
       "model_id": "8f258c3f5e4b43fd9cbdde8d595cea3f",
       "version_major": 2,
       "version_minor": 0
      },
      "text/plain": [
       "HBox(children=(IntProgress(value=0, max=277), HTML(value='')))"
      ]
     },
     "metadata": {},
     "output_type": "display_data"
    },
    {
     "name": "stdout",
     "output_type": "stream",
     "text": [
      "\n"
     ]
    },
    {
     "data": {
      "application/vnd.jupyter.widget-view+json": {
       "model_id": "63132cc361ef412b8543cebfa6b0b790",
       "version_major": 2,
       "version_minor": 0
      },
      "text/plain": [
       "HBox(children=(IntProgress(value=0, max=3000), HTML(value='')))"
      ]
     },
     "metadata": {},
     "output_type": "display_data"
    },
    {
     "name": "stdout",
     "output_type": "stream",
     "text": [
      "\n",
      "Added label_set with 2490/2490 labels for task RTE_slice:has_temporal_preposition:ind to payload RTE_train.\n",
      "Added label_set with 363/2490 labels for task RTE_slice:has_temporal_preposition:pred to payload RTE_train.\n",
      "Added label_set with 2490/2490 labels for task RTE_slice:has_possessive_preposition:ind to payload RTE_train.\n",
      "Added label_set with 619/2490 labels for task RTE_slice:has_possessive_preposition:pred to payload RTE_train.\n",
      "Added label_set with 2490/2490 labels for task RTE_slice:is_comparative:ind to payload RTE_train.\n",
      "Added label_set with 263/2490 labels for task RTE_slice:is_comparative:pred to payload RTE_train.\n",
      "Added label_set with 2490/2490 labels for task RTE_slice:is_quantification:ind to payload RTE_train.\n",
      "Added label_set with 749/2490 labels for task RTE_slice:is_quantification:pred to payload RTE_train.\n",
      "Added label_set with 2490/2490 labels for task RTE_slice:is_quantification_hypothesis:ind to payload RTE_train.\n",
      "Added label_set with 123/2490 labels for task RTE_slice:is_quantification_hypothesis:pred to payload RTE_train.\n",
      "Added label_set with 2490/2490 labels for task RTE_slice:has_multiple_articles:ind to payload RTE_train.\n",
      "Added label_set with 705/2490 labels for task RTE_slice:has_multiple_articles:pred to payload RTE_train.\n",
      "Added label_set with 2490/2490 labels for task RTE_slice:has_wh_words:ind to payload RTE_train.\n",
      "Added label_set with 656/2490 labels for task RTE_slice:has_wh_words:pred to payload RTE_train.\n",
      "Added label_set with 2490/2490 labels for task RTE_slice:short_hypothesis:ind to payload RTE_train.\n",
      "Added label_set with 165/2490 labels for task RTE_slice:short_hypothesis:pred to payload RTE_train.\n",
      "Added label_set with 2490/2490 labels for task RTE_slice:long_hypothesis:ind to payload RTE_train.\n",
      "Added label_set with 191/2490 labels for task RTE_slice:long_hypothesis:pred to payload RTE_train.\n",
      "Added label_set with 2490/2490 labels for task RTE_slice:short_premise:ind to payload RTE_train.\n",
      "Added label_set with 191/2490 labels for task RTE_slice:short_premise:pred to payload RTE_train.\n",
      "Added label_set with 2490/2490 labels for task RTE_slice:long_premise:ind to payload RTE_train.\n",
      "Added label_set with 197/2490 labels for task RTE_slice:long_premise:pred to payload RTE_train.\n",
      "Added label_set with 2490/2490 labels for task RTE_slice:has_coordinating_conjunction_hypothesis:ind to payload RTE_train.\n",
      "Added label_set with 1074/2490 labels for task RTE_slice:has_coordinating_conjunction_hypothesis:pred to payload RTE_train.\n",
      "Added label_set with 2490/2490 labels for task RTE_slice:has_but:ind to payload RTE_train.\n",
      "Added label_set with 239/2490 labels for task RTE_slice:has_but:pred to payload RTE_train.\n",
      "Added label_set with 2490/2490 labels for task RTE_slice:common_negation:ind to payload RTE_train.\n",
      "Added label_set with 355/2490 labels for task RTE_slice:common_negation:pred to payload RTE_train.\n",
      "Added label_set with 277/277 labels for task RTE_slice:has_temporal_preposition:ind to payload RTE_valid.\n",
      "Added label_set with 30/277 labels for task RTE_slice:has_temporal_preposition:pred to payload RTE_valid.\n",
      "Added label_set with 277/277 labels for task RTE_slice:has_possessive_preposition:ind to payload RTE_valid.\n",
      "Added label_set with 66/277 labels for task RTE_slice:has_possessive_preposition:pred to payload RTE_valid.\n",
      "Added label_set with 277/277 labels for task RTE_slice:is_comparative:ind to payload RTE_valid.\n",
      "Added label_set with 31/277 labels for task RTE_slice:is_comparative:pred to payload RTE_valid.\n",
      "Added label_set with 277/277 labels for task RTE_slice:is_quantification:ind to payload RTE_valid.\n",
      "Added label_set with 88/277 labels for task RTE_slice:is_quantification:pred to payload RTE_valid.\n",
      "Added label_set with 277/277 labels for task RTE_slice:is_quantification_hypothesis:ind to payload RTE_valid.\n",
      "Added label_set with 13/277 labels for task RTE_slice:is_quantification_hypothesis:pred to payload RTE_valid.\n",
      "Added label_set with 277/277 labels for task RTE_slice:has_multiple_articles:ind to payload RTE_valid.\n",
      "Added label_set with 76/277 labels for task RTE_slice:has_multiple_articles:pred to payload RTE_valid.\n",
      "Added label_set with 277/277 labels for task RTE_slice:has_wh_words:ind to payload RTE_valid.\n",
      "Added label_set with 72/277 labels for task RTE_slice:has_wh_words:pred to payload RTE_valid.\n",
      "Added label_set with 277/277 labels for task RTE_slice:short_hypothesis:ind to payload RTE_valid.\n",
      "Added label_set with 15/277 labels for task RTE_slice:short_hypothesis:pred to payload RTE_valid.\n",
      "Added label_set with 277/277 labels for task RTE_slice:long_hypothesis:ind to payload RTE_valid.\n",
      "Added label_set with 11/277 labels for task RTE_slice:long_hypothesis:pred to payload RTE_valid.\n",
      "Added label_set with 277/277 labels for task RTE_slice:short_premise:ind to payload RTE_valid.\n",
      "Added label_set with 22/277 labels for task RTE_slice:short_premise:pred to payload RTE_valid.\n",
      "Added label_set with 277/277 labels for task RTE_slice:long_premise:ind to payload RTE_valid.\n",
      "Added label_set with 22/277 labels for task RTE_slice:long_premise:pred to payload RTE_valid.\n",
      "Added label_set with 277/277 labels for task RTE_slice:has_coordinating_conjunction_hypothesis:ind to payload RTE_valid.\n",
      "Added label_set with 117/277 labels for task RTE_slice:has_coordinating_conjunction_hypothesis:pred to payload RTE_valid.\n",
      "Added label_set with 277/277 labels for task RTE_slice:has_but:ind to payload RTE_valid.\n",
      "Added label_set with 26/277 labels for task RTE_slice:has_but:pred to payload RTE_valid.\n",
      "Added label_set with 277/277 labels for task RTE_slice:common_negation:ind to payload RTE_valid.\n",
      "Added label_set with 33/277 labels for task RTE_slice:common_negation:pred to payload RTE_valid.\n",
      "Added label_set with 3000/3000 labels for task RTE_slice:has_temporal_preposition:ind to payload RTE_test.\n",
      "Added label_set with 414/3000 labels for task RTE_slice:has_temporal_preposition:pred to payload RTE_test.\n",
      "Added label_set with 3000/3000 labels for task RTE_slice:has_possessive_preposition:ind to payload RTE_test.\n",
      "Added label_set with 715/3000 labels for task RTE_slice:has_possessive_preposition:pred to payload RTE_test.\n",
      "Added label_set with 3000/3000 labels for task RTE_slice:is_comparative:ind to payload RTE_test.\n",
      "Added label_set with 300/3000 labels for task RTE_slice:is_comparative:pred to payload RTE_test.\n",
      "Added label_set with 3000/3000 labels for task RTE_slice:is_quantification:ind to payload RTE_test.\n",
      "Added label_set with 868/3000 labels for task RTE_slice:is_quantification:pred to payload RTE_test.\n",
      "Added label_set with 3000/3000 labels for task RTE_slice:is_quantification_hypothesis:ind to payload RTE_test.\n",
      "Added label_set with 145/3000 labels for task RTE_slice:is_quantification_hypothesis:pred to payload RTE_test.\n",
      "Added label_set with 3000/3000 labels for task RTE_slice:has_multiple_articles:ind to payload RTE_test.\n",
      "Added label_set with 823/3000 labels for task RTE_slice:has_multiple_articles:pred to payload RTE_test.\n",
      "Added label_set with 3000/3000 labels for task RTE_slice:has_wh_words:ind to payload RTE_test.\n",
      "Added label_set with 745/3000 labels for task RTE_slice:has_wh_words:pred to payload RTE_test.\n",
      "Added label_set with 3000/3000 labels for task RTE_slice:short_hypothesis:ind to payload RTE_test.\n",
      "Added label_set with 223/3000 labels for task RTE_slice:short_hypothesis:pred to payload RTE_test.\n",
      "Added label_set with 3000/3000 labels for task RTE_slice:long_hypothesis:ind to payload RTE_test.\n",
      "Added label_set with 186/3000 labels for task RTE_slice:long_hypothesis:pred to payload RTE_test.\n",
      "Added label_set with 3000/3000 labels for task RTE_slice:short_premise:ind to payload RTE_test.\n",
      "Added label_set with 233/3000 labels for task RTE_slice:short_premise:pred to payload RTE_test.\n",
      "Added label_set with 3000/3000 labels for task RTE_slice:long_premise:ind to payload RTE_test.\n",
      "Added label_set with 238/3000 labels for task RTE_slice:long_premise:pred to payload RTE_test.\n",
      "Added label_set with 3000/3000 labels for task RTE_slice:has_coordinating_conjunction_hypothesis:ind to payload RTE_test.\n",
      "Added label_set with 1220/3000 labels for task RTE_slice:has_coordinating_conjunction_hypothesis:pred to payload RTE_test.\n",
      "Added label_set with 3000/3000 labels for task RTE_slice:has_but:ind to payload RTE_test.\n",
      "Added label_set with 243/3000 labels for task RTE_slice:has_but:pred to payload RTE_test.\n",
      "Added label_set with 3000/3000 labels for task RTE_slice:common_negation:ind to payload RTE_test.\n",
      "Added label_set with 421/3000 labels for task RTE_slice:common_negation:pred to payload RTE_test.\n"
     ]
    }
   ],
   "source": [
    "# Create tasks and payloads\n",
    "task_kwargs.update({\"slice_dict\": {\"RTE\": rte_slices}})\n",
    "task_kwargs['attention'] = None\n",
    "\n",
    "tasks_slice, payloads_slice = create_glue_tasks_payloads(\n",
    "    task_names, **task_kwargs\n",
    ")"
   ]
  },
  {
   "cell_type": "markdown",
   "metadata": {},
   "source": [
    "### Evaluate baseline slices"
   ]
  },
  {
   "cell_type": "code",
   "execution_count": 15,
   "metadata": {
    "scrolled": true
   },
   "outputs": [
    {
     "name": "stdout",
     "output_type": "stream",
     "text": [
      "labelset 'RTE_slice:has_temporal_preposition:pred' -> task 'RTE' (originally, RTE_slice:has_temporal_preposition:pred).\n",
      "labelset 'RTE_slice:has_temporal_preposition:ind' -> task 'None' (originally, RTE_slice:has_temporal_preposition:ind).\n",
      "labelset 'RTE_slice:has_possessive_preposition:pred' -> task 'RTE' (originally, RTE_slice:has_possessive_preposition:pred).\n",
      "labelset 'RTE_slice:has_possessive_preposition:ind' -> task 'None' (originally, RTE_slice:has_possessive_preposition:ind).\n",
      "labelset 'RTE_slice:is_comparative:pred' -> task 'RTE' (originally, RTE_slice:is_comparative:pred).\n",
      "labelset 'RTE_slice:is_comparative:ind' -> task 'None' (originally, RTE_slice:is_comparative:ind).\n",
      "labelset 'RTE_slice:is_quantification:pred' -> task 'RTE' (originally, RTE_slice:is_quantification:pred).\n",
      "labelset 'RTE_slice:is_quantification:ind' -> task 'None' (originally, RTE_slice:is_quantification:ind).\n",
      "labelset 'RTE_slice:is_quantification_hypothesis:pred' -> task 'RTE' (originally, RTE_slice:is_quantification_hypothesis:pred).\n",
      "labelset 'RTE_slice:is_quantification_hypothesis:ind' -> task 'None' (originally, RTE_slice:is_quantification_hypothesis:ind).\n",
      "labelset 'RTE_slice:has_multiple_articles:pred' -> task 'RTE' (originally, RTE_slice:has_multiple_articles:pred).\n",
      "labelset 'RTE_slice:has_multiple_articles:ind' -> task 'None' (originally, RTE_slice:has_multiple_articles:ind).\n",
      "labelset 'RTE_slice:has_wh_words:pred' -> task 'RTE' (originally, RTE_slice:has_wh_words:pred).\n",
      "labelset 'RTE_slice:has_wh_words:ind' -> task 'None' (originally, RTE_slice:has_wh_words:ind).\n",
      "labelset 'RTE_slice:short_hypothesis:pred' -> task 'RTE' (originally, RTE_slice:short_hypothesis:pred).\n",
      "labelset 'RTE_slice:short_hypothesis:ind' -> task 'None' (originally, RTE_slice:short_hypothesis:ind).\n",
      "labelset 'RTE_slice:long_hypothesis:pred' -> task 'RTE' (originally, RTE_slice:long_hypothesis:pred).\n",
      "labelset 'RTE_slice:long_hypothesis:ind' -> task 'None' (originally, RTE_slice:long_hypothesis:ind).\n",
      "labelset 'RTE_slice:short_premise:pred' -> task 'RTE' (originally, RTE_slice:short_premise:pred).\n",
      "labelset 'RTE_slice:short_premise:ind' -> task 'None' (originally, RTE_slice:short_premise:ind).\n",
      "labelset 'RTE_slice:long_premise:pred' -> task 'RTE' (originally, RTE_slice:long_premise:pred).\n",
      "labelset 'RTE_slice:long_premise:ind' -> task 'None' (originally, RTE_slice:long_premise:ind).\n",
      "labelset 'RTE_slice:has_coordinating_conjunction_hypothesis:pred' -> task 'RTE' (originally, RTE_slice:has_coordinating_conjunction_hypothesis:pred).\n",
      "labelset 'RTE_slice:has_coordinating_conjunction_hypothesis:ind' -> task 'None' (originally, RTE_slice:has_coordinating_conjunction_hypothesis:ind).\n",
      "labelset 'RTE_slice:has_but:pred' -> task 'RTE' (originally, RTE_slice:has_but:pred).\n",
      "labelset 'RTE_slice:has_but:ind' -> task 'None' (originally, RTE_slice:has_but:ind).\n",
      "labelset 'RTE_slice:common_negation:pred' -> task 'RTE' (originally, RTE_slice:common_negation:pred).\n",
      "labelset 'RTE_slice:common_negation:ind' -> task 'None' (originally, RTE_slice:common_negation:ind).\n"
     ]
    }
   ],
   "source": [
    "import copy\n",
    "eval_payload = copy.deepcopy(payloads_slice[1])\n",
    "\n",
    "# NOTE: we need to retarget slices to the original RTE head\n",
    "for slice_name in rte_slices:\n",
    "    label_name = f\"RTE_slice:{slice_name}\"\n",
    "    eval_payload._retarget_labelset(f'{label_name}:pred', 'RTE')\n",
    "    eval_payload._retarget_labelset(f'{label_name}:ind', None)"
   ]
  },
  {
   "cell_type": "code",
   "execution_count": 16,
   "metadata": {
    "scrolled": true
   },
   "outputs": [
    {
     "data": {
      "text/plain": [
       "Payload(RTE_valid: labels_to_tasks=[{'RTE_gold': 'RTE', 'RTE_slice:has_temporal_preposition:ind': None, 'RTE_slice:has_temporal_preposition:pred': 'RTE', 'RTE_slice:has_possessive_preposition:ind': None, 'RTE_slice:has_possessive_preposition:pred': 'RTE', 'RTE_slice:is_comparative:ind': None, 'RTE_slice:is_comparative:pred': 'RTE', 'RTE_slice:is_quantification:ind': None, 'RTE_slice:is_quantification:pred': 'RTE', 'RTE_slice:is_quantification_hypothesis:ind': None, 'RTE_slice:is_quantification_hypothesis:pred': 'RTE', 'RTE_slice:has_multiple_articles:ind': None, 'RTE_slice:has_multiple_articles:pred': 'RTE', 'RTE_slice:has_wh_words:ind': None, 'RTE_slice:has_wh_words:pred': 'RTE', 'RTE_slice:short_hypothesis:ind': None, 'RTE_slice:short_hypothesis:pred': 'RTE', 'RTE_slice:long_hypothesis:ind': None, 'RTE_slice:long_hypothesis:pred': 'RTE', 'RTE_slice:short_premise:ind': None, 'RTE_slice:short_premise:pred': 'RTE', 'RTE_slice:long_premise:ind': None, 'RTE_slice:long_premise:pred': 'RTE', 'RTE_slice:has_coordinating_conjunction_hypothesis:ind': None, 'RTE_slice:has_coordinating_conjunction_hypothesis:pred': 'RTE', 'RTE_slice:has_but:ind': None, 'RTE_slice:has_but:pred': 'RTE', 'RTE_slice:common_negation:ind': None, 'RTE_slice:common_negation:pred': 'RTE'}], split=valid)"
      ]
     },
     "execution_count": 16,
     "metadata": {},
     "output_type": "execute_result"
    }
   ],
   "source": [
    "eval_payload"
   ]
  },
  {
   "cell_type": "code",
   "execution_count": 17,
   "metadata": {},
   "outputs": [
    {
     "data": {
      "text/plain": [
       "{'RTE/RTE_valid/RTE_gold/accuracy': 0.740072202166065,\n",
       " 'RTE/RTE_valid/RTE_slice:has_temporal_preposition:pred/accuracy': 0.8333333333333334,\n",
       " 'RTE/RTE_valid/RTE_slice:has_possessive_preposition:pred/accuracy': 0.6363636363636364,\n",
       " 'RTE/RTE_valid/RTE_slice:is_comparative:pred/accuracy': 0.7741935483870968,\n",
       " 'RTE/RTE_valid/RTE_slice:is_quantification:pred/accuracy': 0.6931818181818182,\n",
       " 'RTE/RTE_valid/RTE_slice:is_quantification_hypothesis:pred/accuracy': 0.7692307692307693,\n",
       " 'RTE/RTE_valid/RTE_slice:has_multiple_articles:pred/accuracy': 0.8026315789473685,\n",
       " 'RTE/RTE_valid/RTE_slice:has_wh_words:pred/accuracy': 0.7222222222222222,\n",
       " 'RTE/RTE_valid/RTE_slice:short_hypothesis:pred/accuracy': 0.4,\n",
       " 'RTE/RTE_valid/RTE_slice:long_hypothesis:pred/accuracy': 0.8181818181818182,\n",
       " 'RTE/RTE_valid/RTE_slice:short_premise:pred/accuracy': 0.7272727272727273,\n",
       " 'RTE/RTE_valid/RTE_slice:long_premise:pred/accuracy': 0.7727272727272727,\n",
       " 'RTE/RTE_valid/RTE_slice:has_coordinating_conjunction_hypothesis:pred/accuracy': 0.7521367521367521,\n",
       " 'RTE/RTE_valid/RTE_slice:has_but:pred/accuracy': 0.7307692307692307,\n",
       " 'RTE/RTE_valid/RTE_slice:common_negation:pred/accuracy': 0.7878787878787878}"
      ]
     },
     "execution_count": 17,
     "metadata": {},
     "output_type": "execute_result"
    }
   ],
   "source": [
    "baseline.score(eval_payload)"
   ]
  },
  {
   "cell_type": "markdown",
   "metadata": {},
   "source": [
    "## Next\n",
    "1) Choose the above slices that seem to have gaps compraed to `_gold` labelset\n",
    "\n",
    "2) Attempt to overfit to those slices: \n",
    "```\n",
    "python launch.py --seed 1 --tasks RTE --slice_dict '{\"RTE\": [\"short_hypothesis\"]}' --model_type hard_param --model_weights /dfs/scratch0/vschen/metal-mmtl/logs/2019_04_30/17_57_08/best_model.pth --lr 5e-05 --lr_scheduler linear --optimizer adam --l2 1e-3 --n_epochs 50 --min_lr 1e-07\n",
    "```"
   ]
  },
  {
   "cell_type": "code",
   "execution_count": null,
   "metadata": {},
   "outputs": [],
   "source": []
  }
 ],
 "metadata": {
  "kernelspec": {
   "display_name": "Python 3",
   "language": "python",
   "name": "python3"
  },
  "language_info": {
   "codemirror_mode": {
    "name": "ipython",
    "version": 3
   },
   "file_extension": ".py",
   "mimetype": "text/x-python",
   "name": "python",
   "nbconvert_exporter": "python",
   "pygments_lexer": "ipython3",
   "version": "3.6.7"
  }
 },
 "nbformat": 4,
 "nbformat_minor": 2
}
