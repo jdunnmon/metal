{
 "cells": [
  {
   "cell_type": "code",
   "execution_count": 21,
   "metadata": {},
   "outputs": [],
   "source": [
    "import torch\n",
    "from torch.autograd import Variable\n",
    "import os\n",
    "from metal.mmtl.cxr.analysis.notebooks.cxr_analysis import load_log_json, load_results_from_log\n",
    "from metal.mmtl.cxr.cxr_tasks import create_tasks_and_payloads"
   ]
  },
  {
   "cell_type": "code",
   "execution_count": 103,
   "metadata": {},
   "outputs": [
    {
     "name": "stderr",
     "output_type": "stream",
     "text": [
      "/home/jdunnmon/Research/repos/anaconda3/envs/metal/lib/python3.6/site-packages/torch/serialization.py:435: SourceChangeWarning: source code of class 'torchvision.models.densenet.DenseNet' has changed. you can retrieve the original source code by accessing the object's source attribute or set `torch.nn.Module.dump_patches = True` and use the patch tool to revert the changes.\n",
      "  warnings.warn(msg, SourceChangeWarning)\n"
     ]
    }
   ],
   "source": [
    "#model_log = '/home/jdunnmon/Research/repos/metal/logs/2019_04_28/test_pneumo_slice_model_naive_10_22_22'\n",
    "#model_log = '/home/jdunnmon/Research/repos/metal/logs/2019_04_28/test_pneumo_slice_model_hps_10_19_59'\n",
    "model_log = '/home/jdunnmon/Research/repos/metal/logs/2019_04_28/test_pneumo_slice_model_22_19_24'\n",
    "model = torch.load(os.path.join(model_log,'model.pkl'))"
   ]
  },
  {
   "cell_type": "code",
   "execution_count": 104,
   "metadata": {},
   "outputs": [
    {
     "name": "stdout",
     "output_type": "stream",
     "text": [
      "Loading CXR8-DRAIN Dataset\n",
      "Using resolution 224...\n",
      "Using dataset seed: 1701\n",
      "Using resolution 224...\n",
      "Using dataset seed: 1701\n"
     ]
    },
    {
     "name": "stderr",
     "output_type": "stream",
     "text": [
      "/home/jdunnmon/Research/repos/anaconda3/envs/metal/lib/python3.6/site-packages/torchvision/transforms/transforms.py:208: UserWarning: The use of the transforms.Scale transform is deprecated, please use transforms.Resize instead.\n",
      "  \"please use transforms.Resize instead.\")\n"
     ]
    },
    {
     "name": "stdout",
     "output_type": "stream",
     "text": [
      "Using resolution 224...\n",
      "Using dataset seed: 1701\n",
      "Added label_set with 78468/78468 labels for task CXR8-DRAIN_PNEUMOTHORAX_slice:chest_drain_cnn_neg:ind to payload CXR8-DRAIN_train.\n",
      "Added label_set with 62608/78468 labels for task CXR8-DRAIN_PNEUMOTHORAX_slice:chest_drain_cnn_neg:pred to payload CXR8-DRAIN_train.\n",
      "Added label_set with 78468/78468 labels for task CXR8-DRAIN_PNEUMOTHORAX_slice:BASE:ind to payload CXR8-DRAIN_train.\n",
      "Added label_set with 78468/78468 labels for task CXR8-DRAIN_PNEUMOTHORAX_slice:BASE:pred to payload CXR8-DRAIN_train.\n",
      "Added label_set with 11259/11259 labels for task CXR8-DRAIN_PNEUMOTHORAX_slice:chest_drain_cnn_neg:ind to payload CXR8-DRAIN_valid.\n",
      "Added label_set with 208/11259 labels for task CXR8-DRAIN_PNEUMOTHORAX_slice:chest_drain_cnn_neg:pred to payload CXR8-DRAIN_valid.\n",
      "Added label_set with 11259/11259 labels for task CXR8-DRAIN_PNEUMOTHORAX_slice:BASE:ind to payload CXR8-DRAIN_valid.\n",
      "Added label_set with 11259/11259 labels for task CXR8-DRAIN_PNEUMOTHORAX_slice:BASE:pred to payload CXR8-DRAIN_valid.\n",
      "Added label_set with 22393/22393 labels for task CXR8-DRAIN_PNEUMOTHORAX_slice:chest_drain_cnn_neg:ind to payload CXR8-DRAIN_test.\n",
      "Added label_set with 208/22393 labels for task CXR8-DRAIN_PNEUMOTHORAX_slice:chest_drain_cnn_neg:pred to payload CXR8-DRAIN_test.\n",
      "Added label_set with 22393/22393 labels for task CXR8-DRAIN_PNEUMOTHORAX_slice:BASE:ind to payload CXR8-DRAIN_test.\n",
      "Added label_set with 22393/22393 labels for task CXR8-DRAIN_PNEUMOTHORAX_slice:BASE:pred to payload CXR8-DRAIN_test.\n"
     ]
    }
   ],
   "source": [
    "os.environ['CXRDATA']='/data/datasets/mmtl/cxr/'\n",
    "os.environ['CXR8IMAGES']='/data/datasets/nih/images/images'\n",
    "log_jsons = load_results_from_log(model_log)\n",
    "task_names = ['CXR8-DRAIN_ALL']\n",
    "tasks, payloads = create_tasks_and_payloads(task_names, **log_jsons['task_config'], batch_size=1)"
   ]
  },
  {
   "cell_type": "code",
   "execution_count": 105,
   "metadata": {},
   "outputs": [],
   "source": [
    "dl = payloads[0].data_loader\n",
    "batch = next(iter(dl))"
   ]
  },
  {
   "cell_type": "code",
   "execution_count": 106,
   "metadata": {},
   "outputs": [],
   "source": [
    "from torchviz import make_dot\n",
    "x,y = batch\n",
    "out = model(x, task_names=set(payloads[0].labels_to_tasks.values()))"
   ]
  },
  {
   "cell_type": "code",
   "execution_count": 107,
   "metadata": {},
   "outputs": [],
   "source": [
    "out_var = torch.sum(torch.stack([v['data'] for k,v in out.items()]))"
   ]
  },
  {
   "cell_type": "code",
   "execution_count": 108,
   "metadata": {},
   "outputs": [],
   "source": [
    "#prms = {k:v for k,v in model.named_parameters() if 'input_module' not in k}"
   ]
  },
  {
   "cell_type": "code",
   "execution_count": 115,
   "metadata": {},
   "outputs": [],
   "source": [
    "a = make_dot(out['CXR8-DRAIN_PNEUMOTHORAX_slice:BASE:pred']['data'], params = dict(model.named_parameters()))"
   ]
  },
  {
   "cell_type": "code",
   "execution_count": 116,
   "metadata": {},
   "outputs": [
    {
     "data": {
      "text/plain": [
       "'test-slice-viz-pneumo-BASE-sps.eps'"
      ]
     },
     "execution_count": 116,
     "metadata": {},
     "output_type": "execute_result"
    }
   ],
   "source": [
    "a.render(filename='test-slice-viz-pneumo-BASE-sps',format='eps')"
   ]
  },
  {
   "cell_type": "code",
   "execution_count": 77,
   "metadata": {},
   "outputs": [
    {
     "data": {
      "text/plain": [
       "\u001b[0;31mSignature:\u001b[0m\n",
       "\u001b[0ma\u001b[0m\u001b[0;34m.\u001b[0m\u001b[0mrender\u001b[0m\u001b[0;34m(\u001b[0m\u001b[0;34m\u001b[0m\n",
       "\u001b[0;34m\u001b[0m    \u001b[0mfilename\u001b[0m\u001b[0;34m=\u001b[0m\u001b[0;32mNone\u001b[0m\u001b[0;34m,\u001b[0m\u001b[0;34m\u001b[0m\n",
       "\u001b[0;34m\u001b[0m    \u001b[0mdirectory\u001b[0m\u001b[0;34m=\u001b[0m\u001b[0;32mNone\u001b[0m\u001b[0;34m,\u001b[0m\u001b[0;34m\u001b[0m\n",
       "\u001b[0;34m\u001b[0m    \u001b[0mview\u001b[0m\u001b[0;34m=\u001b[0m\u001b[0;32mFalse\u001b[0m\u001b[0;34m,\u001b[0m\u001b[0;34m\u001b[0m\n",
       "\u001b[0;34m\u001b[0m    \u001b[0mcleanup\u001b[0m\u001b[0;34m=\u001b[0m\u001b[0;32mFalse\u001b[0m\u001b[0;34m,\u001b[0m\u001b[0;34m\u001b[0m\n",
       "\u001b[0;34m\u001b[0m    \u001b[0mformat\u001b[0m\u001b[0;34m=\u001b[0m\u001b[0;32mNone\u001b[0m\u001b[0;34m,\u001b[0m\u001b[0;34m\u001b[0m\n",
       "\u001b[0;34m\u001b[0m    \u001b[0mrenderer\u001b[0m\u001b[0;34m=\u001b[0m\u001b[0;32mNone\u001b[0m\u001b[0;34m,\u001b[0m\u001b[0;34m\u001b[0m\n",
       "\u001b[0;34m\u001b[0m    \u001b[0mformatter\u001b[0m\u001b[0;34m=\u001b[0m\u001b[0;32mNone\u001b[0m\u001b[0;34m,\u001b[0m\u001b[0;34m\u001b[0m\n",
       "\u001b[0;34m\u001b[0m\u001b[0;34m)\u001b[0m\u001b[0;34m\u001b[0m\u001b[0;34m\u001b[0m\u001b[0m\n",
       "\u001b[0;31mDocstring:\u001b[0m\n",
       "Save the source to file and render with the Graphviz engine.\n",
       "\n",
       "Args:\n",
       "    filename: Filename for saving the source (defaults to ``name`` + ``'.gv'``)\n",
       "    directory: (Sub)directory for source saving and rendering.\n",
       "    view (bool): Open the rendered result with the default application.\n",
       "    cleanup (bool): Delete the source file after rendering.\n",
       "    format: The output format used for rendering (``'pdf'``, ``'png'``, etc.).\n",
       "    renderer: The output renderer used for rendering (``'cairo'``, ``'gd'``, ...).\n",
       "    formatter: The output formatter used for rendering (``'cairo'``, ``'gd'``, ...).\n",
       "Returns:\n",
       "    The (possibly relative) path of the rendered file.\n",
       "Raises:\n",
       "    ValueError: If ``format``, ``renderer``, or ``formatter`` are not known.\n",
       "    graphviz.RequiredArgumentError: If ``formatter`` is given but ``renderer`` is None.\n",
       "    graphviz.ExecutableNotFound: If the Graphviz executable is not found.\n",
       "    subprocess.CalledProcessError: If the exit status is non-zero.\n",
       "    RuntimeError: If viewer opening is requested but not supported.\n",
       "\u001b[0;31mFile:\u001b[0m      ~/Research/repos/anaconda3/envs/metal/lib/python3.6/site-packages/graphviz/files.py\n",
       "\u001b[0;31mType:\u001b[0m      method\n"
      ]
     },
     "metadata": {},
     "output_type": "display_data"
    }
   ],
   "source": [
    "a.render?"
   ]
  },
  {
   "cell_type": "code",
   "execution_count": null,
   "metadata": {},
   "outputs": [],
   "source": []
  }
 ],
 "metadata": {
  "kernelspec": {
   "display_name": "Python [conda env:metal] *",
   "language": "python",
   "name": "conda-env-metal-py"
  },
  "language_info": {
   "codemirror_mode": {
    "name": "ipython",
    "version": 3
   },
   "file_extension": ".py",
   "mimetype": "text/x-python",
   "name": "python",
   "nbconvert_exporter": "python",
   "pygments_lexer": "ipython3",
   "version": "3.6.7"
  }
 },
 "nbformat": 4,
 "nbformat_minor": 2
}
