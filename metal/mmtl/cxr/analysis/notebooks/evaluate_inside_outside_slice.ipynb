{
 "cells": [
  {
   "cell_type": "code",
   "execution_count": 2,
   "metadata": {},
   "outputs": [],
   "source": [
    "%load_ext autoreload\n",
    "%autoreload 2\n",
    "\n",
    "import torch\n",
    "from torch.autograd import Variable\n",
    "import os\n",
    "from metal.mmtl.cxr.analysis.notebooks.cxr_analysis import load_log_json, load_results_from_log\n",
    "from metal.mmtl.cxr.cxr_tasks import create_tasks_and_payloads"
   ]
  },
  {
   "cell_type": "code",
   "execution_count": 3,
   "metadata": {},
   "outputs": [],
   "source": [
    "#model_log = '/home/jdunnmon/Research/repos/metal/logs/2019_04_28/test_pneumo_slice_model_naive_10_22_22'\n",
    "#model_log = '/home/jdunnmon/Research/repos/metal/logs/2019_04_28/test_pneumo_slice_model_hps_10_19_59'\n",
    "#model_log = '/home/jdunnmon/Research/repos/metal/logs/2019_04_28/test_pneumo_slice_model_22_19_24'\n",
    "model_log = '/lfs/1/jdunnmon/repos/metal/logs/2019_05_02/sps_drain_slice_neg_test_fine_tune_all_pneumo_10_16_56'\n",
    "model = torch.load(os.path.join(model_log,'model.pkl'))"
   ]
  },
  {
   "cell_type": "code",
   "execution_count": 4,
   "metadata": {},
   "outputs": [
    {
     "name": "stdout",
     "output_type": "stream",
     "text": [
      "Could not find kwarg \"finding\" in destination dict.\n"
     ]
    },
    {
     "name": "stderr",
     "output_type": "stream",
     "text": [
      "/lfs/1/jdunnmon/repos/anaconda3/envs/metal/lib/python3.6/site-packages/torchvision/models/densenet.py:212: UserWarning: nn.init.kaiming_normal is now deprecated in favor of nn.init.kaiming_normal_.\n",
      "  nn.init.kaiming_normal(m.weight.data)\n"
     ]
    },
    {
     "name": "stdout",
     "output_type": "stream",
     "text": [
      "Loading CXR8-DRAIN Dataset\n",
      "Using train finding ALL\n",
      "Using resolution 224...\n"
     ]
    },
    {
     "name": "stderr",
     "output_type": "stream",
     "text": [
      "/lfs/1/jdunnmon/repos/anaconda3/envs/metal/lib/python3.6/site-packages/torchvision/transforms/transforms.py:188: UserWarning: The use of the transforms.Scale transform is deprecated, please use transforms.Resize instead.\n",
      "  \"please use transforms.Resize instead.\")\n"
     ]
    },
    {
     "name": "stdout",
     "output_type": "stream",
     "text": [
      "Using dataset seed: 1701\n",
      "Using eval finding ALL\n",
      "Using resolution 224...\n",
      "Using dataset seed: 1701\n",
      "Using eval finding ALL\n",
      "Using resolution 224...\n",
      "Using dataset seed: 1701\n",
      "Added label_set with 78468/78468 labels for task CXR8-DRAIN_PNEUMOTHORAX_slice:chest_drain_cnn_neg:ind to payload CXR8-DRAIN_train.\n",
      "Added label_set with 62608/78468 labels for task CXR8-DRAIN_PNEUMOTHORAX_slice:chest_drain_cnn_neg:pred to payload CXR8-DRAIN_train.\n",
      "Added label_set with 78468/78468 labels for task CXR8-DRAIN_PNEUMOTHORAX_slice:BASE:ind to payload CXR8-DRAIN_train.\n",
      "Added label_set with 78468/78468 labels for task CXR8-DRAIN_PNEUMOTHORAX_slice:BASE:pred to payload CXR8-DRAIN_train.\n",
      "Added label_set with 11259/11259 labels for task CXR8-DRAIN_PNEUMOTHORAX_slice:chest_drain_cnn_neg:ind to payload CXR8-DRAIN_valid.\n",
      "Added label_set with 10923/11259 labels for task CXR8-DRAIN_PNEUMOTHORAX_slice:chest_drain_cnn_neg:pred to payload CXR8-DRAIN_valid.\n",
      "Added label_set with 11259/11259 labels for task CXR8-DRAIN_PNEUMOTHORAX_slice:BASE:ind to payload CXR8-DRAIN_valid.\n",
      "Added label_set with 11259/11259 labels for task CXR8-DRAIN_PNEUMOTHORAX_slice:BASE:pred to payload CXR8-DRAIN_valid.\n",
      "Added label_set with 22393/22393 labels for task CXR8-DRAIN_PNEUMOTHORAX_slice:chest_drain_cnn_neg:ind to payload CXR8-DRAIN_test.\n",
      "Added label_set with 21552/22393 labels for task CXR8-DRAIN_PNEUMOTHORAX_slice:chest_drain_cnn_neg:pred to payload CXR8-DRAIN_test.\n",
      "Added label_set with 22393/22393 labels for task CXR8-DRAIN_PNEUMOTHORAX_slice:BASE:ind to payload CXR8-DRAIN_test.\n",
      "Added label_set with 22393/22393 labels for task CXR8-DRAIN_PNEUMOTHORAX_slice:BASE:pred to payload CXR8-DRAIN_test.\n"
     ]
    }
   ],
   "source": [
    "#os.environ['CXRDATA']='/data/datasets/mmtl/cxr/'\n",
    "#os.environ['CXR8IMAGES']='/data/datasets/nih/images/images'\n",
    "os.environ['CXRDATA']='/dfs/scratch0/jdunnmon/data/mmtl/cxr'\n",
    "os.environ['CXR8IMAGES']='/lfs/1/jdunnmon/data/nih/images/images'\n",
    "log_jsons = load_results_from_log(model_log)\n",
    "log_jsons['task_config']['subsample'] = -1\n",
    "log_jsons['task_config']['eval_finding'] = 'ALL'\n",
    "task_names=['CXR8-DRAIN_ALL']\n",
    "tasks, payloads = create_tasks_and_payloads(task_names, **log_jsons['task_config'], batch_size=32)"
   ]
  },
  {
   "cell_type": "code",
   "execution_count": 21,
   "metadata": {},
   "outputs": [],
   "source": [
    "predict_tasks = {'CXR8-DRAIN_PNEUMOTHORAX_slice:chest_drain_cnn_neg:pred':'NO CHEST DRAINS',\n",
    "              'CXR8-DRAIN_PNEUMOTHORAX_slice:chest_drain_cnn_neg:ind':'NO CHEST DRAINS IND',\n",
    "              'CXR8-DRAIN_PNEUMOTHORAX':'ALL'}\n",
    "model.cuda()\n",
    "Ys, Ys_probs, Ys_preds, Ys_meta = model.predict_with_gold(payloads[1],\n",
    "    target_tasks=predict_tasks.keys(),\n",
    "    target_labels=predict_tasks.keys(),\n",
    "    return_preds=True,\n",
    "    return_meta=['uid'])"
   ]
  },
  {
   "cell_type": "code",
   "execution_count": 22,
   "metadata": {},
   "outputs": [
    {
     "name": "stdout",
     "output_type": "stream",
     "text": [
      "Scoring CXR8-DRAIN_PNEUMOTHORAX_slice:chest_drain_cnn_neg:pred\n",
      "{'f1': 0.11019283746556476, 'roc-auc': 0.7748994938798952, 'prc-auc': 0.5313466368395185, 'accuracy': 0.97042936922091, 'precision': 0.12903225806451613, 'recall': 0.09615384615384616}\n",
      "Scoring CXR8-DRAIN_PNEUMOTHORAX_slice:chest_drain_cnn_neg:ind\n",
      "{'f1': 0.9013338662137184, 'roc-auc': 0.8998928647720189, 'prc-auc': 0.5988238997836812, 'accuracy': 0.8245847766231459, 'precision': 0.9919727292720475, 'recall': 0.8258720131831915}\n",
      "Scoring CXR8-DRAIN_PNEUMOTHORAX\n",
      "{'f1': 0.42162162162162165, 'roc-auc': 0.8843707539595399, 'prc-auc': 0.6980156885114633, 'accuracy': 0.9524824584776623, 'precision': 0.5118110236220472, 'recall': 0.3584558823529412}\n"
     ]
    }
   ],
   "source": [
    "eval_tasks = {'CXR8-DRAIN_PNEUMOTHORAX_slice:chest_drain_cnn_neg:pred':'NO CHEST DRAINS',\n",
    "              'CXR8-DRAIN_PNEUMOTHORAX_slice:chest_drain_cnn_neg:ind':'NO CHEST DRAINS IND',\n",
    "              'CXR8-DRAIN_PNEUMOTHORAX':'ALL'}\n",
    "\n",
    "from metal.metrics import roc_auc_score, prc_auc_score\n",
    "fpr = {}\n",
    "tpr = {}\n",
    "thresh = {}\n",
    "scores = {}\n",
    "prc = {}\n",
    "rec = {}\n",
    "for score_task in eval_tasks.keys():\n",
    "    scorer = model.task_map[score_task].scorer\n",
    "    scorer.standard_metrics = ['f1','roc-auc','prc-auc','accuracy','precision','recall']\n",
    "    print(f\"Scoring {score_task}\")\n",
    "    scores[score_task] = scorer.score(\n",
    "                    Ys[score_task],\n",
    "                    Ys_probs[score_task],\n",
    "                    Ys_preds[score_task],\n",
    "                    #target_metrics=target_metrics[label_name],\n",
    "                )\n",
    "    print(scores[score_task])\n",
    "    fpr[score_task], tpr[score_task], thresh[score_task] = roc_auc_score(Ys[score_task],Ys_probs[score_task],ignore_in_gold=[0],return_roc=True)\n",
    "    prc[score_task], rec[score_task], _ = prc_auc_score(Ys[score_task],Ys_probs[score_task],ignore_in_gold=[0],return_prc=True)"
   ]
  },
  {
   "cell_type": "code",
   "execution_count": 206,
   "metadata": {},
   "outputs": [],
   "source": [
    "import numpy as np\n",
    "\n",
    "outside_slice_task = 'WITH CHEST DRAINS'\n",
    "eval_tasks['outside_slice_task'] = outside_slice_task\n",
    "\n",
    "# Get inds inside drain slice\n",
    "drain_slice_inds = np.array([a[0]==1 for a in Ys['CXR8-DRAIN_PNEUMOTHORAX_slice:chest_drain_cnn_neg:ind']])\n",
    "# Get inds with pneumos\n",
    "pneumo_inds = np.array([a[0]==1 for a in Ys['CXR8-DRAIN_PNEUMOTHORAX']])\n",
    "# Get pneumos outside drain slice + negatives\n",
    "outside_drain_slice_inds = np.array([pneumo_inds[i]*~drain_slice_inds[i] or ~pneumo_inds[i] for i in range(len(Ys['CXR8-DRAIN_PNEUMOTHORAX']))])\n",
    "# Add to Ys, Y_preds, etc\n",
    "Ys['outside_slice_task'] = np.array(Ys['CXR8-DRAIN_PNEUMOTHORAX'])[outside_drain_slice_inds]\n",
    "Ys_probs['outside_slice_task'] = np.array(Ys_probs['CXR8-DRAIN_PNEUMOTHORAX'])[outside_drain_slice_inds]\n",
    "Ys_preds['outside_slice_task'] = np.array(Ys_preds['CXR8-DRAIN_PNEUMOTHORAX'])[outside_drain_slice_inds]\n"
   ]
  },
  {
   "cell_type": "code",
   "execution_count": 26,
   "metadata": {},
   "outputs": [],
   "source": [
    "score_task = 'outside_slice_task'\n",
    "scores[score_task] = {}\n",
    "fpr[score_task], tpr[score_task], _ = roc_auc_score(Ys[score_task],Ys_probs[score_task],ignore_in_gold=[0],return_roc=True)\n",
    "prc[score_task], rec[score_task], _ = prc_auc_score(Ys[score_task],Ys_probs[score_task],ignore_in_gold=[0],return_prc=True)\n",
    "scores[score_task]['roc-auc'] = roc_auc_score(Ys[score_task],Ys_probs[score_task],ignore_in_gold=[0],return_roc=False)\n",
    "scores[score_task]['prc-auc'] = prc_auc_score(Ys[score_task],Ys_probs[score_task],ignore_in_gold=[0],return_prc=False)\n",
    "\n"
   ]
  },
  {
   "cell_type": "code",
   "execution_count": 41,
   "metadata": {},
   "outputs": [
    {
     "data": {
      "image/png": "[encoded data removed]",
      "text/plain": [
       "<Figure size 432x288 with 1 Axes>"
      ]
     },
     "metadata": {
      "needs_background": "light"
     },
     "output_type": "display_data"
    }
   ],
   "source": [
    "import matplotlib.pyplot as plt\n",
    "plt.figure()\n",
    "lw = 2\n",
    "for score_task in eval_tasks:\n",
    "    if \":ind\" not in score_task:\n",
    "        plt.plot(fpr[score_task], tpr[score_task],\n",
    "             lw=lw, label=f'{eval_tasks[score_task]}: AUC %0.2f' % scores[score_task]['roc-auc'])\n",
    "plt.plot([0, 1], [0, 1], color='navy', lw=lw, linestyle='--')\n",
    "plt.xlim([0.0, 1.0])\n",
    "plt.ylim([0.0, 1.05])\n",
    "plt.xlabel('False Positive Rate')\n",
    "plt.ylabel('True Positive Rate')\n",
    "plt.title('Drain Slice vs. All Pneumothorax Examples')\n",
    "plt.legend(loc=\"lower right\")\n",
    "plt.savefig('../figures/05_04_2019/roc-slice-val.png')\n",
    "plt.show()"
   ]
  },
  {
   "cell_type": "code",
   "execution_count": 39,
   "metadata": {},
   "outputs": [
    {
     "data": {
      "image/png": "[encoded data removed]",
      "text/plain": [
       "<Figure size 432x288 with 1 Axes>"
      ]
     },
     "metadata": {
      "needs_background": "light"
     },
     "output_type": "display_data"
    }
   ],
   "source": [
    "import matplotlib.pyplot as plt\n",
    "plt.figure()\n",
    "lw = 2\n",
    "for score_task in eval_tasks:\n",
    "    if \":ind\" not in score_task:\n",
    "        plt.plot(rec[score_task], prc[score_task],\n",
    "                 lw=lw, label=f'{eval_tasks[score_task]}: MAP %0.2f' % scores[score_task]['prc-auc'])\n",
    "plt.xlim([0.0, 1.0])\n",
    "plt.ylim([0.0, 1.05])\n",
    "plt.xlabel('False Positive Rate')\n",
    "plt.ylabel('True Positive Rate')\n",
    "plt.title('Drain Slice vs. All Pneumothorax Evaluation')\n",
    "plt.legend(loc=\"upper right\")\n",
    "plt.savefig('../figures/05_04_2019/prc-slice-val.png')\n",
    "plt.show()"
   ]
  },
  {
   "cell_type": "markdown",
   "metadata": {},
   "source": [
    "## SANDBOX"
   ]
  },
  {
   "cell_type": "code",
   "execution_count": 43,
   "metadata": {},
   "outputs": [],
   "source": [
    "outside_drain_slice_pneumos = np.array([pneumo_inds[i]*~drain_slice_inds[i] for i in range(len(Ys['CXR8-DRAIN_PNEUMOTHORAX']))])\n",
    "inside_drain_slice_pneumos = np.array([pneumo_inds[i]*drain_slice_inds[i] for i in range(len(Ys['CXR8-DRAIN_PNEUMOTHORAX']))])"
   ]
  },
  {
   "cell_type": "code",
   "execution_count": 59,
   "metadata": {},
   "outputs": [],
   "source": [
    "Ys['no_drain_pneumos'] = np.array(Ys['CXR8-DRAIN_PNEUMOTHORAX'])[inside_drain_slice_pneumos]\n",
    "Ys_probs['no_drain_pneumos'] = np.array(Ys_probs['CXR8-DRAIN_PNEUMOTHORAX'])[inside_drain_slice_pneumos]\n",
    "Ys_preds['no_drain_pneumos'] = np.array(Ys_preds['CXR8-DRAIN_PNEUMOTHORAX'])[inside_drain_slice_pneumos]\n",
    "\n",
    "Ys['drain_pneumos'] = np.array(Ys['CXR8-DRAIN_PNEUMOTHORAX'])[outside_drain_slice_pneumos]\n",
    "Ys_probs['drain_pneumos'] = np.array(Ys_probs['CXR8-DRAIN_PNEUMOTHORAX'])[outside_drain_slice_pneumos]\n",
    "Ys_preds['drain_pneumos'] = np.array(Ys_preds['CXR8-DRAIN_PNEUMOTHORAX'])[outside_drain_slice_pneumos]"
   ]
  },
  {
   "cell_type": "code",
   "execution_count": 62,
   "metadata": {},
   "outputs": [
    {
     "name": "stdout",
     "output_type": "stream",
     "text": [
      "              precision    recall  f1-score   support\n",
      "\n",
      "           1       1.00      0.12      0.21       208\n",
      "           2       0.00      0.00      0.00         0\n",
      "\n",
      "   micro avg       0.12      0.12      0.12       208\n",
      "   macro avg       0.50      0.06      0.10       208\n",
      "weighted avg       1.00      0.12      0.21       208\n",
      "\n"
     ]
    },
    {
     "name": "stderr",
     "output_type": "stream",
     "text": [
      "/lfs/1/jdunnmon/repos/anaconda3/envs/metal/lib/python3.6/site-packages/sklearn/metrics/classification.py:1145: UndefinedMetricWarning: Recall and F-score are ill-defined and being set to 0.0 in labels with no true samples.\n",
      "  'recall', 'true', average, warn_for)\n"
     ]
    }
   ],
   "source": [
    "import sklearn.metrics as skm\n",
    "import pprint\n",
    "print(skm.classification_report(Ys['no_drain_pneumos'],Ys_preds['no_drain_pneumos']))"
   ]
  },
  {
   "cell_type": "code",
   "execution_count": 64,
   "metadata": {},
   "outputs": [
    {
     "name": "stdout",
     "output_type": "stream",
     "text": [
      "              precision    recall  f1-score   support\n",
      "\n",
      "           1       1.00      0.51      0.67       336\n",
      "           2       0.00      0.00      0.00         0\n",
      "\n",
      "   micro avg       0.51      0.51      0.51       336\n",
      "   macro avg       0.50      0.25      0.34       336\n",
      "weighted avg       1.00      0.51      0.67       336\n",
      "\n"
     ]
    },
    {
     "name": "stderr",
     "output_type": "stream",
     "text": [
      "/lfs/1/jdunnmon/repos/anaconda3/envs/metal/lib/python3.6/site-packages/sklearn/metrics/classification.py:1145: UndefinedMetricWarning: Recall and F-score are ill-defined and being set to 0.0 in labels with no true samples.\n",
      "  'recall', 'true', average, warn_for)\n"
     ]
    }
   ],
   "source": [
    "print(skm.classification_report(Ys['drain_pneumos'],Ys_preds['drain_pneumos']))"
   ]
  },
  {
   "cell_type": "code",
   "execution_count": 65,
   "metadata": {},
   "outputs": [
    {
     "name": "stdout",
     "output_type": "stream",
     "text": [
      "              precision    recall  f1-score   support\n",
      "\n",
      "           1       0.48      0.51      0.49       336\n",
      "           2       0.98      0.98      0.98     10715\n",
      "\n",
      "   micro avg       0.97      0.97      0.97     11051\n",
      "   macro avg       0.73      0.75      0.74     11051\n",
      "weighted avg       0.97      0.97      0.97     11051\n",
      "\n"
     ]
    }
   ],
   "source": [
    "print(skm.classification_report(Ys['outside_slice_task'],Ys_preds['outside_slice_task']))"
   ]
  },
  {
   "cell_type": "code",
   "execution_count": null,
   "metadata": {},
   "outputs": [],
   "source": [
    "Say the slice indicator is only 70% accurate, then in 30% of predictions you get the main head and do no worse… and in fact, you really only care about those cases in which the slice *overrules* the head. You could test your hypthoses by feeding some dev (not seen in train) through the indicator and seeing if it picks out those should be overruled. You can select these by hand. \n",
    "\n",
    "If you’re overfitting on train, that’s good. It means that you have capacity to fit the model.\n",
    "\n",
    "There is a decision tree, get numbers for each?\n",
    "Should be overruled/Not\n",
    "Indicator fires or not\n",
    "Prediction correct or not.\n",
    " \n",
    "If you are getting an example that should be overruled, but the prediction head is not doing it—then you have a training issue in what you’re feeding to that head?\n",
    "\n",
    "hope that helps!\n",
    "\n",
    "Chris"
   ]
  },
  {
   "cell_type": "code",
   "execution_count": 253,
   "metadata": {},
   "outputs": [
    {
     "data": {
      "text/plain": [
       "232"
      ]
     },
     "execution_count": 253,
     "metadata": {},
     "output_type": "execute_result"
    }
   ],
   "source": [
    "np.sum(correctly_indicated_for_overrule)"
   ]
  },
  {
   "cell_type": "code",
   "execution_count": 254,
   "metadata": {},
   "outputs": [
    {
     "name": "stdout",
     "output_type": "stream",
     "text": [
      "SIZE OF SLICE:\n",
      "Slice contains 10923 of 11259 examples \n",
      "\n",
      "OVERALL:\n",
      "Indicator fires on 83.0 percent of examples in the slice (9094/10923) \n",
      "\n",
      "On in-slice positive examples, the indicator correctly identifies 92.0 percent (191/208)\n",
      "On in-slice negative examples, the indicator correctly identifies 82.0 percent (8830/10715) \n",
      "\n",
      "On out-of-slice positive examples, the indicator correctly identifies 78.0 percent (263/336)\n",
      "On out-of-slice negative examples, the indicator correctly identifies nan percent (0/0) \n",
      "\n",
      "OVERRULE:\n",
      "Need to overrule 3.0 percent of examples in slice head (370/10923)\n",
      "Of these, 50.0 percent are positive (184/370)\n",
      "\n",
      "OF THOSE IN THE SLICE NEEDING TO BE OVERRULED:\n",
      "Indicator fires on 63.0 percent (232/370)\n",
      "Of these, 170 are positive and  62 are negative\n",
      "\n",
      "OF THOSE IN THE SLICE, BUT NOT NEEDING TO BE OVERRULED:\n",
      "Indicator fires on 83.0 percent (8789/10553) \n",
      "\n",
      "OF THOSE IN THE SLICE AND NEEDING TO BE OVERRULED, WHERE INDICATOR FIRES:\n",
      "Prediction correct on 0.0 percent (0/232) \n",
      "\n",
      "OF THOSE IN THE SLICE AND NEEDING TO BE OVERRULED, WHERE INDICATOR DOES NOT FIRE:\n",
      "Prediction correct on nan percent (0/0) \n",
      "\n",
      "OF THOSE IN THE SLICE AND NOT NEEDING TO BE OVERRULED, WHERE INDICATOR FIRES:\n",
      "Prediction correct on 0.0 percent (17/8789) \n",
      "\n",
      "OF THOSE IN THE SLICE AND NOT NEEDING TO BE OVERRULED, WHERE INDICATOR DOES NOT FIRE:\n",
      "Prediction correct on nan percent (0/0) \n",
      "\n"
     ]
    },
    {
     "name": "stderr",
     "output_type": "stream",
     "text": [
      "/lfs/1/jdunnmon/repos/anaconda3/envs/metal/lib/python3.6/site-packages/ipykernel_launcher.py:53: RuntimeWarning: invalid value encountered in long_scalars\n",
      "/lfs/1/jdunnmon/repos/anaconda3/envs/metal/lib/python3.6/site-packages/ipykernel_launcher.py:71: RuntimeWarning: invalid value encountered in long_scalars\n",
      "/lfs/1/jdunnmon/repos/anaconda3/envs/metal/lib/python3.6/site-packages/ipykernel_launcher.py:77: RuntimeWarning: invalid value encountered in long_scalars\n"
     ]
    }
   ],
   "source": [
    "# Getting predictions and ground truth\n",
    "slice_members = drain_slice_inds # or inside_drain_slice_pneumos, drain_slice_inds\n",
    "main_head_predictions = np.array(Ys_preds['CXR8-DRAIN_PNEUMOTHORAX'])\n",
    "slice_head_indicators = np.array(Ys_preds['CXR8-DRAIN_PNEUMOTHORAX_slice:chest_drain_cnn_neg:ind'])\n",
    "slice_head_predictions = np.array(Ys_preds['CXR8-DRAIN_PNEUMOTHORAX_slice:chest_drain_cnn_neg:pred'])\n",
    "ground_truth = np.array(Ys['CXR8-DRAIN_PNEUMOTHORAX']).squeeze()\n",
    "\n",
    "# Number of examples\n",
    "number_in_slice = np.sum(slice_members)\n",
    "positives_in_slice = (np.array(Ys['CXR8-DRAIN_PNEUMOTHORAX']).squeeze()==1) & slice_members\n",
    "negatives_in_slice = (np.array(Ys['CXR8-DRAIN_PNEUMOTHORAX']).squeeze()==2) & slice_members\n",
    "positives_out_slice = (np.array(Ys['CXR8-DRAIN_PNEUMOTHORAX']).squeeze()==1) & ~slice_members\n",
    "negatives_out_slice = (np.array(Ys['CXR8-DRAIN_PNEUMOTHORAX']).squeeze()==2) & ~slice_members\n",
    "\n",
    "\n",
    "positives_indicated_in_slice = slice_head_indicators & positives_in_slice\n",
    "negatives_indicated_in_slice = slice_head_indicators & negatives_in_slice\n",
    "positives_indicated_out_slice = ~slice_head_indicators & positives_out_slice\n",
    "negatives_indicated_out_slice = ~slice_head_indicators & negatives_out_slice\n",
    "\n",
    "\n",
    "# Want to overrule: (a) in the slice positives and (b) predicts incorrectly\n",
    "need_to_overrule = ~np.equal(main_head_predictions[slice_members], \n",
    "                         ground_truth[slice_members])\n",
    "positives_to_overrule = ground_truth[slice_members][need_to_overrule]==1\n",
    "negatives_to_overrule = ground_truth[slice_members][need_to_overrule]==2\n",
    "\n",
    "# Does slice fire on these heads?\n",
    "correctly_indicated_for_overrule = slice_head_indicators[slice_members]==1 & need_to_overrule\n",
    "positives_correctly_indicated_for_overrule = correctly_indicated_for_overrule & (ground_truth[slice_members]==1)\n",
    "negatives_correctly_indicated_for_overrule = correctly_indicated_for_overrule & (ground_truth[slice_members]==2)\n",
    "\n",
    "incorrectly_indicated_for_overrule = slice_head_indicators[slice_members]==1 & ~need_to_overrule\n",
    "\n",
    "correctly_not_indicated_for_overrule = slice_head_indicators[slice_members]==2 & ~need_to_overrule\n",
    "incorrectly_not_indicated_for_overrule = slice_head_indicators[slice_members]==2 & need_to_overrule\n",
    "\n",
    "# Do we get the right answer?\n",
    "correctly_overruled = (slice_ground_truth[slice_members] & slice_head_predictions[slice_members]) & correctly_indicated_for_overrule\n",
    "incorrectly_not_overruled = (slice_ground_truth[slice_members] & slice_head_predictions[slice_members]) & incorrectly_not_indicated_for_overrule\n",
    "\n",
    "correctly_not_overruled = (slice_ground_truth[slice_members] & slice_head_predictions[slice_members]) & correctly_not_indicated_for_overrule\n",
    "incorrectly_overruled = (slice_ground_truth[slice_members] & slice_head_predictions[slice_members]) & incorrectly_indicated_for_overrule\n",
    "\n",
    "print(f\"SIZE OF SLICE:\")\n",
    "print(f\"Slice contains {number_in_slice} of {len(slice_inds)} examples \\n\")\n",
    "\n",
    "print(f\"OVERALL:\")\n",
    "print(f\"Indicator fires on {100*np.round(np.sum(slice_head_indicators==1)/number_in_slice,2)} percent of examples in the slice ({np.sum(slice_head_indicators==1)}/{number_in_slice}) \\n\")\n",
    "print(f\"On in-slice positive examples, the indicator correctly identifies {100*np.round(np.sum(positives_indicated_in_slice)/np.sum(positives_in_slice),2)} percent ({np.sum(positives_indicated_in_slice)}/{np.sum(positives_in_slice)})\")\n",
    "print(f\"On in-slice negative examples, the indicator correctly identifies {100*np.round(np.sum(negatives_indicated_in_slice)/np.sum(negatives_in_slice),2)} percent ({np.sum(negatives_indicated_in_slice)}/{np.sum(negatives_in_slice)}) \\n\")\n",
    "\n",
    "print(f\"On out-of-slice positive examples, the indicator correctly identifies {100*np.round(np.sum(positives_indicated_out_slice)/np.sum(positives_out_slice),2)} percent ({np.sum(positives_indicated_out_slice)}/{np.sum(positives_out_slice)})\")\n",
    "print(f\"On out-of-slice negative examples, the indicator correctly identifies {100*np.round(np.sum(negatives_indicated_out_slice)/np.sum(negatives_out_slice),2)} percent ({np.sum(negatives_indicated_out_slice)}/{np.sum(negatives_out_slice)}) \\n\")\n",
    "\n",
    "print(\"OVERRULE:\")\n",
    "print(f\"Need to overrule {100*np.round(np.sum(need_to_overrule)/number_in_slice,2)} percent of examples in slice head ({np.sum(need_to_overrule)}/{number_in_slice})\")\n",
    "print(f\"Of these, {100*np.round(np.sum(positives_to_overrule)/np.sum(need_to_overrule),2)} percent are positive ({np.sum(positives_to_overrule)}/{np.sum(need_to_overrule)})\\n\")\n",
    "\n",
    "print(f\"OF THOSE IN THE SLICE NEEDING TO BE OVERRULED:\")\n",
    "print(f\"Indicator fires on {100*np.round(np.sum(correctly_indicated_for_overrule)/np.sum(need_to_overrule),2)} percent ({np.sum(correctly_indicated_for_overrule)}/{np.sum(need_to_overrule)})\")\n",
    "print(f\"Of these, {np.sum(positives_correctly_indicated_for_overrule)} are positive and  {np.sum(negatives_correctly_indicated_for_overrule)} are negative\\n\")\n",
    "\n",
    "\n",
    "print(\"OF THOSE IN THE SLICE, BUT NOT NEEDING TO BE OVERRULED:\")\n",
    "print(f\"Indicator fires on {100*np.round(np.sum(incorrectly_indicated_for_overrule)/np.sum(~need_to_overrule),2)} percent ({np.sum(incorrectly_indicated_for_overrule)}/{np.sum(~need_to_overrule)}) \\n\")\n",
    "\n",
    "print(\"OF THOSE IN THE SLICE AND NEEDING TO BE OVERRULED, WHERE INDICATOR FIRES:\")\n",
    "print(f\"Prediction correct on {100*np.round(np.sum(correctly_overruled)/np.sum(correctly_indicated_for_overrule),2)} percent ({np.sum(correctly_overruled)}/{np.sum(correctly_indicated_for_overrule)}) \\n\")\n",
    "\n",
    "print(\"OF THOSE IN THE SLICE AND NEEDING TO BE OVERRULED, WHERE INDICATOR DOES NOT FIRE:\")\n",
    "print(f\"Prediction correct on {100*np.round(np.sum(incorrectly_not_overruled)/np.sum(incorrectly_not_indicated_for_overrule),2)} percent ({np.sum(incorrectly_not_overruled)}/{np.sum(incorrectly_not_indicated_for_overrule)}) \\n\")\n",
    "\n",
    "print(\"OF THOSE IN THE SLICE AND NOT NEEDING TO BE OVERRULED, WHERE INDICATOR FIRES:\")\n",
    "print(f\"Prediction correct on {100*np.round(np.sum(incorrectly_overruled)/np.sum(incorrectly_indicated_for_overrule),2)} percent ({np.sum(incorrectly_overruled)}/{np.sum(incorrectly_indicated_for_overrule)}) \\n\")\n",
    "\n",
    "print(\"OF THOSE IN THE SLICE AND NOT NEEDING TO BE OVERRULED, WHERE INDICATOR DOES NOT FIRE:\")\n",
    "print(f\"Prediction correct on {100*np.round(np.sum(correctly_not_overruled)/np.sum(correctly_not_indicated_for_overrule),2)} percent ({np.sum(correctly_not_overruled)}/{np.sum(correctly_not_indicated_for_overrule)}) \\n\")\n",
    "\n",
    "#print(f\"Indictor fires on {} percent \\n\")\n",
    "   # print(f\"Need to overrule {100*np.round(np.sum(need_to_overrule)/len(need_to_overrule),2)} percent of positive examples with slice head\")"
   ]
  },
  {
   "cell_type": "code",
   "execution_count": 142,
   "metadata": {},
   "outputs": [
    {
     "data": {
      "text/plain": [
       "20"
      ]
     },
     "execution_count": 142,
     "metadata": {},
     "output_type": "execute_result"
    }
   ],
   "source": [
    "np.sum(slice_head_predictions)"
   ]
  },
  {
   "cell_type": "code",
   "execution_count": 116,
   "metadata": {},
   "outputs": [
    {
     "data": {
      "text/plain": [
       "191"
      ]
     },
     "execution_count": 116,
     "metadata": {},
     "output_type": "execute_result"
    }
   ],
   "source": [
    "np.sum(slice_head_indicators==1)"
   ]
  },
  {
   "cell_type": "code",
   "execution_count": 124,
   "metadata": {},
   "outputs": [
    {
     "data": {
      "text/plain": [
       "21"
      ]
     },
     "execution_count": 124,
     "metadata": {},
     "output_type": "execute_result"
    }
   ],
   "source": [
    "np.sum(~need_to_overrule_inds & slice_head_indicators==1)"
   ]
  },
  {
   "cell_type": "code",
   "execution_count": 92,
   "metadata": {},
   "outputs": [
    {
     "data": {
      "text/plain": [
       "array([False, False, False, False, False, False, False, False, False,\n",
       "        True, False, False, False, False,  True,  True, False,  True,\n",
       "       False,  True,  True, False, False, False, False, False,  True,\n",
       "       False, False, False, False, False, False, False, False,  True,\n",
       "       False, False,  True, False, False, False, False, False, False,\n",
       "       False, False, False, False, False, False, False, False, False,\n",
       "       False,  True, False, False, False, False, False, False, False,\n",
       "       False, False, False, False, False, False, False, False, False,\n",
       "       False, False,  True, False,  True,  True, False, False, False,\n",
       "       False, False, False, False, False, False, False, False, False,\n",
       "       False, False, False, False, False, False, False, False,  True,\n",
       "       False, False, False, False, False, False, False, False, False,\n",
       "       False, False, False,  True, False, False, False, False, False,\n",
       "       False, False, False, False, False, False, False, False, False,\n",
       "       False, False, False,  True,  True, False, False, False, False,\n",
       "       False,  True, False, False, False, False, False, False, False,\n",
       "       False, False, False, False, False, False, False, False, False,\n",
       "       False, False, False, False, False, False, False, False,  True,\n",
       "        True, False, False, False,  True,  True, False, False, False,\n",
       "       False, False, False, False, False, False, False, False, False,\n",
       "       False, False, False, False, False, False, False, False, False,\n",
       "       False, False, False, False, False, False, False, False, False,\n",
       "        True, False, False, False, False, False, False,  True, False,\n",
       "       False])"
      ]
     },
     "execution_count": 92,
     "metadata": {},
     "output_type": "execute_result"
    }
   ],
   "source": [
    "actual_overrule_inds = np.equal(np.array(Ys_preds['CXR8-DRAIN_PNEUMOTHORAX_slice:chest_drain_cnn_neg:pred'])[inside_drain_slice_pneumos], \n",
    "                         np.array(Ys['CXR8-DRAIN_PNEUMOTHORAX'])[inside_drain_slice_pneumos].squeeze())\n",
    "print(f\"Need to overrule {np.sum(need_to_overrule_inds)} of {len(need_to_overrule_inds)} positive examples with slice head\")"
   ]
  },
  {
   "cell_type": "code",
   "execution_count": null,
   "metadata": {},
   "outputs": [],
   "source": []
  }
 ],
 "metadata": {
  "kernelspec": {
   "display_name": "Python (metal)",
   "language": "python",
   "name": "metal"
  },
  "language_info": {
   "codemirror_mode": {
    "name": "ipython",
    "version": 3
   },
   "file_extension": ".py",
   "mimetype": "text/x-python",
   "name": "python",
   "nbconvert_exporter": "python",
   "pygments_lexer": "ipython3",
   "version": "3.6.8"
  }
 },
 "nbformat": 4,
 "nbformat_minor": 2
}
