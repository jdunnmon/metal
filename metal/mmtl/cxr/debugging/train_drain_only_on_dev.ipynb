{
 "cells": [
  {
   "cell_type": "code",
   "execution_count": 1,
   "metadata": {},
   "outputs": [],
   "source": [
    "%load_ext autoreload\n",
    "%autoreload 2\n",
    "\n",
    "import sys\n",
    "import logging\n",
    "logger = logging.getLogger()\n",
    "logger.setLevel(logging.INFO)\n",
    "handler = logging.StreamHandler(sys.stderr)\n",
    "formatter = logging.Formatter('%(name)s - %(levelname)s - %(message)s')\n",
    "handler.setFormatter(formatter)\n",
    "logger.handlers = [handler]\n",
    "\n",
    "import torch\n",
    "from torch.autograd import Variable\n",
    "import os\n",
    "from metal.mmtl.cxr.analysis.notebooks.cxr_analysis import load_log_json, load_results_from_log\n",
    "from metal.mmtl.cxr.cxr_tasks import create_tasks_and_payloads"
   ]
  },
  {
   "cell_type": "code",
   "execution_count": 2,
   "metadata": {},
   "outputs": [],
   "source": [
    "# Setting env variables\n",
    "os.environ['CXRDATA']='/data/datasets/mmtl/cxr'\n",
    "os.environ['CXR8IMAGES']='/data/datasets/nih/images/images'"
   ]
  },
  {
   "cell_type": "code",
   "execution_count": 3,
   "metadata": {},
   "outputs": [],
   "source": [
    "# Loading results from model log\n",
    "model_log = '/home/jdunnmon/Research/repos/metal/logs/2019_05_07/test_naive_new_code_19_21_28'\n",
    "log_jsons = load_results_from_log(model_log)"
   ]
  },
  {
   "cell_type": "code",
   "execution_count": 13,
   "metadata": {},
   "outputs": [
    {
     "name": "stderr",
     "output_type": "stream",
     "text": [
      "metal.utils - INFO - Could not find kwarg \"shuffle\" in destination dict.\n",
      "metal.utils - INFO - Could not find kwarg \"attention\" in destination dict.\n",
      "metal.utils - INFO - Could not find kwarg \"verbose\" in destination dict.\n",
      "metal.mmtl.cxr.cxr_tasks - INFO - Loading CXR8-DRAIN Dataset\n",
      "metal.mmtl.cxr.cxr_tasks - INFO - Using train finding ALL\n",
      "metal.mmtl.cxr.cxr_datasets - INFO - Adding normal column to dataset\n",
      "metal.mmtl.cxr.cxr_datasets - INFO - Using pre-specified sampling dictionary\n",
      "metal.mmtl.cxr.cxr_datasets - INFO - Adding normal column to dataset\n",
      "metal.mmtl.cxr.cxr_datasets - INFO - Adding normal column to dataset\n",
      "metal.mmtl.cxr.cxr_tasks - INFO - Shuffling training split...\n",
      "metal.mmtl.payload - INFO - Added label_set with 4525/7388 labels for task CXR8-DRAIN_PNEUMOTHORAX_slice:chest_drain_cnn_neg:pred to payload CXR8-DRAIN_train.\n",
      "metal.mmtl.payload - INFO - Added label_set with 10923/11259 labels for task CXR8-DRAIN_PNEUMOTHORAX_slice:chest_drain_cnn_neg:pred to payload CXR8-DRAIN_valid.\n",
      "metal.mmtl.payload - INFO - Added label_set with 21552/22393 labels for task CXR8-DRAIN_PNEUMOTHORAX_slice:chest_drain_cnn_neg:pred to payload CXR8-DRAIN_test.\n"
     ]
    }
   ],
   "source": [
    "task_config = log_jsons['task_config']\n",
    "task_config['subsample'] = -1\n",
    "task_config['eval_finding'] = 'ALL'\n",
    "task_names=['CXR8-DRAIN_ALL']\n",
    "task_config['sample_dict']={\"train_sample_dict\":{'PNEUMOTHORAX':-1,'ALL':300}}\n",
    "                            #\"valid_sample_dict\":{'PNEUMOTHORAX':-1,'ALL':300}}\n",
    "task_config['add_normal_col']=True\n",
    "task_config['slice_dict']={\"CXR8-DRAIN_PNEUMOTHORAX\": [\"chest_drain_cnn_neg\"]}\n",
    "task_config['slice_pos_only']=['NONE']\n",
    "task_config['active_slice_heads']={'pred':True,'ind':False}\n",
    "task_config['verbose']=True\n",
    "#task_config['train_sampler'] = \"imbalanced_mmtl_sampler\"\n",
    "tasks, payloads = create_tasks_and_payloads(task_names, **task_config, batch_size=16)"
   ]
  },
  {
   "cell_type": "code",
   "execution_count": 14,
   "metadata": {},
   "outputs": [
    {
     "name": "stdout",
     "output_type": "stream",
     "text": [
      "Counter({2: 10715, 0: 336, 1: 208})\n"
     ]
    }
   ],
   "source": [
    "# Checking to make sure our slice prediction task is reasonably balanced\n",
    "from collections import Counter\n",
    "print(Counter(payloads[1].data_loader.dataset.labels['CXR8-DRAIN_PNEUMOTHORAX_slice:chest_drain_cnn_neg:pred']))"
   ]
  },
  {
   "cell_type": "code",
   "execution_count": 15,
   "metadata": {},
   "outputs": [],
   "source": [
    "# Getting slice prediction task only\n",
    "task_names = [t.name for t in tasks]\n",
    "slice_prediction_task = tasks[task_names.index('CXR8-DRAIN_PNEUMOTHORAX_slice:chest_drain_cnn_neg:pred')]"
   ]
  },
  {
   "cell_type": "code",
   "execution_count": 16,
   "metadata": {},
   "outputs": [
    {
     "name": "stderr",
     "output_type": "stream",
     "text": [
      "metal.mmtl.metal_model - INFO - Your destination state dict has different keys for the update key.\n",
      "metal.mmtl.metal_model - INFO - Loading without strictness.\n"
     ]
    }
   ],
   "source": [
    "from metal.mmtl.metal_model import MetalModel\n",
    "# Initializing the model\n",
    "model_config = log_jsons['model_config'] \n",
    "model = MetalModel(tasks=tasks, **model_config)\n",
    "missing, unexpected = model.load_weights(os.path.join('/home/jdunnmon/Research/repos/metal/logs/2019_05_07/test_naive_new_code_19_21_28','best_model.pth'))"
   ]
  },
  {
   "cell_type": "code",
   "execution_count": 48,
   "metadata": {},
   "outputs": [
    {
     "data": {
      "text/plain": [
       "[]"
      ]
     },
     "execution_count": 48,
     "metadata": {},
     "output_type": "execute_result"
    }
   ],
   "source": [
    "unexpected"
   ]
  },
  {
   "cell_type": "code",
   "execution_count": 17,
   "metadata": {},
   "outputs": [],
   "source": [
    "# Training on dev!\n",
    "import copy\n",
    "train_on_dev = False\n",
    "if train_on_dev:\n",
    "    payloads[0] = copy.deepcopy(payloads[1])\n",
    "    payloads[0].name = 'CXR8-DRAIN_train'\n",
    "    payloads[0].split = 'train'"
   ]
  },
  {
   "cell_type": "code",
   "execution_count": 37,
   "metadata": {},
   "outputs": [
    {
     "data": {
      "text/plain": [
       "{'verbose': True,\n",
       " 'seed': '1701',\n",
       " 'commit_hash': None,\n",
       " 'ami': None,\n",
       " 'progress_bar': False,\n",
       " 'n_epochs': 20,\n",
       " 'l2': 0.0,\n",
       " 'grad_clip': 1.0,\n",
       " 'optimizer_config': {'optimizer': 'adam',\n",
       "  'optimizer_common': {'lr': 0.0001},\n",
       "  'sgd_config': {'momentum': 0.9},\n",
       "  'adam_config': {'betas': [0.9, 0.999]},\n",
       "  'rmsprop_config': {}},\n",
       " 'lr_scheduler': 'linear',\n",
       " 'lr_scheduler_config': {'warmup_steps': 0.0,\n",
       "  'warmup_unit': 'epochs',\n",
       "  'min_lr': 1e-05,\n",
       "  'exponential_config': {'gamma': 0.999},\n",
       "  'plateau_config': {'factor': 0.5, 'patience': 10, 'threshold': 0.0001}},\n",
       " 'metrics_config': {'task_metrics': [],\n",
       "  'trainer_metrics': ['model/valid/all/loss'],\n",
       "  'aggregate_metric_fns': [],\n",
       "  'max_valid_examples': 0,\n",
       "  'valid_split': 'valid',\n",
       "  'test_split': 'test'},\n",
       " 'task_scheduler': 'proportional',\n",
       " 'freeze': None,\n",
       " 'logger': True,\n",
       " 'logger_config': {'log_unit': 'epochs',\n",
       "  'log_every': 1.0,\n",
       "  'score_every': 1.0,\n",
       "  'log_lr': True},\n",
       " 'train_schedule_plan': {'plan': {'-1': ['CXR8-DRAIN_ATELECTASIS',\n",
       "    'CXR8-DRAIN_CARDIOMEGALY',\n",
       "    'CXR8-DRAIN_EFFUSION',\n",
       "    'CXR8-DRAIN_INFILTRATION',\n",
       "    'CXR8-DRAIN_MASS',\n",
       "    'CXR8-DRAIN_NODULE',\n",
       "    'CXR8-DRAIN_PNEUMONIA',\n",
       "    'CXR8-DRAIN_PNEUMOTHORAX',\n",
       "    'CXR8-DRAIN_CONSOLIDATION',\n",
       "    'CXR8-DRAIN_EDEMA',\n",
       "    'CXR8-DRAIN_EMPHYSEMA',\n",
       "    'CXR8-DRAIN_FIBROSIS',\n",
       "    'CXR8-DRAIN_PLEURAL_THICKENING',\n",
       "    'CXR8-DRAIN_HERNIA']},\n",
       "  'freeze': 'heads'},\n",
       " 'writer': 'tensorboard',\n",
       " 'writer_config': {'log_dir': '/home/jdunnmon/Research/repos/metal/logs',\n",
       "  'run_dir': None,\n",
       "  'run_name': 'test_slice_train_exp',\n",
       "  'writer_metrics': [],\n",
       "  'verbose': True},\n",
       " 'checkpoint': True,\n",
       " 'checkpoint_tasks': False,\n",
       " 'checkpoint_cleanup': True,\n",
       " 'checkpoint_config': {'checkpoint_every': 1.0,\n",
       "  'checkpoint_best': True,\n",
       "  'checkpoint_metric': 'CXR8-DRAIN_PNEUMOTHORAX_slice:chest_drain_cnn_neg:pred/CXR8-DRAIN_valid/CXR8-DRAIN_PNEUMOTHORAX_slice:chest_drain_cnn_neg:pred/f1',\n",
       "  'checkpoint_metric_mode': 'max',\n",
       "  'checkpoint_dir': 'checkpoints_temp',\n",
       "  'checkpoint_runway': 0},\n",
       " 'n_parameters': 6982556}"
      ]
     },
     "execution_count": 37,
     "metadata": {},
     "output_type": "execute_result"
    }
   ],
   "source": [
    "trainer_config"
   ]
  },
  {
   "cell_type": "code",
   "execution_count": 44,
   "metadata": {},
   "outputs": [],
   "source": [
    "# Setting up trainer\n",
    "from metal.mmtl.trainer import MultitaskTrainer\n",
    "trainer_config = log_jsons['config'] \n",
    "\n",
    "tasks_to_freeze = [t.name for t in tasks if t.name != slice_prediction_task.name]\n",
    "trainer_config[\"train_schedule_plan\"] = {\n",
    "                \"plan\": {\n",
    "                    \"-1\": tasks_to_freeze,\n",
    "                    },\n",
    "                \"freeze\": \"heads\",\n",
    "                }\n",
    "trainer_config['n_epochs']=50\n",
    "trainer_config['checkpoint_config']['checkpoint_metric'] = 'CXR8-DRAIN_PNEUMOTHORAX_slice:chest_drain_cnn_neg:pred/CXR8-DRAIN_valid/CXR8-DRAIN_PNEUMOTHORAX_slice:chest_drain_cnn_neg:pred/f1'\n",
    "trainer_config['checkpoint_config']['checkpoint_dir']='checkpoints_temp'\n",
    "trainer_config['checkpoint_config']['checkpoint_metric_mode'] = 'max'\n",
    "trainer_config['writer_config']['run_name'] = 'test_slice_train_balanced_train_on_train'\n",
    "\n",
    "# Initializing trainer \n",
    "trainer = MultitaskTrainer(**trainer_config)"
   ]
  },
  {
   "cell_type": "code",
   "execution_count": 45,
   "metadata": {},
   "outputs": [
    {
     "data": {
      "text/plain": [
       "['CXR8-DRAIN_ATELECTASIS',\n",
       " 'CXR8-DRAIN_CARDIOMEGALY',\n",
       " 'CXR8-DRAIN_EFFUSION',\n",
       " 'CXR8-DRAIN_INFILTRATION',\n",
       " 'CXR8-DRAIN_MASS',\n",
       " 'CXR8-DRAIN_NODULE',\n",
       " 'CXR8-DRAIN_PNEUMONIA',\n",
       " 'CXR8-DRAIN_PNEUMOTHORAX',\n",
       " 'CXR8-DRAIN_CONSOLIDATION',\n",
       " 'CXR8-DRAIN_EDEMA',\n",
       " 'CXR8-DRAIN_EMPHYSEMA',\n",
       " 'CXR8-DRAIN_FIBROSIS',\n",
       " 'CXR8-DRAIN_PLEURAL_THICKENING',\n",
       " 'CXR8-DRAIN_HERNIA']"
      ]
     },
     "execution_count": 45,
     "metadata": {},
     "output_type": "execute_result"
    }
   ],
   "source": [
    "tasks_to_freeze"
   ]
  },
  {
   "cell_type": "code",
   "execution_count": 46,
   "metadata": {},
   "outputs": [
    {
     "name": "stderr",
     "output_type": "stream",
     "text": [
      "metal.mmtl.trainer - INFO - Training on training set...\n",
      "metal.mmtl.trainer - INFO - Beginning train loop.\n",
      "metal.mmtl.trainer - INFO - Expecting a total of approximately 7392 examples and 462 batches per epoch from 1 payload(s) in the train split.\n",
      "metal.mmtl.trainer - INFO - Initializing new log writer...\n",
      "/home/jdunnmon/Research/repos/metal/metal/mmtl/trainer.py:645: UserWarning: You have provided checkpoint_dir, overriding the default of using log_dir/run_dir/run_name/checkpoints. Be careful: multiple concurrent runs may override each other.\n",
      "  warnings.warn(msg)\n",
      "metal.logging.writer - INFO - Writing config to /home/jdunnmon/Research/repos/metal/logs/2019_05_13/test_slice_train_balanced_train_on_train_01_18_43/config.json\n",
      "metal.mmtl.trainer - INFO - Freezing ['CXR8-DRAIN_ATELECTASIS', 'CXR8-DRAIN_CARDIOMEGALY', 'CXR8-DRAIN_EFFUSION', 'CXR8-DRAIN_INFILTRATION', 'CXR8-DRAIN_MASS', 'CXR8-DRAIN_NODULE', 'CXR8-DRAIN_PNEUMONIA', 'CXR8-DRAIN_PNEUMOTHORAX', 'CXR8-DRAIN_CONSOLIDATION', 'CXR8-DRAIN_EDEMA', 'CXR8-DRAIN_EMPHYSEMA', 'CXR8-DRAIN_FIBROSIS', 'CXR8-DRAIN_PLEURAL_THICKENING', 'CXR8-DRAIN_HERNIA'] heads\n",
      "metal.mmtl.trainer - INFO - Training tasks {'CXR8-DRAIN_PNEUMOTHORAX_slice:chest_drain_cnn_neg:pred': 'CXR8-DRAIN_PNEUMOTHORAX_slice:chest_drain_cnn_neg:pred'}\n",
      "root - INFO - Summary name CXR8-DRAIN_PNEUMOTHORAX_slice:chest_drain_cnn_neg:pred/CXR8-DRAIN_train/CXR8-DRAIN_PNEUMOTHORAX_slice:chest_drain_cnn_neg:pred/loss is illegal; using CXR8-DRAIN_PNEUMOTHORAX_slice_chest_drain_cnn_neg_pred/CXR8-DRAIN_train/CXR8-DRAIN_PNEUMOTHORAX_slice_chest_drain_cnn_neg_pred/loss instead.\n",
      "root - INFO - Summary name CXR8-DRAIN_PNEUMOTHORAX_slice:chest_drain_cnn_neg:pred/CXR8-DRAIN_valid/CXR8-DRAIN_PNEUMOTHORAX_slice:chest_drain_cnn_neg:pred/f1 is illegal; using CXR8-DRAIN_PNEUMOTHORAX_slice_chest_drain_cnn_neg_pred/CXR8-DRAIN_valid/CXR8-DRAIN_PNEUMOTHORAX_slice_chest_drain_cnn_neg_pred/f1 instead.\n",
      "root - INFO - Summary name CXR8-DRAIN_PNEUMOTHORAX_slice:chest_drain_cnn_neg:pred/CXR8-DRAIN_valid/CXR8-DRAIN_PNEUMOTHORAX_slice:chest_drain_cnn_neg:pred/roc-auc is illegal; using CXR8-DRAIN_PNEUMOTHORAX_slice_chest_drain_cnn_neg_pred/CXR8-DRAIN_valid/CXR8-DRAIN_PNEUMOTHORAX_slice_chest_drain_cnn_neg_pred/roc-auc instead.\n",
      "root - INFO - Summary name CXR8-DRAIN_PNEUMOTHORAX_slice:chest_drain_cnn_neg:pred/CXR8-DRAIN_valid/CXR8-DRAIN_PNEUMOTHORAX_slice:chest_drain_cnn_neg:pred/accuracy is illegal; using CXR8-DRAIN_PNEUMOTHORAX_slice_chest_drain_cnn_neg_pred/CXR8-DRAIN_valid/CXR8-DRAIN_PNEUMOTHORAX_slice_chest_drain_cnn_neg_pred/accuracy instead.\n"
     ]
    },
    {
     "name": "stdout",
     "output_type": "stream",
     "text": [
      "[1.0 epo]: CXR8-DRAIN_PNEUMOTHORAX_slice:chest_drain_cnn_neg:pred:[CXR8-DRAIN_train/CXR8-DRAIN_PNEUMOTHORAX_slice:chest_drain_cnn_neg:pred/loss=8.66e-02, CXR8-DRAIN_valid/CXR8-DRAIN_PNEUMOTHORAX_slice:chest_drain_cnn_neg:pred/f1=7.28e-02, CXR8-DRAIN_valid/CXR8-DRAIN_PNEUMOTHORAX_slice:chest_drain_cnn_neg:pred/roc-auc=6.67e-01, CXR8-DRAIN_valid/CXR8-DRAIN_PNEUMOTHORAX_slice:chest_drain_cnn_neg:pred/accuracy=8.14e-01] model:[train/all/loss=8.66e-02, train/all/lr=9.80e-05, valid/all/loss=3.80e-01] CXR8-DRAIN_ATELECTASIS:[CXR8-DRAIN_valid/CXR8-DRAIN_ATELECTASIS/f1=0, CXR8-DRAIN_valid/CXR8-DRAIN_ATELECTASIS/roc-auc=5.73e-01, CXR8-DRAIN_valid/CXR8-DRAIN_ATELECTASIS/accuracy=9.01e-01] CXR8-DRAIN_CARDIOMEGALY:[CXR8-DRAIN_valid/CXR8-DRAIN_CARDIOMEGALY/f1=0, CXR8-DRAIN_valid/CXR8-DRAIN_CARDIOMEGALY/roc-auc=5.05e-01, CXR8-DRAIN_valid/CXR8-DRAIN_CARDIOMEGALY/accuracy=9.78e-01] CXR8-DRAIN_EFFUSION:[CXR8-DRAIN_valid/CXR8-DRAIN_EFFUSION/f1=0, CXR8-DRAIN_valid/CXR8-DRAIN_EFFUSION/roc-auc=6.54e-01, CXR8-DRAIN_valid/CXR8-DRAIN_EFFUSION/accuracy=8.84e-01] CXR8-DRAIN_INFILTRATION:[CXR8-DRAIN_valid/CXR8-DRAIN_INFILTRATION/f1=0, CXR8-DRAIN_valid/CXR8-DRAIN_INFILTRATION/roc-auc=5.55e-01, CXR8-DRAIN_valid/CXR8-DRAIN_INFILTRATION/accuracy=8.21e-01] CXR8-DRAIN_MASS:[CXR8-DRAIN_valid/CXR8-DRAIN_MASS/f1=0, CXR8-DRAIN_valid/CXR8-DRAIN_MASS/roc-auc=6.33e-01, CXR8-DRAIN_valid/CXR8-DRAIN_MASS/accuracy=9.43e-01] CXR8-DRAIN_NODULE:[CXR8-DRAIN_valid/CXR8-DRAIN_NODULE/f1=0, CXR8-DRAIN_valid/CXR8-DRAIN_NODULE/roc-auc=5.83e-01, CXR8-DRAIN_valid/CXR8-DRAIN_NODULE/accuracy=9.44e-01] CXR8-DRAIN_PNEUMONIA:[CXR8-DRAIN_valid/CXR8-DRAIN_PNEUMONIA/f1=0, CXR8-DRAIN_valid/CXR8-DRAIN_PNEUMONIA/roc-auc=4.52e-01, CXR8-DRAIN_valid/CXR8-DRAIN_PNEUMONIA/accuracy=9.88e-01] CXR8-DRAIN_PNEUMOTHORAX:[CXR8-DRAIN_valid/CXR8-DRAIN_PNEUMOTHORAX/f1=2.42e-01, CXR8-DRAIN_valid/CXR8-DRAIN_PNEUMOTHORAX/roc-auc=7.73e-01, CXR8-DRAIN_valid/CXR8-DRAIN_PNEUMOTHORAX/accuracy=8.42e-01] CXR8-DRAIN_CONSOLIDATION:[CXR8-DRAIN_valid/CXR8-DRAIN_CONSOLIDATION/f1=0, CXR8-DRAIN_valid/CXR8-DRAIN_CONSOLIDATION/roc-auc=5.70e-01, CXR8-DRAIN_valid/CXR8-DRAIN_CONSOLIDATION/accuracy=9.61e-01] CXR8-DRAIN_EDEMA:[CXR8-DRAIN_valid/CXR8-DRAIN_EDEMA/f1=0, CXR8-DRAIN_valid/CXR8-DRAIN_EDEMA/roc-auc=4.59e-01, CXR8-DRAIN_valid/CXR8-DRAIN_EDEMA/accuracy=9.82e-01] CXR8-DRAIN_EMPHYSEMA:[CXR8-DRAIN_valid/CXR8-DRAIN_EMPHYSEMA/f1=0, CXR8-DRAIN_valid/CXR8-DRAIN_EMPHYSEMA/roc-auc=7.89e-01, CXR8-DRAIN_valid/CXR8-DRAIN_EMPHYSEMA/accuracy=9.80e-01] CXR8-DRAIN_FIBROSIS:[CXR8-DRAIN_valid/CXR8-DRAIN_FIBROSIS/f1=0, CXR8-DRAIN_valid/CXR8-DRAIN_FIBROSIS/roc-auc=6.27e-01, CXR8-DRAIN_valid/CXR8-DRAIN_FIBROSIS/accuracy=9.85e-01] CXR8-DRAIN_PLEURAL_THICKENING:[CXR8-DRAIN_valid/CXR8-DRAIN_PLEURAL_THICKENING/f1=0, CXR8-DRAIN_valid/CXR8-DRAIN_PLEURAL_THICKENING/roc-auc=6.41e-01, CXR8-DRAIN_valid/CXR8-DRAIN_PLEURAL_THICKENING/accuracy=9.67e-01] CXR8-DRAIN_HERNIA:[CXR8-DRAIN_valid/CXR8-DRAIN_HERNIA/f1=0, CXR8-DRAIN_valid/CXR8-DRAIN_HERNIA/roc-auc=6.48e-01, CXR8-DRAIN_valid/CXR8-DRAIN_HERNIA/accuracy=9.96e-01]\n",
      "Saving model at iteration 1.00 with best (max) score CXR8-DRAIN_PNEUMOTHORAX_slice:chest_drain_cnn_neg:pred/CXR8-DRAIN_valid/CXR8-DRAIN_PNEUMOTHORAX_slice:chest_drain_cnn_neg:pred/f1=0.073\n"
     ]
    },
    {
     "name": "stderr",
     "output_type": "stream",
     "text": [
      "metal.mmtl.trainer - INFO - Freezing ['CXR8-DRAIN_ATELECTASIS', 'CXR8-DRAIN_CARDIOMEGALY', 'CXR8-DRAIN_EFFUSION', 'CXR8-DRAIN_INFILTRATION', 'CXR8-DRAIN_MASS', 'CXR8-DRAIN_NODULE', 'CXR8-DRAIN_PNEUMONIA', 'CXR8-DRAIN_PNEUMOTHORAX', 'CXR8-DRAIN_CONSOLIDATION', 'CXR8-DRAIN_EDEMA', 'CXR8-DRAIN_EMPHYSEMA', 'CXR8-DRAIN_FIBROSIS', 'CXR8-DRAIN_PLEURAL_THICKENING', 'CXR8-DRAIN_HERNIA'] heads\n",
      "metal.mmtl.trainer - INFO - Training tasks {'CXR8-DRAIN_PNEUMOTHORAX_slice:chest_drain_cnn_neg:pred': 'CXR8-DRAIN_PNEUMOTHORAX_slice:chest_drain_cnn_neg:pred'}\n",
      "root - INFO - Summary name CXR8-DRAIN_PNEUMOTHORAX_slice:chest_drain_cnn_neg:pred/CXR8-DRAIN_train/CXR8-DRAIN_PNEUMOTHORAX_slice:chest_drain_cnn_neg:pred/loss is illegal; using CXR8-DRAIN_PNEUMOTHORAX_slice_chest_drain_cnn_neg_pred/CXR8-DRAIN_train/CXR8-DRAIN_PNEUMOTHORAX_slice_chest_drain_cnn_neg_pred/loss instead.\n",
      "root - INFO - Summary name CXR8-DRAIN_PNEUMOTHORAX_slice:chest_drain_cnn_neg:pred/CXR8-DRAIN_valid/CXR8-DRAIN_PNEUMOTHORAX_slice:chest_drain_cnn_neg:pred/f1 is illegal; using CXR8-DRAIN_PNEUMOTHORAX_slice_chest_drain_cnn_neg_pred/CXR8-DRAIN_valid/CXR8-DRAIN_PNEUMOTHORAX_slice_chest_drain_cnn_neg_pred/f1 instead.\n",
      "root - INFO - Summary name CXR8-DRAIN_PNEUMOTHORAX_slice:chest_drain_cnn_neg:pred/CXR8-DRAIN_valid/CXR8-DRAIN_PNEUMOTHORAX_slice:chest_drain_cnn_neg:pred/roc-auc is illegal; using CXR8-DRAIN_PNEUMOTHORAX_slice_chest_drain_cnn_neg_pred/CXR8-DRAIN_valid/CXR8-DRAIN_PNEUMOTHORAX_slice_chest_drain_cnn_neg_pred/roc-auc instead.\n",
      "root - INFO - Summary name CXR8-DRAIN_PNEUMOTHORAX_slice:chest_drain_cnn_neg:pred/CXR8-DRAIN_valid/CXR8-DRAIN_PNEUMOTHORAX_slice:chest_drain_cnn_neg:pred/accuracy is illegal; using CXR8-DRAIN_PNEUMOTHORAX_slice_chest_drain_cnn_neg_pred/CXR8-DRAIN_valid/CXR8-DRAIN_PNEUMOTHORAX_slice_chest_drain_cnn_neg_pred/accuracy instead.\n"
     ]
    },
    {
     "name": "stdout",
     "output_type": "stream",
     "text": [
      "[2.0 epo]: CXR8-DRAIN_PNEUMOTHORAX_slice:chest_drain_cnn_neg:pred:[CXR8-DRAIN_train/CXR8-DRAIN_PNEUMOTHORAX_slice:chest_drain_cnn_neg:pred/loss=8.69e-02, CXR8-DRAIN_valid/CXR8-DRAIN_PNEUMOTHORAX_slice:chest_drain_cnn_neg:pred/f1=9.30e-02, CXR8-DRAIN_valid/CXR8-DRAIN_PNEUMOTHORAX_slice:chest_drain_cnn_neg:pred/roc-auc=6.94e-01, CXR8-DRAIN_valid/CXR8-DRAIN_PNEUMOTHORAX_slice:chest_drain_cnn_neg:pred/accuracy=9.36e-01] model:[train/all/loss=8.69e-02, train/all/lr=9.60e-05, valid/all/loss=2.96e-01] CXR8-DRAIN_ATELECTASIS:[CXR8-DRAIN_valid/CXR8-DRAIN_ATELECTASIS/f1=0, CXR8-DRAIN_valid/CXR8-DRAIN_ATELECTASIS/roc-auc=5.76e-01, CXR8-DRAIN_valid/CXR8-DRAIN_ATELECTASIS/accuracy=9.01e-01] CXR8-DRAIN_CARDIOMEGALY:[CXR8-DRAIN_valid/CXR8-DRAIN_CARDIOMEGALY/f1=0, CXR8-DRAIN_valid/CXR8-DRAIN_CARDIOMEGALY/roc-auc=5.40e-01, CXR8-DRAIN_valid/CXR8-DRAIN_CARDIOMEGALY/accuracy=9.78e-01] CXR8-DRAIN_EFFUSION:[CXR8-DRAIN_valid/CXR8-DRAIN_EFFUSION/f1=0, CXR8-DRAIN_valid/CXR8-DRAIN_EFFUSION/roc-auc=6.30e-01, CXR8-DRAIN_valid/CXR8-DRAIN_EFFUSION/accuracy=8.84e-01] CXR8-DRAIN_INFILTRATION:[CXR8-DRAIN_valid/CXR8-DRAIN_INFILTRATION/f1=9.94e-04, CXR8-DRAIN_valid/CXR8-DRAIN_INFILTRATION/roc-auc=5.87e-01, CXR8-DRAIN_valid/CXR8-DRAIN_INFILTRATION/accuracy=8.21e-01] CXR8-DRAIN_MASS:[CXR8-DRAIN_valid/CXR8-DRAIN_MASS/f1=0, CXR8-DRAIN_valid/CXR8-DRAIN_MASS/roc-auc=6.38e-01, CXR8-DRAIN_valid/CXR8-DRAIN_MASS/accuracy=9.43e-01] CXR8-DRAIN_NODULE:[CXR8-DRAIN_valid/CXR8-DRAIN_NODULE/f1=0, CXR8-DRAIN_valid/CXR8-DRAIN_NODULE/roc-auc=5.99e-01, CXR8-DRAIN_valid/CXR8-DRAIN_NODULE/accuracy=9.44e-01] CXR8-DRAIN_PNEUMONIA:[CXR8-DRAIN_valid/CXR8-DRAIN_PNEUMONIA/f1=0, CXR8-DRAIN_valid/CXR8-DRAIN_PNEUMONIA/roc-auc=5.08e-01, CXR8-DRAIN_valid/CXR8-DRAIN_PNEUMONIA/accuracy=9.88e-01] CXR8-DRAIN_PNEUMOTHORAX:[CXR8-DRAIN_valid/CXR8-DRAIN_PNEUMOTHORAX/f1=3.03e-01, CXR8-DRAIN_valid/CXR8-DRAIN_PNEUMOTHORAX/roc-auc=7.89e-01, CXR8-DRAIN_valid/CXR8-DRAIN_PNEUMOTHORAX/accuracy=9.33e-01] CXR8-DRAIN_CONSOLIDATION:[CXR8-DRAIN_valid/CXR8-DRAIN_CONSOLIDATION/f1=0, CXR8-DRAIN_valid/CXR8-DRAIN_CONSOLIDATION/roc-auc=6.09e-01, CXR8-DRAIN_valid/CXR8-DRAIN_CONSOLIDATION/accuracy=9.61e-01] CXR8-DRAIN_EDEMA:[CXR8-DRAIN_valid/CXR8-DRAIN_EDEMA/f1=0, CXR8-DRAIN_valid/CXR8-DRAIN_EDEMA/roc-auc=6.09e-01, CXR8-DRAIN_valid/CXR8-DRAIN_EDEMA/accuracy=9.82e-01] CXR8-DRAIN_EMPHYSEMA:[CXR8-DRAIN_valid/CXR8-DRAIN_EMPHYSEMA/f1=0, CXR8-DRAIN_valid/CXR8-DRAIN_EMPHYSEMA/roc-auc=7.92e-01, CXR8-DRAIN_valid/CXR8-DRAIN_EMPHYSEMA/accuracy=9.80e-01] CXR8-DRAIN_FIBROSIS:[CXR8-DRAIN_valid/CXR8-DRAIN_FIBROSIS/f1=0, CXR8-DRAIN_valid/CXR8-DRAIN_FIBROSIS/roc-auc=6.53e-01, CXR8-DRAIN_valid/CXR8-DRAIN_FIBROSIS/accuracy=9.85e-01] CXR8-DRAIN_PLEURAL_THICKENING:[CXR8-DRAIN_valid/CXR8-DRAIN_PLEURAL_THICKENING/f1=0, CXR8-DRAIN_valid/CXR8-DRAIN_PLEURAL_THICKENING/roc-auc=6.60e-01, CXR8-DRAIN_valid/CXR8-DRAIN_PLEURAL_THICKENING/accuracy=9.67e-01] CXR8-DRAIN_HERNIA:[CXR8-DRAIN_valid/CXR8-DRAIN_HERNIA/f1=0, CXR8-DRAIN_valid/CXR8-DRAIN_HERNIA/roc-auc=5.57e-01, CXR8-DRAIN_valid/CXR8-DRAIN_HERNIA/accuracy=9.96e-01]\n",
      "Saving model at iteration 2.00 with best (max) score CXR8-DRAIN_PNEUMOTHORAX_slice:chest_drain_cnn_neg:pred/CXR8-DRAIN_valid/CXR8-DRAIN_PNEUMOTHORAX_slice:chest_drain_cnn_neg:pred/f1=0.093\n"
     ]
    },
    {
     "name": "stderr",
     "output_type": "stream",
     "text": [
      "metal.mmtl.trainer - INFO - Freezing ['CXR8-DRAIN_ATELECTASIS', 'CXR8-DRAIN_CARDIOMEGALY', 'CXR8-DRAIN_EFFUSION', 'CXR8-DRAIN_INFILTRATION', 'CXR8-DRAIN_MASS', 'CXR8-DRAIN_NODULE', 'CXR8-DRAIN_PNEUMONIA', 'CXR8-DRAIN_PNEUMOTHORAX', 'CXR8-DRAIN_CONSOLIDATION', 'CXR8-DRAIN_EDEMA', 'CXR8-DRAIN_EMPHYSEMA', 'CXR8-DRAIN_FIBROSIS', 'CXR8-DRAIN_PLEURAL_THICKENING', 'CXR8-DRAIN_HERNIA'] heads\n",
      "metal.mmtl.trainer - INFO - Training tasks {'CXR8-DRAIN_PNEUMOTHORAX_slice:chest_drain_cnn_neg:pred': 'CXR8-DRAIN_PNEUMOTHORAX_slice:chest_drain_cnn_neg:pred'}\n",
      "root - INFO - Summary name CXR8-DRAIN_PNEUMOTHORAX_slice:chest_drain_cnn_neg:pred/CXR8-DRAIN_train/CXR8-DRAIN_PNEUMOTHORAX_slice:chest_drain_cnn_neg:pred/loss is illegal; using CXR8-DRAIN_PNEUMOTHORAX_slice_chest_drain_cnn_neg_pred/CXR8-DRAIN_train/CXR8-DRAIN_PNEUMOTHORAX_slice_chest_drain_cnn_neg_pred/loss instead.\n",
      "root - INFO - Summary name CXR8-DRAIN_PNEUMOTHORAX_slice:chest_drain_cnn_neg:pred/CXR8-DRAIN_valid/CXR8-DRAIN_PNEUMOTHORAX_slice:chest_drain_cnn_neg:pred/f1 is illegal; using CXR8-DRAIN_PNEUMOTHORAX_slice_chest_drain_cnn_neg_pred/CXR8-DRAIN_valid/CXR8-DRAIN_PNEUMOTHORAX_slice_chest_drain_cnn_neg_pred/f1 instead.\n",
      "root - INFO - Summary name CXR8-DRAIN_PNEUMOTHORAX_slice:chest_drain_cnn_neg:pred/CXR8-DRAIN_valid/CXR8-DRAIN_PNEUMOTHORAX_slice:chest_drain_cnn_neg:pred/roc-auc is illegal; using CXR8-DRAIN_PNEUMOTHORAX_slice_chest_drain_cnn_neg_pred/CXR8-DRAIN_valid/CXR8-DRAIN_PNEUMOTHORAX_slice_chest_drain_cnn_neg_pred/roc-auc instead.\n",
      "root - INFO - Summary name CXR8-DRAIN_PNEUMOTHORAX_slice:chest_drain_cnn_neg:pred/CXR8-DRAIN_valid/CXR8-DRAIN_PNEUMOTHORAX_slice:chest_drain_cnn_neg:pred/accuracy is illegal; using CXR8-DRAIN_PNEUMOTHORAX_slice_chest_drain_cnn_neg_pred/CXR8-DRAIN_valid/CXR8-DRAIN_PNEUMOTHORAX_slice_chest_drain_cnn_neg_pred/accuracy instead.\n"
     ]
    },
    {
     "name": "stdout",
     "output_type": "stream",
     "text": [
      "[3.0 epo]: CXR8-DRAIN_PNEUMOTHORAX_slice:chest_drain_cnn_neg:pred:[CXR8-DRAIN_train/CXR8-DRAIN_PNEUMOTHORAX_slice:chest_drain_cnn_neg:pred/loss=9.93e-02, CXR8-DRAIN_valid/CXR8-DRAIN_PNEUMOTHORAX_slice:chest_drain_cnn_neg:pred/f1=8.00e-02, CXR8-DRAIN_valid/CXR8-DRAIN_PNEUMOTHORAX_slice:chest_drain_cnn_neg:pred/roc-auc=6.62e-01, CXR8-DRAIN_valid/CXR8-DRAIN_PNEUMOTHORAX_slice:chest_drain_cnn_neg:pred/accuracy=8.00e-01] model:[train/all/loss=9.93e-02, train/all/lr=9.40e-05, valid/all/loss=3.54e-01] CXR8-DRAIN_ATELECTASIS:[CXR8-DRAIN_valid/CXR8-DRAIN_ATELECTASIS/f1=0, CXR8-DRAIN_valid/CXR8-DRAIN_ATELECTASIS/roc-auc=6.32e-01, CXR8-DRAIN_valid/CXR8-DRAIN_ATELECTASIS/accuracy=9.01e-01] CXR8-DRAIN_CARDIOMEGALY:[CXR8-DRAIN_valid/CXR8-DRAIN_CARDIOMEGALY/f1=0, CXR8-DRAIN_valid/CXR8-DRAIN_CARDIOMEGALY/roc-auc=7.69e-01, CXR8-DRAIN_valid/CXR8-DRAIN_CARDIOMEGALY/accuracy=9.78e-01] CXR8-DRAIN_EFFUSION:[CXR8-DRAIN_valid/CXR8-DRAIN_EFFUSION/f1=0, CXR8-DRAIN_valid/CXR8-DRAIN_EFFUSION/roc-auc=6.95e-01, CXR8-DRAIN_valid/CXR8-DRAIN_EFFUSION/accuracy=8.84e-01] CXR8-DRAIN_INFILTRATION:[CXR8-DRAIN_valid/CXR8-DRAIN_INFILTRATION/f1=0, CXR8-DRAIN_valid/CXR8-DRAIN_INFILTRATION/roc-auc=6.18e-01, CXR8-DRAIN_valid/CXR8-DRAIN_INFILTRATION/accuracy=8.21e-01] CXR8-DRAIN_MASS:[CXR8-DRAIN_valid/CXR8-DRAIN_MASS/f1=0, CXR8-DRAIN_valid/CXR8-DRAIN_MASS/roc-auc=5.90e-01, CXR8-DRAIN_valid/CXR8-DRAIN_MASS/accuracy=9.43e-01] CXR8-DRAIN_NODULE:[CXR8-DRAIN_valid/CXR8-DRAIN_NODULE/f1=0, CXR8-DRAIN_valid/CXR8-DRAIN_NODULE/roc-auc=5.87e-01, CXR8-DRAIN_valid/CXR8-DRAIN_NODULE/accuracy=9.44e-01] CXR8-DRAIN_PNEUMONIA:[CXR8-DRAIN_valid/CXR8-DRAIN_PNEUMONIA/f1=0, CXR8-DRAIN_valid/CXR8-DRAIN_PNEUMONIA/roc-auc=5.32e-01, CXR8-DRAIN_valid/CXR8-DRAIN_PNEUMONIA/accuracy=9.88e-01] CXR8-DRAIN_PNEUMOTHORAX:[CXR8-DRAIN_valid/CXR8-DRAIN_PNEUMOTHORAX/f1=2.78e-01, CXR8-DRAIN_valid/CXR8-DRAIN_PNEUMOTHORAX/roc-auc=8.01e-01, CXR8-DRAIN_valid/CXR8-DRAIN_PNEUMOTHORAX/accuracy=8.46e-01] CXR8-DRAIN_CONSOLIDATION:[CXR8-DRAIN_valid/CXR8-DRAIN_CONSOLIDATION/f1=0, CXR8-DRAIN_valid/CXR8-DRAIN_CONSOLIDATION/roc-auc=6.35e-01, CXR8-DRAIN_valid/CXR8-DRAIN_CONSOLIDATION/accuracy=9.61e-01] CXR8-DRAIN_EDEMA:[CXR8-DRAIN_valid/CXR8-DRAIN_EDEMA/f1=0, CXR8-DRAIN_valid/CXR8-DRAIN_EDEMA/roc-auc=6.91e-01, CXR8-DRAIN_valid/CXR8-DRAIN_EDEMA/accuracy=9.82e-01] CXR8-DRAIN_EMPHYSEMA:[CXR8-DRAIN_valid/CXR8-DRAIN_EMPHYSEMA/f1=0, CXR8-DRAIN_valid/CXR8-DRAIN_EMPHYSEMA/roc-auc=6.40e-01, CXR8-DRAIN_valid/CXR8-DRAIN_EMPHYSEMA/accuracy=9.80e-01] CXR8-DRAIN_FIBROSIS:[CXR8-DRAIN_valid/CXR8-DRAIN_FIBROSIS/f1=0, CXR8-DRAIN_valid/CXR8-DRAIN_FIBROSIS/roc-auc=6.16e-01, CXR8-DRAIN_valid/CXR8-DRAIN_FIBROSIS/accuracy=9.85e-01] CXR8-DRAIN_PLEURAL_THICKENING:[CXR8-DRAIN_valid/CXR8-DRAIN_PLEURAL_THICKENING/f1=0, CXR8-DRAIN_valid/CXR8-DRAIN_PLEURAL_THICKENING/roc-auc=5.99e-01, CXR8-DRAIN_valid/CXR8-DRAIN_PLEURAL_THICKENING/accuracy=9.67e-01] CXR8-DRAIN_HERNIA:[CXR8-DRAIN_valid/CXR8-DRAIN_HERNIA/f1=0, CXR8-DRAIN_valid/CXR8-DRAIN_HERNIA/roc-auc=7.19e-01, CXR8-DRAIN_valid/CXR8-DRAIN_HERNIA/accuracy=9.96e-01]\n"
     ]
    },
    {
     "name": "stderr",
     "output_type": "stream",
     "text": [
      "metal.mmtl.trainer - INFO - Freezing ['CXR8-DRAIN_ATELECTASIS', 'CXR8-DRAIN_CARDIOMEGALY', 'CXR8-DRAIN_EFFUSION', 'CXR8-DRAIN_INFILTRATION', 'CXR8-DRAIN_MASS', 'CXR8-DRAIN_NODULE', 'CXR8-DRAIN_PNEUMONIA', 'CXR8-DRAIN_PNEUMOTHORAX', 'CXR8-DRAIN_CONSOLIDATION', 'CXR8-DRAIN_EDEMA', 'CXR8-DRAIN_EMPHYSEMA', 'CXR8-DRAIN_FIBROSIS', 'CXR8-DRAIN_PLEURAL_THICKENING', 'CXR8-DRAIN_HERNIA'] heads\n",
      "metal.mmtl.trainer - INFO - Training tasks {'CXR8-DRAIN_PNEUMOTHORAX_slice:chest_drain_cnn_neg:pred': 'CXR8-DRAIN_PNEUMOTHORAX_slice:chest_drain_cnn_neg:pred'}\n",
      "root - INFO - Summary name CXR8-DRAIN_PNEUMOTHORAX_slice:chest_drain_cnn_neg:pred/CXR8-DRAIN_train/CXR8-DRAIN_PNEUMOTHORAX_slice:chest_drain_cnn_neg:pred/loss is illegal; using CXR8-DRAIN_PNEUMOTHORAX_slice_chest_drain_cnn_neg_pred/CXR8-DRAIN_train/CXR8-DRAIN_PNEUMOTHORAX_slice_chest_drain_cnn_neg_pred/loss instead.\n",
      "root - INFO - Summary name CXR8-DRAIN_PNEUMOTHORAX_slice:chest_drain_cnn_neg:pred/CXR8-DRAIN_valid/CXR8-DRAIN_PNEUMOTHORAX_slice:chest_drain_cnn_neg:pred/f1 is illegal; using CXR8-DRAIN_PNEUMOTHORAX_slice_chest_drain_cnn_neg_pred/CXR8-DRAIN_valid/CXR8-DRAIN_PNEUMOTHORAX_slice_chest_drain_cnn_neg_pred/f1 instead.\n",
      "root - INFO - Summary name CXR8-DRAIN_PNEUMOTHORAX_slice:chest_drain_cnn_neg:pred/CXR8-DRAIN_valid/CXR8-DRAIN_PNEUMOTHORAX_slice:chest_drain_cnn_neg:pred/roc-auc is illegal; using CXR8-DRAIN_PNEUMOTHORAX_slice_chest_drain_cnn_neg_pred/CXR8-DRAIN_valid/CXR8-DRAIN_PNEUMOTHORAX_slice_chest_drain_cnn_neg_pred/roc-auc instead.\n",
      "root - INFO - Summary name CXR8-DRAIN_PNEUMOTHORAX_slice:chest_drain_cnn_neg:pred/CXR8-DRAIN_valid/CXR8-DRAIN_PNEUMOTHORAX_slice:chest_drain_cnn_neg:pred/accuracy is illegal; using CXR8-DRAIN_PNEUMOTHORAX_slice_chest_drain_cnn_neg_pred/CXR8-DRAIN_valid/CXR8-DRAIN_PNEUMOTHORAX_slice_chest_drain_cnn_neg_pred/accuracy instead.\n"
     ]
    },
    {
     "name": "stdout",
     "output_type": "stream",
     "text": [
      "[4.0 epo]: CXR8-DRAIN_PNEUMOTHORAX_slice:chest_drain_cnn_neg:pred:[CXR8-DRAIN_train/CXR8-DRAIN_PNEUMOTHORAX_slice:chest_drain_cnn_neg:pred/loss=9.52e-02, CXR8-DRAIN_valid/CXR8-DRAIN_PNEUMOTHORAX_slice:chest_drain_cnn_neg:pred/f1=1.01e-01, CXR8-DRAIN_valid/CXR8-DRAIN_PNEUMOTHORAX_slice:chest_drain_cnn_neg:pred/roc-auc=6.99e-01, CXR8-DRAIN_valid/CXR8-DRAIN_PNEUMOTHORAX_slice:chest_drain_cnn_neg:pred/accuracy=8.88e-01] model:[train/all/loss=9.52e-02, train/all/lr=9.20e-05, valid/all/loss=2.84e-01] CXR8-DRAIN_ATELECTASIS:[CXR8-DRAIN_valid/CXR8-DRAIN_ATELECTASIS/f1=0, CXR8-DRAIN_valid/CXR8-DRAIN_ATELECTASIS/roc-auc=6.46e-01, CXR8-DRAIN_valid/CXR8-DRAIN_ATELECTASIS/accuracy=9.01e-01] CXR8-DRAIN_CARDIOMEGALY:[CXR8-DRAIN_valid/CXR8-DRAIN_CARDIOMEGALY/f1=0, CXR8-DRAIN_valid/CXR8-DRAIN_CARDIOMEGALY/roc-auc=6.67e-01, CXR8-DRAIN_valid/CXR8-DRAIN_CARDIOMEGALY/accuracy=9.78e-01] CXR8-DRAIN_EFFUSION:[CXR8-DRAIN_valid/CXR8-DRAIN_EFFUSION/f1=0, CXR8-DRAIN_valid/CXR8-DRAIN_EFFUSION/roc-auc=6.69e-01, CXR8-DRAIN_valid/CXR8-DRAIN_EFFUSION/accuracy=8.84e-01] CXR8-DRAIN_INFILTRATION:[CXR8-DRAIN_valid/CXR8-DRAIN_INFILTRATION/f1=0, CXR8-DRAIN_valid/CXR8-DRAIN_INFILTRATION/roc-auc=6.24e-01, CXR8-DRAIN_valid/CXR8-DRAIN_INFILTRATION/accuracy=8.21e-01] CXR8-DRAIN_MASS:[CXR8-DRAIN_valid/CXR8-DRAIN_MASS/f1=0, CXR8-DRAIN_valid/CXR8-DRAIN_MASS/roc-auc=6.56e-01, CXR8-DRAIN_valid/CXR8-DRAIN_MASS/accuracy=9.43e-01] CXR8-DRAIN_NODULE:[CXR8-DRAIN_valid/CXR8-DRAIN_NODULE/f1=0, CXR8-DRAIN_valid/CXR8-DRAIN_NODULE/roc-auc=6.23e-01, CXR8-DRAIN_valid/CXR8-DRAIN_NODULE/accuracy=9.44e-01] CXR8-DRAIN_PNEUMONIA:[CXR8-DRAIN_valid/CXR8-DRAIN_PNEUMONIA/f1=0, CXR8-DRAIN_valid/CXR8-DRAIN_PNEUMONIA/roc-auc=5.09e-01, CXR8-DRAIN_valid/CXR8-DRAIN_PNEUMONIA/accuracy=9.88e-01] CXR8-DRAIN_PNEUMOTHORAX:[CXR8-DRAIN_valid/CXR8-DRAIN_PNEUMOTHORAX/f1=2.95e-01, CXR8-DRAIN_valid/CXR8-DRAIN_PNEUMOTHORAX/roc-auc=7.94e-01, CXR8-DRAIN_valid/CXR8-DRAIN_PNEUMOTHORAX/accuracy=9.07e-01] CXR8-DRAIN_CONSOLIDATION:[CXR8-DRAIN_valid/CXR8-DRAIN_CONSOLIDATION/f1=0, CXR8-DRAIN_valid/CXR8-DRAIN_CONSOLIDATION/roc-auc=6.30e-01, CXR8-DRAIN_valid/CXR8-DRAIN_CONSOLIDATION/accuracy=9.61e-01] CXR8-DRAIN_EDEMA:[CXR8-DRAIN_valid/CXR8-DRAIN_EDEMA/f1=0, CXR8-DRAIN_valid/CXR8-DRAIN_EDEMA/roc-auc=6.44e-01, CXR8-DRAIN_valid/CXR8-DRAIN_EDEMA/accuracy=9.82e-01] CXR8-DRAIN_EMPHYSEMA:[CXR8-DRAIN_valid/CXR8-DRAIN_EMPHYSEMA/f1=0, CXR8-DRAIN_valid/CXR8-DRAIN_EMPHYSEMA/roc-auc=8.04e-01, CXR8-DRAIN_valid/CXR8-DRAIN_EMPHYSEMA/accuracy=9.80e-01] CXR8-DRAIN_FIBROSIS:[CXR8-DRAIN_valid/CXR8-DRAIN_FIBROSIS/f1=0, CXR8-DRAIN_valid/CXR8-DRAIN_FIBROSIS/roc-auc=6.69e-01, CXR8-DRAIN_valid/CXR8-DRAIN_FIBROSIS/accuracy=9.85e-01] CXR8-DRAIN_PLEURAL_THICKENING:[CXR8-DRAIN_valid/CXR8-DRAIN_PLEURAL_THICKENING/f1=0, CXR8-DRAIN_valid/CXR8-DRAIN_PLEURAL_THICKENING/roc-auc=6.68e-01, CXR8-DRAIN_valid/CXR8-DRAIN_PLEURAL_THICKENING/accuracy=9.67e-01] CXR8-DRAIN_HERNIA:[CXR8-DRAIN_valid/CXR8-DRAIN_HERNIA/f1=0, CXR8-DRAIN_valid/CXR8-DRAIN_HERNIA/roc-auc=7.49e-01, CXR8-DRAIN_valid/CXR8-DRAIN_HERNIA/accuracy=9.96e-01]\n",
      "Saving model at iteration 4.00 with best (max) score CXR8-DRAIN_PNEUMOTHORAX_slice:chest_drain_cnn_neg:pred/CXR8-DRAIN_valid/CXR8-DRAIN_PNEUMOTHORAX_slice:chest_drain_cnn_neg:pred/f1=0.101\n"
     ]
    },
    {
     "name": "stderr",
     "output_type": "stream",
     "text": [
      "metal.mmtl.trainer - INFO - Freezing ['CXR8-DRAIN_ATELECTASIS', 'CXR8-DRAIN_CARDIOMEGALY', 'CXR8-DRAIN_EFFUSION', 'CXR8-DRAIN_INFILTRATION', 'CXR8-DRAIN_MASS', 'CXR8-DRAIN_NODULE', 'CXR8-DRAIN_PNEUMONIA', 'CXR8-DRAIN_PNEUMOTHORAX', 'CXR8-DRAIN_CONSOLIDATION', 'CXR8-DRAIN_EDEMA', 'CXR8-DRAIN_EMPHYSEMA', 'CXR8-DRAIN_FIBROSIS', 'CXR8-DRAIN_PLEURAL_THICKENING', 'CXR8-DRAIN_HERNIA'] heads\n",
      "metal.mmtl.trainer - INFO - Training tasks {'CXR8-DRAIN_PNEUMOTHORAX_slice:chest_drain_cnn_neg:pred': 'CXR8-DRAIN_PNEUMOTHORAX_slice:chest_drain_cnn_neg:pred'}\n",
      "root - INFO - Summary name CXR8-DRAIN_PNEUMOTHORAX_slice:chest_drain_cnn_neg:pred/CXR8-DRAIN_train/CXR8-DRAIN_PNEUMOTHORAX_slice:chest_drain_cnn_neg:pred/loss is illegal; using CXR8-DRAIN_PNEUMOTHORAX_slice_chest_drain_cnn_neg_pred/CXR8-DRAIN_train/CXR8-DRAIN_PNEUMOTHORAX_slice_chest_drain_cnn_neg_pred/loss instead.\n",
      "root - INFO - Summary name CXR8-DRAIN_PNEUMOTHORAX_slice:chest_drain_cnn_neg:pred/CXR8-DRAIN_valid/CXR8-DRAIN_PNEUMOTHORAX_slice:chest_drain_cnn_neg:pred/f1 is illegal; using CXR8-DRAIN_PNEUMOTHORAX_slice_chest_drain_cnn_neg_pred/CXR8-DRAIN_valid/CXR8-DRAIN_PNEUMOTHORAX_slice_chest_drain_cnn_neg_pred/f1 instead.\n",
      "root - INFO - Summary name CXR8-DRAIN_PNEUMOTHORAX_slice:chest_drain_cnn_neg:pred/CXR8-DRAIN_valid/CXR8-DRAIN_PNEUMOTHORAX_slice:chest_drain_cnn_neg:pred/roc-auc is illegal; using CXR8-DRAIN_PNEUMOTHORAX_slice_chest_drain_cnn_neg_pred/CXR8-DRAIN_valid/CXR8-DRAIN_PNEUMOTHORAX_slice_chest_drain_cnn_neg_pred/roc-auc instead.\n",
      "root - INFO - Summary name CXR8-DRAIN_PNEUMOTHORAX_slice:chest_drain_cnn_neg:pred/CXR8-DRAIN_valid/CXR8-DRAIN_PNEUMOTHORAX_slice:chest_drain_cnn_neg:pred/accuracy is illegal; using CXR8-DRAIN_PNEUMOTHORAX_slice_chest_drain_cnn_neg_pred/CXR8-DRAIN_valid/CXR8-DRAIN_PNEUMOTHORAX_slice_chest_drain_cnn_neg_pred/accuracy instead.\n"
     ]
    },
    {
     "name": "stdout",
     "output_type": "stream",
     "text": [
      "[5.0 epo]: CXR8-DRAIN_PNEUMOTHORAX_slice:chest_drain_cnn_neg:pred:[CXR8-DRAIN_train/CXR8-DRAIN_PNEUMOTHORAX_slice:chest_drain_cnn_neg:pred/loss=1.15e-01, CXR8-DRAIN_valid/CXR8-DRAIN_PNEUMOTHORAX_slice:chest_drain_cnn_neg:pred/f1=7.90e-02, CXR8-DRAIN_valid/CXR8-DRAIN_PNEUMOTHORAX_slice:chest_drain_cnn_neg:pred/roc-auc=6.62e-01, CXR8-DRAIN_valid/CXR8-DRAIN_PNEUMOTHORAX_slice:chest_drain_cnn_neg:pred/accuracy=8.44e-01] model:[train/all/loss=1.15e-01, train/all/lr=9.00e-05, valid/all/loss=3.24e-01] CXR8-DRAIN_ATELECTASIS:[CXR8-DRAIN_valid/CXR8-DRAIN_ATELECTASIS/f1=0, CXR8-DRAIN_valid/CXR8-DRAIN_ATELECTASIS/roc-auc=5.87e-01, CXR8-DRAIN_valid/CXR8-DRAIN_ATELECTASIS/accuracy=9.01e-01] CXR8-DRAIN_CARDIOMEGALY:[CXR8-DRAIN_valid/CXR8-DRAIN_CARDIOMEGALY/f1=0, CXR8-DRAIN_valid/CXR8-DRAIN_CARDIOMEGALY/roc-auc=5.00e-01, CXR8-DRAIN_valid/CXR8-DRAIN_CARDIOMEGALY/accuracy=9.78e-01] CXR8-DRAIN_EFFUSION:[CXR8-DRAIN_valid/CXR8-DRAIN_EFFUSION/f1=0, CXR8-DRAIN_valid/CXR8-DRAIN_EFFUSION/roc-auc=6.87e-01, CXR8-DRAIN_valid/CXR8-DRAIN_EFFUSION/accuracy=8.84e-01] CXR8-DRAIN_INFILTRATION:[CXR8-DRAIN_valid/CXR8-DRAIN_INFILTRATION/f1=0, CXR8-DRAIN_valid/CXR8-DRAIN_INFILTRATION/roc-auc=5.80e-01, CXR8-DRAIN_valid/CXR8-DRAIN_INFILTRATION/accuracy=8.21e-01] CXR8-DRAIN_MASS:[CXR8-DRAIN_valid/CXR8-DRAIN_MASS/f1=0, CXR8-DRAIN_valid/CXR8-DRAIN_MASS/roc-auc=5.76e-01, CXR8-DRAIN_valid/CXR8-DRAIN_MASS/accuracy=9.43e-01] CXR8-DRAIN_NODULE:[CXR8-DRAIN_valid/CXR8-DRAIN_NODULE/f1=0, CXR8-DRAIN_valid/CXR8-DRAIN_NODULE/roc-auc=5.91e-01, CXR8-DRAIN_valid/CXR8-DRAIN_NODULE/accuracy=9.44e-01] CXR8-DRAIN_PNEUMONIA:[CXR8-DRAIN_valid/CXR8-DRAIN_PNEUMONIA/f1=0, CXR8-DRAIN_valid/CXR8-DRAIN_PNEUMONIA/roc-auc=5.06e-01, CXR8-DRAIN_valid/CXR8-DRAIN_PNEUMONIA/accuracy=9.88e-01] CXR8-DRAIN_PNEUMOTHORAX:[CXR8-DRAIN_valid/CXR8-DRAIN_PNEUMOTHORAX/f1=2.95e-01, CXR8-DRAIN_valid/CXR8-DRAIN_PNEUMOTHORAX/roc-auc=7.99e-01, CXR8-DRAIN_valid/CXR8-DRAIN_PNEUMOTHORAX/accuracy=8.75e-01] CXR8-DRAIN_CONSOLIDATION:[CXR8-DRAIN_valid/CXR8-DRAIN_CONSOLIDATION/f1=0, CXR8-DRAIN_valid/CXR8-DRAIN_CONSOLIDATION/roc-auc=5.95e-01, CXR8-DRAIN_valid/CXR8-DRAIN_CONSOLIDATION/accuracy=9.61e-01] CXR8-DRAIN_EDEMA:[CXR8-DRAIN_valid/CXR8-DRAIN_EDEMA/f1=0, CXR8-DRAIN_valid/CXR8-DRAIN_EDEMA/roc-auc=5.25e-01, CXR8-DRAIN_valid/CXR8-DRAIN_EDEMA/accuracy=9.82e-01] CXR8-DRAIN_EMPHYSEMA:[CXR8-DRAIN_valid/CXR8-DRAIN_EMPHYSEMA/f1=0, CXR8-DRAIN_valid/CXR8-DRAIN_EMPHYSEMA/roc-auc=7.58e-01, CXR8-DRAIN_valid/CXR8-DRAIN_EMPHYSEMA/accuracy=9.80e-01] CXR8-DRAIN_FIBROSIS:[CXR8-DRAIN_valid/CXR8-DRAIN_FIBROSIS/f1=0, CXR8-DRAIN_valid/CXR8-DRAIN_FIBROSIS/roc-auc=6.46e-01, CXR8-DRAIN_valid/CXR8-DRAIN_FIBROSIS/accuracy=9.85e-01] CXR8-DRAIN_PLEURAL_THICKENING:[CXR8-DRAIN_valid/CXR8-DRAIN_PLEURAL_THICKENING/f1=0, CXR8-DRAIN_valid/CXR8-DRAIN_PLEURAL_THICKENING/roc-auc=6.62e-01, CXR8-DRAIN_valid/CXR8-DRAIN_PLEURAL_THICKENING/accuracy=9.67e-01] CXR8-DRAIN_HERNIA:[CXR8-DRAIN_valid/CXR8-DRAIN_HERNIA/f1=0, CXR8-DRAIN_valid/CXR8-DRAIN_HERNIA/roc-auc=6.54e-01, CXR8-DRAIN_valid/CXR8-DRAIN_HERNIA/accuracy=9.96e-01]\n"
     ]
    },
    {
     "name": "stderr",
     "output_type": "stream",
     "text": [
      "metal.mmtl.trainer - INFO - Freezing ['CXR8-DRAIN_ATELECTASIS', 'CXR8-DRAIN_CARDIOMEGALY', 'CXR8-DRAIN_EFFUSION', 'CXR8-DRAIN_INFILTRATION', 'CXR8-DRAIN_MASS', 'CXR8-DRAIN_NODULE', 'CXR8-DRAIN_PNEUMONIA', 'CXR8-DRAIN_PNEUMOTHORAX', 'CXR8-DRAIN_CONSOLIDATION', 'CXR8-DRAIN_EDEMA', 'CXR8-DRAIN_EMPHYSEMA', 'CXR8-DRAIN_FIBROSIS', 'CXR8-DRAIN_PLEURAL_THICKENING', 'CXR8-DRAIN_HERNIA'] heads\n",
      "metal.mmtl.trainer - INFO - Training tasks {'CXR8-DRAIN_PNEUMOTHORAX_slice:chest_drain_cnn_neg:pred': 'CXR8-DRAIN_PNEUMOTHORAX_slice:chest_drain_cnn_neg:pred'}\n",
      "root - INFO - Summary name CXR8-DRAIN_PNEUMOTHORAX_slice:chest_drain_cnn_neg:pred/CXR8-DRAIN_train/CXR8-DRAIN_PNEUMOTHORAX_slice:chest_drain_cnn_neg:pred/loss is illegal; using CXR8-DRAIN_PNEUMOTHORAX_slice_chest_drain_cnn_neg_pred/CXR8-DRAIN_train/CXR8-DRAIN_PNEUMOTHORAX_slice_chest_drain_cnn_neg_pred/loss instead.\n",
      "root - INFO - Summary name CXR8-DRAIN_PNEUMOTHORAX_slice:chest_drain_cnn_neg:pred/CXR8-DRAIN_valid/CXR8-DRAIN_PNEUMOTHORAX_slice:chest_drain_cnn_neg:pred/f1 is illegal; using CXR8-DRAIN_PNEUMOTHORAX_slice_chest_drain_cnn_neg_pred/CXR8-DRAIN_valid/CXR8-DRAIN_PNEUMOTHORAX_slice_chest_drain_cnn_neg_pred/f1 instead.\n",
      "root - INFO - Summary name CXR8-DRAIN_PNEUMOTHORAX_slice:chest_drain_cnn_neg:pred/CXR8-DRAIN_valid/CXR8-DRAIN_PNEUMOTHORAX_slice:chest_drain_cnn_neg:pred/roc-auc is illegal; using CXR8-DRAIN_PNEUMOTHORAX_slice_chest_drain_cnn_neg_pred/CXR8-DRAIN_valid/CXR8-DRAIN_PNEUMOTHORAX_slice_chest_drain_cnn_neg_pred/roc-auc instead.\n",
      "root - INFO - Summary name CXR8-DRAIN_PNEUMOTHORAX_slice:chest_drain_cnn_neg:pred/CXR8-DRAIN_valid/CXR8-DRAIN_PNEUMOTHORAX_slice:chest_drain_cnn_neg:pred/accuracy is illegal; using CXR8-DRAIN_PNEUMOTHORAX_slice_chest_drain_cnn_neg_pred/CXR8-DRAIN_valid/CXR8-DRAIN_PNEUMOTHORAX_slice_chest_drain_cnn_neg_pred/accuracy instead.\n"
     ]
    },
    {
     "name": "stdout",
     "output_type": "stream",
     "text": [
      "[6.0 epo]: CXR8-DRAIN_PNEUMOTHORAX_slice:chest_drain_cnn_neg:pred:[CXR8-DRAIN_train/CXR8-DRAIN_PNEUMOTHORAX_slice:chest_drain_cnn_neg:pred/loss=1.07e-01, CXR8-DRAIN_valid/CXR8-DRAIN_PNEUMOTHORAX_slice:chest_drain_cnn_neg:pred/f1=7.62e-02, CXR8-DRAIN_valid/CXR8-DRAIN_PNEUMOTHORAX_slice:chest_drain_cnn_neg:pred/roc-auc=6.83e-01, CXR8-DRAIN_valid/CXR8-DRAIN_PNEUMOTHORAX_slice:chest_drain_cnn_neg:pred/accuracy=8.05e-01] model:[train/all/loss=1.07e-01, train/all/lr=8.80e-05, valid/all/loss=3.34e-01] CXR8-DRAIN_ATELECTASIS:[CXR8-DRAIN_valid/CXR8-DRAIN_ATELECTASIS/f1=0, CXR8-DRAIN_valid/CXR8-DRAIN_ATELECTASIS/roc-auc=5.60e-01, CXR8-DRAIN_valid/CXR8-DRAIN_ATELECTASIS/accuracy=9.01e-01] CXR8-DRAIN_CARDIOMEGALY:[CXR8-DRAIN_valid/CXR8-DRAIN_CARDIOMEGALY/f1=0, CXR8-DRAIN_valid/CXR8-DRAIN_CARDIOMEGALY/roc-auc=5.16e-01, CXR8-DRAIN_valid/CXR8-DRAIN_CARDIOMEGALY/accuracy=9.78e-01] CXR8-DRAIN_EFFUSION:[CXR8-DRAIN_valid/CXR8-DRAIN_EFFUSION/f1=0, CXR8-DRAIN_valid/CXR8-DRAIN_EFFUSION/roc-auc=6.35e-01, CXR8-DRAIN_valid/CXR8-DRAIN_EFFUSION/accuracy=8.84e-01] CXR8-DRAIN_INFILTRATION:[CXR8-DRAIN_valid/CXR8-DRAIN_INFILTRATION/f1=0, CXR8-DRAIN_valid/CXR8-DRAIN_INFILTRATION/roc-auc=5.98e-01, CXR8-DRAIN_valid/CXR8-DRAIN_INFILTRATION/accuracy=8.21e-01] CXR8-DRAIN_MASS:[CXR8-DRAIN_valid/CXR8-DRAIN_MASS/f1=0, CXR8-DRAIN_valid/CXR8-DRAIN_MASS/roc-auc=6.20e-01, CXR8-DRAIN_valid/CXR8-DRAIN_MASS/accuracy=9.43e-01] CXR8-DRAIN_NODULE:[CXR8-DRAIN_valid/CXR8-DRAIN_NODULE/f1=0, CXR8-DRAIN_valid/CXR8-DRAIN_NODULE/roc-auc=5.92e-01, CXR8-DRAIN_valid/CXR8-DRAIN_NODULE/accuracy=9.44e-01] CXR8-DRAIN_PNEUMONIA:[CXR8-DRAIN_valid/CXR8-DRAIN_PNEUMONIA/f1=0, CXR8-DRAIN_valid/CXR8-DRAIN_PNEUMONIA/roc-auc=5.04e-01, CXR8-DRAIN_valid/CXR8-DRAIN_PNEUMONIA/accuracy=9.88e-01] CXR8-DRAIN_PNEUMOTHORAX:[CXR8-DRAIN_valid/CXR8-DRAIN_PNEUMOTHORAX/f1=2.71e-01, CXR8-DRAIN_valid/CXR8-DRAIN_PNEUMOTHORAX/roc-auc=7.96e-01, CXR8-DRAIN_valid/CXR8-DRAIN_PNEUMOTHORAX/accuracy=8.48e-01] CXR8-DRAIN_CONSOLIDATION:[CXR8-DRAIN_valid/CXR8-DRAIN_CONSOLIDATION/f1=0, CXR8-DRAIN_valid/CXR8-DRAIN_CONSOLIDATION/roc-auc=5.72e-01, CXR8-DRAIN_valid/CXR8-DRAIN_CONSOLIDATION/accuracy=9.61e-01] CXR8-DRAIN_EDEMA:[CXR8-DRAIN_valid/CXR8-DRAIN_EDEMA/f1=0, CXR8-DRAIN_valid/CXR8-DRAIN_EDEMA/roc-auc=5.73e-01, CXR8-DRAIN_valid/CXR8-DRAIN_EDEMA/accuracy=9.82e-01] CXR8-DRAIN_EMPHYSEMA:[CXR8-DRAIN_valid/CXR8-DRAIN_EMPHYSEMA/f1=0, CXR8-DRAIN_valid/CXR8-DRAIN_EMPHYSEMA/roc-auc=7.66e-01, CXR8-DRAIN_valid/CXR8-DRAIN_EMPHYSEMA/accuracy=9.80e-01] CXR8-DRAIN_FIBROSIS:[CXR8-DRAIN_valid/CXR8-DRAIN_FIBROSIS/f1=0, CXR8-DRAIN_valid/CXR8-DRAIN_FIBROSIS/roc-auc=6.38e-01, CXR8-DRAIN_valid/CXR8-DRAIN_FIBROSIS/accuracy=9.85e-01] CXR8-DRAIN_PLEURAL_THICKENING:[CXR8-DRAIN_valid/CXR8-DRAIN_PLEURAL_THICKENING/f1=0, CXR8-DRAIN_valid/CXR8-DRAIN_PLEURAL_THICKENING/roc-auc=6.28e-01, CXR8-DRAIN_valid/CXR8-DRAIN_PLEURAL_THICKENING/accuracy=9.67e-01] CXR8-DRAIN_HERNIA:[CXR8-DRAIN_valid/CXR8-DRAIN_HERNIA/f1=0, CXR8-DRAIN_valid/CXR8-DRAIN_HERNIA/roc-auc=6.82e-01, CXR8-DRAIN_valid/CXR8-DRAIN_HERNIA/accuracy=9.96e-01]\n"
     ]
    },
    {
     "name": "stderr",
     "output_type": "stream",
     "text": [
      "metal.mmtl.trainer - INFO - Freezing ['CXR8-DRAIN_ATELECTASIS', 'CXR8-DRAIN_CARDIOMEGALY', 'CXR8-DRAIN_EFFUSION', 'CXR8-DRAIN_INFILTRATION', 'CXR8-DRAIN_MASS', 'CXR8-DRAIN_NODULE', 'CXR8-DRAIN_PNEUMONIA', 'CXR8-DRAIN_PNEUMOTHORAX', 'CXR8-DRAIN_CONSOLIDATION', 'CXR8-DRAIN_EDEMA', 'CXR8-DRAIN_EMPHYSEMA', 'CXR8-DRAIN_FIBROSIS', 'CXR8-DRAIN_PLEURAL_THICKENING', 'CXR8-DRAIN_HERNIA'] heads\n",
      "metal.mmtl.trainer - INFO - Training tasks {'CXR8-DRAIN_PNEUMOTHORAX_slice:chest_drain_cnn_neg:pred': 'CXR8-DRAIN_PNEUMOTHORAX_slice:chest_drain_cnn_neg:pred'}\n",
      "root - INFO - Summary name CXR8-DRAIN_PNEUMOTHORAX_slice:chest_drain_cnn_neg:pred/CXR8-DRAIN_train/CXR8-DRAIN_PNEUMOTHORAX_slice:chest_drain_cnn_neg:pred/loss is illegal; using CXR8-DRAIN_PNEUMOTHORAX_slice_chest_drain_cnn_neg_pred/CXR8-DRAIN_train/CXR8-DRAIN_PNEUMOTHORAX_slice_chest_drain_cnn_neg_pred/loss instead.\n",
      "root - INFO - Summary name CXR8-DRAIN_PNEUMOTHORAX_slice:chest_drain_cnn_neg:pred/CXR8-DRAIN_valid/CXR8-DRAIN_PNEUMOTHORAX_slice:chest_drain_cnn_neg:pred/f1 is illegal; using CXR8-DRAIN_PNEUMOTHORAX_slice_chest_drain_cnn_neg_pred/CXR8-DRAIN_valid/CXR8-DRAIN_PNEUMOTHORAX_slice_chest_drain_cnn_neg_pred/f1 instead.\n",
      "root - INFO - Summary name CXR8-DRAIN_PNEUMOTHORAX_slice:chest_drain_cnn_neg:pred/CXR8-DRAIN_valid/CXR8-DRAIN_PNEUMOTHORAX_slice:chest_drain_cnn_neg:pred/roc-auc is illegal; using CXR8-DRAIN_PNEUMOTHORAX_slice_chest_drain_cnn_neg_pred/CXR8-DRAIN_valid/CXR8-DRAIN_PNEUMOTHORAX_slice_chest_drain_cnn_neg_pred/roc-auc instead.\n",
      "root - INFO - Summary name CXR8-DRAIN_PNEUMOTHORAX_slice:chest_drain_cnn_neg:pred/CXR8-DRAIN_valid/CXR8-DRAIN_PNEUMOTHORAX_slice:chest_drain_cnn_neg:pred/accuracy is illegal; using CXR8-DRAIN_PNEUMOTHORAX_slice_chest_drain_cnn_neg_pred/CXR8-DRAIN_valid/CXR8-DRAIN_PNEUMOTHORAX_slice_chest_drain_cnn_neg_pred/accuracy instead.\n"
     ]
    },
    {
     "name": "stdout",
     "output_type": "stream",
     "text": [
      "[7.0 epo]: CXR8-DRAIN_PNEUMOTHORAX_slice:chest_drain_cnn_neg:pred:[CXR8-DRAIN_train/CXR8-DRAIN_PNEUMOTHORAX_slice:chest_drain_cnn_neg:pred/loss=1.05e-01, CXR8-DRAIN_valid/CXR8-DRAIN_PNEUMOTHORAX_slice:chest_drain_cnn_neg:pred/f1=7.68e-02, CXR8-DRAIN_valid/CXR8-DRAIN_PNEUMOTHORAX_slice:chest_drain_cnn_neg:pred/roc-auc=6.62e-01, CXR8-DRAIN_valid/CXR8-DRAIN_PNEUMOTHORAX_slice:chest_drain_cnn_neg:pred/accuracy=8.15e-01] model:[train/all/loss=1.05e-01, train/all/lr=8.60e-05, valid/all/loss=3.52e-01] CXR8-DRAIN_ATELECTASIS:[CXR8-DRAIN_valid/CXR8-DRAIN_ATELECTASIS/f1=0, CXR8-DRAIN_valid/CXR8-DRAIN_ATELECTASIS/roc-auc=4.87e-01, CXR8-DRAIN_valid/CXR8-DRAIN_ATELECTASIS/accuracy=9.01e-01] CXR8-DRAIN_CARDIOMEGALY:[CXR8-DRAIN_valid/CXR8-DRAIN_CARDIOMEGALY/f1=0, CXR8-DRAIN_valid/CXR8-DRAIN_CARDIOMEGALY/roc-auc=3.84e-01, CXR8-DRAIN_valid/CXR8-DRAIN_CARDIOMEGALY/accuracy=9.78e-01] CXR8-DRAIN_EFFUSION:[CXR8-DRAIN_valid/CXR8-DRAIN_EFFUSION/f1=0, CXR8-DRAIN_valid/CXR8-DRAIN_EFFUSION/roc-auc=5.84e-01, CXR8-DRAIN_valid/CXR8-DRAIN_EFFUSION/accuracy=8.84e-01] CXR8-DRAIN_INFILTRATION:[CXR8-DRAIN_valid/CXR8-DRAIN_INFILTRATION/f1=0, CXR8-DRAIN_valid/CXR8-DRAIN_INFILTRATION/roc-auc=5.58e-01, CXR8-DRAIN_valid/CXR8-DRAIN_INFILTRATION/accuracy=8.21e-01] CXR8-DRAIN_MASS:[CXR8-DRAIN_valid/CXR8-DRAIN_MASS/f1=0, CXR8-DRAIN_valid/CXR8-DRAIN_MASS/roc-auc=6.28e-01, CXR8-DRAIN_valid/CXR8-DRAIN_MASS/accuracy=9.43e-01] CXR8-DRAIN_NODULE:[CXR8-DRAIN_valid/CXR8-DRAIN_NODULE/f1=0, CXR8-DRAIN_valid/CXR8-DRAIN_NODULE/roc-auc=5.76e-01, CXR8-DRAIN_valid/CXR8-DRAIN_NODULE/accuracy=9.44e-01] CXR8-DRAIN_PNEUMONIA:[CXR8-DRAIN_valid/CXR8-DRAIN_PNEUMONIA/f1=0, CXR8-DRAIN_valid/CXR8-DRAIN_PNEUMONIA/roc-auc=4.56e-01, CXR8-DRAIN_valid/CXR8-DRAIN_PNEUMONIA/accuracy=9.88e-01] CXR8-DRAIN_PNEUMOTHORAX:[CXR8-DRAIN_valid/CXR8-DRAIN_PNEUMOTHORAX/f1=2.24e-01, CXR8-DRAIN_valid/CXR8-DRAIN_PNEUMOTHORAX/roc-auc=7.53e-01, CXR8-DRAIN_valid/CXR8-DRAIN_PNEUMOTHORAX/accuracy=8.48e-01] CXR8-DRAIN_CONSOLIDATION:[CXR8-DRAIN_valid/CXR8-DRAIN_CONSOLIDATION/f1=0, CXR8-DRAIN_valid/CXR8-DRAIN_CONSOLIDATION/roc-auc=5.23e-01, CXR8-DRAIN_valid/CXR8-DRAIN_CONSOLIDATION/accuracy=9.61e-01] CXR8-DRAIN_EDEMA:[CXR8-DRAIN_valid/CXR8-DRAIN_EDEMA/f1=0, CXR8-DRAIN_valid/CXR8-DRAIN_EDEMA/roc-auc=4.98e-01, CXR8-DRAIN_valid/CXR8-DRAIN_EDEMA/accuracy=9.82e-01] CXR8-DRAIN_EMPHYSEMA:[CXR8-DRAIN_valid/CXR8-DRAIN_EMPHYSEMA/f1=0, CXR8-DRAIN_valid/CXR8-DRAIN_EMPHYSEMA/roc-auc=7.64e-01, CXR8-DRAIN_valid/CXR8-DRAIN_EMPHYSEMA/accuracy=9.80e-01] CXR8-DRAIN_FIBROSIS:[CXR8-DRAIN_valid/CXR8-DRAIN_FIBROSIS/f1=0, CXR8-DRAIN_valid/CXR8-DRAIN_FIBROSIS/roc-auc=6.19e-01, CXR8-DRAIN_valid/CXR8-DRAIN_FIBROSIS/accuracy=9.85e-01] CXR8-DRAIN_PLEURAL_THICKENING:[CXR8-DRAIN_valid/CXR8-DRAIN_PLEURAL_THICKENING/f1=0, CXR8-DRAIN_valid/CXR8-DRAIN_PLEURAL_THICKENING/roc-auc=6.30e-01, CXR8-DRAIN_valid/CXR8-DRAIN_PLEURAL_THICKENING/accuracy=9.67e-01] CXR8-DRAIN_HERNIA:[CXR8-DRAIN_valid/CXR8-DRAIN_HERNIA/f1=0, CXR8-DRAIN_valid/CXR8-DRAIN_HERNIA/roc-auc=5.54e-01, CXR8-DRAIN_valid/CXR8-DRAIN_HERNIA/accuracy=9.96e-01]\n"
     ]
    },
    {
     "name": "stderr",
     "output_type": "stream",
     "text": [
      "metal.mmtl.trainer - INFO - Freezing ['CXR8-DRAIN_ATELECTASIS', 'CXR8-DRAIN_CARDIOMEGALY', 'CXR8-DRAIN_EFFUSION', 'CXR8-DRAIN_INFILTRATION', 'CXR8-DRAIN_MASS', 'CXR8-DRAIN_NODULE', 'CXR8-DRAIN_PNEUMONIA', 'CXR8-DRAIN_PNEUMOTHORAX', 'CXR8-DRAIN_CONSOLIDATION', 'CXR8-DRAIN_EDEMA', 'CXR8-DRAIN_EMPHYSEMA', 'CXR8-DRAIN_FIBROSIS', 'CXR8-DRAIN_PLEURAL_THICKENING', 'CXR8-DRAIN_HERNIA'] heads\n",
      "metal.mmtl.trainer - INFO - Training tasks {'CXR8-DRAIN_PNEUMOTHORAX_slice:chest_drain_cnn_neg:pred': 'CXR8-DRAIN_PNEUMOTHORAX_slice:chest_drain_cnn_neg:pred'}\n",
      "root - INFO - Summary name CXR8-DRAIN_PNEUMOTHORAX_slice:chest_drain_cnn_neg:pred/CXR8-DRAIN_train/CXR8-DRAIN_PNEUMOTHORAX_slice:chest_drain_cnn_neg:pred/loss is illegal; using CXR8-DRAIN_PNEUMOTHORAX_slice_chest_drain_cnn_neg_pred/CXR8-DRAIN_train/CXR8-DRAIN_PNEUMOTHORAX_slice_chest_drain_cnn_neg_pred/loss instead.\n",
      "root - INFO - Summary name CXR8-DRAIN_PNEUMOTHORAX_slice:chest_drain_cnn_neg:pred/CXR8-DRAIN_valid/CXR8-DRAIN_PNEUMOTHORAX_slice:chest_drain_cnn_neg:pred/f1 is illegal; using CXR8-DRAIN_PNEUMOTHORAX_slice_chest_drain_cnn_neg_pred/CXR8-DRAIN_valid/CXR8-DRAIN_PNEUMOTHORAX_slice_chest_drain_cnn_neg_pred/f1 instead.\n",
      "root - INFO - Summary name CXR8-DRAIN_PNEUMOTHORAX_slice:chest_drain_cnn_neg:pred/CXR8-DRAIN_valid/CXR8-DRAIN_PNEUMOTHORAX_slice:chest_drain_cnn_neg:pred/roc-auc is illegal; using CXR8-DRAIN_PNEUMOTHORAX_slice_chest_drain_cnn_neg_pred/CXR8-DRAIN_valid/CXR8-DRAIN_PNEUMOTHORAX_slice_chest_drain_cnn_neg_pred/roc-auc instead.\n",
      "root - INFO - Summary name CXR8-DRAIN_PNEUMOTHORAX_slice:chest_drain_cnn_neg:pred/CXR8-DRAIN_valid/CXR8-DRAIN_PNEUMOTHORAX_slice:chest_drain_cnn_neg:pred/accuracy is illegal; using CXR8-DRAIN_PNEUMOTHORAX_slice_chest_drain_cnn_neg_pred/CXR8-DRAIN_valid/CXR8-DRAIN_PNEUMOTHORAX_slice_chest_drain_cnn_neg_pred/accuracy instead.\n"
     ]
    },
    {
     "name": "stdout",
     "output_type": "stream",
     "text": [
      "[8.0 epo]: CXR8-DRAIN_PNEUMOTHORAX_slice:chest_drain_cnn_neg:pred:[CXR8-DRAIN_train/CXR8-DRAIN_PNEUMOTHORAX_slice:chest_drain_cnn_neg:pred/loss=8.37e-02, CXR8-DRAIN_valid/CXR8-DRAIN_PNEUMOTHORAX_slice:chest_drain_cnn_neg:pred/f1=9.61e-02, CXR8-DRAIN_valid/CXR8-DRAIN_PNEUMOTHORAX_slice:chest_drain_cnn_neg:pred/roc-auc=6.91e-01, CXR8-DRAIN_valid/CXR8-DRAIN_PNEUMOTHORAX_slice:chest_drain_cnn_neg:pred/accuracy=8.74e-01] model:[train/all/loss=8.37e-02, train/all/lr=8.40e-05, valid/all/loss=3.02e-01] CXR8-DRAIN_ATELECTASIS:[CXR8-DRAIN_valid/CXR8-DRAIN_ATELECTASIS/f1=0, CXR8-DRAIN_valid/CXR8-DRAIN_ATELECTASIS/roc-auc=6.38e-01, CXR8-DRAIN_valid/CXR8-DRAIN_ATELECTASIS/accuracy=9.01e-01] CXR8-DRAIN_CARDIOMEGALY:[CXR8-DRAIN_valid/CXR8-DRAIN_CARDIOMEGALY/f1=0, CXR8-DRAIN_valid/CXR8-DRAIN_CARDIOMEGALY/roc-auc=6.12e-01, CXR8-DRAIN_valid/CXR8-DRAIN_CARDIOMEGALY/accuracy=9.78e-01] CXR8-DRAIN_EFFUSION:[CXR8-DRAIN_valid/CXR8-DRAIN_EFFUSION/f1=0, CXR8-DRAIN_valid/CXR8-DRAIN_EFFUSION/roc-auc=7.18e-01, CXR8-DRAIN_valid/CXR8-DRAIN_EFFUSION/accuracy=8.84e-01] CXR8-DRAIN_INFILTRATION:[CXR8-DRAIN_valid/CXR8-DRAIN_INFILTRATION/f1=0, CXR8-DRAIN_valid/CXR8-DRAIN_INFILTRATION/roc-auc=6.04e-01, CXR8-DRAIN_valid/CXR8-DRAIN_INFILTRATION/accuracy=8.21e-01] CXR8-DRAIN_MASS:[CXR8-DRAIN_valid/CXR8-DRAIN_MASS/f1=0, CXR8-DRAIN_valid/CXR8-DRAIN_MASS/roc-auc=6.15e-01, CXR8-DRAIN_valid/CXR8-DRAIN_MASS/accuracy=9.43e-01] CXR8-DRAIN_NODULE:[CXR8-DRAIN_valid/CXR8-DRAIN_NODULE/f1=0, CXR8-DRAIN_valid/CXR8-DRAIN_NODULE/roc-auc=5.87e-01, CXR8-DRAIN_valid/CXR8-DRAIN_NODULE/accuracy=9.44e-01] CXR8-DRAIN_PNEUMONIA:[CXR8-DRAIN_valid/CXR8-DRAIN_PNEUMONIA/f1=0, CXR8-DRAIN_valid/CXR8-DRAIN_PNEUMONIA/roc-auc=5.54e-01, CXR8-DRAIN_valid/CXR8-DRAIN_PNEUMONIA/accuracy=9.88e-01] CXR8-DRAIN_PNEUMOTHORAX:[CXR8-DRAIN_valid/CXR8-DRAIN_PNEUMOTHORAX/f1=3.21e-01, CXR8-DRAIN_valid/CXR8-DRAIN_PNEUMOTHORAX/roc-auc=8.09e-01, CXR8-DRAIN_valid/CXR8-DRAIN_PNEUMOTHORAX/accuracy=8.93e-01] CXR8-DRAIN_CONSOLIDATION:[CXR8-DRAIN_valid/CXR8-DRAIN_CONSOLIDATION/f1=0, CXR8-DRAIN_valid/CXR8-DRAIN_CONSOLIDATION/roc-auc=6.20e-01, CXR8-DRAIN_valid/CXR8-DRAIN_CONSOLIDATION/accuracy=9.61e-01] CXR8-DRAIN_EDEMA:[CXR8-DRAIN_valid/CXR8-DRAIN_EDEMA/f1=0, CXR8-DRAIN_valid/CXR8-DRAIN_EDEMA/roc-auc=6.38e-01, CXR8-DRAIN_valid/CXR8-DRAIN_EDEMA/accuracy=9.82e-01] CXR8-DRAIN_EMPHYSEMA:[CXR8-DRAIN_valid/CXR8-DRAIN_EMPHYSEMA/f1=0, CXR8-DRAIN_valid/CXR8-DRAIN_EMPHYSEMA/roc-auc=7.72e-01, CXR8-DRAIN_valid/CXR8-DRAIN_EMPHYSEMA/accuracy=9.80e-01] CXR8-DRAIN_FIBROSIS:[CXR8-DRAIN_valid/CXR8-DRAIN_FIBROSIS/f1=0, CXR8-DRAIN_valid/CXR8-DRAIN_FIBROSIS/roc-auc=6.42e-01, CXR8-DRAIN_valid/CXR8-DRAIN_FIBROSIS/accuracy=9.85e-01] CXR8-DRAIN_PLEURAL_THICKENING:[CXR8-DRAIN_valid/CXR8-DRAIN_PLEURAL_THICKENING/f1=0, CXR8-DRAIN_valid/CXR8-DRAIN_PLEURAL_THICKENING/roc-auc=6.79e-01, CXR8-DRAIN_valid/CXR8-DRAIN_PLEURAL_THICKENING/accuracy=9.67e-01] CXR8-DRAIN_HERNIA:[CXR8-DRAIN_valid/CXR8-DRAIN_HERNIA/f1=0, CXR8-DRAIN_valid/CXR8-DRAIN_HERNIA/roc-auc=6.90e-01, CXR8-DRAIN_valid/CXR8-DRAIN_HERNIA/accuracy=9.96e-01]\n"
     ]
    },
    {
     "name": "stderr",
     "output_type": "stream",
     "text": [
      "metal.mmtl.trainer - INFO - Freezing ['CXR8-DRAIN_ATELECTASIS', 'CXR8-DRAIN_CARDIOMEGALY', 'CXR8-DRAIN_EFFUSION', 'CXR8-DRAIN_INFILTRATION', 'CXR8-DRAIN_MASS', 'CXR8-DRAIN_NODULE', 'CXR8-DRAIN_PNEUMONIA', 'CXR8-DRAIN_PNEUMOTHORAX', 'CXR8-DRAIN_CONSOLIDATION', 'CXR8-DRAIN_EDEMA', 'CXR8-DRAIN_EMPHYSEMA', 'CXR8-DRAIN_FIBROSIS', 'CXR8-DRAIN_PLEURAL_THICKENING', 'CXR8-DRAIN_HERNIA'] heads\n",
      "metal.mmtl.trainer - INFO - Training tasks {'CXR8-DRAIN_PNEUMOTHORAX_slice:chest_drain_cnn_neg:pred': 'CXR8-DRAIN_PNEUMOTHORAX_slice:chest_drain_cnn_neg:pred'}\n",
      "root - INFO - Summary name CXR8-DRAIN_PNEUMOTHORAX_slice:chest_drain_cnn_neg:pred/CXR8-DRAIN_train/CXR8-DRAIN_PNEUMOTHORAX_slice:chest_drain_cnn_neg:pred/loss is illegal; using CXR8-DRAIN_PNEUMOTHORAX_slice_chest_drain_cnn_neg_pred/CXR8-DRAIN_train/CXR8-DRAIN_PNEUMOTHORAX_slice_chest_drain_cnn_neg_pred/loss instead.\n",
      "root - INFO - Summary name CXR8-DRAIN_PNEUMOTHORAX_slice:chest_drain_cnn_neg:pred/CXR8-DRAIN_valid/CXR8-DRAIN_PNEUMOTHORAX_slice:chest_drain_cnn_neg:pred/f1 is illegal; using CXR8-DRAIN_PNEUMOTHORAX_slice_chest_drain_cnn_neg_pred/CXR8-DRAIN_valid/CXR8-DRAIN_PNEUMOTHORAX_slice_chest_drain_cnn_neg_pred/f1 instead.\n",
      "root - INFO - Summary name CXR8-DRAIN_PNEUMOTHORAX_slice:chest_drain_cnn_neg:pred/CXR8-DRAIN_valid/CXR8-DRAIN_PNEUMOTHORAX_slice:chest_drain_cnn_neg:pred/roc-auc is illegal; using CXR8-DRAIN_PNEUMOTHORAX_slice_chest_drain_cnn_neg_pred/CXR8-DRAIN_valid/CXR8-DRAIN_PNEUMOTHORAX_slice_chest_drain_cnn_neg_pred/roc-auc instead.\n",
      "root - INFO - Summary name CXR8-DRAIN_PNEUMOTHORAX_slice:chest_drain_cnn_neg:pred/CXR8-DRAIN_valid/CXR8-DRAIN_PNEUMOTHORAX_slice:chest_drain_cnn_neg:pred/accuracy is illegal; using CXR8-DRAIN_PNEUMOTHORAX_slice_chest_drain_cnn_neg_pred/CXR8-DRAIN_valid/CXR8-DRAIN_PNEUMOTHORAX_slice_chest_drain_cnn_neg_pred/accuracy instead.\n"
     ]
    },
    {
     "name": "stdout",
     "output_type": "stream",
     "text": [
      "[9.0 epo]: CXR8-DRAIN_PNEUMOTHORAX_slice:chest_drain_cnn_neg:pred:[CXR8-DRAIN_train/CXR8-DRAIN_PNEUMOTHORAX_slice:chest_drain_cnn_neg:pred/loss=7.96e-02, CXR8-DRAIN_valid/CXR8-DRAIN_PNEUMOTHORAX_slice:chest_drain_cnn_neg:pred/f1=9.96e-02, CXR8-DRAIN_valid/CXR8-DRAIN_PNEUMOTHORAX_slice:chest_drain_cnn_neg:pred/roc-auc=6.80e-01, CXR8-DRAIN_valid/CXR8-DRAIN_PNEUMOTHORAX_slice:chest_drain_cnn_neg:pred/accuracy=8.97e-01] model:[train/all/loss=7.96e-02, train/all/lr=8.20e-05, valid/all/loss=2.93e-01] CXR8-DRAIN_ATELECTASIS:[CXR8-DRAIN_valid/CXR8-DRAIN_ATELECTASIS/f1=0, CXR8-DRAIN_valid/CXR8-DRAIN_ATELECTASIS/roc-auc=6.16e-01, CXR8-DRAIN_valid/CXR8-DRAIN_ATELECTASIS/accuracy=9.01e-01] CXR8-DRAIN_CARDIOMEGALY:[CXR8-DRAIN_valid/CXR8-DRAIN_CARDIOMEGALY/f1=0, CXR8-DRAIN_valid/CXR8-DRAIN_CARDIOMEGALY/roc-auc=6.12e-01, CXR8-DRAIN_valid/CXR8-DRAIN_CARDIOMEGALY/accuracy=9.78e-01] CXR8-DRAIN_EFFUSION:[CXR8-DRAIN_valid/CXR8-DRAIN_EFFUSION/f1=0, CXR8-DRAIN_valid/CXR8-DRAIN_EFFUSION/roc-auc=7.15e-01, CXR8-DRAIN_valid/CXR8-DRAIN_EFFUSION/accuracy=8.84e-01] CXR8-DRAIN_INFILTRATION:[CXR8-DRAIN_valid/CXR8-DRAIN_INFILTRATION/f1=0, CXR8-DRAIN_valid/CXR8-DRAIN_INFILTRATION/roc-auc=5.94e-01, CXR8-DRAIN_valid/CXR8-DRAIN_INFILTRATION/accuracy=8.21e-01] CXR8-DRAIN_MASS:[CXR8-DRAIN_valid/CXR8-DRAIN_MASS/f1=0, CXR8-DRAIN_valid/CXR8-DRAIN_MASS/roc-auc=6.81e-01, CXR8-DRAIN_valid/CXR8-DRAIN_MASS/accuracy=9.43e-01] CXR8-DRAIN_NODULE:[CXR8-DRAIN_valid/CXR8-DRAIN_NODULE/f1=0, CXR8-DRAIN_valid/CXR8-DRAIN_NODULE/roc-auc=6.32e-01, CXR8-DRAIN_valid/CXR8-DRAIN_NODULE/accuracy=9.44e-01] CXR8-DRAIN_PNEUMONIA:[CXR8-DRAIN_valid/CXR8-DRAIN_PNEUMONIA/f1=0, CXR8-DRAIN_valid/CXR8-DRAIN_PNEUMONIA/roc-auc=5.16e-01, CXR8-DRAIN_valid/CXR8-DRAIN_PNEUMONIA/accuracy=9.88e-01] CXR8-DRAIN_PNEUMOTHORAX:[CXR8-DRAIN_valid/CXR8-DRAIN_PNEUMOTHORAX/f1=2.80e-01, CXR8-DRAIN_valid/CXR8-DRAIN_PNEUMOTHORAX/roc-auc=7.76e-01, CXR8-DRAIN_valid/CXR8-DRAIN_PNEUMOTHORAX/accuracy=9.03e-01] CXR8-DRAIN_CONSOLIDATION:[CXR8-DRAIN_valid/CXR8-DRAIN_CONSOLIDATION/f1=0, CXR8-DRAIN_valid/CXR8-DRAIN_CONSOLIDATION/roc-auc=6.06e-01, CXR8-DRAIN_valid/CXR8-DRAIN_CONSOLIDATION/accuracy=9.61e-01] CXR8-DRAIN_EDEMA:[CXR8-DRAIN_valid/CXR8-DRAIN_EDEMA/f1=0, CXR8-DRAIN_valid/CXR8-DRAIN_EDEMA/roc-auc=6.32e-01, CXR8-DRAIN_valid/CXR8-DRAIN_EDEMA/accuracy=9.82e-01] CXR8-DRAIN_EMPHYSEMA:[CXR8-DRAIN_valid/CXR8-DRAIN_EMPHYSEMA/f1=0, CXR8-DRAIN_valid/CXR8-DRAIN_EMPHYSEMA/roc-auc=7.93e-01, CXR8-DRAIN_valid/CXR8-DRAIN_EMPHYSEMA/accuracy=9.80e-01] CXR8-DRAIN_FIBROSIS:[CXR8-DRAIN_valid/CXR8-DRAIN_FIBROSIS/f1=0, CXR8-DRAIN_valid/CXR8-DRAIN_FIBROSIS/roc-auc=6.63e-01, CXR8-DRAIN_valid/CXR8-DRAIN_FIBROSIS/accuracy=9.85e-01] CXR8-DRAIN_PLEURAL_THICKENING:[CXR8-DRAIN_valid/CXR8-DRAIN_PLEURAL_THICKENING/f1=0, CXR8-DRAIN_valid/CXR8-DRAIN_PLEURAL_THICKENING/roc-auc=6.74e-01, CXR8-DRAIN_valid/CXR8-DRAIN_PLEURAL_THICKENING/accuracy=9.67e-01] CXR8-DRAIN_HERNIA:[CXR8-DRAIN_valid/CXR8-DRAIN_HERNIA/f1=0, CXR8-DRAIN_valid/CXR8-DRAIN_HERNIA/roc-auc=7.13e-01, CXR8-DRAIN_valid/CXR8-DRAIN_HERNIA/accuracy=9.96e-01]\n"
     ]
    },
    {
     "name": "stderr",
     "output_type": "stream",
     "text": [
      "metal.mmtl.trainer - INFO - Freezing ['CXR8-DRAIN_ATELECTASIS', 'CXR8-DRAIN_CARDIOMEGALY', 'CXR8-DRAIN_EFFUSION', 'CXR8-DRAIN_INFILTRATION', 'CXR8-DRAIN_MASS', 'CXR8-DRAIN_NODULE', 'CXR8-DRAIN_PNEUMONIA', 'CXR8-DRAIN_PNEUMOTHORAX', 'CXR8-DRAIN_CONSOLIDATION', 'CXR8-DRAIN_EDEMA', 'CXR8-DRAIN_EMPHYSEMA', 'CXR8-DRAIN_FIBROSIS', 'CXR8-DRAIN_PLEURAL_THICKENING', 'CXR8-DRAIN_HERNIA'] heads\n",
      "metal.mmtl.trainer - INFO - Training tasks {'CXR8-DRAIN_PNEUMOTHORAX_slice:chest_drain_cnn_neg:pred': 'CXR8-DRAIN_PNEUMOTHORAX_slice:chest_drain_cnn_neg:pred'}\n",
      "root - INFO - Summary name CXR8-DRAIN_PNEUMOTHORAX_slice:chest_drain_cnn_neg:pred/CXR8-DRAIN_train/CXR8-DRAIN_PNEUMOTHORAX_slice:chest_drain_cnn_neg:pred/loss is illegal; using CXR8-DRAIN_PNEUMOTHORAX_slice_chest_drain_cnn_neg_pred/CXR8-DRAIN_train/CXR8-DRAIN_PNEUMOTHORAX_slice_chest_drain_cnn_neg_pred/loss instead.\n",
      "root - INFO - Summary name CXR8-DRAIN_PNEUMOTHORAX_slice:chest_drain_cnn_neg:pred/CXR8-DRAIN_valid/CXR8-DRAIN_PNEUMOTHORAX_slice:chest_drain_cnn_neg:pred/f1 is illegal; using CXR8-DRAIN_PNEUMOTHORAX_slice_chest_drain_cnn_neg_pred/CXR8-DRAIN_valid/CXR8-DRAIN_PNEUMOTHORAX_slice_chest_drain_cnn_neg_pred/f1 instead.\n",
      "root - INFO - Summary name CXR8-DRAIN_PNEUMOTHORAX_slice:chest_drain_cnn_neg:pred/CXR8-DRAIN_valid/CXR8-DRAIN_PNEUMOTHORAX_slice:chest_drain_cnn_neg:pred/roc-auc is illegal; using CXR8-DRAIN_PNEUMOTHORAX_slice_chest_drain_cnn_neg_pred/CXR8-DRAIN_valid/CXR8-DRAIN_PNEUMOTHORAX_slice_chest_drain_cnn_neg_pred/roc-auc instead.\n",
      "root - INFO - Summary name CXR8-DRAIN_PNEUMOTHORAX_slice:chest_drain_cnn_neg:pred/CXR8-DRAIN_valid/CXR8-DRAIN_PNEUMOTHORAX_slice:chest_drain_cnn_neg:pred/accuracy is illegal; using CXR8-DRAIN_PNEUMOTHORAX_slice_chest_drain_cnn_neg_pred/CXR8-DRAIN_valid/CXR8-DRAIN_PNEUMOTHORAX_slice_chest_drain_cnn_neg_pred/accuracy instead.\n"
     ]
    },
    {
     "name": "stdout",
     "output_type": "stream",
     "text": [
      "[10.0 epo]: CXR8-DRAIN_PNEUMOTHORAX_slice:chest_drain_cnn_neg:pred:[CXR8-DRAIN_train/CXR8-DRAIN_PNEUMOTHORAX_slice:chest_drain_cnn_neg:pred/loss=9.15e-02, CXR8-DRAIN_valid/CXR8-DRAIN_PNEUMOTHORAX_slice:chest_drain_cnn_neg:pred/f1=9.42e-02, CXR8-DRAIN_valid/CXR8-DRAIN_PNEUMOTHORAX_slice:chest_drain_cnn_neg:pred/roc-auc=7.05e-01, CXR8-DRAIN_valid/CXR8-DRAIN_PNEUMOTHORAX_slice:chest_drain_cnn_neg:pred/accuracy=8.96e-01] model:[train/all/loss=9.15e-02, train/all/lr=8.00e-05, valid/all/loss=2.96e-01] CXR8-DRAIN_ATELECTASIS:[CXR8-DRAIN_valid/CXR8-DRAIN_ATELECTASIS/f1=0, CXR8-DRAIN_valid/CXR8-DRAIN_ATELECTASIS/roc-auc=6.10e-01, CXR8-DRAIN_valid/CXR8-DRAIN_ATELECTASIS/accuracy=9.01e-01] CXR8-DRAIN_CARDIOMEGALY:[CXR8-DRAIN_valid/CXR8-DRAIN_CARDIOMEGALY/f1=0, CXR8-DRAIN_valid/CXR8-DRAIN_CARDIOMEGALY/roc-auc=4.93e-01, CXR8-DRAIN_valid/CXR8-DRAIN_CARDIOMEGALY/accuracy=9.78e-01] CXR8-DRAIN_EFFUSION:[CXR8-DRAIN_valid/CXR8-DRAIN_EFFUSION/f1=0, CXR8-DRAIN_valid/CXR8-DRAIN_EFFUSION/roc-auc=6.86e-01, CXR8-DRAIN_valid/CXR8-DRAIN_EFFUSION/accuracy=8.84e-01] CXR8-DRAIN_INFILTRATION:[CXR8-DRAIN_valid/CXR8-DRAIN_INFILTRATION/f1=0, CXR8-DRAIN_valid/CXR8-DRAIN_INFILTRATION/roc-auc=5.86e-01, CXR8-DRAIN_valid/CXR8-DRAIN_INFILTRATION/accuracy=8.21e-01] CXR8-DRAIN_MASS:[CXR8-DRAIN_valid/CXR8-DRAIN_MASS/f1=0, CXR8-DRAIN_valid/CXR8-DRAIN_MASS/roc-auc=5.99e-01, CXR8-DRAIN_valid/CXR8-DRAIN_MASS/accuracy=9.43e-01] CXR8-DRAIN_NODULE:[CXR8-DRAIN_valid/CXR8-DRAIN_NODULE/f1=0, CXR8-DRAIN_valid/CXR8-DRAIN_NODULE/roc-auc=5.75e-01, CXR8-DRAIN_valid/CXR8-DRAIN_NODULE/accuracy=9.44e-01] CXR8-DRAIN_PNEUMONIA:[CXR8-DRAIN_valid/CXR8-DRAIN_PNEUMONIA/f1=0, CXR8-DRAIN_valid/CXR8-DRAIN_PNEUMONIA/roc-auc=5.36e-01, CXR8-DRAIN_valid/CXR8-DRAIN_PNEUMONIA/accuracy=9.88e-01] CXR8-DRAIN_PNEUMOTHORAX:[CXR8-DRAIN_valid/CXR8-DRAIN_PNEUMOTHORAX/f1=3.30e-01, CXR8-DRAIN_valid/CXR8-DRAIN_PNEUMOTHORAX/roc-auc=8.12e-01, CXR8-DRAIN_valid/CXR8-DRAIN_PNEUMOTHORAX/accuracy=9.08e-01] CXR8-DRAIN_CONSOLIDATION:[CXR8-DRAIN_valid/CXR8-DRAIN_CONSOLIDATION/f1=0, CXR8-DRAIN_valid/CXR8-DRAIN_CONSOLIDATION/roc-auc=6.49e-01, CXR8-DRAIN_valid/CXR8-DRAIN_CONSOLIDATION/accuracy=9.61e-01] CXR8-DRAIN_EDEMA:[CXR8-DRAIN_valid/CXR8-DRAIN_EDEMA/f1=0, CXR8-DRAIN_valid/CXR8-DRAIN_EDEMA/roc-auc=6.24e-01, CXR8-DRAIN_valid/CXR8-DRAIN_EDEMA/accuracy=9.82e-01] CXR8-DRAIN_EMPHYSEMA:[CXR8-DRAIN_valid/CXR8-DRAIN_EMPHYSEMA/f1=0, CXR8-DRAIN_valid/CXR8-DRAIN_EMPHYSEMA/roc-auc=7.85e-01, CXR8-DRAIN_valid/CXR8-DRAIN_EMPHYSEMA/accuracy=9.80e-01] CXR8-DRAIN_FIBROSIS:[CXR8-DRAIN_valid/CXR8-DRAIN_FIBROSIS/f1=0, CXR8-DRAIN_valid/CXR8-DRAIN_FIBROSIS/roc-auc=6.14e-01, CXR8-DRAIN_valid/CXR8-DRAIN_FIBROSIS/accuracy=9.85e-01] CXR8-DRAIN_PLEURAL_THICKENING:[CXR8-DRAIN_valid/CXR8-DRAIN_PLEURAL_THICKENING/f1=0, CXR8-DRAIN_valid/CXR8-DRAIN_PLEURAL_THICKENING/roc-auc=6.78e-01, CXR8-DRAIN_valid/CXR8-DRAIN_PLEURAL_THICKENING/accuracy=9.67e-01] CXR8-DRAIN_HERNIA:[CXR8-DRAIN_valid/CXR8-DRAIN_HERNIA/f1=0, CXR8-DRAIN_valid/CXR8-DRAIN_HERNIA/roc-auc=6.09e-01, CXR8-DRAIN_valid/CXR8-DRAIN_HERNIA/accuracy=9.96e-01]\n"
     ]
    },
    {
     "name": "stderr",
     "output_type": "stream",
     "text": [
      "metal.mmtl.trainer - INFO - Freezing ['CXR8-DRAIN_ATELECTASIS', 'CXR8-DRAIN_CARDIOMEGALY', 'CXR8-DRAIN_EFFUSION', 'CXR8-DRAIN_INFILTRATION', 'CXR8-DRAIN_MASS', 'CXR8-DRAIN_NODULE', 'CXR8-DRAIN_PNEUMONIA', 'CXR8-DRAIN_PNEUMOTHORAX', 'CXR8-DRAIN_CONSOLIDATION', 'CXR8-DRAIN_EDEMA', 'CXR8-DRAIN_EMPHYSEMA', 'CXR8-DRAIN_FIBROSIS', 'CXR8-DRAIN_PLEURAL_THICKENING', 'CXR8-DRAIN_HERNIA'] heads\n",
      "metal.mmtl.trainer - INFO - Training tasks {'CXR8-DRAIN_PNEUMOTHORAX_slice:chest_drain_cnn_neg:pred': 'CXR8-DRAIN_PNEUMOTHORAX_slice:chest_drain_cnn_neg:pred'}\n",
      "root - INFO - Summary name CXR8-DRAIN_PNEUMOTHORAX_slice:chest_drain_cnn_neg:pred/CXR8-DRAIN_train/CXR8-DRAIN_PNEUMOTHORAX_slice:chest_drain_cnn_neg:pred/loss is illegal; using CXR8-DRAIN_PNEUMOTHORAX_slice_chest_drain_cnn_neg_pred/CXR8-DRAIN_train/CXR8-DRAIN_PNEUMOTHORAX_slice_chest_drain_cnn_neg_pred/loss instead.\n",
      "root - INFO - Summary name CXR8-DRAIN_PNEUMOTHORAX_slice:chest_drain_cnn_neg:pred/CXR8-DRAIN_valid/CXR8-DRAIN_PNEUMOTHORAX_slice:chest_drain_cnn_neg:pred/f1 is illegal; using CXR8-DRAIN_PNEUMOTHORAX_slice_chest_drain_cnn_neg_pred/CXR8-DRAIN_valid/CXR8-DRAIN_PNEUMOTHORAX_slice_chest_drain_cnn_neg_pred/f1 instead.\n",
      "root - INFO - Summary name CXR8-DRAIN_PNEUMOTHORAX_slice:chest_drain_cnn_neg:pred/CXR8-DRAIN_valid/CXR8-DRAIN_PNEUMOTHORAX_slice:chest_drain_cnn_neg:pred/roc-auc is illegal; using CXR8-DRAIN_PNEUMOTHORAX_slice_chest_drain_cnn_neg_pred/CXR8-DRAIN_valid/CXR8-DRAIN_PNEUMOTHORAX_slice_chest_drain_cnn_neg_pred/roc-auc instead.\n",
      "root - INFO - Summary name CXR8-DRAIN_PNEUMOTHORAX_slice:chest_drain_cnn_neg:pred/CXR8-DRAIN_valid/CXR8-DRAIN_PNEUMOTHORAX_slice:chest_drain_cnn_neg:pred/accuracy is illegal; using CXR8-DRAIN_PNEUMOTHORAX_slice_chest_drain_cnn_neg_pred/CXR8-DRAIN_valid/CXR8-DRAIN_PNEUMOTHORAX_slice_chest_drain_cnn_neg_pred/accuracy instead.\n"
     ]
    },
    {
     "name": "stdout",
     "output_type": "stream",
     "text": [
      "[11.0 epo]: CXR8-DRAIN_PNEUMOTHORAX_slice:chest_drain_cnn_neg:pred:[CXR8-DRAIN_train/CXR8-DRAIN_PNEUMOTHORAX_slice:chest_drain_cnn_neg:pred/loss=8.52e-02, CXR8-DRAIN_valid/CXR8-DRAIN_PNEUMOTHORAX_slice:chest_drain_cnn_neg:pred/f1=9.70e-02, CXR8-DRAIN_valid/CXR8-DRAIN_PNEUMOTHORAX_slice:chest_drain_cnn_neg:pred/roc-auc=6.94e-01, CXR8-DRAIN_valid/CXR8-DRAIN_PNEUMOTHORAX_slice:chest_drain_cnn_neg:pred/accuracy=9.05e-01] model:[train/all/loss=8.52e-02, train/all/lr=7.80e-05, valid/all/loss=2.74e-01] CXR8-DRAIN_ATELECTASIS:[CXR8-DRAIN_valid/CXR8-DRAIN_ATELECTASIS/f1=0, CXR8-DRAIN_valid/CXR8-DRAIN_ATELECTASIS/roc-auc=5.53e-01, CXR8-DRAIN_valid/CXR8-DRAIN_ATELECTASIS/accuracy=9.01e-01] CXR8-DRAIN_CARDIOMEGALY:[CXR8-DRAIN_valid/CXR8-DRAIN_CARDIOMEGALY/f1=0, CXR8-DRAIN_valid/CXR8-DRAIN_CARDIOMEGALY/roc-auc=6.00e-01, CXR8-DRAIN_valid/CXR8-DRAIN_CARDIOMEGALY/accuracy=9.78e-01] CXR8-DRAIN_EFFUSION:[CXR8-DRAIN_valid/CXR8-DRAIN_EFFUSION/f1=0, CXR8-DRAIN_valid/CXR8-DRAIN_EFFUSION/roc-auc=6.81e-01, CXR8-DRAIN_valid/CXR8-DRAIN_EFFUSION/accuracy=8.84e-01] CXR8-DRAIN_INFILTRATION:[CXR8-DRAIN_valid/CXR8-DRAIN_INFILTRATION/f1=0, CXR8-DRAIN_valid/CXR8-DRAIN_INFILTRATION/roc-auc=5.84e-01, CXR8-DRAIN_valid/CXR8-DRAIN_INFILTRATION/accuracy=8.21e-01] CXR8-DRAIN_MASS:[CXR8-DRAIN_valid/CXR8-DRAIN_MASS/f1=0, CXR8-DRAIN_valid/CXR8-DRAIN_MASS/roc-auc=6.80e-01, CXR8-DRAIN_valid/CXR8-DRAIN_MASS/accuracy=9.43e-01] CXR8-DRAIN_NODULE:[CXR8-DRAIN_valid/CXR8-DRAIN_NODULE/f1=0, CXR8-DRAIN_valid/CXR8-DRAIN_NODULE/roc-auc=6.21e-01, CXR8-DRAIN_valid/CXR8-DRAIN_NODULE/accuracy=9.44e-01] CXR8-DRAIN_PNEUMONIA:[CXR8-DRAIN_valid/CXR8-DRAIN_PNEUMONIA/f1=0, CXR8-DRAIN_valid/CXR8-DRAIN_PNEUMONIA/roc-auc=5.46e-01, CXR8-DRAIN_valid/CXR8-DRAIN_PNEUMONIA/accuracy=9.88e-01] CXR8-DRAIN_PNEUMOTHORAX:[CXR8-DRAIN_valid/CXR8-DRAIN_PNEUMOTHORAX/f1=3.26e-01, CXR8-DRAIN_valid/CXR8-DRAIN_PNEUMOTHORAX/roc-auc=8.02e-01, CXR8-DRAIN_valid/CXR8-DRAIN_PNEUMOTHORAX/accuracy=9.16e-01] CXR8-DRAIN_CONSOLIDATION:[CXR8-DRAIN_valid/CXR8-DRAIN_CONSOLIDATION/f1=0, CXR8-DRAIN_valid/CXR8-DRAIN_CONSOLIDATION/roc-auc=6.32e-01, CXR8-DRAIN_valid/CXR8-DRAIN_CONSOLIDATION/accuracy=9.61e-01] CXR8-DRAIN_EDEMA:[CXR8-DRAIN_valid/CXR8-DRAIN_EDEMA/f1=0, CXR8-DRAIN_valid/CXR8-DRAIN_EDEMA/roc-auc=6.31e-01, CXR8-DRAIN_valid/CXR8-DRAIN_EDEMA/accuracy=9.82e-01] CXR8-DRAIN_EMPHYSEMA:[CXR8-DRAIN_valid/CXR8-DRAIN_EMPHYSEMA/f1=0, CXR8-DRAIN_valid/CXR8-DRAIN_EMPHYSEMA/roc-auc=7.56e-01, CXR8-DRAIN_valid/CXR8-DRAIN_EMPHYSEMA/accuracy=9.80e-01] CXR8-DRAIN_FIBROSIS:[CXR8-DRAIN_valid/CXR8-DRAIN_FIBROSIS/f1=0, CXR8-DRAIN_valid/CXR8-DRAIN_FIBROSIS/roc-auc=6.57e-01, CXR8-DRAIN_valid/CXR8-DRAIN_FIBROSIS/accuracy=9.85e-01] CXR8-DRAIN_PLEURAL_THICKENING:[CXR8-DRAIN_valid/CXR8-DRAIN_PLEURAL_THICKENING/f1=0, CXR8-DRAIN_valid/CXR8-DRAIN_PLEURAL_THICKENING/roc-auc=6.61e-01, CXR8-DRAIN_valid/CXR8-DRAIN_PLEURAL_THICKENING/accuracy=9.67e-01] CXR8-DRAIN_HERNIA:[CXR8-DRAIN_valid/CXR8-DRAIN_HERNIA/f1=0, CXR8-DRAIN_valid/CXR8-DRAIN_HERNIA/roc-auc=7.05e-01, CXR8-DRAIN_valid/CXR8-DRAIN_HERNIA/accuracy=9.96e-01]\n"
     ]
    },
    {
     "name": "stderr",
     "output_type": "stream",
     "text": [
      "metal.mmtl.trainer - INFO - Freezing ['CXR8-DRAIN_ATELECTASIS', 'CXR8-DRAIN_CARDIOMEGALY', 'CXR8-DRAIN_EFFUSION', 'CXR8-DRAIN_INFILTRATION', 'CXR8-DRAIN_MASS', 'CXR8-DRAIN_NODULE', 'CXR8-DRAIN_PNEUMONIA', 'CXR8-DRAIN_PNEUMOTHORAX', 'CXR8-DRAIN_CONSOLIDATION', 'CXR8-DRAIN_EDEMA', 'CXR8-DRAIN_EMPHYSEMA', 'CXR8-DRAIN_FIBROSIS', 'CXR8-DRAIN_PLEURAL_THICKENING', 'CXR8-DRAIN_HERNIA'] heads\n",
      "metal.mmtl.trainer - INFO - Training tasks {'CXR8-DRAIN_PNEUMOTHORAX_slice:chest_drain_cnn_neg:pred': 'CXR8-DRAIN_PNEUMOTHORAX_slice:chest_drain_cnn_neg:pred'}\n",
      "root - INFO - Summary name CXR8-DRAIN_PNEUMOTHORAX_slice:chest_drain_cnn_neg:pred/CXR8-DRAIN_train/CXR8-DRAIN_PNEUMOTHORAX_slice:chest_drain_cnn_neg:pred/loss is illegal; using CXR8-DRAIN_PNEUMOTHORAX_slice_chest_drain_cnn_neg_pred/CXR8-DRAIN_train/CXR8-DRAIN_PNEUMOTHORAX_slice_chest_drain_cnn_neg_pred/loss instead.\n",
      "root - INFO - Summary name CXR8-DRAIN_PNEUMOTHORAX_slice:chest_drain_cnn_neg:pred/CXR8-DRAIN_valid/CXR8-DRAIN_PNEUMOTHORAX_slice:chest_drain_cnn_neg:pred/f1 is illegal; using CXR8-DRAIN_PNEUMOTHORAX_slice_chest_drain_cnn_neg_pred/CXR8-DRAIN_valid/CXR8-DRAIN_PNEUMOTHORAX_slice_chest_drain_cnn_neg_pred/f1 instead.\n",
      "root - INFO - Summary name CXR8-DRAIN_PNEUMOTHORAX_slice:chest_drain_cnn_neg:pred/CXR8-DRAIN_valid/CXR8-DRAIN_PNEUMOTHORAX_slice:chest_drain_cnn_neg:pred/roc-auc is illegal; using CXR8-DRAIN_PNEUMOTHORAX_slice_chest_drain_cnn_neg_pred/CXR8-DRAIN_valid/CXR8-DRAIN_PNEUMOTHORAX_slice_chest_drain_cnn_neg_pred/roc-auc instead.\n",
      "root - INFO - Summary name CXR8-DRAIN_PNEUMOTHORAX_slice:chest_drain_cnn_neg:pred/CXR8-DRAIN_valid/CXR8-DRAIN_PNEUMOTHORAX_slice:chest_drain_cnn_neg:pred/accuracy is illegal; using CXR8-DRAIN_PNEUMOTHORAX_slice_chest_drain_cnn_neg_pred/CXR8-DRAIN_valid/CXR8-DRAIN_PNEUMOTHORAX_slice_chest_drain_cnn_neg_pred/accuracy instead.\n"
     ]
    },
    {
     "name": "stdout",
     "output_type": "stream",
     "text": [
      "[12.0 epo]: CXR8-DRAIN_PNEUMOTHORAX_slice:chest_drain_cnn_neg:pred:[CXR8-DRAIN_train/CXR8-DRAIN_PNEUMOTHORAX_slice:chest_drain_cnn_neg:pred/loss=9.54e-02, CXR8-DRAIN_valid/CXR8-DRAIN_PNEUMOTHORAX_slice:chest_drain_cnn_neg:pred/f1=8.17e-02, CXR8-DRAIN_valid/CXR8-DRAIN_PNEUMOTHORAX_slice:chest_drain_cnn_neg:pred/roc-auc=6.98e-01, CXR8-DRAIN_valid/CXR8-DRAIN_PNEUMOTHORAX_slice:chest_drain_cnn_neg:pred/accuracy=8.48e-01] model:[train/all/loss=9.54e-02, train/all/lr=7.60e-05, valid/all/loss=3.19e-01] CXR8-DRAIN_ATELECTASIS:[CXR8-DRAIN_valid/CXR8-DRAIN_ATELECTASIS/f1=0, CXR8-DRAIN_valid/CXR8-DRAIN_ATELECTASIS/roc-auc=6.33e-01, CXR8-DRAIN_valid/CXR8-DRAIN_ATELECTASIS/accuracy=9.01e-01] CXR8-DRAIN_CARDIOMEGALY:[CXR8-DRAIN_valid/CXR8-DRAIN_CARDIOMEGALY/f1=0, CXR8-DRAIN_valid/CXR8-DRAIN_CARDIOMEGALY/roc-auc=5.67e-01, CXR8-DRAIN_valid/CXR8-DRAIN_CARDIOMEGALY/accuracy=9.78e-01] CXR8-DRAIN_EFFUSION:[CXR8-DRAIN_valid/CXR8-DRAIN_EFFUSION/f1=0, CXR8-DRAIN_valid/CXR8-DRAIN_EFFUSION/roc-auc=7.13e-01, CXR8-DRAIN_valid/CXR8-DRAIN_EFFUSION/accuracy=8.84e-01] CXR8-DRAIN_INFILTRATION:[CXR8-DRAIN_valid/CXR8-DRAIN_INFILTRATION/f1=0, CXR8-DRAIN_valid/CXR8-DRAIN_INFILTRATION/roc-auc=6.07e-01, CXR8-DRAIN_valid/CXR8-DRAIN_INFILTRATION/accuracy=8.21e-01] CXR8-DRAIN_MASS:[CXR8-DRAIN_valid/CXR8-DRAIN_MASS/f1=0, CXR8-DRAIN_valid/CXR8-DRAIN_MASS/roc-auc=6.60e-01, CXR8-DRAIN_valid/CXR8-DRAIN_MASS/accuracy=9.43e-01] CXR8-DRAIN_NODULE:[CXR8-DRAIN_valid/CXR8-DRAIN_NODULE/f1=0, CXR8-DRAIN_valid/CXR8-DRAIN_NODULE/roc-auc=6.34e-01, CXR8-DRAIN_valid/CXR8-DRAIN_NODULE/accuracy=9.44e-01] CXR8-DRAIN_PNEUMONIA:[CXR8-DRAIN_valid/CXR8-DRAIN_PNEUMONIA/f1=0, CXR8-DRAIN_valid/CXR8-DRAIN_PNEUMONIA/roc-auc=5.72e-01, CXR8-DRAIN_valid/CXR8-DRAIN_PNEUMONIA/accuracy=9.88e-01] CXR8-DRAIN_PNEUMOTHORAX:[CXR8-DRAIN_valid/CXR8-DRAIN_PNEUMOTHORAX/f1=2.78e-01, CXR8-DRAIN_valid/CXR8-DRAIN_PNEUMOTHORAX/roc-auc=7.99e-01, CXR8-DRAIN_valid/CXR8-DRAIN_PNEUMOTHORAX/accuracy=8.72e-01] CXR8-DRAIN_CONSOLIDATION:[CXR8-DRAIN_valid/CXR8-DRAIN_CONSOLIDATION/f1=0, CXR8-DRAIN_valid/CXR8-DRAIN_CONSOLIDATION/roc-auc=6.28e-01, CXR8-DRAIN_valid/CXR8-DRAIN_CONSOLIDATION/accuracy=9.61e-01] CXR8-DRAIN_EDEMA:[CXR8-DRAIN_valid/CXR8-DRAIN_EDEMA/f1=0, CXR8-DRAIN_valid/CXR8-DRAIN_EDEMA/roc-auc=7.01e-01, CXR8-DRAIN_valid/CXR8-DRAIN_EDEMA/accuracy=9.82e-01] CXR8-DRAIN_EMPHYSEMA:[CXR8-DRAIN_valid/CXR8-DRAIN_EMPHYSEMA/f1=0, CXR8-DRAIN_valid/CXR8-DRAIN_EMPHYSEMA/roc-auc=7.49e-01, CXR8-DRAIN_valid/CXR8-DRAIN_EMPHYSEMA/accuracy=9.80e-01] CXR8-DRAIN_FIBROSIS:[CXR8-DRAIN_valid/CXR8-DRAIN_FIBROSIS/f1=0, CXR8-DRAIN_valid/CXR8-DRAIN_FIBROSIS/roc-auc=6.25e-01, CXR8-DRAIN_valid/CXR8-DRAIN_FIBROSIS/accuracy=9.85e-01] CXR8-DRAIN_PLEURAL_THICKENING:[CXR8-DRAIN_valid/CXR8-DRAIN_PLEURAL_THICKENING/f1=0, CXR8-DRAIN_valid/CXR8-DRAIN_PLEURAL_THICKENING/roc-auc=6.46e-01, CXR8-DRAIN_valid/CXR8-DRAIN_PLEURAL_THICKENING/accuracy=9.67e-01] CXR8-DRAIN_HERNIA:[CXR8-DRAIN_valid/CXR8-DRAIN_HERNIA/f1=0, CXR8-DRAIN_valid/CXR8-DRAIN_HERNIA/roc-auc=6.20e-01, CXR8-DRAIN_valid/CXR8-DRAIN_HERNIA/accuracy=9.96e-01]\n"
     ]
    },
    {
     "name": "stderr",
     "output_type": "stream",
     "text": [
      "metal.mmtl.trainer - INFO - Freezing ['CXR8-DRAIN_ATELECTASIS', 'CXR8-DRAIN_CARDIOMEGALY', 'CXR8-DRAIN_EFFUSION', 'CXR8-DRAIN_INFILTRATION', 'CXR8-DRAIN_MASS', 'CXR8-DRAIN_NODULE', 'CXR8-DRAIN_PNEUMONIA', 'CXR8-DRAIN_PNEUMOTHORAX', 'CXR8-DRAIN_CONSOLIDATION', 'CXR8-DRAIN_EDEMA', 'CXR8-DRAIN_EMPHYSEMA', 'CXR8-DRAIN_FIBROSIS', 'CXR8-DRAIN_PLEURAL_THICKENING', 'CXR8-DRAIN_HERNIA'] heads\n",
      "metal.mmtl.trainer - INFO - Training tasks {'CXR8-DRAIN_PNEUMOTHORAX_slice:chest_drain_cnn_neg:pred': 'CXR8-DRAIN_PNEUMOTHORAX_slice:chest_drain_cnn_neg:pred'}\n",
      "root - INFO - Summary name CXR8-DRAIN_PNEUMOTHORAX_slice:chest_drain_cnn_neg:pred/CXR8-DRAIN_train/CXR8-DRAIN_PNEUMOTHORAX_slice:chest_drain_cnn_neg:pred/loss is illegal; using CXR8-DRAIN_PNEUMOTHORAX_slice_chest_drain_cnn_neg_pred/CXR8-DRAIN_train/CXR8-DRAIN_PNEUMOTHORAX_slice_chest_drain_cnn_neg_pred/loss instead.\n",
      "root - INFO - Summary name CXR8-DRAIN_PNEUMOTHORAX_slice:chest_drain_cnn_neg:pred/CXR8-DRAIN_valid/CXR8-DRAIN_PNEUMOTHORAX_slice:chest_drain_cnn_neg:pred/f1 is illegal; using CXR8-DRAIN_PNEUMOTHORAX_slice_chest_drain_cnn_neg_pred/CXR8-DRAIN_valid/CXR8-DRAIN_PNEUMOTHORAX_slice_chest_drain_cnn_neg_pred/f1 instead.\n",
      "root - INFO - Summary name CXR8-DRAIN_PNEUMOTHORAX_slice:chest_drain_cnn_neg:pred/CXR8-DRAIN_valid/CXR8-DRAIN_PNEUMOTHORAX_slice:chest_drain_cnn_neg:pred/roc-auc is illegal; using CXR8-DRAIN_PNEUMOTHORAX_slice_chest_drain_cnn_neg_pred/CXR8-DRAIN_valid/CXR8-DRAIN_PNEUMOTHORAX_slice_chest_drain_cnn_neg_pred/roc-auc instead.\n",
      "root - INFO - Summary name CXR8-DRAIN_PNEUMOTHORAX_slice:chest_drain_cnn_neg:pred/CXR8-DRAIN_valid/CXR8-DRAIN_PNEUMOTHORAX_slice:chest_drain_cnn_neg:pred/accuracy is illegal; using CXR8-DRAIN_PNEUMOTHORAX_slice_chest_drain_cnn_neg_pred/CXR8-DRAIN_valid/CXR8-DRAIN_PNEUMOTHORAX_slice_chest_drain_cnn_neg_pred/accuracy instead.\n"
     ]
    },
    {
     "name": "stdout",
     "output_type": "stream",
     "text": [
      "[13.0 epo]: CXR8-DRAIN_PNEUMOTHORAX_slice:chest_drain_cnn_neg:pred:[CXR8-DRAIN_train/CXR8-DRAIN_PNEUMOTHORAX_slice:chest_drain_cnn_neg:pred/loss=7.12e-02, CXR8-DRAIN_valid/CXR8-DRAIN_PNEUMOTHORAX_slice:chest_drain_cnn_neg:pred/f1=9.99e-02, CXR8-DRAIN_valid/CXR8-DRAIN_PNEUMOTHORAX_slice:chest_drain_cnn_neg:pred/roc-auc=7.02e-01, CXR8-DRAIN_valid/CXR8-DRAIN_PNEUMOTHORAX_slice:chest_drain_cnn_neg:pred/accuracy=8.86e-01] model:[train/all/loss=7.12e-02, train/all/lr=7.40e-05, valid/all/loss=2.85e-01] CXR8-DRAIN_ATELECTASIS:[CXR8-DRAIN_valid/CXR8-DRAIN_ATELECTASIS/f1=0, CXR8-DRAIN_valid/CXR8-DRAIN_ATELECTASIS/roc-auc=6.41e-01, CXR8-DRAIN_valid/CXR8-DRAIN_ATELECTASIS/accuracy=9.01e-01] CXR8-DRAIN_CARDIOMEGALY:[CXR8-DRAIN_valid/CXR8-DRAIN_CARDIOMEGALY/f1=0, CXR8-DRAIN_valid/CXR8-DRAIN_CARDIOMEGALY/roc-auc=6.32e-01, CXR8-DRAIN_valid/CXR8-DRAIN_CARDIOMEGALY/accuracy=9.78e-01] CXR8-DRAIN_EFFUSION:[CXR8-DRAIN_valid/CXR8-DRAIN_EFFUSION/f1=0, CXR8-DRAIN_valid/CXR8-DRAIN_EFFUSION/roc-auc=6.93e-01, CXR8-DRAIN_valid/CXR8-DRAIN_EFFUSION/accuracy=8.84e-01] CXR8-DRAIN_INFILTRATION:[CXR8-DRAIN_valid/CXR8-DRAIN_INFILTRATION/f1=0, CXR8-DRAIN_valid/CXR8-DRAIN_INFILTRATION/roc-auc=5.95e-01, CXR8-DRAIN_valid/CXR8-DRAIN_INFILTRATION/accuracy=8.21e-01] CXR8-DRAIN_MASS:[CXR8-DRAIN_valid/CXR8-DRAIN_MASS/f1=0, CXR8-DRAIN_valid/CXR8-DRAIN_MASS/roc-auc=6.60e-01, CXR8-DRAIN_valid/CXR8-DRAIN_MASS/accuracy=9.43e-01] CXR8-DRAIN_NODULE:[CXR8-DRAIN_valid/CXR8-DRAIN_NODULE/f1=0, CXR8-DRAIN_valid/CXR8-DRAIN_NODULE/roc-auc=6.04e-01, CXR8-DRAIN_valid/CXR8-DRAIN_NODULE/accuracy=9.44e-01] CXR8-DRAIN_PNEUMONIA:[CXR8-DRAIN_valid/CXR8-DRAIN_PNEUMONIA/f1=0, CXR8-DRAIN_valid/CXR8-DRAIN_PNEUMONIA/roc-auc=5.31e-01, CXR8-DRAIN_valid/CXR8-DRAIN_PNEUMONIA/accuracy=9.88e-01] CXR8-DRAIN_PNEUMOTHORAX:[CXR8-DRAIN_valid/CXR8-DRAIN_PNEUMOTHORAX/f1=3.33e-01, CXR8-DRAIN_valid/CXR8-DRAIN_PNEUMOTHORAX/roc-auc=8.17e-01, CXR8-DRAIN_valid/CXR8-DRAIN_PNEUMOTHORAX/accuracy=9.02e-01] CXR8-DRAIN_CONSOLIDATION:[CXR8-DRAIN_valid/CXR8-DRAIN_CONSOLIDATION/f1=0, CXR8-DRAIN_valid/CXR8-DRAIN_CONSOLIDATION/roc-auc=6.00e-01, CXR8-DRAIN_valid/CXR8-DRAIN_CONSOLIDATION/accuracy=9.61e-01] CXR8-DRAIN_EDEMA:[CXR8-DRAIN_valid/CXR8-DRAIN_EDEMA/f1=0, CXR8-DRAIN_valid/CXR8-DRAIN_EDEMA/roc-auc=6.46e-01, CXR8-DRAIN_valid/CXR8-DRAIN_EDEMA/accuracy=9.82e-01] CXR8-DRAIN_EMPHYSEMA:[CXR8-DRAIN_valid/CXR8-DRAIN_EMPHYSEMA/f1=0, CXR8-DRAIN_valid/CXR8-DRAIN_EMPHYSEMA/roc-auc=7.62e-01, CXR8-DRAIN_valid/CXR8-DRAIN_EMPHYSEMA/accuracy=9.80e-01] CXR8-DRAIN_FIBROSIS:[CXR8-DRAIN_valid/CXR8-DRAIN_FIBROSIS/f1=0, CXR8-DRAIN_valid/CXR8-DRAIN_FIBROSIS/roc-auc=6.27e-01, CXR8-DRAIN_valid/CXR8-DRAIN_FIBROSIS/accuracy=9.85e-01] CXR8-DRAIN_PLEURAL_THICKENING:[CXR8-DRAIN_valid/CXR8-DRAIN_PLEURAL_THICKENING/f1=0, CXR8-DRAIN_valid/CXR8-DRAIN_PLEURAL_THICKENING/roc-auc=6.55e-01, CXR8-DRAIN_valid/CXR8-DRAIN_PLEURAL_THICKENING/accuracy=9.67e-01] CXR8-DRAIN_HERNIA:[CXR8-DRAIN_valid/CXR8-DRAIN_HERNIA/f1=0, CXR8-DRAIN_valid/CXR8-DRAIN_HERNIA/roc-auc=7.24e-01, CXR8-DRAIN_valid/CXR8-DRAIN_HERNIA/accuracy=9.96e-01]\n"
     ]
    },
    {
     "name": "stderr",
     "output_type": "stream",
     "text": [
      "metal.mmtl.trainer - INFO - Freezing ['CXR8-DRAIN_ATELECTASIS', 'CXR8-DRAIN_CARDIOMEGALY', 'CXR8-DRAIN_EFFUSION', 'CXR8-DRAIN_INFILTRATION', 'CXR8-DRAIN_MASS', 'CXR8-DRAIN_NODULE', 'CXR8-DRAIN_PNEUMONIA', 'CXR8-DRAIN_PNEUMOTHORAX', 'CXR8-DRAIN_CONSOLIDATION', 'CXR8-DRAIN_EDEMA', 'CXR8-DRAIN_EMPHYSEMA', 'CXR8-DRAIN_FIBROSIS', 'CXR8-DRAIN_PLEURAL_THICKENING', 'CXR8-DRAIN_HERNIA'] heads\n",
      "metal.mmtl.trainer - INFO - Training tasks {'CXR8-DRAIN_PNEUMOTHORAX_slice:chest_drain_cnn_neg:pred': 'CXR8-DRAIN_PNEUMOTHORAX_slice:chest_drain_cnn_neg:pred'}\n",
      "root - INFO - Summary name CXR8-DRAIN_PNEUMOTHORAX_slice:chest_drain_cnn_neg:pred/CXR8-DRAIN_train/CXR8-DRAIN_PNEUMOTHORAX_slice:chest_drain_cnn_neg:pred/loss is illegal; using CXR8-DRAIN_PNEUMOTHORAX_slice_chest_drain_cnn_neg_pred/CXR8-DRAIN_train/CXR8-DRAIN_PNEUMOTHORAX_slice_chest_drain_cnn_neg_pred/loss instead.\n",
      "root - INFO - Summary name CXR8-DRAIN_PNEUMOTHORAX_slice:chest_drain_cnn_neg:pred/CXR8-DRAIN_valid/CXR8-DRAIN_PNEUMOTHORAX_slice:chest_drain_cnn_neg:pred/f1 is illegal; using CXR8-DRAIN_PNEUMOTHORAX_slice_chest_drain_cnn_neg_pred/CXR8-DRAIN_valid/CXR8-DRAIN_PNEUMOTHORAX_slice_chest_drain_cnn_neg_pred/f1 instead.\n",
      "root - INFO - Summary name CXR8-DRAIN_PNEUMOTHORAX_slice:chest_drain_cnn_neg:pred/CXR8-DRAIN_valid/CXR8-DRAIN_PNEUMOTHORAX_slice:chest_drain_cnn_neg:pred/roc-auc is illegal; using CXR8-DRAIN_PNEUMOTHORAX_slice_chest_drain_cnn_neg_pred/CXR8-DRAIN_valid/CXR8-DRAIN_PNEUMOTHORAX_slice_chest_drain_cnn_neg_pred/roc-auc instead.\n",
      "root - INFO - Summary name CXR8-DRAIN_PNEUMOTHORAX_slice:chest_drain_cnn_neg:pred/CXR8-DRAIN_valid/CXR8-DRAIN_PNEUMOTHORAX_slice:chest_drain_cnn_neg:pred/accuracy is illegal; using CXR8-DRAIN_PNEUMOTHORAX_slice_chest_drain_cnn_neg_pred/CXR8-DRAIN_valid/CXR8-DRAIN_PNEUMOTHORAX_slice_chest_drain_cnn_neg_pred/accuracy instead.\n"
     ]
    },
    {
     "name": "stdout",
     "output_type": "stream",
     "text": [
      "[14.0 epo]: CXR8-DRAIN_PNEUMOTHORAX_slice:chest_drain_cnn_neg:pred:[CXR8-DRAIN_train/CXR8-DRAIN_PNEUMOTHORAX_slice:chest_drain_cnn_neg:pred/loss=6.94e-02, CXR8-DRAIN_valid/CXR8-DRAIN_PNEUMOTHORAX_slice:chest_drain_cnn_neg:pred/f1=9.68e-02, CXR8-DRAIN_valid/CXR8-DRAIN_PNEUMOTHORAX_slice:chest_drain_cnn_neg:pred/roc-auc=6.93e-01, CXR8-DRAIN_valid/CXR8-DRAIN_PNEUMOTHORAX_slice:chest_drain_cnn_neg:pred/accuracy=9.06e-01] model:[train/all/loss=6.94e-02, train/all/lr=7.20e-05, valid/all/loss=2.85e-01] CXR8-DRAIN_ATELECTASIS:[CXR8-DRAIN_valid/CXR8-DRAIN_ATELECTASIS/f1=0, CXR8-DRAIN_valid/CXR8-DRAIN_ATELECTASIS/roc-auc=5.89e-01, CXR8-DRAIN_valid/CXR8-DRAIN_ATELECTASIS/accuracy=9.01e-01] CXR8-DRAIN_CARDIOMEGALY:[CXR8-DRAIN_valid/CXR8-DRAIN_CARDIOMEGALY/f1=0, CXR8-DRAIN_valid/CXR8-DRAIN_CARDIOMEGALY/roc-auc=6.72e-01, CXR8-DRAIN_valid/CXR8-DRAIN_CARDIOMEGALY/accuracy=9.78e-01] CXR8-DRAIN_EFFUSION:[CXR8-DRAIN_valid/CXR8-DRAIN_EFFUSION/f1=0, CXR8-DRAIN_valid/CXR8-DRAIN_EFFUSION/roc-auc=6.99e-01, CXR8-DRAIN_valid/CXR8-DRAIN_EFFUSION/accuracy=8.84e-01] CXR8-DRAIN_INFILTRATION:[CXR8-DRAIN_valid/CXR8-DRAIN_INFILTRATION/f1=0, CXR8-DRAIN_valid/CXR8-DRAIN_INFILTRATION/roc-auc=6.02e-01, CXR8-DRAIN_valid/CXR8-DRAIN_INFILTRATION/accuracy=8.21e-01] CXR8-DRAIN_MASS:[CXR8-DRAIN_valid/CXR8-DRAIN_MASS/f1=0, CXR8-DRAIN_valid/CXR8-DRAIN_MASS/roc-auc=6.80e-01, CXR8-DRAIN_valid/CXR8-DRAIN_MASS/accuracy=9.43e-01] CXR8-DRAIN_NODULE:[CXR8-DRAIN_valid/CXR8-DRAIN_NODULE/f1=0, CXR8-DRAIN_valid/CXR8-DRAIN_NODULE/roc-auc=6.23e-01, CXR8-DRAIN_valid/CXR8-DRAIN_NODULE/accuracy=9.44e-01] CXR8-DRAIN_PNEUMONIA:[CXR8-DRAIN_valid/CXR8-DRAIN_PNEUMONIA/f1=0, CXR8-DRAIN_valid/CXR8-DRAIN_PNEUMONIA/roc-auc=5.70e-01, CXR8-DRAIN_valid/CXR8-DRAIN_PNEUMONIA/accuracy=9.88e-01] CXR8-DRAIN_PNEUMOTHORAX:[CXR8-DRAIN_valid/CXR8-DRAIN_PNEUMOTHORAX/f1=3.32e-01, CXR8-DRAIN_valid/CXR8-DRAIN_PNEUMOTHORAX/roc-auc=7.89e-01, CXR8-DRAIN_valid/CXR8-DRAIN_PNEUMOTHORAX/accuracy=9.14e-01] CXR8-DRAIN_CONSOLIDATION:[CXR8-DRAIN_valid/CXR8-DRAIN_CONSOLIDATION/f1=0, CXR8-DRAIN_valid/CXR8-DRAIN_CONSOLIDATION/roc-auc=6.47e-01, CXR8-DRAIN_valid/CXR8-DRAIN_CONSOLIDATION/accuracy=9.61e-01] CXR8-DRAIN_EDEMA:[CXR8-DRAIN_valid/CXR8-DRAIN_EDEMA/f1=0, CXR8-DRAIN_valid/CXR8-DRAIN_EDEMA/roc-auc=6.94e-01, CXR8-DRAIN_valid/CXR8-DRAIN_EDEMA/accuracy=9.82e-01] CXR8-DRAIN_EMPHYSEMA:[CXR8-DRAIN_valid/CXR8-DRAIN_EMPHYSEMA/f1=0, CXR8-DRAIN_valid/CXR8-DRAIN_EMPHYSEMA/roc-auc=7.67e-01, CXR8-DRAIN_valid/CXR8-DRAIN_EMPHYSEMA/accuracy=9.80e-01] CXR8-DRAIN_FIBROSIS:[CXR8-DRAIN_valid/CXR8-DRAIN_FIBROSIS/f1=0, CXR8-DRAIN_valid/CXR8-DRAIN_FIBROSIS/roc-auc=6.25e-01, CXR8-DRAIN_valid/CXR8-DRAIN_FIBROSIS/accuracy=9.85e-01] CXR8-DRAIN_PLEURAL_THICKENING:[CXR8-DRAIN_valid/CXR8-DRAIN_PLEURAL_THICKENING/f1=0, CXR8-DRAIN_valid/CXR8-DRAIN_PLEURAL_THICKENING/roc-auc=6.46e-01, CXR8-DRAIN_valid/CXR8-DRAIN_PLEURAL_THICKENING/accuracy=9.67e-01] CXR8-DRAIN_HERNIA:[CXR8-DRAIN_valid/CXR8-DRAIN_HERNIA/f1=0, CXR8-DRAIN_valid/CXR8-DRAIN_HERNIA/roc-auc=7.09e-01, CXR8-DRAIN_valid/CXR8-DRAIN_HERNIA/accuracy=9.96e-01]\n"
     ]
    },
    {
     "name": "stderr",
     "output_type": "stream",
     "text": [
      "metal.mmtl.trainer - INFO - Freezing ['CXR8-DRAIN_ATELECTASIS', 'CXR8-DRAIN_CARDIOMEGALY', 'CXR8-DRAIN_EFFUSION', 'CXR8-DRAIN_INFILTRATION', 'CXR8-DRAIN_MASS', 'CXR8-DRAIN_NODULE', 'CXR8-DRAIN_PNEUMONIA', 'CXR8-DRAIN_PNEUMOTHORAX', 'CXR8-DRAIN_CONSOLIDATION', 'CXR8-DRAIN_EDEMA', 'CXR8-DRAIN_EMPHYSEMA', 'CXR8-DRAIN_FIBROSIS', 'CXR8-DRAIN_PLEURAL_THICKENING', 'CXR8-DRAIN_HERNIA'] heads\n",
      "metal.mmtl.trainer - INFO - Training tasks {'CXR8-DRAIN_PNEUMOTHORAX_slice:chest_drain_cnn_neg:pred': 'CXR8-DRAIN_PNEUMOTHORAX_slice:chest_drain_cnn_neg:pred'}\n",
      "root - INFO - Summary name CXR8-DRAIN_PNEUMOTHORAX_slice:chest_drain_cnn_neg:pred/CXR8-DRAIN_train/CXR8-DRAIN_PNEUMOTHORAX_slice:chest_drain_cnn_neg:pred/loss is illegal; using CXR8-DRAIN_PNEUMOTHORAX_slice_chest_drain_cnn_neg_pred/CXR8-DRAIN_train/CXR8-DRAIN_PNEUMOTHORAX_slice_chest_drain_cnn_neg_pred/loss instead.\n",
      "root - INFO - Summary name CXR8-DRAIN_PNEUMOTHORAX_slice:chest_drain_cnn_neg:pred/CXR8-DRAIN_valid/CXR8-DRAIN_PNEUMOTHORAX_slice:chest_drain_cnn_neg:pred/f1 is illegal; using CXR8-DRAIN_PNEUMOTHORAX_slice_chest_drain_cnn_neg_pred/CXR8-DRAIN_valid/CXR8-DRAIN_PNEUMOTHORAX_slice_chest_drain_cnn_neg_pred/f1 instead.\n",
      "root - INFO - Summary name CXR8-DRAIN_PNEUMOTHORAX_slice:chest_drain_cnn_neg:pred/CXR8-DRAIN_valid/CXR8-DRAIN_PNEUMOTHORAX_slice:chest_drain_cnn_neg:pred/roc-auc is illegal; using CXR8-DRAIN_PNEUMOTHORAX_slice_chest_drain_cnn_neg_pred/CXR8-DRAIN_valid/CXR8-DRAIN_PNEUMOTHORAX_slice_chest_drain_cnn_neg_pred/roc-auc instead.\n",
      "root - INFO - Summary name CXR8-DRAIN_PNEUMOTHORAX_slice:chest_drain_cnn_neg:pred/CXR8-DRAIN_valid/CXR8-DRAIN_PNEUMOTHORAX_slice:chest_drain_cnn_neg:pred/accuracy is illegal; using CXR8-DRAIN_PNEUMOTHORAX_slice_chest_drain_cnn_neg_pred/CXR8-DRAIN_valid/CXR8-DRAIN_PNEUMOTHORAX_slice_chest_drain_cnn_neg_pred/accuracy instead.\n"
     ]
    },
    {
     "name": "stdout",
     "output_type": "stream",
     "text": [
      "[15.0 epo]: CXR8-DRAIN_PNEUMOTHORAX_slice:chest_drain_cnn_neg:pred:[CXR8-DRAIN_train/CXR8-DRAIN_PNEUMOTHORAX_slice:chest_drain_cnn_neg:pred/loss=7.26e-02, CXR8-DRAIN_valid/CXR8-DRAIN_PNEUMOTHORAX_slice:chest_drain_cnn_neg:pred/f1=7.45e-02, CXR8-DRAIN_valid/CXR8-DRAIN_PNEUMOTHORAX_slice:chest_drain_cnn_neg:pred/roc-auc=6.46e-01, CXR8-DRAIN_valid/CXR8-DRAIN_PNEUMOTHORAX_slice:chest_drain_cnn_neg:pred/accuracy=8.91e-01] model:[train/all/loss=7.26e-02, train/all/lr=7.00e-05, valid/all/loss=2.83e-01] CXR8-DRAIN_ATELECTASIS:[CXR8-DRAIN_valid/CXR8-DRAIN_ATELECTASIS/f1=0, CXR8-DRAIN_valid/CXR8-DRAIN_ATELECTASIS/roc-auc=6.02e-01, CXR8-DRAIN_valid/CXR8-DRAIN_ATELECTASIS/accuracy=9.01e-01] CXR8-DRAIN_CARDIOMEGALY:[CXR8-DRAIN_valid/CXR8-DRAIN_CARDIOMEGALY/f1=0, CXR8-DRAIN_valid/CXR8-DRAIN_CARDIOMEGALY/roc-auc=6.77e-01, CXR8-DRAIN_valid/CXR8-DRAIN_CARDIOMEGALY/accuracy=9.78e-01] CXR8-DRAIN_EFFUSION:[CXR8-DRAIN_valid/CXR8-DRAIN_EFFUSION/f1=0, CXR8-DRAIN_valid/CXR8-DRAIN_EFFUSION/roc-auc=6.90e-01, CXR8-DRAIN_valid/CXR8-DRAIN_EFFUSION/accuracy=8.84e-01] CXR8-DRAIN_INFILTRATION:[CXR8-DRAIN_valid/CXR8-DRAIN_INFILTRATION/f1=0, CXR8-DRAIN_valid/CXR8-DRAIN_INFILTRATION/roc-auc=6.08e-01, CXR8-DRAIN_valid/CXR8-DRAIN_INFILTRATION/accuracy=8.21e-01] CXR8-DRAIN_MASS:[CXR8-DRAIN_valid/CXR8-DRAIN_MASS/f1=0, CXR8-DRAIN_valid/CXR8-DRAIN_MASS/roc-auc=6.55e-01, CXR8-DRAIN_valid/CXR8-DRAIN_MASS/accuracy=9.43e-01] CXR8-DRAIN_NODULE:[CXR8-DRAIN_valid/CXR8-DRAIN_NODULE/f1=0, CXR8-DRAIN_valid/CXR8-DRAIN_NODULE/roc-auc=6.18e-01, CXR8-DRAIN_valid/CXR8-DRAIN_NODULE/accuracy=9.44e-01] CXR8-DRAIN_PNEUMONIA:[CXR8-DRAIN_valid/CXR8-DRAIN_PNEUMONIA/f1=0, CXR8-DRAIN_valid/CXR8-DRAIN_PNEUMONIA/roc-auc=5.58e-01, CXR8-DRAIN_valid/CXR8-DRAIN_PNEUMONIA/accuracy=9.88e-01] CXR8-DRAIN_PNEUMOTHORAX:[CXR8-DRAIN_valid/CXR8-DRAIN_PNEUMOTHORAX/f1=3.12e-01, CXR8-DRAIN_valid/CXR8-DRAIN_PNEUMOTHORAX/roc-auc=7.88e-01, CXR8-DRAIN_valid/CXR8-DRAIN_PNEUMOTHORAX/accuracy=9.05e-01] CXR8-DRAIN_CONSOLIDATION:[CXR8-DRAIN_valid/CXR8-DRAIN_CONSOLIDATION/f1=0, CXR8-DRAIN_valid/CXR8-DRAIN_CONSOLIDATION/roc-auc=6.12e-01, CXR8-DRAIN_valid/CXR8-DRAIN_CONSOLIDATION/accuracy=9.61e-01] CXR8-DRAIN_EDEMA:[CXR8-DRAIN_valid/CXR8-DRAIN_EDEMA/f1=0, CXR8-DRAIN_valid/CXR8-DRAIN_EDEMA/roc-auc=6.36e-01, CXR8-DRAIN_valid/CXR8-DRAIN_EDEMA/accuracy=9.82e-01] CXR8-DRAIN_EMPHYSEMA:[CXR8-DRAIN_valid/CXR8-DRAIN_EMPHYSEMA/f1=0, CXR8-DRAIN_valid/CXR8-DRAIN_EMPHYSEMA/roc-auc=7.45e-01, CXR8-DRAIN_valid/CXR8-DRAIN_EMPHYSEMA/accuracy=9.80e-01] CXR8-DRAIN_FIBROSIS:[CXR8-DRAIN_valid/CXR8-DRAIN_FIBROSIS/f1=0, CXR8-DRAIN_valid/CXR8-DRAIN_FIBROSIS/roc-auc=6.33e-01, CXR8-DRAIN_valid/CXR8-DRAIN_FIBROSIS/accuracy=9.85e-01] CXR8-DRAIN_PLEURAL_THICKENING:[CXR8-DRAIN_valid/CXR8-DRAIN_PLEURAL_THICKENING/f1=0, CXR8-DRAIN_valid/CXR8-DRAIN_PLEURAL_THICKENING/roc-auc=6.45e-01, CXR8-DRAIN_valid/CXR8-DRAIN_PLEURAL_THICKENING/accuracy=9.67e-01] CXR8-DRAIN_HERNIA:[CXR8-DRAIN_valid/CXR8-DRAIN_HERNIA/f1=0, CXR8-DRAIN_valid/CXR8-DRAIN_HERNIA/roc-auc=7.78e-01, CXR8-DRAIN_valid/CXR8-DRAIN_HERNIA/accuracy=9.96e-01]\n"
     ]
    },
    {
     "name": "stderr",
     "output_type": "stream",
     "text": [
      "metal.mmtl.trainer - INFO - Freezing ['CXR8-DRAIN_ATELECTASIS', 'CXR8-DRAIN_CARDIOMEGALY', 'CXR8-DRAIN_EFFUSION', 'CXR8-DRAIN_INFILTRATION', 'CXR8-DRAIN_MASS', 'CXR8-DRAIN_NODULE', 'CXR8-DRAIN_PNEUMONIA', 'CXR8-DRAIN_PNEUMOTHORAX', 'CXR8-DRAIN_CONSOLIDATION', 'CXR8-DRAIN_EDEMA', 'CXR8-DRAIN_EMPHYSEMA', 'CXR8-DRAIN_FIBROSIS', 'CXR8-DRAIN_PLEURAL_THICKENING', 'CXR8-DRAIN_HERNIA'] heads\n",
      "metal.mmtl.trainer - INFO - Training tasks {'CXR8-DRAIN_PNEUMOTHORAX_slice:chest_drain_cnn_neg:pred': 'CXR8-DRAIN_PNEUMOTHORAX_slice:chest_drain_cnn_neg:pred'}\n",
      "root - INFO - Summary name CXR8-DRAIN_PNEUMOTHORAX_slice:chest_drain_cnn_neg:pred/CXR8-DRAIN_train/CXR8-DRAIN_PNEUMOTHORAX_slice:chest_drain_cnn_neg:pred/loss is illegal; using CXR8-DRAIN_PNEUMOTHORAX_slice_chest_drain_cnn_neg_pred/CXR8-DRAIN_train/CXR8-DRAIN_PNEUMOTHORAX_slice_chest_drain_cnn_neg_pred/loss instead.\n",
      "root - INFO - Summary name CXR8-DRAIN_PNEUMOTHORAX_slice:chest_drain_cnn_neg:pred/CXR8-DRAIN_valid/CXR8-DRAIN_PNEUMOTHORAX_slice:chest_drain_cnn_neg:pred/f1 is illegal; using CXR8-DRAIN_PNEUMOTHORAX_slice_chest_drain_cnn_neg_pred/CXR8-DRAIN_valid/CXR8-DRAIN_PNEUMOTHORAX_slice_chest_drain_cnn_neg_pred/f1 instead.\n",
      "root - INFO - Summary name CXR8-DRAIN_PNEUMOTHORAX_slice:chest_drain_cnn_neg:pred/CXR8-DRAIN_valid/CXR8-DRAIN_PNEUMOTHORAX_slice:chest_drain_cnn_neg:pred/roc-auc is illegal; using CXR8-DRAIN_PNEUMOTHORAX_slice_chest_drain_cnn_neg_pred/CXR8-DRAIN_valid/CXR8-DRAIN_PNEUMOTHORAX_slice_chest_drain_cnn_neg_pred/roc-auc instead.\n",
      "root - INFO - Summary name CXR8-DRAIN_PNEUMOTHORAX_slice:chest_drain_cnn_neg:pred/CXR8-DRAIN_valid/CXR8-DRAIN_PNEUMOTHORAX_slice:chest_drain_cnn_neg:pred/accuracy is illegal; using CXR8-DRAIN_PNEUMOTHORAX_slice_chest_drain_cnn_neg_pred/CXR8-DRAIN_valid/CXR8-DRAIN_PNEUMOTHORAX_slice_chest_drain_cnn_neg_pred/accuracy instead.\n"
     ]
    },
    {
     "name": "stdout",
     "output_type": "stream",
     "text": [
      "[16.0 epo]: CXR8-DRAIN_PNEUMOTHORAX_slice:chest_drain_cnn_neg:pred:[CXR8-DRAIN_train/CXR8-DRAIN_PNEUMOTHORAX_slice:chest_drain_cnn_neg:pred/loss=6.24e-02, CXR8-DRAIN_valid/CXR8-DRAIN_PNEUMOTHORAX_slice:chest_drain_cnn_neg:pred/f1=7.70e-02, CXR8-DRAIN_valid/CXR8-DRAIN_PNEUMOTHORAX_slice:chest_drain_cnn_neg:pred/roc-auc=6.59e-01, CXR8-DRAIN_valid/CXR8-DRAIN_PNEUMOTHORAX_slice:chest_drain_cnn_neg:pred/accuracy=8.22e-01] model:[train/all/loss=6.24e-02, train/all/lr=6.80e-05, valid/all/loss=3.39e-01] CXR8-DRAIN_ATELECTASIS:[CXR8-DRAIN_valid/CXR8-DRAIN_ATELECTASIS/f1=0, CXR8-DRAIN_valid/CXR8-DRAIN_ATELECTASIS/roc-auc=5.12e-01, CXR8-DRAIN_valid/CXR8-DRAIN_ATELECTASIS/accuracy=9.01e-01] CXR8-DRAIN_CARDIOMEGALY:[CXR8-DRAIN_valid/CXR8-DRAIN_CARDIOMEGALY/f1=0, CXR8-DRAIN_valid/CXR8-DRAIN_CARDIOMEGALY/roc-auc=5.24e-01, CXR8-DRAIN_valid/CXR8-DRAIN_CARDIOMEGALY/accuracy=9.78e-01] CXR8-DRAIN_EFFUSION:[CXR8-DRAIN_valid/CXR8-DRAIN_EFFUSION/f1=0, CXR8-DRAIN_valid/CXR8-DRAIN_EFFUSION/roc-auc=5.30e-01, CXR8-DRAIN_valid/CXR8-DRAIN_EFFUSION/accuracy=8.84e-01] CXR8-DRAIN_INFILTRATION:[CXR8-DRAIN_valid/CXR8-DRAIN_INFILTRATION/f1=0, CXR8-DRAIN_valid/CXR8-DRAIN_INFILTRATION/roc-auc=5.40e-01, CXR8-DRAIN_valid/CXR8-DRAIN_INFILTRATION/accuracy=8.21e-01] CXR8-DRAIN_MASS:[CXR8-DRAIN_valid/CXR8-DRAIN_MASS/f1=0, CXR8-DRAIN_valid/CXR8-DRAIN_MASS/roc-auc=5.83e-01, CXR8-DRAIN_valid/CXR8-DRAIN_MASS/accuracy=9.43e-01] CXR8-DRAIN_NODULE:[CXR8-DRAIN_valid/CXR8-DRAIN_NODULE/f1=0, CXR8-DRAIN_valid/CXR8-DRAIN_NODULE/roc-auc=5.77e-01, CXR8-DRAIN_valid/CXR8-DRAIN_NODULE/accuracy=9.44e-01] CXR8-DRAIN_PNEUMONIA:[CXR8-DRAIN_valid/CXR8-DRAIN_PNEUMONIA/f1=0, CXR8-DRAIN_valid/CXR8-DRAIN_PNEUMONIA/roc-auc=4.63e-01, CXR8-DRAIN_valid/CXR8-DRAIN_PNEUMONIA/accuracy=9.88e-01] CXR8-DRAIN_PNEUMOTHORAX:[CXR8-DRAIN_valid/CXR8-DRAIN_PNEUMOTHORAX/f1=2.38e-01, CXR8-DRAIN_valid/CXR8-DRAIN_PNEUMOTHORAX/roc-auc=7.51e-01, CXR8-DRAIN_valid/CXR8-DRAIN_PNEUMOTHORAX/accuracy=8.53e-01] CXR8-DRAIN_CONSOLIDATION:[CXR8-DRAIN_valid/CXR8-DRAIN_CONSOLIDATION/f1=0, CXR8-DRAIN_valid/CXR8-DRAIN_CONSOLIDATION/roc-auc=4.78e-01, CXR8-DRAIN_valid/CXR8-DRAIN_CONSOLIDATION/accuracy=9.61e-01] CXR8-DRAIN_EDEMA:[CXR8-DRAIN_valid/CXR8-DRAIN_EDEMA/f1=0, CXR8-DRAIN_valid/CXR8-DRAIN_EDEMA/roc-auc=4.41e-01, CXR8-DRAIN_valid/CXR8-DRAIN_EDEMA/accuracy=9.82e-01] CXR8-DRAIN_EMPHYSEMA:[CXR8-DRAIN_valid/CXR8-DRAIN_EMPHYSEMA/f1=0, CXR8-DRAIN_valid/CXR8-DRAIN_EMPHYSEMA/roc-auc=7.54e-01, CXR8-DRAIN_valid/CXR8-DRAIN_EMPHYSEMA/accuracy=9.80e-01] CXR8-DRAIN_FIBROSIS:[CXR8-DRAIN_valid/CXR8-DRAIN_FIBROSIS/f1=0, CXR8-DRAIN_valid/CXR8-DRAIN_FIBROSIS/roc-auc=6.09e-01, CXR8-DRAIN_valid/CXR8-DRAIN_FIBROSIS/accuracy=9.85e-01] CXR8-DRAIN_PLEURAL_THICKENING:[CXR8-DRAIN_valid/CXR8-DRAIN_PLEURAL_THICKENING/f1=0, CXR8-DRAIN_valid/CXR8-DRAIN_PLEURAL_THICKENING/roc-auc=5.80e-01, CXR8-DRAIN_valid/CXR8-DRAIN_PLEURAL_THICKENING/accuracy=9.67e-01] CXR8-DRAIN_HERNIA:[CXR8-DRAIN_valid/CXR8-DRAIN_HERNIA/f1=0, CXR8-DRAIN_valid/CXR8-DRAIN_HERNIA/roc-auc=6.88e-01, CXR8-DRAIN_valid/CXR8-DRAIN_HERNIA/accuracy=9.96e-01]\n"
     ]
    },
    {
     "name": "stderr",
     "output_type": "stream",
     "text": [
      "metal.mmtl.trainer - INFO - Freezing ['CXR8-DRAIN_ATELECTASIS', 'CXR8-DRAIN_CARDIOMEGALY', 'CXR8-DRAIN_EFFUSION', 'CXR8-DRAIN_INFILTRATION', 'CXR8-DRAIN_MASS', 'CXR8-DRAIN_NODULE', 'CXR8-DRAIN_PNEUMONIA', 'CXR8-DRAIN_PNEUMOTHORAX', 'CXR8-DRAIN_CONSOLIDATION', 'CXR8-DRAIN_EDEMA', 'CXR8-DRAIN_EMPHYSEMA', 'CXR8-DRAIN_FIBROSIS', 'CXR8-DRAIN_PLEURAL_THICKENING', 'CXR8-DRAIN_HERNIA'] heads\n",
      "metal.mmtl.trainer - INFO - Training tasks {'CXR8-DRAIN_PNEUMOTHORAX_slice:chest_drain_cnn_neg:pred': 'CXR8-DRAIN_PNEUMOTHORAX_slice:chest_drain_cnn_neg:pred'}\n",
      "root - INFO - Summary name CXR8-DRAIN_PNEUMOTHORAX_slice:chest_drain_cnn_neg:pred/CXR8-DRAIN_train/CXR8-DRAIN_PNEUMOTHORAX_slice:chest_drain_cnn_neg:pred/loss is illegal; using CXR8-DRAIN_PNEUMOTHORAX_slice_chest_drain_cnn_neg_pred/CXR8-DRAIN_train/CXR8-DRAIN_PNEUMOTHORAX_slice_chest_drain_cnn_neg_pred/loss instead.\n",
      "root - INFO - Summary name CXR8-DRAIN_PNEUMOTHORAX_slice:chest_drain_cnn_neg:pred/CXR8-DRAIN_valid/CXR8-DRAIN_PNEUMOTHORAX_slice:chest_drain_cnn_neg:pred/f1 is illegal; using CXR8-DRAIN_PNEUMOTHORAX_slice_chest_drain_cnn_neg_pred/CXR8-DRAIN_valid/CXR8-DRAIN_PNEUMOTHORAX_slice_chest_drain_cnn_neg_pred/f1 instead.\n",
      "root - INFO - Summary name CXR8-DRAIN_PNEUMOTHORAX_slice:chest_drain_cnn_neg:pred/CXR8-DRAIN_valid/CXR8-DRAIN_PNEUMOTHORAX_slice:chest_drain_cnn_neg:pred/roc-auc is illegal; using CXR8-DRAIN_PNEUMOTHORAX_slice_chest_drain_cnn_neg_pred/CXR8-DRAIN_valid/CXR8-DRAIN_PNEUMOTHORAX_slice_chest_drain_cnn_neg_pred/roc-auc instead.\n",
      "root - INFO - Summary name CXR8-DRAIN_PNEUMOTHORAX_slice:chest_drain_cnn_neg:pred/CXR8-DRAIN_valid/CXR8-DRAIN_PNEUMOTHORAX_slice:chest_drain_cnn_neg:pred/accuracy is illegal; using CXR8-DRAIN_PNEUMOTHORAX_slice_chest_drain_cnn_neg_pred/CXR8-DRAIN_valid/CXR8-DRAIN_PNEUMOTHORAX_slice_chest_drain_cnn_neg_pred/accuracy instead.\n"
     ]
    },
    {
     "name": "stdout",
     "output_type": "stream",
     "text": [
      "[17.0 epo]: CXR8-DRAIN_PNEUMOTHORAX_slice:chest_drain_cnn_neg:pred:[CXR8-DRAIN_train/CXR8-DRAIN_PNEUMOTHORAX_slice:chest_drain_cnn_neg:pred/loss=6.43e-02, CXR8-DRAIN_valid/CXR8-DRAIN_PNEUMOTHORAX_slice:chest_drain_cnn_neg:pred/f1=8.58e-02, CXR8-DRAIN_valid/CXR8-DRAIN_PNEUMOTHORAX_slice:chest_drain_cnn_neg:pred/roc-auc=6.91e-01, CXR8-DRAIN_valid/CXR8-DRAIN_PNEUMOTHORAX_slice:chest_drain_cnn_neg:pred/accuracy=8.23e-01] model:[train/all/loss=6.43e-02, train/all/lr=6.60e-05, valid/all/loss=3.42e-01] CXR8-DRAIN_ATELECTASIS:[CXR8-DRAIN_valid/CXR8-DRAIN_ATELECTASIS/f1=0, CXR8-DRAIN_valid/CXR8-DRAIN_ATELECTASIS/roc-auc=5.22e-01, CXR8-DRAIN_valid/CXR8-DRAIN_ATELECTASIS/accuracy=9.01e-01] CXR8-DRAIN_CARDIOMEGALY:[CXR8-DRAIN_valid/CXR8-DRAIN_CARDIOMEGALY/f1=0, CXR8-DRAIN_valid/CXR8-DRAIN_CARDIOMEGALY/roc-auc=4.74e-01, CXR8-DRAIN_valid/CXR8-DRAIN_CARDIOMEGALY/accuracy=9.78e-01] CXR8-DRAIN_EFFUSION:[CXR8-DRAIN_valid/CXR8-DRAIN_EFFUSION/f1=0, CXR8-DRAIN_valid/CXR8-DRAIN_EFFUSION/roc-auc=5.79e-01, CXR8-DRAIN_valid/CXR8-DRAIN_EFFUSION/accuracy=8.84e-01] CXR8-DRAIN_INFILTRATION:[CXR8-DRAIN_valid/CXR8-DRAIN_INFILTRATION/f1=0, CXR8-DRAIN_valid/CXR8-DRAIN_INFILTRATION/roc-auc=5.63e-01, CXR8-DRAIN_valid/CXR8-DRAIN_INFILTRATION/accuracy=8.21e-01] CXR8-DRAIN_MASS:[CXR8-DRAIN_valid/CXR8-DRAIN_MASS/f1=0, CXR8-DRAIN_valid/CXR8-DRAIN_MASS/roc-auc=6.09e-01, CXR8-DRAIN_valid/CXR8-DRAIN_MASS/accuracy=9.43e-01] CXR8-DRAIN_NODULE:[CXR8-DRAIN_valid/CXR8-DRAIN_NODULE/f1=0, CXR8-DRAIN_valid/CXR8-DRAIN_NODULE/roc-auc=5.84e-01, CXR8-DRAIN_valid/CXR8-DRAIN_NODULE/accuracy=9.44e-01] CXR8-DRAIN_PNEUMONIA:[CXR8-DRAIN_valid/CXR8-DRAIN_PNEUMONIA/f1=0, CXR8-DRAIN_valid/CXR8-DRAIN_PNEUMONIA/roc-auc=4.82e-01, CXR8-DRAIN_valid/CXR8-DRAIN_PNEUMONIA/accuracy=9.88e-01] CXR8-DRAIN_PNEUMOTHORAX:[CXR8-DRAIN_valid/CXR8-DRAIN_PNEUMOTHORAX/f1=2.61e-01, CXR8-DRAIN_valid/CXR8-DRAIN_PNEUMOTHORAX/roc-auc=7.83e-01, CXR8-DRAIN_valid/CXR8-DRAIN_PNEUMOTHORAX/accuracy=8.53e-01] CXR8-DRAIN_CONSOLIDATION:[CXR8-DRAIN_valid/CXR8-DRAIN_CONSOLIDATION/f1=0, CXR8-DRAIN_valid/CXR8-DRAIN_CONSOLIDATION/roc-auc=5.13e-01, CXR8-DRAIN_valid/CXR8-DRAIN_CONSOLIDATION/accuracy=9.61e-01] CXR8-DRAIN_EDEMA:[CXR8-DRAIN_valid/CXR8-DRAIN_EDEMA/f1=0, CXR8-DRAIN_valid/CXR8-DRAIN_EDEMA/roc-auc=4.81e-01, CXR8-DRAIN_valid/CXR8-DRAIN_EDEMA/accuracy=9.82e-01] CXR8-DRAIN_EMPHYSEMA:[CXR8-DRAIN_valid/CXR8-DRAIN_EMPHYSEMA/f1=0, CXR8-DRAIN_valid/CXR8-DRAIN_EMPHYSEMA/roc-auc=7.45e-01, CXR8-DRAIN_valid/CXR8-DRAIN_EMPHYSEMA/accuracy=9.80e-01] CXR8-DRAIN_FIBROSIS:[CXR8-DRAIN_valid/CXR8-DRAIN_FIBROSIS/f1=0, CXR8-DRAIN_valid/CXR8-DRAIN_FIBROSIS/roc-auc=6.10e-01, CXR8-DRAIN_valid/CXR8-DRAIN_FIBROSIS/accuracy=9.85e-01] CXR8-DRAIN_PLEURAL_THICKENING:[CXR8-DRAIN_valid/CXR8-DRAIN_PLEURAL_THICKENING/f1=0, CXR8-DRAIN_valid/CXR8-DRAIN_PLEURAL_THICKENING/roc-auc=6.17e-01, CXR8-DRAIN_valid/CXR8-DRAIN_PLEURAL_THICKENING/accuracy=9.67e-01] CXR8-DRAIN_HERNIA:[CXR8-DRAIN_valid/CXR8-DRAIN_HERNIA/f1=0, CXR8-DRAIN_valid/CXR8-DRAIN_HERNIA/roc-auc=6.17e-01, CXR8-DRAIN_valid/CXR8-DRAIN_HERNIA/accuracy=9.96e-01]\n"
     ]
    },
    {
     "name": "stderr",
     "output_type": "stream",
     "text": [
      "metal.mmtl.trainer - INFO - Freezing ['CXR8-DRAIN_ATELECTASIS', 'CXR8-DRAIN_CARDIOMEGALY', 'CXR8-DRAIN_EFFUSION', 'CXR8-DRAIN_INFILTRATION', 'CXR8-DRAIN_MASS', 'CXR8-DRAIN_NODULE', 'CXR8-DRAIN_PNEUMONIA', 'CXR8-DRAIN_PNEUMOTHORAX', 'CXR8-DRAIN_CONSOLIDATION', 'CXR8-DRAIN_EDEMA', 'CXR8-DRAIN_EMPHYSEMA', 'CXR8-DRAIN_FIBROSIS', 'CXR8-DRAIN_PLEURAL_THICKENING', 'CXR8-DRAIN_HERNIA'] heads\n",
      "metal.mmtl.trainer - INFO - Training tasks {'CXR8-DRAIN_PNEUMOTHORAX_slice:chest_drain_cnn_neg:pred': 'CXR8-DRAIN_PNEUMOTHORAX_slice:chest_drain_cnn_neg:pred'}\n",
      "root - INFO - Summary name CXR8-DRAIN_PNEUMOTHORAX_slice:chest_drain_cnn_neg:pred/CXR8-DRAIN_train/CXR8-DRAIN_PNEUMOTHORAX_slice:chest_drain_cnn_neg:pred/loss is illegal; using CXR8-DRAIN_PNEUMOTHORAX_slice_chest_drain_cnn_neg_pred/CXR8-DRAIN_train/CXR8-DRAIN_PNEUMOTHORAX_slice_chest_drain_cnn_neg_pred/loss instead.\n",
      "root - INFO - Summary name CXR8-DRAIN_PNEUMOTHORAX_slice:chest_drain_cnn_neg:pred/CXR8-DRAIN_valid/CXR8-DRAIN_PNEUMOTHORAX_slice:chest_drain_cnn_neg:pred/f1 is illegal; using CXR8-DRAIN_PNEUMOTHORAX_slice_chest_drain_cnn_neg_pred/CXR8-DRAIN_valid/CXR8-DRAIN_PNEUMOTHORAX_slice_chest_drain_cnn_neg_pred/f1 instead.\n",
      "root - INFO - Summary name CXR8-DRAIN_PNEUMOTHORAX_slice:chest_drain_cnn_neg:pred/CXR8-DRAIN_valid/CXR8-DRAIN_PNEUMOTHORAX_slice:chest_drain_cnn_neg:pred/roc-auc is illegal; using CXR8-DRAIN_PNEUMOTHORAX_slice_chest_drain_cnn_neg_pred/CXR8-DRAIN_valid/CXR8-DRAIN_PNEUMOTHORAX_slice_chest_drain_cnn_neg_pred/roc-auc instead.\n",
      "root - INFO - Summary name CXR8-DRAIN_PNEUMOTHORAX_slice:chest_drain_cnn_neg:pred/CXR8-DRAIN_valid/CXR8-DRAIN_PNEUMOTHORAX_slice:chest_drain_cnn_neg:pred/accuracy is illegal; using CXR8-DRAIN_PNEUMOTHORAX_slice_chest_drain_cnn_neg_pred/CXR8-DRAIN_valid/CXR8-DRAIN_PNEUMOTHORAX_slice_chest_drain_cnn_neg_pred/accuracy instead.\n"
     ]
    },
    {
     "name": "stdout",
     "output_type": "stream",
     "text": [
      "[18.0 epo]: CXR8-DRAIN_PNEUMOTHORAX_slice:chest_drain_cnn_neg:pred:[CXR8-DRAIN_train/CXR8-DRAIN_PNEUMOTHORAX_slice:chest_drain_cnn_neg:pred/loss=7.79e-02, CXR8-DRAIN_valid/CXR8-DRAIN_PNEUMOTHORAX_slice:chest_drain_cnn_neg:pred/f1=9.58e-02, CXR8-DRAIN_valid/CXR8-DRAIN_PNEUMOTHORAX_slice:chest_drain_cnn_neg:pred/roc-auc=6.84e-01, CXR8-DRAIN_valid/CXR8-DRAIN_PNEUMOTHORAX_slice:chest_drain_cnn_neg:pred/accuracy=8.84e-01] model:[train/all/loss=7.79e-02, train/all/lr=6.40e-05, valid/all/loss=3.09e-01] CXR8-DRAIN_ATELECTASIS:[CXR8-DRAIN_valid/CXR8-DRAIN_ATELECTASIS/f1=0, CXR8-DRAIN_valid/CXR8-DRAIN_ATELECTASIS/roc-auc=5.62e-01, CXR8-DRAIN_valid/CXR8-DRAIN_ATELECTASIS/accuracy=9.01e-01] CXR8-DRAIN_CARDIOMEGALY:[CXR8-DRAIN_valid/CXR8-DRAIN_CARDIOMEGALY/f1=0, CXR8-DRAIN_valid/CXR8-DRAIN_CARDIOMEGALY/roc-auc=4.82e-01, CXR8-DRAIN_valid/CXR8-DRAIN_CARDIOMEGALY/accuracy=9.78e-01] CXR8-DRAIN_EFFUSION:[CXR8-DRAIN_valid/CXR8-DRAIN_EFFUSION/f1=0, CXR8-DRAIN_valid/CXR8-DRAIN_EFFUSION/roc-auc=6.34e-01, CXR8-DRAIN_valid/CXR8-DRAIN_EFFUSION/accuracy=8.84e-01] CXR8-DRAIN_INFILTRATION:[CXR8-DRAIN_valid/CXR8-DRAIN_INFILTRATION/f1=0, CXR8-DRAIN_valid/CXR8-DRAIN_INFILTRATION/roc-auc=5.92e-01, CXR8-DRAIN_valid/CXR8-DRAIN_INFILTRATION/accuracy=8.21e-01] CXR8-DRAIN_MASS:[CXR8-DRAIN_valid/CXR8-DRAIN_MASS/f1=0, CXR8-DRAIN_valid/CXR8-DRAIN_MASS/roc-auc=6.08e-01, CXR8-DRAIN_valid/CXR8-DRAIN_MASS/accuracy=9.43e-01] CXR8-DRAIN_NODULE:[CXR8-DRAIN_valid/CXR8-DRAIN_NODULE/f1=0, CXR8-DRAIN_valid/CXR8-DRAIN_NODULE/roc-auc=6.01e-01, CXR8-DRAIN_valid/CXR8-DRAIN_NODULE/accuracy=9.44e-01] CXR8-DRAIN_PNEUMONIA:[CXR8-DRAIN_valid/CXR8-DRAIN_PNEUMONIA/f1=0, CXR8-DRAIN_valid/CXR8-DRAIN_PNEUMONIA/roc-auc=5.08e-01, CXR8-DRAIN_valid/CXR8-DRAIN_PNEUMONIA/accuracy=9.88e-01] CXR8-DRAIN_PNEUMOTHORAX:[CXR8-DRAIN_valid/CXR8-DRAIN_PNEUMOTHORAX/f1=3.14e-01, CXR8-DRAIN_valid/CXR8-DRAIN_PNEUMOTHORAX/roc-auc=7.98e-01, CXR8-DRAIN_valid/CXR8-DRAIN_PNEUMOTHORAX/accuracy=8.97e-01] CXR8-DRAIN_CONSOLIDATION:[CXR8-DRAIN_valid/CXR8-DRAIN_CONSOLIDATION/f1=0, CXR8-DRAIN_valid/CXR8-DRAIN_CONSOLIDATION/roc-auc=6.07e-01, CXR8-DRAIN_valid/CXR8-DRAIN_CONSOLIDATION/accuracy=9.61e-01] CXR8-DRAIN_EDEMA:[CXR8-DRAIN_valid/CXR8-DRAIN_EDEMA/f1=0, CXR8-DRAIN_valid/CXR8-DRAIN_EDEMA/roc-auc=6.06e-01, CXR8-DRAIN_valid/CXR8-DRAIN_EDEMA/accuracy=9.82e-01] CXR8-DRAIN_EMPHYSEMA:[CXR8-DRAIN_valid/CXR8-DRAIN_EMPHYSEMA/f1=0, CXR8-DRAIN_valid/CXR8-DRAIN_EMPHYSEMA/roc-auc=7.82e-01, CXR8-DRAIN_valid/CXR8-DRAIN_EMPHYSEMA/accuracy=9.80e-01] CXR8-DRAIN_FIBROSIS:[CXR8-DRAIN_valid/CXR8-DRAIN_FIBROSIS/f1=0, CXR8-DRAIN_valid/CXR8-DRAIN_FIBROSIS/roc-auc=5.99e-01, CXR8-DRAIN_valid/CXR8-DRAIN_FIBROSIS/accuracy=9.85e-01] CXR8-DRAIN_PLEURAL_THICKENING:[CXR8-DRAIN_valid/CXR8-DRAIN_PLEURAL_THICKENING/f1=0, CXR8-DRAIN_valid/CXR8-DRAIN_PLEURAL_THICKENING/roc-auc=6.50e-01, CXR8-DRAIN_valid/CXR8-DRAIN_PLEURAL_THICKENING/accuracy=9.67e-01] CXR8-DRAIN_HERNIA:[CXR8-DRAIN_valid/CXR8-DRAIN_HERNIA/f1=0, CXR8-DRAIN_valid/CXR8-DRAIN_HERNIA/roc-auc=6.06e-01, CXR8-DRAIN_valid/CXR8-DRAIN_HERNIA/accuracy=9.96e-01]\n"
     ]
    },
    {
     "name": "stderr",
     "output_type": "stream",
     "text": [
      "metal.mmtl.trainer - INFO - Freezing ['CXR8-DRAIN_ATELECTASIS', 'CXR8-DRAIN_CARDIOMEGALY', 'CXR8-DRAIN_EFFUSION', 'CXR8-DRAIN_INFILTRATION', 'CXR8-DRAIN_MASS', 'CXR8-DRAIN_NODULE', 'CXR8-DRAIN_PNEUMONIA', 'CXR8-DRAIN_PNEUMOTHORAX', 'CXR8-DRAIN_CONSOLIDATION', 'CXR8-DRAIN_EDEMA', 'CXR8-DRAIN_EMPHYSEMA', 'CXR8-DRAIN_FIBROSIS', 'CXR8-DRAIN_PLEURAL_THICKENING', 'CXR8-DRAIN_HERNIA'] heads\n",
      "metal.mmtl.trainer - INFO - Training tasks {'CXR8-DRAIN_PNEUMOTHORAX_slice:chest_drain_cnn_neg:pred': 'CXR8-DRAIN_PNEUMOTHORAX_slice:chest_drain_cnn_neg:pred'}\n",
      "root - INFO - Summary name CXR8-DRAIN_PNEUMOTHORAX_slice:chest_drain_cnn_neg:pred/CXR8-DRAIN_train/CXR8-DRAIN_PNEUMOTHORAX_slice:chest_drain_cnn_neg:pred/loss is illegal; using CXR8-DRAIN_PNEUMOTHORAX_slice_chest_drain_cnn_neg_pred/CXR8-DRAIN_train/CXR8-DRAIN_PNEUMOTHORAX_slice_chest_drain_cnn_neg_pred/loss instead.\n",
      "root - INFO - Summary name CXR8-DRAIN_PNEUMOTHORAX_slice:chest_drain_cnn_neg:pred/CXR8-DRAIN_valid/CXR8-DRAIN_PNEUMOTHORAX_slice:chest_drain_cnn_neg:pred/f1 is illegal; using CXR8-DRAIN_PNEUMOTHORAX_slice_chest_drain_cnn_neg_pred/CXR8-DRAIN_valid/CXR8-DRAIN_PNEUMOTHORAX_slice_chest_drain_cnn_neg_pred/f1 instead.\n",
      "root - INFO - Summary name CXR8-DRAIN_PNEUMOTHORAX_slice:chest_drain_cnn_neg:pred/CXR8-DRAIN_valid/CXR8-DRAIN_PNEUMOTHORAX_slice:chest_drain_cnn_neg:pred/roc-auc is illegal; using CXR8-DRAIN_PNEUMOTHORAX_slice_chest_drain_cnn_neg_pred/CXR8-DRAIN_valid/CXR8-DRAIN_PNEUMOTHORAX_slice_chest_drain_cnn_neg_pred/roc-auc instead.\n",
      "root - INFO - Summary name CXR8-DRAIN_PNEUMOTHORAX_slice:chest_drain_cnn_neg:pred/CXR8-DRAIN_valid/CXR8-DRAIN_PNEUMOTHORAX_slice:chest_drain_cnn_neg:pred/accuracy is illegal; using CXR8-DRAIN_PNEUMOTHORAX_slice_chest_drain_cnn_neg_pred/CXR8-DRAIN_valid/CXR8-DRAIN_PNEUMOTHORAX_slice_chest_drain_cnn_neg_pred/accuracy instead.\n"
     ]
    },
    {
     "name": "stdout",
     "output_type": "stream",
     "text": [
      "[19.0 epo]: CXR8-DRAIN_PNEUMOTHORAX_slice:chest_drain_cnn_neg:pred:[CXR8-DRAIN_train/CXR8-DRAIN_PNEUMOTHORAX_slice:chest_drain_cnn_neg:pred/loss=7.48e-02, CXR8-DRAIN_valid/CXR8-DRAIN_PNEUMOTHORAX_slice:chest_drain_cnn_neg:pred/f1=1.02e-01, CXR8-DRAIN_valid/CXR8-DRAIN_PNEUMOTHORAX_slice:chest_drain_cnn_neg:pred/roc-auc=7.21e-01, CXR8-DRAIN_valid/CXR8-DRAIN_PNEUMOTHORAX_slice:chest_drain_cnn_neg:pred/accuracy=8.97e-01] model:[train/all/loss=7.48e-02, train/all/lr=6.20e-05, valid/all/loss=2.92e-01] CXR8-DRAIN_ATELECTASIS:[CXR8-DRAIN_valid/CXR8-DRAIN_ATELECTASIS/f1=0, CXR8-DRAIN_valid/CXR8-DRAIN_ATELECTASIS/roc-auc=5.95e-01, CXR8-DRAIN_valid/CXR8-DRAIN_ATELECTASIS/accuracy=9.01e-01] CXR8-DRAIN_CARDIOMEGALY:[CXR8-DRAIN_valid/CXR8-DRAIN_CARDIOMEGALY/f1=0, CXR8-DRAIN_valid/CXR8-DRAIN_CARDIOMEGALY/roc-auc=5.10e-01, CXR8-DRAIN_valid/CXR8-DRAIN_CARDIOMEGALY/accuracy=9.78e-01] CXR8-DRAIN_EFFUSION:[CXR8-DRAIN_valid/CXR8-DRAIN_EFFUSION/f1=0, CXR8-DRAIN_valid/CXR8-DRAIN_EFFUSION/roc-auc=6.33e-01, CXR8-DRAIN_valid/CXR8-DRAIN_EFFUSION/accuracy=8.84e-01] CXR8-DRAIN_INFILTRATION:[CXR8-DRAIN_valid/CXR8-DRAIN_INFILTRATION/f1=0, CXR8-DRAIN_valid/CXR8-DRAIN_INFILTRATION/roc-auc=5.96e-01, CXR8-DRAIN_valid/CXR8-DRAIN_INFILTRATION/accuracy=8.21e-01] CXR8-DRAIN_MASS:[CXR8-DRAIN_valid/CXR8-DRAIN_MASS/f1=0, CXR8-DRAIN_valid/CXR8-DRAIN_MASS/roc-auc=6.10e-01, CXR8-DRAIN_valid/CXR8-DRAIN_MASS/accuracy=9.43e-01] CXR8-DRAIN_NODULE:[CXR8-DRAIN_valid/CXR8-DRAIN_NODULE/f1=0, CXR8-DRAIN_valid/CXR8-DRAIN_NODULE/roc-auc=6.02e-01, CXR8-DRAIN_valid/CXR8-DRAIN_NODULE/accuracy=9.44e-01] CXR8-DRAIN_PNEUMONIA:[CXR8-DRAIN_valid/CXR8-DRAIN_PNEUMONIA/f1=0, CXR8-DRAIN_valid/CXR8-DRAIN_PNEUMONIA/roc-auc=5.68e-01, CXR8-DRAIN_valid/CXR8-DRAIN_PNEUMONIA/accuracy=9.88e-01] CXR8-DRAIN_PNEUMOTHORAX:[CXR8-DRAIN_valid/CXR8-DRAIN_PNEUMOTHORAX/f1=3.41e-01, CXR8-DRAIN_valid/CXR8-DRAIN_PNEUMOTHORAX/roc-auc=8.11e-01, CXR8-DRAIN_valid/CXR8-DRAIN_PNEUMOTHORAX/accuracy=9.11e-01] CXR8-DRAIN_CONSOLIDATION:[CXR8-DRAIN_valid/CXR8-DRAIN_CONSOLIDATION/f1=0, CXR8-DRAIN_valid/CXR8-DRAIN_CONSOLIDATION/roc-auc=6.19e-01, CXR8-DRAIN_valid/CXR8-DRAIN_CONSOLIDATION/accuracy=9.61e-01] CXR8-DRAIN_EDEMA:[CXR8-DRAIN_valid/CXR8-DRAIN_EDEMA/f1=0, CXR8-DRAIN_valid/CXR8-DRAIN_EDEMA/roc-auc=6.79e-01, CXR8-DRAIN_valid/CXR8-DRAIN_EDEMA/accuracy=9.82e-01] CXR8-DRAIN_EMPHYSEMA:[CXR8-DRAIN_valid/CXR8-DRAIN_EMPHYSEMA/f1=0, CXR8-DRAIN_valid/CXR8-DRAIN_EMPHYSEMA/roc-auc=8.10e-01, CXR8-DRAIN_valid/CXR8-DRAIN_EMPHYSEMA/accuracy=9.80e-01] CXR8-DRAIN_FIBROSIS:[CXR8-DRAIN_valid/CXR8-DRAIN_FIBROSIS/f1=0, CXR8-DRAIN_valid/CXR8-DRAIN_FIBROSIS/roc-auc=6.19e-01, CXR8-DRAIN_valid/CXR8-DRAIN_FIBROSIS/accuracy=9.85e-01] CXR8-DRAIN_PLEURAL_THICKENING:[CXR8-DRAIN_valid/CXR8-DRAIN_PLEURAL_THICKENING/f1=0, CXR8-DRAIN_valid/CXR8-DRAIN_PLEURAL_THICKENING/roc-auc=6.88e-01, CXR8-DRAIN_valid/CXR8-DRAIN_PLEURAL_THICKENING/accuracy=9.67e-01] CXR8-DRAIN_HERNIA:[CXR8-DRAIN_valid/CXR8-DRAIN_HERNIA/f1=0, CXR8-DRAIN_valid/CXR8-DRAIN_HERNIA/roc-auc=6.02e-01, CXR8-DRAIN_valid/CXR8-DRAIN_HERNIA/accuracy=9.96e-01]\n",
      "Saving model at iteration 19.00 with best (max) score CXR8-DRAIN_PNEUMOTHORAX_slice:chest_drain_cnn_neg:pred/CXR8-DRAIN_valid/CXR8-DRAIN_PNEUMOTHORAX_slice:chest_drain_cnn_neg:pred/f1=0.102\n"
     ]
    },
    {
     "name": "stderr",
     "output_type": "stream",
     "text": [
      "metal.mmtl.trainer - INFO - Freezing ['CXR8-DRAIN_ATELECTASIS', 'CXR8-DRAIN_CARDIOMEGALY', 'CXR8-DRAIN_EFFUSION', 'CXR8-DRAIN_INFILTRATION', 'CXR8-DRAIN_MASS', 'CXR8-DRAIN_NODULE', 'CXR8-DRAIN_PNEUMONIA', 'CXR8-DRAIN_PNEUMOTHORAX', 'CXR8-DRAIN_CONSOLIDATION', 'CXR8-DRAIN_EDEMA', 'CXR8-DRAIN_EMPHYSEMA', 'CXR8-DRAIN_FIBROSIS', 'CXR8-DRAIN_PLEURAL_THICKENING', 'CXR8-DRAIN_HERNIA'] heads\n",
      "metal.mmtl.trainer - INFO - Training tasks {'CXR8-DRAIN_PNEUMOTHORAX_slice:chest_drain_cnn_neg:pred': 'CXR8-DRAIN_PNEUMOTHORAX_slice:chest_drain_cnn_neg:pred'}\n",
      "root - INFO - Summary name CXR8-DRAIN_PNEUMOTHORAX_slice:chest_drain_cnn_neg:pred/CXR8-DRAIN_train/CXR8-DRAIN_PNEUMOTHORAX_slice:chest_drain_cnn_neg:pred/loss is illegal; using CXR8-DRAIN_PNEUMOTHORAX_slice_chest_drain_cnn_neg_pred/CXR8-DRAIN_train/CXR8-DRAIN_PNEUMOTHORAX_slice_chest_drain_cnn_neg_pred/loss instead.\n",
      "root - INFO - Summary name CXR8-DRAIN_PNEUMOTHORAX_slice:chest_drain_cnn_neg:pred/CXR8-DRAIN_valid/CXR8-DRAIN_PNEUMOTHORAX_slice:chest_drain_cnn_neg:pred/f1 is illegal; using CXR8-DRAIN_PNEUMOTHORAX_slice_chest_drain_cnn_neg_pred/CXR8-DRAIN_valid/CXR8-DRAIN_PNEUMOTHORAX_slice_chest_drain_cnn_neg_pred/f1 instead.\n",
      "root - INFO - Summary name CXR8-DRAIN_PNEUMOTHORAX_slice:chest_drain_cnn_neg:pred/CXR8-DRAIN_valid/CXR8-DRAIN_PNEUMOTHORAX_slice:chest_drain_cnn_neg:pred/roc-auc is illegal; using CXR8-DRAIN_PNEUMOTHORAX_slice_chest_drain_cnn_neg_pred/CXR8-DRAIN_valid/CXR8-DRAIN_PNEUMOTHORAX_slice_chest_drain_cnn_neg_pred/roc-auc instead.\n",
      "root - INFO - Summary name CXR8-DRAIN_PNEUMOTHORAX_slice:chest_drain_cnn_neg:pred/CXR8-DRAIN_valid/CXR8-DRAIN_PNEUMOTHORAX_slice:chest_drain_cnn_neg:pred/accuracy is illegal; using CXR8-DRAIN_PNEUMOTHORAX_slice_chest_drain_cnn_neg_pred/CXR8-DRAIN_valid/CXR8-DRAIN_PNEUMOTHORAX_slice_chest_drain_cnn_neg_pred/accuracy instead.\n"
     ]
    },
    {
     "name": "stdout",
     "output_type": "stream",
     "text": [
      "[20.0 epo]: CXR8-DRAIN_PNEUMOTHORAX_slice:chest_drain_cnn_neg:pred:[CXR8-DRAIN_train/CXR8-DRAIN_PNEUMOTHORAX_slice:chest_drain_cnn_neg:pred/loss=4.55e-02, CXR8-DRAIN_valid/CXR8-DRAIN_PNEUMOTHORAX_slice:chest_drain_cnn_neg:pred/f1=1.06e-01, CXR8-DRAIN_valid/CXR8-DRAIN_PNEUMOTHORAX_slice:chest_drain_cnn_neg:pred/roc-auc=7.25e-01, CXR8-DRAIN_valid/CXR8-DRAIN_PNEUMOTHORAX_slice:chest_drain_cnn_neg:pred/accuracy=8.86e-01] model:[train/all/loss=4.55e-02, train/all/lr=6.00e-05, valid/all/loss=3.11e-01] CXR8-DRAIN_ATELECTASIS:[CXR8-DRAIN_valid/CXR8-DRAIN_ATELECTASIS/f1=0, CXR8-DRAIN_valid/CXR8-DRAIN_ATELECTASIS/roc-auc=5.88e-01, CXR8-DRAIN_valid/CXR8-DRAIN_ATELECTASIS/accuracy=9.01e-01] CXR8-DRAIN_CARDIOMEGALY:[CXR8-DRAIN_valid/CXR8-DRAIN_CARDIOMEGALY/f1=0, CXR8-DRAIN_valid/CXR8-DRAIN_CARDIOMEGALY/roc-auc=6.04e-01, CXR8-DRAIN_valid/CXR8-DRAIN_CARDIOMEGALY/accuracy=9.78e-01] CXR8-DRAIN_EFFUSION:[CXR8-DRAIN_valid/CXR8-DRAIN_EFFUSION/f1=0, CXR8-DRAIN_valid/CXR8-DRAIN_EFFUSION/roc-auc=7.01e-01, CXR8-DRAIN_valid/CXR8-DRAIN_EFFUSION/accuracy=8.84e-01] CXR8-DRAIN_INFILTRATION:[CXR8-DRAIN_valid/CXR8-DRAIN_INFILTRATION/f1=0, CXR8-DRAIN_valid/CXR8-DRAIN_INFILTRATION/roc-auc=6.33e-01, CXR8-DRAIN_valid/CXR8-DRAIN_INFILTRATION/accuracy=8.21e-01] CXR8-DRAIN_MASS:[CXR8-DRAIN_valid/CXR8-DRAIN_MASS/f1=0, CXR8-DRAIN_valid/CXR8-DRAIN_MASS/roc-auc=6.94e-01, CXR8-DRAIN_valid/CXR8-DRAIN_MASS/accuracy=9.43e-01] CXR8-DRAIN_NODULE:[CXR8-DRAIN_valid/CXR8-DRAIN_NODULE/f1=0, CXR8-DRAIN_valid/CXR8-DRAIN_NODULE/roc-auc=6.27e-01, CXR8-DRAIN_valid/CXR8-DRAIN_NODULE/accuracy=9.44e-01] CXR8-DRAIN_PNEUMONIA:[CXR8-DRAIN_valid/CXR8-DRAIN_PNEUMONIA/f1=0, CXR8-DRAIN_valid/CXR8-DRAIN_PNEUMONIA/roc-auc=6.33e-01, CXR8-DRAIN_valid/CXR8-DRAIN_PNEUMONIA/accuracy=9.88e-01] CXR8-DRAIN_PNEUMOTHORAX:[CXR8-DRAIN_valid/CXR8-DRAIN_PNEUMOTHORAX/f1=3.25e-01, CXR8-DRAIN_valid/CXR8-DRAIN_PNEUMOTHORAX/roc-auc=8.15e-01, CXR8-DRAIN_valid/CXR8-DRAIN_PNEUMOTHORAX/accuracy=8.97e-01] CXR8-DRAIN_CONSOLIDATION:[CXR8-DRAIN_valid/CXR8-DRAIN_CONSOLIDATION/f1=0, CXR8-DRAIN_valid/CXR8-DRAIN_CONSOLIDATION/roc-auc=6.55e-01, CXR8-DRAIN_valid/CXR8-DRAIN_CONSOLIDATION/accuracy=9.61e-01] CXR8-DRAIN_EDEMA:[CXR8-DRAIN_valid/CXR8-DRAIN_EDEMA/f1=0, CXR8-DRAIN_valid/CXR8-DRAIN_EDEMA/roc-auc=7.79e-01, CXR8-DRAIN_valid/CXR8-DRAIN_EDEMA/accuracy=9.82e-01] CXR8-DRAIN_EMPHYSEMA:[CXR8-DRAIN_valid/CXR8-DRAIN_EMPHYSEMA/f1=0, CXR8-DRAIN_valid/CXR8-DRAIN_EMPHYSEMA/roc-auc=7.71e-01, CXR8-DRAIN_valid/CXR8-DRAIN_EMPHYSEMA/accuracy=9.80e-01] CXR8-DRAIN_FIBROSIS:[CXR8-DRAIN_valid/CXR8-DRAIN_FIBROSIS/f1=0, CXR8-DRAIN_valid/CXR8-DRAIN_FIBROSIS/roc-auc=6.30e-01, CXR8-DRAIN_valid/CXR8-DRAIN_FIBROSIS/accuracy=9.85e-01] CXR8-DRAIN_PLEURAL_THICKENING:[CXR8-DRAIN_valid/CXR8-DRAIN_PLEURAL_THICKENING/f1=0, CXR8-DRAIN_valid/CXR8-DRAIN_PLEURAL_THICKENING/roc-auc=6.74e-01, CXR8-DRAIN_valid/CXR8-DRAIN_PLEURAL_THICKENING/accuracy=9.67e-01] CXR8-DRAIN_HERNIA:[CXR8-DRAIN_valid/CXR8-DRAIN_HERNIA/f1=0, CXR8-DRAIN_valid/CXR8-DRAIN_HERNIA/roc-auc=5.41e-01, CXR8-DRAIN_valid/CXR8-DRAIN_HERNIA/accuracy=9.96e-01]\n",
      "Saving model at iteration 20.00 with best (max) score CXR8-DRAIN_PNEUMOTHORAX_slice:chest_drain_cnn_neg:pred/CXR8-DRAIN_valid/CXR8-DRAIN_PNEUMOTHORAX_slice:chest_drain_cnn_neg:pred/f1=0.106\n"
     ]
    },
    {
     "name": "stderr",
     "output_type": "stream",
     "text": [
      "metal.mmtl.trainer - INFO - Freezing ['CXR8-DRAIN_ATELECTASIS', 'CXR8-DRAIN_CARDIOMEGALY', 'CXR8-DRAIN_EFFUSION', 'CXR8-DRAIN_INFILTRATION', 'CXR8-DRAIN_MASS', 'CXR8-DRAIN_NODULE', 'CXR8-DRAIN_PNEUMONIA', 'CXR8-DRAIN_PNEUMOTHORAX', 'CXR8-DRAIN_CONSOLIDATION', 'CXR8-DRAIN_EDEMA', 'CXR8-DRAIN_EMPHYSEMA', 'CXR8-DRAIN_FIBROSIS', 'CXR8-DRAIN_PLEURAL_THICKENING', 'CXR8-DRAIN_HERNIA'] heads\n",
      "metal.mmtl.trainer - INFO - Training tasks {'CXR8-DRAIN_PNEUMOTHORAX_slice:chest_drain_cnn_neg:pred': 'CXR8-DRAIN_PNEUMOTHORAX_slice:chest_drain_cnn_neg:pred'}\n",
      "root - INFO - Summary name CXR8-DRAIN_PNEUMOTHORAX_slice:chest_drain_cnn_neg:pred/CXR8-DRAIN_train/CXR8-DRAIN_PNEUMOTHORAX_slice:chest_drain_cnn_neg:pred/loss is illegal; using CXR8-DRAIN_PNEUMOTHORAX_slice_chest_drain_cnn_neg_pred/CXR8-DRAIN_train/CXR8-DRAIN_PNEUMOTHORAX_slice_chest_drain_cnn_neg_pred/loss instead.\n",
      "root - INFO - Summary name CXR8-DRAIN_PNEUMOTHORAX_slice:chest_drain_cnn_neg:pred/CXR8-DRAIN_valid/CXR8-DRAIN_PNEUMOTHORAX_slice:chest_drain_cnn_neg:pred/f1 is illegal; using CXR8-DRAIN_PNEUMOTHORAX_slice_chest_drain_cnn_neg_pred/CXR8-DRAIN_valid/CXR8-DRAIN_PNEUMOTHORAX_slice_chest_drain_cnn_neg_pred/f1 instead.\n",
      "root - INFO - Summary name CXR8-DRAIN_PNEUMOTHORAX_slice:chest_drain_cnn_neg:pred/CXR8-DRAIN_valid/CXR8-DRAIN_PNEUMOTHORAX_slice:chest_drain_cnn_neg:pred/roc-auc is illegal; using CXR8-DRAIN_PNEUMOTHORAX_slice_chest_drain_cnn_neg_pred/CXR8-DRAIN_valid/CXR8-DRAIN_PNEUMOTHORAX_slice_chest_drain_cnn_neg_pred/roc-auc instead.\n",
      "root - INFO - Summary name CXR8-DRAIN_PNEUMOTHORAX_slice:chest_drain_cnn_neg:pred/CXR8-DRAIN_valid/CXR8-DRAIN_PNEUMOTHORAX_slice:chest_drain_cnn_neg:pred/accuracy is illegal; using CXR8-DRAIN_PNEUMOTHORAX_slice_chest_drain_cnn_neg_pred/CXR8-DRAIN_valid/CXR8-DRAIN_PNEUMOTHORAX_slice_chest_drain_cnn_neg_pred/accuracy instead.\n"
     ]
    },
    {
     "name": "stdout",
     "output_type": "stream",
     "text": [
      "[21.0 epo]: CXR8-DRAIN_PNEUMOTHORAX_slice:chest_drain_cnn_neg:pred:[CXR8-DRAIN_train/CXR8-DRAIN_PNEUMOTHORAX_slice:chest_drain_cnn_neg:pred/loss=4.19e-02, CXR8-DRAIN_valid/CXR8-DRAIN_PNEUMOTHORAX_slice:chest_drain_cnn_neg:pred/f1=9.95e-02, CXR8-DRAIN_valid/CXR8-DRAIN_PNEUMOTHORAX_slice:chest_drain_cnn_neg:pred/roc-auc=6.99e-01, CXR8-DRAIN_valid/CXR8-DRAIN_PNEUMOTHORAX_slice:chest_drain_cnn_neg:pred/accuracy=8.81e-01] model:[train/all/loss=4.19e-02, train/all/lr=5.80e-05, valid/all/loss=3.06e-01] CXR8-DRAIN_ATELECTASIS:[CXR8-DRAIN_valid/CXR8-DRAIN_ATELECTASIS/f1=0, CXR8-DRAIN_valid/CXR8-DRAIN_ATELECTASIS/roc-auc=6.20e-01, CXR8-DRAIN_valid/CXR8-DRAIN_ATELECTASIS/accuracy=9.01e-01] CXR8-DRAIN_CARDIOMEGALY:[CXR8-DRAIN_valid/CXR8-DRAIN_CARDIOMEGALY/f1=0, CXR8-DRAIN_valid/CXR8-DRAIN_CARDIOMEGALY/roc-auc=6.69e-01, CXR8-DRAIN_valid/CXR8-DRAIN_CARDIOMEGALY/accuracy=9.78e-01] CXR8-DRAIN_EFFUSION:[CXR8-DRAIN_valid/CXR8-DRAIN_EFFUSION/f1=0, CXR8-DRAIN_valid/CXR8-DRAIN_EFFUSION/roc-auc=6.73e-01, CXR8-DRAIN_valid/CXR8-DRAIN_EFFUSION/accuracy=8.84e-01] CXR8-DRAIN_INFILTRATION:[CXR8-DRAIN_valid/CXR8-DRAIN_INFILTRATION/f1=0, CXR8-DRAIN_valid/CXR8-DRAIN_INFILTRATION/roc-auc=6.16e-01, CXR8-DRAIN_valid/CXR8-DRAIN_INFILTRATION/accuracy=8.21e-01] CXR8-DRAIN_MASS:[CXR8-DRAIN_valid/CXR8-DRAIN_MASS/f1=0, CXR8-DRAIN_valid/CXR8-DRAIN_MASS/roc-auc=6.85e-01, CXR8-DRAIN_valid/CXR8-DRAIN_MASS/accuracy=9.43e-01] CXR8-DRAIN_NODULE:[CXR8-DRAIN_valid/CXR8-DRAIN_NODULE/f1=0, CXR8-DRAIN_valid/CXR8-DRAIN_NODULE/roc-auc=6.25e-01, CXR8-DRAIN_valid/CXR8-DRAIN_NODULE/accuracy=9.44e-01] CXR8-DRAIN_PNEUMONIA:[CXR8-DRAIN_valid/CXR8-DRAIN_PNEUMONIA/f1=0, CXR8-DRAIN_valid/CXR8-DRAIN_PNEUMONIA/roc-auc=5.66e-01, CXR8-DRAIN_valid/CXR8-DRAIN_PNEUMONIA/accuracy=9.88e-01] CXR8-DRAIN_PNEUMOTHORAX:[CXR8-DRAIN_valid/CXR8-DRAIN_PNEUMOTHORAX/f1=2.98e-01, CXR8-DRAIN_valid/CXR8-DRAIN_PNEUMOTHORAX/roc-auc=7.91e-01, CXR8-DRAIN_valid/CXR8-DRAIN_PNEUMOTHORAX/accuracy=8.92e-01] CXR8-DRAIN_CONSOLIDATION:[CXR8-DRAIN_valid/CXR8-DRAIN_CONSOLIDATION/f1=0, CXR8-DRAIN_valid/CXR8-DRAIN_CONSOLIDATION/roc-auc=5.92e-01, CXR8-DRAIN_valid/CXR8-DRAIN_CONSOLIDATION/accuracy=9.61e-01] CXR8-DRAIN_EDEMA:[CXR8-DRAIN_valid/CXR8-DRAIN_EDEMA/f1=0, CXR8-DRAIN_valid/CXR8-DRAIN_EDEMA/roc-auc=7.24e-01, CXR8-DRAIN_valid/CXR8-DRAIN_EDEMA/accuracy=9.82e-01] CXR8-DRAIN_EMPHYSEMA:[CXR8-DRAIN_valid/CXR8-DRAIN_EMPHYSEMA/f1=0, CXR8-DRAIN_valid/CXR8-DRAIN_EMPHYSEMA/roc-auc=7.86e-01, CXR8-DRAIN_valid/CXR8-DRAIN_EMPHYSEMA/accuracy=9.80e-01] CXR8-DRAIN_FIBROSIS:[CXR8-DRAIN_valid/CXR8-DRAIN_FIBROSIS/f1=0, CXR8-DRAIN_valid/CXR8-DRAIN_FIBROSIS/roc-auc=6.60e-01, CXR8-DRAIN_valid/CXR8-DRAIN_FIBROSIS/accuracy=9.85e-01] CXR8-DRAIN_PLEURAL_THICKENING:[CXR8-DRAIN_valid/CXR8-DRAIN_PLEURAL_THICKENING/f1=0, CXR8-DRAIN_valid/CXR8-DRAIN_PLEURAL_THICKENING/roc-auc=6.75e-01, CXR8-DRAIN_valid/CXR8-DRAIN_PLEURAL_THICKENING/accuracy=9.67e-01] CXR8-DRAIN_HERNIA:[CXR8-DRAIN_valid/CXR8-DRAIN_HERNIA/f1=0, CXR8-DRAIN_valid/CXR8-DRAIN_HERNIA/roc-auc=7.08e-01, CXR8-DRAIN_valid/CXR8-DRAIN_HERNIA/accuracy=9.96e-01]\n"
     ]
    },
    {
     "name": "stderr",
     "output_type": "stream",
     "text": [
      "metal.mmtl.trainer - INFO - Freezing ['CXR8-DRAIN_ATELECTASIS', 'CXR8-DRAIN_CARDIOMEGALY', 'CXR8-DRAIN_EFFUSION', 'CXR8-DRAIN_INFILTRATION', 'CXR8-DRAIN_MASS', 'CXR8-DRAIN_NODULE', 'CXR8-DRAIN_PNEUMONIA', 'CXR8-DRAIN_PNEUMOTHORAX', 'CXR8-DRAIN_CONSOLIDATION', 'CXR8-DRAIN_EDEMA', 'CXR8-DRAIN_EMPHYSEMA', 'CXR8-DRAIN_FIBROSIS', 'CXR8-DRAIN_PLEURAL_THICKENING', 'CXR8-DRAIN_HERNIA'] heads\n",
      "metal.mmtl.trainer - INFO - Training tasks {'CXR8-DRAIN_PNEUMOTHORAX_slice:chest_drain_cnn_neg:pred': 'CXR8-DRAIN_PNEUMOTHORAX_slice:chest_drain_cnn_neg:pred'}\n",
      "root - INFO - Summary name CXR8-DRAIN_PNEUMOTHORAX_slice:chest_drain_cnn_neg:pred/CXR8-DRAIN_train/CXR8-DRAIN_PNEUMOTHORAX_slice:chest_drain_cnn_neg:pred/loss is illegal; using CXR8-DRAIN_PNEUMOTHORAX_slice_chest_drain_cnn_neg_pred/CXR8-DRAIN_train/CXR8-DRAIN_PNEUMOTHORAX_slice_chest_drain_cnn_neg_pred/loss instead.\n",
      "root - INFO - Summary name CXR8-DRAIN_PNEUMOTHORAX_slice:chest_drain_cnn_neg:pred/CXR8-DRAIN_valid/CXR8-DRAIN_PNEUMOTHORAX_slice:chest_drain_cnn_neg:pred/f1 is illegal; using CXR8-DRAIN_PNEUMOTHORAX_slice_chest_drain_cnn_neg_pred/CXR8-DRAIN_valid/CXR8-DRAIN_PNEUMOTHORAX_slice_chest_drain_cnn_neg_pred/f1 instead.\n",
      "root - INFO - Summary name CXR8-DRAIN_PNEUMOTHORAX_slice:chest_drain_cnn_neg:pred/CXR8-DRAIN_valid/CXR8-DRAIN_PNEUMOTHORAX_slice:chest_drain_cnn_neg:pred/roc-auc is illegal; using CXR8-DRAIN_PNEUMOTHORAX_slice_chest_drain_cnn_neg_pred/CXR8-DRAIN_valid/CXR8-DRAIN_PNEUMOTHORAX_slice_chest_drain_cnn_neg_pred/roc-auc instead.\n",
      "root - INFO - Summary name CXR8-DRAIN_PNEUMOTHORAX_slice:chest_drain_cnn_neg:pred/CXR8-DRAIN_valid/CXR8-DRAIN_PNEUMOTHORAX_slice:chest_drain_cnn_neg:pred/accuracy is illegal; using CXR8-DRAIN_PNEUMOTHORAX_slice_chest_drain_cnn_neg_pred/CXR8-DRAIN_valid/CXR8-DRAIN_PNEUMOTHORAX_slice_chest_drain_cnn_neg_pred/accuracy instead.\n"
     ]
    },
    {
     "name": "stdout",
     "output_type": "stream",
     "text": [
      "[22.0 epo]: CXR8-DRAIN_PNEUMOTHORAX_slice:chest_drain_cnn_neg:pred:[CXR8-DRAIN_train/CXR8-DRAIN_PNEUMOTHORAX_slice:chest_drain_cnn_neg:pred/loss=5.15e-02, CXR8-DRAIN_valid/CXR8-DRAIN_PNEUMOTHORAX_slice:chest_drain_cnn_neg:pred/f1=1.02e-01, CXR8-DRAIN_valid/CXR8-DRAIN_PNEUMOTHORAX_slice:chest_drain_cnn_neg:pred/roc-auc=6.94e-01, CXR8-DRAIN_valid/CXR8-DRAIN_PNEUMOTHORAX_slice:chest_drain_cnn_neg:pred/accuracy=8.84e-01] model:[train/all/loss=5.15e-02, train/all/lr=5.60e-05, valid/all/loss=3.08e-01] CXR8-DRAIN_ATELECTASIS:[CXR8-DRAIN_valid/CXR8-DRAIN_ATELECTASIS/f1=0, CXR8-DRAIN_valid/CXR8-DRAIN_ATELECTASIS/roc-auc=5.94e-01, CXR8-DRAIN_valid/CXR8-DRAIN_ATELECTASIS/accuracy=9.01e-01] CXR8-DRAIN_CARDIOMEGALY:[CXR8-DRAIN_valid/CXR8-DRAIN_CARDIOMEGALY/f1=0, CXR8-DRAIN_valid/CXR8-DRAIN_CARDIOMEGALY/roc-auc=5.19e-01, CXR8-DRAIN_valid/CXR8-DRAIN_CARDIOMEGALY/accuracy=9.78e-01] CXR8-DRAIN_EFFUSION:[CXR8-DRAIN_valid/CXR8-DRAIN_EFFUSION/f1=0, CXR8-DRAIN_valid/CXR8-DRAIN_EFFUSION/roc-auc=6.65e-01, CXR8-DRAIN_valid/CXR8-DRAIN_EFFUSION/accuracy=8.84e-01] CXR8-DRAIN_INFILTRATION:[CXR8-DRAIN_valid/CXR8-DRAIN_INFILTRATION/f1=0, CXR8-DRAIN_valid/CXR8-DRAIN_INFILTRATION/roc-auc=5.88e-01, CXR8-DRAIN_valid/CXR8-DRAIN_INFILTRATION/accuracy=8.21e-01] CXR8-DRAIN_MASS:[CXR8-DRAIN_valid/CXR8-DRAIN_MASS/f1=0, CXR8-DRAIN_valid/CXR8-DRAIN_MASS/roc-auc=6.15e-01, CXR8-DRAIN_valid/CXR8-DRAIN_MASS/accuracy=9.43e-01] CXR8-DRAIN_NODULE:[CXR8-DRAIN_valid/CXR8-DRAIN_NODULE/f1=0, CXR8-DRAIN_valid/CXR8-DRAIN_NODULE/roc-auc=6.04e-01, CXR8-DRAIN_valid/CXR8-DRAIN_NODULE/accuracy=9.44e-01] CXR8-DRAIN_PNEUMONIA:[CXR8-DRAIN_valid/CXR8-DRAIN_PNEUMONIA/f1=0, CXR8-DRAIN_valid/CXR8-DRAIN_PNEUMONIA/roc-auc=5.21e-01, CXR8-DRAIN_valid/CXR8-DRAIN_PNEUMONIA/accuracy=9.88e-01] CXR8-DRAIN_PNEUMOTHORAX:[CXR8-DRAIN_valid/CXR8-DRAIN_PNEUMOTHORAX/f1=2.94e-01, CXR8-DRAIN_valid/CXR8-DRAIN_PNEUMOTHORAX/roc-auc=7.94e-01, CXR8-DRAIN_valid/CXR8-DRAIN_PNEUMOTHORAX/accuracy=8.93e-01] CXR8-DRAIN_CONSOLIDATION:[CXR8-DRAIN_valid/CXR8-DRAIN_CONSOLIDATION/f1=0, CXR8-DRAIN_valid/CXR8-DRAIN_CONSOLIDATION/roc-auc=5.85e-01, CXR8-DRAIN_valid/CXR8-DRAIN_CONSOLIDATION/accuracy=9.61e-01] CXR8-DRAIN_EDEMA:[CXR8-DRAIN_valid/CXR8-DRAIN_EDEMA/f1=0, CXR8-DRAIN_valid/CXR8-DRAIN_EDEMA/roc-auc=5.80e-01, CXR8-DRAIN_valid/CXR8-DRAIN_EDEMA/accuracy=9.82e-01] CXR8-DRAIN_EMPHYSEMA:[CXR8-DRAIN_valid/CXR8-DRAIN_EMPHYSEMA/f1=0, CXR8-DRAIN_valid/CXR8-DRAIN_EMPHYSEMA/roc-auc=7.84e-01, CXR8-DRAIN_valid/CXR8-DRAIN_EMPHYSEMA/accuracy=9.80e-01] CXR8-DRAIN_FIBROSIS:[CXR8-DRAIN_valid/CXR8-DRAIN_FIBROSIS/f1=0, CXR8-DRAIN_valid/CXR8-DRAIN_FIBROSIS/roc-auc=5.84e-01, CXR8-DRAIN_valid/CXR8-DRAIN_FIBROSIS/accuracy=9.85e-01] CXR8-DRAIN_PLEURAL_THICKENING:[CXR8-DRAIN_valid/CXR8-DRAIN_PLEURAL_THICKENING/f1=0, CXR8-DRAIN_valid/CXR8-DRAIN_PLEURAL_THICKENING/roc-auc=6.54e-01, CXR8-DRAIN_valid/CXR8-DRAIN_PLEURAL_THICKENING/accuracy=9.67e-01] CXR8-DRAIN_HERNIA:[CXR8-DRAIN_valid/CXR8-DRAIN_HERNIA/f1=0, CXR8-DRAIN_valid/CXR8-DRAIN_HERNIA/roc-auc=5.93e-01, CXR8-DRAIN_valid/CXR8-DRAIN_HERNIA/accuracy=9.96e-01]\n"
     ]
    },
    {
     "name": "stderr",
     "output_type": "stream",
     "text": [
      "metal.mmtl.trainer - INFO - Freezing ['CXR8-DRAIN_ATELECTASIS', 'CXR8-DRAIN_CARDIOMEGALY', 'CXR8-DRAIN_EFFUSION', 'CXR8-DRAIN_INFILTRATION', 'CXR8-DRAIN_MASS', 'CXR8-DRAIN_NODULE', 'CXR8-DRAIN_PNEUMONIA', 'CXR8-DRAIN_PNEUMOTHORAX', 'CXR8-DRAIN_CONSOLIDATION', 'CXR8-DRAIN_EDEMA', 'CXR8-DRAIN_EMPHYSEMA', 'CXR8-DRAIN_FIBROSIS', 'CXR8-DRAIN_PLEURAL_THICKENING', 'CXR8-DRAIN_HERNIA'] heads\n",
      "metal.mmtl.trainer - INFO - Training tasks {'CXR8-DRAIN_PNEUMOTHORAX_slice:chest_drain_cnn_neg:pred': 'CXR8-DRAIN_PNEUMOTHORAX_slice:chest_drain_cnn_neg:pred'}\n",
      "root - INFO - Summary name CXR8-DRAIN_PNEUMOTHORAX_slice:chest_drain_cnn_neg:pred/CXR8-DRAIN_train/CXR8-DRAIN_PNEUMOTHORAX_slice:chest_drain_cnn_neg:pred/loss is illegal; using CXR8-DRAIN_PNEUMOTHORAX_slice_chest_drain_cnn_neg_pred/CXR8-DRAIN_train/CXR8-DRAIN_PNEUMOTHORAX_slice_chest_drain_cnn_neg_pred/loss instead.\n",
      "root - INFO - Summary name CXR8-DRAIN_PNEUMOTHORAX_slice:chest_drain_cnn_neg:pred/CXR8-DRAIN_valid/CXR8-DRAIN_PNEUMOTHORAX_slice:chest_drain_cnn_neg:pred/f1 is illegal; using CXR8-DRAIN_PNEUMOTHORAX_slice_chest_drain_cnn_neg_pred/CXR8-DRAIN_valid/CXR8-DRAIN_PNEUMOTHORAX_slice_chest_drain_cnn_neg_pred/f1 instead.\n",
      "root - INFO - Summary name CXR8-DRAIN_PNEUMOTHORAX_slice:chest_drain_cnn_neg:pred/CXR8-DRAIN_valid/CXR8-DRAIN_PNEUMOTHORAX_slice:chest_drain_cnn_neg:pred/roc-auc is illegal; using CXR8-DRAIN_PNEUMOTHORAX_slice_chest_drain_cnn_neg_pred/CXR8-DRAIN_valid/CXR8-DRAIN_PNEUMOTHORAX_slice_chest_drain_cnn_neg_pred/roc-auc instead.\n",
      "root - INFO - Summary name CXR8-DRAIN_PNEUMOTHORAX_slice:chest_drain_cnn_neg:pred/CXR8-DRAIN_valid/CXR8-DRAIN_PNEUMOTHORAX_slice:chest_drain_cnn_neg:pred/accuracy is illegal; using CXR8-DRAIN_PNEUMOTHORAX_slice_chest_drain_cnn_neg_pred/CXR8-DRAIN_valid/CXR8-DRAIN_PNEUMOTHORAX_slice_chest_drain_cnn_neg_pred/accuracy instead.\n"
     ]
    },
    {
     "name": "stdout",
     "output_type": "stream",
     "text": [
      "[23.0 epo]: CXR8-DRAIN_PNEUMOTHORAX_slice:chest_drain_cnn_neg:pred:[CXR8-DRAIN_train/CXR8-DRAIN_PNEUMOTHORAX_slice:chest_drain_cnn_neg:pred/loss=4.38e-02, CXR8-DRAIN_valid/CXR8-DRAIN_PNEUMOTHORAX_slice:chest_drain_cnn_neg:pred/f1=1.07e-01, CXR8-DRAIN_valid/CXR8-DRAIN_PNEUMOTHORAX_slice:chest_drain_cnn_neg:pred/roc-auc=7.23e-01, CXR8-DRAIN_valid/CXR8-DRAIN_PNEUMOTHORAX_slice:chest_drain_cnn_neg:pred/accuracy=8.97e-01] model:[train/all/loss=4.38e-02, train/all/lr=5.40e-05, valid/all/loss=2.90e-01] CXR8-DRAIN_ATELECTASIS:[CXR8-DRAIN_valid/CXR8-DRAIN_ATELECTASIS/f1=0, CXR8-DRAIN_valid/CXR8-DRAIN_ATELECTASIS/roc-auc=6.12e-01, CXR8-DRAIN_valid/CXR8-DRAIN_ATELECTASIS/accuracy=9.01e-01] CXR8-DRAIN_CARDIOMEGALY:[CXR8-DRAIN_valid/CXR8-DRAIN_CARDIOMEGALY/f1=0, CXR8-DRAIN_valid/CXR8-DRAIN_CARDIOMEGALY/roc-auc=6.41e-01, CXR8-DRAIN_valid/CXR8-DRAIN_CARDIOMEGALY/accuracy=9.78e-01] CXR8-DRAIN_EFFUSION:[CXR8-DRAIN_valid/CXR8-DRAIN_EFFUSION/f1=0, CXR8-DRAIN_valid/CXR8-DRAIN_EFFUSION/roc-auc=7.09e-01, CXR8-DRAIN_valid/CXR8-DRAIN_EFFUSION/accuracy=8.84e-01] CXR8-DRAIN_INFILTRATION:[CXR8-DRAIN_valid/CXR8-DRAIN_INFILTRATION/f1=0, CXR8-DRAIN_valid/CXR8-DRAIN_INFILTRATION/roc-auc=6.19e-01, CXR8-DRAIN_valid/CXR8-DRAIN_INFILTRATION/accuracy=8.21e-01] CXR8-DRAIN_MASS:[CXR8-DRAIN_valid/CXR8-DRAIN_MASS/f1=0, CXR8-DRAIN_valid/CXR8-DRAIN_MASS/roc-auc=6.91e-01, CXR8-DRAIN_valid/CXR8-DRAIN_MASS/accuracy=9.43e-01] CXR8-DRAIN_NODULE:[CXR8-DRAIN_valid/CXR8-DRAIN_NODULE/f1=0, CXR8-DRAIN_valid/CXR8-DRAIN_NODULE/roc-auc=6.14e-01, CXR8-DRAIN_valid/CXR8-DRAIN_NODULE/accuracy=9.44e-01] CXR8-DRAIN_PNEUMONIA:[CXR8-DRAIN_valid/CXR8-DRAIN_PNEUMONIA/f1=0, CXR8-DRAIN_valid/CXR8-DRAIN_PNEUMONIA/roc-auc=5.68e-01, CXR8-DRAIN_valid/CXR8-DRAIN_PNEUMONIA/accuracy=9.88e-01] CXR8-DRAIN_PNEUMOTHORAX:[CXR8-DRAIN_valid/CXR8-DRAIN_PNEUMOTHORAX/f1=3.35e-01, CXR8-DRAIN_valid/CXR8-DRAIN_PNEUMOTHORAX/roc-auc=8.16e-01, CXR8-DRAIN_valid/CXR8-DRAIN_PNEUMOTHORAX/accuracy=9.07e-01] CXR8-DRAIN_CONSOLIDATION:[CXR8-DRAIN_valid/CXR8-DRAIN_CONSOLIDATION/f1=0, CXR8-DRAIN_valid/CXR8-DRAIN_CONSOLIDATION/roc-auc=6.56e-01, CXR8-DRAIN_valid/CXR8-DRAIN_CONSOLIDATION/accuracy=9.61e-01] CXR8-DRAIN_EDEMA:[CXR8-DRAIN_valid/CXR8-DRAIN_EDEMA/f1=0, CXR8-DRAIN_valid/CXR8-DRAIN_EDEMA/roc-auc=7.17e-01, CXR8-DRAIN_valid/CXR8-DRAIN_EDEMA/accuracy=9.82e-01] CXR8-DRAIN_EMPHYSEMA:[CXR8-DRAIN_valid/CXR8-DRAIN_EMPHYSEMA/f1=0, CXR8-DRAIN_valid/CXR8-DRAIN_EMPHYSEMA/roc-auc=7.88e-01, CXR8-DRAIN_valid/CXR8-DRAIN_EMPHYSEMA/accuracy=9.80e-01] CXR8-DRAIN_FIBROSIS:[CXR8-DRAIN_valid/CXR8-DRAIN_FIBROSIS/f1=0, CXR8-DRAIN_valid/CXR8-DRAIN_FIBROSIS/roc-auc=6.19e-01, CXR8-DRAIN_valid/CXR8-DRAIN_FIBROSIS/accuracy=9.85e-01] CXR8-DRAIN_PLEURAL_THICKENING:[CXR8-DRAIN_valid/CXR8-DRAIN_PLEURAL_THICKENING/f1=0, CXR8-DRAIN_valid/CXR8-DRAIN_PLEURAL_THICKENING/roc-auc=6.56e-01, CXR8-DRAIN_valid/CXR8-DRAIN_PLEURAL_THICKENING/accuracy=9.67e-01] CXR8-DRAIN_HERNIA:[CXR8-DRAIN_valid/CXR8-DRAIN_HERNIA/f1=0, CXR8-DRAIN_valid/CXR8-DRAIN_HERNIA/roc-auc=6.75e-01, CXR8-DRAIN_valid/CXR8-DRAIN_HERNIA/accuracy=9.96e-01]\n",
      "Saving model at iteration 23.00 with best (max) score CXR8-DRAIN_PNEUMOTHORAX_slice:chest_drain_cnn_neg:pred/CXR8-DRAIN_valid/CXR8-DRAIN_PNEUMOTHORAX_slice:chest_drain_cnn_neg:pred/f1=0.107\n"
     ]
    },
    {
     "name": "stderr",
     "output_type": "stream",
     "text": [
      "metal.mmtl.trainer - INFO - Freezing ['CXR8-DRAIN_ATELECTASIS', 'CXR8-DRAIN_CARDIOMEGALY', 'CXR8-DRAIN_EFFUSION', 'CXR8-DRAIN_INFILTRATION', 'CXR8-DRAIN_MASS', 'CXR8-DRAIN_NODULE', 'CXR8-DRAIN_PNEUMONIA', 'CXR8-DRAIN_PNEUMOTHORAX', 'CXR8-DRAIN_CONSOLIDATION', 'CXR8-DRAIN_EDEMA', 'CXR8-DRAIN_EMPHYSEMA', 'CXR8-DRAIN_FIBROSIS', 'CXR8-DRAIN_PLEURAL_THICKENING', 'CXR8-DRAIN_HERNIA'] heads\n",
      "metal.mmtl.trainer - INFO - Training tasks {'CXR8-DRAIN_PNEUMOTHORAX_slice:chest_drain_cnn_neg:pred': 'CXR8-DRAIN_PNEUMOTHORAX_slice:chest_drain_cnn_neg:pred'}\n",
      "root - INFO - Summary name CXR8-DRAIN_PNEUMOTHORAX_slice:chest_drain_cnn_neg:pred/CXR8-DRAIN_train/CXR8-DRAIN_PNEUMOTHORAX_slice:chest_drain_cnn_neg:pred/loss is illegal; using CXR8-DRAIN_PNEUMOTHORAX_slice_chest_drain_cnn_neg_pred/CXR8-DRAIN_train/CXR8-DRAIN_PNEUMOTHORAX_slice_chest_drain_cnn_neg_pred/loss instead.\n",
      "root - INFO - Summary name CXR8-DRAIN_PNEUMOTHORAX_slice:chest_drain_cnn_neg:pred/CXR8-DRAIN_valid/CXR8-DRAIN_PNEUMOTHORAX_slice:chest_drain_cnn_neg:pred/f1 is illegal; using CXR8-DRAIN_PNEUMOTHORAX_slice_chest_drain_cnn_neg_pred/CXR8-DRAIN_valid/CXR8-DRAIN_PNEUMOTHORAX_slice_chest_drain_cnn_neg_pred/f1 instead.\n",
      "root - INFO - Summary name CXR8-DRAIN_PNEUMOTHORAX_slice:chest_drain_cnn_neg:pred/CXR8-DRAIN_valid/CXR8-DRAIN_PNEUMOTHORAX_slice:chest_drain_cnn_neg:pred/roc-auc is illegal; using CXR8-DRAIN_PNEUMOTHORAX_slice_chest_drain_cnn_neg_pred/CXR8-DRAIN_valid/CXR8-DRAIN_PNEUMOTHORAX_slice_chest_drain_cnn_neg_pred/roc-auc instead.\n",
      "root - INFO - Summary name CXR8-DRAIN_PNEUMOTHORAX_slice:chest_drain_cnn_neg:pred/CXR8-DRAIN_valid/CXR8-DRAIN_PNEUMOTHORAX_slice:chest_drain_cnn_neg:pred/accuracy is illegal; using CXR8-DRAIN_PNEUMOTHORAX_slice_chest_drain_cnn_neg_pred/CXR8-DRAIN_valid/CXR8-DRAIN_PNEUMOTHORAX_slice_chest_drain_cnn_neg_pred/accuracy instead.\n"
     ]
    },
    {
     "name": "stdout",
     "output_type": "stream",
     "text": [
      "[24.0 epo]: CXR8-DRAIN_PNEUMOTHORAX_slice:chest_drain_cnn_neg:pred:[CXR8-DRAIN_train/CXR8-DRAIN_PNEUMOTHORAX_slice:chest_drain_cnn_neg:pred/loss=3.88e-02, CXR8-DRAIN_valid/CXR8-DRAIN_PNEUMOTHORAX_slice:chest_drain_cnn_neg:pred/f1=1.13e-01, CXR8-DRAIN_valid/CXR8-DRAIN_PNEUMOTHORAX_slice:chest_drain_cnn_neg:pred/roc-auc=7.20e-01, CXR8-DRAIN_valid/CXR8-DRAIN_PNEUMOTHORAX_slice:chest_drain_cnn_neg:pred/accuracy=8.94e-01] model:[train/all/loss=3.88e-02, train/all/lr=5.20e-05, valid/all/loss=2.84e-01] CXR8-DRAIN_ATELECTASIS:[CXR8-DRAIN_valid/CXR8-DRAIN_ATELECTASIS/f1=0, CXR8-DRAIN_valid/CXR8-DRAIN_ATELECTASIS/roc-auc=6.37e-01, CXR8-DRAIN_valid/CXR8-DRAIN_ATELECTASIS/accuracy=9.01e-01] CXR8-DRAIN_CARDIOMEGALY:[CXR8-DRAIN_valid/CXR8-DRAIN_CARDIOMEGALY/f1=0, CXR8-DRAIN_valid/CXR8-DRAIN_CARDIOMEGALY/roc-auc=6.29e-01, CXR8-DRAIN_valid/CXR8-DRAIN_CARDIOMEGALY/accuracy=9.78e-01] CXR8-DRAIN_EFFUSION:[CXR8-DRAIN_valid/CXR8-DRAIN_EFFUSION/f1=0, CXR8-DRAIN_valid/CXR8-DRAIN_EFFUSION/roc-auc=6.97e-01, CXR8-DRAIN_valid/CXR8-DRAIN_EFFUSION/accuracy=8.84e-01] CXR8-DRAIN_INFILTRATION:[CXR8-DRAIN_valid/CXR8-DRAIN_INFILTRATION/f1=0, CXR8-DRAIN_valid/CXR8-DRAIN_INFILTRATION/roc-auc=6.13e-01, CXR8-DRAIN_valid/CXR8-DRAIN_INFILTRATION/accuracy=8.21e-01] CXR8-DRAIN_MASS:[CXR8-DRAIN_valid/CXR8-DRAIN_MASS/f1=0, CXR8-DRAIN_valid/CXR8-DRAIN_MASS/roc-auc=6.60e-01, CXR8-DRAIN_valid/CXR8-DRAIN_MASS/accuracy=9.43e-01] CXR8-DRAIN_NODULE:[CXR8-DRAIN_valid/CXR8-DRAIN_NODULE/f1=0, CXR8-DRAIN_valid/CXR8-DRAIN_NODULE/roc-auc=5.99e-01, CXR8-DRAIN_valid/CXR8-DRAIN_NODULE/accuracy=9.44e-01] CXR8-DRAIN_PNEUMONIA:[CXR8-DRAIN_valid/CXR8-DRAIN_PNEUMONIA/f1=0, CXR8-DRAIN_valid/CXR8-DRAIN_PNEUMONIA/roc-auc=5.27e-01, CXR8-DRAIN_valid/CXR8-DRAIN_PNEUMONIA/accuracy=9.88e-01] CXR8-DRAIN_PNEUMOTHORAX:[CXR8-DRAIN_valid/CXR8-DRAIN_PNEUMOTHORAX/f1=3.55e-01, CXR8-DRAIN_valid/CXR8-DRAIN_PNEUMOTHORAX/roc-auc=8.26e-01, CXR8-DRAIN_valid/CXR8-DRAIN_PNEUMOTHORAX/accuracy=9.05e-01] CXR8-DRAIN_CONSOLIDATION:[CXR8-DRAIN_valid/CXR8-DRAIN_CONSOLIDATION/f1=0, CXR8-DRAIN_valid/CXR8-DRAIN_CONSOLIDATION/roc-auc=5.84e-01, CXR8-DRAIN_valid/CXR8-DRAIN_CONSOLIDATION/accuracy=9.61e-01] CXR8-DRAIN_EDEMA:[CXR8-DRAIN_valid/CXR8-DRAIN_EDEMA/f1=0, CXR8-DRAIN_valid/CXR8-DRAIN_EDEMA/roc-auc=6.74e-01, CXR8-DRAIN_valid/CXR8-DRAIN_EDEMA/accuracy=9.82e-01] CXR8-DRAIN_EMPHYSEMA:[CXR8-DRAIN_valid/CXR8-DRAIN_EMPHYSEMA/f1=0, CXR8-DRAIN_valid/CXR8-DRAIN_EMPHYSEMA/roc-auc=8.07e-01, CXR8-DRAIN_valid/CXR8-DRAIN_EMPHYSEMA/accuracy=9.80e-01] CXR8-DRAIN_FIBROSIS:[CXR8-DRAIN_valid/CXR8-DRAIN_FIBROSIS/f1=0, CXR8-DRAIN_valid/CXR8-DRAIN_FIBROSIS/roc-auc=6.07e-01, CXR8-DRAIN_valid/CXR8-DRAIN_FIBROSIS/accuracy=9.85e-01] CXR8-DRAIN_PLEURAL_THICKENING:[CXR8-DRAIN_valid/CXR8-DRAIN_PLEURAL_THICKENING/f1=0, CXR8-DRAIN_valid/CXR8-DRAIN_PLEURAL_THICKENING/roc-auc=6.33e-01, CXR8-DRAIN_valid/CXR8-DRAIN_PLEURAL_THICKENING/accuracy=9.67e-01] CXR8-DRAIN_HERNIA:[CXR8-DRAIN_valid/CXR8-DRAIN_HERNIA/f1=0, CXR8-DRAIN_valid/CXR8-DRAIN_HERNIA/roc-auc=6.73e-01, CXR8-DRAIN_valid/CXR8-DRAIN_HERNIA/accuracy=9.96e-01]\n",
      "Saving model at iteration 24.00 with best (max) score CXR8-DRAIN_PNEUMOTHORAX_slice:chest_drain_cnn_neg:pred/CXR8-DRAIN_valid/CXR8-DRAIN_PNEUMOTHORAX_slice:chest_drain_cnn_neg:pred/f1=0.113\n"
     ]
    },
    {
     "name": "stderr",
     "output_type": "stream",
     "text": [
      "metal.mmtl.trainer - INFO - Freezing ['CXR8-DRAIN_ATELECTASIS', 'CXR8-DRAIN_CARDIOMEGALY', 'CXR8-DRAIN_EFFUSION', 'CXR8-DRAIN_INFILTRATION', 'CXR8-DRAIN_MASS', 'CXR8-DRAIN_NODULE', 'CXR8-DRAIN_PNEUMONIA', 'CXR8-DRAIN_PNEUMOTHORAX', 'CXR8-DRAIN_CONSOLIDATION', 'CXR8-DRAIN_EDEMA', 'CXR8-DRAIN_EMPHYSEMA', 'CXR8-DRAIN_FIBROSIS', 'CXR8-DRAIN_PLEURAL_THICKENING', 'CXR8-DRAIN_HERNIA'] heads\n",
      "metal.mmtl.trainer - INFO - Training tasks {'CXR8-DRAIN_PNEUMOTHORAX_slice:chest_drain_cnn_neg:pred': 'CXR8-DRAIN_PNEUMOTHORAX_slice:chest_drain_cnn_neg:pred'}\n",
      "root - INFO - Summary name CXR8-DRAIN_PNEUMOTHORAX_slice:chest_drain_cnn_neg:pred/CXR8-DRAIN_train/CXR8-DRAIN_PNEUMOTHORAX_slice:chest_drain_cnn_neg:pred/loss is illegal; using CXR8-DRAIN_PNEUMOTHORAX_slice_chest_drain_cnn_neg_pred/CXR8-DRAIN_train/CXR8-DRAIN_PNEUMOTHORAX_slice_chest_drain_cnn_neg_pred/loss instead.\n",
      "root - INFO - Summary name CXR8-DRAIN_PNEUMOTHORAX_slice:chest_drain_cnn_neg:pred/CXR8-DRAIN_valid/CXR8-DRAIN_PNEUMOTHORAX_slice:chest_drain_cnn_neg:pred/f1 is illegal; using CXR8-DRAIN_PNEUMOTHORAX_slice_chest_drain_cnn_neg_pred/CXR8-DRAIN_valid/CXR8-DRAIN_PNEUMOTHORAX_slice_chest_drain_cnn_neg_pred/f1 instead.\n",
      "root - INFO - Summary name CXR8-DRAIN_PNEUMOTHORAX_slice:chest_drain_cnn_neg:pred/CXR8-DRAIN_valid/CXR8-DRAIN_PNEUMOTHORAX_slice:chest_drain_cnn_neg:pred/roc-auc is illegal; using CXR8-DRAIN_PNEUMOTHORAX_slice_chest_drain_cnn_neg_pred/CXR8-DRAIN_valid/CXR8-DRAIN_PNEUMOTHORAX_slice_chest_drain_cnn_neg_pred/roc-auc instead.\n",
      "root - INFO - Summary name CXR8-DRAIN_PNEUMOTHORAX_slice:chest_drain_cnn_neg:pred/CXR8-DRAIN_valid/CXR8-DRAIN_PNEUMOTHORAX_slice:chest_drain_cnn_neg:pred/accuracy is illegal; using CXR8-DRAIN_PNEUMOTHORAX_slice_chest_drain_cnn_neg_pred/CXR8-DRAIN_valid/CXR8-DRAIN_PNEUMOTHORAX_slice_chest_drain_cnn_neg_pred/accuracy instead.\n"
     ]
    },
    {
     "name": "stdout",
     "output_type": "stream",
     "text": [
      "[25.0 epo]: CXR8-DRAIN_PNEUMOTHORAX_slice:chest_drain_cnn_neg:pred:[CXR8-DRAIN_train/CXR8-DRAIN_PNEUMOTHORAX_slice:chest_drain_cnn_neg:pred/loss=3.83e-02, CXR8-DRAIN_valid/CXR8-DRAIN_PNEUMOTHORAX_slice:chest_drain_cnn_neg:pred/f1=1.11e-01, CXR8-DRAIN_valid/CXR8-DRAIN_PNEUMOTHORAX_slice:chest_drain_cnn_neg:pred/roc-auc=7.29e-01, CXR8-DRAIN_valid/CXR8-DRAIN_PNEUMOTHORAX_slice:chest_drain_cnn_neg:pred/accuracy=8.77e-01] model:[train/all/loss=3.83e-02, train/all/lr=5.00e-05, valid/all/loss=2.82e-01] CXR8-DRAIN_ATELECTASIS:[CXR8-DRAIN_valid/CXR8-DRAIN_ATELECTASIS/f1=0, CXR8-DRAIN_valid/CXR8-DRAIN_ATELECTASIS/roc-auc=6.09e-01, CXR8-DRAIN_valid/CXR8-DRAIN_ATELECTASIS/accuracy=9.01e-01] CXR8-DRAIN_CARDIOMEGALY:[CXR8-DRAIN_valid/CXR8-DRAIN_CARDIOMEGALY/f1=0, CXR8-DRAIN_valid/CXR8-DRAIN_CARDIOMEGALY/roc-auc=5.41e-01, CXR8-DRAIN_valid/CXR8-DRAIN_CARDIOMEGALY/accuracy=9.78e-01] CXR8-DRAIN_EFFUSION:[CXR8-DRAIN_valid/CXR8-DRAIN_EFFUSION/f1=0, CXR8-DRAIN_valid/CXR8-DRAIN_EFFUSION/roc-auc=6.94e-01, CXR8-DRAIN_valid/CXR8-DRAIN_EFFUSION/accuracy=8.84e-01] CXR8-DRAIN_INFILTRATION:[CXR8-DRAIN_valid/CXR8-DRAIN_INFILTRATION/f1=0, CXR8-DRAIN_valid/CXR8-DRAIN_INFILTRATION/roc-auc=5.78e-01, CXR8-DRAIN_valid/CXR8-DRAIN_INFILTRATION/accuracy=8.21e-01] CXR8-DRAIN_MASS:[CXR8-DRAIN_valid/CXR8-DRAIN_MASS/f1=0, CXR8-DRAIN_valid/CXR8-DRAIN_MASS/roc-auc=6.85e-01, CXR8-DRAIN_valid/CXR8-DRAIN_MASS/accuracy=9.43e-01] CXR8-DRAIN_NODULE:[CXR8-DRAIN_valid/CXR8-DRAIN_NODULE/f1=0, CXR8-DRAIN_valid/CXR8-DRAIN_NODULE/roc-auc=5.72e-01, CXR8-DRAIN_valid/CXR8-DRAIN_NODULE/accuracy=9.44e-01] CXR8-DRAIN_PNEUMONIA:[CXR8-DRAIN_valid/CXR8-DRAIN_PNEUMONIA/f1=0, CXR8-DRAIN_valid/CXR8-DRAIN_PNEUMONIA/roc-auc=5.45e-01, CXR8-DRAIN_valid/CXR8-DRAIN_PNEUMONIA/accuracy=9.88e-01] CXR8-DRAIN_PNEUMOTHORAX:[CXR8-DRAIN_valid/CXR8-DRAIN_PNEUMOTHORAX/f1=3.58e-01, CXR8-DRAIN_valid/CXR8-DRAIN_PNEUMOTHORAX/roc-auc=8.36e-01, CXR8-DRAIN_valid/CXR8-DRAIN_PNEUMOTHORAX/accuracy=8.98e-01] CXR8-DRAIN_CONSOLIDATION:[CXR8-DRAIN_valid/CXR8-DRAIN_CONSOLIDATION/f1=0, CXR8-DRAIN_valid/CXR8-DRAIN_CONSOLIDATION/roc-auc=6.01e-01, CXR8-DRAIN_valid/CXR8-DRAIN_CONSOLIDATION/accuracy=9.61e-01] CXR8-DRAIN_EDEMA:[CXR8-DRAIN_valid/CXR8-DRAIN_EDEMA/f1=0, CXR8-DRAIN_valid/CXR8-DRAIN_EDEMA/roc-auc=6.20e-01, CXR8-DRAIN_valid/CXR8-DRAIN_EDEMA/accuracy=9.82e-01] CXR8-DRAIN_EMPHYSEMA:[CXR8-DRAIN_valid/CXR8-DRAIN_EMPHYSEMA/f1=0, CXR8-DRAIN_valid/CXR8-DRAIN_EMPHYSEMA/roc-auc=8.01e-01, CXR8-DRAIN_valid/CXR8-DRAIN_EMPHYSEMA/accuracy=9.80e-01] CXR8-DRAIN_FIBROSIS:[CXR8-DRAIN_valid/CXR8-DRAIN_FIBROSIS/f1=0, CXR8-DRAIN_valid/CXR8-DRAIN_FIBROSIS/roc-auc=5.92e-01, CXR8-DRAIN_valid/CXR8-DRAIN_FIBROSIS/accuracy=9.85e-01] CXR8-DRAIN_PLEURAL_THICKENING:[CXR8-DRAIN_valid/CXR8-DRAIN_PLEURAL_THICKENING/f1=0, CXR8-DRAIN_valid/CXR8-DRAIN_PLEURAL_THICKENING/roc-auc=6.36e-01, CXR8-DRAIN_valid/CXR8-DRAIN_PLEURAL_THICKENING/accuracy=9.67e-01] CXR8-DRAIN_HERNIA:[CXR8-DRAIN_valid/CXR8-DRAIN_HERNIA/f1=0, CXR8-DRAIN_valid/CXR8-DRAIN_HERNIA/roc-auc=6.19e-01, CXR8-DRAIN_valid/CXR8-DRAIN_HERNIA/accuracy=9.96e-01]\n"
     ]
    },
    {
     "name": "stderr",
     "output_type": "stream",
     "text": [
      "metal.mmtl.trainer - INFO - Freezing ['CXR8-DRAIN_ATELECTASIS', 'CXR8-DRAIN_CARDIOMEGALY', 'CXR8-DRAIN_EFFUSION', 'CXR8-DRAIN_INFILTRATION', 'CXR8-DRAIN_MASS', 'CXR8-DRAIN_NODULE', 'CXR8-DRAIN_PNEUMONIA', 'CXR8-DRAIN_PNEUMOTHORAX', 'CXR8-DRAIN_CONSOLIDATION', 'CXR8-DRAIN_EDEMA', 'CXR8-DRAIN_EMPHYSEMA', 'CXR8-DRAIN_FIBROSIS', 'CXR8-DRAIN_PLEURAL_THICKENING', 'CXR8-DRAIN_HERNIA'] heads\n",
      "metal.mmtl.trainer - INFO - Training tasks {'CXR8-DRAIN_PNEUMOTHORAX_slice:chest_drain_cnn_neg:pred': 'CXR8-DRAIN_PNEUMOTHORAX_slice:chest_drain_cnn_neg:pred'}\n",
      "root - INFO - Summary name CXR8-DRAIN_PNEUMOTHORAX_slice:chest_drain_cnn_neg:pred/CXR8-DRAIN_train/CXR8-DRAIN_PNEUMOTHORAX_slice:chest_drain_cnn_neg:pred/loss is illegal; using CXR8-DRAIN_PNEUMOTHORAX_slice_chest_drain_cnn_neg_pred/CXR8-DRAIN_train/CXR8-DRAIN_PNEUMOTHORAX_slice_chest_drain_cnn_neg_pred/loss instead.\n",
      "root - INFO - Summary name CXR8-DRAIN_PNEUMOTHORAX_slice:chest_drain_cnn_neg:pred/CXR8-DRAIN_valid/CXR8-DRAIN_PNEUMOTHORAX_slice:chest_drain_cnn_neg:pred/f1 is illegal; using CXR8-DRAIN_PNEUMOTHORAX_slice_chest_drain_cnn_neg_pred/CXR8-DRAIN_valid/CXR8-DRAIN_PNEUMOTHORAX_slice_chest_drain_cnn_neg_pred/f1 instead.\n",
      "root - INFO - Summary name CXR8-DRAIN_PNEUMOTHORAX_slice:chest_drain_cnn_neg:pred/CXR8-DRAIN_valid/CXR8-DRAIN_PNEUMOTHORAX_slice:chest_drain_cnn_neg:pred/roc-auc is illegal; using CXR8-DRAIN_PNEUMOTHORAX_slice_chest_drain_cnn_neg_pred/CXR8-DRAIN_valid/CXR8-DRAIN_PNEUMOTHORAX_slice_chest_drain_cnn_neg_pred/roc-auc instead.\n",
      "root - INFO - Summary name CXR8-DRAIN_PNEUMOTHORAX_slice:chest_drain_cnn_neg:pred/CXR8-DRAIN_valid/CXR8-DRAIN_PNEUMOTHORAX_slice:chest_drain_cnn_neg:pred/accuracy is illegal; using CXR8-DRAIN_PNEUMOTHORAX_slice_chest_drain_cnn_neg_pred/CXR8-DRAIN_valid/CXR8-DRAIN_PNEUMOTHORAX_slice_chest_drain_cnn_neg_pred/accuracy instead.\n"
     ]
    },
    {
     "name": "stdout",
     "output_type": "stream",
     "text": [
      "[26.0 epo]: CXR8-DRAIN_PNEUMOTHORAX_slice:chest_drain_cnn_neg:pred:[CXR8-DRAIN_train/CXR8-DRAIN_PNEUMOTHORAX_slice:chest_drain_cnn_neg:pred/loss=3.24e-02, CXR8-DRAIN_valid/CXR8-DRAIN_PNEUMOTHORAX_slice:chest_drain_cnn_neg:pred/f1=1.13e-01, CXR8-DRAIN_valid/CXR8-DRAIN_PNEUMOTHORAX_slice:chest_drain_cnn_neg:pred/roc-auc=7.23e-01, CXR8-DRAIN_valid/CXR8-DRAIN_PNEUMOTHORAX_slice:chest_drain_cnn_neg:pred/accuracy=9.02e-01] model:[train/all/loss=3.24e-02, train/all/lr=4.80e-05, valid/all/loss=2.73e-01] CXR8-DRAIN_ATELECTASIS:[CXR8-DRAIN_valid/CXR8-DRAIN_ATELECTASIS/f1=0, CXR8-DRAIN_valid/CXR8-DRAIN_ATELECTASIS/roc-auc=6.52e-01, CXR8-DRAIN_valid/CXR8-DRAIN_ATELECTASIS/accuracy=9.01e-01] CXR8-DRAIN_CARDIOMEGALY:[CXR8-DRAIN_valid/CXR8-DRAIN_CARDIOMEGALY/f1=0, CXR8-DRAIN_valid/CXR8-DRAIN_CARDIOMEGALY/roc-auc=6.86e-01, CXR8-DRAIN_valid/CXR8-DRAIN_CARDIOMEGALY/accuracy=9.78e-01] CXR8-DRAIN_EFFUSION:[CXR8-DRAIN_valid/CXR8-DRAIN_EFFUSION/f1=0, CXR8-DRAIN_valid/CXR8-DRAIN_EFFUSION/roc-auc=7.49e-01, CXR8-DRAIN_valid/CXR8-DRAIN_EFFUSION/accuracy=8.84e-01] CXR8-DRAIN_INFILTRATION:[CXR8-DRAIN_valid/CXR8-DRAIN_INFILTRATION/f1=0, CXR8-DRAIN_valid/CXR8-DRAIN_INFILTRATION/roc-auc=6.20e-01, CXR8-DRAIN_valid/CXR8-DRAIN_INFILTRATION/accuracy=8.21e-01] CXR8-DRAIN_MASS:[CXR8-DRAIN_valid/CXR8-DRAIN_MASS/f1=0, CXR8-DRAIN_valid/CXR8-DRAIN_MASS/roc-auc=6.92e-01, CXR8-DRAIN_valid/CXR8-DRAIN_MASS/accuracy=9.43e-01] CXR8-DRAIN_NODULE:[CXR8-DRAIN_valid/CXR8-DRAIN_NODULE/f1=0, CXR8-DRAIN_valid/CXR8-DRAIN_NODULE/roc-auc=5.98e-01, CXR8-DRAIN_valid/CXR8-DRAIN_NODULE/accuracy=9.44e-01] CXR8-DRAIN_PNEUMONIA:[CXR8-DRAIN_valid/CXR8-DRAIN_PNEUMONIA/f1=0, CXR8-DRAIN_valid/CXR8-DRAIN_PNEUMONIA/roc-auc=5.68e-01, CXR8-DRAIN_valid/CXR8-DRAIN_PNEUMONIA/accuracy=9.88e-01] CXR8-DRAIN_PNEUMOTHORAX:[CXR8-DRAIN_valid/CXR8-DRAIN_PNEUMOTHORAX/f1=3.59e-01, CXR8-DRAIN_valid/CXR8-DRAIN_PNEUMOTHORAX/roc-auc=8.25e-01, CXR8-DRAIN_valid/CXR8-DRAIN_PNEUMOTHORAX/accuracy=9.10e-01] CXR8-DRAIN_CONSOLIDATION:[CXR8-DRAIN_valid/CXR8-DRAIN_CONSOLIDATION/f1=0, CXR8-DRAIN_valid/CXR8-DRAIN_CONSOLIDATION/roc-auc=6.53e-01, CXR8-DRAIN_valid/CXR8-DRAIN_CONSOLIDATION/accuracy=9.61e-01] CXR8-DRAIN_EDEMA:[CXR8-DRAIN_valid/CXR8-DRAIN_EDEMA/f1=0, CXR8-DRAIN_valid/CXR8-DRAIN_EDEMA/roc-auc=7.30e-01, CXR8-DRAIN_valid/CXR8-DRAIN_EDEMA/accuracy=9.82e-01] CXR8-DRAIN_EMPHYSEMA:[CXR8-DRAIN_valid/CXR8-DRAIN_EMPHYSEMA/f1=0, CXR8-DRAIN_valid/CXR8-DRAIN_EMPHYSEMA/roc-auc=7.80e-01, CXR8-DRAIN_valid/CXR8-DRAIN_EMPHYSEMA/accuracy=9.80e-01] CXR8-DRAIN_FIBROSIS:[CXR8-DRAIN_valid/CXR8-DRAIN_FIBROSIS/f1=0, CXR8-DRAIN_valid/CXR8-DRAIN_FIBROSIS/roc-auc=5.94e-01, CXR8-DRAIN_valid/CXR8-DRAIN_FIBROSIS/accuracy=9.85e-01] CXR8-DRAIN_PLEURAL_THICKENING:[CXR8-DRAIN_valid/CXR8-DRAIN_PLEURAL_THICKENING/f1=0, CXR8-DRAIN_valid/CXR8-DRAIN_PLEURAL_THICKENING/roc-auc=6.61e-01, CXR8-DRAIN_valid/CXR8-DRAIN_PLEURAL_THICKENING/accuracy=9.67e-01] CXR8-DRAIN_HERNIA:[CXR8-DRAIN_valid/CXR8-DRAIN_HERNIA/f1=0, CXR8-DRAIN_valid/CXR8-DRAIN_HERNIA/roc-auc=7.06e-01, CXR8-DRAIN_valid/CXR8-DRAIN_HERNIA/accuracy=9.96e-01]\n"
     ]
    },
    {
     "name": "stderr",
     "output_type": "stream",
     "text": [
      "metal.mmtl.trainer - INFO - Freezing ['CXR8-DRAIN_ATELECTASIS', 'CXR8-DRAIN_CARDIOMEGALY', 'CXR8-DRAIN_EFFUSION', 'CXR8-DRAIN_INFILTRATION', 'CXR8-DRAIN_MASS', 'CXR8-DRAIN_NODULE', 'CXR8-DRAIN_PNEUMONIA', 'CXR8-DRAIN_PNEUMOTHORAX', 'CXR8-DRAIN_CONSOLIDATION', 'CXR8-DRAIN_EDEMA', 'CXR8-DRAIN_EMPHYSEMA', 'CXR8-DRAIN_FIBROSIS', 'CXR8-DRAIN_PLEURAL_THICKENING', 'CXR8-DRAIN_HERNIA'] heads\n",
      "metal.mmtl.trainer - INFO - Training tasks {'CXR8-DRAIN_PNEUMOTHORAX_slice:chest_drain_cnn_neg:pred': 'CXR8-DRAIN_PNEUMOTHORAX_slice:chest_drain_cnn_neg:pred'}\n",
      "root - INFO - Summary name CXR8-DRAIN_PNEUMOTHORAX_slice:chest_drain_cnn_neg:pred/CXR8-DRAIN_train/CXR8-DRAIN_PNEUMOTHORAX_slice:chest_drain_cnn_neg:pred/loss is illegal; using CXR8-DRAIN_PNEUMOTHORAX_slice_chest_drain_cnn_neg_pred/CXR8-DRAIN_train/CXR8-DRAIN_PNEUMOTHORAX_slice_chest_drain_cnn_neg_pred/loss instead.\n",
      "root - INFO - Summary name CXR8-DRAIN_PNEUMOTHORAX_slice:chest_drain_cnn_neg:pred/CXR8-DRAIN_valid/CXR8-DRAIN_PNEUMOTHORAX_slice:chest_drain_cnn_neg:pred/f1 is illegal; using CXR8-DRAIN_PNEUMOTHORAX_slice_chest_drain_cnn_neg_pred/CXR8-DRAIN_valid/CXR8-DRAIN_PNEUMOTHORAX_slice_chest_drain_cnn_neg_pred/f1 instead.\n",
      "root - INFO - Summary name CXR8-DRAIN_PNEUMOTHORAX_slice:chest_drain_cnn_neg:pred/CXR8-DRAIN_valid/CXR8-DRAIN_PNEUMOTHORAX_slice:chest_drain_cnn_neg:pred/roc-auc is illegal; using CXR8-DRAIN_PNEUMOTHORAX_slice_chest_drain_cnn_neg_pred/CXR8-DRAIN_valid/CXR8-DRAIN_PNEUMOTHORAX_slice_chest_drain_cnn_neg_pred/roc-auc instead.\n",
      "root - INFO - Summary name CXR8-DRAIN_PNEUMOTHORAX_slice:chest_drain_cnn_neg:pred/CXR8-DRAIN_valid/CXR8-DRAIN_PNEUMOTHORAX_slice:chest_drain_cnn_neg:pred/accuracy is illegal; using CXR8-DRAIN_PNEUMOTHORAX_slice_chest_drain_cnn_neg_pred/CXR8-DRAIN_valid/CXR8-DRAIN_PNEUMOTHORAX_slice_chest_drain_cnn_neg_pred/accuracy instead.\n"
     ]
    },
    {
     "name": "stdout",
     "output_type": "stream",
     "text": [
      "[27.0 epo]: CXR8-DRAIN_PNEUMOTHORAX_slice:chest_drain_cnn_neg:pred:[CXR8-DRAIN_train/CXR8-DRAIN_PNEUMOTHORAX_slice:chest_drain_cnn_neg:pred/loss=3.15e-02, CXR8-DRAIN_valid/CXR8-DRAIN_PNEUMOTHORAX_slice:chest_drain_cnn_neg:pred/f1=1.16e-01, CXR8-DRAIN_valid/CXR8-DRAIN_PNEUMOTHORAX_slice:chest_drain_cnn_neg:pred/roc-auc=7.29e-01, CXR8-DRAIN_valid/CXR8-DRAIN_PNEUMOTHORAX_slice:chest_drain_cnn_neg:pred/accuracy=9.17e-01] model:[train/all/loss=3.15e-02, train/all/lr=4.60e-05, valid/all/loss=2.75e-01] CXR8-DRAIN_ATELECTASIS:[CXR8-DRAIN_valid/CXR8-DRAIN_ATELECTASIS/f1=0, CXR8-DRAIN_valid/CXR8-DRAIN_ATELECTASIS/roc-auc=6.48e-01, CXR8-DRAIN_valid/CXR8-DRAIN_ATELECTASIS/accuracy=9.01e-01] CXR8-DRAIN_CARDIOMEGALY:[CXR8-DRAIN_valid/CXR8-DRAIN_CARDIOMEGALY/f1=0, CXR8-DRAIN_valid/CXR8-DRAIN_CARDIOMEGALY/roc-auc=5.77e-01, CXR8-DRAIN_valid/CXR8-DRAIN_CARDIOMEGALY/accuracy=9.78e-01] CXR8-DRAIN_EFFUSION:[CXR8-DRAIN_valid/CXR8-DRAIN_EFFUSION/f1=0, CXR8-DRAIN_valid/CXR8-DRAIN_EFFUSION/roc-auc=7.46e-01, CXR8-DRAIN_valid/CXR8-DRAIN_EFFUSION/accuracy=8.84e-01] CXR8-DRAIN_INFILTRATION:[CXR8-DRAIN_valid/CXR8-DRAIN_INFILTRATION/f1=0, CXR8-DRAIN_valid/CXR8-DRAIN_INFILTRATION/roc-auc=6.11e-01, CXR8-DRAIN_valid/CXR8-DRAIN_INFILTRATION/accuracy=8.21e-01] CXR8-DRAIN_MASS:[CXR8-DRAIN_valid/CXR8-DRAIN_MASS/f1=0, CXR8-DRAIN_valid/CXR8-DRAIN_MASS/roc-auc=6.70e-01, CXR8-DRAIN_valid/CXR8-DRAIN_MASS/accuracy=9.43e-01] CXR8-DRAIN_NODULE:[CXR8-DRAIN_valid/CXR8-DRAIN_NODULE/f1=0, CXR8-DRAIN_valid/CXR8-DRAIN_NODULE/roc-auc=6.10e-01, CXR8-DRAIN_valid/CXR8-DRAIN_NODULE/accuracy=9.44e-01] CXR8-DRAIN_PNEUMONIA:[CXR8-DRAIN_valid/CXR8-DRAIN_PNEUMONIA/f1=0, CXR8-DRAIN_valid/CXR8-DRAIN_PNEUMONIA/roc-auc=5.57e-01, CXR8-DRAIN_valid/CXR8-DRAIN_PNEUMONIA/accuracy=9.88e-01] CXR8-DRAIN_PNEUMOTHORAX:[CXR8-DRAIN_valid/CXR8-DRAIN_PNEUMOTHORAX/f1=3.54e-01, CXR8-DRAIN_valid/CXR8-DRAIN_PNEUMOTHORAX/roc-auc=8.26e-01, CXR8-DRAIN_valid/CXR8-DRAIN_PNEUMOTHORAX/accuracy=9.19e-01] CXR8-DRAIN_CONSOLIDATION:[CXR8-DRAIN_valid/CXR8-DRAIN_CONSOLIDATION/f1=0, CXR8-DRAIN_valid/CXR8-DRAIN_CONSOLIDATION/roc-auc=6.55e-01, CXR8-DRAIN_valid/CXR8-DRAIN_CONSOLIDATION/accuracy=9.61e-01] CXR8-DRAIN_EDEMA:[CXR8-DRAIN_valid/CXR8-DRAIN_EDEMA/f1=0, CXR8-DRAIN_valid/CXR8-DRAIN_EDEMA/roc-auc=6.92e-01, CXR8-DRAIN_valid/CXR8-DRAIN_EDEMA/accuracy=9.82e-01] CXR8-DRAIN_EMPHYSEMA:[CXR8-DRAIN_valid/CXR8-DRAIN_EMPHYSEMA/f1=0, CXR8-DRAIN_valid/CXR8-DRAIN_EMPHYSEMA/roc-auc=8.00e-01, CXR8-DRAIN_valid/CXR8-DRAIN_EMPHYSEMA/accuracy=9.80e-01] CXR8-DRAIN_FIBROSIS:[CXR8-DRAIN_valid/CXR8-DRAIN_FIBROSIS/f1=0, CXR8-DRAIN_valid/CXR8-DRAIN_FIBROSIS/roc-auc=6.17e-01, CXR8-DRAIN_valid/CXR8-DRAIN_FIBROSIS/accuracy=9.85e-01] CXR8-DRAIN_PLEURAL_THICKENING:[CXR8-DRAIN_valid/CXR8-DRAIN_PLEURAL_THICKENING/f1=0, CXR8-DRAIN_valid/CXR8-DRAIN_PLEURAL_THICKENING/roc-auc=7.01e-01, CXR8-DRAIN_valid/CXR8-DRAIN_PLEURAL_THICKENING/accuracy=9.67e-01] CXR8-DRAIN_HERNIA:[CXR8-DRAIN_valid/CXR8-DRAIN_HERNIA/f1=0, CXR8-DRAIN_valid/CXR8-DRAIN_HERNIA/roc-auc=6.90e-01, CXR8-DRAIN_valid/CXR8-DRAIN_HERNIA/accuracy=9.96e-01]\n",
      "Saving model at iteration 27.00 with best (max) score CXR8-DRAIN_PNEUMOTHORAX_slice:chest_drain_cnn_neg:pred/CXR8-DRAIN_valid/CXR8-DRAIN_PNEUMOTHORAX_slice:chest_drain_cnn_neg:pred/f1=0.116\n"
     ]
    },
    {
     "name": "stderr",
     "output_type": "stream",
     "text": [
      "metal.mmtl.trainer - INFO - Freezing ['CXR8-DRAIN_ATELECTASIS', 'CXR8-DRAIN_CARDIOMEGALY', 'CXR8-DRAIN_EFFUSION', 'CXR8-DRAIN_INFILTRATION', 'CXR8-DRAIN_MASS', 'CXR8-DRAIN_NODULE', 'CXR8-DRAIN_PNEUMONIA', 'CXR8-DRAIN_PNEUMOTHORAX', 'CXR8-DRAIN_CONSOLIDATION', 'CXR8-DRAIN_EDEMA', 'CXR8-DRAIN_EMPHYSEMA', 'CXR8-DRAIN_FIBROSIS', 'CXR8-DRAIN_PLEURAL_THICKENING', 'CXR8-DRAIN_HERNIA'] heads\n",
      "metal.mmtl.trainer - INFO - Training tasks {'CXR8-DRAIN_PNEUMOTHORAX_slice:chest_drain_cnn_neg:pred': 'CXR8-DRAIN_PNEUMOTHORAX_slice:chest_drain_cnn_neg:pred'}\n",
      "root - INFO - Summary name CXR8-DRAIN_PNEUMOTHORAX_slice:chest_drain_cnn_neg:pred/CXR8-DRAIN_train/CXR8-DRAIN_PNEUMOTHORAX_slice:chest_drain_cnn_neg:pred/loss is illegal; using CXR8-DRAIN_PNEUMOTHORAX_slice_chest_drain_cnn_neg_pred/CXR8-DRAIN_train/CXR8-DRAIN_PNEUMOTHORAX_slice_chest_drain_cnn_neg_pred/loss instead.\n",
      "root - INFO - Summary name CXR8-DRAIN_PNEUMOTHORAX_slice:chest_drain_cnn_neg:pred/CXR8-DRAIN_valid/CXR8-DRAIN_PNEUMOTHORAX_slice:chest_drain_cnn_neg:pred/f1 is illegal; using CXR8-DRAIN_PNEUMOTHORAX_slice_chest_drain_cnn_neg_pred/CXR8-DRAIN_valid/CXR8-DRAIN_PNEUMOTHORAX_slice_chest_drain_cnn_neg_pred/f1 instead.\n",
      "root - INFO - Summary name CXR8-DRAIN_PNEUMOTHORAX_slice:chest_drain_cnn_neg:pred/CXR8-DRAIN_valid/CXR8-DRAIN_PNEUMOTHORAX_slice:chest_drain_cnn_neg:pred/roc-auc is illegal; using CXR8-DRAIN_PNEUMOTHORAX_slice_chest_drain_cnn_neg_pred/CXR8-DRAIN_valid/CXR8-DRAIN_PNEUMOTHORAX_slice_chest_drain_cnn_neg_pred/roc-auc instead.\n",
      "root - INFO - Summary name CXR8-DRAIN_PNEUMOTHORAX_slice:chest_drain_cnn_neg:pred/CXR8-DRAIN_valid/CXR8-DRAIN_PNEUMOTHORAX_slice:chest_drain_cnn_neg:pred/accuracy is illegal; using CXR8-DRAIN_PNEUMOTHORAX_slice_chest_drain_cnn_neg_pred/CXR8-DRAIN_valid/CXR8-DRAIN_PNEUMOTHORAX_slice_chest_drain_cnn_neg_pred/accuracy instead.\n"
     ]
    },
    {
     "name": "stdout",
     "output_type": "stream",
     "text": [
      "[28.0 epo]: CXR8-DRAIN_PNEUMOTHORAX_slice:chest_drain_cnn_neg:pred:[CXR8-DRAIN_train/CXR8-DRAIN_PNEUMOTHORAX_slice:chest_drain_cnn_neg:pred/loss=2.53e-02, CXR8-DRAIN_valid/CXR8-DRAIN_PNEUMOTHORAX_slice:chest_drain_cnn_neg:pred/f1=1.05e-01, CXR8-DRAIN_valid/CXR8-DRAIN_PNEUMOTHORAX_slice:chest_drain_cnn_neg:pred/roc-auc=7.24e-01, CXR8-DRAIN_valid/CXR8-DRAIN_PNEUMOTHORAX_slice:chest_drain_cnn_neg:pred/accuracy=9.06e-01] model:[train/all/loss=2.53e-02, train/all/lr=4.40e-05, valid/all/loss=2.95e-01] CXR8-DRAIN_ATELECTASIS:[CXR8-DRAIN_valid/CXR8-DRAIN_ATELECTASIS/f1=0, CXR8-DRAIN_valid/CXR8-DRAIN_ATELECTASIS/roc-auc=5.90e-01, CXR8-DRAIN_valid/CXR8-DRAIN_ATELECTASIS/accuracy=9.01e-01] CXR8-DRAIN_CARDIOMEGALY:[CXR8-DRAIN_valid/CXR8-DRAIN_CARDIOMEGALY/f1=0, CXR8-DRAIN_valid/CXR8-DRAIN_CARDIOMEGALY/roc-auc=5.39e-01, CXR8-DRAIN_valid/CXR8-DRAIN_CARDIOMEGALY/accuracy=9.78e-01] CXR8-DRAIN_EFFUSION:[CXR8-DRAIN_valid/CXR8-DRAIN_EFFUSION/f1=0, CXR8-DRAIN_valid/CXR8-DRAIN_EFFUSION/roc-auc=6.61e-01, CXR8-DRAIN_valid/CXR8-DRAIN_EFFUSION/accuracy=8.84e-01] CXR8-DRAIN_INFILTRATION:[CXR8-DRAIN_valid/CXR8-DRAIN_INFILTRATION/f1=0, CXR8-DRAIN_valid/CXR8-DRAIN_INFILTRATION/roc-auc=5.91e-01, CXR8-DRAIN_valid/CXR8-DRAIN_INFILTRATION/accuracy=8.21e-01] CXR8-DRAIN_MASS:[CXR8-DRAIN_valid/CXR8-DRAIN_MASS/f1=0, CXR8-DRAIN_valid/CXR8-DRAIN_MASS/roc-auc=6.51e-01, CXR8-DRAIN_valid/CXR8-DRAIN_MASS/accuracy=9.43e-01] CXR8-DRAIN_NODULE:[CXR8-DRAIN_valid/CXR8-DRAIN_NODULE/f1=0, CXR8-DRAIN_valid/CXR8-DRAIN_NODULE/roc-auc=6.07e-01, CXR8-DRAIN_valid/CXR8-DRAIN_NODULE/accuracy=9.44e-01] CXR8-DRAIN_PNEUMONIA:[CXR8-DRAIN_valid/CXR8-DRAIN_PNEUMONIA/f1=0, CXR8-DRAIN_valid/CXR8-DRAIN_PNEUMONIA/roc-auc=5.16e-01, CXR8-DRAIN_valid/CXR8-DRAIN_PNEUMONIA/accuracy=9.88e-01] CXR8-DRAIN_PNEUMOTHORAX:[CXR8-DRAIN_valid/CXR8-DRAIN_PNEUMOTHORAX/f1=3.63e-01, CXR8-DRAIN_valid/CXR8-DRAIN_PNEUMOTHORAX/roc-auc=8.18e-01, CXR8-DRAIN_valid/CXR8-DRAIN_PNEUMOTHORAX/accuracy=9.13e-01] CXR8-DRAIN_CONSOLIDATION:[CXR8-DRAIN_valid/CXR8-DRAIN_CONSOLIDATION/f1=0, CXR8-DRAIN_valid/CXR8-DRAIN_CONSOLIDATION/roc-auc=5.95e-01, CXR8-DRAIN_valid/CXR8-DRAIN_CONSOLIDATION/accuracy=9.61e-01] CXR8-DRAIN_EDEMA:[CXR8-DRAIN_valid/CXR8-DRAIN_EDEMA/f1=0, CXR8-DRAIN_valid/CXR8-DRAIN_EDEMA/roc-auc=6.43e-01, CXR8-DRAIN_valid/CXR8-DRAIN_EDEMA/accuracy=9.82e-01] CXR8-DRAIN_EMPHYSEMA:[CXR8-DRAIN_valid/CXR8-DRAIN_EMPHYSEMA/f1=0, CXR8-DRAIN_valid/CXR8-DRAIN_EMPHYSEMA/roc-auc=7.88e-01, CXR8-DRAIN_valid/CXR8-DRAIN_EMPHYSEMA/accuracy=9.80e-01] CXR8-DRAIN_FIBROSIS:[CXR8-DRAIN_valid/CXR8-DRAIN_FIBROSIS/f1=0, CXR8-DRAIN_valid/CXR8-DRAIN_FIBROSIS/roc-auc=6.35e-01, CXR8-DRAIN_valid/CXR8-DRAIN_FIBROSIS/accuracy=9.85e-01] CXR8-DRAIN_PLEURAL_THICKENING:[CXR8-DRAIN_valid/CXR8-DRAIN_PLEURAL_THICKENING/f1=0, CXR8-DRAIN_valid/CXR8-DRAIN_PLEURAL_THICKENING/roc-auc=6.40e-01, CXR8-DRAIN_valid/CXR8-DRAIN_PLEURAL_THICKENING/accuracy=9.67e-01] CXR8-DRAIN_HERNIA:[CXR8-DRAIN_valid/CXR8-DRAIN_HERNIA/f1=0, CXR8-DRAIN_valid/CXR8-DRAIN_HERNIA/roc-auc=6.27e-01, CXR8-DRAIN_valid/CXR8-DRAIN_HERNIA/accuracy=9.96e-01]\n"
     ]
    },
    {
     "name": "stderr",
     "output_type": "stream",
     "text": [
      "metal.mmtl.trainer - INFO - Freezing ['CXR8-DRAIN_ATELECTASIS', 'CXR8-DRAIN_CARDIOMEGALY', 'CXR8-DRAIN_EFFUSION', 'CXR8-DRAIN_INFILTRATION', 'CXR8-DRAIN_MASS', 'CXR8-DRAIN_NODULE', 'CXR8-DRAIN_PNEUMONIA', 'CXR8-DRAIN_PNEUMOTHORAX', 'CXR8-DRAIN_CONSOLIDATION', 'CXR8-DRAIN_EDEMA', 'CXR8-DRAIN_EMPHYSEMA', 'CXR8-DRAIN_FIBROSIS', 'CXR8-DRAIN_PLEURAL_THICKENING', 'CXR8-DRAIN_HERNIA'] heads\n",
      "metal.mmtl.trainer - INFO - Training tasks {'CXR8-DRAIN_PNEUMOTHORAX_slice:chest_drain_cnn_neg:pred': 'CXR8-DRAIN_PNEUMOTHORAX_slice:chest_drain_cnn_neg:pred'}\n",
      "root - INFO - Summary name CXR8-DRAIN_PNEUMOTHORAX_slice:chest_drain_cnn_neg:pred/CXR8-DRAIN_train/CXR8-DRAIN_PNEUMOTHORAX_slice:chest_drain_cnn_neg:pred/loss is illegal; using CXR8-DRAIN_PNEUMOTHORAX_slice_chest_drain_cnn_neg_pred/CXR8-DRAIN_train/CXR8-DRAIN_PNEUMOTHORAX_slice_chest_drain_cnn_neg_pred/loss instead.\n",
      "root - INFO - Summary name CXR8-DRAIN_PNEUMOTHORAX_slice:chest_drain_cnn_neg:pred/CXR8-DRAIN_valid/CXR8-DRAIN_PNEUMOTHORAX_slice:chest_drain_cnn_neg:pred/f1 is illegal; using CXR8-DRAIN_PNEUMOTHORAX_slice_chest_drain_cnn_neg_pred/CXR8-DRAIN_valid/CXR8-DRAIN_PNEUMOTHORAX_slice_chest_drain_cnn_neg_pred/f1 instead.\n",
      "root - INFO - Summary name CXR8-DRAIN_PNEUMOTHORAX_slice:chest_drain_cnn_neg:pred/CXR8-DRAIN_valid/CXR8-DRAIN_PNEUMOTHORAX_slice:chest_drain_cnn_neg:pred/roc-auc is illegal; using CXR8-DRAIN_PNEUMOTHORAX_slice_chest_drain_cnn_neg_pred/CXR8-DRAIN_valid/CXR8-DRAIN_PNEUMOTHORAX_slice_chest_drain_cnn_neg_pred/roc-auc instead.\n",
      "root - INFO - Summary name CXR8-DRAIN_PNEUMOTHORAX_slice:chest_drain_cnn_neg:pred/CXR8-DRAIN_valid/CXR8-DRAIN_PNEUMOTHORAX_slice:chest_drain_cnn_neg:pred/accuracy is illegal; using CXR8-DRAIN_PNEUMOTHORAX_slice_chest_drain_cnn_neg_pred/CXR8-DRAIN_valid/CXR8-DRAIN_PNEUMOTHORAX_slice_chest_drain_cnn_neg_pred/accuracy instead.\n"
     ]
    },
    {
     "name": "stdout",
     "output_type": "stream",
     "text": [
      "[29.0 epo]: CXR8-DRAIN_PNEUMOTHORAX_slice:chest_drain_cnn_neg:pred:[CXR8-DRAIN_train/CXR8-DRAIN_PNEUMOTHORAX_slice:chest_drain_cnn_neg:pred/loss=3.26e-02, CXR8-DRAIN_valid/CXR8-DRAIN_PNEUMOTHORAX_slice:chest_drain_cnn_neg:pred/f1=1.06e-01, CXR8-DRAIN_valid/CXR8-DRAIN_PNEUMOTHORAX_slice:chest_drain_cnn_neg:pred/roc-auc=7.09e-01, CXR8-DRAIN_valid/CXR8-DRAIN_PNEUMOTHORAX_slice:chest_drain_cnn_neg:pred/accuracy=8.82e-01] model:[train/all/loss=3.26e-02, train/all/lr=4.20e-05, valid/all/loss=3.07e-01] CXR8-DRAIN_ATELECTASIS:[CXR8-DRAIN_valid/CXR8-DRAIN_ATELECTASIS/f1=0, CXR8-DRAIN_valid/CXR8-DRAIN_ATELECTASIS/roc-auc=5.96e-01, CXR8-DRAIN_valid/CXR8-DRAIN_ATELECTASIS/accuracy=9.01e-01] CXR8-DRAIN_CARDIOMEGALY:[CXR8-DRAIN_valid/CXR8-DRAIN_CARDIOMEGALY/f1=0, CXR8-DRAIN_valid/CXR8-DRAIN_CARDIOMEGALY/roc-auc=6.47e-01, CXR8-DRAIN_valid/CXR8-DRAIN_CARDIOMEGALY/accuracy=9.78e-01] CXR8-DRAIN_EFFUSION:[CXR8-DRAIN_valid/CXR8-DRAIN_EFFUSION/f1=0, CXR8-DRAIN_valid/CXR8-DRAIN_EFFUSION/roc-auc=6.96e-01, CXR8-DRAIN_valid/CXR8-DRAIN_EFFUSION/accuracy=8.84e-01] CXR8-DRAIN_INFILTRATION:[CXR8-DRAIN_valid/CXR8-DRAIN_INFILTRATION/f1=0, CXR8-DRAIN_valid/CXR8-DRAIN_INFILTRATION/roc-auc=6.07e-01, CXR8-DRAIN_valid/CXR8-DRAIN_INFILTRATION/accuracy=8.21e-01] CXR8-DRAIN_MASS:[CXR8-DRAIN_valid/CXR8-DRAIN_MASS/f1=0, CXR8-DRAIN_valid/CXR8-DRAIN_MASS/roc-auc=6.31e-01, CXR8-DRAIN_valid/CXR8-DRAIN_MASS/accuracy=9.43e-01] CXR8-DRAIN_NODULE:[CXR8-DRAIN_valid/CXR8-DRAIN_NODULE/f1=0, CXR8-DRAIN_valid/CXR8-DRAIN_NODULE/roc-auc=6.01e-01, CXR8-DRAIN_valid/CXR8-DRAIN_NODULE/accuracy=9.44e-01] CXR8-DRAIN_PNEUMONIA:[CXR8-DRAIN_valid/CXR8-DRAIN_PNEUMONIA/f1=0, CXR8-DRAIN_valid/CXR8-DRAIN_PNEUMONIA/roc-auc=5.39e-01, CXR8-DRAIN_valid/CXR8-DRAIN_PNEUMONIA/accuracy=9.88e-01] CXR8-DRAIN_PNEUMOTHORAX:[CXR8-DRAIN_valid/CXR8-DRAIN_PNEUMOTHORAX/f1=3.15e-01, CXR8-DRAIN_valid/CXR8-DRAIN_PNEUMOTHORAX/roc-auc=8.07e-01, CXR8-DRAIN_valid/CXR8-DRAIN_PNEUMOTHORAX/accuracy=8.91e-01] CXR8-DRAIN_CONSOLIDATION:[CXR8-DRAIN_valid/CXR8-DRAIN_CONSOLIDATION/f1=0, CXR8-DRAIN_valid/CXR8-DRAIN_CONSOLIDATION/roc-auc=6.29e-01, CXR8-DRAIN_valid/CXR8-DRAIN_CONSOLIDATION/accuracy=9.61e-01] CXR8-DRAIN_EDEMA:[CXR8-DRAIN_valid/CXR8-DRAIN_EDEMA/f1=0, CXR8-DRAIN_valid/CXR8-DRAIN_EDEMA/roc-auc=7.01e-01, CXR8-DRAIN_valid/CXR8-DRAIN_EDEMA/accuracy=9.82e-01] CXR8-DRAIN_EMPHYSEMA:[CXR8-DRAIN_valid/CXR8-DRAIN_EMPHYSEMA/f1=0, CXR8-DRAIN_valid/CXR8-DRAIN_EMPHYSEMA/roc-auc=7.99e-01, CXR8-DRAIN_valid/CXR8-DRAIN_EMPHYSEMA/accuracy=9.80e-01] CXR8-DRAIN_FIBROSIS:[CXR8-DRAIN_valid/CXR8-DRAIN_FIBROSIS/f1=0, CXR8-DRAIN_valid/CXR8-DRAIN_FIBROSIS/roc-auc=6.14e-01, CXR8-DRAIN_valid/CXR8-DRAIN_FIBROSIS/accuracy=9.85e-01] CXR8-DRAIN_PLEURAL_THICKENING:[CXR8-DRAIN_valid/CXR8-DRAIN_PLEURAL_THICKENING/f1=0, CXR8-DRAIN_valid/CXR8-DRAIN_PLEURAL_THICKENING/roc-auc=6.48e-01, CXR8-DRAIN_valid/CXR8-DRAIN_PLEURAL_THICKENING/accuracy=9.67e-01] CXR8-DRAIN_HERNIA:[CXR8-DRAIN_valid/CXR8-DRAIN_HERNIA/f1=0, CXR8-DRAIN_valid/CXR8-DRAIN_HERNIA/roc-auc=6.82e-01, CXR8-DRAIN_valid/CXR8-DRAIN_HERNIA/accuracy=9.96e-01]\n"
     ]
    },
    {
     "name": "stderr",
     "output_type": "stream",
     "text": [
      "metal.mmtl.trainer - INFO - Freezing ['CXR8-DRAIN_ATELECTASIS', 'CXR8-DRAIN_CARDIOMEGALY', 'CXR8-DRAIN_EFFUSION', 'CXR8-DRAIN_INFILTRATION', 'CXR8-DRAIN_MASS', 'CXR8-DRAIN_NODULE', 'CXR8-DRAIN_PNEUMONIA', 'CXR8-DRAIN_PNEUMOTHORAX', 'CXR8-DRAIN_CONSOLIDATION', 'CXR8-DRAIN_EDEMA', 'CXR8-DRAIN_EMPHYSEMA', 'CXR8-DRAIN_FIBROSIS', 'CXR8-DRAIN_PLEURAL_THICKENING', 'CXR8-DRAIN_HERNIA'] heads\n",
      "metal.mmtl.trainer - INFO - Training tasks {'CXR8-DRAIN_PNEUMOTHORAX_slice:chest_drain_cnn_neg:pred': 'CXR8-DRAIN_PNEUMOTHORAX_slice:chest_drain_cnn_neg:pred'}\n",
      "root - INFO - Summary name CXR8-DRAIN_PNEUMOTHORAX_slice:chest_drain_cnn_neg:pred/CXR8-DRAIN_train/CXR8-DRAIN_PNEUMOTHORAX_slice:chest_drain_cnn_neg:pred/loss is illegal; using CXR8-DRAIN_PNEUMOTHORAX_slice_chest_drain_cnn_neg_pred/CXR8-DRAIN_train/CXR8-DRAIN_PNEUMOTHORAX_slice_chest_drain_cnn_neg_pred/loss instead.\n",
      "root - INFO - Summary name CXR8-DRAIN_PNEUMOTHORAX_slice:chest_drain_cnn_neg:pred/CXR8-DRAIN_valid/CXR8-DRAIN_PNEUMOTHORAX_slice:chest_drain_cnn_neg:pred/f1 is illegal; using CXR8-DRAIN_PNEUMOTHORAX_slice_chest_drain_cnn_neg_pred/CXR8-DRAIN_valid/CXR8-DRAIN_PNEUMOTHORAX_slice_chest_drain_cnn_neg_pred/f1 instead.\n",
      "root - INFO - Summary name CXR8-DRAIN_PNEUMOTHORAX_slice:chest_drain_cnn_neg:pred/CXR8-DRAIN_valid/CXR8-DRAIN_PNEUMOTHORAX_slice:chest_drain_cnn_neg:pred/roc-auc is illegal; using CXR8-DRAIN_PNEUMOTHORAX_slice_chest_drain_cnn_neg_pred/CXR8-DRAIN_valid/CXR8-DRAIN_PNEUMOTHORAX_slice_chest_drain_cnn_neg_pred/roc-auc instead.\n",
      "root - INFO - Summary name CXR8-DRAIN_PNEUMOTHORAX_slice:chest_drain_cnn_neg:pred/CXR8-DRAIN_valid/CXR8-DRAIN_PNEUMOTHORAX_slice:chest_drain_cnn_neg:pred/accuracy is illegal; using CXR8-DRAIN_PNEUMOTHORAX_slice_chest_drain_cnn_neg_pred/CXR8-DRAIN_valid/CXR8-DRAIN_PNEUMOTHORAX_slice_chest_drain_cnn_neg_pred/accuracy instead.\n"
     ]
    },
    {
     "name": "stdout",
     "output_type": "stream",
     "text": [
      "[30.0 epo]: CXR8-DRAIN_PNEUMOTHORAX_slice:chest_drain_cnn_neg:pred:[CXR8-DRAIN_train/CXR8-DRAIN_PNEUMOTHORAX_slice:chest_drain_cnn_neg:pred/loss=2.02e-02, CXR8-DRAIN_valid/CXR8-DRAIN_PNEUMOTHORAX_slice:chest_drain_cnn_neg:pred/f1=1.10e-01, CXR8-DRAIN_valid/CXR8-DRAIN_PNEUMOTHORAX_slice:chest_drain_cnn_neg:pred/roc-auc=7.09e-01, CXR8-DRAIN_valid/CXR8-DRAIN_PNEUMOTHORAX_slice:chest_drain_cnn_neg:pred/accuracy=9.10e-01] model:[train/all/loss=2.02e-02, train/all/lr=4.00e-05, valid/all/loss=2.78e-01] CXR8-DRAIN_ATELECTASIS:[CXR8-DRAIN_valid/CXR8-DRAIN_ATELECTASIS/f1=0, CXR8-DRAIN_valid/CXR8-DRAIN_ATELECTASIS/roc-auc=6.27e-01, CXR8-DRAIN_valid/CXR8-DRAIN_ATELECTASIS/accuracy=9.01e-01] CXR8-DRAIN_CARDIOMEGALY:[CXR8-DRAIN_valid/CXR8-DRAIN_CARDIOMEGALY/f1=0, CXR8-DRAIN_valid/CXR8-DRAIN_CARDIOMEGALY/roc-auc=6.36e-01, CXR8-DRAIN_valid/CXR8-DRAIN_CARDIOMEGALY/accuracy=9.78e-01] CXR8-DRAIN_EFFUSION:[CXR8-DRAIN_valid/CXR8-DRAIN_EFFUSION/f1=0, CXR8-DRAIN_valid/CXR8-DRAIN_EFFUSION/roc-auc=6.85e-01, CXR8-DRAIN_valid/CXR8-DRAIN_EFFUSION/accuracy=8.84e-01] CXR8-DRAIN_INFILTRATION:[CXR8-DRAIN_valid/CXR8-DRAIN_INFILTRATION/f1=0, CXR8-DRAIN_valid/CXR8-DRAIN_INFILTRATION/roc-auc=6.15e-01, CXR8-DRAIN_valid/CXR8-DRAIN_INFILTRATION/accuracy=8.21e-01] CXR8-DRAIN_MASS:[CXR8-DRAIN_valid/CXR8-DRAIN_MASS/f1=0, CXR8-DRAIN_valid/CXR8-DRAIN_MASS/roc-auc=6.38e-01, CXR8-DRAIN_valid/CXR8-DRAIN_MASS/accuracy=9.43e-01] CXR8-DRAIN_NODULE:[CXR8-DRAIN_valid/CXR8-DRAIN_NODULE/f1=0, CXR8-DRAIN_valid/CXR8-DRAIN_NODULE/roc-auc=6.02e-01, CXR8-DRAIN_valid/CXR8-DRAIN_NODULE/accuracy=9.44e-01] CXR8-DRAIN_PNEUMONIA:[CXR8-DRAIN_valid/CXR8-DRAIN_PNEUMONIA/f1=0, CXR8-DRAIN_valid/CXR8-DRAIN_PNEUMONIA/roc-auc=5.33e-01, CXR8-DRAIN_valid/CXR8-DRAIN_PNEUMONIA/accuracy=9.88e-01] CXR8-DRAIN_PNEUMOTHORAX:[CXR8-DRAIN_valid/CXR8-DRAIN_PNEUMOTHORAX/f1=3.49e-01, CXR8-DRAIN_valid/CXR8-DRAIN_PNEUMOTHORAX/roc-auc=8.11e-01, CXR8-DRAIN_valid/CXR8-DRAIN_PNEUMOTHORAX/accuracy=9.16e-01] CXR8-DRAIN_CONSOLIDATION:[CXR8-DRAIN_valid/CXR8-DRAIN_CONSOLIDATION/f1=0, CXR8-DRAIN_valid/CXR8-DRAIN_CONSOLIDATION/roc-auc=6.35e-01, CXR8-DRAIN_valid/CXR8-DRAIN_CONSOLIDATION/accuracy=9.61e-01] CXR8-DRAIN_EDEMA:[CXR8-DRAIN_valid/CXR8-DRAIN_EDEMA/f1=0, CXR8-DRAIN_valid/CXR8-DRAIN_EDEMA/roc-auc=7.01e-01, CXR8-DRAIN_valid/CXR8-DRAIN_EDEMA/accuracy=9.82e-01] CXR8-DRAIN_EMPHYSEMA:[CXR8-DRAIN_valid/CXR8-DRAIN_EMPHYSEMA/f1=0, CXR8-DRAIN_valid/CXR8-DRAIN_EMPHYSEMA/roc-auc=8.04e-01, CXR8-DRAIN_valid/CXR8-DRAIN_EMPHYSEMA/accuracy=9.80e-01] CXR8-DRAIN_FIBROSIS:[CXR8-DRAIN_valid/CXR8-DRAIN_FIBROSIS/f1=0, CXR8-DRAIN_valid/CXR8-DRAIN_FIBROSIS/roc-auc=6.32e-01, CXR8-DRAIN_valid/CXR8-DRAIN_FIBROSIS/accuracy=9.85e-01] CXR8-DRAIN_PLEURAL_THICKENING:[CXR8-DRAIN_valid/CXR8-DRAIN_PLEURAL_THICKENING/f1=0, CXR8-DRAIN_valid/CXR8-DRAIN_PLEURAL_THICKENING/roc-auc=6.53e-01, CXR8-DRAIN_valid/CXR8-DRAIN_PLEURAL_THICKENING/accuracy=9.67e-01] CXR8-DRAIN_HERNIA:[CXR8-DRAIN_valid/CXR8-DRAIN_HERNIA/f1=0, CXR8-DRAIN_valid/CXR8-DRAIN_HERNIA/roc-auc=7.05e-01, CXR8-DRAIN_valid/CXR8-DRAIN_HERNIA/accuracy=9.96e-01]\n"
     ]
    },
    {
     "name": "stderr",
     "output_type": "stream",
     "text": [
      "metal.mmtl.trainer - INFO - Freezing ['CXR8-DRAIN_ATELECTASIS', 'CXR8-DRAIN_CARDIOMEGALY', 'CXR8-DRAIN_EFFUSION', 'CXR8-DRAIN_INFILTRATION', 'CXR8-DRAIN_MASS', 'CXR8-DRAIN_NODULE', 'CXR8-DRAIN_PNEUMONIA', 'CXR8-DRAIN_PNEUMOTHORAX', 'CXR8-DRAIN_CONSOLIDATION', 'CXR8-DRAIN_EDEMA', 'CXR8-DRAIN_EMPHYSEMA', 'CXR8-DRAIN_FIBROSIS', 'CXR8-DRAIN_PLEURAL_THICKENING', 'CXR8-DRAIN_HERNIA'] heads\n",
      "metal.mmtl.trainer - INFO - Training tasks {'CXR8-DRAIN_PNEUMOTHORAX_slice:chest_drain_cnn_neg:pred': 'CXR8-DRAIN_PNEUMOTHORAX_slice:chest_drain_cnn_neg:pred'}\n",
      "root - INFO - Summary name CXR8-DRAIN_PNEUMOTHORAX_slice:chest_drain_cnn_neg:pred/CXR8-DRAIN_train/CXR8-DRAIN_PNEUMOTHORAX_slice:chest_drain_cnn_neg:pred/loss is illegal; using CXR8-DRAIN_PNEUMOTHORAX_slice_chest_drain_cnn_neg_pred/CXR8-DRAIN_train/CXR8-DRAIN_PNEUMOTHORAX_slice_chest_drain_cnn_neg_pred/loss instead.\n",
      "root - INFO - Summary name CXR8-DRAIN_PNEUMOTHORAX_slice:chest_drain_cnn_neg:pred/CXR8-DRAIN_valid/CXR8-DRAIN_PNEUMOTHORAX_slice:chest_drain_cnn_neg:pred/f1 is illegal; using CXR8-DRAIN_PNEUMOTHORAX_slice_chest_drain_cnn_neg_pred/CXR8-DRAIN_valid/CXR8-DRAIN_PNEUMOTHORAX_slice_chest_drain_cnn_neg_pred/f1 instead.\n",
      "root - INFO - Summary name CXR8-DRAIN_PNEUMOTHORAX_slice:chest_drain_cnn_neg:pred/CXR8-DRAIN_valid/CXR8-DRAIN_PNEUMOTHORAX_slice:chest_drain_cnn_neg:pred/roc-auc is illegal; using CXR8-DRAIN_PNEUMOTHORAX_slice_chest_drain_cnn_neg_pred/CXR8-DRAIN_valid/CXR8-DRAIN_PNEUMOTHORAX_slice_chest_drain_cnn_neg_pred/roc-auc instead.\n",
      "root - INFO - Summary name CXR8-DRAIN_PNEUMOTHORAX_slice:chest_drain_cnn_neg:pred/CXR8-DRAIN_valid/CXR8-DRAIN_PNEUMOTHORAX_slice:chest_drain_cnn_neg:pred/accuracy is illegal; using CXR8-DRAIN_PNEUMOTHORAX_slice_chest_drain_cnn_neg_pred/CXR8-DRAIN_valid/CXR8-DRAIN_PNEUMOTHORAX_slice_chest_drain_cnn_neg_pred/accuracy instead.\n"
     ]
    },
    {
     "name": "stdout",
     "output_type": "stream",
     "text": [
      "[31.0 epo]: CXR8-DRAIN_PNEUMOTHORAX_slice:chest_drain_cnn_neg:pred:[CXR8-DRAIN_train/CXR8-DRAIN_PNEUMOTHORAX_slice:chest_drain_cnn_neg:pred/loss=1.85e-02, CXR8-DRAIN_valid/CXR8-DRAIN_PNEUMOTHORAX_slice:chest_drain_cnn_neg:pred/f1=1.04e-01, CXR8-DRAIN_valid/CXR8-DRAIN_PNEUMOTHORAX_slice:chest_drain_cnn_neg:pred/roc-auc=7.21e-01, CXR8-DRAIN_valid/CXR8-DRAIN_PNEUMOTHORAX_slice:chest_drain_cnn_neg:pred/accuracy=9.00e-01] model:[train/all/loss=1.85e-02, train/all/lr=3.80e-05, valid/all/loss=3.09e-01] CXR8-DRAIN_ATELECTASIS:[CXR8-DRAIN_valid/CXR8-DRAIN_ATELECTASIS/f1=0, CXR8-DRAIN_valid/CXR8-DRAIN_ATELECTASIS/roc-auc=5.99e-01, CXR8-DRAIN_valid/CXR8-DRAIN_ATELECTASIS/accuracy=9.01e-01] CXR8-DRAIN_CARDIOMEGALY:[CXR8-DRAIN_valid/CXR8-DRAIN_CARDIOMEGALY/f1=0, CXR8-DRAIN_valid/CXR8-DRAIN_CARDIOMEGALY/roc-auc=5.53e-01, CXR8-DRAIN_valid/CXR8-DRAIN_CARDIOMEGALY/accuracy=9.78e-01] CXR8-DRAIN_EFFUSION:[CXR8-DRAIN_valid/CXR8-DRAIN_EFFUSION/f1=0, CXR8-DRAIN_valid/CXR8-DRAIN_EFFUSION/roc-auc=6.89e-01, CXR8-DRAIN_valid/CXR8-DRAIN_EFFUSION/accuracy=8.84e-01] CXR8-DRAIN_INFILTRATION:[CXR8-DRAIN_valid/CXR8-DRAIN_INFILTRATION/f1=0, CXR8-DRAIN_valid/CXR8-DRAIN_INFILTRATION/roc-auc=5.87e-01, CXR8-DRAIN_valid/CXR8-DRAIN_INFILTRATION/accuracy=8.21e-01] CXR8-DRAIN_MASS:[CXR8-DRAIN_valid/CXR8-DRAIN_MASS/f1=0, CXR8-DRAIN_valid/CXR8-DRAIN_MASS/roc-auc=6.34e-01, CXR8-DRAIN_valid/CXR8-DRAIN_MASS/accuracy=9.43e-01] CXR8-DRAIN_NODULE:[CXR8-DRAIN_valid/CXR8-DRAIN_NODULE/f1=0, CXR8-DRAIN_valid/CXR8-DRAIN_NODULE/roc-auc=6.01e-01, CXR8-DRAIN_valid/CXR8-DRAIN_NODULE/accuracy=9.44e-01] CXR8-DRAIN_PNEUMONIA:[CXR8-DRAIN_valid/CXR8-DRAIN_PNEUMONIA/f1=0, CXR8-DRAIN_valid/CXR8-DRAIN_PNEUMONIA/roc-auc=5.29e-01, CXR8-DRAIN_valid/CXR8-DRAIN_PNEUMONIA/accuracy=9.88e-01] CXR8-DRAIN_PNEUMOTHORAX:[CXR8-DRAIN_valid/CXR8-DRAIN_PNEUMOTHORAX/f1=3.12e-01, CXR8-DRAIN_valid/CXR8-DRAIN_PNEUMOTHORAX/roc-auc=8.06e-01, CXR8-DRAIN_valid/CXR8-DRAIN_PNEUMOTHORAX/accuracy=9.04e-01] CXR8-DRAIN_CONSOLIDATION:[CXR8-DRAIN_valid/CXR8-DRAIN_CONSOLIDATION/f1=0, CXR8-DRAIN_valid/CXR8-DRAIN_CONSOLIDATION/roc-auc=6.22e-01, CXR8-DRAIN_valid/CXR8-DRAIN_CONSOLIDATION/accuracy=9.61e-01] CXR8-DRAIN_EDEMA:[CXR8-DRAIN_valid/CXR8-DRAIN_EDEMA/f1=0, CXR8-DRAIN_valid/CXR8-DRAIN_EDEMA/roc-auc=6.71e-01, CXR8-DRAIN_valid/CXR8-DRAIN_EDEMA/accuracy=9.82e-01] CXR8-DRAIN_EMPHYSEMA:[CXR8-DRAIN_valid/CXR8-DRAIN_EMPHYSEMA/f1=0, CXR8-DRAIN_valid/CXR8-DRAIN_EMPHYSEMA/roc-auc=8.06e-01, CXR8-DRAIN_valid/CXR8-DRAIN_EMPHYSEMA/accuracy=9.80e-01] CXR8-DRAIN_FIBROSIS:[CXR8-DRAIN_valid/CXR8-DRAIN_FIBROSIS/f1=0, CXR8-DRAIN_valid/CXR8-DRAIN_FIBROSIS/roc-auc=6.05e-01, CXR8-DRAIN_valid/CXR8-DRAIN_FIBROSIS/accuracy=9.85e-01] CXR8-DRAIN_PLEURAL_THICKENING:[CXR8-DRAIN_valid/CXR8-DRAIN_PLEURAL_THICKENING/f1=0, CXR8-DRAIN_valid/CXR8-DRAIN_PLEURAL_THICKENING/roc-auc=6.57e-01, CXR8-DRAIN_valid/CXR8-DRAIN_PLEURAL_THICKENING/accuracy=9.67e-01] CXR8-DRAIN_HERNIA:[CXR8-DRAIN_valid/CXR8-DRAIN_HERNIA/f1=0, CXR8-DRAIN_valid/CXR8-DRAIN_HERNIA/roc-auc=6.24e-01, CXR8-DRAIN_valid/CXR8-DRAIN_HERNIA/accuracy=9.96e-01]\n"
     ]
    },
    {
     "name": "stderr",
     "output_type": "stream",
     "text": [
      "metal.mmtl.trainer - INFO - Freezing ['CXR8-DRAIN_ATELECTASIS', 'CXR8-DRAIN_CARDIOMEGALY', 'CXR8-DRAIN_EFFUSION', 'CXR8-DRAIN_INFILTRATION', 'CXR8-DRAIN_MASS', 'CXR8-DRAIN_NODULE', 'CXR8-DRAIN_PNEUMONIA', 'CXR8-DRAIN_PNEUMOTHORAX', 'CXR8-DRAIN_CONSOLIDATION', 'CXR8-DRAIN_EDEMA', 'CXR8-DRAIN_EMPHYSEMA', 'CXR8-DRAIN_FIBROSIS', 'CXR8-DRAIN_PLEURAL_THICKENING', 'CXR8-DRAIN_HERNIA'] heads\n",
      "metal.mmtl.trainer - INFO - Training tasks {'CXR8-DRAIN_PNEUMOTHORAX_slice:chest_drain_cnn_neg:pred': 'CXR8-DRAIN_PNEUMOTHORAX_slice:chest_drain_cnn_neg:pred'}\n",
      "root - INFO - Summary name CXR8-DRAIN_PNEUMOTHORAX_slice:chest_drain_cnn_neg:pred/CXR8-DRAIN_train/CXR8-DRAIN_PNEUMOTHORAX_slice:chest_drain_cnn_neg:pred/loss is illegal; using CXR8-DRAIN_PNEUMOTHORAX_slice_chest_drain_cnn_neg_pred/CXR8-DRAIN_train/CXR8-DRAIN_PNEUMOTHORAX_slice_chest_drain_cnn_neg_pred/loss instead.\n",
      "root - INFO - Summary name CXR8-DRAIN_PNEUMOTHORAX_slice:chest_drain_cnn_neg:pred/CXR8-DRAIN_valid/CXR8-DRAIN_PNEUMOTHORAX_slice:chest_drain_cnn_neg:pred/f1 is illegal; using CXR8-DRAIN_PNEUMOTHORAX_slice_chest_drain_cnn_neg_pred/CXR8-DRAIN_valid/CXR8-DRAIN_PNEUMOTHORAX_slice_chest_drain_cnn_neg_pred/f1 instead.\n",
      "root - INFO - Summary name CXR8-DRAIN_PNEUMOTHORAX_slice:chest_drain_cnn_neg:pred/CXR8-DRAIN_valid/CXR8-DRAIN_PNEUMOTHORAX_slice:chest_drain_cnn_neg:pred/roc-auc is illegal; using CXR8-DRAIN_PNEUMOTHORAX_slice_chest_drain_cnn_neg_pred/CXR8-DRAIN_valid/CXR8-DRAIN_PNEUMOTHORAX_slice_chest_drain_cnn_neg_pred/roc-auc instead.\n",
      "root - INFO - Summary name CXR8-DRAIN_PNEUMOTHORAX_slice:chest_drain_cnn_neg:pred/CXR8-DRAIN_valid/CXR8-DRAIN_PNEUMOTHORAX_slice:chest_drain_cnn_neg:pred/accuracy is illegal; using CXR8-DRAIN_PNEUMOTHORAX_slice_chest_drain_cnn_neg_pred/CXR8-DRAIN_valid/CXR8-DRAIN_PNEUMOTHORAX_slice_chest_drain_cnn_neg_pred/accuracy instead.\n"
     ]
    },
    {
     "name": "stdout",
     "output_type": "stream",
     "text": [
      "[32.0 epo]: CXR8-DRAIN_PNEUMOTHORAX_slice:chest_drain_cnn_neg:pred:[CXR8-DRAIN_train/CXR8-DRAIN_PNEUMOTHORAX_slice:chest_drain_cnn_neg:pred/loss=1.22e-02, CXR8-DRAIN_valid/CXR8-DRAIN_PNEUMOTHORAX_slice:chest_drain_cnn_neg:pred/f1=1.06e-01, CXR8-DRAIN_valid/CXR8-DRAIN_PNEUMOTHORAX_slice:chest_drain_cnn_neg:pred/roc-auc=7.17e-01, CXR8-DRAIN_valid/CXR8-DRAIN_PNEUMOTHORAX_slice:chest_drain_cnn_neg:pred/accuracy=8.63e-01] model:[train/all/loss=1.22e-02, train/all/lr=3.60e-05, valid/all/loss=3.41e-01] CXR8-DRAIN_ATELECTASIS:[CXR8-DRAIN_valid/CXR8-DRAIN_ATELECTASIS/f1=0, CXR8-DRAIN_valid/CXR8-DRAIN_ATELECTASIS/roc-auc=5.78e-01, CXR8-DRAIN_valid/CXR8-DRAIN_ATELECTASIS/accuracy=9.01e-01] CXR8-DRAIN_CARDIOMEGALY:[CXR8-DRAIN_valid/CXR8-DRAIN_CARDIOMEGALY/f1=0, CXR8-DRAIN_valid/CXR8-DRAIN_CARDIOMEGALY/roc-auc=5.63e-01, CXR8-DRAIN_valid/CXR8-DRAIN_CARDIOMEGALY/accuracy=9.78e-01] CXR8-DRAIN_EFFUSION:[CXR8-DRAIN_valid/CXR8-DRAIN_EFFUSION/f1=0, CXR8-DRAIN_valid/CXR8-DRAIN_EFFUSION/roc-auc=6.62e-01, CXR8-DRAIN_valid/CXR8-DRAIN_EFFUSION/accuracy=8.84e-01] CXR8-DRAIN_INFILTRATION:[CXR8-DRAIN_valid/CXR8-DRAIN_INFILTRATION/f1=0, CXR8-DRAIN_valid/CXR8-DRAIN_INFILTRATION/roc-auc=5.97e-01, CXR8-DRAIN_valid/CXR8-DRAIN_INFILTRATION/accuracy=8.21e-01] CXR8-DRAIN_MASS:[CXR8-DRAIN_valid/CXR8-DRAIN_MASS/f1=0, CXR8-DRAIN_valid/CXR8-DRAIN_MASS/roc-auc=6.14e-01, CXR8-DRAIN_valid/CXR8-DRAIN_MASS/accuracy=9.43e-01] CXR8-DRAIN_NODULE:[CXR8-DRAIN_valid/CXR8-DRAIN_NODULE/f1=0, CXR8-DRAIN_valid/CXR8-DRAIN_NODULE/roc-auc=5.89e-01, CXR8-DRAIN_valid/CXR8-DRAIN_NODULE/accuracy=9.44e-01] CXR8-DRAIN_PNEUMONIA:[CXR8-DRAIN_valid/CXR8-DRAIN_PNEUMONIA/f1=0, CXR8-DRAIN_valid/CXR8-DRAIN_PNEUMONIA/roc-auc=5.28e-01, CXR8-DRAIN_valid/CXR8-DRAIN_PNEUMONIA/accuracy=9.88e-01] CXR8-DRAIN_PNEUMOTHORAX:[CXR8-DRAIN_valid/CXR8-DRAIN_PNEUMOTHORAX/f1=3.10e-01, CXR8-DRAIN_valid/CXR8-DRAIN_PNEUMOTHORAX/roc-auc=8.01e-01, CXR8-DRAIN_valid/CXR8-DRAIN_PNEUMOTHORAX/accuracy=8.81e-01] CXR8-DRAIN_CONSOLIDATION:[CXR8-DRAIN_valid/CXR8-DRAIN_CONSOLIDATION/f1=0, CXR8-DRAIN_valid/CXR8-DRAIN_CONSOLIDATION/roc-auc=6.09e-01, CXR8-DRAIN_valid/CXR8-DRAIN_CONSOLIDATION/accuracy=9.61e-01] CXR8-DRAIN_EDEMA:[CXR8-DRAIN_valid/CXR8-DRAIN_EDEMA/f1=0, CXR8-DRAIN_valid/CXR8-DRAIN_EDEMA/roc-auc=6.16e-01, CXR8-DRAIN_valid/CXR8-DRAIN_EDEMA/accuracy=9.82e-01] CXR8-DRAIN_EMPHYSEMA:[CXR8-DRAIN_valid/CXR8-DRAIN_EMPHYSEMA/f1=0, CXR8-DRAIN_valid/CXR8-DRAIN_EMPHYSEMA/roc-auc=7.92e-01, CXR8-DRAIN_valid/CXR8-DRAIN_EMPHYSEMA/accuracy=9.80e-01] CXR8-DRAIN_FIBROSIS:[CXR8-DRAIN_valid/CXR8-DRAIN_FIBROSIS/f1=0, CXR8-DRAIN_valid/CXR8-DRAIN_FIBROSIS/roc-auc=6.05e-01, CXR8-DRAIN_valid/CXR8-DRAIN_FIBROSIS/accuracy=9.85e-01] CXR8-DRAIN_PLEURAL_THICKENING:[CXR8-DRAIN_valid/CXR8-DRAIN_PLEURAL_THICKENING/f1=0, CXR8-DRAIN_valid/CXR8-DRAIN_PLEURAL_THICKENING/roc-auc=6.39e-01, CXR8-DRAIN_valid/CXR8-DRAIN_PLEURAL_THICKENING/accuracy=9.67e-01] CXR8-DRAIN_HERNIA:[CXR8-DRAIN_valid/CXR8-DRAIN_HERNIA/f1=0, CXR8-DRAIN_valid/CXR8-DRAIN_HERNIA/roc-auc=6.02e-01, CXR8-DRAIN_valid/CXR8-DRAIN_HERNIA/accuracy=9.96e-01]\n"
     ]
    },
    {
     "name": "stderr",
     "output_type": "stream",
     "text": [
      "metal.mmtl.trainer - INFO - Freezing ['CXR8-DRAIN_ATELECTASIS', 'CXR8-DRAIN_CARDIOMEGALY', 'CXR8-DRAIN_EFFUSION', 'CXR8-DRAIN_INFILTRATION', 'CXR8-DRAIN_MASS', 'CXR8-DRAIN_NODULE', 'CXR8-DRAIN_PNEUMONIA', 'CXR8-DRAIN_PNEUMOTHORAX', 'CXR8-DRAIN_CONSOLIDATION', 'CXR8-DRAIN_EDEMA', 'CXR8-DRAIN_EMPHYSEMA', 'CXR8-DRAIN_FIBROSIS', 'CXR8-DRAIN_PLEURAL_THICKENING', 'CXR8-DRAIN_HERNIA'] heads\n",
      "metal.mmtl.trainer - INFO - Training tasks {'CXR8-DRAIN_PNEUMOTHORAX_slice:chest_drain_cnn_neg:pred': 'CXR8-DRAIN_PNEUMOTHORAX_slice:chest_drain_cnn_neg:pred'}\n",
      "root - INFO - Summary name CXR8-DRAIN_PNEUMOTHORAX_slice:chest_drain_cnn_neg:pred/CXR8-DRAIN_train/CXR8-DRAIN_PNEUMOTHORAX_slice:chest_drain_cnn_neg:pred/loss is illegal; using CXR8-DRAIN_PNEUMOTHORAX_slice_chest_drain_cnn_neg_pred/CXR8-DRAIN_train/CXR8-DRAIN_PNEUMOTHORAX_slice_chest_drain_cnn_neg_pred/loss instead.\n",
      "root - INFO - Summary name CXR8-DRAIN_PNEUMOTHORAX_slice:chest_drain_cnn_neg:pred/CXR8-DRAIN_valid/CXR8-DRAIN_PNEUMOTHORAX_slice:chest_drain_cnn_neg:pred/f1 is illegal; using CXR8-DRAIN_PNEUMOTHORAX_slice_chest_drain_cnn_neg_pred/CXR8-DRAIN_valid/CXR8-DRAIN_PNEUMOTHORAX_slice_chest_drain_cnn_neg_pred/f1 instead.\n",
      "root - INFO - Summary name CXR8-DRAIN_PNEUMOTHORAX_slice:chest_drain_cnn_neg:pred/CXR8-DRAIN_valid/CXR8-DRAIN_PNEUMOTHORAX_slice:chest_drain_cnn_neg:pred/roc-auc is illegal; using CXR8-DRAIN_PNEUMOTHORAX_slice_chest_drain_cnn_neg_pred/CXR8-DRAIN_valid/CXR8-DRAIN_PNEUMOTHORAX_slice_chest_drain_cnn_neg_pred/roc-auc instead.\n",
      "root - INFO - Summary name CXR8-DRAIN_PNEUMOTHORAX_slice:chest_drain_cnn_neg:pred/CXR8-DRAIN_valid/CXR8-DRAIN_PNEUMOTHORAX_slice:chest_drain_cnn_neg:pred/accuracy is illegal; using CXR8-DRAIN_PNEUMOTHORAX_slice_chest_drain_cnn_neg_pred/CXR8-DRAIN_valid/CXR8-DRAIN_PNEUMOTHORAX_slice_chest_drain_cnn_neg_pred/accuracy instead.\n"
     ]
    },
    {
     "name": "stdout",
     "output_type": "stream",
     "text": [
      "[33.0 epo]: CXR8-DRAIN_PNEUMOTHORAX_slice:chest_drain_cnn_neg:pred:[CXR8-DRAIN_train/CXR8-DRAIN_PNEUMOTHORAX_slice:chest_drain_cnn_neg:pred/loss=2.07e-02, CXR8-DRAIN_valid/CXR8-DRAIN_PNEUMOTHORAX_slice:chest_drain_cnn_neg:pred/f1=1.07e-01, CXR8-DRAIN_valid/CXR8-DRAIN_PNEUMOTHORAX_slice:chest_drain_cnn_neg:pred/roc-auc=7.02e-01, CXR8-DRAIN_valid/CXR8-DRAIN_PNEUMOTHORAX_slice:chest_drain_cnn_neg:pred/accuracy=8.74e-01] model:[train/all/loss=2.07e-02, train/all/lr=3.40e-05, valid/all/loss=2.96e-01] CXR8-DRAIN_ATELECTASIS:[CXR8-DRAIN_valid/CXR8-DRAIN_ATELECTASIS/f1=0, CXR8-DRAIN_valid/CXR8-DRAIN_ATELECTASIS/roc-auc=6.23e-01, CXR8-DRAIN_valid/CXR8-DRAIN_ATELECTASIS/accuracy=9.01e-01] CXR8-DRAIN_CARDIOMEGALY:[CXR8-DRAIN_valid/CXR8-DRAIN_CARDIOMEGALY/f1=0, CXR8-DRAIN_valid/CXR8-DRAIN_CARDIOMEGALY/roc-auc=6.90e-01, CXR8-DRAIN_valid/CXR8-DRAIN_CARDIOMEGALY/accuracy=9.78e-01] CXR8-DRAIN_EFFUSION:[CXR8-DRAIN_valid/CXR8-DRAIN_EFFUSION/f1=0, CXR8-DRAIN_valid/CXR8-DRAIN_EFFUSION/roc-auc=7.08e-01, CXR8-DRAIN_valid/CXR8-DRAIN_EFFUSION/accuracy=8.84e-01] CXR8-DRAIN_INFILTRATION:[CXR8-DRAIN_valid/CXR8-DRAIN_INFILTRATION/f1=0, CXR8-DRAIN_valid/CXR8-DRAIN_INFILTRATION/roc-auc=6.22e-01, CXR8-DRAIN_valid/CXR8-DRAIN_INFILTRATION/accuracy=8.21e-01] CXR8-DRAIN_MASS:[CXR8-DRAIN_valid/CXR8-DRAIN_MASS/f1=0, CXR8-DRAIN_valid/CXR8-DRAIN_MASS/roc-auc=6.51e-01, CXR8-DRAIN_valid/CXR8-DRAIN_MASS/accuracy=9.43e-01] CXR8-DRAIN_NODULE:[CXR8-DRAIN_valid/CXR8-DRAIN_NODULE/f1=0, CXR8-DRAIN_valid/CXR8-DRAIN_NODULE/roc-auc=5.96e-01, CXR8-DRAIN_valid/CXR8-DRAIN_NODULE/accuracy=9.44e-01] CXR8-DRAIN_PNEUMONIA:[CXR8-DRAIN_valid/CXR8-DRAIN_PNEUMONIA/f1=0, CXR8-DRAIN_valid/CXR8-DRAIN_PNEUMONIA/roc-auc=5.51e-01, CXR8-DRAIN_valid/CXR8-DRAIN_PNEUMONIA/accuracy=9.88e-01] CXR8-DRAIN_PNEUMOTHORAX:[CXR8-DRAIN_valid/CXR8-DRAIN_PNEUMOTHORAX/f1=3.24e-01, CXR8-DRAIN_valid/CXR8-DRAIN_PNEUMOTHORAX/roc-auc=8.16e-01, CXR8-DRAIN_valid/CXR8-DRAIN_PNEUMOTHORAX/accuracy=8.91e-01] CXR8-DRAIN_CONSOLIDATION:[CXR8-DRAIN_valid/CXR8-DRAIN_CONSOLIDATION/f1=0, CXR8-DRAIN_valid/CXR8-DRAIN_CONSOLIDATION/roc-auc=6.70e-01, CXR8-DRAIN_valid/CXR8-DRAIN_CONSOLIDATION/accuracy=9.61e-01] CXR8-DRAIN_EDEMA:[CXR8-DRAIN_valid/CXR8-DRAIN_EDEMA/f1=0, CXR8-DRAIN_valid/CXR8-DRAIN_EDEMA/roc-auc=7.48e-01, CXR8-DRAIN_valid/CXR8-DRAIN_EDEMA/accuracy=9.82e-01] CXR8-DRAIN_EMPHYSEMA:[CXR8-DRAIN_valid/CXR8-DRAIN_EMPHYSEMA/f1=0, CXR8-DRAIN_valid/CXR8-DRAIN_EMPHYSEMA/roc-auc=7.91e-01, CXR8-DRAIN_valid/CXR8-DRAIN_EMPHYSEMA/accuracy=9.80e-01] CXR8-DRAIN_FIBROSIS:[CXR8-DRAIN_valid/CXR8-DRAIN_FIBROSIS/f1=0, CXR8-DRAIN_valid/CXR8-DRAIN_FIBROSIS/roc-auc=6.30e-01, CXR8-DRAIN_valid/CXR8-DRAIN_FIBROSIS/accuracy=9.85e-01] CXR8-DRAIN_PLEURAL_THICKENING:[CXR8-DRAIN_valid/CXR8-DRAIN_PLEURAL_THICKENING/f1=0, CXR8-DRAIN_valid/CXR8-DRAIN_PLEURAL_THICKENING/roc-auc=6.58e-01, CXR8-DRAIN_valid/CXR8-DRAIN_PLEURAL_THICKENING/accuracy=9.67e-01] CXR8-DRAIN_HERNIA:[CXR8-DRAIN_valid/CXR8-DRAIN_HERNIA/f1=0, CXR8-DRAIN_valid/CXR8-DRAIN_HERNIA/roc-auc=7.07e-01, CXR8-DRAIN_valid/CXR8-DRAIN_HERNIA/accuracy=9.96e-01]\n"
     ]
    },
    {
     "name": "stderr",
     "output_type": "stream",
     "text": [
      "metal.mmtl.trainer - INFO - Freezing ['CXR8-DRAIN_ATELECTASIS', 'CXR8-DRAIN_CARDIOMEGALY', 'CXR8-DRAIN_EFFUSION', 'CXR8-DRAIN_INFILTRATION', 'CXR8-DRAIN_MASS', 'CXR8-DRAIN_NODULE', 'CXR8-DRAIN_PNEUMONIA', 'CXR8-DRAIN_PNEUMOTHORAX', 'CXR8-DRAIN_CONSOLIDATION', 'CXR8-DRAIN_EDEMA', 'CXR8-DRAIN_EMPHYSEMA', 'CXR8-DRAIN_FIBROSIS', 'CXR8-DRAIN_PLEURAL_THICKENING', 'CXR8-DRAIN_HERNIA'] heads\n",
      "metal.mmtl.trainer - INFO - Training tasks {'CXR8-DRAIN_PNEUMOTHORAX_slice:chest_drain_cnn_neg:pred': 'CXR8-DRAIN_PNEUMOTHORAX_slice:chest_drain_cnn_neg:pred'}\n",
      "root - INFO - Summary name CXR8-DRAIN_PNEUMOTHORAX_slice:chest_drain_cnn_neg:pred/CXR8-DRAIN_train/CXR8-DRAIN_PNEUMOTHORAX_slice:chest_drain_cnn_neg:pred/loss is illegal; using CXR8-DRAIN_PNEUMOTHORAX_slice_chest_drain_cnn_neg_pred/CXR8-DRAIN_train/CXR8-DRAIN_PNEUMOTHORAX_slice_chest_drain_cnn_neg_pred/loss instead.\n",
      "root - INFO - Summary name CXR8-DRAIN_PNEUMOTHORAX_slice:chest_drain_cnn_neg:pred/CXR8-DRAIN_valid/CXR8-DRAIN_PNEUMOTHORAX_slice:chest_drain_cnn_neg:pred/f1 is illegal; using CXR8-DRAIN_PNEUMOTHORAX_slice_chest_drain_cnn_neg_pred/CXR8-DRAIN_valid/CXR8-DRAIN_PNEUMOTHORAX_slice_chest_drain_cnn_neg_pred/f1 instead.\n",
      "root - INFO - Summary name CXR8-DRAIN_PNEUMOTHORAX_slice:chest_drain_cnn_neg:pred/CXR8-DRAIN_valid/CXR8-DRAIN_PNEUMOTHORAX_slice:chest_drain_cnn_neg:pred/roc-auc is illegal; using CXR8-DRAIN_PNEUMOTHORAX_slice_chest_drain_cnn_neg_pred/CXR8-DRAIN_valid/CXR8-DRAIN_PNEUMOTHORAX_slice_chest_drain_cnn_neg_pred/roc-auc instead.\n",
      "root - INFO - Summary name CXR8-DRAIN_PNEUMOTHORAX_slice:chest_drain_cnn_neg:pred/CXR8-DRAIN_valid/CXR8-DRAIN_PNEUMOTHORAX_slice:chest_drain_cnn_neg:pred/accuracy is illegal; using CXR8-DRAIN_PNEUMOTHORAX_slice_chest_drain_cnn_neg_pred/CXR8-DRAIN_valid/CXR8-DRAIN_PNEUMOTHORAX_slice_chest_drain_cnn_neg_pred/accuracy instead.\n"
     ]
    },
    {
     "name": "stdout",
     "output_type": "stream",
     "text": [
      "[34.0 epo]: CXR8-DRAIN_PNEUMOTHORAX_slice:chest_drain_cnn_neg:pred:[CXR8-DRAIN_train/CXR8-DRAIN_PNEUMOTHORAX_slice:chest_drain_cnn_neg:pred/loss=1.75e-02, CXR8-DRAIN_valid/CXR8-DRAIN_PNEUMOTHORAX_slice:chest_drain_cnn_neg:pred/f1=1.02e-01, CXR8-DRAIN_valid/CXR8-DRAIN_PNEUMOTHORAX_slice:chest_drain_cnn_neg:pred/roc-auc=7.08e-01, CXR8-DRAIN_valid/CXR8-DRAIN_PNEUMOTHORAX_slice:chest_drain_cnn_neg:pred/accuracy=8.70e-01] model:[train/all/loss=1.75e-02, train/all/lr=3.20e-05, valid/all/loss=3.05e-01] CXR8-DRAIN_ATELECTASIS:[CXR8-DRAIN_valid/CXR8-DRAIN_ATELECTASIS/f1=0, CXR8-DRAIN_valid/CXR8-DRAIN_ATELECTASIS/roc-auc=6.32e-01, CXR8-DRAIN_valid/CXR8-DRAIN_ATELECTASIS/accuracy=9.01e-01] CXR8-DRAIN_CARDIOMEGALY:[CXR8-DRAIN_valid/CXR8-DRAIN_CARDIOMEGALY/f1=0, CXR8-DRAIN_valid/CXR8-DRAIN_CARDIOMEGALY/roc-auc=6.79e-01, CXR8-DRAIN_valid/CXR8-DRAIN_CARDIOMEGALY/accuracy=9.78e-01] CXR8-DRAIN_EFFUSION:[CXR8-DRAIN_valid/CXR8-DRAIN_EFFUSION/f1=0, CXR8-DRAIN_valid/CXR8-DRAIN_EFFUSION/roc-auc=7.32e-01, CXR8-DRAIN_valid/CXR8-DRAIN_EFFUSION/accuracy=8.84e-01] CXR8-DRAIN_INFILTRATION:[CXR8-DRAIN_valid/CXR8-DRAIN_INFILTRATION/f1=0, CXR8-DRAIN_valid/CXR8-DRAIN_INFILTRATION/roc-auc=6.37e-01, CXR8-DRAIN_valid/CXR8-DRAIN_INFILTRATION/accuracy=8.21e-01] CXR8-DRAIN_MASS:[CXR8-DRAIN_valid/CXR8-DRAIN_MASS/f1=0, CXR8-DRAIN_valid/CXR8-DRAIN_MASS/roc-auc=6.68e-01, CXR8-DRAIN_valid/CXR8-DRAIN_MASS/accuracy=9.43e-01] CXR8-DRAIN_NODULE:[CXR8-DRAIN_valid/CXR8-DRAIN_NODULE/f1=0, CXR8-DRAIN_valid/CXR8-DRAIN_NODULE/roc-auc=5.97e-01, CXR8-DRAIN_valid/CXR8-DRAIN_NODULE/accuracy=9.44e-01] CXR8-DRAIN_PNEUMONIA:[CXR8-DRAIN_valid/CXR8-DRAIN_PNEUMONIA/f1=0, CXR8-DRAIN_valid/CXR8-DRAIN_PNEUMONIA/roc-auc=5.90e-01, CXR8-DRAIN_valid/CXR8-DRAIN_PNEUMONIA/accuracy=9.88e-01] CXR8-DRAIN_PNEUMOTHORAX:[CXR8-DRAIN_valid/CXR8-DRAIN_PNEUMOTHORAX/f1=3.33e-01, CXR8-DRAIN_valid/CXR8-DRAIN_PNEUMOTHORAX/roc-auc=8.24e-01, CXR8-DRAIN_valid/CXR8-DRAIN_PNEUMOTHORAX/accuracy=8.88e-01] CXR8-DRAIN_CONSOLIDATION:[CXR8-DRAIN_valid/CXR8-DRAIN_CONSOLIDATION/f1=0, CXR8-DRAIN_valid/CXR8-DRAIN_CONSOLIDATION/roc-auc=6.91e-01, CXR8-DRAIN_valid/CXR8-DRAIN_CONSOLIDATION/accuracy=9.61e-01] CXR8-DRAIN_EDEMA:[CXR8-DRAIN_valid/CXR8-DRAIN_EDEMA/f1=0, CXR8-DRAIN_valid/CXR8-DRAIN_EDEMA/roc-auc=7.64e-01, CXR8-DRAIN_valid/CXR8-DRAIN_EDEMA/accuracy=9.82e-01] CXR8-DRAIN_EMPHYSEMA:[CXR8-DRAIN_valid/CXR8-DRAIN_EMPHYSEMA/f1=0, CXR8-DRAIN_valid/CXR8-DRAIN_EMPHYSEMA/roc-auc=7.68e-01, CXR8-DRAIN_valid/CXR8-DRAIN_EMPHYSEMA/accuracy=9.80e-01] CXR8-DRAIN_FIBROSIS:[CXR8-DRAIN_valid/CXR8-DRAIN_FIBROSIS/f1=0, CXR8-DRAIN_valid/CXR8-DRAIN_FIBROSIS/roc-auc=5.67e-01, CXR8-DRAIN_valid/CXR8-DRAIN_FIBROSIS/accuracy=9.85e-01] CXR8-DRAIN_PLEURAL_THICKENING:[CXR8-DRAIN_valid/CXR8-DRAIN_PLEURAL_THICKENING/f1=0, CXR8-DRAIN_valid/CXR8-DRAIN_PLEURAL_THICKENING/roc-auc=6.57e-01, CXR8-DRAIN_valid/CXR8-DRAIN_PLEURAL_THICKENING/accuracy=9.67e-01] CXR8-DRAIN_HERNIA:[CXR8-DRAIN_valid/CXR8-DRAIN_HERNIA/f1=0, CXR8-DRAIN_valid/CXR8-DRAIN_HERNIA/roc-auc=6.83e-01, CXR8-DRAIN_valid/CXR8-DRAIN_HERNIA/accuracy=9.96e-01]\n"
     ]
    },
    {
     "name": "stderr",
     "output_type": "stream",
     "text": [
      "metal.mmtl.trainer - INFO - Freezing ['CXR8-DRAIN_ATELECTASIS', 'CXR8-DRAIN_CARDIOMEGALY', 'CXR8-DRAIN_EFFUSION', 'CXR8-DRAIN_INFILTRATION', 'CXR8-DRAIN_MASS', 'CXR8-DRAIN_NODULE', 'CXR8-DRAIN_PNEUMONIA', 'CXR8-DRAIN_PNEUMOTHORAX', 'CXR8-DRAIN_CONSOLIDATION', 'CXR8-DRAIN_EDEMA', 'CXR8-DRAIN_EMPHYSEMA', 'CXR8-DRAIN_FIBROSIS', 'CXR8-DRAIN_PLEURAL_THICKENING', 'CXR8-DRAIN_HERNIA'] heads\n",
      "metal.mmtl.trainer - INFO - Training tasks {'CXR8-DRAIN_PNEUMOTHORAX_slice:chest_drain_cnn_neg:pred': 'CXR8-DRAIN_PNEUMOTHORAX_slice:chest_drain_cnn_neg:pred'}\n",
      "root - INFO - Summary name CXR8-DRAIN_PNEUMOTHORAX_slice:chest_drain_cnn_neg:pred/CXR8-DRAIN_train/CXR8-DRAIN_PNEUMOTHORAX_slice:chest_drain_cnn_neg:pred/loss is illegal; using CXR8-DRAIN_PNEUMOTHORAX_slice_chest_drain_cnn_neg_pred/CXR8-DRAIN_train/CXR8-DRAIN_PNEUMOTHORAX_slice_chest_drain_cnn_neg_pred/loss instead.\n",
      "root - INFO - Summary name CXR8-DRAIN_PNEUMOTHORAX_slice:chest_drain_cnn_neg:pred/CXR8-DRAIN_valid/CXR8-DRAIN_PNEUMOTHORAX_slice:chest_drain_cnn_neg:pred/f1 is illegal; using CXR8-DRAIN_PNEUMOTHORAX_slice_chest_drain_cnn_neg_pred/CXR8-DRAIN_valid/CXR8-DRAIN_PNEUMOTHORAX_slice_chest_drain_cnn_neg_pred/f1 instead.\n",
      "root - INFO - Summary name CXR8-DRAIN_PNEUMOTHORAX_slice:chest_drain_cnn_neg:pred/CXR8-DRAIN_valid/CXR8-DRAIN_PNEUMOTHORAX_slice:chest_drain_cnn_neg:pred/roc-auc is illegal; using CXR8-DRAIN_PNEUMOTHORAX_slice_chest_drain_cnn_neg_pred/CXR8-DRAIN_valid/CXR8-DRAIN_PNEUMOTHORAX_slice_chest_drain_cnn_neg_pred/roc-auc instead.\n",
      "root - INFO - Summary name CXR8-DRAIN_PNEUMOTHORAX_slice:chest_drain_cnn_neg:pred/CXR8-DRAIN_valid/CXR8-DRAIN_PNEUMOTHORAX_slice:chest_drain_cnn_neg:pred/accuracy is illegal; using CXR8-DRAIN_PNEUMOTHORAX_slice_chest_drain_cnn_neg_pred/CXR8-DRAIN_valid/CXR8-DRAIN_PNEUMOTHORAX_slice_chest_drain_cnn_neg_pred/accuracy instead.\n"
     ]
    },
    {
     "name": "stdout",
     "output_type": "stream",
     "text": [
      "[35.0 epo]: CXR8-DRAIN_PNEUMOTHORAX_slice:chest_drain_cnn_neg:pred:[CXR8-DRAIN_train/CXR8-DRAIN_PNEUMOTHORAX_slice:chest_drain_cnn_neg:pred/loss=1.19e-02, CXR8-DRAIN_valid/CXR8-DRAIN_PNEUMOTHORAX_slice:chest_drain_cnn_neg:pred/f1=1.04e-01, CXR8-DRAIN_valid/CXR8-DRAIN_PNEUMOTHORAX_slice:chest_drain_cnn_neg:pred/roc-auc=7.06e-01, CXR8-DRAIN_valid/CXR8-DRAIN_PNEUMOTHORAX_slice:chest_drain_cnn_neg:pred/accuracy=8.75e-01] model:[train/all/loss=1.19e-02, train/all/lr=3.00e-05, valid/all/loss=3.19e-01] CXR8-DRAIN_ATELECTASIS:[CXR8-DRAIN_valid/CXR8-DRAIN_ATELECTASIS/f1=0, CXR8-DRAIN_valid/CXR8-DRAIN_ATELECTASIS/roc-auc=6.25e-01, CXR8-DRAIN_valid/CXR8-DRAIN_ATELECTASIS/accuracy=9.01e-01] CXR8-DRAIN_CARDIOMEGALY:[CXR8-DRAIN_valid/CXR8-DRAIN_CARDIOMEGALY/f1=0, CXR8-DRAIN_valid/CXR8-DRAIN_CARDIOMEGALY/roc-auc=6.60e-01, CXR8-DRAIN_valid/CXR8-DRAIN_CARDIOMEGALY/accuracy=9.78e-01] CXR8-DRAIN_EFFUSION:[CXR8-DRAIN_valid/CXR8-DRAIN_EFFUSION/f1=0, CXR8-DRAIN_valid/CXR8-DRAIN_EFFUSION/roc-auc=7.23e-01, CXR8-DRAIN_valid/CXR8-DRAIN_EFFUSION/accuracy=8.84e-01] CXR8-DRAIN_INFILTRATION:[CXR8-DRAIN_valid/CXR8-DRAIN_INFILTRATION/f1=0, CXR8-DRAIN_valid/CXR8-DRAIN_INFILTRATION/roc-auc=6.16e-01, CXR8-DRAIN_valid/CXR8-DRAIN_INFILTRATION/accuracy=8.21e-01] CXR8-DRAIN_MASS:[CXR8-DRAIN_valid/CXR8-DRAIN_MASS/f1=0, CXR8-DRAIN_valid/CXR8-DRAIN_MASS/roc-auc=6.67e-01, CXR8-DRAIN_valid/CXR8-DRAIN_MASS/accuracy=9.43e-01] CXR8-DRAIN_NODULE:[CXR8-DRAIN_valid/CXR8-DRAIN_NODULE/f1=0, CXR8-DRAIN_valid/CXR8-DRAIN_NODULE/roc-auc=5.93e-01, CXR8-DRAIN_valid/CXR8-DRAIN_NODULE/accuracy=9.44e-01] CXR8-DRAIN_PNEUMONIA:[CXR8-DRAIN_valid/CXR8-DRAIN_PNEUMONIA/f1=0, CXR8-DRAIN_valid/CXR8-DRAIN_PNEUMONIA/roc-auc=5.61e-01, CXR8-DRAIN_valid/CXR8-DRAIN_PNEUMONIA/accuracy=9.88e-01] CXR8-DRAIN_PNEUMOTHORAX:[CXR8-DRAIN_valid/CXR8-DRAIN_PNEUMOTHORAX/f1=3.36e-01, CXR8-DRAIN_valid/CXR8-DRAIN_PNEUMOTHORAX/roc-auc=8.11e-01, CXR8-DRAIN_valid/CXR8-DRAIN_PNEUMOTHORAX/accuracy=8.90e-01] CXR8-DRAIN_CONSOLIDATION:[CXR8-DRAIN_valid/CXR8-DRAIN_CONSOLIDATION/f1=0, CXR8-DRAIN_valid/CXR8-DRAIN_CONSOLIDATION/roc-auc=6.62e-01, CXR8-DRAIN_valid/CXR8-DRAIN_CONSOLIDATION/accuracy=9.61e-01] CXR8-DRAIN_EDEMA:[CXR8-DRAIN_valid/CXR8-DRAIN_EDEMA/f1=0, CXR8-DRAIN_valid/CXR8-DRAIN_EDEMA/roc-auc=7.07e-01, CXR8-DRAIN_valid/CXR8-DRAIN_EDEMA/accuracy=9.82e-01] CXR8-DRAIN_EMPHYSEMA:[CXR8-DRAIN_valid/CXR8-DRAIN_EMPHYSEMA/f1=0, CXR8-DRAIN_valid/CXR8-DRAIN_EMPHYSEMA/roc-auc=8.01e-01, CXR8-DRAIN_valid/CXR8-DRAIN_EMPHYSEMA/accuracy=9.80e-01] CXR8-DRAIN_FIBROSIS:[CXR8-DRAIN_valid/CXR8-DRAIN_FIBROSIS/f1=0, CXR8-DRAIN_valid/CXR8-DRAIN_FIBROSIS/roc-auc=5.50e-01, CXR8-DRAIN_valid/CXR8-DRAIN_FIBROSIS/accuracy=9.85e-01] CXR8-DRAIN_PLEURAL_THICKENING:[CXR8-DRAIN_valid/CXR8-DRAIN_PLEURAL_THICKENING/f1=0, CXR8-DRAIN_valid/CXR8-DRAIN_PLEURAL_THICKENING/roc-auc=6.46e-01, CXR8-DRAIN_valid/CXR8-DRAIN_PLEURAL_THICKENING/accuracy=9.67e-01] CXR8-DRAIN_HERNIA:[CXR8-DRAIN_valid/CXR8-DRAIN_HERNIA/f1=0, CXR8-DRAIN_valid/CXR8-DRAIN_HERNIA/roc-auc=6.75e-01, CXR8-DRAIN_valid/CXR8-DRAIN_HERNIA/accuracy=9.96e-01]\n"
     ]
    },
    {
     "name": "stderr",
     "output_type": "stream",
     "text": [
      "metal.mmtl.trainer - INFO - Freezing ['CXR8-DRAIN_ATELECTASIS', 'CXR8-DRAIN_CARDIOMEGALY', 'CXR8-DRAIN_EFFUSION', 'CXR8-DRAIN_INFILTRATION', 'CXR8-DRAIN_MASS', 'CXR8-DRAIN_NODULE', 'CXR8-DRAIN_PNEUMONIA', 'CXR8-DRAIN_PNEUMOTHORAX', 'CXR8-DRAIN_CONSOLIDATION', 'CXR8-DRAIN_EDEMA', 'CXR8-DRAIN_EMPHYSEMA', 'CXR8-DRAIN_FIBROSIS', 'CXR8-DRAIN_PLEURAL_THICKENING', 'CXR8-DRAIN_HERNIA'] heads\n",
      "metal.mmtl.trainer - INFO - Training tasks {'CXR8-DRAIN_PNEUMOTHORAX_slice:chest_drain_cnn_neg:pred': 'CXR8-DRAIN_PNEUMOTHORAX_slice:chest_drain_cnn_neg:pred'}\n",
      "root - INFO - Summary name CXR8-DRAIN_PNEUMOTHORAX_slice:chest_drain_cnn_neg:pred/CXR8-DRAIN_train/CXR8-DRAIN_PNEUMOTHORAX_slice:chest_drain_cnn_neg:pred/loss is illegal; using CXR8-DRAIN_PNEUMOTHORAX_slice_chest_drain_cnn_neg_pred/CXR8-DRAIN_train/CXR8-DRAIN_PNEUMOTHORAX_slice_chest_drain_cnn_neg_pred/loss instead.\n",
      "root - INFO - Summary name CXR8-DRAIN_PNEUMOTHORAX_slice:chest_drain_cnn_neg:pred/CXR8-DRAIN_valid/CXR8-DRAIN_PNEUMOTHORAX_slice:chest_drain_cnn_neg:pred/f1 is illegal; using CXR8-DRAIN_PNEUMOTHORAX_slice_chest_drain_cnn_neg_pred/CXR8-DRAIN_valid/CXR8-DRAIN_PNEUMOTHORAX_slice_chest_drain_cnn_neg_pred/f1 instead.\n",
      "root - INFO - Summary name CXR8-DRAIN_PNEUMOTHORAX_slice:chest_drain_cnn_neg:pred/CXR8-DRAIN_valid/CXR8-DRAIN_PNEUMOTHORAX_slice:chest_drain_cnn_neg:pred/roc-auc is illegal; using CXR8-DRAIN_PNEUMOTHORAX_slice_chest_drain_cnn_neg_pred/CXR8-DRAIN_valid/CXR8-DRAIN_PNEUMOTHORAX_slice_chest_drain_cnn_neg_pred/roc-auc instead.\n",
      "root - INFO - Summary name CXR8-DRAIN_PNEUMOTHORAX_slice:chest_drain_cnn_neg:pred/CXR8-DRAIN_valid/CXR8-DRAIN_PNEUMOTHORAX_slice:chest_drain_cnn_neg:pred/accuracy is illegal; using CXR8-DRAIN_PNEUMOTHORAX_slice_chest_drain_cnn_neg_pred/CXR8-DRAIN_valid/CXR8-DRAIN_PNEUMOTHORAX_slice_chest_drain_cnn_neg_pred/accuracy instead.\n"
     ]
    },
    {
     "name": "stdout",
     "output_type": "stream",
     "text": [
      "[36.0 epo]: CXR8-DRAIN_PNEUMOTHORAX_slice:chest_drain_cnn_neg:pred:[CXR8-DRAIN_train/CXR8-DRAIN_PNEUMOTHORAX_slice:chest_drain_cnn_neg:pred/loss=1.69e-02, CXR8-DRAIN_valid/CXR8-DRAIN_PNEUMOTHORAX_slice:chest_drain_cnn_neg:pred/f1=9.61e-02, CXR8-DRAIN_valid/CXR8-DRAIN_PNEUMOTHORAX_slice:chest_drain_cnn_neg:pred/roc-auc=6.77e-01, CXR8-DRAIN_valid/CXR8-DRAIN_PNEUMOTHORAX_slice:chest_drain_cnn_neg:pred/accuracy=8.66e-01] model:[train/all/loss=1.69e-02, train/all/lr=2.80e-05, valid/all/loss=3.02e-01] CXR8-DRAIN_ATELECTASIS:[CXR8-DRAIN_valid/CXR8-DRAIN_ATELECTASIS/f1=0, CXR8-DRAIN_valid/CXR8-DRAIN_ATELECTASIS/roc-auc=6.07e-01, CXR8-DRAIN_valid/CXR8-DRAIN_ATELECTASIS/accuracy=9.01e-01] CXR8-DRAIN_CARDIOMEGALY:[CXR8-DRAIN_valid/CXR8-DRAIN_CARDIOMEGALY/f1=0, CXR8-DRAIN_valid/CXR8-DRAIN_CARDIOMEGALY/roc-auc=6.47e-01, CXR8-DRAIN_valid/CXR8-DRAIN_CARDIOMEGALY/accuracy=9.78e-01] CXR8-DRAIN_EFFUSION:[CXR8-DRAIN_valid/CXR8-DRAIN_EFFUSION/f1=0, CXR8-DRAIN_valid/CXR8-DRAIN_EFFUSION/roc-auc=7.05e-01, CXR8-DRAIN_valid/CXR8-DRAIN_EFFUSION/accuracy=8.84e-01] CXR8-DRAIN_INFILTRATION:[CXR8-DRAIN_valid/CXR8-DRAIN_INFILTRATION/f1=0, CXR8-DRAIN_valid/CXR8-DRAIN_INFILTRATION/roc-auc=6.13e-01, CXR8-DRAIN_valid/CXR8-DRAIN_INFILTRATION/accuracy=8.21e-01] CXR8-DRAIN_MASS:[CXR8-DRAIN_valid/CXR8-DRAIN_MASS/f1=0, CXR8-DRAIN_valid/CXR8-DRAIN_MASS/roc-auc=6.40e-01, CXR8-DRAIN_valid/CXR8-DRAIN_MASS/accuracy=9.43e-01] CXR8-DRAIN_NODULE:[CXR8-DRAIN_valid/CXR8-DRAIN_NODULE/f1=0, CXR8-DRAIN_valid/CXR8-DRAIN_NODULE/roc-auc=5.90e-01, CXR8-DRAIN_valid/CXR8-DRAIN_NODULE/accuracy=9.44e-01] CXR8-DRAIN_PNEUMONIA:[CXR8-DRAIN_valid/CXR8-DRAIN_PNEUMONIA/f1=0, CXR8-DRAIN_valid/CXR8-DRAIN_PNEUMONIA/roc-auc=5.27e-01, CXR8-DRAIN_valid/CXR8-DRAIN_PNEUMONIA/accuracy=9.88e-01] CXR8-DRAIN_PNEUMOTHORAX:[CXR8-DRAIN_valid/CXR8-DRAIN_PNEUMOTHORAX/f1=2.99e-01, CXR8-DRAIN_valid/CXR8-DRAIN_PNEUMOTHORAX/roc-auc=7.95e-01, CXR8-DRAIN_valid/CXR8-DRAIN_PNEUMOTHORAX/accuracy=8.80e-01] CXR8-DRAIN_CONSOLIDATION:[CXR8-DRAIN_valid/CXR8-DRAIN_CONSOLIDATION/f1=0, CXR8-DRAIN_valid/CXR8-DRAIN_CONSOLIDATION/roc-auc=6.31e-01, CXR8-DRAIN_valid/CXR8-DRAIN_CONSOLIDATION/accuracy=9.61e-01] CXR8-DRAIN_EDEMA:[CXR8-DRAIN_valid/CXR8-DRAIN_EDEMA/f1=0, CXR8-DRAIN_valid/CXR8-DRAIN_EDEMA/roc-auc=7.01e-01, CXR8-DRAIN_valid/CXR8-DRAIN_EDEMA/accuracy=9.82e-01] CXR8-DRAIN_EMPHYSEMA:[CXR8-DRAIN_valid/CXR8-DRAIN_EMPHYSEMA/f1=0, CXR8-DRAIN_valid/CXR8-DRAIN_EMPHYSEMA/roc-auc=7.88e-01, CXR8-DRAIN_valid/CXR8-DRAIN_EMPHYSEMA/accuracy=9.80e-01] CXR8-DRAIN_FIBROSIS:[CXR8-DRAIN_valid/CXR8-DRAIN_FIBROSIS/f1=0, CXR8-DRAIN_valid/CXR8-DRAIN_FIBROSIS/roc-auc=5.53e-01, CXR8-DRAIN_valid/CXR8-DRAIN_FIBROSIS/accuracy=9.85e-01] CXR8-DRAIN_PLEURAL_THICKENING:[CXR8-DRAIN_valid/CXR8-DRAIN_PLEURAL_THICKENING/f1=0, CXR8-DRAIN_valid/CXR8-DRAIN_PLEURAL_THICKENING/roc-auc=6.49e-01, CXR8-DRAIN_valid/CXR8-DRAIN_PLEURAL_THICKENING/accuracy=9.67e-01] CXR8-DRAIN_HERNIA:[CXR8-DRAIN_valid/CXR8-DRAIN_HERNIA/f1=0, CXR8-DRAIN_valid/CXR8-DRAIN_HERNIA/roc-auc=6.64e-01, CXR8-DRAIN_valid/CXR8-DRAIN_HERNIA/accuracy=9.96e-01]\n"
     ]
    },
    {
     "name": "stderr",
     "output_type": "stream",
     "text": [
      "metal.mmtl.trainer - INFO - Freezing ['CXR8-DRAIN_ATELECTASIS', 'CXR8-DRAIN_CARDIOMEGALY', 'CXR8-DRAIN_EFFUSION', 'CXR8-DRAIN_INFILTRATION', 'CXR8-DRAIN_MASS', 'CXR8-DRAIN_NODULE', 'CXR8-DRAIN_PNEUMONIA', 'CXR8-DRAIN_PNEUMOTHORAX', 'CXR8-DRAIN_CONSOLIDATION', 'CXR8-DRAIN_EDEMA', 'CXR8-DRAIN_EMPHYSEMA', 'CXR8-DRAIN_FIBROSIS', 'CXR8-DRAIN_PLEURAL_THICKENING', 'CXR8-DRAIN_HERNIA'] heads\n",
      "metal.mmtl.trainer - INFO - Training tasks {'CXR8-DRAIN_PNEUMOTHORAX_slice:chest_drain_cnn_neg:pred': 'CXR8-DRAIN_PNEUMOTHORAX_slice:chest_drain_cnn_neg:pred'}\n",
      "root - INFO - Summary name CXR8-DRAIN_PNEUMOTHORAX_slice:chest_drain_cnn_neg:pred/CXR8-DRAIN_train/CXR8-DRAIN_PNEUMOTHORAX_slice:chest_drain_cnn_neg:pred/loss is illegal; using CXR8-DRAIN_PNEUMOTHORAX_slice_chest_drain_cnn_neg_pred/CXR8-DRAIN_train/CXR8-DRAIN_PNEUMOTHORAX_slice_chest_drain_cnn_neg_pred/loss instead.\n",
      "root - INFO - Summary name CXR8-DRAIN_PNEUMOTHORAX_slice:chest_drain_cnn_neg:pred/CXR8-DRAIN_valid/CXR8-DRAIN_PNEUMOTHORAX_slice:chest_drain_cnn_neg:pred/f1 is illegal; using CXR8-DRAIN_PNEUMOTHORAX_slice_chest_drain_cnn_neg_pred/CXR8-DRAIN_valid/CXR8-DRAIN_PNEUMOTHORAX_slice_chest_drain_cnn_neg_pred/f1 instead.\n",
      "root - INFO - Summary name CXR8-DRAIN_PNEUMOTHORAX_slice:chest_drain_cnn_neg:pred/CXR8-DRAIN_valid/CXR8-DRAIN_PNEUMOTHORAX_slice:chest_drain_cnn_neg:pred/roc-auc is illegal; using CXR8-DRAIN_PNEUMOTHORAX_slice_chest_drain_cnn_neg_pred/CXR8-DRAIN_valid/CXR8-DRAIN_PNEUMOTHORAX_slice_chest_drain_cnn_neg_pred/roc-auc instead.\n",
      "root - INFO - Summary name CXR8-DRAIN_PNEUMOTHORAX_slice:chest_drain_cnn_neg:pred/CXR8-DRAIN_valid/CXR8-DRAIN_PNEUMOTHORAX_slice:chest_drain_cnn_neg:pred/accuracy is illegal; using CXR8-DRAIN_PNEUMOTHORAX_slice_chest_drain_cnn_neg_pred/CXR8-DRAIN_valid/CXR8-DRAIN_PNEUMOTHORAX_slice_chest_drain_cnn_neg_pred/accuracy instead.\n"
     ]
    },
    {
     "name": "stdout",
     "output_type": "stream",
     "text": [
      "[37.0 epo]: CXR8-DRAIN_PNEUMOTHORAX_slice:chest_drain_cnn_neg:pred:[CXR8-DRAIN_train/CXR8-DRAIN_PNEUMOTHORAX_slice:chest_drain_cnn_neg:pred/loss=1.18e-02, CXR8-DRAIN_valid/CXR8-DRAIN_PNEUMOTHORAX_slice:chest_drain_cnn_neg:pred/f1=1.12e-01, CXR8-DRAIN_valid/CXR8-DRAIN_PNEUMOTHORAX_slice:chest_drain_cnn_neg:pred/roc-auc=7.00e-01, CXR8-DRAIN_valid/CXR8-DRAIN_PNEUMOTHORAX_slice:chest_drain_cnn_neg:pred/accuracy=9.00e-01] model:[train/all/loss=1.18e-02, train/all/lr=2.60e-05, valid/all/loss=2.92e-01] CXR8-DRAIN_ATELECTASIS:[CXR8-DRAIN_valid/CXR8-DRAIN_ATELECTASIS/f1=0, CXR8-DRAIN_valid/CXR8-DRAIN_ATELECTASIS/roc-auc=6.16e-01, CXR8-DRAIN_valid/CXR8-DRAIN_ATELECTASIS/accuracy=9.01e-01] CXR8-DRAIN_CARDIOMEGALY:[CXR8-DRAIN_valid/CXR8-DRAIN_CARDIOMEGALY/f1=0, CXR8-DRAIN_valid/CXR8-DRAIN_CARDIOMEGALY/roc-auc=6.83e-01, CXR8-DRAIN_valid/CXR8-DRAIN_CARDIOMEGALY/accuracy=9.78e-01] CXR8-DRAIN_EFFUSION:[CXR8-DRAIN_valid/CXR8-DRAIN_EFFUSION/f1=0, CXR8-DRAIN_valid/CXR8-DRAIN_EFFUSION/roc-auc=7.10e-01, CXR8-DRAIN_valid/CXR8-DRAIN_EFFUSION/accuracy=8.84e-01] CXR8-DRAIN_INFILTRATION:[CXR8-DRAIN_valid/CXR8-DRAIN_INFILTRATION/f1=0, CXR8-DRAIN_valid/CXR8-DRAIN_INFILTRATION/roc-auc=6.21e-01, CXR8-DRAIN_valid/CXR8-DRAIN_INFILTRATION/accuracy=8.21e-01] CXR8-DRAIN_MASS:[CXR8-DRAIN_valid/CXR8-DRAIN_MASS/f1=0, CXR8-DRAIN_valid/CXR8-DRAIN_MASS/roc-auc=6.74e-01, CXR8-DRAIN_valid/CXR8-DRAIN_MASS/accuracy=9.43e-01] CXR8-DRAIN_NODULE:[CXR8-DRAIN_valid/CXR8-DRAIN_NODULE/f1=0, CXR8-DRAIN_valid/CXR8-DRAIN_NODULE/roc-auc=5.99e-01, CXR8-DRAIN_valid/CXR8-DRAIN_NODULE/accuracy=9.44e-01] CXR8-DRAIN_PNEUMONIA:[CXR8-DRAIN_valid/CXR8-DRAIN_PNEUMONIA/f1=0, CXR8-DRAIN_valid/CXR8-DRAIN_PNEUMONIA/roc-auc=5.90e-01, CXR8-DRAIN_valid/CXR8-DRAIN_PNEUMONIA/accuracy=9.88e-01] CXR8-DRAIN_PNEUMOTHORAX:[CXR8-DRAIN_valid/CXR8-DRAIN_PNEUMOTHORAX/f1=3.47e-01, CXR8-DRAIN_valid/CXR8-DRAIN_PNEUMOTHORAX/roc-auc=8.12e-01, CXR8-DRAIN_valid/CXR8-DRAIN_PNEUMOTHORAX/accuracy=9.09e-01] CXR8-DRAIN_CONSOLIDATION:[CXR8-DRAIN_valid/CXR8-DRAIN_CONSOLIDATION/f1=0, CXR8-DRAIN_valid/CXR8-DRAIN_CONSOLIDATION/roc-auc=6.60e-01, CXR8-DRAIN_valid/CXR8-DRAIN_CONSOLIDATION/accuracy=9.61e-01] CXR8-DRAIN_EDEMA:[CXR8-DRAIN_valid/CXR8-DRAIN_EDEMA/f1=0, CXR8-DRAIN_valid/CXR8-DRAIN_EDEMA/roc-auc=7.44e-01, CXR8-DRAIN_valid/CXR8-DRAIN_EDEMA/accuracy=9.82e-01] CXR8-DRAIN_EMPHYSEMA:[CXR8-DRAIN_valid/CXR8-DRAIN_EMPHYSEMA/f1=0, CXR8-DRAIN_valid/CXR8-DRAIN_EMPHYSEMA/roc-auc=8.03e-01, CXR8-DRAIN_valid/CXR8-DRAIN_EMPHYSEMA/accuracy=9.80e-01] CXR8-DRAIN_FIBROSIS:[CXR8-DRAIN_valid/CXR8-DRAIN_FIBROSIS/f1=0, CXR8-DRAIN_valid/CXR8-DRAIN_FIBROSIS/roc-auc=5.68e-01, CXR8-DRAIN_valid/CXR8-DRAIN_FIBROSIS/accuracy=9.85e-01] CXR8-DRAIN_PLEURAL_THICKENING:[CXR8-DRAIN_valid/CXR8-DRAIN_PLEURAL_THICKENING/f1=0, CXR8-DRAIN_valid/CXR8-DRAIN_PLEURAL_THICKENING/roc-auc=6.62e-01, CXR8-DRAIN_valid/CXR8-DRAIN_PLEURAL_THICKENING/accuracy=9.67e-01] CXR8-DRAIN_HERNIA:[CXR8-DRAIN_valid/CXR8-DRAIN_HERNIA/f1=0, CXR8-DRAIN_valid/CXR8-DRAIN_HERNIA/roc-auc=7.23e-01, CXR8-DRAIN_valid/CXR8-DRAIN_HERNIA/accuracy=9.96e-01]\n"
     ]
    },
    {
     "name": "stderr",
     "output_type": "stream",
     "text": [
      "metal.mmtl.trainer - INFO - Freezing ['CXR8-DRAIN_ATELECTASIS', 'CXR8-DRAIN_CARDIOMEGALY', 'CXR8-DRAIN_EFFUSION', 'CXR8-DRAIN_INFILTRATION', 'CXR8-DRAIN_MASS', 'CXR8-DRAIN_NODULE', 'CXR8-DRAIN_PNEUMONIA', 'CXR8-DRAIN_PNEUMOTHORAX', 'CXR8-DRAIN_CONSOLIDATION', 'CXR8-DRAIN_EDEMA', 'CXR8-DRAIN_EMPHYSEMA', 'CXR8-DRAIN_FIBROSIS', 'CXR8-DRAIN_PLEURAL_THICKENING', 'CXR8-DRAIN_HERNIA'] heads\n",
      "metal.mmtl.trainer - INFO - Training tasks {'CXR8-DRAIN_PNEUMOTHORAX_slice:chest_drain_cnn_neg:pred': 'CXR8-DRAIN_PNEUMOTHORAX_slice:chest_drain_cnn_neg:pred'}\n",
      "root - INFO - Summary name CXR8-DRAIN_PNEUMOTHORAX_slice:chest_drain_cnn_neg:pred/CXR8-DRAIN_train/CXR8-DRAIN_PNEUMOTHORAX_slice:chest_drain_cnn_neg:pred/loss is illegal; using CXR8-DRAIN_PNEUMOTHORAX_slice_chest_drain_cnn_neg_pred/CXR8-DRAIN_train/CXR8-DRAIN_PNEUMOTHORAX_slice_chest_drain_cnn_neg_pred/loss instead.\n",
      "root - INFO - Summary name CXR8-DRAIN_PNEUMOTHORAX_slice:chest_drain_cnn_neg:pred/CXR8-DRAIN_valid/CXR8-DRAIN_PNEUMOTHORAX_slice:chest_drain_cnn_neg:pred/f1 is illegal; using CXR8-DRAIN_PNEUMOTHORAX_slice_chest_drain_cnn_neg_pred/CXR8-DRAIN_valid/CXR8-DRAIN_PNEUMOTHORAX_slice_chest_drain_cnn_neg_pred/f1 instead.\n",
      "root - INFO - Summary name CXR8-DRAIN_PNEUMOTHORAX_slice:chest_drain_cnn_neg:pred/CXR8-DRAIN_valid/CXR8-DRAIN_PNEUMOTHORAX_slice:chest_drain_cnn_neg:pred/roc-auc is illegal; using CXR8-DRAIN_PNEUMOTHORAX_slice_chest_drain_cnn_neg_pred/CXR8-DRAIN_valid/CXR8-DRAIN_PNEUMOTHORAX_slice_chest_drain_cnn_neg_pred/roc-auc instead.\n",
      "root - INFO - Summary name CXR8-DRAIN_PNEUMOTHORAX_slice:chest_drain_cnn_neg:pred/CXR8-DRAIN_valid/CXR8-DRAIN_PNEUMOTHORAX_slice:chest_drain_cnn_neg:pred/accuracy is illegal; using CXR8-DRAIN_PNEUMOTHORAX_slice_chest_drain_cnn_neg_pred/CXR8-DRAIN_valid/CXR8-DRAIN_PNEUMOTHORAX_slice_chest_drain_cnn_neg_pred/accuracy instead.\n"
     ]
    },
    {
     "name": "stdout",
     "output_type": "stream",
     "text": [
      "[38.0 epo]: CXR8-DRAIN_PNEUMOTHORAX_slice:chest_drain_cnn_neg:pred:[CXR8-DRAIN_train/CXR8-DRAIN_PNEUMOTHORAX_slice:chest_drain_cnn_neg:pred/loss=8.29e-03, CXR8-DRAIN_valid/CXR8-DRAIN_PNEUMOTHORAX_slice:chest_drain_cnn_neg:pred/f1=9.57e-02, CXR8-DRAIN_valid/CXR8-DRAIN_PNEUMOTHORAX_slice:chest_drain_cnn_neg:pred/roc-auc=6.98e-01, CXR8-DRAIN_valid/CXR8-DRAIN_PNEUMOTHORAX_slice:chest_drain_cnn_neg:pred/accuracy=8.82e-01] model:[train/all/loss=8.29e-03, train/all/lr=2.40e-05, valid/all/loss=3.13e-01] CXR8-DRAIN_ATELECTASIS:[CXR8-DRAIN_valid/CXR8-DRAIN_ATELECTASIS/f1=0, CXR8-DRAIN_valid/CXR8-DRAIN_ATELECTASIS/roc-auc=6.16e-01, CXR8-DRAIN_valid/CXR8-DRAIN_ATELECTASIS/accuracy=9.01e-01] CXR8-DRAIN_CARDIOMEGALY:[CXR8-DRAIN_valid/CXR8-DRAIN_CARDIOMEGALY/f1=0, CXR8-DRAIN_valid/CXR8-DRAIN_CARDIOMEGALY/roc-auc=6.89e-01, CXR8-DRAIN_valid/CXR8-DRAIN_CARDIOMEGALY/accuracy=9.78e-01] CXR8-DRAIN_EFFUSION:[CXR8-DRAIN_valid/CXR8-DRAIN_EFFUSION/f1=0, CXR8-DRAIN_valid/CXR8-DRAIN_EFFUSION/roc-auc=7.13e-01, CXR8-DRAIN_valid/CXR8-DRAIN_EFFUSION/accuracy=8.84e-01] CXR8-DRAIN_INFILTRATION:[CXR8-DRAIN_valid/CXR8-DRAIN_INFILTRATION/f1=0, CXR8-DRAIN_valid/CXR8-DRAIN_INFILTRATION/roc-auc=6.25e-01, CXR8-DRAIN_valid/CXR8-DRAIN_INFILTRATION/accuracy=8.21e-01] CXR8-DRAIN_MASS:[CXR8-DRAIN_valid/CXR8-DRAIN_MASS/f1=0, CXR8-DRAIN_valid/CXR8-DRAIN_MASS/roc-auc=6.76e-01, CXR8-DRAIN_valid/CXR8-DRAIN_MASS/accuracy=9.43e-01] CXR8-DRAIN_NODULE:[CXR8-DRAIN_valid/CXR8-DRAIN_NODULE/f1=0, CXR8-DRAIN_valid/CXR8-DRAIN_NODULE/roc-auc=6.04e-01, CXR8-DRAIN_valid/CXR8-DRAIN_NODULE/accuracy=9.44e-01] CXR8-DRAIN_PNEUMONIA:[CXR8-DRAIN_valid/CXR8-DRAIN_PNEUMONIA/f1=0, CXR8-DRAIN_valid/CXR8-DRAIN_PNEUMONIA/roc-auc=5.93e-01, CXR8-DRAIN_valid/CXR8-DRAIN_PNEUMONIA/accuracy=9.88e-01] CXR8-DRAIN_PNEUMOTHORAX:[CXR8-DRAIN_valid/CXR8-DRAIN_PNEUMOTHORAX/f1=3.18e-01, CXR8-DRAIN_valid/CXR8-DRAIN_PNEUMOTHORAX/roc-auc=8.05e-01, CXR8-DRAIN_valid/CXR8-DRAIN_PNEUMOTHORAX/accuracy=8.91e-01] CXR8-DRAIN_CONSOLIDATION:[CXR8-DRAIN_valid/CXR8-DRAIN_CONSOLIDATION/f1=0, CXR8-DRAIN_valid/CXR8-DRAIN_CONSOLIDATION/roc-auc=6.65e-01, CXR8-DRAIN_valid/CXR8-DRAIN_CONSOLIDATION/accuracy=9.61e-01] CXR8-DRAIN_EDEMA:[CXR8-DRAIN_valid/CXR8-DRAIN_EDEMA/f1=0, CXR8-DRAIN_valid/CXR8-DRAIN_EDEMA/roc-auc=7.45e-01, CXR8-DRAIN_valid/CXR8-DRAIN_EDEMA/accuracy=9.82e-01] CXR8-DRAIN_EMPHYSEMA:[CXR8-DRAIN_valid/CXR8-DRAIN_EMPHYSEMA/f1=0, CXR8-DRAIN_valid/CXR8-DRAIN_EMPHYSEMA/roc-auc=7.92e-01, CXR8-DRAIN_valid/CXR8-DRAIN_EMPHYSEMA/accuracy=9.80e-01] CXR8-DRAIN_FIBROSIS:[CXR8-DRAIN_valid/CXR8-DRAIN_FIBROSIS/f1=0, CXR8-DRAIN_valid/CXR8-DRAIN_FIBROSIS/roc-auc=5.80e-01, CXR8-DRAIN_valid/CXR8-DRAIN_FIBROSIS/accuracy=9.85e-01] CXR8-DRAIN_PLEURAL_THICKENING:[CXR8-DRAIN_valid/CXR8-DRAIN_PLEURAL_THICKENING/f1=0, CXR8-DRAIN_valid/CXR8-DRAIN_PLEURAL_THICKENING/roc-auc=6.62e-01, CXR8-DRAIN_valid/CXR8-DRAIN_PLEURAL_THICKENING/accuracy=9.67e-01] CXR8-DRAIN_HERNIA:[CXR8-DRAIN_valid/CXR8-DRAIN_HERNIA/f1=0, CXR8-DRAIN_valid/CXR8-DRAIN_HERNIA/roc-auc=7.25e-01, CXR8-DRAIN_valid/CXR8-DRAIN_HERNIA/accuracy=9.96e-01]\n"
     ]
    },
    {
     "name": "stderr",
     "output_type": "stream",
     "text": [
      "metal.mmtl.trainer - INFO - Freezing ['CXR8-DRAIN_ATELECTASIS', 'CXR8-DRAIN_CARDIOMEGALY', 'CXR8-DRAIN_EFFUSION', 'CXR8-DRAIN_INFILTRATION', 'CXR8-DRAIN_MASS', 'CXR8-DRAIN_NODULE', 'CXR8-DRAIN_PNEUMONIA', 'CXR8-DRAIN_PNEUMOTHORAX', 'CXR8-DRAIN_CONSOLIDATION', 'CXR8-DRAIN_EDEMA', 'CXR8-DRAIN_EMPHYSEMA', 'CXR8-DRAIN_FIBROSIS', 'CXR8-DRAIN_PLEURAL_THICKENING', 'CXR8-DRAIN_HERNIA'] heads\n",
      "metal.mmtl.trainer - INFO - Training tasks {'CXR8-DRAIN_PNEUMOTHORAX_slice:chest_drain_cnn_neg:pred': 'CXR8-DRAIN_PNEUMOTHORAX_slice:chest_drain_cnn_neg:pred'}\n",
      "root - INFO - Summary name CXR8-DRAIN_PNEUMOTHORAX_slice:chest_drain_cnn_neg:pred/CXR8-DRAIN_train/CXR8-DRAIN_PNEUMOTHORAX_slice:chest_drain_cnn_neg:pred/loss is illegal; using CXR8-DRAIN_PNEUMOTHORAX_slice_chest_drain_cnn_neg_pred/CXR8-DRAIN_train/CXR8-DRAIN_PNEUMOTHORAX_slice_chest_drain_cnn_neg_pred/loss instead.\n",
      "root - INFO - Summary name CXR8-DRAIN_PNEUMOTHORAX_slice:chest_drain_cnn_neg:pred/CXR8-DRAIN_valid/CXR8-DRAIN_PNEUMOTHORAX_slice:chest_drain_cnn_neg:pred/f1 is illegal; using CXR8-DRAIN_PNEUMOTHORAX_slice_chest_drain_cnn_neg_pred/CXR8-DRAIN_valid/CXR8-DRAIN_PNEUMOTHORAX_slice_chest_drain_cnn_neg_pred/f1 instead.\n",
      "root - INFO - Summary name CXR8-DRAIN_PNEUMOTHORAX_slice:chest_drain_cnn_neg:pred/CXR8-DRAIN_valid/CXR8-DRAIN_PNEUMOTHORAX_slice:chest_drain_cnn_neg:pred/roc-auc is illegal; using CXR8-DRAIN_PNEUMOTHORAX_slice_chest_drain_cnn_neg_pred/CXR8-DRAIN_valid/CXR8-DRAIN_PNEUMOTHORAX_slice_chest_drain_cnn_neg_pred/roc-auc instead.\n",
      "root - INFO - Summary name CXR8-DRAIN_PNEUMOTHORAX_slice:chest_drain_cnn_neg:pred/CXR8-DRAIN_valid/CXR8-DRAIN_PNEUMOTHORAX_slice:chest_drain_cnn_neg:pred/accuracy is illegal; using CXR8-DRAIN_PNEUMOTHORAX_slice_chest_drain_cnn_neg_pred/CXR8-DRAIN_valid/CXR8-DRAIN_PNEUMOTHORAX_slice_chest_drain_cnn_neg_pred/accuracy instead.\n"
     ]
    },
    {
     "name": "stdout",
     "output_type": "stream",
     "text": [
      "[39.0 epo]: CXR8-DRAIN_PNEUMOTHORAX_slice:chest_drain_cnn_neg:pred:[CXR8-DRAIN_train/CXR8-DRAIN_PNEUMOTHORAX_slice:chest_drain_cnn_neg:pred/loss=1.52e-02, CXR8-DRAIN_valid/CXR8-DRAIN_PNEUMOTHORAX_slice:chest_drain_cnn_neg:pred/f1=9.76e-02, CXR8-DRAIN_valid/CXR8-DRAIN_PNEUMOTHORAX_slice:chest_drain_cnn_neg:pred/roc-auc=7.11e-01, CXR8-DRAIN_valid/CXR8-DRAIN_PNEUMOTHORAX_slice:chest_drain_cnn_neg:pred/accuracy=8.78e-01] model:[train/all/loss=1.52e-02, train/all/lr=2.20e-05, valid/all/loss=3.01e-01] CXR8-DRAIN_ATELECTASIS:[CXR8-DRAIN_valid/CXR8-DRAIN_ATELECTASIS/f1=0, CXR8-DRAIN_valid/CXR8-DRAIN_ATELECTASIS/roc-auc=6.11e-01, CXR8-DRAIN_valid/CXR8-DRAIN_ATELECTASIS/accuracy=9.01e-01] CXR8-DRAIN_CARDIOMEGALY:[CXR8-DRAIN_valid/CXR8-DRAIN_CARDIOMEGALY/f1=0, CXR8-DRAIN_valid/CXR8-DRAIN_CARDIOMEGALY/roc-auc=6.27e-01, CXR8-DRAIN_valid/CXR8-DRAIN_CARDIOMEGALY/accuracy=9.78e-01] CXR8-DRAIN_EFFUSION:[CXR8-DRAIN_valid/CXR8-DRAIN_EFFUSION/f1=0, CXR8-DRAIN_valid/CXR8-DRAIN_EFFUSION/roc-auc=7.15e-01, CXR8-DRAIN_valid/CXR8-DRAIN_EFFUSION/accuracy=8.84e-01] CXR8-DRAIN_INFILTRATION:[CXR8-DRAIN_valid/CXR8-DRAIN_INFILTRATION/f1=0, CXR8-DRAIN_valid/CXR8-DRAIN_INFILTRATION/roc-auc=6.12e-01, CXR8-DRAIN_valid/CXR8-DRAIN_INFILTRATION/accuracy=8.21e-01] CXR8-DRAIN_MASS:[CXR8-DRAIN_valid/CXR8-DRAIN_MASS/f1=0, CXR8-DRAIN_valid/CXR8-DRAIN_MASS/roc-auc=6.69e-01, CXR8-DRAIN_valid/CXR8-DRAIN_MASS/accuracy=9.43e-01] CXR8-DRAIN_NODULE:[CXR8-DRAIN_valid/CXR8-DRAIN_NODULE/f1=0, CXR8-DRAIN_valid/CXR8-DRAIN_NODULE/roc-auc=5.87e-01, CXR8-DRAIN_valid/CXR8-DRAIN_NODULE/accuracy=9.44e-01] CXR8-DRAIN_PNEUMONIA:[CXR8-DRAIN_valid/CXR8-DRAIN_PNEUMONIA/f1=0, CXR8-DRAIN_valid/CXR8-DRAIN_PNEUMONIA/roc-auc=5.85e-01, CXR8-DRAIN_valid/CXR8-DRAIN_PNEUMONIA/accuracy=9.88e-01] CXR8-DRAIN_PNEUMOTHORAX:[CXR8-DRAIN_valid/CXR8-DRAIN_PNEUMOTHORAX/f1=3.24e-01, CXR8-DRAIN_valid/CXR8-DRAIN_PNEUMOTHORAX/roc-auc=8.11e-01, CXR8-DRAIN_valid/CXR8-DRAIN_PNEUMOTHORAX/accuracy=8.93e-01] CXR8-DRAIN_CONSOLIDATION:[CXR8-DRAIN_valid/CXR8-DRAIN_CONSOLIDATION/f1=0, CXR8-DRAIN_valid/CXR8-DRAIN_CONSOLIDATION/roc-auc=6.65e-01, CXR8-DRAIN_valid/CXR8-DRAIN_CONSOLIDATION/accuracy=9.61e-01] CXR8-DRAIN_EDEMA:[CXR8-DRAIN_valid/CXR8-DRAIN_EDEMA/f1=0, CXR8-DRAIN_valid/CXR8-DRAIN_EDEMA/roc-auc=7.25e-01, CXR8-DRAIN_valid/CXR8-DRAIN_EDEMA/accuracy=9.82e-01] CXR8-DRAIN_EMPHYSEMA:[CXR8-DRAIN_valid/CXR8-DRAIN_EMPHYSEMA/f1=0, CXR8-DRAIN_valid/CXR8-DRAIN_EMPHYSEMA/roc-auc=8.01e-01, CXR8-DRAIN_valid/CXR8-DRAIN_EMPHYSEMA/accuracy=9.80e-01] CXR8-DRAIN_FIBROSIS:[CXR8-DRAIN_valid/CXR8-DRAIN_FIBROSIS/f1=0, CXR8-DRAIN_valid/CXR8-DRAIN_FIBROSIS/roc-auc=5.82e-01, CXR8-DRAIN_valid/CXR8-DRAIN_FIBROSIS/accuracy=9.85e-01] CXR8-DRAIN_PLEURAL_THICKENING:[CXR8-DRAIN_valid/CXR8-DRAIN_PLEURAL_THICKENING/f1=0, CXR8-DRAIN_valid/CXR8-DRAIN_PLEURAL_THICKENING/roc-auc=6.61e-01, CXR8-DRAIN_valid/CXR8-DRAIN_PLEURAL_THICKENING/accuracy=9.67e-01] CXR8-DRAIN_HERNIA:[CXR8-DRAIN_valid/CXR8-DRAIN_HERNIA/f1=0, CXR8-DRAIN_valid/CXR8-DRAIN_HERNIA/roc-auc=7.01e-01, CXR8-DRAIN_valid/CXR8-DRAIN_HERNIA/accuracy=9.96e-01]\n"
     ]
    },
    {
     "name": "stderr",
     "output_type": "stream",
     "text": [
      "metal.mmtl.trainer - INFO - Freezing ['CXR8-DRAIN_ATELECTASIS', 'CXR8-DRAIN_CARDIOMEGALY', 'CXR8-DRAIN_EFFUSION', 'CXR8-DRAIN_INFILTRATION', 'CXR8-DRAIN_MASS', 'CXR8-DRAIN_NODULE', 'CXR8-DRAIN_PNEUMONIA', 'CXR8-DRAIN_PNEUMOTHORAX', 'CXR8-DRAIN_CONSOLIDATION', 'CXR8-DRAIN_EDEMA', 'CXR8-DRAIN_EMPHYSEMA', 'CXR8-DRAIN_FIBROSIS', 'CXR8-DRAIN_PLEURAL_THICKENING', 'CXR8-DRAIN_HERNIA'] heads\n",
      "metal.mmtl.trainer - INFO - Training tasks {'CXR8-DRAIN_PNEUMOTHORAX_slice:chest_drain_cnn_neg:pred': 'CXR8-DRAIN_PNEUMOTHORAX_slice:chest_drain_cnn_neg:pred'}\n",
      "root - INFO - Summary name CXR8-DRAIN_PNEUMOTHORAX_slice:chest_drain_cnn_neg:pred/CXR8-DRAIN_train/CXR8-DRAIN_PNEUMOTHORAX_slice:chest_drain_cnn_neg:pred/loss is illegal; using CXR8-DRAIN_PNEUMOTHORAX_slice_chest_drain_cnn_neg_pred/CXR8-DRAIN_train/CXR8-DRAIN_PNEUMOTHORAX_slice_chest_drain_cnn_neg_pred/loss instead.\n",
      "root - INFO - Summary name CXR8-DRAIN_PNEUMOTHORAX_slice:chest_drain_cnn_neg:pred/CXR8-DRAIN_valid/CXR8-DRAIN_PNEUMOTHORAX_slice:chest_drain_cnn_neg:pred/f1 is illegal; using CXR8-DRAIN_PNEUMOTHORAX_slice_chest_drain_cnn_neg_pred/CXR8-DRAIN_valid/CXR8-DRAIN_PNEUMOTHORAX_slice_chest_drain_cnn_neg_pred/f1 instead.\n",
      "root - INFO - Summary name CXR8-DRAIN_PNEUMOTHORAX_slice:chest_drain_cnn_neg:pred/CXR8-DRAIN_valid/CXR8-DRAIN_PNEUMOTHORAX_slice:chest_drain_cnn_neg:pred/roc-auc is illegal; using CXR8-DRAIN_PNEUMOTHORAX_slice_chest_drain_cnn_neg_pred/CXR8-DRAIN_valid/CXR8-DRAIN_PNEUMOTHORAX_slice_chest_drain_cnn_neg_pred/roc-auc instead.\n",
      "root - INFO - Summary name CXR8-DRAIN_PNEUMOTHORAX_slice:chest_drain_cnn_neg:pred/CXR8-DRAIN_valid/CXR8-DRAIN_PNEUMOTHORAX_slice:chest_drain_cnn_neg:pred/accuracy is illegal; using CXR8-DRAIN_PNEUMOTHORAX_slice_chest_drain_cnn_neg_pred/CXR8-DRAIN_valid/CXR8-DRAIN_PNEUMOTHORAX_slice_chest_drain_cnn_neg_pred/accuracy instead.\n"
     ]
    },
    {
     "name": "stdout",
     "output_type": "stream",
     "text": [
      "[40.0 epo]: CXR8-DRAIN_PNEUMOTHORAX_slice:chest_drain_cnn_neg:pred:[CXR8-DRAIN_train/CXR8-DRAIN_PNEUMOTHORAX_slice:chest_drain_cnn_neg:pred/loss=5.67e-03, CXR8-DRAIN_valid/CXR8-DRAIN_PNEUMOTHORAX_slice:chest_drain_cnn_neg:pred/f1=9.46e-02, CXR8-DRAIN_valid/CXR8-DRAIN_PNEUMOTHORAX_slice:chest_drain_cnn_neg:pred/roc-auc=7.11e-01, CXR8-DRAIN_valid/CXR8-DRAIN_PNEUMOTHORAX_slice:chest_drain_cnn_neg:pred/accuracy=8.97e-01] model:[train/all/loss=5.67e-03, train/all/lr=2.00e-05, valid/all/loss=3.06e-01] CXR8-DRAIN_ATELECTASIS:[CXR8-DRAIN_valid/CXR8-DRAIN_ATELECTASIS/f1=0, CXR8-DRAIN_valid/CXR8-DRAIN_ATELECTASIS/roc-auc=6.26e-01, CXR8-DRAIN_valid/CXR8-DRAIN_ATELECTASIS/accuracy=9.01e-01] CXR8-DRAIN_CARDIOMEGALY:[CXR8-DRAIN_valid/CXR8-DRAIN_CARDIOMEGALY/f1=0, CXR8-DRAIN_valid/CXR8-DRAIN_CARDIOMEGALY/roc-auc=6.64e-01, CXR8-DRAIN_valid/CXR8-DRAIN_CARDIOMEGALY/accuracy=9.78e-01] CXR8-DRAIN_EFFUSION:[CXR8-DRAIN_valid/CXR8-DRAIN_EFFUSION/f1=0, CXR8-DRAIN_valid/CXR8-DRAIN_EFFUSION/roc-auc=7.06e-01, CXR8-DRAIN_valid/CXR8-DRAIN_EFFUSION/accuracy=8.84e-01] CXR8-DRAIN_INFILTRATION:[CXR8-DRAIN_valid/CXR8-DRAIN_INFILTRATION/f1=0, CXR8-DRAIN_valid/CXR8-DRAIN_INFILTRATION/roc-auc=6.21e-01, CXR8-DRAIN_valid/CXR8-DRAIN_INFILTRATION/accuracy=8.21e-01] CXR8-DRAIN_MASS:[CXR8-DRAIN_valid/CXR8-DRAIN_MASS/f1=0, CXR8-DRAIN_valid/CXR8-DRAIN_MASS/roc-auc=6.81e-01, CXR8-DRAIN_valid/CXR8-DRAIN_MASS/accuracy=9.43e-01] CXR8-DRAIN_NODULE:[CXR8-DRAIN_valid/CXR8-DRAIN_NODULE/f1=0, CXR8-DRAIN_valid/CXR8-DRAIN_NODULE/roc-auc=5.89e-01, CXR8-DRAIN_valid/CXR8-DRAIN_NODULE/accuracy=9.44e-01] CXR8-DRAIN_PNEUMONIA:[CXR8-DRAIN_valid/CXR8-DRAIN_PNEUMONIA/f1=0, CXR8-DRAIN_valid/CXR8-DRAIN_PNEUMONIA/roc-auc=5.97e-01, CXR8-DRAIN_valid/CXR8-DRAIN_PNEUMONIA/accuracy=9.88e-01] CXR8-DRAIN_PNEUMOTHORAX:[CXR8-DRAIN_valid/CXR8-DRAIN_PNEUMOTHORAX/f1=3.34e-01, CXR8-DRAIN_valid/CXR8-DRAIN_PNEUMOTHORAX/roc-auc=8.11e-01, CXR8-DRAIN_valid/CXR8-DRAIN_PNEUMOTHORAX/accuracy=9.01e-01] CXR8-DRAIN_CONSOLIDATION:[CXR8-DRAIN_valid/CXR8-DRAIN_CONSOLIDATION/f1=0, CXR8-DRAIN_valid/CXR8-DRAIN_CONSOLIDATION/roc-auc=6.62e-01, CXR8-DRAIN_valid/CXR8-DRAIN_CONSOLIDATION/accuracy=9.61e-01] CXR8-DRAIN_EDEMA:[CXR8-DRAIN_valid/CXR8-DRAIN_EDEMA/f1=0, CXR8-DRAIN_valid/CXR8-DRAIN_EDEMA/roc-auc=7.48e-01, CXR8-DRAIN_valid/CXR8-DRAIN_EDEMA/accuracy=9.82e-01] CXR8-DRAIN_EMPHYSEMA:[CXR8-DRAIN_valid/CXR8-DRAIN_EMPHYSEMA/f1=0, CXR8-DRAIN_valid/CXR8-DRAIN_EMPHYSEMA/roc-auc=8.05e-01, CXR8-DRAIN_valid/CXR8-DRAIN_EMPHYSEMA/accuracy=9.80e-01] CXR8-DRAIN_FIBROSIS:[CXR8-DRAIN_valid/CXR8-DRAIN_FIBROSIS/f1=0, CXR8-DRAIN_valid/CXR8-DRAIN_FIBROSIS/roc-auc=5.92e-01, CXR8-DRAIN_valid/CXR8-DRAIN_FIBROSIS/accuracy=9.85e-01] CXR8-DRAIN_PLEURAL_THICKENING:[CXR8-DRAIN_valid/CXR8-DRAIN_PLEURAL_THICKENING/f1=0, CXR8-DRAIN_valid/CXR8-DRAIN_PLEURAL_THICKENING/roc-auc=6.64e-01, CXR8-DRAIN_valid/CXR8-DRAIN_PLEURAL_THICKENING/accuracy=9.67e-01] CXR8-DRAIN_HERNIA:[CXR8-DRAIN_valid/CXR8-DRAIN_HERNIA/f1=0, CXR8-DRAIN_valid/CXR8-DRAIN_HERNIA/roc-auc=7.44e-01, CXR8-DRAIN_valid/CXR8-DRAIN_HERNIA/accuracy=9.96e-01]\n"
     ]
    },
    {
     "name": "stderr",
     "output_type": "stream",
     "text": [
      "metal.mmtl.trainer - INFO - Freezing ['CXR8-DRAIN_ATELECTASIS', 'CXR8-DRAIN_CARDIOMEGALY', 'CXR8-DRAIN_EFFUSION', 'CXR8-DRAIN_INFILTRATION', 'CXR8-DRAIN_MASS', 'CXR8-DRAIN_NODULE', 'CXR8-DRAIN_PNEUMONIA', 'CXR8-DRAIN_PNEUMOTHORAX', 'CXR8-DRAIN_CONSOLIDATION', 'CXR8-DRAIN_EDEMA', 'CXR8-DRAIN_EMPHYSEMA', 'CXR8-DRAIN_FIBROSIS', 'CXR8-DRAIN_PLEURAL_THICKENING', 'CXR8-DRAIN_HERNIA'] heads\n",
      "metal.mmtl.trainer - INFO - Training tasks {'CXR8-DRAIN_PNEUMOTHORAX_slice:chest_drain_cnn_neg:pred': 'CXR8-DRAIN_PNEUMOTHORAX_slice:chest_drain_cnn_neg:pred'}\n",
      "root - INFO - Summary name CXR8-DRAIN_PNEUMOTHORAX_slice:chest_drain_cnn_neg:pred/CXR8-DRAIN_train/CXR8-DRAIN_PNEUMOTHORAX_slice:chest_drain_cnn_neg:pred/loss is illegal; using CXR8-DRAIN_PNEUMOTHORAX_slice_chest_drain_cnn_neg_pred/CXR8-DRAIN_train/CXR8-DRAIN_PNEUMOTHORAX_slice_chest_drain_cnn_neg_pred/loss instead.\n",
      "root - INFO - Summary name CXR8-DRAIN_PNEUMOTHORAX_slice:chest_drain_cnn_neg:pred/CXR8-DRAIN_valid/CXR8-DRAIN_PNEUMOTHORAX_slice:chest_drain_cnn_neg:pred/f1 is illegal; using CXR8-DRAIN_PNEUMOTHORAX_slice_chest_drain_cnn_neg_pred/CXR8-DRAIN_valid/CXR8-DRAIN_PNEUMOTHORAX_slice_chest_drain_cnn_neg_pred/f1 instead.\n",
      "root - INFO - Summary name CXR8-DRAIN_PNEUMOTHORAX_slice:chest_drain_cnn_neg:pred/CXR8-DRAIN_valid/CXR8-DRAIN_PNEUMOTHORAX_slice:chest_drain_cnn_neg:pred/roc-auc is illegal; using CXR8-DRAIN_PNEUMOTHORAX_slice_chest_drain_cnn_neg_pred/CXR8-DRAIN_valid/CXR8-DRAIN_PNEUMOTHORAX_slice_chest_drain_cnn_neg_pred/roc-auc instead.\n",
      "root - INFO - Summary name CXR8-DRAIN_PNEUMOTHORAX_slice:chest_drain_cnn_neg:pred/CXR8-DRAIN_valid/CXR8-DRAIN_PNEUMOTHORAX_slice:chest_drain_cnn_neg:pred/accuracy is illegal; using CXR8-DRAIN_PNEUMOTHORAX_slice_chest_drain_cnn_neg_pred/CXR8-DRAIN_valid/CXR8-DRAIN_PNEUMOTHORAX_slice_chest_drain_cnn_neg_pred/accuracy instead.\n"
     ]
    },
    {
     "name": "stdout",
     "output_type": "stream",
     "text": [
      "[41.0 epo]: CXR8-DRAIN_PNEUMOTHORAX_slice:chest_drain_cnn_neg:pred:[CXR8-DRAIN_train/CXR8-DRAIN_PNEUMOTHORAX_slice:chest_drain_cnn_neg:pred/loss=8.47e-03, CXR8-DRAIN_valid/CXR8-DRAIN_PNEUMOTHORAX_slice:chest_drain_cnn_neg:pred/f1=9.38e-02, CXR8-DRAIN_valid/CXR8-DRAIN_PNEUMOTHORAX_slice:chest_drain_cnn_neg:pred/roc-auc=7.06e-01, CXR8-DRAIN_valid/CXR8-DRAIN_PNEUMOTHORAX_slice:chest_drain_cnn_neg:pred/accuracy=8.87e-01] model:[train/all/loss=8.47e-03, train/all/lr=1.80e-05, valid/all/loss=3.11e-01] CXR8-DRAIN_ATELECTASIS:[CXR8-DRAIN_valid/CXR8-DRAIN_ATELECTASIS/f1=0, CXR8-DRAIN_valid/CXR8-DRAIN_ATELECTASIS/roc-auc=6.30e-01, CXR8-DRAIN_valid/CXR8-DRAIN_ATELECTASIS/accuracy=9.01e-01] CXR8-DRAIN_CARDIOMEGALY:[CXR8-DRAIN_valid/CXR8-DRAIN_CARDIOMEGALY/f1=0, CXR8-DRAIN_valid/CXR8-DRAIN_CARDIOMEGALY/roc-auc=6.96e-01, CXR8-DRAIN_valid/CXR8-DRAIN_CARDIOMEGALY/accuracy=9.78e-01] CXR8-DRAIN_EFFUSION:[CXR8-DRAIN_valid/CXR8-DRAIN_EFFUSION/f1=0, CXR8-DRAIN_valid/CXR8-DRAIN_EFFUSION/roc-auc=7.24e-01, CXR8-DRAIN_valid/CXR8-DRAIN_EFFUSION/accuracy=8.84e-01] CXR8-DRAIN_INFILTRATION:[CXR8-DRAIN_valid/CXR8-DRAIN_INFILTRATION/f1=0, CXR8-DRAIN_valid/CXR8-DRAIN_INFILTRATION/roc-auc=6.15e-01, CXR8-DRAIN_valid/CXR8-DRAIN_INFILTRATION/accuracy=8.21e-01] CXR8-DRAIN_MASS:[CXR8-DRAIN_valid/CXR8-DRAIN_MASS/f1=0, CXR8-DRAIN_valid/CXR8-DRAIN_MASS/roc-auc=6.69e-01, CXR8-DRAIN_valid/CXR8-DRAIN_MASS/accuracy=9.43e-01] CXR8-DRAIN_NODULE:[CXR8-DRAIN_valid/CXR8-DRAIN_NODULE/f1=0, CXR8-DRAIN_valid/CXR8-DRAIN_NODULE/roc-auc=5.82e-01, CXR8-DRAIN_valid/CXR8-DRAIN_NODULE/accuracy=9.44e-01] CXR8-DRAIN_PNEUMONIA:[CXR8-DRAIN_valid/CXR8-DRAIN_PNEUMONIA/f1=0, CXR8-DRAIN_valid/CXR8-DRAIN_PNEUMONIA/roc-auc=5.74e-01, CXR8-DRAIN_valid/CXR8-DRAIN_PNEUMONIA/accuracy=9.88e-01] CXR8-DRAIN_PNEUMOTHORAX:[CXR8-DRAIN_valid/CXR8-DRAIN_PNEUMOTHORAX/f1=3.19e-01, CXR8-DRAIN_valid/CXR8-DRAIN_PNEUMOTHORAX/roc-auc=8.06e-01, CXR8-DRAIN_valid/CXR8-DRAIN_PNEUMOTHORAX/accuracy=8.94e-01] CXR8-DRAIN_CONSOLIDATION:[CXR8-DRAIN_valid/CXR8-DRAIN_CONSOLIDATION/f1=0, CXR8-DRAIN_valid/CXR8-DRAIN_CONSOLIDATION/roc-auc=6.68e-01, CXR8-DRAIN_valid/CXR8-DRAIN_CONSOLIDATION/accuracy=9.61e-01] CXR8-DRAIN_EDEMA:[CXR8-DRAIN_valid/CXR8-DRAIN_EDEMA/f1=0, CXR8-DRAIN_valid/CXR8-DRAIN_EDEMA/roc-auc=7.72e-01, CXR8-DRAIN_valid/CXR8-DRAIN_EDEMA/accuracy=9.82e-01] CXR8-DRAIN_EMPHYSEMA:[CXR8-DRAIN_valid/CXR8-DRAIN_EMPHYSEMA/f1=0, CXR8-DRAIN_valid/CXR8-DRAIN_EMPHYSEMA/roc-auc=8.09e-01, CXR8-DRAIN_valid/CXR8-DRAIN_EMPHYSEMA/accuracy=9.80e-01] CXR8-DRAIN_FIBROSIS:[CXR8-DRAIN_valid/CXR8-DRAIN_FIBROSIS/f1=0, CXR8-DRAIN_valid/CXR8-DRAIN_FIBROSIS/roc-auc=5.71e-01, CXR8-DRAIN_valid/CXR8-DRAIN_FIBROSIS/accuracy=9.85e-01] CXR8-DRAIN_PLEURAL_THICKENING:[CXR8-DRAIN_valid/CXR8-DRAIN_PLEURAL_THICKENING/f1=0, CXR8-DRAIN_valid/CXR8-DRAIN_PLEURAL_THICKENING/roc-auc=6.51e-01, CXR8-DRAIN_valid/CXR8-DRAIN_PLEURAL_THICKENING/accuracy=9.67e-01] CXR8-DRAIN_HERNIA:[CXR8-DRAIN_valid/CXR8-DRAIN_HERNIA/f1=0, CXR8-DRAIN_valid/CXR8-DRAIN_HERNIA/roc-auc=7.33e-01, CXR8-DRAIN_valid/CXR8-DRAIN_HERNIA/accuracy=9.96e-01]\n"
     ]
    },
    {
     "name": "stderr",
     "output_type": "stream",
     "text": [
      "metal.mmtl.trainer - INFO - Freezing ['CXR8-DRAIN_ATELECTASIS', 'CXR8-DRAIN_CARDIOMEGALY', 'CXR8-DRAIN_EFFUSION', 'CXR8-DRAIN_INFILTRATION', 'CXR8-DRAIN_MASS', 'CXR8-DRAIN_NODULE', 'CXR8-DRAIN_PNEUMONIA', 'CXR8-DRAIN_PNEUMOTHORAX', 'CXR8-DRAIN_CONSOLIDATION', 'CXR8-DRAIN_EDEMA', 'CXR8-DRAIN_EMPHYSEMA', 'CXR8-DRAIN_FIBROSIS', 'CXR8-DRAIN_PLEURAL_THICKENING', 'CXR8-DRAIN_HERNIA'] heads\n",
      "metal.mmtl.trainer - INFO - Training tasks {'CXR8-DRAIN_PNEUMOTHORAX_slice:chest_drain_cnn_neg:pred': 'CXR8-DRAIN_PNEUMOTHORAX_slice:chest_drain_cnn_neg:pred'}\n",
      "root - INFO - Summary name CXR8-DRAIN_PNEUMOTHORAX_slice:chest_drain_cnn_neg:pred/CXR8-DRAIN_train/CXR8-DRAIN_PNEUMOTHORAX_slice:chest_drain_cnn_neg:pred/loss is illegal; using CXR8-DRAIN_PNEUMOTHORAX_slice_chest_drain_cnn_neg_pred/CXR8-DRAIN_train/CXR8-DRAIN_PNEUMOTHORAX_slice_chest_drain_cnn_neg_pred/loss instead.\n",
      "root - INFO - Summary name CXR8-DRAIN_PNEUMOTHORAX_slice:chest_drain_cnn_neg:pred/CXR8-DRAIN_valid/CXR8-DRAIN_PNEUMOTHORAX_slice:chest_drain_cnn_neg:pred/f1 is illegal; using CXR8-DRAIN_PNEUMOTHORAX_slice_chest_drain_cnn_neg_pred/CXR8-DRAIN_valid/CXR8-DRAIN_PNEUMOTHORAX_slice_chest_drain_cnn_neg_pred/f1 instead.\n",
      "root - INFO - Summary name CXR8-DRAIN_PNEUMOTHORAX_slice:chest_drain_cnn_neg:pred/CXR8-DRAIN_valid/CXR8-DRAIN_PNEUMOTHORAX_slice:chest_drain_cnn_neg:pred/roc-auc is illegal; using CXR8-DRAIN_PNEUMOTHORAX_slice_chest_drain_cnn_neg_pred/CXR8-DRAIN_valid/CXR8-DRAIN_PNEUMOTHORAX_slice_chest_drain_cnn_neg_pred/roc-auc instead.\n",
      "root - INFO - Summary name CXR8-DRAIN_PNEUMOTHORAX_slice:chest_drain_cnn_neg:pred/CXR8-DRAIN_valid/CXR8-DRAIN_PNEUMOTHORAX_slice:chest_drain_cnn_neg:pred/accuracy is illegal; using CXR8-DRAIN_PNEUMOTHORAX_slice_chest_drain_cnn_neg_pred/CXR8-DRAIN_valid/CXR8-DRAIN_PNEUMOTHORAX_slice_chest_drain_cnn_neg_pred/accuracy instead.\n"
     ]
    },
    {
     "name": "stdout",
     "output_type": "stream",
     "text": [
      "[42.0 epo]: CXR8-DRAIN_PNEUMOTHORAX_slice:chest_drain_cnn_neg:pred:[CXR8-DRAIN_train/CXR8-DRAIN_PNEUMOTHORAX_slice:chest_drain_cnn_neg:pred/loss=4.32e-03, CXR8-DRAIN_valid/CXR8-DRAIN_PNEUMOTHORAX_slice:chest_drain_cnn_neg:pred/f1=1.03e-01, CXR8-DRAIN_valid/CXR8-DRAIN_PNEUMOTHORAX_slice:chest_drain_cnn_neg:pred/roc-auc=7.22e-01, CXR8-DRAIN_valid/CXR8-DRAIN_PNEUMOTHORAX_slice:chest_drain_cnn_neg:pred/accuracy=8.87e-01] model:[train/all/loss=4.32e-03, train/all/lr=1.60e-05, valid/all/loss=3.05e-01] CXR8-DRAIN_ATELECTASIS:[CXR8-DRAIN_valid/CXR8-DRAIN_ATELECTASIS/f1=0, CXR8-DRAIN_valid/CXR8-DRAIN_ATELECTASIS/roc-auc=6.21e-01, CXR8-DRAIN_valid/CXR8-DRAIN_ATELECTASIS/accuracy=9.01e-01] CXR8-DRAIN_CARDIOMEGALY:[CXR8-DRAIN_valid/CXR8-DRAIN_CARDIOMEGALY/f1=0, CXR8-DRAIN_valid/CXR8-DRAIN_CARDIOMEGALY/roc-auc=6.66e-01, CXR8-DRAIN_valid/CXR8-DRAIN_CARDIOMEGALY/accuracy=9.78e-01] CXR8-DRAIN_EFFUSION:[CXR8-DRAIN_valid/CXR8-DRAIN_EFFUSION/f1=0, CXR8-DRAIN_valid/CXR8-DRAIN_EFFUSION/roc-auc=7.28e-01, CXR8-DRAIN_valid/CXR8-DRAIN_EFFUSION/accuracy=8.84e-01] CXR8-DRAIN_INFILTRATION:[CXR8-DRAIN_valid/CXR8-DRAIN_INFILTRATION/f1=0, CXR8-DRAIN_valid/CXR8-DRAIN_INFILTRATION/roc-auc=6.13e-01, CXR8-DRAIN_valid/CXR8-DRAIN_INFILTRATION/accuracy=8.21e-01] CXR8-DRAIN_MASS:[CXR8-DRAIN_valid/CXR8-DRAIN_MASS/f1=0, CXR8-DRAIN_valid/CXR8-DRAIN_MASS/roc-auc=6.72e-01, CXR8-DRAIN_valid/CXR8-DRAIN_MASS/accuracy=9.43e-01] CXR8-DRAIN_NODULE:[CXR8-DRAIN_valid/CXR8-DRAIN_NODULE/f1=0, CXR8-DRAIN_valid/CXR8-DRAIN_NODULE/roc-auc=5.88e-01, CXR8-DRAIN_valid/CXR8-DRAIN_NODULE/accuracy=9.44e-01] CXR8-DRAIN_PNEUMONIA:[CXR8-DRAIN_valid/CXR8-DRAIN_PNEUMONIA/f1=0, CXR8-DRAIN_valid/CXR8-DRAIN_PNEUMONIA/roc-auc=5.81e-01, CXR8-DRAIN_valid/CXR8-DRAIN_PNEUMONIA/accuracy=9.88e-01] CXR8-DRAIN_PNEUMOTHORAX:[CXR8-DRAIN_valid/CXR8-DRAIN_PNEUMOTHORAX/f1=3.27e-01, CXR8-DRAIN_valid/CXR8-DRAIN_PNEUMOTHORAX/roc-auc=8.15e-01, CXR8-DRAIN_valid/CXR8-DRAIN_PNEUMOTHORAX/accuracy=8.97e-01] CXR8-DRAIN_CONSOLIDATION:[CXR8-DRAIN_valid/CXR8-DRAIN_CONSOLIDATION/f1=0, CXR8-DRAIN_valid/CXR8-DRAIN_CONSOLIDATION/roc-auc=6.61e-01, CXR8-DRAIN_valid/CXR8-DRAIN_CONSOLIDATION/accuracy=9.61e-01] CXR8-DRAIN_EDEMA:[CXR8-DRAIN_valid/CXR8-DRAIN_EDEMA/f1=0, CXR8-DRAIN_valid/CXR8-DRAIN_EDEMA/roc-auc=7.35e-01, CXR8-DRAIN_valid/CXR8-DRAIN_EDEMA/accuracy=9.82e-01] CXR8-DRAIN_EMPHYSEMA:[CXR8-DRAIN_valid/CXR8-DRAIN_EMPHYSEMA/f1=0, CXR8-DRAIN_valid/CXR8-DRAIN_EMPHYSEMA/roc-auc=8.16e-01, CXR8-DRAIN_valid/CXR8-DRAIN_EMPHYSEMA/accuracy=9.80e-01] CXR8-DRAIN_FIBROSIS:[CXR8-DRAIN_valid/CXR8-DRAIN_FIBROSIS/f1=0, CXR8-DRAIN_valid/CXR8-DRAIN_FIBROSIS/roc-auc=5.84e-01, CXR8-DRAIN_valid/CXR8-DRAIN_FIBROSIS/accuracy=9.85e-01] CXR8-DRAIN_PLEURAL_THICKENING:[CXR8-DRAIN_valid/CXR8-DRAIN_PLEURAL_THICKENING/f1=0, CXR8-DRAIN_valid/CXR8-DRAIN_PLEURAL_THICKENING/roc-auc=6.56e-01, CXR8-DRAIN_valid/CXR8-DRAIN_PLEURAL_THICKENING/accuracy=9.67e-01] CXR8-DRAIN_HERNIA:[CXR8-DRAIN_valid/CXR8-DRAIN_HERNIA/f1=0, CXR8-DRAIN_valid/CXR8-DRAIN_HERNIA/roc-auc=7.27e-01, CXR8-DRAIN_valid/CXR8-DRAIN_HERNIA/accuracy=9.96e-01]\n"
     ]
    },
    {
     "name": "stderr",
     "output_type": "stream",
     "text": [
      "metal.mmtl.trainer - INFO - Freezing ['CXR8-DRAIN_ATELECTASIS', 'CXR8-DRAIN_CARDIOMEGALY', 'CXR8-DRAIN_EFFUSION', 'CXR8-DRAIN_INFILTRATION', 'CXR8-DRAIN_MASS', 'CXR8-DRAIN_NODULE', 'CXR8-DRAIN_PNEUMONIA', 'CXR8-DRAIN_PNEUMOTHORAX', 'CXR8-DRAIN_CONSOLIDATION', 'CXR8-DRAIN_EDEMA', 'CXR8-DRAIN_EMPHYSEMA', 'CXR8-DRAIN_FIBROSIS', 'CXR8-DRAIN_PLEURAL_THICKENING', 'CXR8-DRAIN_HERNIA'] heads\n",
      "metal.mmtl.trainer - INFO - Training tasks {'CXR8-DRAIN_PNEUMOTHORAX_slice:chest_drain_cnn_neg:pred': 'CXR8-DRAIN_PNEUMOTHORAX_slice:chest_drain_cnn_neg:pred'}\n",
      "root - INFO - Summary name CXR8-DRAIN_PNEUMOTHORAX_slice:chest_drain_cnn_neg:pred/CXR8-DRAIN_train/CXR8-DRAIN_PNEUMOTHORAX_slice:chest_drain_cnn_neg:pred/loss is illegal; using CXR8-DRAIN_PNEUMOTHORAX_slice_chest_drain_cnn_neg_pred/CXR8-DRAIN_train/CXR8-DRAIN_PNEUMOTHORAX_slice_chest_drain_cnn_neg_pred/loss instead.\n",
      "root - INFO - Summary name CXR8-DRAIN_PNEUMOTHORAX_slice:chest_drain_cnn_neg:pred/CXR8-DRAIN_valid/CXR8-DRAIN_PNEUMOTHORAX_slice:chest_drain_cnn_neg:pred/f1 is illegal; using CXR8-DRAIN_PNEUMOTHORAX_slice_chest_drain_cnn_neg_pred/CXR8-DRAIN_valid/CXR8-DRAIN_PNEUMOTHORAX_slice_chest_drain_cnn_neg_pred/f1 instead.\n",
      "root - INFO - Summary name CXR8-DRAIN_PNEUMOTHORAX_slice:chest_drain_cnn_neg:pred/CXR8-DRAIN_valid/CXR8-DRAIN_PNEUMOTHORAX_slice:chest_drain_cnn_neg:pred/roc-auc is illegal; using CXR8-DRAIN_PNEUMOTHORAX_slice_chest_drain_cnn_neg_pred/CXR8-DRAIN_valid/CXR8-DRAIN_PNEUMOTHORAX_slice_chest_drain_cnn_neg_pred/roc-auc instead.\n",
      "root - INFO - Summary name CXR8-DRAIN_PNEUMOTHORAX_slice:chest_drain_cnn_neg:pred/CXR8-DRAIN_valid/CXR8-DRAIN_PNEUMOTHORAX_slice:chest_drain_cnn_neg:pred/accuracy is illegal; using CXR8-DRAIN_PNEUMOTHORAX_slice_chest_drain_cnn_neg_pred/CXR8-DRAIN_valid/CXR8-DRAIN_PNEUMOTHORAX_slice_chest_drain_cnn_neg_pred/accuracy instead.\n"
     ]
    },
    {
     "name": "stdout",
     "output_type": "stream",
     "text": [
      "[43.0 epo]: CXR8-DRAIN_PNEUMOTHORAX_slice:chest_drain_cnn_neg:pred:[CXR8-DRAIN_train/CXR8-DRAIN_PNEUMOTHORAX_slice:chest_drain_cnn_neg:pred/loss=6.97e-03, CXR8-DRAIN_valid/CXR8-DRAIN_PNEUMOTHORAX_slice:chest_drain_cnn_neg:pred/f1=9.45e-02, CXR8-DRAIN_valid/CXR8-DRAIN_PNEUMOTHORAX_slice:chest_drain_cnn_neg:pred/roc-auc=7.12e-01, CXR8-DRAIN_valid/CXR8-DRAIN_PNEUMOTHORAX_slice:chest_drain_cnn_neg:pred/accuracy=8.77e-01] model:[train/all/loss=6.97e-03, train/all/lr=1.40e-05, valid/all/loss=3.24e-01] CXR8-DRAIN_ATELECTASIS:[CXR8-DRAIN_valid/CXR8-DRAIN_ATELECTASIS/f1=0, CXR8-DRAIN_valid/CXR8-DRAIN_ATELECTASIS/roc-auc=6.12e-01, CXR8-DRAIN_valid/CXR8-DRAIN_ATELECTASIS/accuracy=9.01e-01] CXR8-DRAIN_CARDIOMEGALY:[CXR8-DRAIN_valid/CXR8-DRAIN_CARDIOMEGALY/f1=0, CXR8-DRAIN_valid/CXR8-DRAIN_CARDIOMEGALY/roc-auc=6.49e-01, CXR8-DRAIN_valid/CXR8-DRAIN_CARDIOMEGALY/accuracy=9.78e-01] CXR8-DRAIN_EFFUSION:[CXR8-DRAIN_valid/CXR8-DRAIN_EFFUSION/f1=0, CXR8-DRAIN_valid/CXR8-DRAIN_EFFUSION/roc-auc=7.05e-01, CXR8-DRAIN_valid/CXR8-DRAIN_EFFUSION/accuracy=8.84e-01] CXR8-DRAIN_INFILTRATION:[CXR8-DRAIN_valid/CXR8-DRAIN_INFILTRATION/f1=0, CXR8-DRAIN_valid/CXR8-DRAIN_INFILTRATION/roc-auc=6.10e-01, CXR8-DRAIN_valid/CXR8-DRAIN_INFILTRATION/accuracy=8.21e-01] CXR8-DRAIN_MASS:[CXR8-DRAIN_valid/CXR8-DRAIN_MASS/f1=0, CXR8-DRAIN_valid/CXR8-DRAIN_MASS/roc-auc=6.54e-01, CXR8-DRAIN_valid/CXR8-DRAIN_MASS/accuracy=9.43e-01] CXR8-DRAIN_NODULE:[CXR8-DRAIN_valid/CXR8-DRAIN_NODULE/f1=0, CXR8-DRAIN_valid/CXR8-DRAIN_NODULE/roc-auc=5.80e-01, CXR8-DRAIN_valid/CXR8-DRAIN_NODULE/accuracy=9.44e-01] CXR8-DRAIN_PNEUMONIA:[CXR8-DRAIN_valid/CXR8-DRAIN_PNEUMONIA/f1=0, CXR8-DRAIN_valid/CXR8-DRAIN_PNEUMONIA/roc-auc=5.69e-01, CXR8-DRAIN_valid/CXR8-DRAIN_PNEUMONIA/accuracy=9.88e-01] CXR8-DRAIN_PNEUMOTHORAX:[CXR8-DRAIN_valid/CXR8-DRAIN_PNEUMOTHORAX/f1=3.10e-01, CXR8-DRAIN_valid/CXR8-DRAIN_PNEUMOTHORAX/roc-auc=8.05e-01, CXR8-DRAIN_valid/CXR8-DRAIN_PNEUMOTHORAX/accuracy=8.88e-01] CXR8-DRAIN_CONSOLIDATION:[CXR8-DRAIN_valid/CXR8-DRAIN_CONSOLIDATION/f1=0, CXR8-DRAIN_valid/CXR8-DRAIN_CONSOLIDATION/roc-auc=6.39e-01, CXR8-DRAIN_valid/CXR8-DRAIN_CONSOLIDATION/accuracy=9.61e-01] CXR8-DRAIN_EDEMA:[CXR8-DRAIN_valid/CXR8-DRAIN_EDEMA/f1=0, CXR8-DRAIN_valid/CXR8-DRAIN_EDEMA/roc-auc=7.17e-01, CXR8-DRAIN_valid/CXR8-DRAIN_EDEMA/accuracy=9.82e-01] CXR8-DRAIN_EMPHYSEMA:[CXR8-DRAIN_valid/CXR8-DRAIN_EMPHYSEMA/f1=0, CXR8-DRAIN_valid/CXR8-DRAIN_EMPHYSEMA/roc-auc=8.10e-01, CXR8-DRAIN_valid/CXR8-DRAIN_EMPHYSEMA/accuracy=9.80e-01] CXR8-DRAIN_FIBROSIS:[CXR8-DRAIN_valid/CXR8-DRAIN_FIBROSIS/f1=0, CXR8-DRAIN_valid/CXR8-DRAIN_FIBROSIS/roc-auc=5.91e-01, CXR8-DRAIN_valid/CXR8-DRAIN_FIBROSIS/accuracy=9.85e-01] CXR8-DRAIN_PLEURAL_THICKENING:[CXR8-DRAIN_valid/CXR8-DRAIN_PLEURAL_THICKENING/f1=0, CXR8-DRAIN_valid/CXR8-DRAIN_PLEURAL_THICKENING/roc-auc=6.46e-01, CXR8-DRAIN_valid/CXR8-DRAIN_PLEURAL_THICKENING/accuracy=9.67e-01] CXR8-DRAIN_HERNIA:[CXR8-DRAIN_valid/CXR8-DRAIN_HERNIA/f1=0, CXR8-DRAIN_valid/CXR8-DRAIN_HERNIA/roc-auc=7.29e-01, CXR8-DRAIN_valid/CXR8-DRAIN_HERNIA/accuracy=9.96e-01]\n"
     ]
    },
    {
     "name": "stderr",
     "output_type": "stream",
     "text": [
      "metal.mmtl.trainer - INFO - Freezing ['CXR8-DRAIN_ATELECTASIS', 'CXR8-DRAIN_CARDIOMEGALY', 'CXR8-DRAIN_EFFUSION', 'CXR8-DRAIN_INFILTRATION', 'CXR8-DRAIN_MASS', 'CXR8-DRAIN_NODULE', 'CXR8-DRAIN_PNEUMONIA', 'CXR8-DRAIN_PNEUMOTHORAX', 'CXR8-DRAIN_CONSOLIDATION', 'CXR8-DRAIN_EDEMA', 'CXR8-DRAIN_EMPHYSEMA', 'CXR8-DRAIN_FIBROSIS', 'CXR8-DRAIN_PLEURAL_THICKENING', 'CXR8-DRAIN_HERNIA'] heads\n",
      "metal.mmtl.trainer - INFO - Training tasks {'CXR8-DRAIN_PNEUMOTHORAX_slice:chest_drain_cnn_neg:pred': 'CXR8-DRAIN_PNEUMOTHORAX_slice:chest_drain_cnn_neg:pred'}\n",
      "root - INFO - Summary name CXR8-DRAIN_PNEUMOTHORAX_slice:chest_drain_cnn_neg:pred/CXR8-DRAIN_train/CXR8-DRAIN_PNEUMOTHORAX_slice:chest_drain_cnn_neg:pred/loss is illegal; using CXR8-DRAIN_PNEUMOTHORAX_slice_chest_drain_cnn_neg_pred/CXR8-DRAIN_train/CXR8-DRAIN_PNEUMOTHORAX_slice_chest_drain_cnn_neg_pred/loss instead.\n",
      "root - INFO - Summary name CXR8-DRAIN_PNEUMOTHORAX_slice:chest_drain_cnn_neg:pred/CXR8-DRAIN_valid/CXR8-DRAIN_PNEUMOTHORAX_slice:chest_drain_cnn_neg:pred/f1 is illegal; using CXR8-DRAIN_PNEUMOTHORAX_slice_chest_drain_cnn_neg_pred/CXR8-DRAIN_valid/CXR8-DRAIN_PNEUMOTHORAX_slice_chest_drain_cnn_neg_pred/f1 instead.\n",
      "root - INFO - Summary name CXR8-DRAIN_PNEUMOTHORAX_slice:chest_drain_cnn_neg:pred/CXR8-DRAIN_valid/CXR8-DRAIN_PNEUMOTHORAX_slice:chest_drain_cnn_neg:pred/roc-auc is illegal; using CXR8-DRAIN_PNEUMOTHORAX_slice_chest_drain_cnn_neg_pred/CXR8-DRAIN_valid/CXR8-DRAIN_PNEUMOTHORAX_slice_chest_drain_cnn_neg_pred/roc-auc instead.\n",
      "root - INFO - Summary name CXR8-DRAIN_PNEUMOTHORAX_slice:chest_drain_cnn_neg:pred/CXR8-DRAIN_valid/CXR8-DRAIN_PNEUMOTHORAX_slice:chest_drain_cnn_neg:pred/accuracy is illegal; using CXR8-DRAIN_PNEUMOTHORAX_slice_chest_drain_cnn_neg_pred/CXR8-DRAIN_valid/CXR8-DRAIN_PNEUMOTHORAX_slice_chest_drain_cnn_neg_pred/accuracy instead.\n"
     ]
    },
    {
     "name": "stdout",
     "output_type": "stream",
     "text": [
      "[44.0 epo]: CXR8-DRAIN_PNEUMOTHORAX_slice:chest_drain_cnn_neg:pred:[CXR8-DRAIN_train/CXR8-DRAIN_PNEUMOTHORAX_slice:chest_drain_cnn_neg:pred/loss=7.96e-03, CXR8-DRAIN_valid/CXR8-DRAIN_PNEUMOTHORAX_slice:chest_drain_cnn_neg:pred/f1=1.09e-01, CXR8-DRAIN_valid/CXR8-DRAIN_PNEUMOTHORAX_slice:chest_drain_cnn_neg:pred/roc-auc=7.05e-01, CXR8-DRAIN_valid/CXR8-DRAIN_PNEUMOTHORAX_slice:chest_drain_cnn_neg:pred/accuracy=9.00e-01] model:[train/all/loss=7.96e-03, train/all/lr=1.20e-05, valid/all/loss=2.84e-01] CXR8-DRAIN_ATELECTASIS:[CXR8-DRAIN_valid/CXR8-DRAIN_ATELECTASIS/f1=0, CXR8-DRAIN_valid/CXR8-DRAIN_ATELECTASIS/roc-auc=5.99e-01, CXR8-DRAIN_valid/CXR8-DRAIN_ATELECTASIS/accuracy=9.01e-01] CXR8-DRAIN_CARDIOMEGALY:[CXR8-DRAIN_valid/CXR8-DRAIN_CARDIOMEGALY/f1=0, CXR8-DRAIN_valid/CXR8-DRAIN_CARDIOMEGALY/roc-auc=6.54e-01, CXR8-DRAIN_valid/CXR8-DRAIN_CARDIOMEGALY/accuracy=9.78e-01] CXR8-DRAIN_EFFUSION:[CXR8-DRAIN_valid/CXR8-DRAIN_EFFUSION/f1=0, CXR8-DRAIN_valid/CXR8-DRAIN_EFFUSION/roc-auc=6.89e-01, CXR8-DRAIN_valid/CXR8-DRAIN_EFFUSION/accuracy=8.84e-01] CXR8-DRAIN_INFILTRATION:[CXR8-DRAIN_valid/CXR8-DRAIN_INFILTRATION/f1=0, CXR8-DRAIN_valid/CXR8-DRAIN_INFILTRATION/roc-auc=6.03e-01, CXR8-DRAIN_valid/CXR8-DRAIN_INFILTRATION/accuracy=8.21e-01] CXR8-DRAIN_MASS:[CXR8-DRAIN_valid/CXR8-DRAIN_MASS/f1=0, CXR8-DRAIN_valid/CXR8-DRAIN_MASS/roc-auc=6.52e-01, CXR8-DRAIN_valid/CXR8-DRAIN_MASS/accuracy=9.43e-01] CXR8-DRAIN_NODULE:[CXR8-DRAIN_valid/CXR8-DRAIN_NODULE/f1=0, CXR8-DRAIN_valid/CXR8-DRAIN_NODULE/roc-auc=5.82e-01, CXR8-DRAIN_valid/CXR8-DRAIN_NODULE/accuracy=9.44e-01] CXR8-DRAIN_PNEUMONIA:[CXR8-DRAIN_valid/CXR8-DRAIN_PNEUMONIA/f1=0, CXR8-DRAIN_valid/CXR8-DRAIN_PNEUMONIA/roc-auc=5.49e-01, CXR8-DRAIN_valid/CXR8-DRAIN_PNEUMONIA/accuracy=9.88e-01] CXR8-DRAIN_PNEUMOTHORAX:[CXR8-DRAIN_valid/CXR8-DRAIN_PNEUMOTHORAX/f1=3.46e-01, CXR8-DRAIN_valid/CXR8-DRAIN_PNEUMOTHORAX/roc-auc=8.13e-01, CXR8-DRAIN_valid/CXR8-DRAIN_PNEUMOTHORAX/accuracy=9.07e-01] CXR8-DRAIN_CONSOLIDATION:[CXR8-DRAIN_valid/CXR8-DRAIN_CONSOLIDATION/f1=0, CXR8-DRAIN_valid/CXR8-DRAIN_CONSOLIDATION/roc-auc=6.29e-01, CXR8-DRAIN_valid/CXR8-DRAIN_CONSOLIDATION/accuracy=9.61e-01] CXR8-DRAIN_EDEMA:[CXR8-DRAIN_valid/CXR8-DRAIN_EDEMA/f1=0, CXR8-DRAIN_valid/CXR8-DRAIN_EDEMA/roc-auc=7.07e-01, CXR8-DRAIN_valid/CXR8-DRAIN_EDEMA/accuracy=9.82e-01] CXR8-DRAIN_EMPHYSEMA:[CXR8-DRAIN_valid/CXR8-DRAIN_EMPHYSEMA/f1=0, CXR8-DRAIN_valid/CXR8-DRAIN_EMPHYSEMA/roc-auc=8.13e-01, CXR8-DRAIN_valid/CXR8-DRAIN_EMPHYSEMA/accuracy=9.80e-01] CXR8-DRAIN_FIBROSIS:[CXR8-DRAIN_valid/CXR8-DRAIN_FIBROSIS/f1=0, CXR8-DRAIN_valid/CXR8-DRAIN_FIBROSIS/roc-auc=6.04e-01, CXR8-DRAIN_valid/CXR8-DRAIN_FIBROSIS/accuracy=9.85e-01] CXR8-DRAIN_PLEURAL_THICKENING:[CXR8-DRAIN_valid/CXR8-DRAIN_PLEURAL_THICKENING/f1=0, CXR8-DRAIN_valid/CXR8-DRAIN_PLEURAL_THICKENING/roc-auc=6.57e-01, CXR8-DRAIN_valid/CXR8-DRAIN_PLEURAL_THICKENING/accuracy=9.67e-01] CXR8-DRAIN_HERNIA:[CXR8-DRAIN_valid/CXR8-DRAIN_HERNIA/f1=0, CXR8-DRAIN_valid/CXR8-DRAIN_HERNIA/roc-auc=7.30e-01, CXR8-DRAIN_valid/CXR8-DRAIN_HERNIA/accuracy=9.96e-01]\n"
     ]
    },
    {
     "name": "stderr",
     "output_type": "stream",
     "text": [
      "metal.mmtl.trainer - INFO - Freezing ['CXR8-DRAIN_ATELECTASIS', 'CXR8-DRAIN_CARDIOMEGALY', 'CXR8-DRAIN_EFFUSION', 'CXR8-DRAIN_INFILTRATION', 'CXR8-DRAIN_MASS', 'CXR8-DRAIN_NODULE', 'CXR8-DRAIN_PNEUMONIA', 'CXR8-DRAIN_PNEUMOTHORAX', 'CXR8-DRAIN_CONSOLIDATION', 'CXR8-DRAIN_EDEMA', 'CXR8-DRAIN_EMPHYSEMA', 'CXR8-DRAIN_FIBROSIS', 'CXR8-DRAIN_PLEURAL_THICKENING', 'CXR8-DRAIN_HERNIA'] heads\n",
      "metal.mmtl.trainer - INFO - Training tasks {'CXR8-DRAIN_PNEUMOTHORAX_slice:chest_drain_cnn_neg:pred': 'CXR8-DRAIN_PNEUMOTHORAX_slice:chest_drain_cnn_neg:pred'}\n",
      "root - INFO - Summary name CXR8-DRAIN_PNEUMOTHORAX_slice:chest_drain_cnn_neg:pred/CXR8-DRAIN_train/CXR8-DRAIN_PNEUMOTHORAX_slice:chest_drain_cnn_neg:pred/loss is illegal; using CXR8-DRAIN_PNEUMOTHORAX_slice_chest_drain_cnn_neg_pred/CXR8-DRAIN_train/CXR8-DRAIN_PNEUMOTHORAX_slice_chest_drain_cnn_neg_pred/loss instead.\n",
      "root - INFO - Summary name CXR8-DRAIN_PNEUMOTHORAX_slice:chest_drain_cnn_neg:pred/CXR8-DRAIN_valid/CXR8-DRAIN_PNEUMOTHORAX_slice:chest_drain_cnn_neg:pred/f1 is illegal; using CXR8-DRAIN_PNEUMOTHORAX_slice_chest_drain_cnn_neg_pred/CXR8-DRAIN_valid/CXR8-DRAIN_PNEUMOTHORAX_slice_chest_drain_cnn_neg_pred/f1 instead.\n",
      "root - INFO - Summary name CXR8-DRAIN_PNEUMOTHORAX_slice:chest_drain_cnn_neg:pred/CXR8-DRAIN_valid/CXR8-DRAIN_PNEUMOTHORAX_slice:chest_drain_cnn_neg:pred/roc-auc is illegal; using CXR8-DRAIN_PNEUMOTHORAX_slice_chest_drain_cnn_neg_pred/CXR8-DRAIN_valid/CXR8-DRAIN_PNEUMOTHORAX_slice_chest_drain_cnn_neg_pred/roc-auc instead.\n",
      "root - INFO - Summary name CXR8-DRAIN_PNEUMOTHORAX_slice:chest_drain_cnn_neg:pred/CXR8-DRAIN_valid/CXR8-DRAIN_PNEUMOTHORAX_slice:chest_drain_cnn_neg:pred/accuracy is illegal; using CXR8-DRAIN_PNEUMOTHORAX_slice_chest_drain_cnn_neg_pred/CXR8-DRAIN_valid/CXR8-DRAIN_PNEUMOTHORAX_slice_chest_drain_cnn_neg_pred/accuracy instead.\n"
     ]
    },
    {
     "name": "stdout",
     "output_type": "stream",
     "text": [
      "[45.0 epo]: CXR8-DRAIN_PNEUMOTHORAX_slice:chest_drain_cnn_neg:pred:[CXR8-DRAIN_train/CXR8-DRAIN_PNEUMOTHORAX_slice:chest_drain_cnn_neg:pred/loss=2.67e-03, CXR8-DRAIN_valid/CXR8-DRAIN_PNEUMOTHORAX_slice:chest_drain_cnn_neg:pred/f1=1.15e-01, CXR8-DRAIN_valid/CXR8-DRAIN_PNEUMOTHORAX_slice:chest_drain_cnn_neg:pred/roc-auc=7.11e-01, CXR8-DRAIN_valid/CXR8-DRAIN_PNEUMOTHORAX_slice:chest_drain_cnn_neg:pred/accuracy=9.04e-01] model:[train/all/loss=2.67e-03, train/all/lr=1.00e-05, valid/all/loss=2.92e-01] CXR8-DRAIN_ATELECTASIS:[CXR8-DRAIN_valid/CXR8-DRAIN_ATELECTASIS/f1=0, CXR8-DRAIN_valid/CXR8-DRAIN_ATELECTASIS/roc-auc=5.93e-01, CXR8-DRAIN_valid/CXR8-DRAIN_ATELECTASIS/accuracy=9.01e-01] CXR8-DRAIN_CARDIOMEGALY:[CXR8-DRAIN_valid/CXR8-DRAIN_CARDIOMEGALY/f1=0, CXR8-DRAIN_valid/CXR8-DRAIN_CARDIOMEGALY/roc-auc=6.36e-01, CXR8-DRAIN_valid/CXR8-DRAIN_CARDIOMEGALY/accuracy=9.78e-01] CXR8-DRAIN_EFFUSION:[CXR8-DRAIN_valid/CXR8-DRAIN_EFFUSION/f1=0, CXR8-DRAIN_valid/CXR8-DRAIN_EFFUSION/roc-auc=6.89e-01, CXR8-DRAIN_valid/CXR8-DRAIN_EFFUSION/accuracy=8.84e-01] CXR8-DRAIN_INFILTRATION:[CXR8-DRAIN_valid/CXR8-DRAIN_INFILTRATION/f1=0, CXR8-DRAIN_valid/CXR8-DRAIN_INFILTRATION/roc-auc=5.98e-01, CXR8-DRAIN_valid/CXR8-DRAIN_INFILTRATION/accuracy=8.21e-01] CXR8-DRAIN_MASS:[CXR8-DRAIN_valid/CXR8-DRAIN_MASS/f1=0, CXR8-DRAIN_valid/CXR8-DRAIN_MASS/roc-auc=6.50e-01, CXR8-DRAIN_valid/CXR8-DRAIN_MASS/accuracy=9.43e-01] CXR8-DRAIN_NODULE:[CXR8-DRAIN_valid/CXR8-DRAIN_NODULE/f1=0, CXR8-DRAIN_valid/CXR8-DRAIN_NODULE/roc-auc=5.87e-01, CXR8-DRAIN_valid/CXR8-DRAIN_NODULE/accuracy=9.44e-01] CXR8-DRAIN_PNEUMONIA:[CXR8-DRAIN_valid/CXR8-DRAIN_PNEUMONIA/f1=0, CXR8-DRAIN_valid/CXR8-DRAIN_PNEUMONIA/roc-auc=5.57e-01, CXR8-DRAIN_valid/CXR8-DRAIN_PNEUMONIA/accuracy=9.88e-01] CXR8-DRAIN_PNEUMOTHORAX:[CXR8-DRAIN_valid/CXR8-DRAIN_PNEUMOTHORAX/f1=3.45e-01, CXR8-DRAIN_valid/CXR8-DRAIN_PNEUMOTHORAX/roc-auc=8.10e-01, CXR8-DRAIN_valid/CXR8-DRAIN_PNEUMOTHORAX/accuracy=9.09e-01] CXR8-DRAIN_CONSOLIDATION:[CXR8-DRAIN_valid/CXR8-DRAIN_CONSOLIDATION/f1=0, CXR8-DRAIN_valid/CXR8-DRAIN_CONSOLIDATION/roc-auc=6.43e-01, CXR8-DRAIN_valid/CXR8-DRAIN_CONSOLIDATION/accuracy=9.61e-01] CXR8-DRAIN_EDEMA:[CXR8-DRAIN_valid/CXR8-DRAIN_EDEMA/f1=0, CXR8-DRAIN_valid/CXR8-DRAIN_EDEMA/roc-auc=7.12e-01, CXR8-DRAIN_valid/CXR8-DRAIN_EDEMA/accuracy=9.82e-01] CXR8-DRAIN_EMPHYSEMA:[CXR8-DRAIN_valid/CXR8-DRAIN_EMPHYSEMA/f1=0, CXR8-DRAIN_valid/CXR8-DRAIN_EMPHYSEMA/roc-auc=8.11e-01, CXR8-DRAIN_valid/CXR8-DRAIN_EMPHYSEMA/accuracy=9.80e-01] CXR8-DRAIN_FIBROSIS:[CXR8-DRAIN_valid/CXR8-DRAIN_FIBROSIS/f1=0, CXR8-DRAIN_valid/CXR8-DRAIN_FIBROSIS/roc-auc=5.92e-01, CXR8-DRAIN_valid/CXR8-DRAIN_FIBROSIS/accuracy=9.85e-01] CXR8-DRAIN_PLEURAL_THICKENING:[CXR8-DRAIN_valid/CXR8-DRAIN_PLEURAL_THICKENING/f1=0, CXR8-DRAIN_valid/CXR8-DRAIN_PLEURAL_THICKENING/roc-auc=6.61e-01, CXR8-DRAIN_valid/CXR8-DRAIN_PLEURAL_THICKENING/accuracy=9.67e-01] CXR8-DRAIN_HERNIA:[CXR8-DRAIN_valid/CXR8-DRAIN_HERNIA/f1=0, CXR8-DRAIN_valid/CXR8-DRAIN_HERNIA/roc-auc=7.08e-01, CXR8-DRAIN_valid/CXR8-DRAIN_HERNIA/accuracy=9.96e-01]\n"
     ]
    },
    {
     "name": "stderr",
     "output_type": "stream",
     "text": [
      "metal.mmtl.trainer - INFO - Freezing ['CXR8-DRAIN_ATELECTASIS', 'CXR8-DRAIN_CARDIOMEGALY', 'CXR8-DRAIN_EFFUSION', 'CXR8-DRAIN_INFILTRATION', 'CXR8-DRAIN_MASS', 'CXR8-DRAIN_NODULE', 'CXR8-DRAIN_PNEUMONIA', 'CXR8-DRAIN_PNEUMOTHORAX', 'CXR8-DRAIN_CONSOLIDATION', 'CXR8-DRAIN_EDEMA', 'CXR8-DRAIN_EMPHYSEMA', 'CXR8-DRAIN_FIBROSIS', 'CXR8-DRAIN_PLEURAL_THICKENING', 'CXR8-DRAIN_HERNIA'] heads\n",
      "metal.mmtl.trainer - INFO - Training tasks {'CXR8-DRAIN_PNEUMOTHORAX_slice:chest_drain_cnn_neg:pred': 'CXR8-DRAIN_PNEUMOTHORAX_slice:chest_drain_cnn_neg:pred'}\n",
      "root - INFO - Summary name CXR8-DRAIN_PNEUMOTHORAX_slice:chest_drain_cnn_neg:pred/CXR8-DRAIN_train/CXR8-DRAIN_PNEUMOTHORAX_slice:chest_drain_cnn_neg:pred/loss is illegal; using CXR8-DRAIN_PNEUMOTHORAX_slice_chest_drain_cnn_neg_pred/CXR8-DRAIN_train/CXR8-DRAIN_PNEUMOTHORAX_slice_chest_drain_cnn_neg_pred/loss instead.\n",
      "root - INFO - Summary name CXR8-DRAIN_PNEUMOTHORAX_slice:chest_drain_cnn_neg:pred/CXR8-DRAIN_valid/CXR8-DRAIN_PNEUMOTHORAX_slice:chest_drain_cnn_neg:pred/f1 is illegal; using CXR8-DRAIN_PNEUMOTHORAX_slice_chest_drain_cnn_neg_pred/CXR8-DRAIN_valid/CXR8-DRAIN_PNEUMOTHORAX_slice_chest_drain_cnn_neg_pred/f1 instead.\n",
      "root - INFO - Summary name CXR8-DRAIN_PNEUMOTHORAX_slice:chest_drain_cnn_neg:pred/CXR8-DRAIN_valid/CXR8-DRAIN_PNEUMOTHORAX_slice:chest_drain_cnn_neg:pred/roc-auc is illegal; using CXR8-DRAIN_PNEUMOTHORAX_slice_chest_drain_cnn_neg_pred/CXR8-DRAIN_valid/CXR8-DRAIN_PNEUMOTHORAX_slice_chest_drain_cnn_neg_pred/roc-auc instead.\n",
      "root - INFO - Summary name CXR8-DRAIN_PNEUMOTHORAX_slice:chest_drain_cnn_neg:pred/CXR8-DRAIN_valid/CXR8-DRAIN_PNEUMOTHORAX_slice:chest_drain_cnn_neg:pred/accuracy is illegal; using CXR8-DRAIN_PNEUMOTHORAX_slice_chest_drain_cnn_neg_pred/CXR8-DRAIN_valid/CXR8-DRAIN_PNEUMOTHORAX_slice_chest_drain_cnn_neg_pred/accuracy instead.\n"
     ]
    },
    {
     "name": "stdout",
     "output_type": "stream",
     "text": [
      "[46.0 epo]: CXR8-DRAIN_PNEUMOTHORAX_slice:chest_drain_cnn_neg:pred:[CXR8-DRAIN_train/CXR8-DRAIN_PNEUMOTHORAX_slice:chest_drain_cnn_neg:pred/loss=9.37e-04, CXR8-DRAIN_valid/CXR8-DRAIN_PNEUMOTHORAX_slice:chest_drain_cnn_neg:pred/f1=1.05e-01, CXR8-DRAIN_valid/CXR8-DRAIN_PNEUMOTHORAX_slice:chest_drain_cnn_neg:pred/roc-auc=7.07e-01, CXR8-DRAIN_valid/CXR8-DRAIN_PNEUMOTHORAX_slice:chest_drain_cnn_neg:pred/accuracy=8.86e-01] model:[train/all/loss=9.37e-04, train/all/lr=1.00e-05, valid/all/loss=2.85e-01] CXR8-DRAIN_ATELECTASIS:[CXR8-DRAIN_valid/CXR8-DRAIN_ATELECTASIS/f1=0, CXR8-DRAIN_valid/CXR8-DRAIN_ATELECTASIS/roc-auc=6.26e-01, CXR8-DRAIN_valid/CXR8-DRAIN_ATELECTASIS/accuracy=9.01e-01] CXR8-DRAIN_CARDIOMEGALY:[CXR8-DRAIN_valid/CXR8-DRAIN_CARDIOMEGALY/f1=0, CXR8-DRAIN_valid/CXR8-DRAIN_CARDIOMEGALY/roc-auc=7.21e-01, CXR8-DRAIN_valid/CXR8-DRAIN_CARDIOMEGALY/accuracy=9.78e-01] CXR8-DRAIN_EFFUSION:[CXR8-DRAIN_valid/CXR8-DRAIN_EFFUSION/f1=0, CXR8-DRAIN_valid/CXR8-DRAIN_EFFUSION/roc-auc=7.17e-01, CXR8-DRAIN_valid/CXR8-DRAIN_EFFUSION/accuracy=8.84e-01] CXR8-DRAIN_INFILTRATION:[CXR8-DRAIN_valid/CXR8-DRAIN_INFILTRATION/f1=0, CXR8-DRAIN_valid/CXR8-DRAIN_INFILTRATION/roc-auc=6.24e-01, CXR8-DRAIN_valid/CXR8-DRAIN_INFILTRATION/accuracy=8.21e-01] CXR8-DRAIN_MASS:[CXR8-DRAIN_valid/CXR8-DRAIN_MASS/f1=0, CXR8-DRAIN_valid/CXR8-DRAIN_MASS/roc-auc=6.79e-01, CXR8-DRAIN_valid/CXR8-DRAIN_MASS/accuracy=9.43e-01] CXR8-DRAIN_NODULE:[CXR8-DRAIN_valid/CXR8-DRAIN_NODULE/f1=0, CXR8-DRAIN_valid/CXR8-DRAIN_NODULE/roc-auc=6.03e-01, CXR8-DRAIN_valid/CXR8-DRAIN_NODULE/accuracy=9.44e-01] CXR8-DRAIN_PNEUMONIA:[CXR8-DRAIN_valid/CXR8-DRAIN_PNEUMONIA/f1=0, CXR8-DRAIN_valid/CXR8-DRAIN_PNEUMONIA/roc-auc=6.04e-01, CXR8-DRAIN_valid/CXR8-DRAIN_PNEUMONIA/accuracy=9.88e-01] CXR8-DRAIN_PNEUMOTHORAX:[CXR8-DRAIN_valid/CXR8-DRAIN_PNEUMOTHORAX/f1=3.45e-01, CXR8-DRAIN_valid/CXR8-DRAIN_PNEUMOTHORAX/roc-auc=8.22e-01, CXR8-DRAIN_valid/CXR8-DRAIN_PNEUMOTHORAX/accuracy=8.98e-01] CXR8-DRAIN_CONSOLIDATION:[CXR8-DRAIN_valid/CXR8-DRAIN_CONSOLIDATION/f1=0, CXR8-DRAIN_valid/CXR8-DRAIN_CONSOLIDATION/roc-auc=6.75e-01, CXR8-DRAIN_valid/CXR8-DRAIN_CONSOLIDATION/accuracy=9.61e-01] CXR8-DRAIN_EDEMA:[CXR8-DRAIN_valid/CXR8-DRAIN_EDEMA/f1=0, CXR8-DRAIN_valid/CXR8-DRAIN_EDEMA/roc-auc=7.79e-01, CXR8-DRAIN_valid/CXR8-DRAIN_EDEMA/accuracy=9.82e-01] CXR8-DRAIN_EMPHYSEMA:[CXR8-DRAIN_valid/CXR8-DRAIN_EMPHYSEMA/f1=0, CXR8-DRAIN_valid/CXR8-DRAIN_EMPHYSEMA/roc-auc=8.05e-01, CXR8-DRAIN_valid/CXR8-DRAIN_EMPHYSEMA/accuracy=9.80e-01] CXR8-DRAIN_FIBROSIS:[CXR8-DRAIN_valid/CXR8-DRAIN_FIBROSIS/f1=0, CXR8-DRAIN_valid/CXR8-DRAIN_FIBROSIS/roc-auc=5.91e-01, CXR8-DRAIN_valid/CXR8-DRAIN_FIBROSIS/accuracy=9.85e-01] CXR8-DRAIN_PLEURAL_THICKENING:[CXR8-DRAIN_valid/CXR8-DRAIN_PLEURAL_THICKENING/f1=0, CXR8-DRAIN_valid/CXR8-DRAIN_PLEURAL_THICKENING/roc-auc=6.60e-01, CXR8-DRAIN_valid/CXR8-DRAIN_PLEURAL_THICKENING/accuracy=9.67e-01] CXR8-DRAIN_HERNIA:[CXR8-DRAIN_valid/CXR8-DRAIN_HERNIA/f1=0, CXR8-DRAIN_valid/CXR8-DRAIN_HERNIA/roc-auc=7.36e-01, CXR8-DRAIN_valid/CXR8-DRAIN_HERNIA/accuracy=9.96e-01]\n"
     ]
    },
    {
     "name": "stderr",
     "output_type": "stream",
     "text": [
      "metal.mmtl.trainer - INFO - Freezing ['CXR8-DRAIN_ATELECTASIS', 'CXR8-DRAIN_CARDIOMEGALY', 'CXR8-DRAIN_EFFUSION', 'CXR8-DRAIN_INFILTRATION', 'CXR8-DRAIN_MASS', 'CXR8-DRAIN_NODULE', 'CXR8-DRAIN_PNEUMONIA', 'CXR8-DRAIN_PNEUMOTHORAX', 'CXR8-DRAIN_CONSOLIDATION', 'CXR8-DRAIN_EDEMA', 'CXR8-DRAIN_EMPHYSEMA', 'CXR8-DRAIN_FIBROSIS', 'CXR8-DRAIN_PLEURAL_THICKENING', 'CXR8-DRAIN_HERNIA'] heads\n",
      "metal.mmtl.trainer - INFO - Training tasks {'CXR8-DRAIN_PNEUMOTHORAX_slice:chest_drain_cnn_neg:pred': 'CXR8-DRAIN_PNEUMOTHORAX_slice:chest_drain_cnn_neg:pred'}\n",
      "root - INFO - Summary name CXR8-DRAIN_PNEUMOTHORAX_slice:chest_drain_cnn_neg:pred/CXR8-DRAIN_train/CXR8-DRAIN_PNEUMOTHORAX_slice:chest_drain_cnn_neg:pred/loss is illegal; using CXR8-DRAIN_PNEUMOTHORAX_slice_chest_drain_cnn_neg_pred/CXR8-DRAIN_train/CXR8-DRAIN_PNEUMOTHORAX_slice_chest_drain_cnn_neg_pred/loss instead.\n",
      "root - INFO - Summary name CXR8-DRAIN_PNEUMOTHORAX_slice:chest_drain_cnn_neg:pred/CXR8-DRAIN_valid/CXR8-DRAIN_PNEUMOTHORAX_slice:chest_drain_cnn_neg:pred/f1 is illegal; using CXR8-DRAIN_PNEUMOTHORAX_slice_chest_drain_cnn_neg_pred/CXR8-DRAIN_valid/CXR8-DRAIN_PNEUMOTHORAX_slice_chest_drain_cnn_neg_pred/f1 instead.\n",
      "root - INFO - Summary name CXR8-DRAIN_PNEUMOTHORAX_slice:chest_drain_cnn_neg:pred/CXR8-DRAIN_valid/CXR8-DRAIN_PNEUMOTHORAX_slice:chest_drain_cnn_neg:pred/roc-auc is illegal; using CXR8-DRAIN_PNEUMOTHORAX_slice_chest_drain_cnn_neg_pred/CXR8-DRAIN_valid/CXR8-DRAIN_PNEUMOTHORAX_slice_chest_drain_cnn_neg_pred/roc-auc instead.\n",
      "root - INFO - Summary name CXR8-DRAIN_PNEUMOTHORAX_slice:chest_drain_cnn_neg:pred/CXR8-DRAIN_valid/CXR8-DRAIN_PNEUMOTHORAX_slice:chest_drain_cnn_neg:pred/accuracy is illegal; using CXR8-DRAIN_PNEUMOTHORAX_slice_chest_drain_cnn_neg_pred/CXR8-DRAIN_valid/CXR8-DRAIN_PNEUMOTHORAX_slice_chest_drain_cnn_neg_pred/accuracy instead.\n"
     ]
    },
    {
     "name": "stdout",
     "output_type": "stream",
     "text": [
      "[47.0 epo]: CXR8-DRAIN_PNEUMOTHORAX_slice:chest_drain_cnn_neg:pred:[CXR8-DRAIN_train/CXR8-DRAIN_PNEUMOTHORAX_slice:chest_drain_cnn_neg:pred/loss=5.64e-03, CXR8-DRAIN_valid/CXR8-DRAIN_PNEUMOTHORAX_slice:chest_drain_cnn_neg:pred/f1=1.16e-01, CXR8-DRAIN_valid/CXR8-DRAIN_PNEUMOTHORAX_slice:chest_drain_cnn_neg:pred/roc-auc=7.10e-01, CXR8-DRAIN_valid/CXR8-DRAIN_PNEUMOTHORAX_slice:chest_drain_cnn_neg:pred/accuracy=8.94e-01] model:[train/all/loss=5.64e-03, train/all/lr=1.00e-05, valid/all/loss=2.85e-01] CXR8-DRAIN_ATELECTASIS:[CXR8-DRAIN_valid/CXR8-DRAIN_ATELECTASIS/f1=0, CXR8-DRAIN_valid/CXR8-DRAIN_ATELECTASIS/roc-auc=6.23e-01, CXR8-DRAIN_valid/CXR8-DRAIN_ATELECTASIS/accuracy=9.01e-01] CXR8-DRAIN_CARDIOMEGALY:[CXR8-DRAIN_valid/CXR8-DRAIN_CARDIOMEGALY/f1=0, CXR8-DRAIN_valid/CXR8-DRAIN_CARDIOMEGALY/roc-auc=7.11e-01, CXR8-DRAIN_valid/CXR8-DRAIN_CARDIOMEGALY/accuracy=9.78e-01] CXR8-DRAIN_EFFUSION:[CXR8-DRAIN_valid/CXR8-DRAIN_EFFUSION/f1=0, CXR8-DRAIN_valid/CXR8-DRAIN_EFFUSION/roc-auc=7.12e-01, CXR8-DRAIN_valid/CXR8-DRAIN_EFFUSION/accuracy=8.84e-01] CXR8-DRAIN_INFILTRATION:[CXR8-DRAIN_valid/CXR8-DRAIN_INFILTRATION/f1=0, CXR8-DRAIN_valid/CXR8-DRAIN_INFILTRATION/roc-auc=6.23e-01, CXR8-DRAIN_valid/CXR8-DRAIN_INFILTRATION/accuracy=8.21e-01] CXR8-DRAIN_MASS:[CXR8-DRAIN_valid/CXR8-DRAIN_MASS/f1=0, CXR8-DRAIN_valid/CXR8-DRAIN_MASS/roc-auc=6.73e-01, CXR8-DRAIN_valid/CXR8-DRAIN_MASS/accuracy=9.43e-01] CXR8-DRAIN_NODULE:[CXR8-DRAIN_valid/CXR8-DRAIN_NODULE/f1=0, CXR8-DRAIN_valid/CXR8-DRAIN_NODULE/roc-auc=5.98e-01, CXR8-DRAIN_valid/CXR8-DRAIN_NODULE/accuracy=9.44e-01] CXR8-DRAIN_PNEUMONIA:[CXR8-DRAIN_valid/CXR8-DRAIN_PNEUMONIA/f1=0, CXR8-DRAIN_valid/CXR8-DRAIN_PNEUMONIA/roc-auc=5.97e-01, CXR8-DRAIN_valid/CXR8-DRAIN_PNEUMONIA/accuracy=9.88e-01] CXR8-DRAIN_PNEUMOTHORAX:[CXR8-DRAIN_valid/CXR8-DRAIN_PNEUMOTHORAX/f1=3.33e-01, CXR8-DRAIN_valid/CXR8-DRAIN_PNEUMOTHORAX/roc-auc=8.17e-01, CXR8-DRAIN_valid/CXR8-DRAIN_PNEUMOTHORAX/accuracy=9.00e-01] CXR8-DRAIN_CONSOLIDATION:[CXR8-DRAIN_valid/CXR8-DRAIN_CONSOLIDATION/f1=0, CXR8-DRAIN_valid/CXR8-DRAIN_CONSOLIDATION/roc-auc=6.70e-01, CXR8-DRAIN_valid/CXR8-DRAIN_CONSOLIDATION/accuracy=9.61e-01] CXR8-DRAIN_EDEMA:[CXR8-DRAIN_valid/CXR8-DRAIN_EDEMA/f1=0, CXR8-DRAIN_valid/CXR8-DRAIN_EDEMA/roc-auc=7.74e-01, CXR8-DRAIN_valid/CXR8-DRAIN_EDEMA/accuracy=9.82e-01] CXR8-DRAIN_EMPHYSEMA:[CXR8-DRAIN_valid/CXR8-DRAIN_EMPHYSEMA/f1=0, CXR8-DRAIN_valid/CXR8-DRAIN_EMPHYSEMA/roc-auc=7.98e-01, CXR8-DRAIN_valid/CXR8-DRAIN_EMPHYSEMA/accuracy=9.80e-01] CXR8-DRAIN_FIBROSIS:[CXR8-DRAIN_valid/CXR8-DRAIN_FIBROSIS/f1=0, CXR8-DRAIN_valid/CXR8-DRAIN_FIBROSIS/roc-auc=5.94e-01, CXR8-DRAIN_valid/CXR8-DRAIN_FIBROSIS/accuracy=9.85e-01] CXR8-DRAIN_PLEURAL_THICKENING:[CXR8-DRAIN_valid/CXR8-DRAIN_PLEURAL_THICKENING/f1=0, CXR8-DRAIN_valid/CXR8-DRAIN_PLEURAL_THICKENING/roc-auc=6.68e-01, CXR8-DRAIN_valid/CXR8-DRAIN_PLEURAL_THICKENING/accuracy=9.67e-01] CXR8-DRAIN_HERNIA:[CXR8-DRAIN_valid/CXR8-DRAIN_HERNIA/f1=0, CXR8-DRAIN_valid/CXR8-DRAIN_HERNIA/roc-auc=7.30e-01, CXR8-DRAIN_valid/CXR8-DRAIN_HERNIA/accuracy=9.96e-01]\n"
     ]
    },
    {
     "name": "stderr",
     "output_type": "stream",
     "text": [
      "metal.mmtl.trainer - INFO - Freezing ['CXR8-DRAIN_ATELECTASIS', 'CXR8-DRAIN_CARDIOMEGALY', 'CXR8-DRAIN_EFFUSION', 'CXR8-DRAIN_INFILTRATION', 'CXR8-DRAIN_MASS', 'CXR8-DRAIN_NODULE', 'CXR8-DRAIN_PNEUMONIA', 'CXR8-DRAIN_PNEUMOTHORAX', 'CXR8-DRAIN_CONSOLIDATION', 'CXR8-DRAIN_EDEMA', 'CXR8-DRAIN_EMPHYSEMA', 'CXR8-DRAIN_FIBROSIS', 'CXR8-DRAIN_PLEURAL_THICKENING', 'CXR8-DRAIN_HERNIA'] heads\n",
      "metal.mmtl.trainer - INFO - Training tasks {'CXR8-DRAIN_PNEUMOTHORAX_slice:chest_drain_cnn_neg:pred': 'CXR8-DRAIN_PNEUMOTHORAX_slice:chest_drain_cnn_neg:pred'}\n",
      "root - INFO - Summary name CXR8-DRAIN_PNEUMOTHORAX_slice:chest_drain_cnn_neg:pred/CXR8-DRAIN_train/CXR8-DRAIN_PNEUMOTHORAX_slice:chest_drain_cnn_neg:pred/loss is illegal; using CXR8-DRAIN_PNEUMOTHORAX_slice_chest_drain_cnn_neg_pred/CXR8-DRAIN_train/CXR8-DRAIN_PNEUMOTHORAX_slice_chest_drain_cnn_neg_pred/loss instead.\n",
      "root - INFO - Summary name CXR8-DRAIN_PNEUMOTHORAX_slice:chest_drain_cnn_neg:pred/CXR8-DRAIN_valid/CXR8-DRAIN_PNEUMOTHORAX_slice:chest_drain_cnn_neg:pred/f1 is illegal; using CXR8-DRAIN_PNEUMOTHORAX_slice_chest_drain_cnn_neg_pred/CXR8-DRAIN_valid/CXR8-DRAIN_PNEUMOTHORAX_slice_chest_drain_cnn_neg_pred/f1 instead.\n",
      "root - INFO - Summary name CXR8-DRAIN_PNEUMOTHORAX_slice:chest_drain_cnn_neg:pred/CXR8-DRAIN_valid/CXR8-DRAIN_PNEUMOTHORAX_slice:chest_drain_cnn_neg:pred/roc-auc is illegal; using CXR8-DRAIN_PNEUMOTHORAX_slice_chest_drain_cnn_neg_pred/CXR8-DRAIN_valid/CXR8-DRAIN_PNEUMOTHORAX_slice_chest_drain_cnn_neg_pred/roc-auc instead.\n",
      "root - INFO - Summary name CXR8-DRAIN_PNEUMOTHORAX_slice:chest_drain_cnn_neg:pred/CXR8-DRAIN_valid/CXR8-DRAIN_PNEUMOTHORAX_slice:chest_drain_cnn_neg:pred/accuracy is illegal; using CXR8-DRAIN_PNEUMOTHORAX_slice_chest_drain_cnn_neg_pred/CXR8-DRAIN_valid/CXR8-DRAIN_PNEUMOTHORAX_slice_chest_drain_cnn_neg_pred/accuracy instead.\n"
     ]
    },
    {
     "name": "stdout",
     "output_type": "stream",
     "text": [
      "[48.0 epo]: CXR8-DRAIN_PNEUMOTHORAX_slice:chest_drain_cnn_neg:pred:[CXR8-DRAIN_train/CXR8-DRAIN_PNEUMOTHORAX_slice:chest_drain_cnn_neg:pred/loss=1.55e-03, CXR8-DRAIN_valid/CXR8-DRAIN_PNEUMOTHORAX_slice:chest_drain_cnn_neg:pred/f1=1.03e-01, CXR8-DRAIN_valid/CXR8-DRAIN_PNEUMOTHORAX_slice:chest_drain_cnn_neg:pred/roc-auc=7.09e-01, CXR8-DRAIN_valid/CXR8-DRAIN_PNEUMOTHORAX_slice:chest_drain_cnn_neg:pred/accuracy=9.03e-01] model:[train/all/loss=1.55e-03, train/all/lr=1.00e-05, valid/all/loss=2.93e-01] CXR8-DRAIN_ATELECTASIS:[CXR8-DRAIN_valid/CXR8-DRAIN_ATELECTASIS/f1=0, CXR8-DRAIN_valid/CXR8-DRAIN_ATELECTASIS/roc-auc=6.09e-01, CXR8-DRAIN_valid/CXR8-DRAIN_ATELECTASIS/accuracy=9.01e-01] CXR8-DRAIN_CARDIOMEGALY:[CXR8-DRAIN_valid/CXR8-DRAIN_CARDIOMEGALY/f1=0, CXR8-DRAIN_valid/CXR8-DRAIN_CARDIOMEGALY/roc-auc=6.77e-01, CXR8-DRAIN_valid/CXR8-DRAIN_CARDIOMEGALY/accuracy=9.78e-01] CXR8-DRAIN_EFFUSION:[CXR8-DRAIN_valid/CXR8-DRAIN_EFFUSION/f1=0, CXR8-DRAIN_valid/CXR8-DRAIN_EFFUSION/roc-auc=6.98e-01, CXR8-DRAIN_valid/CXR8-DRAIN_EFFUSION/accuracy=8.84e-01] CXR8-DRAIN_INFILTRATION:[CXR8-DRAIN_valid/CXR8-DRAIN_INFILTRATION/f1=0, CXR8-DRAIN_valid/CXR8-DRAIN_INFILTRATION/roc-auc=6.07e-01, CXR8-DRAIN_valid/CXR8-DRAIN_INFILTRATION/accuracy=8.21e-01] CXR8-DRAIN_MASS:[CXR8-DRAIN_valid/CXR8-DRAIN_MASS/f1=0, CXR8-DRAIN_valid/CXR8-DRAIN_MASS/roc-auc=6.63e-01, CXR8-DRAIN_valid/CXR8-DRAIN_MASS/accuracy=9.43e-01] CXR8-DRAIN_NODULE:[CXR8-DRAIN_valid/CXR8-DRAIN_NODULE/f1=0, CXR8-DRAIN_valid/CXR8-DRAIN_NODULE/roc-auc=6.04e-01, CXR8-DRAIN_valid/CXR8-DRAIN_NODULE/accuracy=9.44e-01] CXR8-DRAIN_PNEUMONIA:[CXR8-DRAIN_valid/CXR8-DRAIN_PNEUMONIA/f1=0, CXR8-DRAIN_valid/CXR8-DRAIN_PNEUMONIA/roc-auc=5.68e-01, CXR8-DRAIN_valid/CXR8-DRAIN_PNEUMONIA/accuracy=9.88e-01] CXR8-DRAIN_PNEUMOTHORAX:[CXR8-DRAIN_valid/CXR8-DRAIN_PNEUMOTHORAX/f1=3.30e-01, CXR8-DRAIN_valid/CXR8-DRAIN_PNEUMOTHORAX/roc-auc=8.06e-01, CXR8-DRAIN_valid/CXR8-DRAIN_PNEUMOTHORAX/accuracy=9.08e-01] CXR8-DRAIN_CONSOLIDATION:[CXR8-DRAIN_valid/CXR8-DRAIN_CONSOLIDATION/f1=0, CXR8-DRAIN_valid/CXR8-DRAIN_CONSOLIDATION/roc-auc=6.53e-01, CXR8-DRAIN_valid/CXR8-DRAIN_CONSOLIDATION/accuracy=9.61e-01] CXR8-DRAIN_EDEMA:[CXR8-DRAIN_valid/CXR8-DRAIN_EDEMA/f1=0, CXR8-DRAIN_valid/CXR8-DRAIN_EDEMA/roc-auc=7.37e-01, CXR8-DRAIN_valid/CXR8-DRAIN_EDEMA/accuracy=9.82e-01] CXR8-DRAIN_EMPHYSEMA:[CXR8-DRAIN_valid/CXR8-DRAIN_EMPHYSEMA/f1=0, CXR8-DRAIN_valid/CXR8-DRAIN_EMPHYSEMA/roc-auc=8.00e-01, CXR8-DRAIN_valid/CXR8-DRAIN_EMPHYSEMA/accuracy=9.80e-01] CXR8-DRAIN_FIBROSIS:[CXR8-DRAIN_valid/CXR8-DRAIN_FIBROSIS/f1=0, CXR8-DRAIN_valid/CXR8-DRAIN_FIBROSIS/roc-auc=5.82e-01, CXR8-DRAIN_valid/CXR8-DRAIN_FIBROSIS/accuracy=9.85e-01] CXR8-DRAIN_PLEURAL_THICKENING:[CXR8-DRAIN_valid/CXR8-DRAIN_PLEURAL_THICKENING/f1=0, CXR8-DRAIN_valid/CXR8-DRAIN_PLEURAL_THICKENING/roc-auc=6.66e-01, CXR8-DRAIN_valid/CXR8-DRAIN_PLEURAL_THICKENING/accuracy=9.67e-01] CXR8-DRAIN_HERNIA:[CXR8-DRAIN_valid/CXR8-DRAIN_HERNIA/f1=0, CXR8-DRAIN_valid/CXR8-DRAIN_HERNIA/roc-auc=7.22e-01, CXR8-DRAIN_valid/CXR8-DRAIN_HERNIA/accuracy=9.96e-01]\n"
     ]
    },
    {
     "name": "stderr",
     "output_type": "stream",
     "text": [
      "metal.mmtl.trainer - INFO - Freezing ['CXR8-DRAIN_ATELECTASIS', 'CXR8-DRAIN_CARDIOMEGALY', 'CXR8-DRAIN_EFFUSION', 'CXR8-DRAIN_INFILTRATION', 'CXR8-DRAIN_MASS', 'CXR8-DRAIN_NODULE', 'CXR8-DRAIN_PNEUMONIA', 'CXR8-DRAIN_PNEUMOTHORAX', 'CXR8-DRAIN_CONSOLIDATION', 'CXR8-DRAIN_EDEMA', 'CXR8-DRAIN_EMPHYSEMA', 'CXR8-DRAIN_FIBROSIS', 'CXR8-DRAIN_PLEURAL_THICKENING', 'CXR8-DRAIN_HERNIA'] heads\n",
      "metal.mmtl.trainer - INFO - Training tasks {'CXR8-DRAIN_PNEUMOTHORAX_slice:chest_drain_cnn_neg:pred': 'CXR8-DRAIN_PNEUMOTHORAX_slice:chest_drain_cnn_neg:pred'}\n",
      "root - INFO - Summary name CXR8-DRAIN_PNEUMOTHORAX_slice:chest_drain_cnn_neg:pred/CXR8-DRAIN_train/CXR8-DRAIN_PNEUMOTHORAX_slice:chest_drain_cnn_neg:pred/loss is illegal; using CXR8-DRAIN_PNEUMOTHORAX_slice_chest_drain_cnn_neg_pred/CXR8-DRAIN_train/CXR8-DRAIN_PNEUMOTHORAX_slice_chest_drain_cnn_neg_pred/loss instead.\n",
      "root - INFO - Summary name CXR8-DRAIN_PNEUMOTHORAX_slice:chest_drain_cnn_neg:pred/CXR8-DRAIN_valid/CXR8-DRAIN_PNEUMOTHORAX_slice:chest_drain_cnn_neg:pred/f1 is illegal; using CXR8-DRAIN_PNEUMOTHORAX_slice_chest_drain_cnn_neg_pred/CXR8-DRAIN_valid/CXR8-DRAIN_PNEUMOTHORAX_slice_chest_drain_cnn_neg_pred/f1 instead.\n",
      "root - INFO - Summary name CXR8-DRAIN_PNEUMOTHORAX_slice:chest_drain_cnn_neg:pred/CXR8-DRAIN_valid/CXR8-DRAIN_PNEUMOTHORAX_slice:chest_drain_cnn_neg:pred/roc-auc is illegal; using CXR8-DRAIN_PNEUMOTHORAX_slice_chest_drain_cnn_neg_pred/CXR8-DRAIN_valid/CXR8-DRAIN_PNEUMOTHORAX_slice_chest_drain_cnn_neg_pred/roc-auc instead.\n",
      "root - INFO - Summary name CXR8-DRAIN_PNEUMOTHORAX_slice:chest_drain_cnn_neg:pred/CXR8-DRAIN_valid/CXR8-DRAIN_PNEUMOTHORAX_slice:chest_drain_cnn_neg:pred/accuracy is illegal; using CXR8-DRAIN_PNEUMOTHORAX_slice_chest_drain_cnn_neg_pred/CXR8-DRAIN_valid/CXR8-DRAIN_PNEUMOTHORAX_slice_chest_drain_cnn_neg_pred/accuracy instead.\n"
     ]
    },
    {
     "name": "stdout",
     "output_type": "stream",
     "text": [
      "[49.0 epo]: CXR8-DRAIN_PNEUMOTHORAX_slice:chest_drain_cnn_neg:pred:[CXR8-DRAIN_train/CXR8-DRAIN_PNEUMOTHORAX_slice:chest_drain_cnn_neg:pred/loss=4.55e-03, CXR8-DRAIN_valid/CXR8-DRAIN_PNEUMOTHORAX_slice:chest_drain_cnn_neg:pred/f1=1.03e-01, CXR8-DRAIN_valid/CXR8-DRAIN_PNEUMOTHORAX_slice:chest_drain_cnn_neg:pred/roc-auc=7.11e-01, CXR8-DRAIN_valid/CXR8-DRAIN_PNEUMOTHORAX_slice:chest_drain_cnn_neg:pred/accuracy=8.98e-01] model:[train/all/loss=4.55e-03, train/all/lr=1.00e-05, valid/all/loss=2.87e-01] CXR8-DRAIN_ATELECTASIS:[CXR8-DRAIN_valid/CXR8-DRAIN_ATELECTASIS/f1=0, CXR8-DRAIN_valid/CXR8-DRAIN_ATELECTASIS/roc-auc=6.22e-01, CXR8-DRAIN_valid/CXR8-DRAIN_ATELECTASIS/accuracy=9.01e-01] CXR8-DRAIN_CARDIOMEGALY:[CXR8-DRAIN_valid/CXR8-DRAIN_CARDIOMEGALY/f1=0, CXR8-DRAIN_valid/CXR8-DRAIN_CARDIOMEGALY/roc-auc=7.04e-01, CXR8-DRAIN_valid/CXR8-DRAIN_CARDIOMEGALY/accuracy=9.78e-01] CXR8-DRAIN_EFFUSION:[CXR8-DRAIN_valid/CXR8-DRAIN_EFFUSION/f1=0, CXR8-DRAIN_valid/CXR8-DRAIN_EFFUSION/roc-auc=7.11e-01, CXR8-DRAIN_valid/CXR8-DRAIN_EFFUSION/accuracy=8.84e-01] CXR8-DRAIN_INFILTRATION:[CXR8-DRAIN_valid/CXR8-DRAIN_INFILTRATION/f1=0, CXR8-DRAIN_valid/CXR8-DRAIN_INFILTRATION/roc-auc=6.22e-01, CXR8-DRAIN_valid/CXR8-DRAIN_INFILTRATION/accuracy=8.21e-01] CXR8-DRAIN_MASS:[CXR8-DRAIN_valid/CXR8-DRAIN_MASS/f1=0, CXR8-DRAIN_valid/CXR8-DRAIN_MASS/roc-auc=6.74e-01, CXR8-DRAIN_valid/CXR8-DRAIN_MASS/accuracy=9.43e-01] CXR8-DRAIN_NODULE:[CXR8-DRAIN_valid/CXR8-DRAIN_NODULE/f1=0, CXR8-DRAIN_valid/CXR8-DRAIN_NODULE/roc-auc=6.09e-01, CXR8-DRAIN_valid/CXR8-DRAIN_NODULE/accuracy=9.44e-01] CXR8-DRAIN_PNEUMONIA:[CXR8-DRAIN_valid/CXR8-DRAIN_PNEUMONIA/f1=0, CXR8-DRAIN_valid/CXR8-DRAIN_PNEUMONIA/roc-auc=5.91e-01, CXR8-DRAIN_valid/CXR8-DRAIN_PNEUMONIA/accuracy=9.88e-01] CXR8-DRAIN_PNEUMOTHORAX:[CXR8-DRAIN_valid/CXR8-DRAIN_PNEUMOTHORAX/f1=3.29e-01, CXR8-DRAIN_valid/CXR8-DRAIN_PNEUMOTHORAX/roc-auc=8.11e-01, CXR8-DRAIN_valid/CXR8-DRAIN_PNEUMOTHORAX/accuracy=9.03e-01] CXR8-DRAIN_CONSOLIDATION:[CXR8-DRAIN_valid/CXR8-DRAIN_CONSOLIDATION/f1=0, CXR8-DRAIN_valid/CXR8-DRAIN_CONSOLIDATION/roc-auc=6.80e-01, CXR8-DRAIN_valid/CXR8-DRAIN_CONSOLIDATION/accuracy=9.61e-01] CXR8-DRAIN_EDEMA:[CXR8-DRAIN_valid/CXR8-DRAIN_EDEMA/f1=0, CXR8-DRAIN_valid/CXR8-DRAIN_EDEMA/roc-auc=7.68e-01, CXR8-DRAIN_valid/CXR8-DRAIN_EDEMA/accuracy=9.82e-01] CXR8-DRAIN_EMPHYSEMA:[CXR8-DRAIN_valid/CXR8-DRAIN_EMPHYSEMA/f1=0, CXR8-DRAIN_valid/CXR8-DRAIN_EMPHYSEMA/roc-auc=8.03e-01, CXR8-DRAIN_valid/CXR8-DRAIN_EMPHYSEMA/accuracy=9.80e-01] CXR8-DRAIN_FIBROSIS:[CXR8-DRAIN_valid/CXR8-DRAIN_FIBROSIS/f1=0, CXR8-DRAIN_valid/CXR8-DRAIN_FIBROSIS/roc-auc=5.96e-01, CXR8-DRAIN_valid/CXR8-DRAIN_FIBROSIS/accuracy=9.85e-01] CXR8-DRAIN_PLEURAL_THICKENING:[CXR8-DRAIN_valid/CXR8-DRAIN_PLEURAL_THICKENING/f1=0, CXR8-DRAIN_valid/CXR8-DRAIN_PLEURAL_THICKENING/roc-auc=6.69e-01, CXR8-DRAIN_valid/CXR8-DRAIN_PLEURAL_THICKENING/accuracy=9.67e-01] CXR8-DRAIN_HERNIA:[CXR8-DRAIN_valid/CXR8-DRAIN_HERNIA/f1=0, CXR8-DRAIN_valid/CXR8-DRAIN_HERNIA/roc-auc=7.37e-01, CXR8-DRAIN_valid/CXR8-DRAIN_HERNIA/accuracy=9.96e-01]\n"
     ]
    },
    {
     "name": "stderr",
     "output_type": "stream",
     "text": [
      "metal.mmtl.trainer - INFO - Freezing ['CXR8-DRAIN_ATELECTASIS', 'CXR8-DRAIN_CARDIOMEGALY', 'CXR8-DRAIN_EFFUSION', 'CXR8-DRAIN_INFILTRATION', 'CXR8-DRAIN_MASS', 'CXR8-DRAIN_NODULE', 'CXR8-DRAIN_PNEUMONIA', 'CXR8-DRAIN_PNEUMOTHORAX', 'CXR8-DRAIN_CONSOLIDATION', 'CXR8-DRAIN_EDEMA', 'CXR8-DRAIN_EMPHYSEMA', 'CXR8-DRAIN_FIBROSIS', 'CXR8-DRAIN_PLEURAL_THICKENING', 'CXR8-DRAIN_HERNIA'] heads\n",
      "metal.mmtl.trainer - INFO - Training tasks {'CXR8-DRAIN_PNEUMOTHORAX_slice:chest_drain_cnn_neg:pred': 'CXR8-DRAIN_PNEUMOTHORAX_slice:chest_drain_cnn_neg:pred'}\n",
      "root - INFO - Summary name CXR8-DRAIN_PNEUMOTHORAX_slice:chest_drain_cnn_neg:pred/CXR8-DRAIN_train/CXR8-DRAIN_PNEUMOTHORAX_slice:chest_drain_cnn_neg:pred/loss is illegal; using CXR8-DRAIN_PNEUMOTHORAX_slice_chest_drain_cnn_neg_pred/CXR8-DRAIN_train/CXR8-DRAIN_PNEUMOTHORAX_slice_chest_drain_cnn_neg_pred/loss instead.\n",
      "root - INFO - Summary name CXR8-DRAIN_PNEUMOTHORAX_slice:chest_drain_cnn_neg:pred/CXR8-DRAIN_valid/CXR8-DRAIN_PNEUMOTHORAX_slice:chest_drain_cnn_neg:pred/f1 is illegal; using CXR8-DRAIN_PNEUMOTHORAX_slice_chest_drain_cnn_neg_pred/CXR8-DRAIN_valid/CXR8-DRAIN_PNEUMOTHORAX_slice_chest_drain_cnn_neg_pred/f1 instead.\n",
      "root - INFO - Summary name CXR8-DRAIN_PNEUMOTHORAX_slice:chest_drain_cnn_neg:pred/CXR8-DRAIN_valid/CXR8-DRAIN_PNEUMOTHORAX_slice:chest_drain_cnn_neg:pred/roc-auc is illegal; using CXR8-DRAIN_PNEUMOTHORAX_slice_chest_drain_cnn_neg_pred/CXR8-DRAIN_valid/CXR8-DRAIN_PNEUMOTHORAX_slice_chest_drain_cnn_neg_pred/roc-auc instead.\n",
      "root - INFO - Summary name CXR8-DRAIN_PNEUMOTHORAX_slice:chest_drain_cnn_neg:pred/CXR8-DRAIN_valid/CXR8-DRAIN_PNEUMOTHORAX_slice:chest_drain_cnn_neg:pred/accuracy is illegal; using CXR8-DRAIN_PNEUMOTHORAX_slice_chest_drain_cnn_neg_pred/CXR8-DRAIN_valid/CXR8-DRAIN_PNEUMOTHORAX_slice_chest_drain_cnn_neg_pred/accuracy instead.\n"
     ]
    },
    {
     "name": "stdout",
     "output_type": "stream",
     "text": [
      "[50.0 epo]: CXR8-DRAIN_PNEUMOTHORAX_slice:chest_drain_cnn_neg:pred:[CXR8-DRAIN_train/CXR8-DRAIN_PNEUMOTHORAX_slice:chest_drain_cnn_neg:pred/loss=1.20e-03, CXR8-DRAIN_valid/CXR8-DRAIN_PNEUMOTHORAX_slice:chest_drain_cnn_neg:pred/f1=1.02e-01, CXR8-DRAIN_valid/CXR8-DRAIN_PNEUMOTHORAX_slice:chest_drain_cnn_neg:pred/roc-auc=7.30e-01, CXR8-DRAIN_valid/CXR8-DRAIN_PNEUMOTHORAX_slice:chest_drain_cnn_neg:pred/accuracy=8.82e-01] model:[train/all/loss=1.20e-03, train/all/lr=1.00e-05, valid/all/loss=3.11e-01] CXR8-DRAIN_ATELECTASIS:[CXR8-DRAIN_valid/CXR8-DRAIN_ATELECTASIS/f1=0, CXR8-DRAIN_valid/CXR8-DRAIN_ATELECTASIS/roc-auc=6.20e-01, CXR8-DRAIN_valid/CXR8-DRAIN_ATELECTASIS/accuracy=9.01e-01] CXR8-DRAIN_CARDIOMEGALY:[CXR8-DRAIN_valid/CXR8-DRAIN_CARDIOMEGALY/f1=0, CXR8-DRAIN_valid/CXR8-DRAIN_CARDIOMEGALY/roc-auc=6.82e-01, CXR8-DRAIN_valid/CXR8-DRAIN_CARDIOMEGALY/accuracy=9.78e-01] CXR8-DRAIN_EFFUSION:[CXR8-DRAIN_valid/CXR8-DRAIN_EFFUSION/f1=0, CXR8-DRAIN_valid/CXR8-DRAIN_EFFUSION/roc-auc=7.16e-01, CXR8-DRAIN_valid/CXR8-DRAIN_EFFUSION/accuracy=8.84e-01] CXR8-DRAIN_INFILTRATION:[CXR8-DRAIN_valid/CXR8-DRAIN_INFILTRATION/f1=0, CXR8-DRAIN_valid/CXR8-DRAIN_INFILTRATION/roc-auc=6.15e-01, CXR8-DRAIN_valid/CXR8-DRAIN_INFILTRATION/accuracy=8.21e-01] CXR8-DRAIN_MASS:[CXR8-DRAIN_valid/CXR8-DRAIN_MASS/f1=0, CXR8-DRAIN_valid/CXR8-DRAIN_MASS/roc-auc=6.74e-01, CXR8-DRAIN_valid/CXR8-DRAIN_MASS/accuracy=9.43e-01] CXR8-DRAIN_NODULE:[CXR8-DRAIN_valid/CXR8-DRAIN_NODULE/f1=0, CXR8-DRAIN_valid/CXR8-DRAIN_NODULE/roc-auc=6.00e-01, CXR8-DRAIN_valid/CXR8-DRAIN_NODULE/accuracy=9.44e-01] CXR8-DRAIN_PNEUMONIA:[CXR8-DRAIN_valid/CXR8-DRAIN_PNEUMONIA/f1=0, CXR8-DRAIN_valid/CXR8-DRAIN_PNEUMONIA/roc-auc=5.81e-01, CXR8-DRAIN_valid/CXR8-DRAIN_PNEUMONIA/accuracy=9.88e-01] CXR8-DRAIN_PNEUMOTHORAX:[CXR8-DRAIN_valid/CXR8-DRAIN_PNEUMOTHORAX/f1=3.27e-01, CXR8-DRAIN_valid/CXR8-DRAIN_PNEUMOTHORAX/roc-auc=8.16e-01, CXR8-DRAIN_valid/CXR8-DRAIN_PNEUMOTHORAX/accuracy=8.91e-01] CXR8-DRAIN_CONSOLIDATION:[CXR8-DRAIN_valid/CXR8-DRAIN_CONSOLIDATION/f1=0, CXR8-DRAIN_valid/CXR8-DRAIN_CONSOLIDATION/roc-auc=6.67e-01, CXR8-DRAIN_valid/CXR8-DRAIN_CONSOLIDATION/accuracy=9.61e-01] CXR8-DRAIN_EDEMA:[CXR8-DRAIN_valid/CXR8-DRAIN_EDEMA/f1=0, CXR8-DRAIN_valid/CXR8-DRAIN_EDEMA/roc-auc=7.47e-01, CXR8-DRAIN_valid/CXR8-DRAIN_EDEMA/accuracy=9.82e-01] CXR8-DRAIN_EMPHYSEMA:[CXR8-DRAIN_valid/CXR8-DRAIN_EMPHYSEMA/f1=0, CXR8-DRAIN_valid/CXR8-DRAIN_EMPHYSEMA/roc-auc=8.06e-01, CXR8-DRAIN_valid/CXR8-DRAIN_EMPHYSEMA/accuracy=9.80e-01] CXR8-DRAIN_FIBROSIS:[CXR8-DRAIN_valid/CXR8-DRAIN_FIBROSIS/f1=0, CXR8-DRAIN_valid/CXR8-DRAIN_FIBROSIS/roc-auc=5.94e-01, CXR8-DRAIN_valid/CXR8-DRAIN_FIBROSIS/accuracy=9.85e-01] CXR8-DRAIN_PLEURAL_THICKENING:[CXR8-DRAIN_valid/CXR8-DRAIN_PLEURAL_THICKENING/f1=0, CXR8-DRAIN_valid/CXR8-DRAIN_PLEURAL_THICKENING/roc-auc=6.63e-01, CXR8-DRAIN_valid/CXR8-DRAIN_PLEURAL_THICKENING/accuracy=9.67e-01] CXR8-DRAIN_HERNIA:[CXR8-DRAIN_valid/CXR8-DRAIN_HERNIA/f1=0, CXR8-DRAIN_valid/CXR8-DRAIN_HERNIA/roc-auc=7.21e-01, CXR8-DRAIN_valid/CXR8-DRAIN_HERNIA/accuracy=9.96e-01]\n"
     ]
    },
    {
     "name": "stderr",
     "output_type": "stream",
     "text": [
      "root - INFO - Summary name CXR8-DRAIN_PNEUMOTHORAX_slice:chest_drain_cnn_neg:pred/CXR8-DRAIN_valid/CXR8-DRAIN_PNEUMOTHORAX_slice:chest_drain_cnn_neg:pred/f1 is illegal; using CXR8-DRAIN_PNEUMOTHORAX_slice_chest_drain_cnn_neg_pred/CXR8-DRAIN_valid/CXR8-DRAIN_PNEUMOTHORAX_slice_chest_drain_cnn_neg_pred/f1 instead.\n",
      "root - INFO - Summary name CXR8-DRAIN_PNEUMOTHORAX_slice:chest_drain_cnn_neg:pred/CXR8-DRAIN_valid/CXR8-DRAIN_PNEUMOTHORAX_slice:chest_drain_cnn_neg:pred/roc-auc is illegal; using CXR8-DRAIN_PNEUMOTHORAX_slice_chest_drain_cnn_neg_pred/CXR8-DRAIN_valid/CXR8-DRAIN_PNEUMOTHORAX_slice_chest_drain_cnn_neg_pred/roc-auc instead.\n",
      "root - INFO - Summary name CXR8-DRAIN_PNEUMOTHORAX_slice:chest_drain_cnn_neg:pred/CXR8-DRAIN_valid/CXR8-DRAIN_PNEUMOTHORAX_slice:chest_drain_cnn_neg:pred/accuracy is illegal; using CXR8-DRAIN_PNEUMOTHORAX_slice_chest_drain_cnn_neg_pred/CXR8-DRAIN_valid/CXR8-DRAIN_PNEUMOTHORAX_slice_chest_drain_cnn_neg_pred/accuracy instead.\n"
     ]
    },
    {
     "name": "stdout",
     "output_type": "stream",
     "text": [
      "[50.00 epo]: model:[train/all/lr=1.00e-05, valid/all/loss=3.11e-01] CXR8-DRAIN_ATELECTASIS:[CXR8-DRAIN_valid/CXR8-DRAIN_ATELECTASIS/f1=0, CXR8-DRAIN_valid/CXR8-DRAIN_ATELECTASIS/roc-auc=6.20e-01, CXR8-DRAIN_valid/CXR8-DRAIN_ATELECTASIS/accuracy=9.01e-01] CXR8-DRAIN_CARDIOMEGALY:[CXR8-DRAIN_valid/CXR8-DRAIN_CARDIOMEGALY/f1=0, CXR8-DRAIN_valid/CXR8-DRAIN_CARDIOMEGALY/roc-auc=6.82e-01, CXR8-DRAIN_valid/CXR8-DRAIN_CARDIOMEGALY/accuracy=9.78e-01] CXR8-DRAIN_EFFUSION:[CXR8-DRAIN_valid/CXR8-DRAIN_EFFUSION/f1=0, CXR8-DRAIN_valid/CXR8-DRAIN_EFFUSION/roc-auc=7.16e-01, CXR8-DRAIN_valid/CXR8-DRAIN_EFFUSION/accuracy=8.84e-01] CXR8-DRAIN_INFILTRATION:[CXR8-DRAIN_valid/CXR8-DRAIN_INFILTRATION/f1=0, CXR8-DRAIN_valid/CXR8-DRAIN_INFILTRATION/roc-auc=6.15e-01, CXR8-DRAIN_valid/CXR8-DRAIN_INFILTRATION/accuracy=8.21e-01] CXR8-DRAIN_MASS:[CXR8-DRAIN_valid/CXR8-DRAIN_MASS/f1=0, CXR8-DRAIN_valid/CXR8-DRAIN_MASS/roc-auc=6.74e-01, CXR8-DRAIN_valid/CXR8-DRAIN_MASS/accuracy=9.43e-01] CXR8-DRAIN_NODULE:[CXR8-DRAIN_valid/CXR8-DRAIN_NODULE/f1=0, CXR8-DRAIN_valid/CXR8-DRAIN_NODULE/roc-auc=6.00e-01, CXR8-DRAIN_valid/CXR8-DRAIN_NODULE/accuracy=9.44e-01] CXR8-DRAIN_PNEUMONIA:[CXR8-DRAIN_valid/CXR8-DRAIN_PNEUMONIA/f1=0, CXR8-DRAIN_valid/CXR8-DRAIN_PNEUMONIA/roc-auc=5.81e-01, CXR8-DRAIN_valid/CXR8-DRAIN_PNEUMONIA/accuracy=9.88e-01] CXR8-DRAIN_PNEUMOTHORAX:[CXR8-DRAIN_valid/CXR8-DRAIN_PNEUMOTHORAX/f1=3.27e-01, CXR8-DRAIN_valid/CXR8-DRAIN_PNEUMOTHORAX/roc-auc=8.16e-01, CXR8-DRAIN_valid/CXR8-DRAIN_PNEUMOTHORAX/accuracy=8.91e-01] CXR8-DRAIN_PNEUMOTHORAX_slice:chest_drain_cnn_neg:pred:[CXR8-DRAIN_valid/CXR8-DRAIN_PNEUMOTHORAX_slice:chest_drain_cnn_neg:pred/f1=1.02e-01, CXR8-DRAIN_valid/CXR8-DRAIN_PNEUMOTHORAX_slice:chest_drain_cnn_neg:pred/roc-auc=7.30e-01, CXR8-DRAIN_valid/CXR8-DRAIN_PNEUMOTHORAX_slice:chest_drain_cnn_neg:pred/accuracy=8.82e-01] CXR8-DRAIN_CONSOLIDATION:[CXR8-DRAIN_valid/CXR8-DRAIN_CONSOLIDATION/f1=0, CXR8-DRAIN_valid/CXR8-DRAIN_CONSOLIDATION/roc-auc=6.67e-01, CXR8-DRAIN_valid/CXR8-DRAIN_CONSOLIDATION/accuracy=9.61e-01] CXR8-DRAIN_EDEMA:[CXR8-DRAIN_valid/CXR8-DRAIN_EDEMA/f1=0, CXR8-DRAIN_valid/CXR8-DRAIN_EDEMA/roc-auc=7.47e-01, CXR8-DRAIN_valid/CXR8-DRAIN_EDEMA/accuracy=9.82e-01] CXR8-DRAIN_EMPHYSEMA:[CXR8-DRAIN_valid/CXR8-DRAIN_EMPHYSEMA/f1=0, CXR8-DRAIN_valid/CXR8-DRAIN_EMPHYSEMA/roc-auc=8.06e-01, CXR8-DRAIN_valid/CXR8-DRAIN_EMPHYSEMA/accuracy=9.80e-01] CXR8-DRAIN_FIBROSIS:[CXR8-DRAIN_valid/CXR8-DRAIN_FIBROSIS/f1=0, CXR8-DRAIN_valid/CXR8-DRAIN_FIBROSIS/roc-auc=5.94e-01, CXR8-DRAIN_valid/CXR8-DRAIN_FIBROSIS/accuracy=9.85e-01] CXR8-DRAIN_PLEURAL_THICKENING:[CXR8-DRAIN_valid/CXR8-DRAIN_PLEURAL_THICKENING/f1=0, CXR8-DRAIN_valid/CXR8-DRAIN_PLEURAL_THICKENING/roc-auc=6.63e-01, CXR8-DRAIN_valid/CXR8-DRAIN_PLEURAL_THICKENING/accuracy=9.67e-01] CXR8-DRAIN_HERNIA:[CXR8-DRAIN_valid/CXR8-DRAIN_HERNIA/f1=0, CXR8-DRAIN_valid/CXR8-DRAIN_HERNIA/roc-auc=7.21e-01, CXR8-DRAIN_valid/CXR8-DRAIN_HERNIA/accuracy=9.96e-01]\n",
      "Restoring best model from iteration 27.00 with score 0.116\n"
     ]
    },
    {
     "name": "stderr",
     "output_type": "stream",
     "text": [
      "metal.mmtl.trainer - INFO - Finished training\n",
      "/home/jdunnmon/Research/repos/metal/metal/mmtl/trainer.py:1009: UserWarning: MeTaL does not support calculating loss on the test set.\n",
      "  warnings.warn(msg)\n",
      "metal.mmtl.trainer - INFO - Cleaning checkpoints\n"
     ]
    },
    {
     "name": "stdout",
     "output_type": "stream",
     "text": [
      "{'CXR8-DRAIN_ATELECTASIS/CXR8-DRAIN_test/CXR8-DRAIN_ATELECTASIS/accuracy': 0.8916625731255303,\n",
      " 'CXR8-DRAIN_ATELECTASIS/CXR8-DRAIN_test/CXR8-DRAIN_ATELECTASIS/f1': 0,\n",
      " 'CXR8-DRAIN_ATELECTASIS/CXR8-DRAIN_test/CXR8-DRAIN_ATELECTASIS/roc-auc': 0.6677299954240242,\n",
      " 'CXR8-DRAIN_ATELECTASIS/CXR8-DRAIN_train/CXR8-DRAIN_ATELECTASIS/accuracy': 0.8226854358419058,\n",
      " 'CXR8-DRAIN_ATELECTASIS/CXR8-DRAIN_train/CXR8-DRAIN_ATELECTASIS/f1': 0,\n",
      " 'CXR8-DRAIN_ATELECTASIS/CXR8-DRAIN_train/CXR8-DRAIN_ATELECTASIS/roc-auc': 0.5917420857101949,\n",
      " 'CXR8-DRAIN_ATELECTASIS/CXR8-DRAIN_valid/CXR8-DRAIN_ATELECTASIS/accuracy': 0.9011457500666133,\n",
      " 'CXR8-DRAIN_ATELECTASIS/CXR8-DRAIN_valid/CXR8-DRAIN_ATELECTASIS/f1': 0,\n",
      " 'CXR8-DRAIN_ATELECTASIS/CXR8-DRAIN_valid/CXR8-DRAIN_ATELECTASIS/roc-auc': 0.6478883812952634,\n",
      " 'CXR8-DRAIN_CARDIOMEGALY/CXR8-DRAIN_test/CXR8-DRAIN_CARDIOMEGALY/accuracy': 0.9743669896842764,\n",
      " 'CXR8-DRAIN_CARDIOMEGALY/CXR8-DRAIN_test/CXR8-DRAIN_CARDIOMEGALY/f1': 0,\n",
      " 'CXR8-DRAIN_CARDIOMEGALY/CXR8-DRAIN_test/CXR8-DRAIN_CARDIOMEGALY/roc-auc': 0.6177654716432455,\n",
      " 'CXR8-DRAIN_CARDIOMEGALY/CXR8-DRAIN_train/CXR8-DRAIN_CARDIOMEGALY/accuracy': 0.9427449918787223,\n",
      " 'CXR8-DRAIN_CARDIOMEGALY/CXR8-DRAIN_train/CXR8-DRAIN_CARDIOMEGALY/f1': 0,\n",
      " 'CXR8-DRAIN_CARDIOMEGALY/CXR8-DRAIN_train/CXR8-DRAIN_CARDIOMEGALY/roc-auc': 0.6984756609796704,\n",
      " 'CXR8-DRAIN_CARDIOMEGALY/CXR8-DRAIN_valid/CXR8-DRAIN_CARDIOMEGALY/accuracy': 0.9779731770139444,\n",
      " 'CXR8-DRAIN_CARDIOMEGALY/CXR8-DRAIN_valid/CXR8-DRAIN_CARDIOMEGALY/f1': 0,\n",
      " 'CXR8-DRAIN_CARDIOMEGALY/CXR8-DRAIN_valid/CXR8-DRAIN_CARDIOMEGALY/roc-auc': 0.5774657893426222,\n",
      " 'CXR8-DRAIN_CONSOLIDATION/CXR8-DRAIN_test/CXR8-DRAIN_CONSOLIDATION/accuracy': 0.9567722055999642,\n",
      " 'CXR8-DRAIN_CONSOLIDATION/CXR8-DRAIN_test/CXR8-DRAIN_CONSOLIDATION/f1': 0,\n",
      " 'CXR8-DRAIN_CONSOLIDATION/CXR8-DRAIN_test/CXR8-DRAIN_CONSOLIDATION/roc-auc': 0.6323787211780476,\n",
      " 'CXR8-DRAIN_CONSOLIDATION/CXR8-DRAIN_train/CXR8-DRAIN_CONSOLIDATION/accuracy': 0.9108012994044397,\n",
      " 'CXR8-DRAIN_CONSOLIDATION/CXR8-DRAIN_train/CXR8-DRAIN_CONSOLIDATION/f1': 0,\n",
      " 'CXR8-DRAIN_CONSOLIDATION/CXR8-DRAIN_train/CXR8-DRAIN_CONSOLIDATION/roc-auc': 0.6539612588909778,\n",
      " 'CXR8-DRAIN_CONSOLIDATION/CXR8-DRAIN_valid/CXR8-DRAIN_CONSOLIDATION/accuracy': 0.9612754241051603,\n",
      " 'CXR8-DRAIN_CONSOLIDATION/CXR8-DRAIN_valid/CXR8-DRAIN_CONSOLIDATION/f1': 0,\n",
      " 'CXR8-DRAIN_CONSOLIDATION/CXR8-DRAIN_valid/CXR8-DRAIN_CONSOLIDATION/roc-auc': 0.6554201064332077,\n",
      " 'CXR8-DRAIN_EDEMA/CXR8-DRAIN_test/CXR8-DRAIN_EDEMA/accuracy': 0.9816460501049435,\n",
      " 'CXR8-DRAIN_EDEMA/CXR8-DRAIN_test/CXR8-DRAIN_EDEMA/f1': 0,\n",
      " 'CXR8-DRAIN_EDEMA/CXR8-DRAIN_test/CXR8-DRAIN_EDEMA/roc-auc': 0.6957673675055083,\n",
      " 'CXR8-DRAIN_EDEMA/CXR8-DRAIN_train/CXR8-DRAIN_EDEMA/accuracy': 0.9373308067135896,\n",
      " 'CXR8-DRAIN_EDEMA/CXR8-DRAIN_train/CXR8-DRAIN_EDEMA/f1': 0,\n",
      " 'CXR8-DRAIN_EDEMA/CXR8-DRAIN_train/CXR8-DRAIN_EDEMA/roc-auc': 0.71657663488004,\n",
      " 'CXR8-DRAIN_EDEMA/CXR8-DRAIN_valid/CXR8-DRAIN_EDEMA/accuracy': 0.9820587974065192,\n",
      " 'CXR8-DRAIN_EDEMA/CXR8-DRAIN_valid/CXR8-DRAIN_EDEMA/f1': 0,\n",
      " 'CXR8-DRAIN_EDEMA/CXR8-DRAIN_valid/CXR8-DRAIN_EDEMA/roc-auc': 0.6922516491949456,\n",
      " 'CXR8-DRAIN_EFFUSION/CXR8-DRAIN_test/CXR8-DRAIN_EFFUSION/accuracy': 0.8778636180949404,\n",
      " 'CXR8-DRAIN_EFFUSION/CXR8-DRAIN_test/CXR8-DRAIN_EFFUSION/f1': 0,\n",
      " 'CXR8-DRAIN_EFFUSION/CXR8-DRAIN_test/CXR8-DRAIN_EFFUSION/roc-auc': 0.742728286235765,\n",
      " 'CXR8-DRAIN_EFFUSION/CXR8-DRAIN_train/CXR8-DRAIN_EFFUSION/accuracy': 0.7755820249052517,\n",
      " 'CXR8-DRAIN_EFFUSION/CXR8-DRAIN_train/CXR8-DRAIN_EFFUSION/f1': 0,\n",
      " 'CXR8-DRAIN_EFFUSION/CXR8-DRAIN_train/CXR8-DRAIN_EFFUSION/roc-auc': 0.6726162168932901,\n",
      " 'CXR8-DRAIN_EFFUSION/CXR8-DRAIN_valid/CXR8-DRAIN_EFFUSION/accuracy': 0.8835598188116174,\n",
      " 'CXR8-DRAIN_EFFUSION/CXR8-DRAIN_valid/CXR8-DRAIN_EFFUSION/f1': 0,\n",
      " 'CXR8-DRAIN_EFFUSION/CXR8-DRAIN_valid/CXR8-DRAIN_EFFUSION/roc-auc': 0.7460128097073508,\n",
      " 'CXR8-DRAIN_EMPHYSEMA/CXR8-DRAIN_test/CXR8-DRAIN_EMPHYSEMA/accuracy': 0.9778948778636181,\n",
      " 'CXR8-DRAIN_EMPHYSEMA/CXR8-DRAIN_test/CXR8-DRAIN_EMPHYSEMA/f1': 0,\n",
      " 'CXR8-DRAIN_EMPHYSEMA/CXR8-DRAIN_test/CXR8-DRAIN_EMPHYSEMA/roc-auc': 0.8040051856587613,\n",
      " 'CXR8-DRAIN_EMPHYSEMA/CXR8-DRAIN_train/CXR8-DRAIN_EMPHYSEMA/accuracy': 0.8917162966973471,\n",
      " 'CXR8-DRAIN_EMPHYSEMA/CXR8-DRAIN_train/CXR8-DRAIN_EMPHYSEMA/f1': 0,\n",
      " 'CXR8-DRAIN_EMPHYSEMA/CXR8-DRAIN_train/CXR8-DRAIN_EMPHYSEMA/roc-auc': 0.7763033166363085,\n",
      " 'CXR8-DRAIN_EMPHYSEMA/CXR8-DRAIN_valid/CXR8-DRAIN_EMPHYSEMA/accuracy': 0.9802824407140954,\n",
      " 'CXR8-DRAIN_EMPHYSEMA/CXR8-DRAIN_valid/CXR8-DRAIN_EMPHYSEMA/f1': 0,\n",
      " 'CXR8-DRAIN_EMPHYSEMA/CXR8-DRAIN_valid/CXR8-DRAIN_EMPHYSEMA/roc-auc': 0.7997165757766465,\n",
      " 'CXR8-DRAIN_FIBROSIS/CXR8-DRAIN_test/CXR8-DRAIN_FIBROSIS/accuracy': 0.9841021747867638,\n",
      " 'CXR8-DRAIN_FIBROSIS/CXR8-DRAIN_test/CXR8-DRAIN_FIBROSIS/f1': 0,\n",
      " 'CXR8-DRAIN_FIBROSIS/CXR8-DRAIN_test/CXR8-DRAIN_FIBROSIS/roc-auc': 0.6076854975263768,\n",
      " 'CXR8-DRAIN_FIBROSIS/CXR8-DRAIN_train/CXR8-DRAIN_FIBROSIS/accuracy': 0.947347049269085,\n",
      " 'CXR8-DRAIN_FIBROSIS/CXR8-DRAIN_train/CXR8-DRAIN_FIBROSIS/f1': 0,\n",
      " 'CXR8-DRAIN_FIBROSIS/CXR8-DRAIN_train/CXR8-DRAIN_FIBROSIS/roc-auc': 0.6415679654566884,\n",
      " 'CXR8-DRAIN_FIBROSIS/CXR8-DRAIN_valid/CXR8-DRAIN_FIBROSIS/accuracy': 0.984723332445155,\n",
      " 'CXR8-DRAIN_FIBROSIS/CXR8-DRAIN_valid/CXR8-DRAIN_FIBROSIS/f1': 0,\n",
      " 'CXR8-DRAIN_FIBROSIS/CXR8-DRAIN_valid/CXR8-DRAIN_FIBROSIS/roc-auc': 0.6174024522749251,\n",
      " 'CXR8-DRAIN_HERNIA/CXR8-DRAIN_test/CXR8-DRAIN_HERNIA/accuracy': 0.9980797570669405,\n",
      " 'CXR8-DRAIN_HERNIA/CXR8-DRAIN_test/CXR8-DRAIN_HERNIA/f1': 0,\n",
      " 'CXR8-DRAIN_HERNIA/CXR8-DRAIN_test/CXR8-DRAIN_HERNIA/roc-auc': 0.6439995317621352,\n",
      " 'CXR8-DRAIN_HERNIA/CXR8-DRAIN_train/CXR8-DRAIN_HERNIA/accuracy': 0.9805089334055225,\n",
      " 'CXR8-DRAIN_HERNIA/CXR8-DRAIN_train/CXR8-DRAIN_HERNIA/f1': 0,\n",
      " 'CXR8-DRAIN_HERNIA/CXR8-DRAIN_train/CXR8-DRAIN_HERNIA/roc-auc': 0.77352257998957,\n",
      " 'CXR8-DRAIN_HERNIA/CXR8-DRAIN_valid/CXR8-DRAIN_HERNIA/accuracy': 0.9964472866151524,\n",
      " 'CXR8-DRAIN_HERNIA/CXR8-DRAIN_valid/CXR8-DRAIN_HERNIA/f1': 0,\n",
      " 'CXR8-DRAIN_HERNIA/CXR8-DRAIN_valid/CXR8-DRAIN_HERNIA/roc-auc': 0.6897411756841073,\n",
      " 'CXR8-DRAIN_INFILTRATION/CXR8-DRAIN_test/CXR8-DRAIN_INFILTRATION/accuracy': 0.8238735319072925,\n",
      " 'CXR8-DRAIN_INFILTRATION/CXR8-DRAIN_test/CXR8-DRAIN_INFILTRATION/f1': 0,\n",
      " 'CXR8-DRAIN_INFILTRATION/CXR8-DRAIN_test/CXR8-DRAIN_INFILTRATION/roc-auc': 0.6143688305747648,\n",
      " 'CXR8-DRAIN_INFILTRATION/CXR8-DRAIN_train/CXR8-DRAIN_INFILTRATION/accuracy': 0.760693015701137,\n",
      " 'CXR8-DRAIN_INFILTRATION/CXR8-DRAIN_train/CXR8-DRAIN_INFILTRATION/f1': 0,\n",
      " 'CXR8-DRAIN_INFILTRATION/CXR8-DRAIN_train/CXR8-DRAIN_INFILTRATION/roc-auc': 0.6207680331234602,\n",
      " 'CXR8-DRAIN_INFILTRATION/CXR8-DRAIN_valid/CXR8-DRAIN_INFILTRATION/accuracy': 0.8212985167421618,\n",
      " 'CXR8-DRAIN_INFILTRATION/CXR8-DRAIN_valid/CXR8-DRAIN_INFILTRATION/f1': 0,\n",
      " 'CXR8-DRAIN_INFILTRATION/CXR8-DRAIN_valid/CXR8-DRAIN_INFILTRATION/roc-auc': 0.6107088678053879,\n",
      " 'CXR8-DRAIN_MASS/CXR8-DRAIN_test/CXR8-DRAIN_MASS/accuracy': 0.9500736837404546,\n",
      " 'CXR8-DRAIN_MASS/CXR8-DRAIN_test/CXR8-DRAIN_MASS/f1': 0,\n",
      " 'CXR8-DRAIN_MASS/CXR8-DRAIN_test/CXR8-DRAIN_MASS/roc-auc': 0.6504599870929496,\n",
      " 'CXR8-DRAIN_MASS/CXR8-DRAIN_train/CXR8-DRAIN_MASS/accuracy': 0.8909041689225772,\n",
      " 'CXR8-DRAIN_MASS/CXR8-DRAIN_train/CXR8-DRAIN_MASS/f1': 0,\n",
      " 'CXR8-DRAIN_MASS/CXR8-DRAIN_train/CXR8-DRAIN_MASS/roc-auc': 0.5640051576862382,\n",
      " 'CXR8-DRAIN_MASS/CXR8-DRAIN_valid/CXR8-DRAIN_MASS/accuracy': 0.9431565858424371,\n",
      " 'CXR8-DRAIN_MASS/CXR8-DRAIN_valid/CXR8-DRAIN_MASS/f1': 0,\n",
      " 'CXR8-DRAIN_MASS/CXR8-DRAIN_valid/CXR8-DRAIN_MASS/roc-auc': 0.670480830351257,\n",
      " 'CXR8-DRAIN_NODULE/CXR8-DRAIN_test/CXR8-DRAIN_NODULE/accuracy': 0.9409190371991247,\n",
      " 'CXR8-DRAIN_NODULE/CXR8-DRAIN_test/CXR8-DRAIN_NODULE/f1': 0,\n",
      " 'CXR8-DRAIN_NODULE/CXR8-DRAIN_test/CXR8-DRAIN_NODULE/roc-auc': 0.6092440488297834,\n",
      " 'CXR8-DRAIN_NODULE/CXR8-DRAIN_train/CXR8-DRAIN_NODULE/accuracy': 0.9002436383324309,\n",
      " 'CXR8-DRAIN_NODULE/CXR8-DRAIN_train/CXR8-DRAIN_NODULE/f1': 0,\n",
      " 'CXR8-DRAIN_NODULE/CXR8-DRAIN_train/CXR8-DRAIN_NODULE/roc-auc': 0.6723150149119086,\n",
      " 'CXR8-DRAIN_NODULE/CXR8-DRAIN_valid/CXR8-DRAIN_NODULE/accuracy': 0.944488853361755,\n",
      " 'CXR8-DRAIN_NODULE/CXR8-DRAIN_valid/CXR8-DRAIN_NODULE/f1': 0,\n",
      " 'CXR8-DRAIN_NODULE/CXR8-DRAIN_valid/CXR8-DRAIN_NODULE/roc-auc': 0.610436185819071,\n",
      " 'CXR8-DRAIN_PLEURAL_THICKENING/CXR8-DRAIN_test/CXR8-DRAIN_PLEURAL_THICKENING/accuracy': 0.966953958826419,\n",
      " 'CXR8-DRAIN_PLEURAL_THICKENING/CXR8-DRAIN_test/CXR8-DRAIN_PLEURAL_THICKENING/f1': 0,\n",
      " 'CXR8-DRAIN_PLEURAL_THICKENING/CXR8-DRAIN_test/CXR8-DRAIN_PLEURAL_THICKENING/roc-auc': 0.6466375516281996,\n",
      " 'CXR8-DRAIN_PLEURAL_THICKENING/CXR8-DRAIN_train/CXR8-DRAIN_PLEURAL_THICKENING/accuracy': 0.9193286410395235,\n",
      " 'CXR8-DRAIN_PLEURAL_THICKENING/CXR8-DRAIN_train/CXR8-DRAIN_PLEURAL_THICKENING/f1': 0,\n",
      " 'CXR8-DRAIN_PLEURAL_THICKENING/CXR8-DRAIN_train/CXR8-DRAIN_PLEURAL_THICKENING/roc-auc': 0.7129819502415,\n",
      " 'CXR8-DRAIN_PLEURAL_THICKENING/CXR8-DRAIN_valid/CXR8-DRAIN_PLEURAL_THICKENING/accuracy': 0.9674926725286438,\n",
      " 'CXR8-DRAIN_PLEURAL_THICKENING/CXR8-DRAIN_valid/CXR8-DRAIN_PLEURAL_THICKENING/f1': 0,\n",
      " 'CXR8-DRAIN_PLEURAL_THICKENING/CXR8-DRAIN_valid/CXR8-DRAIN_PLEURAL_THICKENING/roc-auc': 0.7011652467444125,\n",
      " 'CXR8-DRAIN_PNEUMONIA/CXR8-DRAIN_test/CXR8-DRAIN_PNEUMONIA/accuracy': 0.9894609922743715,\n",
      " 'CXR8-DRAIN_PNEUMONIA/CXR8-DRAIN_test/CXR8-DRAIN_PNEUMONIA/f1': 0,\n",
      " 'CXR8-DRAIN_PNEUMONIA/CXR8-DRAIN_test/CXR8-DRAIN_PNEUMONIA/roc-auc': 0.5520912777306479,\n",
      " 'CXR8-DRAIN_PNEUMONIA/CXR8-DRAIN_train/CXR8-DRAIN_PNEUMONIA/accuracy': 0.9496480779642664,\n",
      " 'CXR8-DRAIN_PNEUMONIA/CXR8-DRAIN_train/CXR8-DRAIN_PNEUMONIA/f1': 0,\n",
      " 'CXR8-DRAIN_PNEUMONIA/CXR8-DRAIN_train/CXR8-DRAIN_PNEUMONIA/roc-auc': 0.4066423443802798,\n",
      " 'CXR8-DRAIN_PNEUMONIA/CXR8-DRAIN_valid/CXR8-DRAIN_PNEUMONIA/accuracy': 0.9876543209876543,\n",
      " 'CXR8-DRAIN_PNEUMONIA/CXR8-DRAIN_valid/CXR8-DRAIN_PNEUMONIA/f1': 0,\n",
      " 'CXR8-DRAIN_PNEUMONIA/CXR8-DRAIN_valid/CXR8-DRAIN_PNEUMONIA/roc-auc': 0.556652897106775,\n",
      " 'CXR8-DRAIN_PNEUMOTHORAX/CXR8-DRAIN_test/CXR8-DRAIN_PNEUMOTHORAX/accuracy': 0.9082749073371142,\n",
      " 'CXR8-DRAIN_PNEUMOTHORAX/CXR8-DRAIN_test/CXR8-DRAIN_PNEUMOTHORAX/f1': 0.32345191040843213,\n",
      " 'CXR8-DRAIN_PNEUMOTHORAX/CXR8-DRAIN_test/CXR8-DRAIN_PNEUMOTHORAX/roc-auc': 0.8113799392010383,\n",
      " 'CXR8-DRAIN_PNEUMOTHORAX/CXR8-DRAIN_train/CXR8-DRAIN_PNEUMOTHORAX/accuracy': 0.9086356253383866,\n",
      " 'CXR8-DRAIN_PNEUMOTHORAX/CXR8-DRAIN_train/CXR8-DRAIN_PNEUMOTHORAX/f1': 0.9031980496199628,\n",
      " 'CXR8-DRAIN_PNEUMOTHORAX/CXR8-DRAIN_train/CXR8-DRAIN_PNEUMOTHORAX/roc-auc': 0.9798195414390736,\n",
      " 'CXR8-DRAIN_PNEUMOTHORAX/CXR8-DRAIN_valid/CXR8-DRAIN_PNEUMOTHORAX/accuracy': 0.9188204991562305,\n",
      " 'CXR8-DRAIN_PNEUMOTHORAX/CXR8-DRAIN_valid/CXR8-DRAIN_PNEUMOTHORAX/f1': 0.3536067892503536,\n",
      " 'CXR8-DRAIN_PNEUMOTHORAX/CXR8-DRAIN_valid/CXR8-DRAIN_PNEUMOTHORAX/roc-auc': 0.8258457340589058,\n",
      " 'CXR8-DRAIN_PNEUMOTHORAX_slice:chest_drain_cnn_neg:pred/CXR8-DRAIN_test/CXR8-DRAIN_PNEUMOTHORAX_slice:chest_drain_cnn_neg:pred/accuracy': 0.9080827765404603,\n",
      " 'CXR8-DRAIN_PNEUMOTHORAX_slice:chest_drain_cnn_neg:pred/CXR8-DRAIN_test/CXR8-DRAIN_PNEUMOTHORAX_slice:chest_drain_cnn_neg:pred/f1': 0.05351170568561873,\n",
      " 'CXR8-DRAIN_PNEUMOTHORAX_slice:chest_drain_cnn_neg:pred/CXR8-DRAIN_test/CXR8-DRAIN_PNEUMOTHORAX_slice:chest_drain_cnn_neg:pred/roc-auc': 0.7162520565138104,\n",
      " 'CXR8-DRAIN_PNEUMOTHORAX_slice:chest_drain_cnn_neg:pred/CXR8-DRAIN_train/CXR8-DRAIN_PNEUMOTHORAX_slice:chest_drain_cnn_neg:pred/accuracy': 0.9966850828729282,\n",
      " 'CXR8-DRAIN_PNEUMOTHORAX_slice:chest_drain_cnn_neg:pred/CXR8-DRAIN_train/CXR8-DRAIN_PNEUMOTHORAX_slice:chest_drain_cnn_neg:pred/f1': 0.9958065417948001,\n",
      " 'CXR8-DRAIN_PNEUMOTHORAX_slice:chest_drain_cnn_neg:pred/CXR8-DRAIN_train/CXR8-DRAIN_PNEUMOTHORAX_slice:chest_drain_cnn_neg:pred/roc-auc': 0.9999971436056347,\n",
      " 'CXR8-DRAIN_PNEUMOTHORAX_slice:chest_drain_cnn_neg:pred/CXR8-DRAIN_valid/CXR8-DRAIN_PNEUMOTHORAX_slice:chest_drain_cnn_neg:pred/accuracy': 0.9165064542708047,\n",
      " 'CXR8-DRAIN_PNEUMOTHORAX_slice:chest_drain_cnn_neg:pred/CXR8-DRAIN_valid/CXR8-DRAIN_PNEUMOTHORAX_slice:chest_drain_cnn_neg:pred/f1': 0.11627906976744186,\n",
      " 'CXR8-DRAIN_PNEUMOTHORAX_slice:chest_drain_cnn_neg:pred/CXR8-DRAIN_valid/CXR8-DRAIN_PNEUMOTHORAX_slice:chest_drain_cnn_neg:pred/roc-auc': 0.7287632587314692,\n",
      " 'model/valid/all/loss': 0.2749320580751821}\n"
     ]
    },
    {
     "name": "stderr",
     "output_type": "stream",
     "text": [
      "metal.logging.writer - INFO - Writing metrics to /home/jdunnmon/Research/repos/metal/logs/2019_05_13/test_slice_train_balanced_train_on_train_01_18_43/metrics.json\n",
      "metal.logging.writer - INFO - Writing log to /home/jdunnmon/Research/repos/metal/logs/2019_05_13/test_slice_train_balanced_train_on_train_01_18_43/log.json\n",
      "metal.mmtl.trainer - INFO - Full model saved at /home/jdunnmon/Research/repos/metal/logs/2019_05_13/test_slice_train_balanced_train_on_train_01_18_43/model.pkl\n"
     ]
    },
    {
     "data": {
      "text/plain": [
       "{'CXR8-DRAIN_ATELECTASIS/CXR8-DRAIN_test/CXR8-DRAIN_ATELECTASIS/f1': 0,\n",
       " 'CXR8-DRAIN_ATELECTASIS/CXR8-DRAIN_test/CXR8-DRAIN_ATELECTASIS/roc-auc': 0.6677299954240242,\n",
       " 'CXR8-DRAIN_ATELECTASIS/CXR8-DRAIN_test/CXR8-DRAIN_ATELECTASIS/accuracy': 0.8916625731255303,\n",
       " 'CXR8-DRAIN_CARDIOMEGALY/CXR8-DRAIN_test/CXR8-DRAIN_CARDIOMEGALY/f1': 0,\n",
       " 'CXR8-DRAIN_CARDIOMEGALY/CXR8-DRAIN_test/CXR8-DRAIN_CARDIOMEGALY/roc-auc': 0.6177654716432455,\n",
       " 'CXR8-DRAIN_CARDIOMEGALY/CXR8-DRAIN_test/CXR8-DRAIN_CARDIOMEGALY/accuracy': 0.9743669896842764,\n",
       " 'CXR8-DRAIN_EFFUSION/CXR8-DRAIN_test/CXR8-DRAIN_EFFUSION/f1': 0,\n",
       " 'CXR8-DRAIN_EFFUSION/CXR8-DRAIN_test/CXR8-DRAIN_EFFUSION/roc-auc': 0.742728286235765,\n",
       " 'CXR8-DRAIN_EFFUSION/CXR8-DRAIN_test/CXR8-DRAIN_EFFUSION/accuracy': 0.8778636180949404,\n",
       " 'CXR8-DRAIN_INFILTRATION/CXR8-DRAIN_test/CXR8-DRAIN_INFILTRATION/f1': 0,\n",
       " 'CXR8-DRAIN_INFILTRATION/CXR8-DRAIN_test/CXR8-DRAIN_INFILTRATION/roc-auc': 0.6143688305747648,\n",
       " 'CXR8-DRAIN_INFILTRATION/CXR8-DRAIN_test/CXR8-DRAIN_INFILTRATION/accuracy': 0.8238735319072925,\n",
       " 'CXR8-DRAIN_MASS/CXR8-DRAIN_test/CXR8-DRAIN_MASS/f1': 0,\n",
       " 'CXR8-DRAIN_MASS/CXR8-DRAIN_test/CXR8-DRAIN_MASS/roc-auc': 0.6504599870929496,\n",
       " 'CXR8-DRAIN_MASS/CXR8-DRAIN_test/CXR8-DRAIN_MASS/accuracy': 0.9500736837404546,\n",
       " 'CXR8-DRAIN_NODULE/CXR8-DRAIN_test/CXR8-DRAIN_NODULE/f1': 0,\n",
       " 'CXR8-DRAIN_NODULE/CXR8-DRAIN_test/CXR8-DRAIN_NODULE/roc-auc': 0.6092440488297834,\n",
       " 'CXR8-DRAIN_NODULE/CXR8-DRAIN_test/CXR8-DRAIN_NODULE/accuracy': 0.9409190371991247,\n",
       " 'CXR8-DRAIN_PNEUMONIA/CXR8-DRAIN_test/CXR8-DRAIN_PNEUMONIA/f1': 0,\n",
       " 'CXR8-DRAIN_PNEUMONIA/CXR8-DRAIN_test/CXR8-DRAIN_PNEUMONIA/roc-auc': 0.5520912777306479,\n",
       " 'CXR8-DRAIN_PNEUMONIA/CXR8-DRAIN_test/CXR8-DRAIN_PNEUMONIA/accuracy': 0.9894609922743715,\n",
       " 'CXR8-DRAIN_PNEUMOTHORAX/CXR8-DRAIN_test/CXR8-DRAIN_PNEUMOTHORAX/f1': 0.32345191040843213,\n",
       " 'CXR8-DRAIN_PNEUMOTHORAX/CXR8-DRAIN_test/CXR8-DRAIN_PNEUMOTHORAX/roc-auc': 0.8113799392010383,\n",
       " 'CXR8-DRAIN_PNEUMOTHORAX/CXR8-DRAIN_test/CXR8-DRAIN_PNEUMOTHORAX/accuracy': 0.9082749073371142,\n",
       " 'CXR8-DRAIN_PNEUMOTHORAX_slice:chest_drain_cnn_neg:pred/CXR8-DRAIN_test/CXR8-DRAIN_PNEUMOTHORAX_slice:chest_drain_cnn_neg:pred/f1': 0.05351170568561873,\n",
       " 'CXR8-DRAIN_PNEUMOTHORAX_slice:chest_drain_cnn_neg:pred/CXR8-DRAIN_test/CXR8-DRAIN_PNEUMOTHORAX_slice:chest_drain_cnn_neg:pred/roc-auc': 0.7162520565138104,\n",
       " 'CXR8-DRAIN_PNEUMOTHORAX_slice:chest_drain_cnn_neg:pred/CXR8-DRAIN_test/CXR8-DRAIN_PNEUMOTHORAX_slice:chest_drain_cnn_neg:pred/accuracy': 0.9080827765404603,\n",
       " 'CXR8-DRAIN_CONSOLIDATION/CXR8-DRAIN_test/CXR8-DRAIN_CONSOLIDATION/f1': 0,\n",
       " 'CXR8-DRAIN_CONSOLIDATION/CXR8-DRAIN_test/CXR8-DRAIN_CONSOLIDATION/roc-auc': 0.6323787211780476,\n",
       " 'CXR8-DRAIN_CONSOLIDATION/CXR8-DRAIN_test/CXR8-DRAIN_CONSOLIDATION/accuracy': 0.9567722055999642,\n",
       " 'CXR8-DRAIN_EDEMA/CXR8-DRAIN_test/CXR8-DRAIN_EDEMA/f1': 0,\n",
       " 'CXR8-DRAIN_EDEMA/CXR8-DRAIN_test/CXR8-DRAIN_EDEMA/roc-auc': 0.6957673675055083,\n",
       " 'CXR8-DRAIN_EDEMA/CXR8-DRAIN_test/CXR8-DRAIN_EDEMA/accuracy': 0.9816460501049435,\n",
       " 'CXR8-DRAIN_EMPHYSEMA/CXR8-DRAIN_test/CXR8-DRAIN_EMPHYSEMA/f1': 0,\n",
       " 'CXR8-DRAIN_EMPHYSEMA/CXR8-DRAIN_test/CXR8-DRAIN_EMPHYSEMA/roc-auc': 0.8040051856587613,\n",
       " 'CXR8-DRAIN_EMPHYSEMA/CXR8-DRAIN_test/CXR8-DRAIN_EMPHYSEMA/accuracy': 0.9778948778636181,\n",
       " 'CXR8-DRAIN_FIBROSIS/CXR8-DRAIN_test/CXR8-DRAIN_FIBROSIS/f1': 0,\n",
       " 'CXR8-DRAIN_FIBROSIS/CXR8-DRAIN_test/CXR8-DRAIN_FIBROSIS/roc-auc': 0.6076854975263768,\n",
       " 'CXR8-DRAIN_FIBROSIS/CXR8-DRAIN_test/CXR8-DRAIN_FIBROSIS/accuracy': 0.9841021747867638,\n",
       " 'CXR8-DRAIN_PLEURAL_THICKENING/CXR8-DRAIN_test/CXR8-DRAIN_PLEURAL_THICKENING/f1': 0,\n",
       " 'CXR8-DRAIN_PLEURAL_THICKENING/CXR8-DRAIN_test/CXR8-DRAIN_PLEURAL_THICKENING/roc-auc': 0.6466375516281996,\n",
       " 'CXR8-DRAIN_PLEURAL_THICKENING/CXR8-DRAIN_test/CXR8-DRAIN_PLEURAL_THICKENING/accuracy': 0.966953958826419,\n",
       " 'CXR8-DRAIN_HERNIA/CXR8-DRAIN_test/CXR8-DRAIN_HERNIA/f1': 0,\n",
       " 'CXR8-DRAIN_HERNIA/CXR8-DRAIN_test/CXR8-DRAIN_HERNIA/roc-auc': 0.6439995317621352,\n",
       " 'CXR8-DRAIN_HERNIA/CXR8-DRAIN_test/CXR8-DRAIN_HERNIA/accuracy': 0.9980797570669405,\n",
       " 'model/valid/all/loss': 0.2749320580751821,\n",
       " 'CXR8-DRAIN_ATELECTASIS/CXR8-DRAIN_valid/CXR8-DRAIN_ATELECTASIS/f1': 0,\n",
       " 'CXR8-DRAIN_ATELECTASIS/CXR8-DRAIN_valid/CXR8-DRAIN_ATELECTASIS/roc-auc': 0.6478883812952634,\n",
       " 'CXR8-DRAIN_ATELECTASIS/CXR8-DRAIN_valid/CXR8-DRAIN_ATELECTASIS/accuracy': 0.9011457500666133,\n",
       " 'CXR8-DRAIN_CARDIOMEGALY/CXR8-DRAIN_valid/CXR8-DRAIN_CARDIOMEGALY/f1': 0,\n",
       " 'CXR8-DRAIN_CARDIOMEGALY/CXR8-DRAIN_valid/CXR8-DRAIN_CARDIOMEGALY/roc-auc': 0.5774657893426222,\n",
       " 'CXR8-DRAIN_CARDIOMEGALY/CXR8-DRAIN_valid/CXR8-DRAIN_CARDIOMEGALY/accuracy': 0.9779731770139444,\n",
       " 'CXR8-DRAIN_EFFUSION/CXR8-DRAIN_valid/CXR8-DRAIN_EFFUSION/f1': 0,\n",
       " 'CXR8-DRAIN_EFFUSION/CXR8-DRAIN_valid/CXR8-DRAIN_EFFUSION/roc-auc': 0.7460128097073508,\n",
       " 'CXR8-DRAIN_EFFUSION/CXR8-DRAIN_valid/CXR8-DRAIN_EFFUSION/accuracy': 0.8835598188116174,\n",
       " 'CXR8-DRAIN_INFILTRATION/CXR8-DRAIN_valid/CXR8-DRAIN_INFILTRATION/f1': 0,\n",
       " 'CXR8-DRAIN_INFILTRATION/CXR8-DRAIN_valid/CXR8-DRAIN_INFILTRATION/roc-auc': 0.6107088678053879,\n",
       " 'CXR8-DRAIN_INFILTRATION/CXR8-DRAIN_valid/CXR8-DRAIN_INFILTRATION/accuracy': 0.8212985167421618,\n",
       " 'CXR8-DRAIN_MASS/CXR8-DRAIN_valid/CXR8-DRAIN_MASS/f1': 0,\n",
       " 'CXR8-DRAIN_MASS/CXR8-DRAIN_valid/CXR8-DRAIN_MASS/roc-auc': 0.670480830351257,\n",
       " 'CXR8-DRAIN_MASS/CXR8-DRAIN_valid/CXR8-DRAIN_MASS/accuracy': 0.9431565858424371,\n",
       " 'CXR8-DRAIN_NODULE/CXR8-DRAIN_valid/CXR8-DRAIN_NODULE/f1': 0,\n",
       " 'CXR8-DRAIN_NODULE/CXR8-DRAIN_valid/CXR8-DRAIN_NODULE/roc-auc': 0.610436185819071,\n",
       " 'CXR8-DRAIN_NODULE/CXR8-DRAIN_valid/CXR8-DRAIN_NODULE/accuracy': 0.944488853361755,\n",
       " 'CXR8-DRAIN_PNEUMONIA/CXR8-DRAIN_valid/CXR8-DRAIN_PNEUMONIA/f1': 0,\n",
       " 'CXR8-DRAIN_PNEUMONIA/CXR8-DRAIN_valid/CXR8-DRAIN_PNEUMONIA/roc-auc': 0.556652897106775,\n",
       " 'CXR8-DRAIN_PNEUMONIA/CXR8-DRAIN_valid/CXR8-DRAIN_PNEUMONIA/accuracy': 0.9876543209876543,\n",
       " 'CXR8-DRAIN_PNEUMOTHORAX/CXR8-DRAIN_valid/CXR8-DRAIN_PNEUMOTHORAX/f1': 0.3536067892503536,\n",
       " 'CXR8-DRAIN_PNEUMOTHORAX/CXR8-DRAIN_valid/CXR8-DRAIN_PNEUMOTHORAX/roc-auc': 0.8258457340589058,\n",
       " 'CXR8-DRAIN_PNEUMOTHORAX/CXR8-DRAIN_valid/CXR8-DRAIN_PNEUMOTHORAX/accuracy': 0.9188204991562305,\n",
       " 'CXR8-DRAIN_PNEUMOTHORAX_slice:chest_drain_cnn_neg:pred/CXR8-DRAIN_valid/CXR8-DRAIN_PNEUMOTHORAX_slice:chest_drain_cnn_neg:pred/f1': 0.11627906976744186,\n",
       " 'CXR8-DRAIN_PNEUMOTHORAX_slice:chest_drain_cnn_neg:pred/CXR8-DRAIN_valid/CXR8-DRAIN_PNEUMOTHORAX_slice:chest_drain_cnn_neg:pred/roc-auc': 0.7287632587314692,\n",
       " 'CXR8-DRAIN_PNEUMOTHORAX_slice:chest_drain_cnn_neg:pred/CXR8-DRAIN_valid/CXR8-DRAIN_PNEUMOTHORAX_slice:chest_drain_cnn_neg:pred/accuracy': 0.9165064542708047,\n",
       " 'CXR8-DRAIN_CONSOLIDATION/CXR8-DRAIN_valid/CXR8-DRAIN_CONSOLIDATION/f1': 0,\n",
       " 'CXR8-DRAIN_CONSOLIDATION/CXR8-DRAIN_valid/CXR8-DRAIN_CONSOLIDATION/roc-auc': 0.6554201064332077,\n",
       " 'CXR8-DRAIN_CONSOLIDATION/CXR8-DRAIN_valid/CXR8-DRAIN_CONSOLIDATION/accuracy': 0.9612754241051603,\n",
       " 'CXR8-DRAIN_EDEMA/CXR8-DRAIN_valid/CXR8-DRAIN_EDEMA/f1': 0,\n",
       " 'CXR8-DRAIN_EDEMA/CXR8-DRAIN_valid/CXR8-DRAIN_EDEMA/roc-auc': 0.6922516491949456,\n",
       " 'CXR8-DRAIN_EDEMA/CXR8-DRAIN_valid/CXR8-DRAIN_EDEMA/accuracy': 0.9820587974065192,\n",
       " 'CXR8-DRAIN_EMPHYSEMA/CXR8-DRAIN_valid/CXR8-DRAIN_EMPHYSEMA/f1': 0,\n",
       " 'CXR8-DRAIN_EMPHYSEMA/CXR8-DRAIN_valid/CXR8-DRAIN_EMPHYSEMA/roc-auc': 0.7997165757766465,\n",
       " 'CXR8-DRAIN_EMPHYSEMA/CXR8-DRAIN_valid/CXR8-DRAIN_EMPHYSEMA/accuracy': 0.9802824407140954,\n",
       " 'CXR8-DRAIN_FIBROSIS/CXR8-DRAIN_valid/CXR8-DRAIN_FIBROSIS/f1': 0,\n",
       " 'CXR8-DRAIN_FIBROSIS/CXR8-DRAIN_valid/CXR8-DRAIN_FIBROSIS/roc-auc': 0.6174024522749251,\n",
       " 'CXR8-DRAIN_FIBROSIS/CXR8-DRAIN_valid/CXR8-DRAIN_FIBROSIS/accuracy': 0.984723332445155,\n",
       " 'CXR8-DRAIN_PLEURAL_THICKENING/CXR8-DRAIN_valid/CXR8-DRAIN_PLEURAL_THICKENING/f1': 0,\n",
       " 'CXR8-DRAIN_PLEURAL_THICKENING/CXR8-DRAIN_valid/CXR8-DRAIN_PLEURAL_THICKENING/roc-auc': 0.7011652467444125,\n",
       " 'CXR8-DRAIN_PLEURAL_THICKENING/CXR8-DRAIN_valid/CXR8-DRAIN_PLEURAL_THICKENING/accuracy': 0.9674926725286438,\n",
       " 'CXR8-DRAIN_HERNIA/CXR8-DRAIN_valid/CXR8-DRAIN_HERNIA/f1': 0,\n",
       " 'CXR8-DRAIN_HERNIA/CXR8-DRAIN_valid/CXR8-DRAIN_HERNIA/roc-auc': 0.6897411756841073,\n",
       " 'CXR8-DRAIN_HERNIA/CXR8-DRAIN_valid/CXR8-DRAIN_HERNIA/accuracy': 0.9964472866151524,\n",
       " 'CXR8-DRAIN_ATELECTASIS/CXR8-DRAIN_train/CXR8-DRAIN_ATELECTASIS/f1': 0,\n",
       " 'CXR8-DRAIN_ATELECTASIS/CXR8-DRAIN_train/CXR8-DRAIN_ATELECTASIS/roc-auc': 0.5917420857101949,\n",
       " 'CXR8-DRAIN_ATELECTASIS/CXR8-DRAIN_train/CXR8-DRAIN_ATELECTASIS/accuracy': 0.8226854358419058,\n",
       " 'CXR8-DRAIN_CARDIOMEGALY/CXR8-DRAIN_train/CXR8-DRAIN_CARDIOMEGALY/f1': 0,\n",
       " 'CXR8-DRAIN_CARDIOMEGALY/CXR8-DRAIN_train/CXR8-DRAIN_CARDIOMEGALY/roc-auc': 0.6984756609796704,\n",
       " 'CXR8-DRAIN_CARDIOMEGALY/CXR8-DRAIN_train/CXR8-DRAIN_CARDIOMEGALY/accuracy': 0.9427449918787223,\n",
       " 'CXR8-DRAIN_EFFUSION/CXR8-DRAIN_train/CXR8-DRAIN_EFFUSION/f1': 0,\n",
       " 'CXR8-DRAIN_EFFUSION/CXR8-DRAIN_train/CXR8-DRAIN_EFFUSION/roc-auc': 0.6726162168932901,\n",
       " 'CXR8-DRAIN_EFFUSION/CXR8-DRAIN_train/CXR8-DRAIN_EFFUSION/accuracy': 0.7755820249052517,\n",
       " 'CXR8-DRAIN_INFILTRATION/CXR8-DRAIN_train/CXR8-DRAIN_INFILTRATION/f1': 0,\n",
       " 'CXR8-DRAIN_INFILTRATION/CXR8-DRAIN_train/CXR8-DRAIN_INFILTRATION/roc-auc': 0.6207680331234602,\n",
       " 'CXR8-DRAIN_INFILTRATION/CXR8-DRAIN_train/CXR8-DRAIN_INFILTRATION/accuracy': 0.760693015701137,\n",
       " 'CXR8-DRAIN_MASS/CXR8-DRAIN_train/CXR8-DRAIN_MASS/f1': 0,\n",
       " 'CXR8-DRAIN_MASS/CXR8-DRAIN_train/CXR8-DRAIN_MASS/roc-auc': 0.5640051576862382,\n",
       " 'CXR8-DRAIN_MASS/CXR8-DRAIN_train/CXR8-DRAIN_MASS/accuracy': 0.8909041689225772,\n",
       " 'CXR8-DRAIN_NODULE/CXR8-DRAIN_train/CXR8-DRAIN_NODULE/f1': 0,\n",
       " 'CXR8-DRAIN_NODULE/CXR8-DRAIN_train/CXR8-DRAIN_NODULE/roc-auc': 0.6723150149119086,\n",
       " 'CXR8-DRAIN_NODULE/CXR8-DRAIN_train/CXR8-DRAIN_NODULE/accuracy': 0.9002436383324309,\n",
       " 'CXR8-DRAIN_PNEUMONIA/CXR8-DRAIN_train/CXR8-DRAIN_PNEUMONIA/f1': 0,\n",
       " 'CXR8-DRAIN_PNEUMONIA/CXR8-DRAIN_train/CXR8-DRAIN_PNEUMONIA/roc-auc': 0.4066423443802798,\n",
       " 'CXR8-DRAIN_PNEUMONIA/CXR8-DRAIN_train/CXR8-DRAIN_PNEUMONIA/accuracy': 0.9496480779642664,\n",
       " 'CXR8-DRAIN_PNEUMOTHORAX/CXR8-DRAIN_train/CXR8-DRAIN_PNEUMOTHORAX/f1': 0.9031980496199628,\n",
       " 'CXR8-DRAIN_PNEUMOTHORAX/CXR8-DRAIN_train/CXR8-DRAIN_PNEUMOTHORAX/roc-auc': 0.9798195414390736,\n",
       " 'CXR8-DRAIN_PNEUMOTHORAX/CXR8-DRAIN_train/CXR8-DRAIN_PNEUMOTHORAX/accuracy': 0.9086356253383866,\n",
       " 'CXR8-DRAIN_PNEUMOTHORAX_slice:chest_drain_cnn_neg:pred/CXR8-DRAIN_train/CXR8-DRAIN_PNEUMOTHORAX_slice:chest_drain_cnn_neg:pred/f1': 0.9958065417948001,\n",
       " 'CXR8-DRAIN_PNEUMOTHORAX_slice:chest_drain_cnn_neg:pred/CXR8-DRAIN_train/CXR8-DRAIN_PNEUMOTHORAX_slice:chest_drain_cnn_neg:pred/roc-auc': 0.9999971436056347,\n",
       " 'CXR8-DRAIN_PNEUMOTHORAX_slice:chest_drain_cnn_neg:pred/CXR8-DRAIN_train/CXR8-DRAIN_PNEUMOTHORAX_slice:chest_drain_cnn_neg:pred/accuracy': 0.9966850828729282,\n",
       " 'CXR8-DRAIN_CONSOLIDATION/CXR8-DRAIN_train/CXR8-DRAIN_CONSOLIDATION/f1': 0,\n",
       " 'CXR8-DRAIN_CONSOLIDATION/CXR8-DRAIN_train/CXR8-DRAIN_CONSOLIDATION/roc-auc': 0.6539612588909778,\n",
       " 'CXR8-DRAIN_CONSOLIDATION/CXR8-DRAIN_train/CXR8-DRAIN_CONSOLIDATION/accuracy': 0.9108012994044397,\n",
       " 'CXR8-DRAIN_EDEMA/CXR8-DRAIN_train/CXR8-DRAIN_EDEMA/f1': 0,\n",
       " 'CXR8-DRAIN_EDEMA/CXR8-DRAIN_train/CXR8-DRAIN_EDEMA/roc-auc': 0.71657663488004,\n",
       " 'CXR8-DRAIN_EDEMA/CXR8-DRAIN_train/CXR8-DRAIN_EDEMA/accuracy': 0.9373308067135896,\n",
       " 'CXR8-DRAIN_EMPHYSEMA/CXR8-DRAIN_train/CXR8-DRAIN_EMPHYSEMA/f1': 0,\n",
       " 'CXR8-DRAIN_EMPHYSEMA/CXR8-DRAIN_train/CXR8-DRAIN_EMPHYSEMA/roc-auc': 0.7763033166363085,\n",
       " 'CXR8-DRAIN_EMPHYSEMA/CXR8-DRAIN_train/CXR8-DRAIN_EMPHYSEMA/accuracy': 0.8917162966973471,\n",
       " 'CXR8-DRAIN_FIBROSIS/CXR8-DRAIN_train/CXR8-DRAIN_FIBROSIS/f1': 0,\n",
       " 'CXR8-DRAIN_FIBROSIS/CXR8-DRAIN_train/CXR8-DRAIN_FIBROSIS/roc-auc': 0.6415679654566884,\n",
       " 'CXR8-DRAIN_FIBROSIS/CXR8-DRAIN_train/CXR8-DRAIN_FIBROSIS/accuracy': 0.947347049269085,\n",
       " 'CXR8-DRAIN_PLEURAL_THICKENING/CXR8-DRAIN_train/CXR8-DRAIN_PLEURAL_THICKENING/f1': 0,\n",
       " 'CXR8-DRAIN_PLEURAL_THICKENING/CXR8-DRAIN_train/CXR8-DRAIN_PLEURAL_THICKENING/roc-auc': 0.7129819502415,\n",
       " 'CXR8-DRAIN_PLEURAL_THICKENING/CXR8-DRAIN_train/CXR8-DRAIN_PLEURAL_THICKENING/accuracy': 0.9193286410395235,\n",
       " 'CXR8-DRAIN_HERNIA/CXR8-DRAIN_train/CXR8-DRAIN_HERNIA/f1': 0,\n",
       " 'CXR8-DRAIN_HERNIA/CXR8-DRAIN_train/CXR8-DRAIN_HERNIA/roc-auc': 0.77352257998957,\n",
       " 'CXR8-DRAIN_HERNIA/CXR8-DRAIN_train/CXR8-DRAIN_HERNIA/accuracy': 0.9805089334055225}"
      ]
     },
     "execution_count": 46,
     "metadata": {},
     "output_type": "execute_result"
    }
   ],
   "source": [
    "# Training model\n",
    "trainer.train_model(model, payloads, train_schedule_plan=trainer_config['train_schedule_plan'])"
   ]
  },
  {
   "cell_type": "markdown",
   "metadata": {},
   "source": [
    "## SANDBOX"
   ]
  },
  {
   "cell_type": "code",
   "execution_count": 272,
   "metadata": {},
   "outputs": [
    {
     "data": {
      "text/plain": [
       "{'CXR8-DRAIN_ATELECTASIS': 'CXR8-DRAIN_ATELECTASIS',\n",
       " 'CXR8-DRAIN_CARDIOMEGALY': 'CXR8-DRAIN_CARDIOMEGALY',\n",
       " 'CXR8-DRAIN_EFFUSION': 'CXR8-DRAIN_EFFUSION',\n",
       " 'CXR8-DRAIN_INFILTRATION': 'CXR8-DRAIN_INFILTRATION',\n",
       " 'CXR8-DRAIN_MASS': 'CXR8-DRAIN_MASS',\n",
       " 'CXR8-DRAIN_NODULE': 'CXR8-DRAIN_NODULE',\n",
       " 'CXR8-DRAIN_PNEUMONIA': 'CXR8-DRAIN_PNEUMONIA',\n",
       " 'CXR8-DRAIN_PNEUMOTHORAX': 'CXR8-DRAIN_PNEUMOTHORAX',\n",
       " 'CXR8-DRAIN_PNEUMOTHORAX_slice:chest_drain_cnn_neg:pred': 'CXR8-DRAIN_PNEUMOTHORAX_slice:chest_drain_cnn_neg:pred',\n",
       " 'CXR8-DRAIN_CONSOLIDATION': 'CXR8-DRAIN_CONSOLIDATION',\n",
       " 'CXR8-DRAIN_EDEMA': 'CXR8-DRAIN_EDEMA',\n",
       " 'CXR8-DRAIN_EMPHYSEMA': 'CXR8-DRAIN_EMPHYSEMA',\n",
       " 'CXR8-DRAIN_FIBROSIS': 'CXR8-DRAIN_FIBROSIS',\n",
       " 'CXR8-DRAIN_PLEURAL_THICKENING': 'CXR8-DRAIN_PLEURAL_THICKENING',\n",
       " 'CXR8-DRAIN_HERNIA': 'CXR8-DRAIN_HERNIA'}"
      ]
     },
     "execution_count": 272,
     "metadata": {},
     "output_type": "execute_result"
    }
   ],
   "source": [
    "payloads[0].labels_to_tasks"
   ]
  },
  {
   "cell_type": "code",
   "execution_count": 243,
   "metadata": {},
   "outputs": [
    {
     "data": {
      "text/plain": [
       "ClassificationTask(name=CXR8-DRAIN_PNEUMOTHORAX_slice:chest_drain_cnn_neg:pred, loss_multiplier=1.00)"
      ]
     },
     "execution_count": 243,
     "metadata": {},
     "output_type": "execute_result"
    }
   ],
   "source": [
    "slice_prediction_task"
   ]
  },
  {
   "cell_type": "code",
   "execution_count": 278,
   "metadata": {},
   "outputs": [
    {
     "ename": "AttributeError",
     "evalue": "'SequentialSampler' object has no attribute 'weights'",
     "output_type": "error",
     "traceback": [
      "\u001b[0;31m---------------------------------------------------------------------------\u001b[0m",
      "\u001b[0;31mAttributeError\u001b[0m                            Traceback (most recent call last)",
      "\u001b[0;32m<ipython-input-278-fea783ef4349>\u001b[0m in \u001b[0;36m<module>\u001b[0;34m\u001b[0m\n\u001b[1;32m      1\u001b[0m \u001b[0;32mimport\u001b[0m \u001b[0mtorch\u001b[0m\u001b[0;34m\u001b[0m\u001b[0;34m\u001b[0m\u001b[0m\n\u001b[0;32m----> 2\u001b[0;31m \u001b[0mnp\u001b[0m\u001b[0;34m.\u001b[0m\u001b[0munique\u001b[0m\u001b[0;34m(\u001b[0m\u001b[0mpayloads\u001b[0m\u001b[0;34m[\u001b[0m\u001b[0;36m0\u001b[0m\u001b[0;34m]\u001b[0m\u001b[0;34m.\u001b[0m\u001b[0mdata_loader\u001b[0m\u001b[0;34m.\u001b[0m\u001b[0msampler\u001b[0m\u001b[0;34m.\u001b[0m\u001b[0mweights\u001b[0m\u001b[0;34m,\u001b[0m\u001b[0mreturn_counts\u001b[0m\u001b[0;34m=\u001b[0m\u001b[0;32mTrue\u001b[0m\u001b[0;34m)\u001b[0m\u001b[0;34m\u001b[0m\u001b[0;34m\u001b[0m\u001b[0m\n\u001b[0m",
      "\u001b[0;31mAttributeError\u001b[0m: 'SequentialSampler' object has no attribute 'weights'"
     ]
    }
   ],
   "source": [
    "import torch\n",
    "#np.unique(payloads[0].data_loader.sampler.weights,return_counts=True)"
   ]
  },
  {
   "cell_type": "code",
   "execution_count": 276,
   "metadata": {},
   "outputs": [
    {
     "data": {
      "text/plain": [
       "FOLLOW-UP #                                                       11370\n",
       "PATIENT ID                                                     12032637\n",
       "PATIENT AGE           038Y042Y038Y058Y041Y065Y065Y019Y054Y057Y048Y05...\n",
       "PATIENT GENDER        FMMMMMMFMMMMFMMMFMMMFFMMMMFFMFMMFMMMFFFFFMFMMF...\n",
       "VIEW POSITION         PAAPPAAPAPAPAPPAAPAPAPPAAPPAPAPAPAAPAPPAAPPAAP...\n",
       "CARDIOMEGALY                                                         35\n",
       "EMPHYSEMA                                                            95\n",
       "EFFUSION                                                            180\n",
       "HERNIA                                                               20\n",
       "INFILTRATION                                                        169\n",
       "MASS                                                                 87\n",
       "NODULE                                                               80\n",
       "ATELECTASIS                                                         130\n",
       "PNEUMOTHORAX                                                        544\n",
       "PLEURAL_THICKENING                                                   64\n",
       "PNEUMONIA                                                            31\n",
       "FIBROSIS                                                             30\n",
       "EDEMA                                                                33\n",
       "CONSOLIDATION                                                        43\n",
       "FOLD                  valvalvalvalvalvalvalvalvalvaltestvalvalvalval...\n",
       "NORMAL                                                               20\n",
       "dtype: object"
      ]
     },
     "execution_count": 276,
     "metadata": {},
     "output_type": "execute_result"
    }
   ],
   "source": [
    "payloads[1].data_loader.dataset.df.sum()"
   ]
  },
  {
   "cell_type": "code",
   "execution_count": 280,
   "metadata": {},
   "outputs": [
    {
     "data": {
      "text/plain": [
       "262"
      ]
     },
     "execution_count": 280,
     "metadata": {},
     "output_type": "execute_result"
    }
   ],
   "source": [
    "import numpy as np\n",
    "np.sum(payloads[1].data_loader.dataset.labels['CXR8-DRAIN_PNEUMOTHORAX_slice:chest_drain_cnn_neg:pred']==2)"
   ]
  },
  {
   "cell_type": "code",
   "execution_count": 181,
   "metadata": {},
   "outputs": [
    {
     "data": {
      "text/plain": [
       "544"
      ]
     },
     "execution_count": 181,
     "metadata": {},
     "output_type": "execute_result"
    }
   ],
   "source": [
    "import numpy as np\n",
    "np.sum(payloads[1].data_loader.dataset.labels['CXR8-DRAIN_PNEUMOTHORAX']==1)"
   ]
  },
  {
   "cell_type": "code",
   "execution_count": 203,
   "metadata": {},
   "outputs": [
    {
     "data": {
      "text/plain": [
       "{'CXR8-DRAIN_ATELECTASIS': array([1, 1, 1, ..., 2, 2, 2]),\n",
       " 'CXR8-DRAIN_CARDIOMEGALY': array([2, 2, 2, ..., 2, 2, 2]),\n",
       " 'CXR8-DRAIN_EFFUSION': array([2, 2, 2, ..., 2, 2, 2]),\n",
       " 'CXR8-DRAIN_INFILTRATION': array([1, 2, 2, ..., 2, 2, 2]),\n",
       " 'CXR8-DRAIN_MASS': array([2, 2, 2, ..., 2, 2, 2]),\n",
       " 'CXR8-DRAIN_NODULE': array([2, 2, 2, ..., 2, 2, 2]),\n",
       " 'CXR8-DRAIN_PNEUMONIA': array([2, 2, 2, ..., 2, 2, 2]),\n",
       " 'CXR8-DRAIN_PNEUMOTHORAX': array([2, 2, 2, ..., 2, 2, 2]),\n",
       " 'CXR8-DRAIN_CONSOLIDATION': array([2, 2, 2, ..., 2, 2, 2]),\n",
       " 'CXR8-DRAIN_EDEMA': array([2, 2, 2, ..., 2, 2, 2]),\n",
       " 'CXR8-DRAIN_EMPHYSEMA': array([2, 2, 2, ..., 2, 2, 2]),\n",
       " 'CXR8-DRAIN_FIBROSIS': array([2, 2, 2, ..., 2, 2, 2]),\n",
       " 'CXR8-DRAIN_PLEURAL_THICKENING': array([2, 2, 2, ..., 2, 2, 2]),\n",
       " 'CXR8-DRAIN_HERNIA': array([2, 2, 2, ..., 2, 2, 2]),\n",
       " 'CXR8-DRAIN_NORMAL': array([2, 2, 2, ..., 1, 1, 1]),\n",
       " 'CXR8-DRAIN_PNEUMOTHORAX_slice:chest_drain_cnn_neg:pred': array([0, 0, 0, ..., 0, 0, 0])}"
      ]
     },
     "execution_count": 203,
     "metadata": {},
     "output_type": "execute_result"
    }
   ],
   "source": [
    "payloads[1].data_loader.dataset.labels"
   ]
  },
  {
   "cell_type": "code",
   "execution_count": 238,
   "metadata": {},
   "outputs": [
    {
     "data": {
      "text/plain": [
       "[ClassificationTask(name=CXR8-DRAIN_ATELECTASIS, loss_multiplier=1.00),\n",
       " ClassificationTask(name=CXR8-DRAIN_CARDIOMEGALY, loss_multiplier=1.00),\n",
       " ClassificationTask(name=CXR8-DRAIN_EFFUSION, loss_multiplier=1.00),\n",
       " ClassificationTask(name=CXR8-DRAIN_INFILTRATION, loss_multiplier=1.00),\n",
       " ClassificationTask(name=CXR8-DRAIN_MASS, loss_multiplier=1.00),\n",
       " ClassificationTask(name=CXR8-DRAIN_NODULE, loss_multiplier=1.00),\n",
       " ClassificationTask(name=CXR8-DRAIN_PNEUMONIA, loss_multiplier=1.00),\n",
       " ClassificationTask(name=CXR8-DRAIN_PNEUMOTHORAX, loss_multiplier=1.00),\n",
       " ClassificationTask(name=CXR8-DRAIN_PNEUMOTHORAX_slice:chest_drain_cnn_neg:pred, loss_multiplier=1.00),\n",
       " ClassificationTask(name=CXR8-DRAIN_CONSOLIDATION, loss_multiplier=1.00),\n",
       " ClassificationTask(name=CXR8-DRAIN_EDEMA, loss_multiplier=1.00),\n",
       " ClassificationTask(name=CXR8-DRAIN_EMPHYSEMA, loss_multiplier=1.00),\n",
       " ClassificationTask(name=CXR8-DRAIN_FIBROSIS, loss_multiplier=1.00),\n",
       " ClassificationTask(name=CXR8-DRAIN_PLEURAL_THICKENING, loss_multiplier=1.00),\n",
       " ClassificationTask(name=CXR8-DRAIN_HERNIA, loss_multiplier=1.00)]"
      ]
     },
     "execution_count": 238,
     "metadata": {},
     "output_type": "execute_result"
    }
   ],
   "source": [
    "tasks"
   ]
  },
  {
   "cell_type": "code",
   "execution_count": null,
   "metadata": {},
   "outputs": [],
   "source": []
  }
 ],
 "metadata": {
  "kernelspec": {
   "display_name": "Python [conda env:metal] *",
   "language": "python",
   "name": "conda-env-metal-py"
  },
  "language_info": {
   "codemirror_mode": {
    "name": "ipython",
    "version": 3
   },
   "file_extension": ".py",
   "mimetype": "text/x-python",
   "name": "python",
   "nbconvert_exporter": "python",
   "pygments_lexer": "ipython3",
   "version": "3.6.7"
  }
 },
 "nbformat": 4,
 "nbformat_minor": 2
}
