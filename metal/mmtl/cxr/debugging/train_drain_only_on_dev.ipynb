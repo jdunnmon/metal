{
 "cells": [
  {
   "cell_type": "code",
   "execution_count": 349,
   "metadata": {},
   "outputs": [
    {
     "name": "stdout",
     "output_type": "stream",
     "text": [
      "The autoreload extension is already loaded. To reload it, use:\n",
      "  %reload_ext autoreload\n"
     ]
    }
   ],
   "source": [
    "%load_ext autoreload\n",
    "%autoreload 2\n",
    "\n",
    "import torch\n",
    "from torch.autograd import Variable\n",
    "import os\n",
    "from metal.mmtl.cxr.analysis.notebooks.cxr_analysis import load_log_json, load_results_from_log\n",
    "from metal.mmtl.cxr.cxr_tasks import create_tasks_and_payloads"
   ]
  },
  {
   "cell_type": "code",
   "execution_count": 350,
   "metadata": {},
   "outputs": [],
   "source": [
    "# Setting env variables\n",
    "os.environ['CXRDATA']='/data/datasets/mmtl/cxr'\n",
    "os.environ['CXR8IMAGES']='/data/datasets/nih/images/images'"
   ]
  },
  {
   "cell_type": "code",
   "execution_count": 351,
   "metadata": {},
   "outputs": [],
   "source": [
    "# Loading results from model log\n",
    "model_log = '/home/jdunnmon/Research/repos/metal/logs/2019_05_07/test_naive_new_code_19_21_28'\n",
    "log_jsons = load_results_from_log(model_log)"
   ]
  },
  {
   "cell_type": "code",
   "execution_count": 355,
   "metadata": {},
   "outputs": [],
   "source": [
    "task_config = log_jsons['task_config']\n",
    "task_config['subsample'] = -1\n",
    "task_config['eval_finding'] = 'ALL'\n",
    "task_names=['CXR8-DRAIN_ALL']\n",
    "task_config['sample_dict']={\"train_sample_dict\":{'PNEUMOTHORAX':-1,'ALL':300}}\n",
    "                            #\"valid_sample_dict\":{'PNEUMOTHORAX':-1,'ALL':300}}\n",
    "task_config['add_normal_col']=True\n",
    "task_config['slice_dict']={\"CXR8-DRAIN_PNEUMOTHORAX\": [\"chest_drain_cnn_neg\"]}\n",
    "task_config['slice_pos_only']=['NONE']\n",
    "task_config['active_slice_heads']={'pred':True,'ind':False}\n",
    "task_config['verbose']=True\n",
    "#task_config['train_sampler'] = \"imbalanced_mmtl_sampler\"\n",
    "tasks, payloads = create_tasks_and_payloads(task_names, **task_config, batch_size=16)"
   ]
  },
  {
   "cell_type": "code",
   "execution_count": 357,
   "metadata": {},
   "outputs": [
    {
     "name": "stdout",
     "output_type": "stream",
     "text": [
      "Counter({2: 10715, 0: 336, 1: 208})\n"
     ]
    }
   ],
   "source": [
    "# Checking to make sure our slice prediction task is reasonably balanced\n",
    "from collections import Counter\n",
    "print(Counter(payloads[1].data_loader.dataset.labels['CXR8-DRAIN_PNEUMOTHORAX_slice:chest_drain_cnn_neg:pred']))"
   ]
  },
  {
   "cell_type": "code",
   "execution_count": 358,
   "metadata": {},
   "outputs": [],
   "source": [
    "# Getting slice prediction task only\n",
    "task_names = [t.name for t in tasks]\n",
    "slice_prediction_task = tasks[task_names.index('CXR8-DRAIN_PNEUMOTHORAX_slice:chest_drain_cnn_neg:pred')]"
   ]
  },
  {
   "cell_type": "code",
   "execution_count": 359,
   "metadata": {},
   "outputs": [],
   "source": [
    "from metal.mmtl.metal_model import MetalModel\n",
    "# Initializing the model\n",
    "model_config = log_jsons['model_config'] \n",
    "model = MetalModel(tasks=tasks, **model_config)"
   ]
  },
  {
   "cell_type": "code",
   "execution_count": 360,
   "metadata": {},
   "outputs": [],
   "source": [
    "# Training on dev!\n",
    "import copy\n",
    "train_on_dev = False\n",
    "if train_on_dev:\n",
    "    payloads[0] = copy.deepcopy(payloads[1])\n",
    "    payloads[0].name = 'CXR8-DRAIN_train'\n",
    "    payloads[0].split = 'train'"
   ]
  },
  {
   "cell_type": "code",
   "execution_count": 362,
   "metadata": {},
   "outputs": [],
   "source": [
    "# Setting up trainer\n",
    "from metal.mmtl.trainer import MultitaskTrainer\n",
    "trainer_config = log_jsons['config'] \n",
    "\n",
    "tasks_to_freeze = [t.name for t in tasks if t.name != slice_prediction_task]\n",
    "trainer_config[\"train_schedule_plan\"] = {\n",
    "                \"plan\": {\n",
    "                    \"-1\": tasks_to_freeze,\n",
    "                    },\n",
    "                \"freeze\": \"heads\",\n",
    "                }\n",
    "trainer_config['n_epochs']=20\n",
    "trainer_config['checkpoint_config']['checkpoint_metric'] = 'CXR8-DRAIN_PNEUMOTHORAX_slice:chest_drain_cnn_neg:pred/CXR8-DRAIN_valid/CXR8-DRAIN_PNEUMOTHORAX_slice:chest_drain_cnn_neg:pred/roc-auc'\n",
    "trainer_config['checkpoint_config']['checkpoint_dir']='checkpoints_temp'\n",
    "trainer_config['checkpoint_config']['checkpoint_metric_mode'] = 'max'\n",
    "trainer_config['writer_config']['run_name'] = 'test_slice_train_exp'\n",
    "\n",
    "# Initializing trainer \n",
    "trainer = MultitaskTrainer(**trainer_config)"
   ]
  },
  {
   "cell_type": "code",
   "execution_count": null,
   "metadata": {},
   "outputs": [
    {
     "name": "stderr",
     "output_type": "stream",
     "text": [
      "/home/jdunnmon/Research/repos/metal/metal/mmtl/trainer.py:643: UserWarning: You have provided checkpoint_dir, overriding the default of using log_dir/run_dir/run_name/checkpoints. Be careful: multiple concurrent runs may override each other.\n",
      "  warnings.warn(msg)\n"
     ]
    }
   ],
   "source": [
    "# Training model\n",
    "trainer.train_model(model, payloads, train_schedule_plan=trainer_config['train_schedule_plan'])"
   ]
  },
  {
   "cell_type": "markdown",
   "metadata": {},
   "source": [
    "## SANDBOX"
   ]
  },
  {
   "cell_type": "code",
   "execution_count": 272,
   "metadata": {},
   "outputs": [
    {
     "data": {
      "text/plain": [
       "{'CXR8-DRAIN_ATELECTASIS': 'CXR8-DRAIN_ATELECTASIS',\n",
       " 'CXR8-DRAIN_CARDIOMEGALY': 'CXR8-DRAIN_CARDIOMEGALY',\n",
       " 'CXR8-DRAIN_EFFUSION': 'CXR8-DRAIN_EFFUSION',\n",
       " 'CXR8-DRAIN_INFILTRATION': 'CXR8-DRAIN_INFILTRATION',\n",
       " 'CXR8-DRAIN_MASS': 'CXR8-DRAIN_MASS',\n",
       " 'CXR8-DRAIN_NODULE': 'CXR8-DRAIN_NODULE',\n",
       " 'CXR8-DRAIN_PNEUMONIA': 'CXR8-DRAIN_PNEUMONIA',\n",
       " 'CXR8-DRAIN_PNEUMOTHORAX': 'CXR8-DRAIN_PNEUMOTHORAX',\n",
       " 'CXR8-DRAIN_PNEUMOTHORAX_slice:chest_drain_cnn_neg:pred': 'CXR8-DRAIN_PNEUMOTHORAX_slice:chest_drain_cnn_neg:pred',\n",
       " 'CXR8-DRAIN_CONSOLIDATION': 'CXR8-DRAIN_CONSOLIDATION',\n",
       " 'CXR8-DRAIN_EDEMA': 'CXR8-DRAIN_EDEMA',\n",
       " 'CXR8-DRAIN_EMPHYSEMA': 'CXR8-DRAIN_EMPHYSEMA',\n",
       " 'CXR8-DRAIN_FIBROSIS': 'CXR8-DRAIN_FIBROSIS',\n",
       " 'CXR8-DRAIN_PLEURAL_THICKENING': 'CXR8-DRAIN_PLEURAL_THICKENING',\n",
       " 'CXR8-DRAIN_HERNIA': 'CXR8-DRAIN_HERNIA'}"
      ]
     },
     "execution_count": 272,
     "metadata": {},
     "output_type": "execute_result"
    }
   ],
   "source": [
    "payloads[0].labels_to_tasks"
   ]
  },
  {
   "cell_type": "code",
   "execution_count": 243,
   "metadata": {},
   "outputs": [
    {
     "data": {
      "text/plain": [
       "ClassificationTask(name=CXR8-DRAIN_PNEUMOTHORAX_slice:chest_drain_cnn_neg:pred, loss_multiplier=1.00)"
      ]
     },
     "execution_count": 243,
     "metadata": {},
     "output_type": "execute_result"
    }
   ],
   "source": [
    "slice_prediction_task"
   ]
  },
  {
   "cell_type": "code",
   "execution_count": 278,
   "metadata": {},
   "outputs": [
    {
     "ename": "AttributeError",
     "evalue": "'SequentialSampler' object has no attribute 'weights'",
     "output_type": "error",
     "traceback": [
      "\u001b[0;31m---------------------------------------------------------------------------\u001b[0m",
      "\u001b[0;31mAttributeError\u001b[0m                            Traceback (most recent call last)",
      "\u001b[0;32m<ipython-input-278-fea783ef4349>\u001b[0m in \u001b[0;36m<module>\u001b[0;34m\u001b[0m\n\u001b[1;32m      1\u001b[0m \u001b[0;32mimport\u001b[0m \u001b[0mtorch\u001b[0m\u001b[0;34m\u001b[0m\u001b[0;34m\u001b[0m\u001b[0m\n\u001b[0;32m----> 2\u001b[0;31m \u001b[0mnp\u001b[0m\u001b[0;34m.\u001b[0m\u001b[0munique\u001b[0m\u001b[0;34m(\u001b[0m\u001b[0mpayloads\u001b[0m\u001b[0;34m[\u001b[0m\u001b[0;36m0\u001b[0m\u001b[0;34m]\u001b[0m\u001b[0;34m.\u001b[0m\u001b[0mdata_loader\u001b[0m\u001b[0;34m.\u001b[0m\u001b[0msampler\u001b[0m\u001b[0;34m.\u001b[0m\u001b[0mweights\u001b[0m\u001b[0;34m,\u001b[0m\u001b[0mreturn_counts\u001b[0m\u001b[0;34m=\u001b[0m\u001b[0;32mTrue\u001b[0m\u001b[0;34m)\u001b[0m\u001b[0;34m\u001b[0m\u001b[0;34m\u001b[0m\u001b[0m\n\u001b[0m",
      "\u001b[0;31mAttributeError\u001b[0m: 'SequentialSampler' object has no attribute 'weights'"
     ]
    }
   ],
   "source": [
    "import torch\n",
    "#np.unique(payloads[0].data_loader.sampler.weights,return_counts=True)"
   ]
  },
  {
   "cell_type": "code",
   "execution_count": 276,
   "metadata": {},
   "outputs": [
    {
     "data": {
      "text/plain": [
       "FOLLOW-UP #                                                       11370\n",
       "PATIENT ID                                                     12032637\n",
       "PATIENT AGE           038Y042Y038Y058Y041Y065Y065Y019Y054Y057Y048Y05...\n",
       "PATIENT GENDER        FMMMMMMFMMMMFMMMFMMMFFMMMMFFMFMMFMMMFFFFFMFMMF...\n",
       "VIEW POSITION         PAAPPAAPAPAPAPPAAPAPAPPAAPPAPAPAPAAPAPPAAPPAAP...\n",
       "CARDIOMEGALY                                                         35\n",
       "EMPHYSEMA                                                            95\n",
       "EFFUSION                                                            180\n",
       "HERNIA                                                               20\n",
       "INFILTRATION                                                        169\n",
       "MASS                                                                 87\n",
       "NODULE                                                               80\n",
       "ATELECTASIS                                                         130\n",
       "PNEUMOTHORAX                                                        544\n",
       "PLEURAL_THICKENING                                                   64\n",
       "PNEUMONIA                                                            31\n",
       "FIBROSIS                                                             30\n",
       "EDEMA                                                                33\n",
       "CONSOLIDATION                                                        43\n",
       "FOLD                  valvalvalvalvalvalvalvalvalvaltestvalvalvalval...\n",
       "NORMAL                                                               20\n",
       "dtype: object"
      ]
     },
     "execution_count": 276,
     "metadata": {},
     "output_type": "execute_result"
    }
   ],
   "source": [
    "payloads[1].data_loader.dataset.df.sum()"
   ]
  },
  {
   "cell_type": "code",
   "execution_count": 280,
   "metadata": {},
   "outputs": [
    {
     "data": {
      "text/plain": [
       "262"
      ]
     },
     "execution_count": 280,
     "metadata": {},
     "output_type": "execute_result"
    }
   ],
   "source": [
    "import numpy as np\n",
    "np.sum(payloads[1].data_loader.dataset.labels['CXR8-DRAIN_PNEUMOTHORAX_slice:chest_drain_cnn_neg:pred']==2)"
   ]
  },
  {
   "cell_type": "code",
   "execution_count": 181,
   "metadata": {},
   "outputs": [
    {
     "data": {
      "text/plain": [
       "544"
      ]
     },
     "execution_count": 181,
     "metadata": {},
     "output_type": "execute_result"
    }
   ],
   "source": [
    "import numpy as np\n",
    "np.sum(payloads[1].data_loader.dataset.labels['CXR8-DRAIN_PNEUMOTHORAX']==1)"
   ]
  },
  {
   "cell_type": "code",
   "execution_count": 203,
   "metadata": {},
   "outputs": [
    {
     "data": {
      "text/plain": [
       "{'CXR8-DRAIN_ATELECTASIS': array([1, 1, 1, ..., 2, 2, 2]),\n",
       " 'CXR8-DRAIN_CARDIOMEGALY': array([2, 2, 2, ..., 2, 2, 2]),\n",
       " 'CXR8-DRAIN_EFFUSION': array([2, 2, 2, ..., 2, 2, 2]),\n",
       " 'CXR8-DRAIN_INFILTRATION': array([1, 2, 2, ..., 2, 2, 2]),\n",
       " 'CXR8-DRAIN_MASS': array([2, 2, 2, ..., 2, 2, 2]),\n",
       " 'CXR8-DRAIN_NODULE': array([2, 2, 2, ..., 2, 2, 2]),\n",
       " 'CXR8-DRAIN_PNEUMONIA': array([2, 2, 2, ..., 2, 2, 2]),\n",
       " 'CXR8-DRAIN_PNEUMOTHORAX': array([2, 2, 2, ..., 2, 2, 2]),\n",
       " 'CXR8-DRAIN_CONSOLIDATION': array([2, 2, 2, ..., 2, 2, 2]),\n",
       " 'CXR8-DRAIN_EDEMA': array([2, 2, 2, ..., 2, 2, 2]),\n",
       " 'CXR8-DRAIN_EMPHYSEMA': array([2, 2, 2, ..., 2, 2, 2]),\n",
       " 'CXR8-DRAIN_FIBROSIS': array([2, 2, 2, ..., 2, 2, 2]),\n",
       " 'CXR8-DRAIN_PLEURAL_THICKENING': array([2, 2, 2, ..., 2, 2, 2]),\n",
       " 'CXR8-DRAIN_HERNIA': array([2, 2, 2, ..., 2, 2, 2]),\n",
       " 'CXR8-DRAIN_NORMAL': array([2, 2, 2, ..., 1, 1, 1]),\n",
       " 'CXR8-DRAIN_PNEUMOTHORAX_slice:chest_drain_cnn_neg:pred': array([0, 0, 0, ..., 0, 0, 0])}"
      ]
     },
     "execution_count": 203,
     "metadata": {},
     "output_type": "execute_result"
    }
   ],
   "source": [
    "payloads[1].data_loader.dataset.labels"
   ]
  },
  {
   "cell_type": "code",
   "execution_count": 238,
   "metadata": {},
   "outputs": [
    {
     "data": {
      "text/plain": [
       "[ClassificationTask(name=CXR8-DRAIN_ATELECTASIS, loss_multiplier=1.00),\n",
       " ClassificationTask(name=CXR8-DRAIN_CARDIOMEGALY, loss_multiplier=1.00),\n",
       " ClassificationTask(name=CXR8-DRAIN_EFFUSION, loss_multiplier=1.00),\n",
       " ClassificationTask(name=CXR8-DRAIN_INFILTRATION, loss_multiplier=1.00),\n",
       " ClassificationTask(name=CXR8-DRAIN_MASS, loss_multiplier=1.00),\n",
       " ClassificationTask(name=CXR8-DRAIN_NODULE, loss_multiplier=1.00),\n",
       " ClassificationTask(name=CXR8-DRAIN_PNEUMONIA, loss_multiplier=1.00),\n",
       " ClassificationTask(name=CXR8-DRAIN_PNEUMOTHORAX, loss_multiplier=1.00),\n",
       " ClassificationTask(name=CXR8-DRAIN_PNEUMOTHORAX_slice:chest_drain_cnn_neg:pred, loss_multiplier=1.00),\n",
       " ClassificationTask(name=CXR8-DRAIN_CONSOLIDATION, loss_multiplier=1.00),\n",
       " ClassificationTask(name=CXR8-DRAIN_EDEMA, loss_multiplier=1.00),\n",
       " ClassificationTask(name=CXR8-DRAIN_EMPHYSEMA, loss_multiplier=1.00),\n",
       " ClassificationTask(name=CXR8-DRAIN_FIBROSIS, loss_multiplier=1.00),\n",
       " ClassificationTask(name=CXR8-DRAIN_PLEURAL_THICKENING, loss_multiplier=1.00),\n",
       " ClassificationTask(name=CXR8-DRAIN_HERNIA, loss_multiplier=1.00)]"
      ]
     },
     "execution_count": 238,
     "metadata": {},
     "output_type": "execute_result"
    }
   ],
   "source": [
    "tasks"
   ]
  },
  {
   "cell_type": "code",
   "execution_count": null,
   "metadata": {},
   "outputs": [],
   "source": []
  }
 ],
 "metadata": {
  "kernelspec": {
   "display_name": "Python [conda env:metal] *",
   "language": "python",
   "name": "conda-env-metal-py"
  },
  "language_info": {
   "codemirror_mode": {
    "name": "ipython",
    "version": 3
   },
   "file_extension": ".py",
   "mimetype": "text/x-python",
   "name": "python",
   "nbconvert_exporter": "python",
   "pygments_lexer": "ipython3",
   "version": "3.6.7"
  }
 },
 "nbformat": 4,
 "nbformat_minor": 2
}
