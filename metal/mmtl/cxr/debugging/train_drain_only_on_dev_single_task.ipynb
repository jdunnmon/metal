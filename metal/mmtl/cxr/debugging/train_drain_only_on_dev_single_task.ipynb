{
 "cells": [
  {
   "cell_type": "code",
   "execution_count": 2,
   "metadata": {},
   "outputs": [],
   "source": [
    "%load_ext autoreload\n",
    "%autoreload 2\n",
    "\n",
    "import sys\n",
    "import logging\n",
    "logger = logging.getLogger()\n",
    "logger.setLevel(logging.INFO)\n",
    "handler = logging.StreamHandler(sys.stderr)\n",
    "formatter = logging.Formatter('%(name)s - %(levelname)s - %(message)s')\n",
    "handler.setFormatter(formatter)\n",
    "logger.handlers = [handler]\n",
    "\n",
    "import torch\n",
    "from torch.autograd import Variable\n",
    "import os\n",
    "from metal.mmtl.cxr.analysis.notebooks.cxr_analysis import load_log_json, load_results_from_log\n",
    "from metal.mmtl.cxr.cxr_tasks import create_tasks_and_payloads"
   ]
  },
  {
   "cell_type": "code",
   "execution_count": 3,
   "metadata": {},
   "outputs": [],
   "source": [
    "# Setting env variables\n",
    "os.environ['CXRDATA']='/data/datasets/mmtl/cxr'\n",
    "os.environ['CXR8IMAGES']='/data/datasets/nih/images/images'"
   ]
  },
  {
   "cell_type": "code",
   "execution_count": 4,
   "metadata": {},
   "outputs": [],
   "source": [
    "# Loading results from model log\n",
    "model_log = '/home/jdunnmon/Research/repos/metal/logs/2019_05_07/test_naive_new_code_19_21_28'\n",
    "log_jsons = load_results_from_log(model_log)"
   ]
  },
  {
   "cell_type": "code",
   "execution_count": 5,
   "metadata": {},
   "outputs": [
    {
     "name": "stderr",
     "output_type": "stream",
     "text": [
      "metal.utils - INFO - Could not find kwarg \"shuffle\" in destination dict.\n",
      "metal.utils - INFO - Could not find kwarg \"attention\" in destination dict.\n",
      "metal.utils - INFO - Could not find kwarg \"verbose\" in destination dict.\n",
      "metal.mmtl.cxr.cxr_tasks - INFO - Loading CXR8-DRAIN Dataset\n",
      "metal.mmtl.cxr.cxr_tasks - INFO - Using train finding ALL\n",
      "/home/jdunnmon/Research/repos/anaconda3/envs/metal/lib/python3.6/site-packages/torchvision/transforms/transforms.py:208: UserWarning: The use of the transforms.Scale transform is deprecated, please use transforms.Resize instead.\n",
      "  \"please use transforms.Resize instead.\")\n",
      "metal.mmtl.cxr.cxr_datasets - INFO - Adding normal column to dataset\n",
      "metal.mmtl.cxr.cxr_datasets - INFO - Using pre-specified sampling dictionary\n",
      "metal.mmtl.cxr.cxr_datasets - INFO - Adding normal column to dataset\n",
      "metal.mmtl.cxr.cxr_datasets - INFO - Adding normal column to dataset\n",
      "metal.mmtl.cxr.cxr_tasks - INFO - Shuffling training split...\n",
      "metal.mmtl.payload - INFO - Added label_set with 4525/7388 labels for task CXR8-DRAIN_PNEUMOTHORAX_slice:chest_drain_cnn_neg:pred to payload CXR8-DRAIN_train.\n",
      "metal.mmtl.payload - INFO - Added label_set with 10923/11259 labels for task CXR8-DRAIN_PNEUMOTHORAX_slice:chest_drain_cnn_neg:pred to payload CXR8-DRAIN_valid.\n",
      "metal.mmtl.payload - INFO - Added label_set with 21552/22393 labels for task CXR8-DRAIN_PNEUMOTHORAX_slice:chest_drain_cnn_neg:pred to payload CXR8-DRAIN_test.\n"
     ]
    }
   ],
   "source": [
    "task_config = log_jsons['task_config']\n",
    "task_config['subsample'] = -1\n",
    "task_config['eval_finding'] = 'ALL'\n",
    "task_names=['CXR8-DRAIN_ALL']\n",
    "task_config['sample_dict']={\"train_sample_dict\":{'PNEUMOTHORAX':-1,'ALL':300}}\n",
    "                            #\"valid_sample_dict\":{'PNEUMOTHORAX':-1,'ALL':300}}\n",
    "task_config['add_normal_col']=True\n",
    "task_config['slice_dict']={\"CXR8-DRAIN_PNEUMOTHORAX\": [\"chest_drain_cnn_neg\"]}\n",
    "task_config['slice_pos_only']=['NONE']\n",
    "task_config['active_slice_heads']={'pred':True,'ind':False}\n",
    "task_config['verbose']=True\n",
    "#task_config['train_sampler'] = \"imbalanced_mmtl_sampler\"\n",
    "tasks, payloads = create_tasks_and_payloads(task_names, **task_config, batch_size=16)"
   ]
  },
  {
   "cell_type": "code",
   "execution_count": 6,
   "metadata": {},
   "outputs": [
    {
     "name": "stdout",
     "output_type": "stream",
     "text": [
      "Counter({2: 10715, 0: 336, 1: 208})\n"
     ]
    }
   ],
   "source": [
    "# Checking to make sure our slice prediction task is reasonably balanced\n",
    "from collections import Counter\n",
    "print(Counter(payloads[1].data_loader.dataset.labels['CXR8-DRAIN_PNEUMOTHORAX_slice:chest_drain_cnn_neg:pred']))"
   ]
  },
  {
   "cell_type": "code",
   "execution_count": 7,
   "metadata": {},
   "outputs": [],
   "source": [
    "# Getting slice prediction task only\n",
    "slice_prediction_task_name = 'CXR8-DRAIN_PNEUMOTHORAX_slice:chest_drain_cnn_neg:pred'\n",
    "task_names = [t.name for t in tasks]\n",
    "slice_prediction_task = tasks[task_names.index(slice_prediction_task_name)]\n",
    "for p in payloads:\n",
    "    p.labels_to_tasks = {k:v for k,v in p.labels_to_tasks.items() if slice_prediction_task_name in k}"
   ]
  },
  {
   "cell_type": "code",
   "execution_count": 8,
   "metadata": {},
   "outputs": [
    {
     "name": "stderr",
     "output_type": "stream",
     "text": [
      "metal.mmtl.metal_model - INFO - Your destination state dict has different keys for the update key.\n",
      "metal.mmtl.metal_model - INFO - Loading without strictness.\n"
     ]
    }
   ],
   "source": [
    "from metal.mmtl.metal_model import MetalModel\n",
    "# Initializing the model\n",
    "model_config = log_jsons['model_config'] \n",
    "model_config['model_weights'] = None\n",
    "model = MetalModel(tasks=[slice_prediction_task], **model_config)\n",
    "missing, unexpected = model.load_weights(os.path.join('/home/jdunnmon/Research/repos/metal/logs/2019_05_07/test_naive_new_code_19_21_28','best_model.pth'))"
   ]
  },
  {
   "cell_type": "code",
   "execution_count": null,
   "metadata": {},
   "outputs": [],
   "source": [
    "missing"
   ]
  },
  {
   "cell_type": "code",
   "execution_count": 23,
   "metadata": {},
   "outputs": [],
   "source": [
    "# Training on dev!\n",
    "import copy\n",
    "train_on_dev = False\n",
    "if train_on_dev:\n",
    "    payloads[0] = copy.deepcopy(payloads[1])\n",
    "    payloads[0].name = 'CXR8-DRAIN_train'\n",
    "    payloads[0].split = 'train'"
   ]
  },
  {
   "cell_type": "code",
   "execution_count": 27,
   "metadata": {},
   "outputs": [],
   "source": [
    "# Setting up trainer\n",
    "from metal.mmtl.trainer import MultitaskTrainer\n",
    "trainer_config = log_jsons['config'] \n",
    "\n",
    "tasks_to_freeze = [t.name for t in tasks if t.name != slice_prediction_task]\n",
    "trainer_config[\"train_schedule_plan\"] = {\n",
    "                \"plan\": {\n",
    "                    \"-1\": tasks_to_freeze,\n",
    "                    },\n",
    "                \"freeze\": \"heads\",\n",
    "                }\n",
    "trainer_config['n_epochs']=20\n",
    "trainer_config['checkpoint_config']['checkpoint_metric'] = 'CXR8-DRAIN_PNEUMOTHORAX_slice:chest_drain_cnn_neg:pred/CXR8-DRAIN_valid/CXR8-DRAIN_PNEUMOTHORAX_slice:chest_drain_cnn_neg:pred/roc-auc'\n",
    "trainer_config['checkpoint_config']['checkpoint_dir']='checkpoints_temp'\n",
    "trainer_config['checkpoint_config']['checkpoint_metric_mode'] = 'max'\n",
    "trainer_config['writer_config']['run_name'] = 'test_slice_train_exp'\n",
    "\n",
    "# Initializing trainer \n",
    "trainer = MultitaskTrainer(**trainer_config)"
   ]
  },
  {
   "cell_type": "code",
   "execution_count": 28,
   "metadata": {},
   "outputs": [
    {
     "name": "stderr",
     "output_type": "stream",
     "text": [
      "/home/jdunnmon/Research/repos/metal/metal/mmtl/trainer.py:643: UserWarning: You have provided checkpoint_dir, overriding the default of using log_dir/run_dir/run_name/checkpoints. Be careful: multiple concurrent runs may override each other.\n",
      "  warnings.warn(msg)\n"
     ]
    },
    {
     "name": "stdout",
     "output_type": "stream",
     "text": [
      "[1.0 epo]: CXR8-DRAIN_PNEUMOTHORAX_slice:chest_drain_cnn_neg:pred:[CXR8-DRAIN_train/CXR8-DRAIN_PNEUMOTHORAX_slice:chest_drain_cnn_neg:pred/loss=6.70e-01, CXR8-DRAIN_valid/CXR8-DRAIN_PNEUMOTHORAX_slice:chest_drain_cnn_neg:pred/f1=4.89e-02, CXR8-DRAIN_valid/CXR8-DRAIN_PNEUMOTHORAX_slice:chest_drain_cnn_neg:pred/roc-auc=6.48e-01, CXR8-DRAIN_valid/CXR8-DRAIN_PNEUMOTHORAX_slice:chest_drain_cnn_neg:pred/accuracy=4.48e-01] model:[train/all/loss=6.70e-01, train/all/lr=9.50e-05, valid/all/loss=8.74e-01]\n",
      "Saving model at iteration 1.00 with best (max) score CXR8-DRAIN_PNEUMOTHORAX_slice:chest_drain_cnn_neg:pred/CXR8-DRAIN_valid/CXR8-DRAIN_PNEUMOTHORAX_slice:chest_drain_cnn_neg:pred/roc-auc=0.648\n",
      "[2.0 epo]: CXR8-DRAIN_PNEUMOTHORAX_slice:chest_drain_cnn_neg:pred:[CXR8-DRAIN_train/CXR8-DRAIN_PNEUMOTHORAX_slice:chest_drain_cnn_neg:pred/loss=5.88e-01, CXR8-DRAIN_valid/CXR8-DRAIN_PNEUMOTHORAX_slice:chest_drain_cnn_neg:pred/f1=5.29e-02, CXR8-DRAIN_valid/CXR8-DRAIN_PNEUMOTHORAX_slice:chest_drain_cnn_neg:pred/roc-auc=6.37e-01, CXR8-DRAIN_valid/CXR8-DRAIN_PNEUMOTHORAX_slice:chest_drain_cnn_neg:pred/accuracy=5.97e-01] model:[train/all/loss=5.88e-01, train/all/lr=9.00e-05, valid/all/loss=7.37e-01]\n",
      "[3.0 epo]: CXR8-DRAIN_PNEUMOTHORAX_slice:chest_drain_cnn_neg:pred:[CXR8-DRAIN_train/CXR8-DRAIN_PNEUMOTHORAX_slice:chest_drain_cnn_neg:pred/loss=5.64e-01, CXR8-DRAIN_valid/CXR8-DRAIN_PNEUMOTHORAX_slice:chest_drain_cnn_neg:pred/f1=6.14e-02, CXR8-DRAIN_valid/CXR8-DRAIN_PNEUMOTHORAX_slice:chest_drain_cnn_neg:pred/roc-auc=6.38e-01, CXR8-DRAIN_valid/CXR8-DRAIN_PNEUMOTHORAX_slice:chest_drain_cnn_neg:pred/accuracy=6.92e-01] model:[train/all/loss=5.64e-01, train/all/lr=8.50e-05, valid/all/loss=8.48e-01]\n",
      "[4.0 epo]: CXR8-DRAIN_PNEUMOTHORAX_slice:chest_drain_cnn_neg:pred:[CXR8-DRAIN_train/CXR8-DRAIN_PNEUMOTHORAX_slice:chest_drain_cnn_neg:pred/loss=5.30e-01, CXR8-DRAIN_valid/CXR8-DRAIN_PNEUMOTHORAX_slice:chest_drain_cnn_neg:pred/f1=7.75e-02, CXR8-DRAIN_valid/CXR8-DRAIN_PNEUMOTHORAX_slice:chest_drain_cnn_neg:pred/roc-auc=6.75e-01, CXR8-DRAIN_valid/CXR8-DRAIN_PNEUMOTHORAX_slice:chest_drain_cnn_neg:pred/accuracy=8.04e-01] model:[train/all/loss=5.30e-01, train/all/lr=8.00e-05, valid/all/loss=4.65e-01]\n",
      "Saving model at iteration 4.00 with best (max) score CXR8-DRAIN_PNEUMOTHORAX_slice:chest_drain_cnn_neg:pred/CXR8-DRAIN_valid/CXR8-DRAIN_PNEUMOTHORAX_slice:chest_drain_cnn_neg:pred/roc-auc=0.675\n",
      "[5.0 epo]: CXR8-DRAIN_PNEUMOTHORAX_slice:chest_drain_cnn_neg:pred:[CXR8-DRAIN_train/CXR8-DRAIN_PNEUMOTHORAX_slice:chest_drain_cnn_neg:pred/loss=4.99e-01, CXR8-DRAIN_valid/CXR8-DRAIN_PNEUMOTHORAX_slice:chest_drain_cnn_neg:pred/f1=5.79e-02, CXR8-DRAIN_valid/CXR8-DRAIN_PNEUMOTHORAX_slice:chest_drain_cnn_neg:pred/roc-auc=6.30e-01, CXR8-DRAIN_valid/CXR8-DRAIN_PNEUMOTHORAX_slice:chest_drain_cnn_neg:pred/accuracy=6.93e-01] model:[train/all/loss=4.99e-01, train/all/lr=7.50e-05, valid/all/loss=7.49e-01]\n",
      "[6.0 epo]: CXR8-DRAIN_PNEUMOTHORAX_slice:chest_drain_cnn_neg:pred:[CXR8-DRAIN_train/CXR8-DRAIN_PNEUMOTHORAX_slice:chest_drain_cnn_neg:pred/loss=4.61e-01, CXR8-DRAIN_valid/CXR8-DRAIN_PNEUMOTHORAX_slice:chest_drain_cnn_neg:pred/f1=8.02e-02, CXR8-DRAIN_valid/CXR8-DRAIN_PNEUMOTHORAX_slice:chest_drain_cnn_neg:pred/roc-auc=6.81e-01, CXR8-DRAIN_valid/CXR8-DRAIN_PNEUMOTHORAX_slice:chest_drain_cnn_neg:pred/accuracy=7.90e-01] model:[train/all/loss=4.61e-01, train/all/lr=7.00e-05, valid/all/loss=5.27e-01]\n",
      "Saving model at iteration 6.00 with best (max) score CXR8-DRAIN_PNEUMOTHORAX_slice:chest_drain_cnn_neg:pred/CXR8-DRAIN_valid/CXR8-DRAIN_PNEUMOTHORAX_slice:chest_drain_cnn_neg:pred/roc-auc=0.681\n",
      "[7.0 epo]: CXR8-DRAIN_PNEUMOTHORAX_slice:chest_drain_cnn_neg:pred:[CXR8-DRAIN_train/CXR8-DRAIN_PNEUMOTHORAX_slice:chest_drain_cnn_neg:pred/loss=4.35e-01, CXR8-DRAIN_valid/CXR8-DRAIN_PNEUMOTHORAX_slice:chest_drain_cnn_neg:pred/f1=6.93e-02, CXR8-DRAIN_valid/CXR8-DRAIN_PNEUMOTHORAX_slice:chest_drain_cnn_neg:pred/roc-auc=6.49e-01, CXR8-DRAIN_valid/CXR8-DRAIN_PNEUMOTHORAX_slice:chest_drain_cnn_neg:pred/accuracy=8.01e-01] model:[train/all/loss=4.35e-01, train/all/lr=6.50e-05, valid/all/loss=5.13e-01]\n",
      "[8.0 epo]: CXR8-DRAIN_PNEUMOTHORAX_slice:chest_drain_cnn_neg:pred:[CXR8-DRAIN_train/CXR8-DRAIN_PNEUMOTHORAX_slice:chest_drain_cnn_neg:pred/loss=4.00e-01, CXR8-DRAIN_valid/CXR8-DRAIN_PNEUMOTHORAX_slice:chest_drain_cnn_neg:pred/f1=6.64e-02, CXR8-DRAIN_valid/CXR8-DRAIN_PNEUMOTHORAX_slice:chest_drain_cnn_neg:pred/roc-auc=6.47e-01, CXR8-DRAIN_valid/CXR8-DRAIN_PNEUMOTHORAX_slice:chest_drain_cnn_neg:pred/accuracy=8.74e-01] model:[train/all/loss=4.00e-01, train/all/lr=6.00e-05, valid/all/loss=3.47e-01]\n",
      "[9.0 epo]: CXR8-DRAIN_PNEUMOTHORAX_slice:chest_drain_cnn_neg:pred:[CXR8-DRAIN_train/CXR8-DRAIN_PNEUMOTHORAX_slice:chest_drain_cnn_neg:pred/loss=3.67e-01, CXR8-DRAIN_valid/CXR8-DRAIN_PNEUMOTHORAX_slice:chest_drain_cnn_neg:pred/f1=7.75e-02, CXR8-DRAIN_valid/CXR8-DRAIN_PNEUMOTHORAX_slice:chest_drain_cnn_neg:pred/roc-auc=6.53e-01, CXR8-DRAIN_valid/CXR8-DRAIN_PNEUMOTHORAX_slice:chest_drain_cnn_neg:pred/accuracy=8.23e-01] model:[train/all/loss=3.67e-01, train/all/lr=5.50e-05, valid/all/loss=5.10e-01]\n",
      "[10.0 epo]: CXR8-DRAIN_PNEUMOTHORAX_slice:chest_drain_cnn_neg:pred:[CXR8-DRAIN_train/CXR8-DRAIN_PNEUMOTHORAX_slice:chest_drain_cnn_neg:pred/loss=3.32e-01, CXR8-DRAIN_valid/CXR8-DRAIN_PNEUMOTHORAX_slice:chest_drain_cnn_neg:pred/f1=8.54e-02, CXR8-DRAIN_valid/CXR8-DRAIN_PNEUMOTHORAX_slice:chest_drain_cnn_neg:pred/roc-auc=6.59e-01, CXR8-DRAIN_valid/CXR8-DRAIN_PNEUMOTHORAX_slice:chest_drain_cnn_neg:pred/accuracy=8.74e-01] model:[train/all/loss=3.32e-01, train/all/lr=5.00e-05, valid/all/loss=3.73e-01]\n",
      "[11.0 epo]: CXR8-DRAIN_PNEUMOTHORAX_slice:chest_drain_cnn_neg:pred:[CXR8-DRAIN_train/CXR8-DRAIN_PNEUMOTHORAX_slice:chest_drain_cnn_neg:pred/loss=3.05e-01, CXR8-DRAIN_valid/CXR8-DRAIN_PNEUMOTHORAX_slice:chest_drain_cnn_neg:pred/f1=8.05e-02, CXR8-DRAIN_valid/CXR8-DRAIN_PNEUMOTHORAX_slice:chest_drain_cnn_neg:pred/roc-auc=6.77e-01, CXR8-DRAIN_valid/CXR8-DRAIN_PNEUMOTHORAX_slice:chest_drain_cnn_neg:pred/accuracy=8.58e-01] model:[train/all/loss=3.05e-01, train/all/lr=4.50e-05, valid/all/loss=4.58e-01]\n",
      "[12.0 epo]: CXR8-DRAIN_PNEUMOTHORAX_slice:chest_drain_cnn_neg:pred:[CXR8-DRAIN_train/CXR8-DRAIN_PNEUMOTHORAX_slice:chest_drain_cnn_neg:pred/loss=2.61e-01, CXR8-DRAIN_valid/CXR8-DRAIN_PNEUMOTHORAX_slice:chest_drain_cnn_neg:pred/f1=7.37e-02, CXR8-DRAIN_valid/CXR8-DRAIN_PNEUMOTHORAX_slice:chest_drain_cnn_neg:pred/roc-auc=6.53e-01, CXR8-DRAIN_valid/CXR8-DRAIN_PNEUMOTHORAX_slice:chest_drain_cnn_neg:pred/accuracy=8.37e-01] model:[train/all/loss=2.61e-01, train/all/lr=4.00e-05, valid/all/loss=5.46e-01]\n",
      "[13.0 epo]: CXR8-DRAIN_PNEUMOTHORAX_slice:chest_drain_cnn_neg:pred:[CXR8-DRAIN_train/CXR8-DRAIN_PNEUMOTHORAX_slice:chest_drain_cnn_neg:pred/loss=2.41e-01, CXR8-DRAIN_valid/CXR8-DRAIN_PNEUMOTHORAX_slice:chest_drain_cnn_neg:pred/f1=8.15e-02, CXR8-DRAIN_valid/CXR8-DRAIN_PNEUMOTHORAX_slice:chest_drain_cnn_neg:pred/roc-auc=6.56e-01, CXR8-DRAIN_valid/CXR8-DRAIN_PNEUMOTHORAX_slice:chest_drain_cnn_neg:pred/accuracy=8.54e-01] model:[train/all/loss=2.41e-01, train/all/lr=3.50e-05, valid/all/loss=5.78e-01]\n",
      "[14.0 epo]: CXR8-DRAIN_PNEUMOTHORAX_slice:chest_drain_cnn_neg:pred:[CXR8-DRAIN_train/CXR8-DRAIN_PNEUMOTHORAX_slice:chest_drain_cnn_neg:pred/loss=2.01e-01, CXR8-DRAIN_valid/CXR8-DRAIN_PNEUMOTHORAX_slice:chest_drain_cnn_neg:pred/f1=8.54e-02, CXR8-DRAIN_valid/CXR8-DRAIN_PNEUMOTHORAX_slice:chest_drain_cnn_neg:pred/roc-auc=6.55e-01, CXR8-DRAIN_valid/CXR8-DRAIN_PNEUMOTHORAX_slice:chest_drain_cnn_neg:pred/accuracy=8.90e-01] model:[train/all/loss=2.01e-01, train/all/lr=3.00e-05, valid/all/loss=4.63e-01]\n",
      "[15.0 epo]: CXR8-DRAIN_PNEUMOTHORAX_slice:chest_drain_cnn_neg:pred:[CXR8-DRAIN_train/CXR8-DRAIN_PNEUMOTHORAX_slice:chest_drain_cnn_neg:pred/loss=1.91e-01, CXR8-DRAIN_valid/CXR8-DRAIN_PNEUMOTHORAX_slice:chest_drain_cnn_neg:pred/f1=7.94e-02, CXR8-DRAIN_valid/CXR8-DRAIN_PNEUMOTHORAX_slice:chest_drain_cnn_neg:pred/roc-auc=6.46e-01, CXR8-DRAIN_valid/CXR8-DRAIN_PNEUMOTHORAX_slice:chest_drain_cnn_neg:pred/accuracy=8.15e-01] model:[train/all/loss=1.91e-01, train/all/lr=2.50e-05, valid/all/loss=8.22e-01]\n",
      "[16.0 epo]: CXR8-DRAIN_PNEUMOTHORAX_slice:chest_drain_cnn_neg:pred:[CXR8-DRAIN_train/CXR8-DRAIN_PNEUMOTHORAX_slice:chest_drain_cnn_neg:pred/loss=1.66e-01, CXR8-DRAIN_valid/CXR8-DRAIN_PNEUMOTHORAX_slice:chest_drain_cnn_neg:pred/f1=8.56e-02, CXR8-DRAIN_valid/CXR8-DRAIN_PNEUMOTHORAX_slice:chest_drain_cnn_neg:pred/roc-auc=6.37e-01, CXR8-DRAIN_valid/CXR8-DRAIN_PNEUMOTHORAX_slice:chest_drain_cnn_neg:pred/accuracy=8.73e-01] model:[train/all/loss=1.66e-01, train/all/lr=2.00e-05, valid/all/loss=5.68e-01]\n",
      "[17.0 epo]: CXR8-DRAIN_PNEUMOTHORAX_slice:chest_drain_cnn_neg:pred:[CXR8-DRAIN_train/CXR8-DRAIN_PNEUMOTHORAX_slice:chest_drain_cnn_neg:pred/loss=1.42e-01, CXR8-DRAIN_valid/CXR8-DRAIN_PNEUMOTHORAX_slice:chest_drain_cnn_neg:pred/f1=8.17e-02, CXR8-DRAIN_valid/CXR8-DRAIN_PNEUMOTHORAX_slice:chest_drain_cnn_neg:pred/roc-auc=6.23e-01, CXR8-DRAIN_valid/CXR8-DRAIN_PNEUMOTHORAX_slice:chest_drain_cnn_neg:pred/accuracy=8.77e-01] model:[train/all/loss=1.42e-01, train/all/lr=1.50e-05, valid/all/loss=5.51e-01]\n",
      "[18.0 epo]: CXR8-DRAIN_PNEUMOTHORAX_slice:chest_drain_cnn_neg:pred:[CXR8-DRAIN_train/CXR8-DRAIN_PNEUMOTHORAX_slice:chest_drain_cnn_neg:pred/loss=1.24e-01, CXR8-DRAIN_valid/CXR8-DRAIN_PNEUMOTHORAX_slice:chest_drain_cnn_neg:pred/f1=7.84e-02, CXR8-DRAIN_valid/CXR8-DRAIN_PNEUMOTHORAX_slice:chest_drain_cnn_neg:pred/roc-auc=6.30e-01, CXR8-DRAIN_valid/CXR8-DRAIN_PNEUMOTHORAX_slice:chest_drain_cnn_neg:pred/accuracy=8.69e-01] model:[train/all/loss=1.24e-01, train/all/lr=1.00e-05, valid/all/loss=6.09e-01]\n",
      "[19.0 epo]: CXR8-DRAIN_PNEUMOTHORAX_slice:chest_drain_cnn_neg:pred:[CXR8-DRAIN_train/CXR8-DRAIN_PNEUMOTHORAX_slice:chest_drain_cnn_neg:pred/loss=1.16e-01, CXR8-DRAIN_valid/CXR8-DRAIN_PNEUMOTHORAX_slice:chest_drain_cnn_neg:pred/f1=8.24e-02, CXR8-DRAIN_valid/CXR8-DRAIN_PNEUMOTHORAX_slice:chest_drain_cnn_neg:pred/roc-auc=6.37e-01, CXR8-DRAIN_valid/CXR8-DRAIN_PNEUMOTHORAX_slice:chest_drain_cnn_neg:pred/accuracy=8.76e-01] model:[train/all/loss=1.16e-01, train/all/lr=5.02e-06, valid/all/loss=5.67e-01]\n",
      "[20.0 epo]: CXR8-DRAIN_PNEUMOTHORAX_slice:chest_drain_cnn_neg:pred:[CXR8-DRAIN_train/CXR8-DRAIN_PNEUMOTHORAX_slice:chest_drain_cnn_neg:pred/loss=1.07e-01, CXR8-DRAIN_valid/CXR8-DRAIN_PNEUMOTHORAX_slice:chest_drain_cnn_neg:pred/f1=8.49e-02, CXR8-DRAIN_valid/CXR8-DRAIN_PNEUMOTHORAX_slice:chest_drain_cnn_neg:pred/roc-auc=6.45e-01, CXR8-DRAIN_valid/CXR8-DRAIN_PNEUMOTHORAX_slice:chest_drain_cnn_neg:pred/accuracy=8.50e-01] model:[train/all/loss=1.07e-01, train/all/lr=1.00e-06, valid/all/loss=6.99e-01]\n",
      "[20.00 epo]: model:[train/all/lr=1.00e-06, valid/all/loss=6.99e-01] CXR8-DRAIN_PNEUMOTHORAX_slice:chest_drain_cnn_neg:pred:[CXR8-DRAIN_valid/CXR8-DRAIN_PNEUMOTHORAX_slice:chest_drain_cnn_neg:pred/f1=8.49e-02, CXR8-DRAIN_valid/CXR8-DRAIN_PNEUMOTHORAX_slice:chest_drain_cnn_neg:pred/roc-auc=6.45e-01, CXR8-DRAIN_valid/CXR8-DRAIN_PNEUMOTHORAX_slice:chest_drain_cnn_neg:pred/accuracy=8.50e-01]\n",
      "Restoring best model from iteration 6.00 with score 0.681\n"
     ]
    },
    {
     "name": "stderr",
     "output_type": "stream",
     "text": [
      "/home/jdunnmon/Research/repos/metal/metal/mmtl/trainer.py:1007: UserWarning: MeTaL does not support calculating loss on the test set.\n",
      "  warnings.warn(msg)\n"
     ]
    },
    {
     "name": "stdout",
     "output_type": "stream",
     "text": [
      "{'CXR8-DRAIN_PNEUMOTHORAX_slice:chest_drain_cnn_neg:pred/CXR8-DRAIN_test/CXR8-DRAIN_PNEUMOTHORAX_slice:chest_drain_cnn_neg:pred/accuracy': 0.7848459539717891,\n",
      " 'CXR8-DRAIN_PNEUMOTHORAX_slice:chest_drain_cnn_neg:pred/CXR8-DRAIN_test/CXR8-DRAIN_PNEUMOTHORAX_slice:chest_drain_cnn_neg:pred/f1': 0.04803941695750359,\n",
      " 'CXR8-DRAIN_PNEUMOTHORAX_slice:chest_drain_cnn_neg:pred/CXR8-DRAIN_test/CXR8-DRAIN_PNEUMOTHORAX_slice:chest_drain_cnn_neg:pred/roc-auc': 0.7182708976040826,\n",
      " 'CXR8-DRAIN_PNEUMOTHORAX_slice:chest_drain_cnn_neg:pred/CXR8-DRAIN_train/CXR8-DRAIN_PNEUMOTHORAX_slice:chest_drain_cnn_neg:pred/accuracy': 0.8318232044198896,\n",
      " 'CXR8-DRAIN_PNEUMOTHORAX_slice:chest_drain_cnn_neg:pred/CXR8-DRAIN_train/CXR8-DRAIN_PNEUMOTHORAX_slice:chest_drain_cnn_neg:pred/f1': 0.7772900204858062,\n",
      " 'CXR8-DRAIN_PNEUMOTHORAX_slice:chest_drain_cnn_neg:pred/CXR8-DRAIN_train/CXR8-DRAIN_PNEUMOTHORAX_slice:chest_drain_cnn_neg:pred/roc-auc': 0.9038623348493986,\n",
      " 'CXR8-DRAIN_PNEUMOTHORAX_slice:chest_drain_cnn_neg:pred/CXR8-DRAIN_valid/CXR8-DRAIN_PNEUMOTHORAX_slice:chest_drain_cnn_neg:pred/accuracy': 0.7899844365101163,\n",
      " 'CXR8-DRAIN_PNEUMOTHORAX_slice:chest_drain_cnn_neg:pred/CXR8-DRAIN_valid/CXR8-DRAIN_PNEUMOTHORAX_slice:chest_drain_cnn_neg:pred/f1': 0.08019246190858059,\n",
      " 'CXR8-DRAIN_PNEUMOTHORAX_slice:chest_drain_cnn_neg:pred/CXR8-DRAIN_valid/CXR8-DRAIN_PNEUMOTHORAX_slice:chest_drain_cnn_neg:pred/roc-auc': 0.6811988495638752,\n",
      " 'model/valid/all/loss': 0.5271585620492956}\n"
     ]
    },
    {
     "data": {
      "text/plain": [
       "{'CXR8-DRAIN_PNEUMOTHORAX_slice:chest_drain_cnn_neg:pred/CXR8-DRAIN_test/CXR8-DRAIN_PNEUMOTHORAX_slice:chest_drain_cnn_neg:pred/f1': 0.04803941695750359,\n",
       " 'CXR8-DRAIN_PNEUMOTHORAX_slice:chest_drain_cnn_neg:pred/CXR8-DRAIN_test/CXR8-DRAIN_PNEUMOTHORAX_slice:chest_drain_cnn_neg:pred/roc-auc': 0.7182708976040826,\n",
       " 'CXR8-DRAIN_PNEUMOTHORAX_slice:chest_drain_cnn_neg:pred/CXR8-DRAIN_test/CXR8-DRAIN_PNEUMOTHORAX_slice:chest_drain_cnn_neg:pred/accuracy': 0.7848459539717891,\n",
       " 'model/valid/all/loss': 0.5271585620492956,\n",
       " 'CXR8-DRAIN_PNEUMOTHORAX_slice:chest_drain_cnn_neg:pred/CXR8-DRAIN_valid/CXR8-DRAIN_PNEUMOTHORAX_slice:chest_drain_cnn_neg:pred/f1': 0.08019246190858059,\n",
       " 'CXR8-DRAIN_PNEUMOTHORAX_slice:chest_drain_cnn_neg:pred/CXR8-DRAIN_valid/CXR8-DRAIN_PNEUMOTHORAX_slice:chest_drain_cnn_neg:pred/roc-auc': 0.6811988495638752,\n",
       " 'CXR8-DRAIN_PNEUMOTHORAX_slice:chest_drain_cnn_neg:pred/CXR8-DRAIN_valid/CXR8-DRAIN_PNEUMOTHORAX_slice:chest_drain_cnn_neg:pred/accuracy': 0.7899844365101163,\n",
       " 'CXR8-DRAIN_PNEUMOTHORAX_slice:chest_drain_cnn_neg:pred/CXR8-DRAIN_train/CXR8-DRAIN_PNEUMOTHORAX_slice:chest_drain_cnn_neg:pred/f1': 0.7772900204858062,\n",
       " 'CXR8-DRAIN_PNEUMOTHORAX_slice:chest_drain_cnn_neg:pred/CXR8-DRAIN_train/CXR8-DRAIN_PNEUMOTHORAX_slice:chest_drain_cnn_neg:pred/roc-auc': 0.9038623348493986,\n",
       " 'CXR8-DRAIN_PNEUMOTHORAX_slice:chest_drain_cnn_neg:pred/CXR8-DRAIN_train/CXR8-DRAIN_PNEUMOTHORAX_slice:chest_drain_cnn_neg:pred/accuracy': 0.8318232044198896}"
      ]
     },
     "execution_count": 28,
     "metadata": {},
     "output_type": "execute_result"
    }
   ],
   "source": [
    "# Training model\n",
    "trainer.train_model(model, payloads, train_schedule_plan=trainer_config['train_schedule_plan'])"
   ]
  },
  {
   "cell_type": "markdown",
   "metadata": {},
   "source": [
    "## SANDBOX"
   ]
  },
  {
   "cell_type": "code",
   "execution_count": 272,
   "metadata": {},
   "outputs": [
    {
     "data": {
      "text/plain": [
       "{'CXR8-DRAIN_ATELECTASIS': 'CXR8-DRAIN_ATELECTASIS',\n",
       " 'CXR8-DRAIN_CARDIOMEGALY': 'CXR8-DRAIN_CARDIOMEGALY',\n",
       " 'CXR8-DRAIN_EFFUSION': 'CXR8-DRAIN_EFFUSION',\n",
       " 'CXR8-DRAIN_INFILTRATION': 'CXR8-DRAIN_INFILTRATION',\n",
       " 'CXR8-DRAIN_MASS': 'CXR8-DRAIN_MASS',\n",
       " 'CXR8-DRAIN_NODULE': 'CXR8-DRAIN_NODULE',\n",
       " 'CXR8-DRAIN_PNEUMONIA': 'CXR8-DRAIN_PNEUMONIA',\n",
       " 'CXR8-DRAIN_PNEUMOTHORAX': 'CXR8-DRAIN_PNEUMOTHORAX',\n",
       " 'CXR8-DRAIN_PNEUMOTHORAX_slice:chest_drain_cnn_neg:pred': 'CXR8-DRAIN_PNEUMOTHORAX_slice:chest_drain_cnn_neg:pred',\n",
       " 'CXR8-DRAIN_CONSOLIDATION': 'CXR8-DRAIN_CONSOLIDATION',\n",
       " 'CXR8-DRAIN_EDEMA': 'CXR8-DRAIN_EDEMA',\n",
       " 'CXR8-DRAIN_EMPHYSEMA': 'CXR8-DRAIN_EMPHYSEMA',\n",
       " 'CXR8-DRAIN_FIBROSIS': 'CXR8-DRAIN_FIBROSIS',\n",
       " 'CXR8-DRAIN_PLEURAL_THICKENING': 'CXR8-DRAIN_PLEURAL_THICKENING',\n",
       " 'CXR8-DRAIN_HERNIA': 'CXR8-DRAIN_HERNIA'}"
      ]
     },
     "execution_count": 272,
     "metadata": {},
     "output_type": "execute_result"
    }
   ],
   "source": [
    "payloads[0].labels_to_tasks"
   ]
  },
  {
   "cell_type": "code",
   "execution_count": 243,
   "metadata": {},
   "outputs": [
    {
     "data": {
      "text/plain": [
       "ClassificationTask(name=CXR8-DRAIN_PNEUMOTHORAX_slice:chest_drain_cnn_neg:pred, loss_multiplier=1.00)"
      ]
     },
     "execution_count": 243,
     "metadata": {},
     "output_type": "execute_result"
    }
   ],
   "source": [
    "slice_prediction_task"
   ]
  },
  {
   "cell_type": "code",
   "execution_count": 278,
   "metadata": {},
   "outputs": [
    {
     "ename": "AttributeError",
     "evalue": "'SequentialSampler' object has no attribute 'weights'",
     "output_type": "error",
     "traceback": [
      "\u001b[0;31m---------------------------------------------------------------------------\u001b[0m",
      "\u001b[0;31mAttributeError\u001b[0m                            Traceback (most recent call last)",
      "\u001b[0;32m<ipython-input-278-fea783ef4349>\u001b[0m in \u001b[0;36m<module>\u001b[0;34m\u001b[0m\n\u001b[1;32m      1\u001b[0m \u001b[0;32mimport\u001b[0m \u001b[0mtorch\u001b[0m\u001b[0;34m\u001b[0m\u001b[0;34m\u001b[0m\u001b[0m\n\u001b[0;32m----> 2\u001b[0;31m \u001b[0mnp\u001b[0m\u001b[0;34m.\u001b[0m\u001b[0munique\u001b[0m\u001b[0;34m(\u001b[0m\u001b[0mpayloads\u001b[0m\u001b[0;34m[\u001b[0m\u001b[0;36m0\u001b[0m\u001b[0;34m]\u001b[0m\u001b[0;34m.\u001b[0m\u001b[0mdata_loader\u001b[0m\u001b[0;34m.\u001b[0m\u001b[0msampler\u001b[0m\u001b[0;34m.\u001b[0m\u001b[0mweights\u001b[0m\u001b[0;34m,\u001b[0m\u001b[0mreturn_counts\u001b[0m\u001b[0;34m=\u001b[0m\u001b[0;32mTrue\u001b[0m\u001b[0;34m)\u001b[0m\u001b[0;34m\u001b[0m\u001b[0;34m\u001b[0m\u001b[0m\n\u001b[0m",
      "\u001b[0;31mAttributeError\u001b[0m: 'SequentialSampler' object has no attribute 'weights'"
     ]
    }
   ],
   "source": [
    "import torch\n",
    "#np.unique(payloads[0].data_loader.sampler.weights,return_counts=True)"
   ]
  },
  {
   "cell_type": "code",
   "execution_count": 276,
   "metadata": {},
   "outputs": [
    {
     "data": {
      "text/plain": [
       "FOLLOW-UP #                                                       11370\n",
       "PATIENT ID                                                     12032637\n",
       "PATIENT AGE           038Y042Y038Y058Y041Y065Y065Y019Y054Y057Y048Y05...\n",
       "PATIENT GENDER        FMMMMMMFMMMMFMMMFMMMFFMMMMFFMFMMFMMMFFFFFMFMMF...\n",
       "VIEW POSITION         PAAPPAAPAPAPAPPAAPAPAPPAAPPAPAPAPAAPAPPAAPPAAP...\n",
       "CARDIOMEGALY                                                         35\n",
       "EMPHYSEMA                                                            95\n",
       "EFFUSION                                                            180\n",
       "HERNIA                                                               20\n",
       "INFILTRATION                                                        169\n",
       "MASS                                                                 87\n",
       "NODULE                                                               80\n",
       "ATELECTASIS                                                         130\n",
       "PNEUMOTHORAX                                                        544\n",
       "PLEURAL_THICKENING                                                   64\n",
       "PNEUMONIA                                                            31\n",
       "FIBROSIS                                                             30\n",
       "EDEMA                                                                33\n",
       "CONSOLIDATION                                                        43\n",
       "FOLD                  valvalvalvalvalvalvalvalvalvaltestvalvalvalval...\n",
       "NORMAL                                                               20\n",
       "dtype: object"
      ]
     },
     "execution_count": 276,
     "metadata": {},
     "output_type": "execute_result"
    }
   ],
   "source": [
    "payloads[1].data_loader.dataset.df.sum()"
   ]
  },
  {
   "cell_type": "code",
   "execution_count": 280,
   "metadata": {},
   "outputs": [
    {
     "data": {
      "text/plain": [
       "262"
      ]
     },
     "execution_count": 280,
     "metadata": {},
     "output_type": "execute_result"
    }
   ],
   "source": [
    "import numpy as np\n",
    "np.sum(payloads[1].data_loader.dataset.labels['CXR8-DRAIN_PNEUMOTHORAX_slice:chest_drain_cnn_neg:pred']==2)"
   ]
  },
  {
   "cell_type": "code",
   "execution_count": 181,
   "metadata": {},
   "outputs": [
    {
     "data": {
      "text/plain": [
       "544"
      ]
     },
     "execution_count": 181,
     "metadata": {},
     "output_type": "execute_result"
    }
   ],
   "source": [
    "import numpy as np\n",
    "np.sum(payloads[1].data_loader.dataset.labels['CXR8-DRAIN_PNEUMOTHORAX']==1)"
   ]
  },
  {
   "cell_type": "code",
   "execution_count": 203,
   "metadata": {},
   "outputs": [
    {
     "data": {
      "text/plain": [
       "{'CXR8-DRAIN_ATELECTASIS': array([1, 1, 1, ..., 2, 2, 2]),\n",
       " 'CXR8-DRAIN_CARDIOMEGALY': array([2, 2, 2, ..., 2, 2, 2]),\n",
       " 'CXR8-DRAIN_EFFUSION': array([2, 2, 2, ..., 2, 2, 2]),\n",
       " 'CXR8-DRAIN_INFILTRATION': array([1, 2, 2, ..., 2, 2, 2]),\n",
       " 'CXR8-DRAIN_MASS': array([2, 2, 2, ..., 2, 2, 2]),\n",
       " 'CXR8-DRAIN_NODULE': array([2, 2, 2, ..., 2, 2, 2]),\n",
       " 'CXR8-DRAIN_PNEUMONIA': array([2, 2, 2, ..., 2, 2, 2]),\n",
       " 'CXR8-DRAIN_PNEUMOTHORAX': array([2, 2, 2, ..., 2, 2, 2]),\n",
       " 'CXR8-DRAIN_CONSOLIDATION': array([2, 2, 2, ..., 2, 2, 2]),\n",
       " 'CXR8-DRAIN_EDEMA': array([2, 2, 2, ..., 2, 2, 2]),\n",
       " 'CXR8-DRAIN_EMPHYSEMA': array([2, 2, 2, ..., 2, 2, 2]),\n",
       " 'CXR8-DRAIN_FIBROSIS': array([2, 2, 2, ..., 2, 2, 2]),\n",
       " 'CXR8-DRAIN_PLEURAL_THICKENING': array([2, 2, 2, ..., 2, 2, 2]),\n",
       " 'CXR8-DRAIN_HERNIA': array([2, 2, 2, ..., 2, 2, 2]),\n",
       " 'CXR8-DRAIN_NORMAL': array([2, 2, 2, ..., 1, 1, 1]),\n",
       " 'CXR8-DRAIN_PNEUMOTHORAX_slice:chest_drain_cnn_neg:pred': array([0, 0, 0, ..., 0, 0, 0])}"
      ]
     },
     "execution_count": 203,
     "metadata": {},
     "output_type": "execute_result"
    }
   ],
   "source": [
    "payloads[1].data_loader.dataset.labels"
   ]
  },
  {
   "cell_type": "code",
   "execution_count": 238,
   "metadata": {},
   "outputs": [
    {
     "data": {
      "text/plain": [
       "[ClassificationTask(name=CXR8-DRAIN_ATELECTASIS, loss_multiplier=1.00),\n",
       " ClassificationTask(name=CXR8-DRAIN_CARDIOMEGALY, loss_multiplier=1.00),\n",
       " ClassificationTask(name=CXR8-DRAIN_EFFUSION, loss_multiplier=1.00),\n",
       " ClassificationTask(name=CXR8-DRAIN_INFILTRATION, loss_multiplier=1.00),\n",
       " ClassificationTask(name=CXR8-DRAIN_MASS, loss_multiplier=1.00),\n",
       " ClassificationTask(name=CXR8-DRAIN_NODULE, loss_multiplier=1.00),\n",
       " ClassificationTask(name=CXR8-DRAIN_PNEUMONIA, loss_multiplier=1.00),\n",
       " ClassificationTask(name=CXR8-DRAIN_PNEUMOTHORAX, loss_multiplier=1.00),\n",
       " ClassificationTask(name=CXR8-DRAIN_PNEUMOTHORAX_slice:chest_drain_cnn_neg:pred, loss_multiplier=1.00),\n",
       " ClassificationTask(name=CXR8-DRAIN_CONSOLIDATION, loss_multiplier=1.00),\n",
       " ClassificationTask(name=CXR8-DRAIN_EDEMA, loss_multiplier=1.00),\n",
       " ClassificationTask(name=CXR8-DRAIN_EMPHYSEMA, loss_multiplier=1.00),\n",
       " ClassificationTask(name=CXR8-DRAIN_FIBROSIS, loss_multiplier=1.00),\n",
       " ClassificationTask(name=CXR8-DRAIN_PLEURAL_THICKENING, loss_multiplier=1.00),\n",
       " ClassificationTask(name=CXR8-DRAIN_HERNIA, loss_multiplier=1.00)]"
      ]
     },
     "execution_count": 238,
     "metadata": {},
     "output_type": "execute_result"
    }
   ],
   "source": [
    "tasks"
   ]
  },
  {
   "cell_type": "code",
   "execution_count": null,
   "metadata": {},
   "outputs": [],
   "source": []
  }
 ],
 "metadata": {
  "kernelspec": {
   "display_name": "Python [conda env:metal] *",
   "language": "python",
   "name": "conda-env-metal-py"
  },
  "language_info": {
   "codemirror_mode": {
    "name": "ipython",
    "version": 3
   },
   "file_extension": ".py",
   "mimetype": "text/x-python",
   "name": "python",
   "nbconvert_exporter": "python",
   "pygments_lexer": "ipython3",
   "version": "3.6.7"
  }
 },
 "nbformat": 4,
 "nbformat_minor": 2
}
